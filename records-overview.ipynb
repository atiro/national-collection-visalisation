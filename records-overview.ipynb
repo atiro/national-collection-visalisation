{
 "cells": [
  {
   "cell_type": "code",
   "execution_count": 38,
   "id": "bc077a0d-3cac-4f63-8b00-fa6d878fe2a7",
   "metadata": {
    "editable": true,
    "slideshow": {
     "slide_type": ""
    },
    "tags": [
     "remove-cell"
    ]
   },
   "outputs": [],
   "source": [
    "import pandas as pd\n",
    "import altair as alt\n",
    "records_data = pd.read_csv(\"records-sub-stats-all.csv\")"
   ]
  },
  {
   "cell_type": "markdown",
   "id": "a64fb74f-a0bf-4f52-9bdd-e0dbe7856dbb",
   "metadata": {
    "editable": true,
    "slideshow": {
     "slide_type": ""
    },
    "tags": []
   },
   "source": [
    "# Records\n",
    "\n",
    "An overview of the artefacts that have been catalogued by an institution, indicated by the availability of \n",
    "catalogue records on their website (discovered via collection search or as reported on the website or annual report).\n"
   ]
  },
  {
   "cell_type": "markdown",
   "id": "f1549d2b-a13b-4f43-af89-284adda49bda",
   "metadata": {},
   "source": [
    "## Records by cataloguing type and precision"
   ]
  },
  {
   "cell_type": "code",
   "execution_count": 33,
   "id": "02993910-d83c-4a22-96ac-404d5091ad27",
   "metadata": {
    "editable": true,
    "slideshow": {
     "slide_type": ""
    },
    "tags": [
     "remove-input"
    ]
   },
   "outputs": [
    {
     "data": {
      "text/html": [
       "\n",
       "<style>\n",
       "  #altair-viz-4edb37b0c3a04cc9b02d4a2f93765486.vega-embed {\n",
       "    width: 100%;\n",
       "    display: flex;\n",
       "  }\n",
       "\n",
       "  #altair-viz-4edb37b0c3a04cc9b02d4a2f93765486.vega-embed details,\n",
       "  #altair-viz-4edb37b0c3a04cc9b02d4a2f93765486.vega-embed details summary {\n",
       "    position: relative;\n",
       "  }\n",
       "</style>\n",
       "<div id=\"altair-viz-4edb37b0c3a04cc9b02d4a2f93765486\"></div>\n",
       "<script type=\"text/javascript\">\n",
       "  var VEGA_DEBUG = (typeof VEGA_DEBUG == \"undefined\") ? {} : VEGA_DEBUG;\n",
       "  (function(spec, embedOpt){\n",
       "    let outputDiv = document.currentScript.previousElementSibling;\n",
       "    if (outputDiv.id !== \"altair-viz-4edb37b0c3a04cc9b02d4a2f93765486\") {\n",
       "      outputDiv = document.getElementById(\"altair-viz-4edb37b0c3a04cc9b02d4a2f93765486\");\n",
       "    }\n",
       "    const paths = {\n",
       "      \"vega\": \"https://cdn.jsdelivr.net/npm/vega@5?noext\",\n",
       "      \"vega-lib\": \"https://cdn.jsdelivr.net/npm/vega-lib?noext\",\n",
       "      \"vega-lite\": \"https://cdn.jsdelivr.net/npm/vega-lite@5.17.0?noext\",\n",
       "      \"vega-embed\": \"https://cdn.jsdelivr.net/npm/vega-embed@6?noext\",\n",
       "    };\n",
       "\n",
       "    function maybeLoadScript(lib, version) {\n",
       "      var key = `${lib.replace(\"-\", \"\")}_version`;\n",
       "      return (VEGA_DEBUG[key] == version) ?\n",
       "        Promise.resolve(paths[lib]) :\n",
       "        new Promise(function(resolve, reject) {\n",
       "          var s = document.createElement('script');\n",
       "          document.getElementsByTagName(\"head\")[0].appendChild(s);\n",
       "          s.async = true;\n",
       "          s.onload = () => {\n",
       "            VEGA_DEBUG[key] = version;\n",
       "            return resolve(paths[lib]);\n",
       "          };\n",
       "          s.onerror = () => reject(`Error loading script: ${paths[lib]}`);\n",
       "          s.src = paths[lib];\n",
       "        });\n",
       "    }\n",
       "\n",
       "    function showError(err) {\n",
       "      outputDiv.innerHTML = `<div class=\"error\" style=\"color:red;\">${err}</div>`;\n",
       "      throw err;\n",
       "    }\n",
       "\n",
       "    function displayChart(vegaEmbed) {\n",
       "      vegaEmbed(outputDiv, spec, embedOpt)\n",
       "        .catch(err => showError(`Javascript Error: ${err.message}<br>This usually means there's a typo in your chart specification. See the javascript console for the full traceback.`));\n",
       "    }\n",
       "\n",
       "    if(typeof define === \"function\" && define.amd) {\n",
       "      requirejs.config({paths});\n",
       "      require([\"vega-embed\"], displayChart, err => showError(`Error loading script: ${err.message}`));\n",
       "    } else {\n",
       "      maybeLoadScript(\"vega\", \"5\")\n",
       "        .then(() => maybeLoadScript(\"vega-lite\", \"5.17.0\"))\n",
       "        .then(() => maybeLoadScript(\"vega-embed\", \"6\"))\n",
       "        .catch(showError)\n",
       "        .then(() => displayChart(vegaEmbed));\n",
       "    }\n",
       "  })({\"config\": {\"view\": {\"continuousWidth\": 300, \"continuousHeight\": 300}, \"numberFormat\": \".2s\"}, \"data\": {\"name\": \"data-5ce40cf9765744a229cc26ab8ec42a31\"}, \"mark\": {\"type\": \"bar\"}, \"encoding\": {\"color\": {\"field\": \"institution\", \"legend\": {\"columns\": 4, \"orient\": \"bottom\"}, \"sort\": \"descending\", \"type\": \"nominal\"}, \"column\": {\"field\": \"precision\", \"type\": \"ordinal\"}, \"tooltip\": [{\"field\": \"institution\", \"type\": \"nominal\"}, {\"field\": \"record_count\", \"type\": \"quantitative\"}], \"x\": {\"field\": \"record_count\", \"type\": \"quantitative\"}, \"y\": {\"field\": \"type\", \"type\": \"nominal\"}}, \"resolve\": {\"scale\": {\"x\": \"independent\"}}, \"title\": {\"text\": \"Records by cataloguing type and precision\", \"anchor\": \"middle\"}, \"width\": 350, \"$schema\": \"https://vega.github.io/schema/vega-lite/v5.17.0.json\", \"datasets\": {\"data-5ce40cf9765744a229cc26ab8ec42a31\": [{\"institution\": \"Oxford University\", \"subcollection\": \"History of Science Museum\", \"sector\": \"university\", \"type\": \"museum\", \"topic\": \"science\", \"precision\": \"estimate\", \"record_count\": 33592}, {\"institution\": \"Oxford University\", \"subcollection\": \"Museum of Natural History\", \"sector\": \"university\", \"type\": \"museum\", \"topic\": \"nature\", \"precision\": \"estimate\", \"record_count\": 505745}, {\"institution\": \"Oxford University\", \"subcollection\": \"Pitt Rivers Museum\", \"sector\": \"university\", \"type\": \"museum\", \"topic\": \"anthopology\", \"precision\": \"estimate\", \"record_count\": 513107}, {\"institution\": \"Durham University\", \"subcollection\": \"Oriental Museum\", \"sector\": \"university\", \"type\": \"museum\", \"topic\": \"art\", \"precision\": \"estimate\", \"record_count\": 33234}, {\"institution\": \"University College London\", \"subcollection\": \"Petrie Museum\", \"sector\": \"university\", \"type\": \"museum\", \"topic\": \"history\", \"precision\": \"estimate\", \"record_count\": 83455}, {\"institution\": \"University College London\", \"subcollection\": \"UCL Art Museum\", \"sector\": \"university\", \"type\": \"museum\", \"topic\": \"art\", \"precision\": \"estimate\", \"record_count\": 10712}, {\"institution\": \"University College London\", \"subcollection\": \"UCL Pathology Collection\", \"sector\": \"university\", \"type\": \"museum\", \"topic\": \"medicine\", \"precision\": \"estimate\", \"record_count\": 8817}, {\"institution\": \"University College London\", \"subcollection\": \"UCL Pathology Collection\", \"sector\": \"university\", \"type\": \"museum\", \"topic\": \"science\", \"precision\": \"estimate\", \"record_count\": 1462}, {\"institution\": \"Glasgow Woman's Library\", \"subcollection\": \"Museum Collections\", \"sector\": \"library\", \"type\": \"museum\", \"topic\": \"mixed\", \"precision\": \"estimate\", \"record_count\": 3567}, {\"institution\": \"National Museum of the Royal Navy\", \"subcollection\": \"Museum Collection\", \"sector\": \"national-institution\", \"type\": \"museum\", \"topic\": \"architecture\", \"precision\": \"estimate\", \"record_count\": 195690}, {\"institution\": \"National Museums Scotland\", \"subcollection\": \"Museum Collection\", \"sector\": \"national-institution\", \"type\": \"museum\", \"topic\": \"architecture\", \"precision\": \"estimate\", \"record_count\": 820000}, {\"institution\": \"National Waterways Museum\", \"subcollection\": \"Museum Collection\", \"sector\": \"national-institution\", \"type\": \"museum\", \"topic\": \"transport\", \"precision\": \"estimate\", \"record_count\": 4574}, {\"institution\": \"Royal Collection Trust\", \"subcollection\": \"Museum Collection\", \"sector\": \"national-institution\", \"type\": \"museum\", \"topic\": \"transport\", \"precision\": \"estimate\", \"record_count\": 289520}, {\"institution\": \"Government Art Collection\", \"subcollection\": \"Museum Collection\", \"sector\": \"national-institution\", \"type\": \"museum\", \"topic\": \"transport\", \"precision\": \"estimate\", \"record_count\": 15247}, {\"institution\": \"Courtauld Gallery\", \"subcollection\": \"Museum Collection\", \"sector\": \"independent\", \"type\": \"museum\", \"topic\": \"transport\", \"precision\": \"estimate\", \"record_count\": 33501}, {\"institution\": \"Dulwich Picture Gallery\", \"subcollection\": \"Museum Collection\", \"sector\": \"independent\", \"type\": \"museum\", \"topic\": \"transport\", \"precision\": \"estimate\", \"record_count\": 33501}, {\"institution\": \"Dundee Heritage Trust\", \"subcollection\": \"Martime\", \"sector\": \"regional\", \"type\": \"museum\", \"topic\": \"maritime\", \"precision\": \"estimate\", \"record_count\": 2411}, {\"institution\": \"Dundee Heritage Trust\", \"subcollection\": \"Textiles\", \"sector\": \"regional\", \"type\": \"museum\", \"topic\": \"fashion\", \"precision\": \"estimate\", \"record_count\": 5864}, {\"institution\": \"Dundee Heritage Trust\", \"subcollection\": \"Dundee and Social History\", \"sector\": \"regional\", \"type\": \"museum\", \"topic\": \"social\", \"precision\": \"estimate\", \"record_count\": 317}, {\"institution\": \"Victoria & Albert Museum\", \"subcollection\": \"Victoria & Albert Museum\", \"sector\": \"dcms\", \"type\": \"museum\", \"topic\": \"art\", \"precision\": \"exact\", \"record_count\": 1282171}, {\"institution\": \"Museum of the Home\", \"subcollection\": \"Museum of the Home\", \"sector\": \"dcms\", \"type\": \"museum\", \"topic\": \"history\", \"precision\": \"exact\", \"record_count\": 12200}, {\"institution\": \"Horniman Museum\", \"subcollection\": \"Museum Collection\", \"sector\": \"dcms\", \"type\": \"museum\", \"topic\": \"history\", \"precision\": \"estimate\", \"record_count\": 132612}, {\"institution\": \"Imperial War Museums\", \"subcollection\": \"Museum Collection\", \"sector\": \"dcms\", \"type\": \"museum\", \"topic\": \"history\", \"precision\": \"estimate\", \"record_count\": 1737698}, {\"institution\": \"National Gallery\", \"subcollection\": \"Museum Collection\", \"sector\": \"dcms\", \"type\": \"museum\", \"topic\": \"history\", \"precision\": \"estimate\", \"record_count\": 2626}, {\"institution\": \"National Museums Liverpool\", \"subcollection\": \"Museum Collection\", \"sector\": \"dcms\", \"type\": \"museum\", \"topic\": \"history\", \"precision\": \"estimate\", \"record_count\": 73682}, {\"institution\": \"National Portrait Gallery\", \"subcollection\": \"Museum Collection\", \"sector\": \"dcms\", \"type\": \"museum\", \"topic\": \"history\", \"precision\": \"estimate\", \"record_count\": 220000}, {\"institution\": \"Natural History Museum\", \"subcollection\": \"Entomology collections\", \"sector\": \"dcms\", \"type\": \"museum\", \"topic\": \"nature\", \"precision\": \"estimate\", \"record_count\": 34000000}, {\"institution\": \"Natural History Museum\", \"subcollection\": \"Botany collections\", \"sector\": \"dcms\", \"type\": \"museum\", \"topic\": \"nature\", \"precision\": \"estimate\", \"record_count\": 6000000}, {\"institution\": \"Natural History Museum\", \"subcollection\": \"Zooology collections\", \"sector\": \"dcms\", \"type\": \"museum\", \"topic\": \"nature\", \"precision\": \"estimate\", \"record_count\": 29000000}, {\"institution\": \"Natural History Museum\", \"subcollection\": \"Palaeontology collections\", \"sector\": \"dcms\", \"type\": \"museum\", \"topic\": \"nature\", \"precision\": \"estimate\", \"record_count\": 7000000}, {\"institution\": \"Natural History Museum\", \"subcollection\": \"Mineralogy collections\", \"sector\": \"dcms\", \"type\": \"museum\", \"topic\": \"nature\", \"precision\": \"estimate\", \"record_count\": 500000}, {\"institution\": \"Natural History Museum\", \"subcollection\": \"Library and archive collections\", \"sector\": \"dcms\", \"type\": \"library\", \"topic\": \"nature\", \"precision\": \"estimate\", \"record_count\": 1500000}, {\"institution\": \"Royal Armouries\", \"subcollection\": \"Museum Collection\", \"sector\": \"dcms\", \"type\": \"museum\", \"topic\": \"nature\", \"precision\": \"estimate\", \"record_count\": 65627}, {\"institution\": \"Sir John Soane's Museum\", \"subcollection\": \"Museum Collection\", \"sector\": \"dcms\", \"type\": \"museum\", \"topic\": \"nature\", \"precision\": \"estimate\", \"record_count\": 57164}, {\"institution\": \"Tate Gallery Group\", \"subcollection\": \"Museum Collection\", \"sector\": \"dcms\", \"type\": \"museum\", \"topic\": \"nature\", \"precision\": \"estimate\", \"record_count\": 79236}, {\"institution\": \"British Museum\", \"subcollection\": \"Museum Collection\", \"sector\": \"dcms\", \"type\": \"museum\", \"topic\": \"nature\", \"precision\": \"estimate\", \"record_count\": 2000000}, {\"institution\": \"Oxford University\", \"subcollection\": \"History of Science Museum\", \"sector\": \"university\", \"type\": \"museum\", \"topic\": \"science\", \"precision\": \"estimate\", \"record_count\": 21011}, {\"institution\": \"Oxford University\", \"subcollection\": \"Bodleian Library\", \"sector\": \"university\", \"type\": \"library\", \"topic\": \"national\", \"precision\": \"estimate\", \"record_count\": 8000000}, {\"institution\": \"Manchester Metropolitan Unversity\", \"subcollection\": \"Special Collections\", \"sector\": \"university\", \"type\": \"library\", \"topic\": \"mixed\", \"precision\": \"estimate\", \"record_count\": 28600}, {\"institution\": \"SOAS, University of London\", \"subcollection\": \"Special Collections\", \"sector\": \"university\", \"type\": \"library\", \"topic\": \"mixed\", \"precision\": \"estimate\", \"record_count\": 40337}, {\"institution\": \"University of Reading\", \"subcollection\": \"Library Collection\", \"sector\": \"university\", \"type\": \"library\", \"topic\": \"history\", \"precision\": \"estimate\", \"record_count\": 0}, {\"institution\": \"Lambeth Palace Library\", \"subcollection\": \"Sion College Collections\", \"sector\": \"library\", \"type\": \"library\", \"topic\": \"theology\", \"precision\": \"estimate\", \"record_count\": 15000}, {\"institution\": \"National Museum of the Royal Navy\", \"subcollection\": \"Library Collection\", \"sector\": \"national-institution\", \"type\": \"library\", \"topic\": \"architecture\", \"precision\": \"estimate\", \"record_count\": 195690}, {\"institution\": \"Victoria & Albert Museum\", \"subcollection\": \"National Art Library\", \"sector\": \"dcms\", \"type\": \"library\", \"topic\": \"art\", \"precision\": \"estimate\", \"record_count\": 849000}, {\"institution\": \"Museum of the Home\", \"subcollection\": \"Library Collection\", \"sector\": \"dcms\", \"type\": \"library\", \"topic\": \"history\", \"precision\": \"exact\", \"record_count\": 6290}, {\"institution\": \"Royal Armouries\", \"subcollection\": \"Library Collection\", \"sector\": \"dcms\", \"type\": \"library\", \"topic\": \"nature\", \"precision\": \"estimate\", \"record_count\": 65627}, {\"institution\": \"Sir John Soane's Museum\", \"subcollection\": \"Library Collection\", \"sector\": \"dcms\", \"type\": \"library\", \"topic\": \"nature\", \"precision\": \"estimate\", \"record_count\": 57164}, {\"institution\": \"Unversity of Warwick\", \"subcollection\": \"Modern Records Centre\", \"sector\": \"university\", \"type\": \"archive\", \"topic\": \"mixed\", \"precision\": \"exact\", \"record_count\": 367655}, {\"institution\": \"University of Reading\", \"subcollection\": \"Archive Collection\", \"sector\": \"university\", \"type\": \"archive\", \"topic\": \"history\", \"precision\": \"estimate\", \"record_count\": 186216}, {\"institution\": \"National Waterways Museum\", \"subcollection\": \"Archive Collection\", \"sector\": \"national-institution\", \"type\": \"archive\", \"topic\": \"transport\", \"precision\": \"estimate\", \"record_count\": 53195}, {\"institution\": \"Historic England Archive\", \"subcollection\": \"Archive Collection\", \"sector\": \"national-institution\", \"type\": \"archive\", \"topic\": \"transport\", \"precision\": \"estimate\", \"record_count\": 1000000}, {\"institution\": \"Historic Environment\", \"subcollection\": \"Archive Collection\", \"sector\": \"national-institution\", \"type\": \"archive\", \"topic\": \"transport\", \"precision\": \"estimate\", \"record_count\": 1000000}, {\"institution\": \"Gwynedd Archive Services\", \"subcollection\": \"Archive Collection\", \"sector\": \"archives\", \"type\": \"archive\", \"topic\": \"transport\", \"precision\": \"estimate\", \"record_count\": 12000}, {\"institution\": \"Hampshire Archives and Local Studies\", \"subcollection\": \"Archive Collection\", \"sector\": \"archives\", \"type\": \"archive\", \"topic\": \"transport\", \"precision\": \"estimate\", \"record_count\": 1000000}, {\"institution\": \"Kresen Kernow\", \"subcollection\": \"Archive Collection\", \"sector\": \"archives\", \"type\": \"archive\", \"topic\": \"transport\", \"precision\": \"estimate\", \"record_count\": 614909}, {\"institution\": \"Bradford District Museums & Galleries\", \"subcollection\": \"Photographic Archive\", \"sector\": \"regional\", \"type\": \"archive\", \"topic\": \"mixed\", \"precision\": \"estimate\", \"record_count\": 21878}, {\"institution\": \"Victoria & Albert Museum\", \"subcollection\": \"Victoria & Albert Museum Archives\", \"sector\": \"dcms\", \"type\": \"archive\", \"topic\": \"art\", \"precision\": \"exact\", \"record_count\": 157835}, {\"institution\": \"Royal Armouries\", \"subcollection\": \"Archive Collection\", \"sector\": \"dcms\", \"type\": \"archive\", \"topic\": \"nature\", \"precision\": \"estimate\", \"record_count\": 130130}, {\"institution\": \"Sir John Soane's Museum\", \"subcollection\": \"Archive Collection\", \"sector\": \"dcms\", \"type\": \"archive\", \"topic\": \"nature\", \"precision\": \"estimate\", \"record_count\": 0}, {\"institution\": \"Tate Gallery Group\", \"subcollection\": \"Archive Collection\", \"sector\": \"dcms\", \"type\": \"archive\", \"topic\": \"nature\", \"precision\": \"estimate\", \"record_count\": 807060}]}}, {\"mode\": \"vega-lite\"});\n",
       "</script>"
      ],
      "text/plain": [
       "alt.Chart(...)"
      ]
     },
     "execution_count": 33,
     "metadata": {},
     "output_type": "execute_result"
    }
   ],
   "source": [
    "title = alt.TitleParams('Records by cataloguing type and precision', anchor='middle')\n",
    "alt.Chart(records_data, title=title).mark_bar().encode(\n",
    "    color=alt.Color('institution:N', sort='descending', legend=alt.Legend(orient='bottom',columns=4)),\n",
    "    column='precision:O',\n",
    "    x='record_count:Q',\n",
    "    tooltip=['institution', 'record_count'],\n",
    "    y='type:N',\n",
    ").properties(width=350).resolve_scale(x='independent').configure(numberFormat='.2s')"
   ]
  },
  {
   "cell_type": "markdown",
   "id": "5bc40033-abe3-48ba-a49e-dda1c5ad6544",
   "metadata": {},
   "source": [
    "## Records by topic and precision"
   ]
  },
  {
   "cell_type": "code",
   "execution_count": 34,
   "id": "885d9dc3-a582-4a0b-a2f8-223382d2b87c",
   "metadata": {
    "editable": true,
    "slideshow": {
     "slide_type": ""
    },
    "tags": [
     "hide-input",
     "remove-input"
    ]
   },
   "outputs": [
    {
     "data": {
      "text/html": [
       "\n",
       "<style>\n",
       "  #altair-viz-f95e0d0b0440438c889197f6326e4375.vega-embed {\n",
       "    width: 100%;\n",
       "    display: flex;\n",
       "  }\n",
       "\n",
       "  #altair-viz-f95e0d0b0440438c889197f6326e4375.vega-embed details,\n",
       "  #altair-viz-f95e0d0b0440438c889197f6326e4375.vega-embed details summary {\n",
       "    position: relative;\n",
       "  }\n",
       "</style>\n",
       "<div id=\"altair-viz-f95e0d0b0440438c889197f6326e4375\"></div>\n",
       "<script type=\"text/javascript\">\n",
       "  var VEGA_DEBUG = (typeof VEGA_DEBUG == \"undefined\") ? {} : VEGA_DEBUG;\n",
       "  (function(spec, embedOpt){\n",
       "    let outputDiv = document.currentScript.previousElementSibling;\n",
       "    if (outputDiv.id !== \"altair-viz-f95e0d0b0440438c889197f6326e4375\") {\n",
       "      outputDiv = document.getElementById(\"altair-viz-f95e0d0b0440438c889197f6326e4375\");\n",
       "    }\n",
       "    const paths = {\n",
       "      \"vega\": \"https://cdn.jsdelivr.net/npm/vega@5?noext\",\n",
       "      \"vega-lib\": \"https://cdn.jsdelivr.net/npm/vega-lib?noext\",\n",
       "      \"vega-lite\": \"https://cdn.jsdelivr.net/npm/vega-lite@5.17.0?noext\",\n",
       "      \"vega-embed\": \"https://cdn.jsdelivr.net/npm/vega-embed@6?noext\",\n",
       "    };\n",
       "\n",
       "    function maybeLoadScript(lib, version) {\n",
       "      var key = `${lib.replace(\"-\", \"\")}_version`;\n",
       "      return (VEGA_DEBUG[key] == version) ?\n",
       "        Promise.resolve(paths[lib]) :\n",
       "        new Promise(function(resolve, reject) {\n",
       "          var s = document.createElement('script');\n",
       "          document.getElementsByTagName(\"head\")[0].appendChild(s);\n",
       "          s.async = true;\n",
       "          s.onload = () => {\n",
       "            VEGA_DEBUG[key] = version;\n",
       "            return resolve(paths[lib]);\n",
       "          };\n",
       "          s.onerror = () => reject(`Error loading script: ${paths[lib]}`);\n",
       "          s.src = paths[lib];\n",
       "        });\n",
       "    }\n",
       "\n",
       "    function showError(err) {\n",
       "      outputDiv.innerHTML = `<div class=\"error\" style=\"color:red;\">${err}</div>`;\n",
       "      throw err;\n",
       "    }\n",
       "\n",
       "    function displayChart(vegaEmbed) {\n",
       "      vegaEmbed(outputDiv, spec, embedOpt)\n",
       "        .catch(err => showError(`Javascript Error: ${err.message}<br>This usually means there's a typo in your chart specification. See the javascript console for the full traceback.`));\n",
       "    }\n",
       "\n",
       "    if(typeof define === \"function\" && define.amd) {\n",
       "      requirejs.config({paths});\n",
       "      require([\"vega-embed\"], displayChart, err => showError(`Error loading script: ${err.message}`));\n",
       "    } else {\n",
       "      maybeLoadScript(\"vega\", \"5\")\n",
       "        .then(() => maybeLoadScript(\"vega-lite\", \"5.17.0\"))\n",
       "        .then(() => maybeLoadScript(\"vega-embed\", \"6\"))\n",
       "        .catch(showError)\n",
       "        .then(() => displayChart(vegaEmbed));\n",
       "    }\n",
       "  })({\"config\": {\"view\": {\"continuousWidth\": 300, \"continuousHeight\": 300}, \"numberFormat\": \".2s\"}, \"data\": {\"name\": \"data-5ce40cf9765744a229cc26ab8ec42a31\"}, \"mark\": {\"type\": \"bar\"}, \"encoding\": {\"color\": {\"field\": \"institution\", \"legend\": {\"columns\": 4, \"orient\": \"bottom\"}, \"sort\": \"descending\", \"type\": \"nominal\"}, \"column\": {\"field\": \"precision\", \"type\": \"ordinal\"}, \"tooltip\": [{\"field\": \"institution\", \"type\": \"nominal\"}, {\"field\": \"record_count\", \"type\": \"quantitative\"}], \"x\": {\"field\": \"record_count\", \"type\": \"quantitative\"}, \"y\": {\"field\": \"topic\", \"type\": \"nominal\"}}, \"resolve\": {\"scale\": {\"x\": \"independent\"}}, \"title\": {\"text\": \"Records by topic and precision\", \"anchor\": \"middle\"}, \"width\": 350, \"$schema\": \"https://vega.github.io/schema/vega-lite/v5.17.0.json\", \"datasets\": {\"data-5ce40cf9765744a229cc26ab8ec42a31\": [{\"institution\": \"Oxford University\", \"subcollection\": \"History of Science Museum\", \"sector\": \"university\", \"type\": \"museum\", \"topic\": \"science\", \"precision\": \"estimate\", \"record_count\": 33592}, {\"institution\": \"Oxford University\", \"subcollection\": \"Museum of Natural History\", \"sector\": \"university\", \"type\": \"museum\", \"topic\": \"nature\", \"precision\": \"estimate\", \"record_count\": 505745}, {\"institution\": \"Oxford University\", \"subcollection\": \"Pitt Rivers Museum\", \"sector\": \"university\", \"type\": \"museum\", \"topic\": \"anthopology\", \"precision\": \"estimate\", \"record_count\": 513107}, {\"institution\": \"Durham University\", \"subcollection\": \"Oriental Museum\", \"sector\": \"university\", \"type\": \"museum\", \"topic\": \"art\", \"precision\": \"estimate\", \"record_count\": 33234}, {\"institution\": \"University College London\", \"subcollection\": \"Petrie Museum\", \"sector\": \"university\", \"type\": \"museum\", \"topic\": \"history\", \"precision\": \"estimate\", \"record_count\": 83455}, {\"institution\": \"University College London\", \"subcollection\": \"UCL Art Museum\", \"sector\": \"university\", \"type\": \"museum\", \"topic\": \"art\", \"precision\": \"estimate\", \"record_count\": 10712}, {\"institution\": \"University College London\", \"subcollection\": \"UCL Pathology Collection\", \"sector\": \"university\", \"type\": \"museum\", \"topic\": \"medicine\", \"precision\": \"estimate\", \"record_count\": 8817}, {\"institution\": \"University College London\", \"subcollection\": \"UCL Pathology Collection\", \"sector\": \"university\", \"type\": \"museum\", \"topic\": \"science\", \"precision\": \"estimate\", \"record_count\": 1462}, {\"institution\": \"Glasgow Woman's Library\", \"subcollection\": \"Museum Collections\", \"sector\": \"library\", \"type\": \"museum\", \"topic\": \"mixed\", \"precision\": \"estimate\", \"record_count\": 3567}, {\"institution\": \"National Museum of the Royal Navy\", \"subcollection\": \"Museum Collection\", \"sector\": \"national-institution\", \"type\": \"museum\", \"topic\": \"architecture\", \"precision\": \"estimate\", \"record_count\": 195690}, {\"institution\": \"National Museums Scotland\", \"subcollection\": \"Museum Collection\", \"sector\": \"national-institution\", \"type\": \"museum\", \"topic\": \"architecture\", \"precision\": \"estimate\", \"record_count\": 820000}, {\"institution\": \"National Waterways Museum\", \"subcollection\": \"Museum Collection\", \"sector\": \"national-institution\", \"type\": \"museum\", \"topic\": \"transport\", \"precision\": \"estimate\", \"record_count\": 4574}, {\"institution\": \"Royal Collection Trust\", \"subcollection\": \"Museum Collection\", \"sector\": \"national-institution\", \"type\": \"museum\", \"topic\": \"transport\", \"precision\": \"estimate\", \"record_count\": 289520}, {\"institution\": \"Government Art Collection\", \"subcollection\": \"Museum Collection\", \"sector\": \"national-institution\", \"type\": \"museum\", \"topic\": \"transport\", \"precision\": \"estimate\", \"record_count\": 15247}, {\"institution\": \"Courtauld Gallery\", \"subcollection\": \"Museum Collection\", \"sector\": \"independent\", \"type\": \"museum\", \"topic\": \"transport\", \"precision\": \"estimate\", \"record_count\": 33501}, {\"institution\": \"Dulwich Picture Gallery\", \"subcollection\": \"Museum Collection\", \"sector\": \"independent\", \"type\": \"museum\", \"topic\": \"transport\", \"precision\": \"estimate\", \"record_count\": 33501}, {\"institution\": \"Dundee Heritage Trust\", \"subcollection\": \"Martime\", \"sector\": \"regional\", \"type\": \"museum\", \"topic\": \"maritime\", \"precision\": \"estimate\", \"record_count\": 2411}, {\"institution\": \"Dundee Heritage Trust\", \"subcollection\": \"Textiles\", \"sector\": \"regional\", \"type\": \"museum\", \"topic\": \"fashion\", \"precision\": \"estimate\", \"record_count\": 5864}, {\"institution\": \"Dundee Heritage Trust\", \"subcollection\": \"Dundee and Social History\", \"sector\": \"regional\", \"type\": \"museum\", \"topic\": \"social\", \"precision\": \"estimate\", \"record_count\": 317}, {\"institution\": \"Victoria & Albert Museum\", \"subcollection\": \"Victoria & Albert Museum\", \"sector\": \"dcms\", \"type\": \"museum\", \"topic\": \"art\", \"precision\": \"exact\", \"record_count\": 1282171}, {\"institution\": \"Museum of the Home\", \"subcollection\": \"Museum of the Home\", \"sector\": \"dcms\", \"type\": \"museum\", \"topic\": \"history\", \"precision\": \"exact\", \"record_count\": 12200}, {\"institution\": \"Horniman Museum\", \"subcollection\": \"Museum Collection\", \"sector\": \"dcms\", \"type\": \"museum\", \"topic\": \"history\", \"precision\": \"estimate\", \"record_count\": 132612}, {\"institution\": \"Imperial War Museums\", \"subcollection\": \"Museum Collection\", \"sector\": \"dcms\", \"type\": \"museum\", \"topic\": \"history\", \"precision\": \"estimate\", \"record_count\": 1737698}, {\"institution\": \"National Gallery\", \"subcollection\": \"Museum Collection\", \"sector\": \"dcms\", \"type\": \"museum\", \"topic\": \"history\", \"precision\": \"estimate\", \"record_count\": 2626}, {\"institution\": \"National Museums Liverpool\", \"subcollection\": \"Museum Collection\", \"sector\": \"dcms\", \"type\": \"museum\", \"topic\": \"history\", \"precision\": \"estimate\", \"record_count\": 73682}, {\"institution\": \"National Portrait Gallery\", \"subcollection\": \"Museum Collection\", \"sector\": \"dcms\", \"type\": \"museum\", \"topic\": \"history\", \"precision\": \"estimate\", \"record_count\": 220000}, {\"institution\": \"Natural History Museum\", \"subcollection\": \"Entomology collections\", \"sector\": \"dcms\", \"type\": \"museum\", \"topic\": \"nature\", \"precision\": \"estimate\", \"record_count\": 34000000}, {\"institution\": \"Natural History Museum\", \"subcollection\": \"Botany collections\", \"sector\": \"dcms\", \"type\": \"museum\", \"topic\": \"nature\", \"precision\": \"estimate\", \"record_count\": 6000000}, {\"institution\": \"Natural History Museum\", \"subcollection\": \"Zooology collections\", \"sector\": \"dcms\", \"type\": \"museum\", \"topic\": \"nature\", \"precision\": \"estimate\", \"record_count\": 29000000}, {\"institution\": \"Natural History Museum\", \"subcollection\": \"Palaeontology collections\", \"sector\": \"dcms\", \"type\": \"museum\", \"topic\": \"nature\", \"precision\": \"estimate\", \"record_count\": 7000000}, {\"institution\": \"Natural History Museum\", \"subcollection\": \"Mineralogy collections\", \"sector\": \"dcms\", \"type\": \"museum\", \"topic\": \"nature\", \"precision\": \"estimate\", \"record_count\": 500000}, {\"institution\": \"Natural History Museum\", \"subcollection\": \"Library and archive collections\", \"sector\": \"dcms\", \"type\": \"library\", \"topic\": \"nature\", \"precision\": \"estimate\", \"record_count\": 1500000}, {\"institution\": \"Royal Armouries\", \"subcollection\": \"Museum Collection\", \"sector\": \"dcms\", \"type\": \"museum\", \"topic\": \"nature\", \"precision\": \"estimate\", \"record_count\": 65627}, {\"institution\": \"Sir John Soane's Museum\", \"subcollection\": \"Museum Collection\", \"sector\": \"dcms\", \"type\": \"museum\", \"topic\": \"nature\", \"precision\": \"estimate\", \"record_count\": 57164}, {\"institution\": \"Tate Gallery Group\", \"subcollection\": \"Museum Collection\", \"sector\": \"dcms\", \"type\": \"museum\", \"topic\": \"nature\", \"precision\": \"estimate\", \"record_count\": 79236}, {\"institution\": \"British Museum\", \"subcollection\": \"Museum Collection\", \"sector\": \"dcms\", \"type\": \"museum\", \"topic\": \"nature\", \"precision\": \"estimate\", \"record_count\": 2000000}, {\"institution\": \"Oxford University\", \"subcollection\": \"History of Science Museum\", \"sector\": \"university\", \"type\": \"museum\", \"topic\": \"science\", \"precision\": \"estimate\", \"record_count\": 21011}, {\"institution\": \"Oxford University\", \"subcollection\": \"Bodleian Library\", \"sector\": \"university\", \"type\": \"library\", \"topic\": \"national\", \"precision\": \"estimate\", \"record_count\": 8000000}, {\"institution\": \"Manchester Metropolitan Unversity\", \"subcollection\": \"Special Collections\", \"sector\": \"university\", \"type\": \"library\", \"topic\": \"mixed\", \"precision\": \"estimate\", \"record_count\": 28600}, {\"institution\": \"SOAS, University of London\", \"subcollection\": \"Special Collections\", \"sector\": \"university\", \"type\": \"library\", \"topic\": \"mixed\", \"precision\": \"estimate\", \"record_count\": 40337}, {\"institution\": \"University of Reading\", \"subcollection\": \"Library Collection\", \"sector\": \"university\", \"type\": \"library\", \"topic\": \"history\", \"precision\": \"estimate\", \"record_count\": 0}, {\"institution\": \"Lambeth Palace Library\", \"subcollection\": \"Sion College Collections\", \"sector\": \"library\", \"type\": \"library\", \"topic\": \"theology\", \"precision\": \"estimate\", \"record_count\": 15000}, {\"institution\": \"National Museum of the Royal Navy\", \"subcollection\": \"Library Collection\", \"sector\": \"national-institution\", \"type\": \"library\", \"topic\": \"architecture\", \"precision\": \"estimate\", \"record_count\": 195690}, {\"institution\": \"Victoria & Albert Museum\", \"subcollection\": \"National Art Library\", \"sector\": \"dcms\", \"type\": \"library\", \"topic\": \"art\", \"precision\": \"estimate\", \"record_count\": 849000}, {\"institution\": \"Museum of the Home\", \"subcollection\": \"Library Collection\", \"sector\": \"dcms\", \"type\": \"library\", \"topic\": \"history\", \"precision\": \"exact\", \"record_count\": 6290}, {\"institution\": \"Royal Armouries\", \"subcollection\": \"Library Collection\", \"sector\": \"dcms\", \"type\": \"library\", \"topic\": \"nature\", \"precision\": \"estimate\", \"record_count\": 65627}, {\"institution\": \"Sir John Soane's Museum\", \"subcollection\": \"Library Collection\", \"sector\": \"dcms\", \"type\": \"library\", \"topic\": \"nature\", \"precision\": \"estimate\", \"record_count\": 57164}, {\"institution\": \"Unversity of Warwick\", \"subcollection\": \"Modern Records Centre\", \"sector\": \"university\", \"type\": \"archive\", \"topic\": \"mixed\", \"precision\": \"exact\", \"record_count\": 367655}, {\"institution\": \"University of Reading\", \"subcollection\": \"Archive Collection\", \"sector\": \"university\", \"type\": \"archive\", \"topic\": \"history\", \"precision\": \"estimate\", \"record_count\": 186216}, {\"institution\": \"National Waterways Museum\", \"subcollection\": \"Archive Collection\", \"sector\": \"national-institution\", \"type\": \"archive\", \"topic\": \"transport\", \"precision\": \"estimate\", \"record_count\": 53195}, {\"institution\": \"Historic England Archive\", \"subcollection\": \"Archive Collection\", \"sector\": \"national-institution\", \"type\": \"archive\", \"topic\": \"transport\", \"precision\": \"estimate\", \"record_count\": 1000000}, {\"institution\": \"Historic Environment\", \"subcollection\": \"Archive Collection\", \"sector\": \"national-institution\", \"type\": \"archive\", \"topic\": \"transport\", \"precision\": \"estimate\", \"record_count\": 1000000}, {\"institution\": \"Gwynedd Archive Services\", \"subcollection\": \"Archive Collection\", \"sector\": \"archives\", \"type\": \"archive\", \"topic\": \"transport\", \"precision\": \"estimate\", \"record_count\": 12000}, {\"institution\": \"Hampshire Archives and Local Studies\", \"subcollection\": \"Archive Collection\", \"sector\": \"archives\", \"type\": \"archive\", \"topic\": \"transport\", \"precision\": \"estimate\", \"record_count\": 1000000}, {\"institution\": \"Kresen Kernow\", \"subcollection\": \"Archive Collection\", \"sector\": \"archives\", \"type\": \"archive\", \"topic\": \"transport\", \"precision\": \"estimate\", \"record_count\": 614909}, {\"institution\": \"Bradford District Museums & Galleries\", \"subcollection\": \"Photographic Archive\", \"sector\": \"regional\", \"type\": \"archive\", \"topic\": \"mixed\", \"precision\": \"estimate\", \"record_count\": 21878}, {\"institution\": \"Victoria & Albert Museum\", \"subcollection\": \"Victoria & Albert Museum Archives\", \"sector\": \"dcms\", \"type\": \"archive\", \"topic\": \"art\", \"precision\": \"exact\", \"record_count\": 157835}, {\"institution\": \"Royal Armouries\", \"subcollection\": \"Archive Collection\", \"sector\": \"dcms\", \"type\": \"archive\", \"topic\": \"nature\", \"precision\": \"estimate\", \"record_count\": 130130}, {\"institution\": \"Sir John Soane's Museum\", \"subcollection\": \"Archive Collection\", \"sector\": \"dcms\", \"type\": \"archive\", \"topic\": \"nature\", \"precision\": \"estimate\", \"record_count\": 0}, {\"institution\": \"Tate Gallery Group\", \"subcollection\": \"Archive Collection\", \"sector\": \"dcms\", \"type\": \"archive\", \"topic\": \"nature\", \"precision\": \"estimate\", \"record_count\": 807060}]}}, {\"mode\": \"vega-lite\"});\n",
       "</script>"
      ],
      "text/plain": [
       "alt.Chart(...)"
      ]
     },
     "execution_count": 34,
     "metadata": {},
     "output_type": "execute_result"
    }
   ],
   "source": [
    "title = alt.TitleParams('Records by topic and precision', anchor='middle')\n",
    "alt.Chart(records_data, title=title).mark_bar().encode(\n",
    "    color=alt.Color('institution:N', sort='descending', legend=alt.Legend(orient='bottom',columns=4)),\n",
    "    column='precision:O',\n",
    "    x='record_count:Q',\n",
    "    tooltip=['institution', 'record_count'],\n",
    "    y='topic:N',\n",
    ").properties(width=350).resolve_scale(x='independent').configure(numberFormat='.2s')"
   ]
  },
  {
   "cell_type": "markdown",
   "id": "7e31a5bf-a92e-4d0a-b8cd-5fd9ec0c9b8a",
   "metadata": {},
   "source": [
    "## Record count by sector"
   ]
  },
  {
   "cell_type": "code",
   "execution_count": 35,
   "id": "7783232a-c1a5-4372-bc71-5f13c7e85d77",
   "metadata": {
    "editable": true,
    "slideshow": {
     "slide_type": ""
    },
    "tags": [
     "hide-input",
     "remove-input"
    ]
   },
   "outputs": [
    {
     "data": {
      "text/html": [
       "\n",
       "<style>\n",
       "  #altair-viz-4663f048af364088b98381f186c26cc0.vega-embed {\n",
       "    width: 100%;\n",
       "    display: flex;\n",
       "  }\n",
       "\n",
       "  #altair-viz-4663f048af364088b98381f186c26cc0.vega-embed details,\n",
       "  #altair-viz-4663f048af364088b98381f186c26cc0.vega-embed details summary {\n",
       "    position: relative;\n",
       "  }\n",
       "</style>\n",
       "<div id=\"altair-viz-4663f048af364088b98381f186c26cc0\"></div>\n",
       "<script type=\"text/javascript\">\n",
       "  var VEGA_DEBUG = (typeof VEGA_DEBUG == \"undefined\") ? {} : VEGA_DEBUG;\n",
       "  (function(spec, embedOpt){\n",
       "    let outputDiv = document.currentScript.previousElementSibling;\n",
       "    if (outputDiv.id !== \"altair-viz-4663f048af364088b98381f186c26cc0\") {\n",
       "      outputDiv = document.getElementById(\"altair-viz-4663f048af364088b98381f186c26cc0\");\n",
       "    }\n",
       "    const paths = {\n",
       "      \"vega\": \"https://cdn.jsdelivr.net/npm/vega@5?noext\",\n",
       "      \"vega-lib\": \"https://cdn.jsdelivr.net/npm/vega-lib?noext\",\n",
       "      \"vega-lite\": \"https://cdn.jsdelivr.net/npm/vega-lite@5.17.0?noext\",\n",
       "      \"vega-embed\": \"https://cdn.jsdelivr.net/npm/vega-embed@6?noext\",\n",
       "    };\n",
       "\n",
       "    function maybeLoadScript(lib, version) {\n",
       "      var key = `${lib.replace(\"-\", \"\")}_version`;\n",
       "      return (VEGA_DEBUG[key] == version) ?\n",
       "        Promise.resolve(paths[lib]) :\n",
       "        new Promise(function(resolve, reject) {\n",
       "          var s = document.createElement('script');\n",
       "          document.getElementsByTagName(\"head\")[0].appendChild(s);\n",
       "          s.async = true;\n",
       "          s.onload = () => {\n",
       "            VEGA_DEBUG[key] = version;\n",
       "            return resolve(paths[lib]);\n",
       "          };\n",
       "          s.onerror = () => reject(`Error loading script: ${paths[lib]}`);\n",
       "          s.src = paths[lib];\n",
       "        });\n",
       "    }\n",
       "\n",
       "    function showError(err) {\n",
       "      outputDiv.innerHTML = `<div class=\"error\" style=\"color:red;\">${err}</div>`;\n",
       "      throw err;\n",
       "    }\n",
       "\n",
       "    function displayChart(vegaEmbed) {\n",
       "      vegaEmbed(outputDiv, spec, embedOpt)\n",
       "        .catch(err => showError(`Javascript Error: ${err.message}<br>This usually means there's a typo in your chart specification. See the javascript console for the full traceback.`));\n",
       "    }\n",
       "\n",
       "    if(typeof define === \"function\" && define.amd) {\n",
       "      requirejs.config({paths});\n",
       "      require([\"vega-embed\"], displayChart, err => showError(`Error loading script: ${err.message}`));\n",
       "    } else {\n",
       "      maybeLoadScript(\"vega\", \"5\")\n",
       "        .then(() => maybeLoadScript(\"vega-lite\", \"5.17.0\"))\n",
       "        .then(() => maybeLoadScript(\"vega-embed\", \"6\"))\n",
       "        .catch(showError)\n",
       "        .then(() => displayChart(vegaEmbed));\n",
       "    }\n",
       "  })({\"config\": {\"view\": {\"continuousWidth\": 300, \"continuousHeight\": 300}, \"numberFormat\": \".2s\"}, \"data\": {\"name\": \"data-5ce40cf9765744a229cc26ab8ec42a31\"}, \"mark\": {\"type\": \"bar\"}, \"encoding\": {\"color\": {\"field\": \"institution\", \"legend\": {\"columns\": 4, \"orient\": \"bottom\"}, \"sort\": \"descending\", \"type\": \"nominal\"}, \"column\": {\"field\": \"precision\", \"type\": \"ordinal\"}, \"tooltip\": [{\"field\": \"institution\", \"type\": \"nominal\"}, {\"field\": \"record_count\", \"type\": \"quantitative\"}], \"x\": {\"field\": \"record_count\", \"type\": \"quantitative\"}, \"y\": {\"field\": \"sector\", \"type\": \"nominal\"}}, \"resolve\": {\"scale\": {\"x\": \"independent\"}}, \"title\": {\"text\": \"Records by sector and precision\", \"anchor\": \"middle\"}, \"width\": 300, \"$schema\": \"https://vega.github.io/schema/vega-lite/v5.17.0.json\", \"datasets\": {\"data-5ce40cf9765744a229cc26ab8ec42a31\": [{\"institution\": \"Oxford University\", \"subcollection\": \"History of Science Museum\", \"sector\": \"university\", \"type\": \"museum\", \"topic\": \"science\", \"precision\": \"estimate\", \"record_count\": 33592}, {\"institution\": \"Oxford University\", \"subcollection\": \"Museum of Natural History\", \"sector\": \"university\", \"type\": \"museum\", \"topic\": \"nature\", \"precision\": \"estimate\", \"record_count\": 505745}, {\"institution\": \"Oxford University\", \"subcollection\": \"Pitt Rivers Museum\", \"sector\": \"university\", \"type\": \"museum\", \"topic\": \"anthopology\", \"precision\": \"estimate\", \"record_count\": 513107}, {\"institution\": \"Durham University\", \"subcollection\": \"Oriental Museum\", \"sector\": \"university\", \"type\": \"museum\", \"topic\": \"art\", \"precision\": \"estimate\", \"record_count\": 33234}, {\"institution\": \"University College London\", \"subcollection\": \"Petrie Museum\", \"sector\": \"university\", \"type\": \"museum\", \"topic\": \"history\", \"precision\": \"estimate\", \"record_count\": 83455}, {\"institution\": \"University College London\", \"subcollection\": \"UCL Art Museum\", \"sector\": \"university\", \"type\": \"museum\", \"topic\": \"art\", \"precision\": \"estimate\", \"record_count\": 10712}, {\"institution\": \"University College London\", \"subcollection\": \"UCL Pathology Collection\", \"sector\": \"university\", \"type\": \"museum\", \"topic\": \"medicine\", \"precision\": \"estimate\", \"record_count\": 8817}, {\"institution\": \"University College London\", \"subcollection\": \"UCL Pathology Collection\", \"sector\": \"university\", \"type\": \"museum\", \"topic\": \"science\", \"precision\": \"estimate\", \"record_count\": 1462}, {\"institution\": \"Glasgow Woman's Library\", \"subcollection\": \"Museum Collections\", \"sector\": \"library\", \"type\": \"museum\", \"topic\": \"mixed\", \"precision\": \"estimate\", \"record_count\": 3567}, {\"institution\": \"National Museum of the Royal Navy\", \"subcollection\": \"Museum Collection\", \"sector\": \"national-institution\", \"type\": \"museum\", \"topic\": \"architecture\", \"precision\": \"estimate\", \"record_count\": 195690}, {\"institution\": \"National Museums Scotland\", \"subcollection\": \"Museum Collection\", \"sector\": \"national-institution\", \"type\": \"museum\", \"topic\": \"architecture\", \"precision\": \"estimate\", \"record_count\": 820000}, {\"institution\": \"National Waterways Museum\", \"subcollection\": \"Museum Collection\", \"sector\": \"national-institution\", \"type\": \"museum\", \"topic\": \"transport\", \"precision\": \"estimate\", \"record_count\": 4574}, {\"institution\": \"Royal Collection Trust\", \"subcollection\": \"Museum Collection\", \"sector\": \"national-institution\", \"type\": \"museum\", \"topic\": \"transport\", \"precision\": \"estimate\", \"record_count\": 289520}, {\"institution\": \"Government Art Collection\", \"subcollection\": \"Museum Collection\", \"sector\": \"national-institution\", \"type\": \"museum\", \"topic\": \"transport\", \"precision\": \"estimate\", \"record_count\": 15247}, {\"institution\": \"Courtauld Gallery\", \"subcollection\": \"Museum Collection\", \"sector\": \"independent\", \"type\": \"museum\", \"topic\": \"transport\", \"precision\": \"estimate\", \"record_count\": 33501}, {\"institution\": \"Dulwich Picture Gallery\", \"subcollection\": \"Museum Collection\", \"sector\": \"independent\", \"type\": \"museum\", \"topic\": \"transport\", \"precision\": \"estimate\", \"record_count\": 33501}, {\"institution\": \"Dundee Heritage Trust\", \"subcollection\": \"Martime\", \"sector\": \"regional\", \"type\": \"museum\", \"topic\": \"maritime\", \"precision\": \"estimate\", \"record_count\": 2411}, {\"institution\": \"Dundee Heritage Trust\", \"subcollection\": \"Textiles\", \"sector\": \"regional\", \"type\": \"museum\", \"topic\": \"fashion\", \"precision\": \"estimate\", \"record_count\": 5864}, {\"institution\": \"Dundee Heritage Trust\", \"subcollection\": \"Dundee and Social History\", \"sector\": \"regional\", \"type\": \"museum\", \"topic\": \"social\", \"precision\": \"estimate\", \"record_count\": 317}, {\"institution\": \"Victoria & Albert Museum\", \"subcollection\": \"Victoria & Albert Museum\", \"sector\": \"dcms\", \"type\": \"museum\", \"topic\": \"art\", \"precision\": \"exact\", \"record_count\": 1282171}, {\"institution\": \"Museum of the Home\", \"subcollection\": \"Museum of the Home\", \"sector\": \"dcms\", \"type\": \"museum\", \"topic\": \"history\", \"precision\": \"exact\", \"record_count\": 12200}, {\"institution\": \"Horniman Museum\", \"subcollection\": \"Museum Collection\", \"sector\": \"dcms\", \"type\": \"museum\", \"topic\": \"history\", \"precision\": \"estimate\", \"record_count\": 132612}, {\"institution\": \"Imperial War Museums\", \"subcollection\": \"Museum Collection\", \"sector\": \"dcms\", \"type\": \"museum\", \"topic\": \"history\", \"precision\": \"estimate\", \"record_count\": 1737698}, {\"institution\": \"National Gallery\", \"subcollection\": \"Museum Collection\", \"sector\": \"dcms\", \"type\": \"museum\", \"topic\": \"history\", \"precision\": \"estimate\", \"record_count\": 2626}, {\"institution\": \"National Museums Liverpool\", \"subcollection\": \"Museum Collection\", \"sector\": \"dcms\", \"type\": \"museum\", \"topic\": \"history\", \"precision\": \"estimate\", \"record_count\": 73682}, {\"institution\": \"National Portrait Gallery\", \"subcollection\": \"Museum Collection\", \"sector\": \"dcms\", \"type\": \"museum\", \"topic\": \"history\", \"precision\": \"estimate\", \"record_count\": 220000}, {\"institution\": \"Natural History Museum\", \"subcollection\": \"Entomology collections\", \"sector\": \"dcms\", \"type\": \"museum\", \"topic\": \"nature\", \"precision\": \"estimate\", \"record_count\": 34000000}, {\"institution\": \"Natural History Museum\", \"subcollection\": \"Botany collections\", \"sector\": \"dcms\", \"type\": \"museum\", \"topic\": \"nature\", \"precision\": \"estimate\", \"record_count\": 6000000}, {\"institution\": \"Natural History Museum\", \"subcollection\": \"Zooology collections\", \"sector\": \"dcms\", \"type\": \"museum\", \"topic\": \"nature\", \"precision\": \"estimate\", \"record_count\": 29000000}, {\"institution\": \"Natural History Museum\", \"subcollection\": \"Palaeontology collections\", \"sector\": \"dcms\", \"type\": \"museum\", \"topic\": \"nature\", \"precision\": \"estimate\", \"record_count\": 7000000}, {\"institution\": \"Natural History Museum\", \"subcollection\": \"Mineralogy collections\", \"sector\": \"dcms\", \"type\": \"museum\", \"topic\": \"nature\", \"precision\": \"estimate\", \"record_count\": 500000}, {\"institution\": \"Natural History Museum\", \"subcollection\": \"Library and archive collections\", \"sector\": \"dcms\", \"type\": \"library\", \"topic\": \"nature\", \"precision\": \"estimate\", \"record_count\": 1500000}, {\"institution\": \"Royal Armouries\", \"subcollection\": \"Museum Collection\", \"sector\": \"dcms\", \"type\": \"museum\", \"topic\": \"nature\", \"precision\": \"estimate\", \"record_count\": 65627}, {\"institution\": \"Sir John Soane's Museum\", \"subcollection\": \"Museum Collection\", \"sector\": \"dcms\", \"type\": \"museum\", \"topic\": \"nature\", \"precision\": \"estimate\", \"record_count\": 57164}, {\"institution\": \"Tate Gallery Group\", \"subcollection\": \"Museum Collection\", \"sector\": \"dcms\", \"type\": \"museum\", \"topic\": \"nature\", \"precision\": \"estimate\", \"record_count\": 79236}, {\"institution\": \"British Museum\", \"subcollection\": \"Museum Collection\", \"sector\": \"dcms\", \"type\": \"museum\", \"topic\": \"nature\", \"precision\": \"estimate\", \"record_count\": 2000000}, {\"institution\": \"Oxford University\", \"subcollection\": \"History of Science Museum\", \"sector\": \"university\", \"type\": \"museum\", \"topic\": \"science\", \"precision\": \"estimate\", \"record_count\": 21011}, {\"institution\": \"Oxford University\", \"subcollection\": \"Bodleian Library\", \"sector\": \"university\", \"type\": \"library\", \"topic\": \"national\", \"precision\": \"estimate\", \"record_count\": 8000000}, {\"institution\": \"Manchester Metropolitan Unversity\", \"subcollection\": \"Special Collections\", \"sector\": \"university\", \"type\": \"library\", \"topic\": \"mixed\", \"precision\": \"estimate\", \"record_count\": 28600}, {\"institution\": \"SOAS, University of London\", \"subcollection\": \"Special Collections\", \"sector\": \"university\", \"type\": \"library\", \"topic\": \"mixed\", \"precision\": \"estimate\", \"record_count\": 40337}, {\"institution\": \"University of Reading\", \"subcollection\": \"Library Collection\", \"sector\": \"university\", \"type\": \"library\", \"topic\": \"history\", \"precision\": \"estimate\", \"record_count\": 0}, {\"institution\": \"Lambeth Palace Library\", \"subcollection\": \"Sion College Collections\", \"sector\": \"library\", \"type\": \"library\", \"topic\": \"theology\", \"precision\": \"estimate\", \"record_count\": 15000}, {\"institution\": \"National Museum of the Royal Navy\", \"subcollection\": \"Library Collection\", \"sector\": \"national-institution\", \"type\": \"library\", \"topic\": \"architecture\", \"precision\": \"estimate\", \"record_count\": 195690}, {\"institution\": \"Victoria & Albert Museum\", \"subcollection\": \"National Art Library\", \"sector\": \"dcms\", \"type\": \"library\", \"topic\": \"art\", \"precision\": \"estimate\", \"record_count\": 849000}, {\"institution\": \"Museum of the Home\", \"subcollection\": \"Library Collection\", \"sector\": \"dcms\", \"type\": \"library\", \"topic\": \"history\", \"precision\": \"exact\", \"record_count\": 6290}, {\"institution\": \"Royal Armouries\", \"subcollection\": \"Library Collection\", \"sector\": \"dcms\", \"type\": \"library\", \"topic\": \"nature\", \"precision\": \"estimate\", \"record_count\": 65627}, {\"institution\": \"Sir John Soane's Museum\", \"subcollection\": \"Library Collection\", \"sector\": \"dcms\", \"type\": \"library\", \"topic\": \"nature\", \"precision\": \"estimate\", \"record_count\": 57164}, {\"institution\": \"Unversity of Warwick\", \"subcollection\": \"Modern Records Centre\", \"sector\": \"university\", \"type\": \"archive\", \"topic\": \"mixed\", \"precision\": \"exact\", \"record_count\": 367655}, {\"institution\": \"University of Reading\", \"subcollection\": \"Archive Collection\", \"sector\": \"university\", \"type\": \"archive\", \"topic\": \"history\", \"precision\": \"estimate\", \"record_count\": 186216}, {\"institution\": \"National Waterways Museum\", \"subcollection\": \"Archive Collection\", \"sector\": \"national-institution\", \"type\": \"archive\", \"topic\": \"transport\", \"precision\": \"estimate\", \"record_count\": 53195}, {\"institution\": \"Historic England Archive\", \"subcollection\": \"Archive Collection\", \"sector\": \"national-institution\", \"type\": \"archive\", \"topic\": \"transport\", \"precision\": \"estimate\", \"record_count\": 1000000}, {\"institution\": \"Historic Environment\", \"subcollection\": \"Archive Collection\", \"sector\": \"national-institution\", \"type\": \"archive\", \"topic\": \"transport\", \"precision\": \"estimate\", \"record_count\": 1000000}, {\"institution\": \"Gwynedd Archive Services\", \"subcollection\": \"Archive Collection\", \"sector\": \"archives\", \"type\": \"archive\", \"topic\": \"transport\", \"precision\": \"estimate\", \"record_count\": 12000}, {\"institution\": \"Hampshire Archives and Local Studies\", \"subcollection\": \"Archive Collection\", \"sector\": \"archives\", \"type\": \"archive\", \"topic\": \"transport\", \"precision\": \"estimate\", \"record_count\": 1000000}, {\"institution\": \"Kresen Kernow\", \"subcollection\": \"Archive Collection\", \"sector\": \"archives\", \"type\": \"archive\", \"topic\": \"transport\", \"precision\": \"estimate\", \"record_count\": 614909}, {\"institution\": \"Bradford District Museums & Galleries\", \"subcollection\": \"Photographic Archive\", \"sector\": \"regional\", \"type\": \"archive\", \"topic\": \"mixed\", \"precision\": \"estimate\", \"record_count\": 21878}, {\"institution\": \"Victoria & Albert Museum\", \"subcollection\": \"Victoria & Albert Museum Archives\", \"sector\": \"dcms\", \"type\": \"archive\", \"topic\": \"art\", \"precision\": \"exact\", \"record_count\": 157835}, {\"institution\": \"Royal Armouries\", \"subcollection\": \"Archive Collection\", \"sector\": \"dcms\", \"type\": \"archive\", \"topic\": \"nature\", \"precision\": \"estimate\", \"record_count\": 130130}, {\"institution\": \"Sir John Soane's Museum\", \"subcollection\": \"Archive Collection\", \"sector\": \"dcms\", \"type\": \"archive\", \"topic\": \"nature\", \"precision\": \"estimate\", \"record_count\": 0}, {\"institution\": \"Tate Gallery Group\", \"subcollection\": \"Archive Collection\", \"sector\": \"dcms\", \"type\": \"archive\", \"topic\": \"nature\", \"precision\": \"estimate\", \"record_count\": 807060}]}}, {\"mode\": \"vega-lite\"});\n",
       "</script>"
      ],
      "text/plain": [
       "alt.Chart(...)"
      ]
     },
     "execution_count": 35,
     "metadata": {},
     "output_type": "execute_result"
    }
   ],
   "source": [
    "\n",
    "title = alt.TitleParams('Records by sector and precision', anchor='middle')\n",
    "alt.Chart(records_data, title=title).mark_bar().encode(\n",
    "    column='precision:O',\n",
    "    x='record_count:Q',\n",
    "    tooltip=['institution', 'record_count'],\n",
    "    y='sector:N',\n",
    "    color=alt.Color('institution:N', sort='descending', legend=alt.Legend(orient='bottom',columns=4))\n",
    ").properties(width=300).resolve_scale(x='independent').configure(numberFormat='.2s')"
   ]
  },
  {
   "cell_type": "markdown",
   "id": "952dbcc9-7e66-4ab8-b82b-9baa195d6ae1",
   "metadata": {},
   "source": [
    "## Records by topic and precision"
   ]
  },
  {
   "cell_type": "code",
   "execution_count": 36,
   "id": "425fbafc-b7e0-4676-95f7-665e8f18f29c",
   "metadata": {
    "editable": true,
    "slideshow": {
     "slide_type": ""
    },
    "tags": [
     "hide-input",
     "remove-input"
    ]
   },
   "outputs": [
    {
     "data": {
      "text/html": [
       "\n",
       "<style>\n",
       "  #altair-viz-3a7d8837a39849ec93ebc821408ff038.vega-embed {\n",
       "    width: 100%;\n",
       "    display: flex;\n",
       "  }\n",
       "\n",
       "  #altair-viz-3a7d8837a39849ec93ebc821408ff038.vega-embed details,\n",
       "  #altair-viz-3a7d8837a39849ec93ebc821408ff038.vega-embed details summary {\n",
       "    position: relative;\n",
       "  }\n",
       "</style>\n",
       "<div id=\"altair-viz-3a7d8837a39849ec93ebc821408ff038\"></div>\n",
       "<script type=\"text/javascript\">\n",
       "  var VEGA_DEBUG = (typeof VEGA_DEBUG == \"undefined\") ? {} : VEGA_DEBUG;\n",
       "  (function(spec, embedOpt){\n",
       "    let outputDiv = document.currentScript.previousElementSibling;\n",
       "    if (outputDiv.id !== \"altair-viz-3a7d8837a39849ec93ebc821408ff038\") {\n",
       "      outputDiv = document.getElementById(\"altair-viz-3a7d8837a39849ec93ebc821408ff038\");\n",
       "    }\n",
       "    const paths = {\n",
       "      \"vega\": \"https://cdn.jsdelivr.net/npm/vega@5?noext\",\n",
       "      \"vega-lib\": \"https://cdn.jsdelivr.net/npm/vega-lib?noext\",\n",
       "      \"vega-lite\": \"https://cdn.jsdelivr.net/npm/vega-lite@5.17.0?noext\",\n",
       "      \"vega-embed\": \"https://cdn.jsdelivr.net/npm/vega-embed@6?noext\",\n",
       "    };\n",
       "\n",
       "    function maybeLoadScript(lib, version) {\n",
       "      var key = `${lib.replace(\"-\", \"\")}_version`;\n",
       "      return (VEGA_DEBUG[key] == version) ?\n",
       "        Promise.resolve(paths[lib]) :\n",
       "        new Promise(function(resolve, reject) {\n",
       "          var s = document.createElement('script');\n",
       "          document.getElementsByTagName(\"head\")[0].appendChild(s);\n",
       "          s.async = true;\n",
       "          s.onload = () => {\n",
       "            VEGA_DEBUG[key] = version;\n",
       "            return resolve(paths[lib]);\n",
       "          };\n",
       "          s.onerror = () => reject(`Error loading script: ${paths[lib]}`);\n",
       "          s.src = paths[lib];\n",
       "        });\n",
       "    }\n",
       "\n",
       "    function showError(err) {\n",
       "      outputDiv.innerHTML = `<div class=\"error\" style=\"color:red;\">${err}</div>`;\n",
       "      throw err;\n",
       "    }\n",
       "\n",
       "    function displayChart(vegaEmbed) {\n",
       "      vegaEmbed(outputDiv, spec, embedOpt)\n",
       "        .catch(err => showError(`Javascript Error: ${err.message}<br>This usually means there's a typo in your chart specification. See the javascript console for the full traceback.`));\n",
       "    }\n",
       "\n",
       "    if(typeof define === \"function\" && define.amd) {\n",
       "      requirejs.config({paths});\n",
       "      require([\"vega-embed\"], displayChart, err => showError(`Error loading script: ${err.message}`));\n",
       "    } else {\n",
       "      maybeLoadScript(\"vega\", \"5\")\n",
       "        .then(() => maybeLoadScript(\"vega-lite\", \"5.17.0\"))\n",
       "        .then(() => maybeLoadScript(\"vega-embed\", \"6\"))\n",
       "        .catch(showError)\n",
       "        .then(() => displayChart(vegaEmbed));\n",
       "    }\n",
       "  })({\"config\": {\"view\": {\"continuousWidth\": 300, \"continuousHeight\": 300}, \"numberFormat\": \".2s\"}, \"data\": {\"name\": \"data-5ce40cf9765744a229cc26ab8ec42a31\"}, \"mark\": {\"type\": \"bar\"}, \"encoding\": {\"color\": {\"field\": \"institution\", \"legend\": {\"columns\": 4, \"orient\": \"bottom\"}, \"sort\": \"descending\", \"type\": \"nominal\"}, \"column\": {\"field\": \"precision\", \"type\": \"ordinal\"}, \"tooltip\": [{\"field\": \"institution\", \"type\": \"nominal\"}, {\"field\": \"record_count\", \"type\": \"quantitative\"}], \"x\": {\"field\": \"record_count\", \"type\": \"quantitative\"}, \"y\": {\"field\": \"topic\", \"type\": \"nominal\"}}, \"resolve\": {\"scale\": {\"x\": \"independent\"}}, \"title\": {\"text\": \"Records by topic and precision\", \"anchor\": \"middle\"}, \"width\": 300, \"$schema\": \"https://vega.github.io/schema/vega-lite/v5.17.0.json\", \"datasets\": {\"data-5ce40cf9765744a229cc26ab8ec42a31\": [{\"institution\": \"Oxford University\", \"subcollection\": \"History of Science Museum\", \"sector\": \"university\", \"type\": \"museum\", \"topic\": \"science\", \"precision\": \"estimate\", \"record_count\": 33592}, {\"institution\": \"Oxford University\", \"subcollection\": \"Museum of Natural History\", \"sector\": \"university\", \"type\": \"museum\", \"topic\": \"nature\", \"precision\": \"estimate\", \"record_count\": 505745}, {\"institution\": \"Oxford University\", \"subcollection\": \"Pitt Rivers Museum\", \"sector\": \"university\", \"type\": \"museum\", \"topic\": \"anthopology\", \"precision\": \"estimate\", \"record_count\": 513107}, {\"institution\": \"Durham University\", \"subcollection\": \"Oriental Museum\", \"sector\": \"university\", \"type\": \"museum\", \"topic\": \"art\", \"precision\": \"estimate\", \"record_count\": 33234}, {\"institution\": \"University College London\", \"subcollection\": \"Petrie Museum\", \"sector\": \"university\", \"type\": \"museum\", \"topic\": \"history\", \"precision\": \"estimate\", \"record_count\": 83455}, {\"institution\": \"University College London\", \"subcollection\": \"UCL Art Museum\", \"sector\": \"university\", \"type\": \"museum\", \"topic\": \"art\", \"precision\": \"estimate\", \"record_count\": 10712}, {\"institution\": \"University College London\", \"subcollection\": \"UCL Pathology Collection\", \"sector\": \"university\", \"type\": \"museum\", \"topic\": \"medicine\", \"precision\": \"estimate\", \"record_count\": 8817}, {\"institution\": \"University College London\", \"subcollection\": \"UCL Pathology Collection\", \"sector\": \"university\", \"type\": \"museum\", \"topic\": \"science\", \"precision\": \"estimate\", \"record_count\": 1462}, {\"institution\": \"Glasgow Woman's Library\", \"subcollection\": \"Museum Collections\", \"sector\": \"library\", \"type\": \"museum\", \"topic\": \"mixed\", \"precision\": \"estimate\", \"record_count\": 3567}, {\"institution\": \"National Museum of the Royal Navy\", \"subcollection\": \"Museum Collection\", \"sector\": \"national-institution\", \"type\": \"museum\", \"topic\": \"architecture\", \"precision\": \"estimate\", \"record_count\": 195690}, {\"institution\": \"National Museums Scotland\", \"subcollection\": \"Museum Collection\", \"sector\": \"national-institution\", \"type\": \"museum\", \"topic\": \"architecture\", \"precision\": \"estimate\", \"record_count\": 820000}, {\"institution\": \"National Waterways Museum\", \"subcollection\": \"Museum Collection\", \"sector\": \"national-institution\", \"type\": \"museum\", \"topic\": \"transport\", \"precision\": \"estimate\", \"record_count\": 4574}, {\"institution\": \"Royal Collection Trust\", \"subcollection\": \"Museum Collection\", \"sector\": \"national-institution\", \"type\": \"museum\", \"topic\": \"transport\", \"precision\": \"estimate\", \"record_count\": 289520}, {\"institution\": \"Government Art Collection\", \"subcollection\": \"Museum Collection\", \"sector\": \"national-institution\", \"type\": \"museum\", \"topic\": \"transport\", \"precision\": \"estimate\", \"record_count\": 15247}, {\"institution\": \"Courtauld Gallery\", \"subcollection\": \"Museum Collection\", \"sector\": \"independent\", \"type\": \"museum\", \"topic\": \"transport\", \"precision\": \"estimate\", \"record_count\": 33501}, {\"institution\": \"Dulwich Picture Gallery\", \"subcollection\": \"Museum Collection\", \"sector\": \"independent\", \"type\": \"museum\", \"topic\": \"transport\", \"precision\": \"estimate\", \"record_count\": 33501}, {\"institution\": \"Dundee Heritage Trust\", \"subcollection\": \"Martime\", \"sector\": \"regional\", \"type\": \"museum\", \"topic\": \"maritime\", \"precision\": \"estimate\", \"record_count\": 2411}, {\"institution\": \"Dundee Heritage Trust\", \"subcollection\": \"Textiles\", \"sector\": \"regional\", \"type\": \"museum\", \"topic\": \"fashion\", \"precision\": \"estimate\", \"record_count\": 5864}, {\"institution\": \"Dundee Heritage Trust\", \"subcollection\": \"Dundee and Social History\", \"sector\": \"regional\", \"type\": \"museum\", \"topic\": \"social\", \"precision\": \"estimate\", \"record_count\": 317}, {\"institution\": \"Victoria & Albert Museum\", \"subcollection\": \"Victoria & Albert Museum\", \"sector\": \"dcms\", \"type\": \"museum\", \"topic\": \"art\", \"precision\": \"exact\", \"record_count\": 1282171}, {\"institution\": \"Museum of the Home\", \"subcollection\": \"Museum of the Home\", \"sector\": \"dcms\", \"type\": \"museum\", \"topic\": \"history\", \"precision\": \"exact\", \"record_count\": 12200}, {\"institution\": \"Horniman Museum\", \"subcollection\": \"Museum Collection\", \"sector\": \"dcms\", \"type\": \"museum\", \"topic\": \"history\", \"precision\": \"estimate\", \"record_count\": 132612}, {\"institution\": \"Imperial War Museums\", \"subcollection\": \"Museum Collection\", \"sector\": \"dcms\", \"type\": \"museum\", \"topic\": \"history\", \"precision\": \"estimate\", \"record_count\": 1737698}, {\"institution\": \"National Gallery\", \"subcollection\": \"Museum Collection\", \"sector\": \"dcms\", \"type\": \"museum\", \"topic\": \"history\", \"precision\": \"estimate\", \"record_count\": 2626}, {\"institution\": \"National Museums Liverpool\", \"subcollection\": \"Museum Collection\", \"sector\": \"dcms\", \"type\": \"museum\", \"topic\": \"history\", \"precision\": \"estimate\", \"record_count\": 73682}, {\"institution\": \"National Portrait Gallery\", \"subcollection\": \"Museum Collection\", \"sector\": \"dcms\", \"type\": \"museum\", \"topic\": \"history\", \"precision\": \"estimate\", \"record_count\": 220000}, {\"institution\": \"Natural History Museum\", \"subcollection\": \"Entomology collections\", \"sector\": \"dcms\", \"type\": \"museum\", \"topic\": \"nature\", \"precision\": \"estimate\", \"record_count\": 34000000}, {\"institution\": \"Natural History Museum\", \"subcollection\": \"Botany collections\", \"sector\": \"dcms\", \"type\": \"museum\", \"topic\": \"nature\", \"precision\": \"estimate\", \"record_count\": 6000000}, {\"institution\": \"Natural History Museum\", \"subcollection\": \"Zooology collections\", \"sector\": \"dcms\", \"type\": \"museum\", \"topic\": \"nature\", \"precision\": \"estimate\", \"record_count\": 29000000}, {\"institution\": \"Natural History Museum\", \"subcollection\": \"Palaeontology collections\", \"sector\": \"dcms\", \"type\": \"museum\", \"topic\": \"nature\", \"precision\": \"estimate\", \"record_count\": 7000000}, {\"institution\": \"Natural History Museum\", \"subcollection\": \"Mineralogy collections\", \"sector\": \"dcms\", \"type\": \"museum\", \"topic\": \"nature\", \"precision\": \"estimate\", \"record_count\": 500000}, {\"institution\": \"Natural History Museum\", \"subcollection\": \"Library and archive collections\", \"sector\": \"dcms\", \"type\": \"library\", \"topic\": \"nature\", \"precision\": \"estimate\", \"record_count\": 1500000}, {\"institution\": \"Royal Armouries\", \"subcollection\": \"Museum Collection\", \"sector\": \"dcms\", \"type\": \"museum\", \"topic\": \"nature\", \"precision\": \"estimate\", \"record_count\": 65627}, {\"institution\": \"Sir John Soane's Museum\", \"subcollection\": \"Museum Collection\", \"sector\": \"dcms\", \"type\": \"museum\", \"topic\": \"nature\", \"precision\": \"estimate\", \"record_count\": 57164}, {\"institution\": \"Tate Gallery Group\", \"subcollection\": \"Museum Collection\", \"sector\": \"dcms\", \"type\": \"museum\", \"topic\": \"nature\", \"precision\": \"estimate\", \"record_count\": 79236}, {\"institution\": \"British Museum\", \"subcollection\": \"Museum Collection\", \"sector\": \"dcms\", \"type\": \"museum\", \"topic\": \"nature\", \"precision\": \"estimate\", \"record_count\": 2000000}, {\"institution\": \"Oxford University\", \"subcollection\": \"History of Science Museum\", \"sector\": \"university\", \"type\": \"museum\", \"topic\": \"science\", \"precision\": \"estimate\", \"record_count\": 21011}, {\"institution\": \"Oxford University\", \"subcollection\": \"Bodleian Library\", \"sector\": \"university\", \"type\": \"library\", \"topic\": \"national\", \"precision\": \"estimate\", \"record_count\": 8000000}, {\"institution\": \"Manchester Metropolitan Unversity\", \"subcollection\": \"Special Collections\", \"sector\": \"university\", \"type\": \"library\", \"topic\": \"mixed\", \"precision\": \"estimate\", \"record_count\": 28600}, {\"institution\": \"SOAS, University of London\", \"subcollection\": \"Special Collections\", \"sector\": \"university\", \"type\": \"library\", \"topic\": \"mixed\", \"precision\": \"estimate\", \"record_count\": 40337}, {\"institution\": \"University of Reading\", \"subcollection\": \"Library Collection\", \"sector\": \"university\", \"type\": \"library\", \"topic\": \"history\", \"precision\": \"estimate\", \"record_count\": 0}, {\"institution\": \"Lambeth Palace Library\", \"subcollection\": \"Sion College Collections\", \"sector\": \"library\", \"type\": \"library\", \"topic\": \"theology\", \"precision\": \"estimate\", \"record_count\": 15000}, {\"institution\": \"National Museum of the Royal Navy\", \"subcollection\": \"Library Collection\", \"sector\": \"national-institution\", \"type\": \"library\", \"topic\": \"architecture\", \"precision\": \"estimate\", \"record_count\": 195690}, {\"institution\": \"Victoria & Albert Museum\", \"subcollection\": \"National Art Library\", \"sector\": \"dcms\", \"type\": \"library\", \"topic\": \"art\", \"precision\": \"estimate\", \"record_count\": 849000}, {\"institution\": \"Museum of the Home\", \"subcollection\": \"Library Collection\", \"sector\": \"dcms\", \"type\": \"library\", \"topic\": \"history\", \"precision\": \"exact\", \"record_count\": 6290}, {\"institution\": \"Royal Armouries\", \"subcollection\": \"Library Collection\", \"sector\": \"dcms\", \"type\": \"library\", \"topic\": \"nature\", \"precision\": \"estimate\", \"record_count\": 65627}, {\"institution\": \"Sir John Soane's Museum\", \"subcollection\": \"Library Collection\", \"sector\": \"dcms\", \"type\": \"library\", \"topic\": \"nature\", \"precision\": \"estimate\", \"record_count\": 57164}, {\"institution\": \"Unversity of Warwick\", \"subcollection\": \"Modern Records Centre\", \"sector\": \"university\", \"type\": \"archive\", \"topic\": \"mixed\", \"precision\": \"exact\", \"record_count\": 367655}, {\"institution\": \"University of Reading\", \"subcollection\": \"Archive Collection\", \"sector\": \"university\", \"type\": \"archive\", \"topic\": \"history\", \"precision\": \"estimate\", \"record_count\": 186216}, {\"institution\": \"National Waterways Museum\", \"subcollection\": \"Archive Collection\", \"sector\": \"national-institution\", \"type\": \"archive\", \"topic\": \"transport\", \"precision\": \"estimate\", \"record_count\": 53195}, {\"institution\": \"Historic England Archive\", \"subcollection\": \"Archive Collection\", \"sector\": \"national-institution\", \"type\": \"archive\", \"topic\": \"transport\", \"precision\": \"estimate\", \"record_count\": 1000000}, {\"institution\": \"Historic Environment\", \"subcollection\": \"Archive Collection\", \"sector\": \"national-institution\", \"type\": \"archive\", \"topic\": \"transport\", \"precision\": \"estimate\", \"record_count\": 1000000}, {\"institution\": \"Gwynedd Archive Services\", \"subcollection\": \"Archive Collection\", \"sector\": \"archives\", \"type\": \"archive\", \"topic\": \"transport\", \"precision\": \"estimate\", \"record_count\": 12000}, {\"institution\": \"Hampshire Archives and Local Studies\", \"subcollection\": \"Archive Collection\", \"sector\": \"archives\", \"type\": \"archive\", \"topic\": \"transport\", \"precision\": \"estimate\", \"record_count\": 1000000}, {\"institution\": \"Kresen Kernow\", \"subcollection\": \"Archive Collection\", \"sector\": \"archives\", \"type\": \"archive\", \"topic\": \"transport\", \"precision\": \"estimate\", \"record_count\": 614909}, {\"institution\": \"Bradford District Museums & Galleries\", \"subcollection\": \"Photographic Archive\", \"sector\": \"regional\", \"type\": \"archive\", \"topic\": \"mixed\", \"precision\": \"estimate\", \"record_count\": 21878}, {\"institution\": \"Victoria & Albert Museum\", \"subcollection\": \"Victoria & Albert Museum Archives\", \"sector\": \"dcms\", \"type\": \"archive\", \"topic\": \"art\", \"precision\": \"exact\", \"record_count\": 157835}, {\"institution\": \"Royal Armouries\", \"subcollection\": \"Archive Collection\", \"sector\": \"dcms\", \"type\": \"archive\", \"topic\": \"nature\", \"precision\": \"estimate\", \"record_count\": 130130}, {\"institution\": \"Sir John Soane's Museum\", \"subcollection\": \"Archive Collection\", \"sector\": \"dcms\", \"type\": \"archive\", \"topic\": \"nature\", \"precision\": \"estimate\", \"record_count\": 0}, {\"institution\": \"Tate Gallery Group\", \"subcollection\": \"Archive Collection\", \"sector\": \"dcms\", \"type\": \"archive\", \"topic\": \"nature\", \"precision\": \"estimate\", \"record_count\": 807060}]}}, {\"mode\": \"vega-lite\"});\n",
       "</script>"
      ],
      "text/plain": [
       "alt.Chart(...)"
      ]
     },
     "execution_count": 36,
     "metadata": {},
     "output_type": "execute_result"
    }
   ],
   "source": [
    "title = alt.TitleParams('Records by topic and precision', anchor='middle')\n",
    "alt.Chart(records_data, title=title).mark_bar().encode(\n",
    "    column='precision:O',\n",
    "    x='record_count:Q',\n",
    "    y='topic:N',\n",
    "    tooltip=['institution', 'record_count'],\n",
    "    color=alt.Color('institution:N', sort='descending', legend=alt.Legend(orient='bottom',columns=4))\n",
    ").properties(width=300).resolve_scale(x='independent').configure(numberFormat='.2s')"
   ]
  },
  {
   "cell_type": "markdown",
   "id": "bc9e20c2-2552-486f-b8f1-c974b3c22278",
   "metadata": {},
   "source": [
    "## Records by institution, cataloguing type and precision"
   ]
  },
  {
   "cell_type": "code",
   "execution_count": 26,
   "id": "dc69099f-9fb4-412b-bce8-7626b2fd43aa",
   "metadata": {
    "editable": true,
    "slideshow": {
     "slide_type": ""
    },
    "tags": [
     "hide-input",
     "remove-input"
    ]
   },
   "outputs": [
    {
     "data": {
      "text/html": [
       "\n",
       "<style>\n",
       "  #altair-viz-1afaade9d6bb41c2bd4f34c4b1816613.vega-embed {\n",
       "    width: 100%;\n",
       "    display: flex;\n",
       "  }\n",
       "\n",
       "  #altair-viz-1afaade9d6bb41c2bd4f34c4b1816613.vega-embed details,\n",
       "  #altair-viz-1afaade9d6bb41c2bd4f34c4b1816613.vega-embed details summary {\n",
       "    position: relative;\n",
       "  }\n",
       "</style>\n",
       "<div id=\"altair-viz-1afaade9d6bb41c2bd4f34c4b1816613\"></div>\n",
       "<script type=\"text/javascript\">\n",
       "  var VEGA_DEBUG = (typeof VEGA_DEBUG == \"undefined\") ? {} : VEGA_DEBUG;\n",
       "  (function(spec, embedOpt){\n",
       "    let outputDiv = document.currentScript.previousElementSibling;\n",
       "    if (outputDiv.id !== \"altair-viz-1afaade9d6bb41c2bd4f34c4b1816613\") {\n",
       "      outputDiv = document.getElementById(\"altair-viz-1afaade9d6bb41c2bd4f34c4b1816613\");\n",
       "    }\n",
       "    const paths = {\n",
       "      \"vega\": \"https://cdn.jsdelivr.net/npm/vega@5?noext\",\n",
       "      \"vega-lib\": \"https://cdn.jsdelivr.net/npm/vega-lib?noext\",\n",
       "      \"vega-lite\": \"https://cdn.jsdelivr.net/npm/vega-lite@5.17.0?noext\",\n",
       "      \"vega-embed\": \"https://cdn.jsdelivr.net/npm/vega-embed@6?noext\",\n",
       "    };\n",
       "\n",
       "    function maybeLoadScript(lib, version) {\n",
       "      var key = `${lib.replace(\"-\", \"\")}_version`;\n",
       "      return (VEGA_DEBUG[key] == version) ?\n",
       "        Promise.resolve(paths[lib]) :\n",
       "        new Promise(function(resolve, reject) {\n",
       "          var s = document.createElement('script');\n",
       "          document.getElementsByTagName(\"head\")[0].appendChild(s);\n",
       "          s.async = true;\n",
       "          s.onload = () => {\n",
       "            VEGA_DEBUG[key] = version;\n",
       "            return resolve(paths[lib]);\n",
       "          };\n",
       "          s.onerror = () => reject(`Error loading script: ${paths[lib]}`);\n",
       "          s.src = paths[lib];\n",
       "        });\n",
       "    }\n",
       "\n",
       "    function showError(err) {\n",
       "      outputDiv.innerHTML = `<div class=\"error\" style=\"color:red;\">${err}</div>`;\n",
       "      throw err;\n",
       "    }\n",
       "\n",
       "    function displayChart(vegaEmbed) {\n",
       "      vegaEmbed(outputDiv, spec, embedOpt)\n",
       "        .catch(err => showError(`Javascript Error: ${err.message}<br>This usually means there's a typo in your chart specification. See the javascript console for the full traceback.`));\n",
       "    }\n",
       "\n",
       "    if(typeof define === \"function\" && define.amd) {\n",
       "      requirejs.config({paths});\n",
       "      require([\"vega-embed\"], displayChart, err => showError(`Error loading script: ${err.message}`));\n",
       "    } else {\n",
       "      maybeLoadScript(\"vega\", \"5\")\n",
       "        .then(() => maybeLoadScript(\"vega-lite\", \"5.17.0\"))\n",
       "        .then(() => maybeLoadScript(\"vega-embed\", \"6\"))\n",
       "        .catch(showError)\n",
       "        .then(() => displayChart(vegaEmbed));\n",
       "    }\n",
       "  })({\"config\": {\"view\": {\"continuousWidth\": 300, \"continuousHeight\": 300}, \"numberFormat\": \".2s\"}, \"data\": {\"name\": \"data-35e6018755a08e55c7199973913c44ed\"}, \"mark\": {\"type\": \"bar\"}, \"encoding\": {\"color\": {\"field\": \"type\", \"legend\": {\"orient\": \"bottom\", \"titleOrient\": \"left\"}, \"title\": \"settings\", \"type\": \"nominal\"}, \"column\": {\"field\": \"type\", \"title\": \"Cataloguing\", \"type\": \"nominal\"}, \"row\": {\"field\": \"institution\", \"header\": {\"labelAngle\": 0, \"labelAlign\": \"left\"}, \"title\": \"Institution\", \"type\": \"nominal\"}, \"x\": {\"field\": \"record_count\", \"title\": null, \"type\": \"quantitative\"}, \"y\": {\"field\": \"precision\", \"title\": null, \"type\": \"nominal\"}}, \"height\": {\"step\": 8}, \"resolve\": {\"scale\": {\"x\": \"independent\"}}, \"title\": {\"text\": \"Records by institution and precision\", \"anchor\": \"middle\"}, \"width\": 150, \"$schema\": \"https://vega.github.io/schema/vega-lite/v5.17.0.json\", \"datasets\": {\"data-35e6018755a08e55c7199973913c44ed\": [{\"institution\": \"Oxford University\", \"subcollection\": \"History of Science Museum\", \"sector\": \"university\", \"type\": \"museum\", \"topic\": \"science\", \"precision\": \"estimate\", \"record_count\": 33592}, {\"institution\": \"Oxford University\", \"subcollection\": \"Museum of Natural History\", \"sector\": \"university\", \"type\": \"museum\", \"topic\": \"nature\", \"precision\": \"estimate\", \"record_count\": 505745}, {\"institution\": \"Oxford University\", \"subcollection\": \"Pitt Rivers Museum\", \"sector\": \"university\", \"type\": \"museum\", \"topic\": \"anthopology\", \"precision\": \"estimate\", \"record_count\": 513107}, {\"institution\": \"Durham University\", \"subcollection\": \"Oriental Museum\", \"sector\": \"university\", \"type\": \"museum\", \"topic\": \"art\", \"precision\": \"estimate\", \"record_count\": 33234}, {\"institution\": \"University College London\", \"subcollection\": \"Petrie Museum\", \"sector\": \"university\", \"type\": \"museum\", \"topic\": \"history\", \"precision\": \"estimate\", \"record_count\": 83455}, {\"institution\": \"University College London\", \"subcollection\": \"UCL Art Museum\", \"sector\": \"university\", \"type\": \"museum\", \"topic\": \"art\", \"precision\": \"estimate\", \"record_count\": 10712}, {\"institution\": \"University College London\", \"subcollection\": \"UCL Pathology Collection\", \"sector\": \"university\", \"type\": \"museum\", \"topic\": \"medicine\", \"precision\": \"estimate\", \"record_count\": 8817}, {\"institution\": \"University College London\", \"subcollection\": \"UCL Pathology Collection\", \"sector\": \"university\", \"type\": \"museum\", \"topic\": \"science\", \"precision\": \"estimate\", \"record_count\": 1462}, {\"institution\": \"Glasgow Woman's Library\", \"subcollection\": \"Museum Collections\", \"sector\": \"library\", \"type\": \"museum\", \"topic\": \"mixed\", \"precision\": \"estimate\", \"record_count\": 3567}, {\"institution\": \"National Museum of the Royal Navy\", \"subcollection\": \"Museum Collection\", \"sector\": \"national-institution\", \"type\": \"museum\", \"topic\": \"architecture\", \"precision\": \"estimate\", \"record_count\": 195690}, {\"institution\": \"National Museums Scotland\", \"subcollection\": \"Museum Collection\", \"sector\": \"national-institution\", \"type\": \"museum\", \"topic\": \"architecture\", \"precision\": \"estimate\", \"record_count\": 820000}, {\"institution\": \"National Waterways Museum\", \"subcollection\": \"Museum Collection\", \"sector\": \"national-institution\", \"type\": \"museum\", \"topic\": \"transport\", \"precision\": \"estimate\", \"record_count\": 4574}, {\"institution\": \"Royal Collection Trust\", \"subcollection\": \"Museum Collection\", \"sector\": \"national-institution\", \"type\": \"museum\", \"topic\": \"transport\", \"precision\": \"estimate\", \"record_count\": 289520}, {\"institution\": \"Courtauld Gallery\", \"subcollection\": \"Museum Collection\", \"sector\": \"independent\", \"type\": \"museum\", \"topic\": \"transport\", \"precision\": \"estimate\", \"record_count\": 33501}, {\"institution\": \"Dulwich Picture Gallery\", \"subcollection\": \"Museum Collection\", \"sector\": \"independent\", \"type\": \"museum\", \"topic\": \"transport\", \"precision\": \"estimate\", \"record_count\": 33501}, {\"institution\": \"Victoria & Albert Museum\", \"subcollection\": \"Victoria & Albert Museum\", \"sector\": \"dcms\", \"type\": \"museum\", \"topic\": \"art\", \"precision\": \"exact\", \"record_count\": 1282017}, {\"institution\": \"Museum of the Home\", \"subcollection\": \"Museum of the Home\", \"sector\": \"dcms\", \"type\": \"museum\", \"topic\": \"history\", \"precision\": \"exact\", \"record_count\": 12200}, {\"institution\": \"Horniman Museum\", \"subcollection\": \"Museum Collection\", \"sector\": \"dcms\", \"type\": \"museum\", \"topic\": \"history\", \"precision\": \"estimate\", \"record_count\": 132612}, {\"institution\": \"Imperial War Museums\", \"subcollection\": \"Museum Collection\", \"sector\": \"dcms\", \"type\": \"museum\", \"topic\": \"history\", \"precision\": \"estimate\", \"record_count\": 1737698}, {\"institution\": \"National Gallery\", \"subcollection\": \"Museum Collection\", \"sector\": \"dcms\", \"type\": \"museum\", \"topic\": \"history\", \"precision\": \"estimate\", \"record_count\": 2626}, {\"institution\": \"National Museums Liverpool\", \"subcollection\": \"Museum Collection\", \"sector\": \"dcms\", \"type\": \"museum\", \"topic\": \"history\", \"precision\": \"estimate\", \"record_count\": 73682}, {\"institution\": \"National Portrait Gallery\", \"subcollection\": \"Museum Collection\", \"sector\": \"dcms\", \"type\": \"museum\", \"topic\": \"history\", \"precision\": \"estimate\", \"record_count\": 220000}, {\"institution\": \"Natural History Museum\", \"subcollection\": \"Entomology collections\", \"sector\": \"dcms\", \"type\": \"museum\", \"topic\": \"nature\", \"precision\": \"estimate\", \"record_count\": 34000000}, {\"institution\": \"Natural History Museum\", \"subcollection\": \"Botany collections\", \"sector\": \"dcms\", \"type\": \"museum\", \"topic\": \"nature\", \"precision\": \"estimate\", \"record_count\": 6000000}, {\"institution\": \"Natural History Museum\", \"subcollection\": \"Zooology collections\", \"sector\": \"dcms\", \"type\": \"museum\", \"topic\": \"nature\", \"precision\": \"estimate\", \"record_count\": 29000000}, {\"institution\": \"Natural History Museum\", \"subcollection\": \"Palaeontology collections\", \"sector\": \"dcms\", \"type\": \"museum\", \"topic\": \"nature\", \"precision\": \"estimate\", \"record_count\": 7000000}, {\"institution\": \"Natural History Museum\", \"subcollection\": \"Mineralogy collections\", \"sector\": \"dcms\", \"type\": \"museum\", \"topic\": \"nature\", \"precision\": \"estimate\", \"record_count\": 500000}, {\"institution\": \"Natural History Museum\", \"subcollection\": \"Library and archive collections\", \"sector\": \"dcms\", \"type\": \"library\", \"topic\": \"nature\", \"precision\": \"estimate\", \"record_count\": 1500000}, {\"institution\": \"Royal Armouries\", \"subcollection\": \"Museum Collection\", \"sector\": \"dcms\", \"type\": \"museum\", \"topic\": \"nature\", \"precision\": \"estimate\", \"record_count\": 65627}, {\"institution\": \"Sir John Soane's Museum\", \"subcollection\": \"Museum Collection\", \"sector\": \"dcms\", \"type\": \"museum\", \"topic\": \"nature\", \"precision\": \"estimate\", \"record_count\": 57164}, {\"institution\": \"Tate Gallery Group\", \"subcollection\": \"Museum Collection\", \"sector\": \"dcms\", \"type\": \"museum\", \"topic\": \"nature\", \"precision\": \"estimate\", \"record_count\": 79236}, {\"institution\": \"British Museum\", \"subcollection\": \"Museum Collection\", \"sector\": \"dcms\", \"type\": \"museum\", \"topic\": \"nature\", \"precision\": \"estimate\", \"record_count\": 2000000}, {\"institution\": \"Oxford University\", \"subcollection\": \"History of Science Museum\", \"sector\": \"university\", \"type\": \"museum\", \"topic\": \"science\", \"precision\": \"estimate\", \"record_count\": 21011}, {\"institution\": \"Oxford University\", \"subcollection\": \"Bodleian Library\", \"sector\": \"university\", \"type\": \"library\", \"topic\": \"national\", \"precision\": \"estimate\", \"record_count\": 8000000}, {\"institution\": \"Manchester Metropolitan Unversity\", \"subcollection\": \"Special Collections\", \"sector\": \"university\", \"type\": \"library\", \"topic\": \"mixed\", \"precision\": \"estimate\", \"record_count\": 28600}, {\"institution\": \"SOAS, University of London\", \"subcollection\": \"Special Collections\", \"sector\": \"university\", \"type\": \"library\", \"topic\": \"mixed\", \"precision\": \"estimate\", \"record_count\": 40337}, {\"institution\": \"University of Reading\", \"subcollection\": \"Library Collection\", \"sector\": \"university\", \"type\": \"library\", \"topic\": \"history\", \"precision\": \"estimate\", \"record_count\": 0}, {\"institution\": \"Lambeth Palace Library\", \"subcollection\": \"Sion College Collections\", \"sector\": \"library\", \"type\": \"library\", \"topic\": \"theology\", \"precision\": \"estimate\", \"record_count\": 15000}, {\"institution\": \"National Museum of the Royal Navy\", \"subcollection\": \"Library Collection\", \"sector\": \"national-institution\", \"type\": \"library\", \"topic\": \"architecture\", \"precision\": \"estimate\", \"record_count\": 195690}, {\"institution\": \"Victoria & Albert Museum\", \"subcollection\": \"National Art Library\", \"sector\": \"dcms\", \"type\": \"library\", \"topic\": \"art\", \"precision\": \"estimate\", \"record_count\": 849000}, {\"institution\": \"Museum of the Home\", \"subcollection\": \"Library Collection\", \"sector\": \"dcms\", \"type\": \"library\", \"topic\": \"history\", \"precision\": \"exact\", \"record_count\": 6290}, {\"institution\": \"Royal Armouries\", \"subcollection\": \"Library Collection\", \"sector\": \"dcms\", \"type\": \"library\", \"topic\": \"nature\", \"precision\": \"estimate\", \"record_count\": 65627}, {\"institution\": \"Sir John Soane's Museum\", \"subcollection\": \"Library Collection\", \"sector\": \"dcms\", \"type\": \"library\", \"topic\": \"nature\", \"precision\": \"estimate\", \"record_count\": 57164}, {\"institution\": \"Unversity of Warwick\", \"subcollection\": \"Modern Records Centre\", \"sector\": \"university\", \"type\": \"archive\", \"topic\": \"mixed\", \"precision\": \"exact\", \"record_count\": 367655}, {\"institution\": \"University of Reading\", \"subcollection\": \"Archive Collection\", \"sector\": \"university\", \"type\": \"archive\", \"topic\": \"history\", \"precision\": \"estimate\", \"record_count\": 186216}, {\"institution\": \"National Waterways Museum\", \"subcollection\": \"Archive Collection\", \"sector\": \"national-institution\", \"type\": \"archive\", \"topic\": \"transport\", \"precision\": \"estimate\", \"record_count\": 53195}, {\"institution\": \"Victoria & Albert Museum\", \"subcollection\": \"Victoria & Albert Museum Archives\", \"sector\": \"dcms\", \"type\": \"archive\", \"topic\": \"art\", \"precision\": \"exact\", \"record_count\": 157569}, {\"institution\": \"Royal Armouries\", \"subcollection\": \"Archive Collection\", \"sector\": \"dcms\", \"type\": \"archive\", \"topic\": \"nature\", \"precision\": \"estimate\", \"record_count\": 130130}, {\"institution\": \"Sir John Soane's Museum\", \"subcollection\": \"Archive Collection\", \"sector\": \"dcms\", \"type\": \"archive\", \"topic\": \"nature\", \"precision\": \"estimate\", \"record_count\": 0}, {\"institution\": \"Tate Gallery Group\", \"subcollection\": \"Archive Collection\", \"sector\": \"dcms\", \"type\": \"archive\", \"topic\": \"nature\", \"precision\": \"estimate\", \"record_count\": 807060}]}}, {\"mode\": \"vega-lite\"});\n",
       "</script>"
      ],
      "text/plain": [
       "alt.Chart(...)"
      ]
     },
     "execution_count": 26,
     "metadata": {},
     "output_type": "execute_result"
    }
   ],
   "source": [
    "title = alt.TitleParams('Records by institution, cataloguing type and precision', anchor='middle')\n",
    "alt.Chart(records_data, width=150, title=title, height=alt.Step(8)).mark_bar().encode(\n",
    "    alt.Y(\"precision:N\").title(None),\n",
    "    alt.X(\"record_count:Q\").title(None),\n",
    "    alt.Color(\"type:N\").title(\"settings\").legend(orient=\"bottom\", titleOrient=\"left\"),\n",
    "    alt.Row(\"institution:N\").title(\"Institution\").header(labelAngle=0, labelAlign='left'),\n",
    "    alt.Column(\"type:N\").title(\"Cataloguing\"),\n",
    ").resolve_scale(x='independent').configure(numberFormat='.2s')"
   ]
  }
 ],
 "metadata": {
  "kernelspec": {
   "display_name": "Python 3 (ipykernel)",
   "language": "python",
   "name": "python3"
  },
  "language_info": {
   "codemirror_mode": {
    "name": "ipython",
    "version": 3
   },
   "file_extension": ".py",
   "mimetype": "text/x-python",
   "name": "python",
   "nbconvert_exporter": "python",
   "pygments_lexer": "ipython3",
   "version": "3.9.18"
  }
 },
 "nbformat": 4,
 "nbformat_minor": 5
}
