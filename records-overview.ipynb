{
 "cells": [
  {
   "cell_type": "code",
   "execution_count": 5,
   "id": "bc077a0d-3cac-4f63-8b00-fa6d878fe2a7",
   "metadata": {
    "editable": true,
    "slideshow": {
     "slide_type": ""
    },
    "tags": [
     "remove-cell"
    ]
   },
   "outputs": [],
   "source": [
    "import pandas as pd\n",
    "records_data = pd.read_csv(\"records-sub-stats-all.csv\")"
   ]
  },
  {
   "cell_type": "markdown",
   "id": "a64fb74f-a0bf-4f52-9bdd-e0dbe7856dbb",
   "metadata": {
    "editable": true,
    "slideshow": {
     "slide_type": ""
    },
    "tags": []
   },
   "source": [
    "# Published Records (Overview)"
   ]
  },
  {
   "cell_type": "code",
   "execution_count": 6,
   "id": "d0c940cf-0f85-4706-a5c5-55acea442ab5",
   "metadata": {
    "editable": true,
    "slideshow": {
     "slide_type": ""
    },
    "tags": [
     "remove-input"
    ]
   },
   "outputs": [
    {
     "data": {
      "text/html": [
       "\n",
       "<style>\n",
       "  #altair-viz-359053aad79f4c4bb7f67f6c0b337024.vega-embed {\n",
       "    width: 100%;\n",
       "    display: flex;\n",
       "  }\n",
       "\n",
       "  #altair-viz-359053aad79f4c4bb7f67f6c0b337024.vega-embed details,\n",
       "  #altair-viz-359053aad79f4c4bb7f67f6c0b337024.vega-embed details summary {\n",
       "    position: relative;\n",
       "  }\n",
       "</style>\n",
       "<div id=\"altair-viz-359053aad79f4c4bb7f67f6c0b337024\"></div>\n",
       "<script type=\"text/javascript\">\n",
       "  var VEGA_DEBUG = (typeof VEGA_DEBUG == \"undefined\") ? {} : VEGA_DEBUG;\n",
       "  (function(spec, embedOpt){\n",
       "    let outputDiv = document.currentScript.previousElementSibling;\n",
       "    if (outputDiv.id !== \"altair-viz-359053aad79f4c4bb7f67f6c0b337024\") {\n",
       "      outputDiv = document.getElementById(\"altair-viz-359053aad79f4c4bb7f67f6c0b337024\");\n",
       "    }\n",
       "    const paths = {\n",
       "      \"vega\": \"https://cdn.jsdelivr.net/npm/vega@5?noext\",\n",
       "      \"vega-lib\": \"https://cdn.jsdelivr.net/npm/vega-lib?noext\",\n",
       "      \"vega-lite\": \"https://cdn.jsdelivr.net/npm/vega-lite@5.17.0?noext\",\n",
       "      \"vega-embed\": \"https://cdn.jsdelivr.net/npm/vega-embed@6?noext\",\n",
       "    };\n",
       "\n",
       "    function maybeLoadScript(lib, version) {\n",
       "      var key = `${lib.replace(\"-\", \"\")}_version`;\n",
       "      return (VEGA_DEBUG[key] == version) ?\n",
       "        Promise.resolve(paths[lib]) :\n",
       "        new Promise(function(resolve, reject) {\n",
       "          var s = document.createElement('script');\n",
       "          document.getElementsByTagName(\"head\")[0].appendChild(s);\n",
       "          s.async = true;\n",
       "          s.onload = () => {\n",
       "            VEGA_DEBUG[key] = version;\n",
       "            return resolve(paths[lib]);\n",
       "          };\n",
       "          s.onerror = () => reject(`Error loading script: ${paths[lib]}`);\n",
       "          s.src = paths[lib];\n",
       "        });\n",
       "    }\n",
       "\n",
       "    function showError(err) {\n",
       "      outputDiv.innerHTML = `<div class=\"error\" style=\"color:red;\">${err}</div>`;\n",
       "      throw err;\n",
       "    }\n",
       "\n",
       "    function displayChart(vegaEmbed) {\n",
       "      vegaEmbed(outputDiv, spec, embedOpt)\n",
       "        .catch(err => showError(`Javascript Error: ${err.message}<br>This usually means there's a typo in your chart specification. See the javascript console for the full traceback.`));\n",
       "    }\n",
       "\n",
       "    if(typeof define === \"function\" && define.amd) {\n",
       "      requirejs.config({paths});\n",
       "      require([\"vega-embed\"], displayChart, err => showError(`Error loading script: ${err.message}`));\n",
       "    } else {\n",
       "      maybeLoadScript(\"vega\", \"5\")\n",
       "        .then(() => maybeLoadScript(\"vega-lite\", \"5.17.0\"))\n",
       "        .then(() => maybeLoadScript(\"vega-embed\", \"6\"))\n",
       "        .catch(showError)\n",
       "        .then(() => displayChart(vegaEmbed));\n",
       "    }\n",
       "  })({\"config\": {\"view\": {\"continuousWidth\": 300, \"continuousHeight\": 300}, \"numberFormat\": \".1s\"}, \"data\": {\"name\": \"data-12b097995b6236260bf4e24f871dc0bb\"}, \"mark\": {\"type\": \"bar\"}, \"encoding\": {\"x\": {\"field\": \"record_count\", \"type\": \"quantitative\"}, \"y\": {\"field\": \"institution\", \"type\": \"nominal\"}}, \"title\": {\"text\": \"Records per institution\", \"anchor\": \"middle\"}, \"$schema\": \"https://vega.github.io/schema/vega-lite/v5.17.0.json\", \"datasets\": {\"data-12b097995b6236260bf4e24f871dc0bb\": [{\"institution\": \"Oxford University\", \"subcollection\": \"History of Science Museum\", \"sector\": \"university\", \"type\": \"museum\", \"topic\": \"science\", \"precision\": \"estimate\", \"record_count\": 33592}, {\"institution\": \"Oxford University\", \"subcollection\": \"Museum of Natural History\", \"sector\": \"university\", \"type\": \"museum\", \"topic\": \"nature\", \"precision\": \"estimate\", \"record_count\": 505745}, {\"institution\": \"Oxford University\", \"subcollection\": \"Pitt Rivers Museum\", \"sector\": \"university\", \"type\": \"museum\", \"topic\": \"anthopology\", \"precision\": \"estimate\", \"record_count\": 513107}, {\"institution\": \"Durham University\", \"subcollection\": \"Oriental Museum\", \"sector\": \"university\", \"type\": \"museum\", \"topic\": \"art\", \"precision\": \"estimate\", \"record_count\": 33234}, {\"institution\": \"University College London\", \"subcollection\": \"Petrie Museum\", \"sector\": \"university\", \"type\": \"museum\", \"topic\": \"history\", \"precision\": \"estimate\", \"record_count\": 83455}, {\"institution\": \"University College London\", \"subcollection\": \"UCL Art Museum\", \"sector\": \"university\", \"type\": \"museum\", \"topic\": \"art\", \"precision\": \"estimate\", \"record_count\": 10712}, {\"institution\": \"University College London\", \"subcollection\": \"UCL Pathology Collection\", \"sector\": \"university\", \"type\": \"museum\", \"topic\": \"medicine\", \"precision\": \"estimate\", \"record_count\": 8817}, {\"institution\": \"University College London\", \"subcollection\": \"UCL Pathology Collection\", \"sector\": \"university\", \"type\": \"museum\", \"topic\": \"science\", \"precision\": \"estimate\", \"record_count\": 1462}, {\"institution\": \"Glasgow Woman's Library\", \"subcollection\": \"Museum Collections\", \"sector\": \"library\", \"type\": \"museum\", \"topic\": \"mixed\", \"precision\": \"estimate\", \"record_count\": 3567}, {\"institution\": \"Victoria & Albert Museum\", \"subcollection\": \"Victoria & Albert Museum\", \"sector\": \"dcms\", \"type\": \"museum\", \"topic\": \"art\", \"precision\": \"exact\", \"record_count\": 1281326}, {\"institution\": \"Museum of the Home\", \"subcollection\": \"Museum of the Home\", \"sector\": \"dcms\", \"type\": \"museum\", \"topic\": \"history\", \"precision\": \"exact\", \"record_count\": 12200}, {\"institution\": \"Horniman Museum\", \"subcollection\": \"Museum Collection\", \"sector\": \"dcms\", \"type\": \"museum\", \"topic\": \"history\", \"precision\": \"estimate\", \"record_count\": 132612}, {\"institution\": \"Imperial War Museums\", \"subcollection\": \"Museum Collection\", \"sector\": \"dcms\", \"type\": \"museum\", \"topic\": \"history\", \"precision\": \"estimate\", \"record_count\": 1737698}, {\"institution\": \"National Gallery\", \"subcollection\": \"Museum Collection\", \"sector\": \"dcms\", \"type\": \"museum\", \"topic\": \"history\", \"precision\": \"estimate\", \"record_count\": 2626}, {\"institution\": \"National Museums Liverpool\", \"subcollection\": \"Museum Collection\", \"sector\": \"dcms\", \"type\": \"museum\", \"topic\": \"history\", \"precision\": \"estimate\", \"record_count\": 73682}, {\"institution\": \"National Portrait Gallery\", \"subcollection\": \"Museum Collection\", \"sector\": \"dcms\", \"type\": \"museum\", \"topic\": \"history\", \"precision\": \"estimate\", \"record_count\": 220000}, {\"institution\": \"Natural History Museum\", \"subcollection\": \"Entomology collections\", \"sector\": \"dcms\", \"type\": \"museum\", \"topic\": \"nature\", \"precision\": \"estimate\", \"record_count\": 34000000}, {\"institution\": \"Natural History Museum\", \"subcollection\": \"Botany collections\", \"sector\": \"dcms\", \"type\": \"museum\", \"topic\": \"nature\", \"precision\": \"estimate\", \"record_count\": 6000000}, {\"institution\": \"Natural History Museum\", \"subcollection\": \"Zooology collections\", \"sector\": \"dcms\", \"type\": \"museum\", \"topic\": \"nature\", \"precision\": \"estimate\", \"record_count\": 29000000}, {\"institution\": \"Natural History Museum\", \"subcollection\": \"Palaeontology collections\", \"sector\": \"dcms\", \"type\": \"museum\", \"topic\": \"nature\", \"precision\": \"estimate\", \"record_count\": 7000000}, {\"institution\": \"Natural History Museum\", \"subcollection\": \"Mineralogy collections\", \"sector\": \"dcms\", \"type\": \"museum\", \"topic\": \"nature\", \"precision\": \"estimate\", \"record_count\": 500000}, {\"institution\": \"Natural History Museum\", \"subcollection\": \"Library and archive collections\", \"sector\": \"dcms\", \"type\": \"library\", \"topic\": \"nature\", \"precision\": \"estimate\", \"record_count\": 1500000}, {\"institution\": \"Royal Armouries\", \"subcollection\": \"Museum Collection\", \"sector\": \"dcms\", \"type\": \"museum\", \"topic\": \"nature\", \"precision\": \"estimate\", \"record_count\": 65627}, {\"institution\": \"Sir John Soane's Museum\", \"subcollection\": \"Museum Collection\", \"sector\": \"dcms\", \"type\": \"museum\", \"topic\": \"nature\", \"precision\": \"estimate\", \"record_count\": 57164}, {\"institution\": \"Tate Gallery Group\", \"subcollection\": \"Museum Collection\", \"sector\": \"dcms\", \"type\": \"museum\", \"topic\": \"nature\", \"precision\": \"estimate\", \"record_count\": 79236}, {\"institution\": \"British Museum\", \"subcollection\": \"Museum Collection\", \"sector\": \"dcms\", \"type\": \"museum\", \"topic\": \"nature\", \"precision\": \"estimate\", \"record_count\": 2000000}, {\"institution\": \"Oxford University\", \"subcollection\": \"History of Science Museum\", \"sector\": \"university\", \"type\": \"museum\", \"topic\": \"science\", \"precision\": \"estimate\", \"record_count\": 21011}, {\"institution\": \"Oxford University\", \"subcollection\": \"Bodleian Library\", \"sector\": \"university\", \"type\": \"library\", \"topic\": \"national\", \"precision\": \"estimate\", \"record_count\": 8000000}, {\"institution\": \"Manchester Metropolitan Unversity\", \"subcollection\": \"Special Collections\", \"sector\": \"university\", \"type\": \"library\", \"topic\": \"mixed\", \"precision\": \"estimate\", \"record_count\": 28600}, {\"institution\": \"SOAS, University of London\", \"subcollection\": \"Special Collections\", \"sector\": \"university\", \"type\": \"library\", \"topic\": \"mixed\", \"precision\": \"estimate\", \"record_count\": 40337}, {\"institution\": \"University of Reading\", \"subcollection\": \"Library Collection\", \"sector\": \"university\", \"type\": \"library\", \"topic\": \"history\", \"precision\": \"estimate\", \"record_count\": 0}, {\"institution\": \"Lambeth Palace Library\", \"subcollection\": \"Sion College Collections\", \"sector\": \"library\", \"type\": \"library\", \"topic\": \"theology\", \"precision\": \"estimate\", \"record_count\": 15000}, {\"institution\": \"Victoria & Albert Museum\", \"subcollection\": \"National Art Library\", \"sector\": \"dcms\", \"type\": \"library\", \"topic\": \"art\", \"precision\": \"estimate\", \"record_count\": 849000}, {\"institution\": \"Museum of the Home\", \"subcollection\": \"Library Collection\", \"sector\": \"dcms\", \"type\": \"library\", \"topic\": \"history\", \"precision\": \"exact\", \"record_count\": 6290}, {\"institution\": \"Royal Armouries\", \"subcollection\": \"Library Collection\", \"sector\": \"dcms\", \"type\": \"library\", \"topic\": \"nature\", \"precision\": \"estimate\", \"record_count\": 65627}, {\"institution\": \"Sir John Soane's Museum\", \"subcollection\": \"Library Collection\", \"sector\": \"dcms\", \"type\": \"library\", \"topic\": \"nature\", \"precision\": \"estimate\", \"record_count\": 57164}, {\"institution\": \"Unversity of Warwick\", \"subcollection\": \"Modern Records Centre\", \"sector\": \"university\", \"type\": \"archive\", \"topic\": \"mixed\", \"precision\": \"exact\", \"record_count\": 367655}, {\"institution\": \"University of Reading\", \"subcollection\": \"Archive Collection\", \"sector\": \"university\", \"type\": \"archive\", \"topic\": \"history\", \"precision\": \"estimate\", \"record_count\": 186216}, {\"institution\": \"Victoria & Albert Museum\", \"subcollection\": \"Victoria & Albert Museum Archives\", \"sector\": \"dcms\", \"type\": \"archive\", \"topic\": \"art\", \"precision\": \"exact\", \"record_count\": 157054}, {\"institution\": \"Royal Armouries\", \"subcollection\": \"Archive Collection\", \"sector\": \"dcms\", \"type\": \"archive\", \"topic\": \"nature\", \"precision\": \"estimate\", \"record_count\": 130130}, {\"institution\": \"Sir John Soane's Museum\", \"subcollection\": \"Archive Collection\", \"sector\": \"dcms\", \"type\": \"archive\", \"topic\": \"nature\", \"precision\": \"estimate\", \"record_count\": 0}, {\"institution\": \"Tate Gallery Group\", \"subcollection\": \"Archive Collection\", \"sector\": \"dcms\", \"type\": \"archive\", \"topic\": \"nature\", \"precision\": \"estimate\", \"record_count\": 807060}]}}, {\"mode\": \"vega-lite\"});\n",
       "</script>"
      ],
      "text/plain": [
       "alt.Chart(...)"
      ]
     },
     "execution_count": 6,
     "metadata": {},
     "output_type": "execute_result"
    }
   ],
   "source": [
    "import altair as alt\n",
    "title = alt.TitleParams('Records per institution', anchor='middle')\n",
    "alt.Chart(records_data, title=title).mark_bar().encode(\n",
    "    x='record_count',\n",
    "    y='institution'\n",
    ").configure(numberFormat='.1s')"
   ]
  },
  {
   "cell_type": "code",
   "execution_count": 8,
   "id": "02993910-d83c-4a22-96ac-404d5091ad27",
   "metadata": {
    "editable": true,
    "slideshow": {
     "slide_type": ""
    },
    "tags": [
     "remove-input"
    ]
   },
   "outputs": [
    {
     "data": {
      "text/html": [
       "\n",
       "<style>\n",
       "  #altair-viz-efde9e71132c4e10b8b4e624d94d18bf.vega-embed {\n",
       "    width: 100%;\n",
       "    display: flex;\n",
       "  }\n",
       "\n",
       "  #altair-viz-efde9e71132c4e10b8b4e624d94d18bf.vega-embed details,\n",
       "  #altair-viz-efde9e71132c4e10b8b4e624d94d18bf.vega-embed details summary {\n",
       "    position: relative;\n",
       "  }\n",
       "</style>\n",
       "<div id=\"altair-viz-efde9e71132c4e10b8b4e624d94d18bf\"></div>\n",
       "<script type=\"text/javascript\">\n",
       "  var VEGA_DEBUG = (typeof VEGA_DEBUG == \"undefined\") ? {} : VEGA_DEBUG;\n",
       "  (function(spec, embedOpt){\n",
       "    let outputDiv = document.currentScript.previousElementSibling;\n",
       "    if (outputDiv.id !== \"altair-viz-efde9e71132c4e10b8b4e624d94d18bf\") {\n",
       "      outputDiv = document.getElementById(\"altair-viz-efde9e71132c4e10b8b4e624d94d18bf\");\n",
       "    }\n",
       "    const paths = {\n",
       "      \"vega\": \"https://cdn.jsdelivr.net/npm/vega@5?noext\",\n",
       "      \"vega-lib\": \"https://cdn.jsdelivr.net/npm/vega-lib?noext\",\n",
       "      \"vega-lite\": \"https://cdn.jsdelivr.net/npm/vega-lite@5.17.0?noext\",\n",
       "      \"vega-embed\": \"https://cdn.jsdelivr.net/npm/vega-embed@6?noext\",\n",
       "    };\n",
       "\n",
       "    function maybeLoadScript(lib, version) {\n",
       "      var key = `${lib.replace(\"-\", \"\")}_version`;\n",
       "      return (VEGA_DEBUG[key] == version) ?\n",
       "        Promise.resolve(paths[lib]) :\n",
       "        new Promise(function(resolve, reject) {\n",
       "          var s = document.createElement('script');\n",
       "          document.getElementsByTagName(\"head\")[0].appendChild(s);\n",
       "          s.async = true;\n",
       "          s.onload = () => {\n",
       "            VEGA_DEBUG[key] = version;\n",
       "            return resolve(paths[lib]);\n",
       "          };\n",
       "          s.onerror = () => reject(`Error loading script: ${paths[lib]}`);\n",
       "          s.src = paths[lib];\n",
       "        });\n",
       "    }\n",
       "\n",
       "    function showError(err) {\n",
       "      outputDiv.innerHTML = `<div class=\"error\" style=\"color:red;\">${err}</div>`;\n",
       "      throw err;\n",
       "    }\n",
       "\n",
       "    function displayChart(vegaEmbed) {\n",
       "      vegaEmbed(outputDiv, spec, embedOpt)\n",
       "        .catch(err => showError(`Javascript Error: ${err.message}<br>This usually means there's a typo in your chart specification. See the javascript console for the full traceback.`));\n",
       "    }\n",
       "\n",
       "    if(typeof define === \"function\" && define.amd) {\n",
       "      requirejs.config({paths});\n",
       "      require([\"vega-embed\"], displayChart, err => showError(`Error loading script: ${err.message}`));\n",
       "    } else {\n",
       "      maybeLoadScript(\"vega\", \"5\")\n",
       "        .then(() => maybeLoadScript(\"vega-lite\", \"5.17.0\"))\n",
       "        .then(() => maybeLoadScript(\"vega-embed\", \"6\"))\n",
       "        .catch(showError)\n",
       "        .then(() => displayChart(vegaEmbed));\n",
       "    }\n",
       "  })({\"config\": {\"view\": {\"continuousWidth\": 300, \"continuousHeight\": 300}, \"numberFormat\": \".2s\"}, \"data\": {\"name\": \"data-12b097995b6236260bf4e24f871dc0bb\"}, \"mark\": {\"type\": \"bar\"}, \"encoding\": {\"color\": {\"field\": \"institution\", \"legend\": {\"columns\": 4, \"orient\": \"bottom\"}, \"sort\": \"descending\", \"type\": \"nominal\"}, \"column\": {\"field\": \"precision\", \"type\": \"ordinal\"}, \"x\": {\"field\": \"record_count\", \"type\": \"quantitative\"}, \"y\": {\"field\": \"type\", \"type\": \"nominal\"}}, \"resolve\": {\"scale\": {\"x\": \"independent\"}}, \"title\": {\"text\": \"Records by cataloguing type and institution\", \"anchor\": \"middle\"}, \"width\": 350, \"$schema\": \"https://vega.github.io/schema/vega-lite/v5.17.0.json\", \"datasets\": {\"data-12b097995b6236260bf4e24f871dc0bb\": [{\"institution\": \"Oxford University\", \"subcollection\": \"History of Science Museum\", \"sector\": \"university\", \"type\": \"museum\", \"topic\": \"science\", \"precision\": \"estimate\", \"record_count\": 33592}, {\"institution\": \"Oxford University\", \"subcollection\": \"Museum of Natural History\", \"sector\": \"university\", \"type\": \"museum\", \"topic\": \"nature\", \"precision\": \"estimate\", \"record_count\": 505745}, {\"institution\": \"Oxford University\", \"subcollection\": \"Pitt Rivers Museum\", \"sector\": \"university\", \"type\": \"museum\", \"topic\": \"anthopology\", \"precision\": \"estimate\", \"record_count\": 513107}, {\"institution\": \"Durham University\", \"subcollection\": \"Oriental Museum\", \"sector\": \"university\", \"type\": \"museum\", \"topic\": \"art\", \"precision\": \"estimate\", \"record_count\": 33234}, {\"institution\": \"University College London\", \"subcollection\": \"Petrie Museum\", \"sector\": \"university\", \"type\": \"museum\", \"topic\": \"history\", \"precision\": \"estimate\", \"record_count\": 83455}, {\"institution\": \"University College London\", \"subcollection\": \"UCL Art Museum\", \"sector\": \"university\", \"type\": \"museum\", \"topic\": \"art\", \"precision\": \"estimate\", \"record_count\": 10712}, {\"institution\": \"University College London\", \"subcollection\": \"UCL Pathology Collection\", \"sector\": \"university\", \"type\": \"museum\", \"topic\": \"medicine\", \"precision\": \"estimate\", \"record_count\": 8817}, {\"institution\": \"University College London\", \"subcollection\": \"UCL Pathology Collection\", \"sector\": \"university\", \"type\": \"museum\", \"topic\": \"science\", \"precision\": \"estimate\", \"record_count\": 1462}, {\"institution\": \"Glasgow Woman's Library\", \"subcollection\": \"Museum Collections\", \"sector\": \"library\", \"type\": \"museum\", \"topic\": \"mixed\", \"precision\": \"estimate\", \"record_count\": 3567}, {\"institution\": \"Victoria & Albert Museum\", \"subcollection\": \"Victoria & Albert Museum\", \"sector\": \"dcms\", \"type\": \"museum\", \"topic\": \"art\", \"precision\": \"exact\", \"record_count\": 1281326}, {\"institution\": \"Museum of the Home\", \"subcollection\": \"Museum of the Home\", \"sector\": \"dcms\", \"type\": \"museum\", \"topic\": \"history\", \"precision\": \"exact\", \"record_count\": 12200}, {\"institution\": \"Horniman Museum\", \"subcollection\": \"Museum Collection\", \"sector\": \"dcms\", \"type\": \"museum\", \"topic\": \"history\", \"precision\": \"estimate\", \"record_count\": 132612}, {\"institution\": \"Imperial War Museums\", \"subcollection\": \"Museum Collection\", \"sector\": \"dcms\", \"type\": \"museum\", \"topic\": \"history\", \"precision\": \"estimate\", \"record_count\": 1737698}, {\"institution\": \"National Gallery\", \"subcollection\": \"Museum Collection\", \"sector\": \"dcms\", \"type\": \"museum\", \"topic\": \"history\", \"precision\": \"estimate\", \"record_count\": 2626}, {\"institution\": \"National Museums Liverpool\", \"subcollection\": \"Museum Collection\", \"sector\": \"dcms\", \"type\": \"museum\", \"topic\": \"history\", \"precision\": \"estimate\", \"record_count\": 73682}, {\"institution\": \"National Portrait Gallery\", \"subcollection\": \"Museum Collection\", \"sector\": \"dcms\", \"type\": \"museum\", \"topic\": \"history\", \"precision\": \"estimate\", \"record_count\": 220000}, {\"institution\": \"Natural History Museum\", \"subcollection\": \"Entomology collections\", \"sector\": \"dcms\", \"type\": \"museum\", \"topic\": \"nature\", \"precision\": \"estimate\", \"record_count\": 34000000}, {\"institution\": \"Natural History Museum\", \"subcollection\": \"Botany collections\", \"sector\": \"dcms\", \"type\": \"museum\", \"topic\": \"nature\", \"precision\": \"estimate\", \"record_count\": 6000000}, {\"institution\": \"Natural History Museum\", \"subcollection\": \"Zooology collections\", \"sector\": \"dcms\", \"type\": \"museum\", \"topic\": \"nature\", \"precision\": \"estimate\", \"record_count\": 29000000}, {\"institution\": \"Natural History Museum\", \"subcollection\": \"Palaeontology collections\", \"sector\": \"dcms\", \"type\": \"museum\", \"topic\": \"nature\", \"precision\": \"estimate\", \"record_count\": 7000000}, {\"institution\": \"Natural History Museum\", \"subcollection\": \"Mineralogy collections\", \"sector\": \"dcms\", \"type\": \"museum\", \"topic\": \"nature\", \"precision\": \"estimate\", \"record_count\": 500000}, {\"institution\": \"Natural History Museum\", \"subcollection\": \"Library and archive collections\", \"sector\": \"dcms\", \"type\": \"library\", \"topic\": \"nature\", \"precision\": \"estimate\", \"record_count\": 1500000}, {\"institution\": \"Royal Armouries\", \"subcollection\": \"Museum Collection\", \"sector\": \"dcms\", \"type\": \"museum\", \"topic\": \"nature\", \"precision\": \"estimate\", \"record_count\": 65627}, {\"institution\": \"Sir John Soane's Museum\", \"subcollection\": \"Museum Collection\", \"sector\": \"dcms\", \"type\": \"museum\", \"topic\": \"nature\", \"precision\": \"estimate\", \"record_count\": 57164}, {\"institution\": \"Tate Gallery Group\", \"subcollection\": \"Museum Collection\", \"sector\": \"dcms\", \"type\": \"museum\", \"topic\": \"nature\", \"precision\": \"estimate\", \"record_count\": 79236}, {\"institution\": \"British Museum\", \"subcollection\": \"Museum Collection\", \"sector\": \"dcms\", \"type\": \"museum\", \"topic\": \"nature\", \"precision\": \"estimate\", \"record_count\": 2000000}, {\"institution\": \"Oxford University\", \"subcollection\": \"History of Science Museum\", \"sector\": \"university\", \"type\": \"museum\", \"topic\": \"science\", \"precision\": \"estimate\", \"record_count\": 21011}, {\"institution\": \"Oxford University\", \"subcollection\": \"Bodleian Library\", \"sector\": \"university\", \"type\": \"library\", \"topic\": \"national\", \"precision\": \"estimate\", \"record_count\": 8000000}, {\"institution\": \"Manchester Metropolitan Unversity\", \"subcollection\": \"Special Collections\", \"sector\": \"university\", \"type\": \"library\", \"topic\": \"mixed\", \"precision\": \"estimate\", \"record_count\": 28600}, {\"institution\": \"SOAS, University of London\", \"subcollection\": \"Special Collections\", \"sector\": \"university\", \"type\": \"library\", \"topic\": \"mixed\", \"precision\": \"estimate\", \"record_count\": 40337}, {\"institution\": \"University of Reading\", \"subcollection\": \"Library Collection\", \"sector\": \"university\", \"type\": \"library\", \"topic\": \"history\", \"precision\": \"estimate\", \"record_count\": 0}, {\"institution\": \"Lambeth Palace Library\", \"subcollection\": \"Sion College Collections\", \"sector\": \"library\", \"type\": \"library\", \"topic\": \"theology\", \"precision\": \"estimate\", \"record_count\": 15000}, {\"institution\": \"Victoria & Albert Museum\", \"subcollection\": \"National Art Library\", \"sector\": \"dcms\", \"type\": \"library\", \"topic\": \"art\", \"precision\": \"estimate\", \"record_count\": 849000}, {\"institution\": \"Museum of the Home\", \"subcollection\": \"Library Collection\", \"sector\": \"dcms\", \"type\": \"library\", \"topic\": \"history\", \"precision\": \"exact\", \"record_count\": 6290}, {\"institution\": \"Royal Armouries\", \"subcollection\": \"Library Collection\", \"sector\": \"dcms\", \"type\": \"library\", \"topic\": \"nature\", \"precision\": \"estimate\", \"record_count\": 65627}, {\"institution\": \"Sir John Soane's Museum\", \"subcollection\": \"Library Collection\", \"sector\": \"dcms\", \"type\": \"library\", \"topic\": \"nature\", \"precision\": \"estimate\", \"record_count\": 57164}, {\"institution\": \"Unversity of Warwick\", \"subcollection\": \"Modern Records Centre\", \"sector\": \"university\", \"type\": \"archive\", \"topic\": \"mixed\", \"precision\": \"exact\", \"record_count\": 367655}, {\"institution\": \"University of Reading\", \"subcollection\": \"Archive Collection\", \"sector\": \"university\", \"type\": \"archive\", \"topic\": \"history\", \"precision\": \"estimate\", \"record_count\": 186216}, {\"institution\": \"Victoria & Albert Museum\", \"subcollection\": \"Victoria & Albert Museum Archives\", \"sector\": \"dcms\", \"type\": \"archive\", \"topic\": \"art\", \"precision\": \"exact\", \"record_count\": 157054}, {\"institution\": \"Royal Armouries\", \"subcollection\": \"Archive Collection\", \"sector\": \"dcms\", \"type\": \"archive\", \"topic\": \"nature\", \"precision\": \"estimate\", \"record_count\": 130130}, {\"institution\": \"Sir John Soane's Museum\", \"subcollection\": \"Archive Collection\", \"sector\": \"dcms\", \"type\": \"archive\", \"topic\": \"nature\", \"precision\": \"estimate\", \"record_count\": 0}, {\"institution\": \"Tate Gallery Group\", \"subcollection\": \"Archive Collection\", \"sector\": \"dcms\", \"type\": \"archive\", \"topic\": \"nature\", \"precision\": \"estimate\", \"record_count\": 807060}]}}, {\"mode\": \"vega-lite\"});\n",
       "</script>"
      ],
      "text/plain": [
       "alt.Chart(...)"
      ]
     },
     "execution_count": 8,
     "metadata": {},
     "output_type": "execute_result"
    }
   ],
   "source": [
    "title = alt.TitleParams('Records by cataloguing type and institution', anchor='middle')\n",
    "alt.Chart(records_data, title=title).mark_bar().encode(\n",
    "    color=alt.Color('institution:N', sort='descending', legend=alt.Legend(orient='bottom',columns=4)),\n",
    "    column='precision:O',\n",
    "    x='record_count:Q',\n",
    "    y='type:N',\n",
    ").properties(width=350).resolve_scale(x='independent').configure(numberFormat='.2s')"
   ]
  },
  {
   "cell_type": "code",
   "execution_count": 7,
   "id": "885d9dc3-a582-4a0b-a2f8-223382d2b87c",
   "metadata": {
    "editable": true,
    "slideshow": {
     "slide_type": ""
    },
    "tags": [
     "hide-input",
     "remove-input"
    ]
   },
   "outputs": [
    {
     "data": {
      "text/html": [
       "\n",
       "<style>\n",
       "  #altair-viz-b05513c33b8f42cc8addda14239b1cfb.vega-embed {\n",
       "    width: 100%;\n",
       "    display: flex;\n",
       "  }\n",
       "\n",
       "  #altair-viz-b05513c33b8f42cc8addda14239b1cfb.vega-embed details,\n",
       "  #altair-viz-b05513c33b8f42cc8addda14239b1cfb.vega-embed details summary {\n",
       "    position: relative;\n",
       "  }\n",
       "</style>\n",
       "<div id=\"altair-viz-b05513c33b8f42cc8addda14239b1cfb\"></div>\n",
       "<script type=\"text/javascript\">\n",
       "  var VEGA_DEBUG = (typeof VEGA_DEBUG == \"undefined\") ? {} : VEGA_DEBUG;\n",
       "  (function(spec, embedOpt){\n",
       "    let outputDiv = document.currentScript.previousElementSibling;\n",
       "    if (outputDiv.id !== \"altair-viz-b05513c33b8f42cc8addda14239b1cfb\") {\n",
       "      outputDiv = document.getElementById(\"altair-viz-b05513c33b8f42cc8addda14239b1cfb\");\n",
       "    }\n",
       "    const paths = {\n",
       "      \"vega\": \"https://cdn.jsdelivr.net/npm/vega@5?noext\",\n",
       "      \"vega-lib\": \"https://cdn.jsdelivr.net/npm/vega-lib?noext\",\n",
       "      \"vega-lite\": \"https://cdn.jsdelivr.net/npm/vega-lite@5.17.0?noext\",\n",
       "      \"vega-embed\": \"https://cdn.jsdelivr.net/npm/vega-embed@6?noext\",\n",
       "    };\n",
       "\n",
       "    function maybeLoadScript(lib, version) {\n",
       "      var key = `${lib.replace(\"-\", \"\")}_version`;\n",
       "      return (VEGA_DEBUG[key] == version) ?\n",
       "        Promise.resolve(paths[lib]) :\n",
       "        new Promise(function(resolve, reject) {\n",
       "          var s = document.createElement('script');\n",
       "          document.getElementsByTagName(\"head\")[0].appendChild(s);\n",
       "          s.async = true;\n",
       "          s.onload = () => {\n",
       "            VEGA_DEBUG[key] = version;\n",
       "            return resolve(paths[lib]);\n",
       "          };\n",
       "          s.onerror = () => reject(`Error loading script: ${paths[lib]}`);\n",
       "          s.src = paths[lib];\n",
       "        });\n",
       "    }\n",
       "\n",
       "    function showError(err) {\n",
       "      outputDiv.innerHTML = `<div class=\"error\" style=\"color:red;\">${err}</div>`;\n",
       "      throw err;\n",
       "    }\n",
       "\n",
       "    function displayChart(vegaEmbed) {\n",
       "      vegaEmbed(outputDiv, spec, embedOpt)\n",
       "        .catch(err => showError(`Javascript Error: ${err.message}<br>This usually means there's a typo in your chart specification. See the javascript console for the full traceback.`));\n",
       "    }\n",
       "\n",
       "    if(typeof define === \"function\" && define.amd) {\n",
       "      requirejs.config({paths});\n",
       "      require([\"vega-embed\"], displayChart, err => showError(`Error loading script: ${err.message}`));\n",
       "    } else {\n",
       "      maybeLoadScript(\"vega\", \"5\")\n",
       "        .then(() => maybeLoadScript(\"vega-lite\", \"5.17.0\"))\n",
       "        .then(() => maybeLoadScript(\"vega-embed\", \"6\"))\n",
       "        .catch(showError)\n",
       "        .then(() => displayChart(vegaEmbed));\n",
       "    }\n",
       "  })({\"config\": {\"view\": {\"continuousWidth\": 300, \"continuousHeight\": 300}, \"numberFormat\": \".2s\"}, \"data\": {\"name\": \"data-12b097995b6236260bf4e24f871dc0bb\"}, \"mark\": {\"type\": \"bar\"}, \"encoding\": {\"color\": {\"field\": \"institution\", \"legend\": {\"columns\": 4, \"orient\": \"bottom\"}, \"sort\": \"descending\", \"type\": \"nominal\"}, \"column\": {\"field\": \"precision\", \"type\": \"ordinal\"}, \"x\": {\"field\": \"record_count\", \"type\": \"quantitative\"}, \"y\": {\"field\": \"topic\", \"type\": \"nominal\"}}, \"resolve\": {\"scale\": {\"x\": \"independent\"}}, \"title\": {\"text\": \"Records by topic and institution\", \"anchor\": \"middle\"}, \"width\": 350, \"$schema\": \"https://vega.github.io/schema/vega-lite/v5.17.0.json\", \"datasets\": {\"data-12b097995b6236260bf4e24f871dc0bb\": [{\"institution\": \"Oxford University\", \"subcollection\": \"History of Science Museum\", \"sector\": \"university\", \"type\": \"museum\", \"topic\": \"science\", \"precision\": \"estimate\", \"record_count\": 33592}, {\"institution\": \"Oxford University\", \"subcollection\": \"Museum of Natural History\", \"sector\": \"university\", \"type\": \"museum\", \"topic\": \"nature\", \"precision\": \"estimate\", \"record_count\": 505745}, {\"institution\": \"Oxford University\", \"subcollection\": \"Pitt Rivers Museum\", \"sector\": \"university\", \"type\": \"museum\", \"topic\": \"anthopology\", \"precision\": \"estimate\", \"record_count\": 513107}, {\"institution\": \"Durham University\", \"subcollection\": \"Oriental Museum\", \"sector\": \"university\", \"type\": \"museum\", \"topic\": \"art\", \"precision\": \"estimate\", \"record_count\": 33234}, {\"institution\": \"University College London\", \"subcollection\": \"Petrie Museum\", \"sector\": \"university\", \"type\": \"museum\", \"topic\": \"history\", \"precision\": \"estimate\", \"record_count\": 83455}, {\"institution\": \"University College London\", \"subcollection\": \"UCL Art Museum\", \"sector\": \"university\", \"type\": \"museum\", \"topic\": \"art\", \"precision\": \"estimate\", \"record_count\": 10712}, {\"institution\": \"University College London\", \"subcollection\": \"UCL Pathology Collection\", \"sector\": \"university\", \"type\": \"museum\", \"topic\": \"medicine\", \"precision\": \"estimate\", \"record_count\": 8817}, {\"institution\": \"University College London\", \"subcollection\": \"UCL Pathology Collection\", \"sector\": \"university\", \"type\": \"museum\", \"topic\": \"science\", \"precision\": \"estimate\", \"record_count\": 1462}, {\"institution\": \"Glasgow Woman's Library\", \"subcollection\": \"Museum Collections\", \"sector\": \"library\", \"type\": \"museum\", \"topic\": \"mixed\", \"precision\": \"estimate\", \"record_count\": 3567}, {\"institution\": \"Victoria & Albert Museum\", \"subcollection\": \"Victoria & Albert Museum\", \"sector\": \"dcms\", \"type\": \"museum\", \"topic\": \"art\", \"precision\": \"exact\", \"record_count\": 1281326}, {\"institution\": \"Museum of the Home\", \"subcollection\": \"Museum of the Home\", \"sector\": \"dcms\", \"type\": \"museum\", \"topic\": \"history\", \"precision\": \"exact\", \"record_count\": 12200}, {\"institution\": \"Horniman Museum\", \"subcollection\": \"Museum Collection\", \"sector\": \"dcms\", \"type\": \"museum\", \"topic\": \"history\", \"precision\": \"estimate\", \"record_count\": 132612}, {\"institution\": \"Imperial War Museums\", \"subcollection\": \"Museum Collection\", \"sector\": \"dcms\", \"type\": \"museum\", \"topic\": \"history\", \"precision\": \"estimate\", \"record_count\": 1737698}, {\"institution\": \"National Gallery\", \"subcollection\": \"Museum Collection\", \"sector\": \"dcms\", \"type\": \"museum\", \"topic\": \"history\", \"precision\": \"estimate\", \"record_count\": 2626}, {\"institution\": \"National Museums Liverpool\", \"subcollection\": \"Museum Collection\", \"sector\": \"dcms\", \"type\": \"museum\", \"topic\": \"history\", \"precision\": \"estimate\", \"record_count\": 73682}, {\"institution\": \"National Portrait Gallery\", \"subcollection\": \"Museum Collection\", \"sector\": \"dcms\", \"type\": \"museum\", \"topic\": \"history\", \"precision\": \"estimate\", \"record_count\": 220000}, {\"institution\": \"Natural History Museum\", \"subcollection\": \"Entomology collections\", \"sector\": \"dcms\", \"type\": \"museum\", \"topic\": \"nature\", \"precision\": \"estimate\", \"record_count\": 34000000}, {\"institution\": \"Natural History Museum\", \"subcollection\": \"Botany collections\", \"sector\": \"dcms\", \"type\": \"museum\", \"topic\": \"nature\", \"precision\": \"estimate\", \"record_count\": 6000000}, {\"institution\": \"Natural History Museum\", \"subcollection\": \"Zooology collections\", \"sector\": \"dcms\", \"type\": \"museum\", \"topic\": \"nature\", \"precision\": \"estimate\", \"record_count\": 29000000}, {\"institution\": \"Natural History Museum\", \"subcollection\": \"Palaeontology collections\", \"sector\": \"dcms\", \"type\": \"museum\", \"topic\": \"nature\", \"precision\": \"estimate\", \"record_count\": 7000000}, {\"institution\": \"Natural History Museum\", \"subcollection\": \"Mineralogy collections\", \"sector\": \"dcms\", \"type\": \"museum\", \"topic\": \"nature\", \"precision\": \"estimate\", \"record_count\": 500000}, {\"institution\": \"Natural History Museum\", \"subcollection\": \"Library and archive collections\", \"sector\": \"dcms\", \"type\": \"library\", \"topic\": \"nature\", \"precision\": \"estimate\", \"record_count\": 1500000}, {\"institution\": \"Royal Armouries\", \"subcollection\": \"Museum Collection\", \"sector\": \"dcms\", \"type\": \"museum\", \"topic\": \"nature\", \"precision\": \"estimate\", \"record_count\": 65627}, {\"institution\": \"Sir John Soane's Museum\", \"subcollection\": \"Museum Collection\", \"sector\": \"dcms\", \"type\": \"museum\", \"topic\": \"nature\", \"precision\": \"estimate\", \"record_count\": 57164}, {\"institution\": \"Tate Gallery Group\", \"subcollection\": \"Museum Collection\", \"sector\": \"dcms\", \"type\": \"museum\", \"topic\": \"nature\", \"precision\": \"estimate\", \"record_count\": 79236}, {\"institution\": \"British Museum\", \"subcollection\": \"Museum Collection\", \"sector\": \"dcms\", \"type\": \"museum\", \"topic\": \"nature\", \"precision\": \"estimate\", \"record_count\": 2000000}, {\"institution\": \"Oxford University\", \"subcollection\": \"History of Science Museum\", \"sector\": \"university\", \"type\": \"museum\", \"topic\": \"science\", \"precision\": \"estimate\", \"record_count\": 21011}, {\"institution\": \"Oxford University\", \"subcollection\": \"Bodleian Library\", \"sector\": \"university\", \"type\": \"library\", \"topic\": \"national\", \"precision\": \"estimate\", \"record_count\": 8000000}, {\"institution\": \"Manchester Metropolitan Unversity\", \"subcollection\": \"Special Collections\", \"sector\": \"university\", \"type\": \"library\", \"topic\": \"mixed\", \"precision\": \"estimate\", \"record_count\": 28600}, {\"institution\": \"SOAS, University of London\", \"subcollection\": \"Special Collections\", \"sector\": \"university\", \"type\": \"library\", \"topic\": \"mixed\", \"precision\": \"estimate\", \"record_count\": 40337}, {\"institution\": \"University of Reading\", \"subcollection\": \"Library Collection\", \"sector\": \"university\", \"type\": \"library\", \"topic\": \"history\", \"precision\": \"estimate\", \"record_count\": 0}, {\"institution\": \"Lambeth Palace Library\", \"subcollection\": \"Sion College Collections\", \"sector\": \"library\", \"type\": \"library\", \"topic\": \"theology\", \"precision\": \"estimate\", \"record_count\": 15000}, {\"institution\": \"Victoria & Albert Museum\", \"subcollection\": \"National Art Library\", \"sector\": \"dcms\", \"type\": \"library\", \"topic\": \"art\", \"precision\": \"estimate\", \"record_count\": 849000}, {\"institution\": \"Museum of the Home\", \"subcollection\": \"Library Collection\", \"sector\": \"dcms\", \"type\": \"library\", \"topic\": \"history\", \"precision\": \"exact\", \"record_count\": 6290}, {\"institution\": \"Royal Armouries\", \"subcollection\": \"Library Collection\", \"sector\": \"dcms\", \"type\": \"library\", \"topic\": \"nature\", \"precision\": \"estimate\", \"record_count\": 65627}, {\"institution\": \"Sir John Soane's Museum\", \"subcollection\": \"Library Collection\", \"sector\": \"dcms\", \"type\": \"library\", \"topic\": \"nature\", \"precision\": \"estimate\", \"record_count\": 57164}, {\"institution\": \"Unversity of Warwick\", \"subcollection\": \"Modern Records Centre\", \"sector\": \"university\", \"type\": \"archive\", \"topic\": \"mixed\", \"precision\": \"exact\", \"record_count\": 367655}, {\"institution\": \"University of Reading\", \"subcollection\": \"Archive Collection\", \"sector\": \"university\", \"type\": \"archive\", \"topic\": \"history\", \"precision\": \"estimate\", \"record_count\": 186216}, {\"institution\": \"Victoria & Albert Museum\", \"subcollection\": \"Victoria & Albert Museum Archives\", \"sector\": \"dcms\", \"type\": \"archive\", \"topic\": \"art\", \"precision\": \"exact\", \"record_count\": 157054}, {\"institution\": \"Royal Armouries\", \"subcollection\": \"Archive Collection\", \"sector\": \"dcms\", \"type\": \"archive\", \"topic\": \"nature\", \"precision\": \"estimate\", \"record_count\": 130130}, {\"institution\": \"Sir John Soane's Museum\", \"subcollection\": \"Archive Collection\", \"sector\": \"dcms\", \"type\": \"archive\", \"topic\": \"nature\", \"precision\": \"estimate\", \"record_count\": 0}, {\"institution\": \"Tate Gallery Group\", \"subcollection\": \"Archive Collection\", \"sector\": \"dcms\", \"type\": \"archive\", \"topic\": \"nature\", \"precision\": \"estimate\", \"record_count\": 807060}]}}, {\"mode\": \"vega-lite\"});\n",
       "</script>"
      ],
      "text/plain": [
       "alt.Chart(...)"
      ]
     },
     "execution_count": 7,
     "metadata": {},
     "output_type": "execute_result"
    }
   ],
   "source": [
    "title = alt.TitleParams('Records by topic and institution', anchor='middle')\n",
    "alt.Chart(records_data, title=title).mark_bar().encode(\n",
    "    color=alt.Color('institution:N', sort='descending', legend=alt.Legend(orient='bottom',columns=4)),\n",
    "    column='precision:O',\n",
    "    x='record_count:Q',\n",
    "    y='topic:N',\n",
    ").properties(width=350).resolve_scale(x='independent').configure(numberFormat='.2s')"
   ]
  },
  {
   "cell_type": "code",
   "execution_count": 85,
   "id": "7783232a-c1a5-4372-bc71-5f13c7e85d77",
   "metadata": {
    "editable": true,
    "slideshow": {
     "slide_type": ""
    },
    "tags": [
     "hide-input",
     "remove-input"
    ]
   },
   "outputs": [
    {
     "data": {
      "text/html": [
       "\n",
       "<style>\n",
       "  #altair-viz-2c49131645db4ac08fda0e5648498cf5.vega-embed {\n",
       "    width: 100%;\n",
       "    display: flex;\n",
       "  }\n",
       "\n",
       "  #altair-viz-2c49131645db4ac08fda0e5648498cf5.vega-embed details,\n",
       "  #altair-viz-2c49131645db4ac08fda0e5648498cf5.vega-embed details summary {\n",
       "    position: relative;\n",
       "  }\n",
       "</style>\n",
       "<div id=\"altair-viz-2c49131645db4ac08fda0e5648498cf5\"></div>\n",
       "<script type=\"text/javascript\">\n",
       "  var VEGA_DEBUG = (typeof VEGA_DEBUG == \"undefined\") ? {} : VEGA_DEBUG;\n",
       "  (function(spec, embedOpt){\n",
       "    let outputDiv = document.currentScript.previousElementSibling;\n",
       "    if (outputDiv.id !== \"altair-viz-2c49131645db4ac08fda0e5648498cf5\") {\n",
       "      outputDiv = document.getElementById(\"altair-viz-2c49131645db4ac08fda0e5648498cf5\");\n",
       "    }\n",
       "    const paths = {\n",
       "      \"vega\": \"https://cdn.jsdelivr.net/npm/vega@5?noext\",\n",
       "      \"vega-lib\": \"https://cdn.jsdelivr.net/npm/vega-lib?noext\",\n",
       "      \"vega-lite\": \"https://cdn.jsdelivr.net/npm/vega-lite@5.17.0?noext\",\n",
       "      \"vega-embed\": \"https://cdn.jsdelivr.net/npm/vega-embed@6?noext\",\n",
       "    };\n",
       "\n",
       "    function maybeLoadScript(lib, version) {\n",
       "      var key = `${lib.replace(\"-\", \"\")}_version`;\n",
       "      return (VEGA_DEBUG[key] == version) ?\n",
       "        Promise.resolve(paths[lib]) :\n",
       "        new Promise(function(resolve, reject) {\n",
       "          var s = document.createElement('script');\n",
       "          document.getElementsByTagName(\"head\")[0].appendChild(s);\n",
       "          s.async = true;\n",
       "          s.onload = () => {\n",
       "            VEGA_DEBUG[key] = version;\n",
       "            return resolve(paths[lib]);\n",
       "          };\n",
       "          s.onerror = () => reject(`Error loading script: ${paths[lib]}`);\n",
       "          s.src = paths[lib];\n",
       "        });\n",
       "    }\n",
       "\n",
       "    function showError(err) {\n",
       "      outputDiv.innerHTML = `<div class=\"error\" style=\"color:red;\">${err}</div>`;\n",
       "      throw err;\n",
       "    }\n",
       "\n",
       "    function displayChart(vegaEmbed) {\n",
       "      vegaEmbed(outputDiv, spec, embedOpt)\n",
       "        .catch(err => showError(`Javascript Error: ${err.message}<br>This usually means there's a typo in your chart specification. See the javascript console for the full traceback.`));\n",
       "    }\n",
       "\n",
       "    if(typeof define === \"function\" && define.amd) {\n",
       "      requirejs.config({paths});\n",
       "      require([\"vega-embed\"], displayChart, err => showError(`Error loading script: ${err.message}`));\n",
       "    } else {\n",
       "      maybeLoadScript(\"vega\", \"5\")\n",
       "        .then(() => maybeLoadScript(\"vega-lite\", \"5.17.0\"))\n",
       "        .then(() => maybeLoadScript(\"vega-embed\", \"6\"))\n",
       "        .catch(showError)\n",
       "        .then(() => displayChart(vegaEmbed));\n",
       "    }\n",
       "  })({\"config\": {\"view\": {\"continuousWidth\": 300, \"continuousHeight\": 300}, \"numberFormat\": \".2s\"}, \"data\": {\"name\": \"data-16e7f1d857f42061747460e6ac2ad9d2\"}, \"mark\": {\"type\": \"bar\"}, \"encoding\": {\"color\": {\"field\": \"institution\", \"legend\": {\"columns\": 4, \"orient\": \"bottom\"}, \"sort\": \"descending\", \"type\": \"nominal\"}, \"column\": {\"field\": \"precision\", \"type\": \"ordinal\"}, \"x\": {\"field\": \"record_count\", \"type\": \"quantitative\"}, \"y\": {\"field\": \"sector\", \"type\": \"nominal\"}}, \"resolve\": {\"scale\": {\"x\": \"independent\"}}, \"title\": {\"text\": \"Published Collection Records by sector\", \"anchor\": \"middle\"}, \"width\": 300, \"$schema\": \"https://vega.github.io/schema/vega-lite/v5.17.0.json\", \"datasets\": {\"data-16e7f1d857f42061747460e6ac2ad9d2\": [{\"institution\": \"Oxford University\", \"subcollection\": \"History of Science Museum\", \"sector\": \"university\", \"type\": \"museum\", \"topic\": \"science\", \"precision\": \"estimate\", \"record_count\": 33592}, {\"institution\": \"Oxford University\", \"subcollection\": \"Museum of Natural History\", \"sector\": \"university\", \"type\": \"museum\", \"topic\": \"nature\", \"precision\": \"estimate\", \"record_count\": 505745}, {\"institution\": \"Oxford University\", \"subcollection\": \"Pitt Rivers Museum\", \"sector\": \"university\", \"type\": \"museum\", \"topic\": \"anthopology\", \"precision\": \"estimate\", \"record_count\": 513107}, {\"institution\": \"Glasgow Woman's Library\", \"subcollection\": \"Museum Collections\", \"sector\": \"library\", \"type\": \"museum\", \"topic\": \"mixed\", \"precision\": \"estimate\", \"record_count\": 3567}, {\"institution\": \"Victoria & Albert Museum\", \"subcollection\": \"Victoria & Albert Museum\", \"sector\": \"dcms\", \"type\": \"museum\", \"topic\": \"art\", \"precision\": \"exact\", \"record_count\": 1281326}, {\"institution\": \"Museum of the Home\", \"subcollection\": \"Museum of the Home\", \"sector\": \"dcms\", \"type\": \"museum\", \"topic\": \"history\", \"precision\": \"exact\", \"record_count\": 12200}, {\"institution\": \"Horniman Museum\", \"subcollection\": \"Museum Collection\", \"sector\": \"dcms\", \"type\": \"museum\", \"topic\": \"history\", \"precision\": \"estimate\", \"record_count\": 132612}, {\"institution\": \"Imperial War Museums\", \"subcollection\": \"Museum Collection\", \"sector\": \"dcms\", \"type\": \"museum\", \"topic\": \"history\", \"precision\": \"estimate\", \"record_count\": 1737698}, {\"institution\": \"National Gallery\", \"subcollection\": \"Museum Collection\", \"sector\": \"dcms\", \"type\": \"museum\", \"topic\": \"history\", \"precision\": \"estimate\", \"record_count\": 2626}, {\"institution\": \"National Museums Liverpool\", \"subcollection\": \"Museum Collection\", \"sector\": \"dcms\", \"type\": \"museum\", \"topic\": \"history\", \"precision\": \"estimate\", \"record_count\": 73682}, {\"institution\": \"National Portrait Gallery\", \"subcollection\": \"Museum Collection\", \"sector\": \"dcms\", \"type\": \"museum\", \"topic\": \"history\", \"precision\": \"estimate\", \"record_count\": 220000}, {\"institution\": \"Natural History Museum\", \"subcollection\": \"Entomology collections\", \"sector\": \"dcms\", \"type\": \"museum\", \"topic\": \"nature\", \"precision\": \"estimate\", \"record_count\": 34000000}, {\"institution\": \"Natural History Museum\", \"subcollection\": \"Botany collections\", \"sector\": \"dcms\", \"type\": \"museum\", \"topic\": \"nature\", \"precision\": \"estimate\", \"record_count\": 6000000}, {\"institution\": \"Natural History Museum\", \"subcollection\": \"Zooology collections\", \"sector\": \"dcms\", \"type\": \"museum\", \"topic\": \"nature\", \"precision\": \"estimate\", \"record_count\": 29000000}, {\"institution\": \"Natural History Museum\", \"subcollection\": \"Palaeontology collections\", \"sector\": \"dcms\", \"type\": \"museum\", \"topic\": \"nature\", \"precision\": \"estimate\", \"record_count\": 7000000}, {\"institution\": \"Natural History Museum\", \"subcollection\": \"Mineralogy collections\", \"sector\": \"dcms\", \"type\": \"museum\", \"topic\": \"nature\", \"precision\": \"estimate\", \"record_count\": 500000}, {\"institution\": \"Natural History Museum\", \"subcollection\": \"Library and archive collections\", \"sector\": \"dcms\", \"type\": \"library\", \"topic\": \"nature\", \"precision\": \"estimate\", \"record_count\": 1500000}, {\"institution\": \"Royal Armouries\", \"subcollection\": \"Museum Collection\", \"sector\": \"dcms\", \"type\": \"museum\", \"topic\": \"nature\", \"precision\": \"estimate\", \"record_count\": 65627}, {\"institution\": \"Royal Armouries\", \"subcollection\": \"Library Collection\", \"sector\": \"dcms\", \"type\": \"library\", \"topic\": \"nature\", \"precision\": \"estimate\", \"record_count\": 65627}, {\"institution\": \"Royal Armouries\", \"subcollection\": \"Archive Collection\", \"sector\": \"dcms\", \"type\": \"archive\", \"topic\": \"nature\", \"precision\": \"estimate\", \"record_count\": 130130}, {\"institution\": \"Sir John Soane's Museum\", \"subcollection\": \"Museum Collection\", \"sector\": \"dcms\", \"type\": \"museum\", \"topic\": \"nature\", \"precision\": \"estimate\", \"record_count\": 57164}, {\"institution\": \"Sir John Soane's Museum\", \"subcollection\": \"Library Collection\", \"sector\": \"dcms\", \"type\": \"library\", \"topic\": \"nature\", \"precision\": \"estimate\", \"record_count\": 57164}, {\"institution\": \"Sir John Soane's Museum\", \"subcollection\": \"Archive Collection\", \"sector\": \"dcms\", \"type\": \"archive\", \"topic\": \"nature\", \"precision\": \"estimate\", \"record_count\": 0}, {\"institution\": \"Tate Gallery Group\", \"subcollection\": \"Museum Collection\", \"sector\": \"dcms\", \"type\": \"museum\", \"topic\": \"nature\", \"precision\": \"estimate\", \"record_count\": 79236}, {\"institution\": \"Tate Gallery Group\", \"subcollection\": \"Archive Collection\", \"sector\": \"dcms\", \"type\": \"archive\", \"topic\": \"nature\", \"precision\": \"estimate\", \"record_count\": 807060}, {\"institution\": \"British Museum\", \"subcollection\": \"Museum Collection\", \"sector\": \"dcms\", \"type\": \"museum\", \"topic\": \"nature\", \"precision\": \"estimate\", \"record_count\": 2000000}, {\"institution\": \"Oxford University\", \"subcollection\": \"History of Science Museum\", \"sector\": \"university\", \"type\": \"museum\", \"topic\": \"science\", \"precision\": \"estimate\", \"record_count\": 21011}, {\"institution\": \"Oxford University\", \"subcollection\": \"Bodleian Library\", \"sector\": \"university\", \"type\": \"library\", \"topic\": \"national\", \"precision\": \"estimate\", \"record_count\": 8000000}, {\"institution\": \"Lambeth Palace Library\", \"subcollection\": \"Sion College Collections\", \"sector\": \"library\", \"type\": \"library\", \"topic\": \"theology\", \"precision\": \"estimate\", \"record_count\": 15000}, {\"institution\": \"Victoria & Albert Museum\", \"subcollection\": \"National Art Library\", \"sector\": \"dcms\", \"type\": \"library\", \"topic\": \"art\", \"precision\": \"estimate\", \"record_count\": 849000}, {\"institution\": \"Museum of the Home\", \"subcollection\": \"Library Collection\", \"sector\": \"dcms\", \"type\": \"library\", \"topic\": \"history\", \"precision\": \"exact\", \"record_count\": 6290}, {\"institution\": \"Victoria & Albert Museum\", \"subcollection\": \"Victoria & Albert Museum Archives\", \"sector\": \"dcms\", \"type\": \"archive\", \"topic\": \"art\", \"precision\": \"exact\", \"record_count\": 157054}]}}, {\"mode\": \"vega-lite\"});\n",
       "</script>"
      ],
      "text/plain": [
       "alt.Chart(...)"
      ]
     },
     "execution_count": 85,
     "metadata": {},
     "output_type": "execute_result"
    }
   ],
   "source": [
    "\n",
    "title = alt.TitleParams('Published Collection Records by sector', anchor='middle')\n",
    "alt.Chart(records_data, title=title).mark_bar().encode(\n",
    "    column='precision:O',\n",
    "    x='record_count:Q',\n",
    "    y='sector:N',\n",
    "    color=alt.Color('institution:N', sort='descending', legend=alt.Legend(orient='bottom',columns=4))\n",
    ").properties(width=300).resolve_scale(x='independent').configure(numberFormat='.2s')"
   ]
  },
  {
   "cell_type": "code",
   "execution_count": 86,
   "id": "425fbafc-b7e0-4676-95f7-665e8f18f29c",
   "metadata": {
    "editable": true,
    "slideshow": {
     "slide_type": ""
    },
    "tags": [
     "hide-input",
     "remove-input"
    ]
   },
   "outputs": [
    {
     "data": {
      "text/html": [
       "\n",
       "<style>\n",
       "  #altair-viz-455ff2d9947041559f2c0e3312401abb.vega-embed {\n",
       "    width: 100%;\n",
       "    display: flex;\n",
       "  }\n",
       "\n",
       "  #altair-viz-455ff2d9947041559f2c0e3312401abb.vega-embed details,\n",
       "  #altair-viz-455ff2d9947041559f2c0e3312401abb.vega-embed details summary {\n",
       "    position: relative;\n",
       "  }\n",
       "</style>\n",
       "<div id=\"altair-viz-455ff2d9947041559f2c0e3312401abb\"></div>\n",
       "<script type=\"text/javascript\">\n",
       "  var VEGA_DEBUG = (typeof VEGA_DEBUG == \"undefined\") ? {} : VEGA_DEBUG;\n",
       "  (function(spec, embedOpt){\n",
       "    let outputDiv = document.currentScript.previousElementSibling;\n",
       "    if (outputDiv.id !== \"altair-viz-455ff2d9947041559f2c0e3312401abb\") {\n",
       "      outputDiv = document.getElementById(\"altair-viz-455ff2d9947041559f2c0e3312401abb\");\n",
       "    }\n",
       "    const paths = {\n",
       "      \"vega\": \"https://cdn.jsdelivr.net/npm/vega@5?noext\",\n",
       "      \"vega-lib\": \"https://cdn.jsdelivr.net/npm/vega-lib?noext\",\n",
       "      \"vega-lite\": \"https://cdn.jsdelivr.net/npm/vega-lite@5.17.0?noext\",\n",
       "      \"vega-embed\": \"https://cdn.jsdelivr.net/npm/vega-embed@6?noext\",\n",
       "    };\n",
       "\n",
       "    function maybeLoadScript(lib, version) {\n",
       "      var key = `${lib.replace(\"-\", \"\")}_version`;\n",
       "      return (VEGA_DEBUG[key] == version) ?\n",
       "        Promise.resolve(paths[lib]) :\n",
       "        new Promise(function(resolve, reject) {\n",
       "          var s = document.createElement('script');\n",
       "          document.getElementsByTagName(\"head\")[0].appendChild(s);\n",
       "          s.async = true;\n",
       "          s.onload = () => {\n",
       "            VEGA_DEBUG[key] = version;\n",
       "            return resolve(paths[lib]);\n",
       "          };\n",
       "          s.onerror = () => reject(`Error loading script: ${paths[lib]}`);\n",
       "          s.src = paths[lib];\n",
       "        });\n",
       "    }\n",
       "\n",
       "    function showError(err) {\n",
       "      outputDiv.innerHTML = `<div class=\"error\" style=\"color:red;\">${err}</div>`;\n",
       "      throw err;\n",
       "    }\n",
       "\n",
       "    function displayChart(vegaEmbed) {\n",
       "      vegaEmbed(outputDiv, spec, embedOpt)\n",
       "        .catch(err => showError(`Javascript Error: ${err.message}<br>This usually means there's a typo in your chart specification. See the javascript console for the full traceback.`));\n",
       "    }\n",
       "\n",
       "    if(typeof define === \"function\" && define.amd) {\n",
       "      requirejs.config({paths});\n",
       "      require([\"vega-embed\"], displayChart, err => showError(`Error loading script: ${err.message}`));\n",
       "    } else {\n",
       "      maybeLoadScript(\"vega\", \"5\")\n",
       "        .then(() => maybeLoadScript(\"vega-lite\", \"5.17.0\"))\n",
       "        .then(() => maybeLoadScript(\"vega-embed\", \"6\"))\n",
       "        .catch(showError)\n",
       "        .then(() => displayChart(vegaEmbed));\n",
       "    }\n",
       "  })({\"config\": {\"view\": {\"continuousWidth\": 300, \"continuousHeight\": 300}, \"numberFormat\": \".2s\"}, \"data\": {\"name\": \"data-16e7f1d857f42061747460e6ac2ad9d2\"}, \"mark\": {\"type\": \"bar\"}, \"encoding\": {\"color\": {\"field\": \"institution\", \"legend\": {\"columns\": 4, \"orient\": \"bottom\"}, \"sort\": \"descending\", \"type\": \"nominal\"}, \"column\": {\"field\": \"precision\", \"type\": \"ordinal\"}, \"x\": {\"field\": \"record_count\", \"type\": \"quantitative\"}, \"y\": {\"field\": \"topic\", \"type\": \"nominal\"}}, \"resolve\": {\"scale\": {\"x\": \"independent\"}}, \"title\": {\"text\": \"Published Collection Records by topic\", \"anchor\": \"middle\"}, \"width\": 300, \"$schema\": \"https://vega.github.io/schema/vega-lite/v5.17.0.json\", \"datasets\": {\"data-16e7f1d857f42061747460e6ac2ad9d2\": [{\"institution\": \"Oxford University\", \"subcollection\": \"History of Science Museum\", \"sector\": \"university\", \"type\": \"museum\", \"topic\": \"science\", \"precision\": \"estimate\", \"record_count\": 33592}, {\"institution\": \"Oxford University\", \"subcollection\": \"Museum of Natural History\", \"sector\": \"university\", \"type\": \"museum\", \"topic\": \"nature\", \"precision\": \"estimate\", \"record_count\": 505745}, {\"institution\": \"Oxford University\", \"subcollection\": \"Pitt Rivers Museum\", \"sector\": \"university\", \"type\": \"museum\", \"topic\": \"anthopology\", \"precision\": \"estimate\", \"record_count\": 513107}, {\"institution\": \"Glasgow Woman's Library\", \"subcollection\": \"Museum Collections\", \"sector\": \"library\", \"type\": \"museum\", \"topic\": \"mixed\", \"precision\": \"estimate\", \"record_count\": 3567}, {\"institution\": \"Victoria & Albert Museum\", \"subcollection\": \"Victoria & Albert Museum\", \"sector\": \"dcms\", \"type\": \"museum\", \"topic\": \"art\", \"precision\": \"exact\", \"record_count\": 1281326}, {\"institution\": \"Museum of the Home\", \"subcollection\": \"Museum of the Home\", \"sector\": \"dcms\", \"type\": \"museum\", \"topic\": \"history\", \"precision\": \"exact\", \"record_count\": 12200}, {\"institution\": \"Horniman Museum\", \"subcollection\": \"Museum Collection\", \"sector\": \"dcms\", \"type\": \"museum\", \"topic\": \"history\", \"precision\": \"estimate\", \"record_count\": 132612}, {\"institution\": \"Imperial War Museums\", \"subcollection\": \"Museum Collection\", \"sector\": \"dcms\", \"type\": \"museum\", \"topic\": \"history\", \"precision\": \"estimate\", \"record_count\": 1737698}, {\"institution\": \"National Gallery\", \"subcollection\": \"Museum Collection\", \"sector\": \"dcms\", \"type\": \"museum\", \"topic\": \"history\", \"precision\": \"estimate\", \"record_count\": 2626}, {\"institution\": \"National Museums Liverpool\", \"subcollection\": \"Museum Collection\", \"sector\": \"dcms\", \"type\": \"museum\", \"topic\": \"history\", \"precision\": \"estimate\", \"record_count\": 73682}, {\"institution\": \"National Portrait Gallery\", \"subcollection\": \"Museum Collection\", \"sector\": \"dcms\", \"type\": \"museum\", \"topic\": \"history\", \"precision\": \"estimate\", \"record_count\": 220000}, {\"institution\": \"Natural History Museum\", \"subcollection\": \"Entomology collections\", \"sector\": \"dcms\", \"type\": \"museum\", \"topic\": \"nature\", \"precision\": \"estimate\", \"record_count\": 34000000}, {\"institution\": \"Natural History Museum\", \"subcollection\": \"Botany collections\", \"sector\": \"dcms\", \"type\": \"museum\", \"topic\": \"nature\", \"precision\": \"estimate\", \"record_count\": 6000000}, {\"institution\": \"Natural History Museum\", \"subcollection\": \"Zooology collections\", \"sector\": \"dcms\", \"type\": \"museum\", \"topic\": \"nature\", \"precision\": \"estimate\", \"record_count\": 29000000}, {\"institution\": \"Natural History Museum\", \"subcollection\": \"Palaeontology collections\", \"sector\": \"dcms\", \"type\": \"museum\", \"topic\": \"nature\", \"precision\": \"estimate\", \"record_count\": 7000000}, {\"institution\": \"Natural History Museum\", \"subcollection\": \"Mineralogy collections\", \"sector\": \"dcms\", \"type\": \"museum\", \"topic\": \"nature\", \"precision\": \"estimate\", \"record_count\": 500000}, {\"institution\": \"Natural History Museum\", \"subcollection\": \"Library and archive collections\", \"sector\": \"dcms\", \"type\": \"library\", \"topic\": \"nature\", \"precision\": \"estimate\", \"record_count\": 1500000}, {\"institution\": \"Royal Armouries\", \"subcollection\": \"Museum Collection\", \"sector\": \"dcms\", \"type\": \"museum\", \"topic\": \"nature\", \"precision\": \"estimate\", \"record_count\": 65627}, {\"institution\": \"Royal Armouries\", \"subcollection\": \"Library Collection\", \"sector\": \"dcms\", \"type\": \"library\", \"topic\": \"nature\", \"precision\": \"estimate\", \"record_count\": 65627}, {\"institution\": \"Royal Armouries\", \"subcollection\": \"Archive Collection\", \"sector\": \"dcms\", \"type\": \"archive\", \"topic\": \"nature\", \"precision\": \"estimate\", \"record_count\": 130130}, {\"institution\": \"Sir John Soane's Museum\", \"subcollection\": \"Museum Collection\", \"sector\": \"dcms\", \"type\": \"museum\", \"topic\": \"nature\", \"precision\": \"estimate\", \"record_count\": 57164}, {\"institution\": \"Sir John Soane's Museum\", \"subcollection\": \"Library Collection\", \"sector\": \"dcms\", \"type\": \"library\", \"topic\": \"nature\", \"precision\": \"estimate\", \"record_count\": 57164}, {\"institution\": \"Sir John Soane's Museum\", \"subcollection\": \"Archive Collection\", \"sector\": \"dcms\", \"type\": \"archive\", \"topic\": \"nature\", \"precision\": \"estimate\", \"record_count\": 0}, {\"institution\": \"Tate Gallery Group\", \"subcollection\": \"Museum Collection\", \"sector\": \"dcms\", \"type\": \"museum\", \"topic\": \"nature\", \"precision\": \"estimate\", \"record_count\": 79236}, {\"institution\": \"Tate Gallery Group\", \"subcollection\": \"Archive Collection\", \"sector\": \"dcms\", \"type\": \"archive\", \"topic\": \"nature\", \"precision\": \"estimate\", \"record_count\": 807060}, {\"institution\": \"British Museum\", \"subcollection\": \"Museum Collection\", \"sector\": \"dcms\", \"type\": \"museum\", \"topic\": \"nature\", \"precision\": \"estimate\", \"record_count\": 2000000}, {\"institution\": \"Oxford University\", \"subcollection\": \"History of Science Museum\", \"sector\": \"university\", \"type\": \"museum\", \"topic\": \"science\", \"precision\": \"estimate\", \"record_count\": 21011}, {\"institution\": \"Oxford University\", \"subcollection\": \"Bodleian Library\", \"sector\": \"university\", \"type\": \"library\", \"topic\": \"national\", \"precision\": \"estimate\", \"record_count\": 8000000}, {\"institution\": \"Lambeth Palace Library\", \"subcollection\": \"Sion College Collections\", \"sector\": \"library\", \"type\": \"library\", \"topic\": \"theology\", \"precision\": \"estimate\", \"record_count\": 15000}, {\"institution\": \"Victoria & Albert Museum\", \"subcollection\": \"National Art Library\", \"sector\": \"dcms\", \"type\": \"library\", \"topic\": \"art\", \"precision\": \"estimate\", \"record_count\": 849000}, {\"institution\": \"Museum of the Home\", \"subcollection\": \"Library Collection\", \"sector\": \"dcms\", \"type\": \"library\", \"topic\": \"history\", \"precision\": \"exact\", \"record_count\": 6290}, {\"institution\": \"Victoria & Albert Museum\", \"subcollection\": \"Victoria & Albert Museum Archives\", \"sector\": \"dcms\", \"type\": \"archive\", \"topic\": \"art\", \"precision\": \"exact\", \"record_count\": 157054}]}}, {\"mode\": \"vega-lite\"});\n",
       "</script>"
      ],
      "text/plain": [
       "alt.Chart(...)"
      ]
     },
     "execution_count": 86,
     "metadata": {},
     "output_type": "execute_result"
    }
   ],
   "source": [
    "title = alt.TitleParams('Published Collection Records by topic', anchor='middle')\n",
    "alt.Chart(records_data, title=title).mark_bar().encode(\n",
    "    column='precision:O',\n",
    "    x='record_count:Q',\n",
    "    y='topic:N',\n",
    "    color=alt.Color('institution:N', sort='descending', legend=alt.Legend(orient='bottom',columns=4))\n",
    ").properties(width=300).resolve_scale(x='independent').configure(numberFormat='.2s')"
   ]
  },
  {
   "cell_type": "code",
   "execution_count": 88,
   "id": "dc69099f-9fb4-412b-bce8-7626b2fd43aa",
   "metadata": {
    "editable": true,
    "slideshow": {
     "slide_type": ""
    },
    "tags": [
     "hide-input",
     "remove-input"
    ]
   },
   "outputs": [
    {
     "data": {
      "text/html": [
       "\n",
       "<style>\n",
       "  #altair-viz-dfd3361fcbc7410387f71fe26cc8bf1d.vega-embed {\n",
       "    width: 100%;\n",
       "    display: flex;\n",
       "  }\n",
       "\n",
       "  #altair-viz-dfd3361fcbc7410387f71fe26cc8bf1d.vega-embed details,\n",
       "  #altair-viz-dfd3361fcbc7410387f71fe26cc8bf1d.vega-embed details summary {\n",
       "    position: relative;\n",
       "  }\n",
       "</style>\n",
       "<div id=\"altair-viz-dfd3361fcbc7410387f71fe26cc8bf1d\"></div>\n",
       "<script type=\"text/javascript\">\n",
       "  var VEGA_DEBUG = (typeof VEGA_DEBUG == \"undefined\") ? {} : VEGA_DEBUG;\n",
       "  (function(spec, embedOpt){\n",
       "    let outputDiv = document.currentScript.previousElementSibling;\n",
       "    if (outputDiv.id !== \"altair-viz-dfd3361fcbc7410387f71fe26cc8bf1d\") {\n",
       "      outputDiv = document.getElementById(\"altair-viz-dfd3361fcbc7410387f71fe26cc8bf1d\");\n",
       "    }\n",
       "    const paths = {\n",
       "      \"vega\": \"https://cdn.jsdelivr.net/npm/vega@5?noext\",\n",
       "      \"vega-lib\": \"https://cdn.jsdelivr.net/npm/vega-lib?noext\",\n",
       "      \"vega-lite\": \"https://cdn.jsdelivr.net/npm/vega-lite@5.17.0?noext\",\n",
       "      \"vega-embed\": \"https://cdn.jsdelivr.net/npm/vega-embed@6?noext\",\n",
       "    };\n",
       "\n",
       "    function maybeLoadScript(lib, version) {\n",
       "      var key = `${lib.replace(\"-\", \"\")}_version`;\n",
       "      return (VEGA_DEBUG[key] == version) ?\n",
       "        Promise.resolve(paths[lib]) :\n",
       "        new Promise(function(resolve, reject) {\n",
       "          var s = document.createElement('script');\n",
       "          document.getElementsByTagName(\"head\")[0].appendChild(s);\n",
       "          s.async = true;\n",
       "          s.onload = () => {\n",
       "            VEGA_DEBUG[key] = version;\n",
       "            return resolve(paths[lib]);\n",
       "          };\n",
       "          s.onerror = () => reject(`Error loading script: ${paths[lib]}`);\n",
       "          s.src = paths[lib];\n",
       "        });\n",
       "    }\n",
       "\n",
       "    function showError(err) {\n",
       "      outputDiv.innerHTML = `<div class=\"error\" style=\"color:red;\">${err}</div>`;\n",
       "      throw err;\n",
       "    }\n",
       "\n",
       "    function displayChart(vegaEmbed) {\n",
       "      vegaEmbed(outputDiv, spec, embedOpt)\n",
       "        .catch(err => showError(`Javascript Error: ${err.message}<br>This usually means there's a typo in your chart specification. See the javascript console for the full traceback.`));\n",
       "    }\n",
       "\n",
       "    if(typeof define === \"function\" && define.amd) {\n",
       "      requirejs.config({paths});\n",
       "      require([\"vega-embed\"], displayChart, err => showError(`Error loading script: ${err.message}`));\n",
       "    } else {\n",
       "      maybeLoadScript(\"vega\", \"5\")\n",
       "        .then(() => maybeLoadScript(\"vega-lite\", \"5.17.0\"))\n",
       "        .then(() => maybeLoadScript(\"vega-embed\", \"6\"))\n",
       "        .catch(showError)\n",
       "        .then(() => displayChart(vegaEmbed));\n",
       "    }\n",
       "  })({\"config\": {\"view\": {\"continuousWidth\": 300, \"continuousHeight\": 300}, \"numberFormat\": \".2s\"}, \"data\": {\"name\": \"data-16e7f1d857f42061747460e6ac2ad9d2\"}, \"mark\": {\"type\": \"bar\"}, \"encoding\": {\"color\": {\"field\": \"type\", \"legend\": {\"orient\": \"bottom\", \"titleOrient\": \"left\"}, \"title\": \"settings\", \"type\": \"nominal\"}, \"column\": {\"field\": \"type\", \"title\": \"Cataloguing\", \"type\": \"nominal\"}, \"row\": {\"field\": \"institution\", \"header\": {\"labelAngle\": 0, \"labelAlign\": \"left\"}, \"title\": \"Institution\", \"type\": \"nominal\"}, \"x\": {\"field\": \"record_count\", \"title\": null, \"type\": \"quantitative\"}, \"y\": {\"field\": \"precision\", \"title\": null, \"type\": \"nominal\"}}, \"height\": {\"step\": 8}, \"resolve\": {\"scale\": {\"x\": \"independent\"}}, \"title\": {\"text\": \"Records by institution and precision\", \"anchor\": \"middle\"}, \"width\": 150, \"$schema\": \"https://vega.github.io/schema/vega-lite/v5.17.0.json\", \"datasets\": {\"data-16e7f1d857f42061747460e6ac2ad9d2\": [{\"institution\": \"Oxford University\", \"subcollection\": \"History of Science Museum\", \"sector\": \"university\", \"type\": \"museum\", \"topic\": \"science\", \"precision\": \"estimate\", \"record_count\": 33592}, {\"institution\": \"Oxford University\", \"subcollection\": \"Museum of Natural History\", \"sector\": \"university\", \"type\": \"museum\", \"topic\": \"nature\", \"precision\": \"estimate\", \"record_count\": 505745}, {\"institution\": \"Oxford University\", \"subcollection\": \"Pitt Rivers Museum\", \"sector\": \"university\", \"type\": \"museum\", \"topic\": \"anthopology\", \"precision\": \"estimate\", \"record_count\": 513107}, {\"institution\": \"Glasgow Woman's Library\", \"subcollection\": \"Museum Collections\", \"sector\": \"library\", \"type\": \"museum\", \"topic\": \"mixed\", \"precision\": \"estimate\", \"record_count\": 3567}, {\"institution\": \"Victoria & Albert Museum\", \"subcollection\": \"Victoria & Albert Museum\", \"sector\": \"dcms\", \"type\": \"museum\", \"topic\": \"art\", \"precision\": \"exact\", \"record_count\": 1281326}, {\"institution\": \"Museum of the Home\", \"subcollection\": \"Museum of the Home\", \"sector\": \"dcms\", \"type\": \"museum\", \"topic\": \"history\", \"precision\": \"exact\", \"record_count\": 12200}, {\"institution\": \"Horniman Museum\", \"subcollection\": \"Museum Collection\", \"sector\": \"dcms\", \"type\": \"museum\", \"topic\": \"history\", \"precision\": \"estimate\", \"record_count\": 132612}, {\"institution\": \"Imperial War Museums\", \"subcollection\": \"Museum Collection\", \"sector\": \"dcms\", \"type\": \"museum\", \"topic\": \"history\", \"precision\": \"estimate\", \"record_count\": 1737698}, {\"institution\": \"National Gallery\", \"subcollection\": \"Museum Collection\", \"sector\": \"dcms\", \"type\": \"museum\", \"topic\": \"history\", \"precision\": \"estimate\", \"record_count\": 2626}, {\"institution\": \"National Museums Liverpool\", \"subcollection\": \"Museum Collection\", \"sector\": \"dcms\", \"type\": \"museum\", \"topic\": \"history\", \"precision\": \"estimate\", \"record_count\": 73682}, {\"institution\": \"National Portrait Gallery\", \"subcollection\": \"Museum Collection\", \"sector\": \"dcms\", \"type\": \"museum\", \"topic\": \"history\", \"precision\": \"estimate\", \"record_count\": 220000}, {\"institution\": \"Natural History Museum\", \"subcollection\": \"Entomology collections\", \"sector\": \"dcms\", \"type\": \"museum\", \"topic\": \"nature\", \"precision\": \"estimate\", \"record_count\": 34000000}, {\"institution\": \"Natural History Museum\", \"subcollection\": \"Botany collections\", \"sector\": \"dcms\", \"type\": \"museum\", \"topic\": \"nature\", \"precision\": \"estimate\", \"record_count\": 6000000}, {\"institution\": \"Natural History Museum\", \"subcollection\": \"Zooology collections\", \"sector\": \"dcms\", \"type\": \"museum\", \"topic\": \"nature\", \"precision\": \"estimate\", \"record_count\": 29000000}, {\"institution\": \"Natural History Museum\", \"subcollection\": \"Palaeontology collections\", \"sector\": \"dcms\", \"type\": \"museum\", \"topic\": \"nature\", \"precision\": \"estimate\", \"record_count\": 7000000}, {\"institution\": \"Natural History Museum\", \"subcollection\": \"Mineralogy collections\", \"sector\": \"dcms\", \"type\": \"museum\", \"topic\": \"nature\", \"precision\": \"estimate\", \"record_count\": 500000}, {\"institution\": \"Natural History Museum\", \"subcollection\": \"Library and archive collections\", \"sector\": \"dcms\", \"type\": \"library\", \"topic\": \"nature\", \"precision\": \"estimate\", \"record_count\": 1500000}, {\"institution\": \"Royal Armouries\", \"subcollection\": \"Museum Collection\", \"sector\": \"dcms\", \"type\": \"museum\", \"topic\": \"nature\", \"precision\": \"estimate\", \"record_count\": 65627}, {\"institution\": \"Royal Armouries\", \"subcollection\": \"Library Collection\", \"sector\": \"dcms\", \"type\": \"library\", \"topic\": \"nature\", \"precision\": \"estimate\", \"record_count\": 65627}, {\"institution\": \"Royal Armouries\", \"subcollection\": \"Archive Collection\", \"sector\": \"dcms\", \"type\": \"archive\", \"topic\": \"nature\", \"precision\": \"estimate\", \"record_count\": 130130}, {\"institution\": \"Sir John Soane's Museum\", \"subcollection\": \"Museum Collection\", \"sector\": \"dcms\", \"type\": \"museum\", \"topic\": \"nature\", \"precision\": \"estimate\", \"record_count\": 57164}, {\"institution\": \"Sir John Soane's Museum\", \"subcollection\": \"Library Collection\", \"sector\": \"dcms\", \"type\": \"library\", \"topic\": \"nature\", \"precision\": \"estimate\", \"record_count\": 57164}, {\"institution\": \"Sir John Soane's Museum\", \"subcollection\": \"Archive Collection\", \"sector\": \"dcms\", \"type\": \"archive\", \"topic\": \"nature\", \"precision\": \"estimate\", \"record_count\": 0}, {\"institution\": \"Tate Gallery Group\", \"subcollection\": \"Museum Collection\", \"sector\": \"dcms\", \"type\": \"museum\", \"topic\": \"nature\", \"precision\": \"estimate\", \"record_count\": 79236}, {\"institution\": \"Tate Gallery Group\", \"subcollection\": \"Archive Collection\", \"sector\": \"dcms\", \"type\": \"archive\", \"topic\": \"nature\", \"precision\": \"estimate\", \"record_count\": 807060}, {\"institution\": \"British Museum\", \"subcollection\": \"Museum Collection\", \"sector\": \"dcms\", \"type\": \"museum\", \"topic\": \"nature\", \"precision\": \"estimate\", \"record_count\": 2000000}, {\"institution\": \"Oxford University\", \"subcollection\": \"History of Science Museum\", \"sector\": \"university\", \"type\": \"museum\", \"topic\": \"science\", \"precision\": \"estimate\", \"record_count\": 21011}, {\"institution\": \"Oxford University\", \"subcollection\": \"Bodleian Library\", \"sector\": \"university\", \"type\": \"library\", \"topic\": \"national\", \"precision\": \"estimate\", \"record_count\": 8000000}, {\"institution\": \"Lambeth Palace Library\", \"subcollection\": \"Sion College Collections\", \"sector\": \"library\", \"type\": \"library\", \"topic\": \"theology\", \"precision\": \"estimate\", \"record_count\": 15000}, {\"institution\": \"Victoria & Albert Museum\", \"subcollection\": \"National Art Library\", \"sector\": \"dcms\", \"type\": \"library\", \"topic\": \"art\", \"precision\": \"estimate\", \"record_count\": 849000}, {\"institution\": \"Museum of the Home\", \"subcollection\": \"Library Collection\", \"sector\": \"dcms\", \"type\": \"library\", \"topic\": \"history\", \"precision\": \"exact\", \"record_count\": 6290}, {\"institution\": \"Victoria & Albert Museum\", \"subcollection\": \"Victoria & Albert Museum Archives\", \"sector\": \"dcms\", \"type\": \"archive\", \"topic\": \"art\", \"precision\": \"exact\", \"record_count\": 157054}]}}, {\"mode\": \"vega-lite\"});\n",
       "</script>"
      ],
      "text/plain": [
       "alt.Chart(...)"
      ]
     },
     "execution_count": 88,
     "metadata": {},
     "output_type": "execute_result"
    }
   ],
   "source": [
    "title = alt.TitleParams('Records by institution and precision', anchor='middle')\n",
    "alt.Chart(records_data, width=150, title=title, height=alt.Step(8)).mark_bar().encode(\n",
    "    alt.Y(\"precision:N\").title(None),\n",
    "    alt.X(\"record_count:Q\").title(None),\n",
    "    alt.Color(\"type:N\").title(\"settings\").legend(orient=\"bottom\", titleOrient=\"left\"),\n",
    "    alt.Row(\"institution:N\").title(\"Institution\").header(labelAngle=0, labelAlign='left'),\n",
    "    alt.Column(\"type:N\").title(\"Cataloguing\"),\n",
    ").resolve_scale(x='independent').configure(numberFormat='.2s')"
   ]
  },
  {
   "cell_type": "code",
   "execution_count": 104,
   "id": "a5e6ae88-c544-40df-b431-f094e0d79202",
   "metadata": {
    "editable": true,
    "slideshow": {
     "slide_type": ""
    },
    "tags": [
     "hide-input",
     "remove-cell"
    ]
   },
   "outputs": [],
   "source": [
    "records_data = pd.read_csv(\"records-stats.csv\")"
   ]
  },
  {
   "cell_type": "code",
   "execution_count": 76,
   "id": "82789f57-0593-4994-8603-e4c23b5e7d88",
   "metadata": {
    "editable": true,
    "slideshow": {
     "slide_type": ""
    },
    "tags": [
     "hide-input",
     "remove-input"
    ]
   },
   "outputs": [
    {
     "data": {
      "text/html": [
       "\n",
       "<style>\n",
       "  #altair-viz-0d19290421cb4bc9935053849a099fa5.vega-embed {\n",
       "    width: 100%;\n",
       "    display: flex;\n",
       "  }\n",
       "\n",
       "  #altair-viz-0d19290421cb4bc9935053849a099fa5.vega-embed details,\n",
       "  #altair-viz-0d19290421cb4bc9935053849a099fa5.vega-embed details summary {\n",
       "    position: relative;\n",
       "  }\n",
       "</style>\n",
       "<div id=\"altair-viz-0d19290421cb4bc9935053849a099fa5\"></div>\n",
       "<script type=\"text/javascript\">\n",
       "  var VEGA_DEBUG = (typeof VEGA_DEBUG == \"undefined\") ? {} : VEGA_DEBUG;\n",
       "  (function(spec, embedOpt){\n",
       "    let outputDiv = document.currentScript.previousElementSibling;\n",
       "    if (outputDiv.id !== \"altair-viz-0d19290421cb4bc9935053849a099fa5\") {\n",
       "      outputDiv = document.getElementById(\"altair-viz-0d19290421cb4bc9935053849a099fa5\");\n",
       "    }\n",
       "    const paths = {\n",
       "      \"vega\": \"https://cdn.jsdelivr.net/npm/vega@5?noext\",\n",
       "      \"vega-lib\": \"https://cdn.jsdelivr.net/npm/vega-lib?noext\",\n",
       "      \"vega-lite\": \"https://cdn.jsdelivr.net/npm/vega-lite@5.17.0?noext\",\n",
       "      \"vega-embed\": \"https://cdn.jsdelivr.net/npm/vega-embed@6?noext\",\n",
       "    };\n",
       "\n",
       "    function maybeLoadScript(lib, version) {\n",
       "      var key = `${lib.replace(\"-\", \"\")}_version`;\n",
       "      return (VEGA_DEBUG[key] == version) ?\n",
       "        Promise.resolve(paths[lib]) :\n",
       "        new Promise(function(resolve, reject) {\n",
       "          var s = document.createElement('script');\n",
       "          document.getElementsByTagName(\"head\")[0].appendChild(s);\n",
       "          s.async = true;\n",
       "          s.onload = () => {\n",
       "            VEGA_DEBUG[key] = version;\n",
       "            return resolve(paths[lib]);\n",
       "          };\n",
       "          s.onerror = () => reject(`Error loading script: ${paths[lib]}`);\n",
       "          s.src = paths[lib];\n",
       "        });\n",
       "    }\n",
       "\n",
       "    function showError(err) {\n",
       "      outputDiv.innerHTML = `<div class=\"error\" style=\"color:red;\">${err}</div>`;\n",
       "      throw err;\n",
       "    }\n",
       "\n",
       "    function displayChart(vegaEmbed) {\n",
       "      vegaEmbed(outputDiv, spec, embedOpt)\n",
       "        .catch(err => showError(`Javascript Error: ${err.message}<br>This usually means there's a typo in your chart specification. See the javascript console for the full traceback.`));\n",
       "    }\n",
       "\n",
       "    if(typeof define === \"function\" && define.amd) {\n",
       "      requirejs.config({paths});\n",
       "      require([\"vega-embed\"], displayChart, err => showError(`Error loading script: ${err.message}`));\n",
       "    } else {\n",
       "      maybeLoadScript(\"vega\", \"5\")\n",
       "        .then(() => maybeLoadScript(\"vega-lite\", \"5.17.0\"))\n",
       "        .then(() => maybeLoadScript(\"vega-embed\", \"6\"))\n",
       "        .catch(showError)\n",
       "        .then(() => displayChart(vegaEmbed));\n",
       "    }\n",
       "  })({\"config\": {\"view\": {\"continuousWidth\": 300, \"continuousHeight\": 300}}, \"data\": {\"name\": \"data-b515ccdb49ded887e27b2049f3a60042\"}, \"mark\": {\"type\": \"bar\"}, \"encoding\": {\"color\": {\"field\": \"type\", \"legend\": {\"orient\": \"bottom\", \"titleOrient\": \"left\"}, \"sort\": \"descending\", \"type\": \"nominal\"}, \"column\": {\"field\": \"precision\", \"type\": \"ordinal\"}, \"x\": {\"field\": \"record_count\", \"type\": \"quantitative\"}, \"y\": {\"field\": \"Institution\", \"type\": \"nominal\"}}, \"resolve\": {\"scale\": {\"x\": \"independent\"}}, \"title\": {\"text\": \"Overall Published Collection Records\", \"anchor\": \"middle\"}, \"width\": 350, \"$schema\": \"https://vega.github.io/schema/vega-lite/v5.17.0.json\", \"datasets\": {\"data-b515ccdb49ded887e27b2049f3a60042\": [{\"institution\": \"Victoria & Albert Museum\", \"subcollection\": \"Victoria & Albert Museum\", \"sector\": \"dcms\", \"type\": \"museum\", \"topic\": \"art\", \"precision\": \"exact\", \"record_count\": 1281270}, {\"institution\": \"Museum of the Home\", \"subcollection\": \"Museum of the Home\", \"sector\": \"dcms\", \"type\": \"museum\", \"topic\": \"history\", \"precision\": \"exact\", \"record_count\": 12200}, {\"institution\": \"Horniman Museum\", \"subcollection\": \"Museum Collection\", \"sector\": \"dcms\", \"type\": \"museum\", \"topic\": \"history\", \"precision\": \"estimate\", \"record_count\": 132612}, {\"institution\": \"Imperial War Museums\", \"subcollection\": \"Museum Collection\", \"sector\": \"dcms\", \"type\": \"museum\", \"topic\": \"history\", \"precision\": \"estimate\", \"record_count\": 1737698}, {\"institution\": \"National Gallery\", \"subcollection\": \"Museum Collection\", \"sector\": \"dcms\", \"type\": \"museum\", \"topic\": \"history\", \"precision\": \"estimate\", \"record_count\": 2626}, {\"institution\": \"National Museums Liverpool\", \"subcollection\": \"Museum Collection\", \"sector\": \"dcms\", \"type\": \"museum\", \"topic\": \"history\", \"precision\": \"estimate\", \"record_count\": 73682}, {\"institution\": \"National Portrait Gallery\", \"subcollection\": \"Museum Collection\", \"sector\": \"dcms\", \"type\": \"museum\", \"topic\": \"history\", \"precision\": \"estimate\", \"record_count\": 220000}, {\"institution\": \"Natural History Museum\", \"subcollection\": \"Entomology collections\", \"sector\": \"dcms\", \"type\": \"museum\", \"topic\": \"nature\", \"precision\": \"estimate\", \"record_count\": 34000000}, {\"institution\": \"Natural History Museum\", \"subcollection\": \"Botany collections\", \"sector\": \"dcms\", \"type\": \"museum\", \"topic\": \"nature\", \"precision\": \"estimate\", \"record_count\": 6000000}, {\"institution\": \"Natural History Museum\", \"subcollection\": \"Zooology collections\", \"sector\": \"dcms\", \"type\": \"museum\", \"topic\": \"nature\", \"precision\": \"estimate\", \"record_count\": 29000000}, {\"institution\": \"Natural History Museum\", \"subcollection\": \"Palaeontology collections\", \"sector\": \"dcms\", \"type\": \"museum\", \"topic\": \"nature\", \"precision\": \"estimate\", \"record_count\": 7000000}, {\"institution\": \"Natural History Museum\", \"subcollection\": \"Mineralogy collections\", \"sector\": \"dcms\", \"type\": \"museum\", \"topic\": \"nature\", \"precision\": \"estimate\", \"record_count\": 500000}, {\"institution\": \"Natural History Museum\", \"subcollection\": \"Library and archive collections\", \"sector\": \"dcms\", \"type\": \"library\", \"topic\": \"nature\", \"precision\": \"estimate\", \"record_count\": 1500000}, {\"institution\": \"Royal Armouries\", \"subcollection\": \"Museum Collection\", \"sector\": \"dcms\", \"type\": \"museum\", \"topic\": \"nature\", \"precision\": \"estimate\", \"record_count\": 65627}, {\"institution\": \"Royal Armouries\", \"subcollection\": \"Library Collection\", \"sector\": \"dcms\", \"type\": \"library\", \"topic\": \"nature\", \"precision\": \"estimate\", \"record_count\": 65627}, {\"institution\": \"Royal Armouries\", \"subcollection\": \"Archive Collection\", \"sector\": \"dcms\", \"type\": \"archive\", \"topic\": \"nature\", \"precision\": \"estimate\", \"record_count\": 130130}, {\"institution\": \"Sir John Soane's Museum\", \"subcollection\": \"Museum Collection\", \"sector\": \"dcms\", \"type\": \"museum\", \"topic\": \"nature\", \"precision\": \"estimate\", \"record_count\": 57164}, {\"institution\": \"Sir John Soane's Museum\", \"subcollection\": \"Library Collection\", \"sector\": \"dcms\", \"type\": \"library\", \"topic\": \"nature\", \"precision\": \"estimate\", \"record_count\": 57164}, {\"institution\": \"Sir John Soane's Museum\", \"subcollection\": \"Archive Collection\", \"sector\": \"dcms\", \"type\": \"archive\", \"topic\": \"nature\", \"precision\": \"estimate\", \"record_count\": 0}, {\"institution\": \"Tate Gallery Group\", \"subcollection\": \"Museum Collection\", \"sector\": \"dcms\", \"type\": \"museum\", \"topic\": \"nature\", \"precision\": \"estimate\", \"record_count\": 79236}, {\"institution\": \"Tate Gallery Group\", \"subcollection\": \"Archive Collection\", \"sector\": \"dcms\", \"type\": \"archive\", \"topic\": \"nature\", \"precision\": \"estimate\", \"record_count\": 807060}, {\"institution\": \"British Museum\", \"subcollection\": \"Museum Collection\", \"sector\": \"dcms\", \"type\": \"museum\", \"topic\": \"nature\", \"precision\": \"estimate\", \"record_count\": 2000000}, {\"institution\": \"Oxford University\", \"subcollection\": \"Bodleian Library\", \"sector\": \"university\", \"type\": \"library\", \"topic\": \"national\", \"precision\": \"estimate\", \"record_count\": 8000000}, {\"institution\": \"Victoria & Albert Museum\", \"subcollection\": \"National Art Library\", \"sector\": \"dcms\", \"type\": \"library\", \"topic\": \"art\", \"precision\": \"estimate\", \"record_count\": 849000}, {\"institution\": \"Museum of the Home\", \"subcollection\": \"Library Collection\", \"sector\": \"dcms\", \"type\": \"library\", \"topic\": \"history\", \"precision\": \"exact\", \"record_count\": 6290}, {\"institution\": \"Victoria & Albert Museum\", \"subcollection\": \"Victoria & Albert Museum Archives\", \"sector\": \"dcms\", \"type\": \"archive\", \"topic\": \"art\", \"precision\": \"exact\", \"record_count\": 156780}]}}, {\"mode\": \"vega-lite\"});\n",
       "</script>"
      ],
      "text/plain": [
       "alt.Chart(...)"
      ]
     },
     "execution_count": 76,
     "metadata": {},
     "output_type": "execute_result"
    }
   ],
   "source": [
    "\n",
    "title = alt.TitleParams('Overall Published Collection Records', anchor='middle')\n",
    "alt.Chart(records_data, title=title).mark_bar().encode(\n",
    "    color=alt.Color('type:N', sort='descending').legend(orient=\"bottom\", titleOrient=\"left\"),\n",
    "    column='precision:O',\n",
    "    x='record_count:Q',\n",
    "    y='Institution:N'\n",
    ").properties(width=350).resolve_scale(x='independent')"
   ]
  }
 ],
 "metadata": {
  "kernelspec": {
   "display_name": "Python 3 (ipykernel)",
   "language": "python",
   "name": "python3"
  },
  "language_info": {
   "codemirror_mode": {
    "name": "ipython",
    "version": 3
   },
   "file_extension": ".py",
   "mimetype": "text/x-python",
   "name": "python",
   "nbconvert_exporter": "python",
   "pygments_lexer": "ipython3",
   "version": "3.9.18"
  }
 },
 "nbformat": 4,
 "nbformat_minor": 5
}
