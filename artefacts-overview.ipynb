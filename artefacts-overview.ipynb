{
 "cells": [
  {
   "cell_type": "code",
   "execution_count": 42,
   "id": "bc077a0d-3cac-4f63-8b00-fa6d878fe2a7",
   "metadata": {
    "editable": true,
    "slideshow": {
     "slide_type": ""
    },
    "tags": [
     "remove-cell"
    ]
   },
   "outputs": [],
   "source": [
    "import pandas as pd\n",
    "artefacts_data = pd.read_csv(\"artefacts-overview-stats.csv\")"
   ]
  },
  {
   "cell_type": "markdown",
   "id": "e5ad9c98-1a94-420e-87d2-1db0e880ed67",
   "metadata": {
    "editable": true,
    "slideshow": {
     "slide_type": ""
    },
    "tags": []
   },
   "source": [
    "## Artefacts (Overview)"
   ]
  },
  {
   "cell_type": "markdown",
   "id": "11b0b477-1321-45ac-8b8f-a20fbbecd0f3",
   "metadata": {
    "editable": true,
    "slideshow": {
     "slide_type": ""
    },
    "tags": [
     "remove-cell"
    ]
   },
   "source": [
    "## Artefacts (Overviews)\n",
    "\n",
    "This is a doomed attempt to summarise the number of artefacts (see below for definitions) held in UK public collections. Doomed because, to quote from the British Library annual report 2023/2024 - 'in the absence of a consensus about what constitutes a single item it is not possible to reach a definitive statement of the size of the collection'. Added to that is also what is considered an artefact - are all museum objects, all items held in a library (every copy held of Joyce's Ulysses, even one printed last year?), any item in an archive to be counted? Should heritage buildings be counted as well, and do we say a castle is one item on par with a manuscript or painting ?\n",
    "\n",
    "But regardless of this, as the TaNC report also tried to set out counts of the national collection, this is an attempt to visualise this more, to give \n",
    "\n",
    "Definitions (about which we can no doubt all politely argue forever about at some agreeable venue someday):\n",
    "\n",
    "  * artefacts - the physical *thing* considered to be cultural heritage\n",
    "  * catalogued record - the inventory level digital catalalogue record for the artefact (for museum, library and archives) or collection of artefacts (for archives)\n",
    "  * enriched record - the richer (I'm not even going to try give a definition of what richer even means - does fully catalogued mean nothing more can ever be said?) catalogued record for the item (for museum, library and archives) or collection of artefacts (for archives)\n",
    "  * digitised record - catalogued (enriched or otherwise) and an image (or other media) of the artefact (for museum, library and archives items) \n",
    "\n",
    "In these overview pages we givbe various breakdowns of the stats for each of the above and try to tease out\n",
    "a sunmmary of the state of this in the UK cultural heritage collections. There are then\n",
    "\n",
    "Summary\n",
    "  * Overview (artefacts, catalogued records, objects, library, archive)\n",
    "  * Sub collections records (granual version of above)\n",
    "  * Sector level records (library,museum,archive)\n",
    "  * Institution level records (per institution pages)\n",
    "\n",
    "(we are not breaking down collection into sub collections for artefacts as that's getting too complex and\n",
    "not really comparable so not useful for data visualisation)\n",
    "    \n",
    "Progress (i.e. showing difference between current and previous)\n",
    "  * Overview Progress - tracking change over time\n",
    "  * sub collections progress\n",
    "  * Sector Progress\n",
    "  * Institution level progress\n",
    "\n",
    "Uncertainty Level\n",
    "\n",
    "  * Level 1 - unavoidable inherent uncertainty\n",
    "  * Level 2 - uncertainty of number of artefacts\n",
    "  * Level 3 - uncertainty of cataloging type\n",
    "  * Level 4 - uncertainty of number of records\n",
    "  * Level 5 - uncertainty of number of published records"
   ]
  },
  {
   "cell_type": "code",
   "execution_count": 70,
   "id": "d41282cb-2e19-424f-aa0e-76b47ce18455",
   "metadata": {
    "editable": true,
    "slideshow": {
     "slide_type": ""
    },
    "tags": [
     "remove-input"
    ]
   },
   "outputs": [
    {
     "data": {
      "text/html": [
       "\n",
       "<style>\n",
       "  #altair-viz-ee8848f5977749c7bccadfa8ee4081c8.vega-embed {\n",
       "    width: 100%;\n",
       "    display: flex;\n",
       "  }\n",
       "\n",
       "  #altair-viz-ee8848f5977749c7bccadfa8ee4081c8.vega-embed details,\n",
       "  #altair-viz-ee8848f5977749c7bccadfa8ee4081c8.vega-embed details summary {\n",
       "    position: relative;\n",
       "  }\n",
       "</style>\n",
       "<div id=\"altair-viz-ee8848f5977749c7bccadfa8ee4081c8\"></div>\n",
       "<script type=\"text/javascript\">\n",
       "  var VEGA_DEBUG = (typeof VEGA_DEBUG == \"undefined\") ? {} : VEGA_DEBUG;\n",
       "  (function(spec, embedOpt){\n",
       "    let outputDiv = document.currentScript.previousElementSibling;\n",
       "    if (outputDiv.id !== \"altair-viz-ee8848f5977749c7bccadfa8ee4081c8\") {\n",
       "      outputDiv = document.getElementById(\"altair-viz-ee8848f5977749c7bccadfa8ee4081c8\");\n",
       "    }\n",
       "    const paths = {\n",
       "      \"vega\": \"https://cdn.jsdelivr.net/npm/vega@5?noext\",\n",
       "      \"vega-lib\": \"https://cdn.jsdelivr.net/npm/vega-lib?noext\",\n",
       "      \"vega-lite\": \"https://cdn.jsdelivr.net/npm/vega-lite@5.17.0?noext\",\n",
       "      \"vega-embed\": \"https://cdn.jsdelivr.net/npm/vega-embed@6?noext\",\n",
       "    };\n",
       "\n",
       "    function maybeLoadScript(lib, version) {\n",
       "      var key = `${lib.replace(\"-\", \"\")}_version`;\n",
       "      return (VEGA_DEBUG[key] == version) ?\n",
       "        Promise.resolve(paths[lib]) :\n",
       "        new Promise(function(resolve, reject) {\n",
       "          var s = document.createElement('script');\n",
       "          document.getElementsByTagName(\"head\")[0].appendChild(s);\n",
       "          s.async = true;\n",
       "          s.onload = () => {\n",
       "            VEGA_DEBUG[key] = version;\n",
       "            return resolve(paths[lib]);\n",
       "          };\n",
       "          s.onerror = () => reject(`Error loading script: ${paths[lib]}`);\n",
       "          s.src = paths[lib];\n",
       "        });\n",
       "    }\n",
       "\n",
       "    function showError(err) {\n",
       "      outputDiv.innerHTML = `<div class=\"error\" style=\"color:red;\">${err}</div>`;\n",
       "      throw err;\n",
       "    }\n",
       "\n",
       "    function displayChart(vegaEmbed) {\n",
       "      vegaEmbed(outputDiv, spec, embedOpt)\n",
       "        .catch(err => showError(`Javascript Error: ${err.message}<br>This usually means there's a typo in your chart specification. See the javascript console for the full traceback.`));\n",
       "    }\n",
       "\n",
       "    if(typeof define === \"function\" && define.amd) {\n",
       "      requirejs.config({paths});\n",
       "      require([\"vega-embed\"], displayChart, err => showError(`Error loading script: ${err.message}`));\n",
       "    } else {\n",
       "      maybeLoadScript(\"vega\", \"5\")\n",
       "        .then(() => maybeLoadScript(\"vega-lite\", \"5.17.0\"))\n",
       "        .then(() => maybeLoadScript(\"vega-embed\", \"6\"))\n",
       "        .catch(showError)\n",
       "        .then(() => displayChart(vegaEmbed));\n",
       "    }\n",
       "  })({\"config\": {\"view\": {\"continuousWidth\": 300, \"continuousHeight\": 300}, \"numberFormat\": \".2s\"}, \"data\": {\"name\": \"data-172d47ec1fa1a9099fac8355ef959346\"}, \"mark\": {\"type\": \"bar\"}, \"encoding\": {\"color\": {\"field\": \"institution\", \"legend\": {\"columns\": 4, \"orient\": \"bottom\"}, \"type\": \"nominal\"}, \"column\": {\"field\": \"type\", \"type\": \"nominal\"}, \"order\": {\"field\": \"artefact_count\", \"type\": \"quantitative\"}, \"x\": {\"field\": \"artefact_count\", \"type\": \"quantitative\"}, \"y\": {\"field\": \"institution\", \"type\": \"nominal\"}}, \"resolve\": {\"scale\": {\"x\": \"independent\"}}, \"title\": {\"text\": \"Artefacts per Institition (by collection type)\", \"anchor\": \"middle\"}, \"width\": 200, \"$schema\": \"https://vega.github.io/schema/vega-lite/v5.17.0.json\", \"datasets\": {\"data-172d47ec1fa1a9099fac8355ef959346\": [{\"institution\": \"Oxford University\", \"sector\": \"university\", \"type\": \"university\", \"topic\": \"mixed\", \"precision\": \"estimate\", \"artefact_count\": 22530000}, {\"institution\": \"University of Cambridge\", \"sector\": \"university\", \"type\": \"university\", \"topic\": \"mixed\", \"precision\": \"estimate\", \"artefact_count\": 10000000}, {\"institution\": \"Durham University\", \"sector\": \"university\", \"type\": \"university\", \"topic\": \"mixed\", \"precision\": \"estimate\", \"artefact_count\": 106000}, {\"institution\": \"University College London\", \"sector\": \"university\", \"type\": \"university\", \"topic\": \"mixed\", \"precision\": \"estimate\", \"artefact_count\": 164000}, {\"institution\": \"University of Manchester\", \"sector\": \"university\", \"type\": \"university\", \"topic\": \"mixed\", \"precision\": \"estimate\", \"artefact_count\": 4060000}, {\"institution\": \"King's College London\", \"sector\": \"university\", \"type\": \"university\", \"topic\": \"mixed\", \"precision\": \"estimate\", \"artefact_count\": 200000}, {\"institution\": \"University of Birmingham\", \"sector\": \"university\", \"type\": \"university\", \"topic\": \"mixed\", \"precision\": \"estimate\", \"artefact_count\": 4500000}, {\"institution\": \"Unversity of Warwick\", \"sector\": \"university\", \"type\": \"university\", \"topic\": \"mixed\", \"precision\": \"estimate\", \"artefact_count\": 16000}, {\"institution\": \"Manchester Metropolitan Unversity\", \"sector\": \"university\", \"type\": \"university\", \"topic\": \"mixed\", \"precision\": \"estimate\", \"artefact_count\": 0}, {\"institution\": \"Swansea University\", \"sector\": \"university\", \"type\": \"university\", \"topic\": \"mixed\", \"precision\": \"estimate\", \"artefact_count\": 1700}, {\"institution\": \"University of Brighton\", \"sector\": \"university\", \"type\": \"university\", \"topic\": \"mixed\", \"precision\": \"estimate\", \"artefact_count\": 50000}, {\"institution\": \"SOAS, University of London\", \"sector\": \"university\", \"type\": \"university\", \"topic\": \"mixed\", \"precision\": \"estimate\", \"artefact_count\": 60000}, {\"institution\": \"University of Aberdeen\", \"sector\": \"university\", \"type\": \"university\", \"topic\": \"mixed\", \"precision\": \"estimate\", \"artefact_count\": 530000}, {\"institution\": \"University of Bristol\", \"sector\": \"university\", \"type\": \"university\", \"topic\": \"mixed\", \"precision\": \"estimate\", \"artefact_count\": 100000}, {\"institution\": \"University of Leeds\", \"sector\": \"university\", \"type\": \"university\", \"topic\": \"mixed\", \"precision\": \"estimate\", \"artefact_count\": 350000}, {\"institution\": \"University of Leicester\", \"sector\": \"university\", \"type\": \"university\", \"topic\": \"mixed\", \"precision\": \"estimate\", \"artefact_count\": 25000}, {\"institution\": \"University of Sheffield\", \"sector\": \"university\", \"type\": \"university\", \"topic\": \"mixed\", \"precision\": \"estimate\", \"artefact_count\": 30000}, {\"institution\": \"University of St Andrews\", \"sector\": \"university\", \"type\": \"university\", \"topic\": \"mixed\", \"precision\": \"estimate\", \"artefact_count\": 200000}, {\"institution\": \"British Library\", \"sector\": \"library\", \"type\": \"library\", \"topic\": \"mixed\", \"precision\": \"estimate\", \"artefact_count\": 33810000}, {\"institution\": \"Chetham's Library\", \"sector\": \"library\", \"type\": \"library\", \"topic\": \"mixed\", \"precision\": \"estimate\", \"artefact_count\": 121041}, {\"institution\": \"Glasgow Woman's Library\", \"sector\": \"library\", \"type\": \"library\", \"topic\": \"mixed\", \"precision\": \"estimate\", \"artefact_count\": 0}, {\"institution\": \"Lambeth Palace Library\", \"sector\": \"library\", \"type\": \"library\", \"topic\": \"theology\", \"precision\": \"estimate\", \"artefact_count\": 186200}, {\"institution\": \"National Library of Wales\", \"sector\": \"library\", \"type\": \"library\", \"topic\": \"mixed\", \"precision\": \"estimate\", \"artefact_count\": 7540000}, {\"institution\": \"National Library of Scotland\", \"sector\": \"library\", \"type\": \"library\", \"topic\": \"mixed\", \"precision\": \"estimate\", \"artefact_count\": 34000000}, {\"institution\": \"Victoria & Albert Museum\", \"sector\": \"dcms\", \"type\": \"museum\", \"topic\": \"art\", \"precision\": \"estimate\", \"artefact_count\": 2800000}, {\"institution\": \"Science Museum Group\", \"sector\": \"dcms\", \"type\": \"museum\", \"topic\": \"science\", \"precision\": \"estimate\", \"artefact_count\": 7360793}, {\"institution\": \"Museum of the Home\", \"sector\": \"dcms\", \"type\": \"museum\", \"topic\": \"history\", \"precision\": \"estimate\", \"artefact_count\": 40000}, {\"institution\": \"Horniman Museum\", \"sector\": \"dcms\", \"type\": \"museum\", \"topic\": \"history\", \"precision\": \"estimate\", \"artefact_count\": 350000}, {\"institution\": \"Imperial War Museums\", \"sector\": \"dcms\", \"type\": \"museum\", \"topic\": \"history\", \"precision\": \"estimate\", \"artefact_count\": 1000000}, {\"institution\": \"National Gallery\", \"sector\": \"dcms\", \"type\": \"gallery\", \"topic\": \"art\", \"precision\": \"estimate\", \"artefact_count\": 2626}, {\"institution\": \"National Museums Liverpool\", \"sector\": \"dcms\", \"type\": \"museum\", \"topic\": \"history\", \"precision\": \"estimate\", \"artefact_count\": 4000000}, {\"institution\": \"National Portrait Gallery\", \"sector\": \"dcms\", \"type\": \"gallery\", \"topic\": \"art\", \"precision\": \"estimate\", \"artefact_count\": 350000}, {\"institution\": \"Natural History Museum\", \"sector\": \"dcms\", \"type\": \"museum\", \"topic\": \"nature\", \"precision\": \"estimate\", \"artefact_count\": 80000000}, {\"institution\": \"Royal Armouries\", \"sector\": \"dcms\", \"type\": \"museum\", \"topic\": \"history\", \"precision\": \"estimate\", \"artefact_count\": 70000}, {\"institution\": \"Royal Museums Greenwich\", \"sector\": \"dcms\", \"type\": \"museum\", \"topic\": \"history\", \"precision\": \"estimate\", \"artefact_count\": 3000000}, {\"institution\": \"Sir John Soane's Museum\", \"sector\": \"dcms\", \"type\": \"museum\", \"topic\": \"history\", \"precision\": \"estimate\", \"artefact_count\": 52000}, {\"institution\": \"Tate Gallery Group\", \"sector\": \"dcms\", \"type\": \"gallery\", \"topic\": \"art\", \"precision\": \"estimate\", \"artefact_count\": 70000}, {\"institution\": \"The Wallace Collection\", \"sector\": \"dcms\", \"type\": \"museum\", \"topic\": \"art\", \"precision\": \"estimate\", \"artefact_count\": 5637}, {\"institution\": \"British Museum\", \"sector\": \"dcms\", \"type\": \"museum\", \"topic\": \"history\", \"precision\": \"estimate\", \"artefact_count\": 8000000}]}}, {\"mode\": \"vega-lite\"});\n",
       "</script>"
      ],
      "text/plain": [
       "alt.Chart(...)"
      ]
     },
     "execution_count": 70,
     "metadata": {},
     "output_type": "execute_result"
    }
   ],
   "source": [
    "import altair as alt\n",
    "title = alt.TitleParams('Artefacts per Institition (by collection type)', anchor='middle')\n",
    "alt.Chart(artefacts_data, title=title, width=200).mark_bar().encode(\n",
    "    alt.Color('institution:N', legend=alt.Legend(orient='bottom',columns=4)),\n",
    "    x='artefact_count',\n",
    "    y='institution',\n",
    "    column='type',\n",
    "    order='artefact_count:Q'\n",
    ").configure(numberFormat='.2s').resolve_scale(x='independent')"
   ]
  },
  {
   "cell_type": "code",
   "execution_count": 45,
   "id": "89073ee0-2028-414e-a96f-51f19b3396b8",
   "metadata": {
    "editable": true,
    "slideshow": {
     "slide_type": ""
    },
    "tags": [
     "remove-input"
    ]
   },
   "outputs": [
    {
     "data": {
      "text/html": [
       "\n",
       "<style>\n",
       "  #altair-viz-4a3bb61edc4d49d993562e41b8dd4bd7.vega-embed {\n",
       "    width: 100%;\n",
       "    display: flex;\n",
       "  }\n",
       "\n",
       "  #altair-viz-4a3bb61edc4d49d993562e41b8dd4bd7.vega-embed details,\n",
       "  #altair-viz-4a3bb61edc4d49d993562e41b8dd4bd7.vega-embed details summary {\n",
       "    position: relative;\n",
       "  }\n",
       "</style>\n",
       "<div id=\"altair-viz-4a3bb61edc4d49d993562e41b8dd4bd7\"></div>\n",
       "<script type=\"text/javascript\">\n",
       "  var VEGA_DEBUG = (typeof VEGA_DEBUG == \"undefined\") ? {} : VEGA_DEBUG;\n",
       "  (function(spec, embedOpt){\n",
       "    let outputDiv = document.currentScript.previousElementSibling;\n",
       "    if (outputDiv.id !== \"altair-viz-4a3bb61edc4d49d993562e41b8dd4bd7\") {\n",
       "      outputDiv = document.getElementById(\"altair-viz-4a3bb61edc4d49d993562e41b8dd4bd7\");\n",
       "    }\n",
       "    const paths = {\n",
       "      \"vega\": \"https://cdn.jsdelivr.net/npm/vega@5?noext\",\n",
       "      \"vega-lib\": \"https://cdn.jsdelivr.net/npm/vega-lib?noext\",\n",
       "      \"vega-lite\": \"https://cdn.jsdelivr.net/npm/vega-lite@5.17.0?noext\",\n",
       "      \"vega-embed\": \"https://cdn.jsdelivr.net/npm/vega-embed@6?noext\",\n",
       "    };\n",
       "\n",
       "    function maybeLoadScript(lib, version) {\n",
       "      var key = `${lib.replace(\"-\", \"\")}_version`;\n",
       "      return (VEGA_DEBUG[key] == version) ?\n",
       "        Promise.resolve(paths[lib]) :\n",
       "        new Promise(function(resolve, reject) {\n",
       "          var s = document.createElement('script');\n",
       "          document.getElementsByTagName(\"head\")[0].appendChild(s);\n",
       "          s.async = true;\n",
       "          s.onload = () => {\n",
       "            VEGA_DEBUG[key] = version;\n",
       "            return resolve(paths[lib]);\n",
       "          };\n",
       "          s.onerror = () => reject(`Error loading script: ${paths[lib]}`);\n",
       "          s.src = paths[lib];\n",
       "        });\n",
       "    }\n",
       "\n",
       "    function showError(err) {\n",
       "      outputDiv.innerHTML = `<div class=\"error\" style=\"color:red;\">${err}</div>`;\n",
       "      throw err;\n",
       "    }\n",
       "\n",
       "    function displayChart(vegaEmbed) {\n",
       "      vegaEmbed(outputDiv, spec, embedOpt)\n",
       "        .catch(err => showError(`Javascript Error: ${err.message}<br>This usually means there's a typo in your chart specification. See the javascript console for the full traceback.`));\n",
       "    }\n",
       "\n",
       "    if(typeof define === \"function\" && define.amd) {\n",
       "      requirejs.config({paths});\n",
       "      require([\"vega-embed\"], displayChart, err => showError(`Error loading script: ${err.message}`));\n",
       "    } else {\n",
       "      maybeLoadScript(\"vega\", \"5\")\n",
       "        .then(() => maybeLoadScript(\"vega-lite\", \"5.17.0\"))\n",
       "        .then(() => maybeLoadScript(\"vega-embed\", \"6\"))\n",
       "        .catch(showError)\n",
       "        .then(() => displayChart(vegaEmbed));\n",
       "    }\n",
       "  })({\"config\": {\"view\": {\"continuousWidth\": 300, \"continuousHeight\": 300}, \"numberFormat\": \".2s\"}, \"data\": {\"name\": \"data-172d47ec1fa1a9099fac8355ef959346\"}, \"mark\": {\"type\": \"bar\"}, \"encoding\": {\"color\": {\"field\": \"institution\", \"legend\": {\"columns\": 4, \"orient\": \"bottom\"}, \"type\": \"nominal\"}, \"column\": {\"field\": \"sector\", \"type\": \"nominal\"}, \"x\": {\"field\": \"artefact_count\", \"type\": \"quantitative\"}, \"y\": {\"field\": \"topic\", \"type\": \"nominal\"}}, \"resolve\": {\"scale\": {\"x\": \"independent\"}}, \"title\": {\"text\": \"Collection Size (Artefacts) by sector (Uncertainty: 200%\", \"anchor\": \"middle\"}, \"width\": 250, \"$schema\": \"https://vega.github.io/schema/vega-lite/v5.17.0.json\", \"datasets\": {\"data-172d47ec1fa1a9099fac8355ef959346\": [{\"institution\": \"Oxford University\", \"sector\": \"university\", \"type\": \"university\", \"topic\": \"mixed\", \"precision\": \"estimate\", \"artefact_count\": 22530000}, {\"institution\": \"University of Cambridge\", \"sector\": \"university\", \"type\": \"university\", \"topic\": \"mixed\", \"precision\": \"estimate\", \"artefact_count\": 10000000}, {\"institution\": \"Durham University\", \"sector\": \"university\", \"type\": \"university\", \"topic\": \"mixed\", \"precision\": \"estimate\", \"artefact_count\": 106000}, {\"institution\": \"University College London\", \"sector\": \"university\", \"type\": \"university\", \"topic\": \"mixed\", \"precision\": \"estimate\", \"artefact_count\": 164000}, {\"institution\": \"University of Manchester\", \"sector\": \"university\", \"type\": \"university\", \"topic\": \"mixed\", \"precision\": \"estimate\", \"artefact_count\": 4060000}, {\"institution\": \"King's College London\", \"sector\": \"university\", \"type\": \"university\", \"topic\": \"mixed\", \"precision\": \"estimate\", \"artefact_count\": 200000}, {\"institution\": \"University of Birmingham\", \"sector\": \"university\", \"type\": \"university\", \"topic\": \"mixed\", \"precision\": \"estimate\", \"artefact_count\": 4500000}, {\"institution\": \"Unversity of Warwick\", \"sector\": \"university\", \"type\": \"university\", \"topic\": \"mixed\", \"precision\": \"estimate\", \"artefact_count\": 16000}, {\"institution\": \"Manchester Metropolitan Unversity\", \"sector\": \"university\", \"type\": \"university\", \"topic\": \"mixed\", \"precision\": \"estimate\", \"artefact_count\": 0}, {\"institution\": \"Swansea University\", \"sector\": \"university\", \"type\": \"university\", \"topic\": \"mixed\", \"precision\": \"estimate\", \"artefact_count\": 1700}, {\"institution\": \"University of Brighton\", \"sector\": \"university\", \"type\": \"university\", \"topic\": \"mixed\", \"precision\": \"estimate\", \"artefact_count\": 50000}, {\"institution\": \"SOAS, University of London\", \"sector\": \"university\", \"type\": \"university\", \"topic\": \"mixed\", \"precision\": \"estimate\", \"artefact_count\": 60000}, {\"institution\": \"University of Aberdeen\", \"sector\": \"university\", \"type\": \"university\", \"topic\": \"mixed\", \"precision\": \"estimate\", \"artefact_count\": 530000}, {\"institution\": \"University of Bristol\", \"sector\": \"university\", \"type\": \"university\", \"topic\": \"mixed\", \"precision\": \"estimate\", \"artefact_count\": 100000}, {\"institution\": \"University of Leeds\", \"sector\": \"university\", \"type\": \"university\", \"topic\": \"mixed\", \"precision\": \"estimate\", \"artefact_count\": 350000}, {\"institution\": \"University of Leicester\", \"sector\": \"university\", \"type\": \"university\", \"topic\": \"mixed\", \"precision\": \"estimate\", \"artefact_count\": 25000}, {\"institution\": \"University of Sheffield\", \"sector\": \"university\", \"type\": \"university\", \"topic\": \"mixed\", \"precision\": \"estimate\", \"artefact_count\": 30000}, {\"institution\": \"University of St Andrews\", \"sector\": \"university\", \"type\": \"university\", \"topic\": \"mixed\", \"precision\": \"estimate\", \"artefact_count\": 200000}, {\"institution\": \"British Library\", \"sector\": \"library\", \"type\": \"library\", \"topic\": \"mixed\", \"precision\": \"estimate\", \"artefact_count\": 33810000}, {\"institution\": \"Chetham's Library\", \"sector\": \"library\", \"type\": \"library\", \"topic\": \"mixed\", \"precision\": \"estimate\", \"artefact_count\": 121041}, {\"institution\": \"Glasgow Woman's Library\", \"sector\": \"library\", \"type\": \"library\", \"topic\": \"mixed\", \"precision\": \"estimate\", \"artefact_count\": 0}, {\"institution\": \"Lambeth Palace Library\", \"sector\": \"library\", \"type\": \"library\", \"topic\": \"theology\", \"precision\": \"estimate\", \"artefact_count\": 186200}, {\"institution\": \"National Library of Wales\", \"sector\": \"library\", \"type\": \"library\", \"topic\": \"mixed\", \"precision\": \"estimate\", \"artefact_count\": 7540000}, {\"institution\": \"National Library of Scotland\", \"sector\": \"library\", \"type\": \"library\", \"topic\": \"mixed\", \"precision\": \"estimate\", \"artefact_count\": 34000000}, {\"institution\": \"Victoria & Albert Museum\", \"sector\": \"dcms\", \"type\": \"museum\", \"topic\": \"art\", \"precision\": \"estimate\", \"artefact_count\": 2800000}, {\"institution\": \"Science Museum Group\", \"sector\": \"dcms\", \"type\": \"museum\", \"topic\": \"science\", \"precision\": \"estimate\", \"artefact_count\": 7360793}, {\"institution\": \"Museum of the Home\", \"sector\": \"dcms\", \"type\": \"museum\", \"topic\": \"history\", \"precision\": \"estimate\", \"artefact_count\": 40000}, {\"institution\": \"Horniman Museum\", \"sector\": \"dcms\", \"type\": \"museum\", \"topic\": \"history\", \"precision\": \"estimate\", \"artefact_count\": 350000}, {\"institution\": \"Imperial War Museums\", \"sector\": \"dcms\", \"type\": \"museum\", \"topic\": \"history\", \"precision\": \"estimate\", \"artefact_count\": 1000000}, {\"institution\": \"National Gallery\", \"sector\": \"dcms\", \"type\": \"gallery\", \"topic\": \"art\", \"precision\": \"estimate\", \"artefact_count\": 2626}, {\"institution\": \"National Museums Liverpool\", \"sector\": \"dcms\", \"type\": \"museum\", \"topic\": \"history\", \"precision\": \"estimate\", \"artefact_count\": 4000000}, {\"institution\": \"National Portrait Gallery\", \"sector\": \"dcms\", \"type\": \"gallery\", \"topic\": \"art\", \"precision\": \"estimate\", \"artefact_count\": 350000}, {\"institution\": \"Natural History Museum\", \"sector\": \"dcms\", \"type\": \"museum\", \"topic\": \"nature\", \"precision\": \"estimate\", \"artefact_count\": 80000000}, {\"institution\": \"Royal Armouries\", \"sector\": \"dcms\", \"type\": \"museum\", \"topic\": \"history\", \"precision\": \"estimate\", \"artefact_count\": 70000}, {\"institution\": \"Royal Museums Greenwich\", \"sector\": \"dcms\", \"type\": \"museum\", \"topic\": \"history\", \"precision\": \"estimate\", \"artefact_count\": 3000000}, {\"institution\": \"Sir John Soane's Museum\", \"sector\": \"dcms\", \"type\": \"museum\", \"topic\": \"history\", \"precision\": \"estimate\", \"artefact_count\": 52000}, {\"institution\": \"Tate Gallery Group\", \"sector\": \"dcms\", \"type\": \"gallery\", \"topic\": \"art\", \"precision\": \"estimate\", \"artefact_count\": 70000}, {\"institution\": \"The Wallace Collection\", \"sector\": \"dcms\", \"type\": \"museum\", \"topic\": \"art\", \"precision\": \"estimate\", \"artefact_count\": 5637}, {\"institution\": \"British Museum\", \"sector\": \"dcms\", \"type\": \"museum\", \"topic\": \"history\", \"precision\": \"estimate\", \"artefact_count\": 8000000}]}}, {\"mode\": \"vega-lite\"});\n",
       "</script>"
      ],
      "text/plain": [
       "alt.Chart(...)"
      ]
     },
     "execution_count": 45,
     "metadata": {},
     "output_type": "execute_result"
    }
   ],
   "source": [
    "title = alt.TitleParams('Collection Size (Artefacts) by sector (Uncertainty: 200%', anchor='middle')\n",
    "alt.Chart(artefacts_data,title=title).mark_bar().encode(\n",
    "    alt.Color('institution:N', legend=alt.Legend(orient='bottom',columns=4)),\n",
    "    x='artefact_count:Q',\n",
    "    tooltip='institution',\n",
    "    y='topic:N',\n",
    "    column='sector'\n",
    ").properties(width=250).resolve_scale(x='independent').configure(numberFormat='.2s')\n",
    "\n",
    "# Uncertainty of level 2 - would fall if any institution was certain abnout artefacts (by 1/num_institutions)"
   ]
  },
  {
   "cell_type": "code",
   "execution_count": 64,
   "id": "f3d67ee1-989d-4883-8137-715e6c40f660",
   "metadata": {
    "editable": true,
    "slideshow": {
     "slide_type": ""
    },
    "tags": [
     "remove-input"
    ]
   },
   "outputs": [
    {
     "data": {
      "text/html": [
       "\n",
       "<style>\n",
       "  #altair-viz-0582e332efba4fc0b55ea3fccfbbc4be.vega-embed {\n",
       "    width: 100%;\n",
       "    display: flex;\n",
       "  }\n",
       "\n",
       "  #altair-viz-0582e332efba4fc0b55ea3fccfbbc4be.vega-embed details,\n",
       "  #altair-viz-0582e332efba4fc0b55ea3fccfbbc4be.vega-embed details summary {\n",
       "    position: relative;\n",
       "  }\n",
       "</style>\n",
       "<div id=\"altair-viz-0582e332efba4fc0b55ea3fccfbbc4be\"></div>\n",
       "<script type=\"text/javascript\">\n",
       "  var VEGA_DEBUG = (typeof VEGA_DEBUG == \"undefined\") ? {} : VEGA_DEBUG;\n",
       "  (function(spec, embedOpt){\n",
       "    let outputDiv = document.currentScript.previousElementSibling;\n",
       "    if (outputDiv.id !== \"altair-viz-0582e332efba4fc0b55ea3fccfbbc4be\") {\n",
       "      outputDiv = document.getElementById(\"altair-viz-0582e332efba4fc0b55ea3fccfbbc4be\");\n",
       "    }\n",
       "    const paths = {\n",
       "      \"vega\": \"https://cdn.jsdelivr.net/npm/vega@5?noext\",\n",
       "      \"vega-lib\": \"https://cdn.jsdelivr.net/npm/vega-lib?noext\",\n",
       "      \"vega-lite\": \"https://cdn.jsdelivr.net/npm/vega-lite@5.17.0?noext\",\n",
       "      \"vega-embed\": \"https://cdn.jsdelivr.net/npm/vega-embed@6?noext\",\n",
       "    };\n",
       "\n",
       "    function maybeLoadScript(lib, version) {\n",
       "      var key = `${lib.replace(\"-\", \"\")}_version`;\n",
       "      return (VEGA_DEBUG[key] == version) ?\n",
       "        Promise.resolve(paths[lib]) :\n",
       "        new Promise(function(resolve, reject) {\n",
       "          var s = document.createElement('script');\n",
       "          document.getElementsByTagName(\"head\")[0].appendChild(s);\n",
       "          s.async = true;\n",
       "          s.onload = () => {\n",
       "            VEGA_DEBUG[key] = version;\n",
       "            return resolve(paths[lib]);\n",
       "          };\n",
       "          s.onerror = () => reject(`Error loading script: ${paths[lib]}`);\n",
       "          s.src = paths[lib];\n",
       "        });\n",
       "    }\n",
       "\n",
       "    function showError(err) {\n",
       "      outputDiv.innerHTML = `<div class=\"error\" style=\"color:red;\">${err}</div>`;\n",
       "      throw err;\n",
       "    }\n",
       "\n",
       "    function displayChart(vegaEmbed) {\n",
       "      vegaEmbed(outputDiv, spec, embedOpt)\n",
       "        .catch(err => showError(`Javascript Error: ${err.message}<br>This usually means there's a typo in your chart specification. See the javascript console for the full traceback.`));\n",
       "    }\n",
       "\n",
       "    if(typeof define === \"function\" && define.amd) {\n",
       "      requirejs.config({paths});\n",
       "      require([\"vega-embed\"], displayChart, err => showError(`Error loading script: ${err.message}`));\n",
       "    } else {\n",
       "      maybeLoadScript(\"vega\", \"5\")\n",
       "        .then(() => maybeLoadScript(\"vega-lite\", \"5.17.0\"))\n",
       "        .then(() => maybeLoadScript(\"vega-embed\", \"6\"))\n",
       "        .catch(showError)\n",
       "        .then(() => displayChart(vegaEmbed));\n",
       "    }\n",
       "  })({\"config\": {\"view\": {\"continuousWidth\": 300, \"continuousHeight\": 300}, \"numberFormat\": \".2s\"}, \"data\": {\"name\": \"data-172d47ec1fa1a9099fac8355ef959346\"}, \"mark\": {\"type\": \"bar\"}, \"encoding\": {\"color\": {\"field\": \"institution\", \"legend\": {\"columns\": 5, \"orient\": \"bottom\"}, \"sort\": \"descending\", \"type\": \"nominal\"}, \"column\": {\"field\": \"precision\", \"type\": \"ordinal\"}, \"tooltip\": {\"field\": \"institution\", \"type\": \"nominal\"}, \"x\": {\"field\": \"artefact_count\", \"type\": \"quantitative\"}, \"y\": {\"field\": \"topic\", \"type\": \"nominal\"}}, \"resolve\": {\"scale\": {\"x\": \"independent\"}}, \"title\": {\"text\": \"Collection Size (Artefacts) by topic (Uncertainty: 200%\", \"anchor\": \"middle\"}, \"width\": 800, \"$schema\": \"https://vega.github.io/schema/vega-lite/v5.17.0.json\", \"datasets\": {\"data-172d47ec1fa1a9099fac8355ef959346\": [{\"institution\": \"Oxford University\", \"sector\": \"university\", \"type\": \"university\", \"topic\": \"mixed\", \"precision\": \"estimate\", \"artefact_count\": 22530000}, {\"institution\": \"University of Cambridge\", \"sector\": \"university\", \"type\": \"university\", \"topic\": \"mixed\", \"precision\": \"estimate\", \"artefact_count\": 10000000}, {\"institution\": \"Durham University\", \"sector\": \"university\", \"type\": \"university\", \"topic\": \"mixed\", \"precision\": \"estimate\", \"artefact_count\": 106000}, {\"institution\": \"University College London\", \"sector\": \"university\", \"type\": \"university\", \"topic\": \"mixed\", \"precision\": \"estimate\", \"artefact_count\": 164000}, {\"institution\": \"University of Manchester\", \"sector\": \"university\", \"type\": \"university\", \"topic\": \"mixed\", \"precision\": \"estimate\", \"artefact_count\": 4060000}, {\"institution\": \"King's College London\", \"sector\": \"university\", \"type\": \"university\", \"topic\": \"mixed\", \"precision\": \"estimate\", \"artefact_count\": 200000}, {\"institution\": \"University of Birmingham\", \"sector\": \"university\", \"type\": \"university\", \"topic\": \"mixed\", \"precision\": \"estimate\", \"artefact_count\": 4500000}, {\"institution\": \"Unversity of Warwick\", \"sector\": \"university\", \"type\": \"university\", \"topic\": \"mixed\", \"precision\": \"estimate\", \"artefact_count\": 16000}, {\"institution\": \"Manchester Metropolitan Unversity\", \"sector\": \"university\", \"type\": \"university\", \"topic\": \"mixed\", \"precision\": \"estimate\", \"artefact_count\": 0}, {\"institution\": \"Swansea University\", \"sector\": \"university\", \"type\": \"university\", \"topic\": \"mixed\", \"precision\": \"estimate\", \"artefact_count\": 1700}, {\"institution\": \"University of Brighton\", \"sector\": \"university\", \"type\": \"university\", \"topic\": \"mixed\", \"precision\": \"estimate\", \"artefact_count\": 50000}, {\"institution\": \"SOAS, University of London\", \"sector\": \"university\", \"type\": \"university\", \"topic\": \"mixed\", \"precision\": \"estimate\", \"artefact_count\": 60000}, {\"institution\": \"University of Aberdeen\", \"sector\": \"university\", \"type\": \"university\", \"topic\": \"mixed\", \"precision\": \"estimate\", \"artefact_count\": 530000}, {\"institution\": \"University of Bristol\", \"sector\": \"university\", \"type\": \"university\", \"topic\": \"mixed\", \"precision\": \"estimate\", \"artefact_count\": 100000}, {\"institution\": \"University of Leeds\", \"sector\": \"university\", \"type\": \"university\", \"topic\": \"mixed\", \"precision\": \"estimate\", \"artefact_count\": 350000}, {\"institution\": \"University of Leicester\", \"sector\": \"university\", \"type\": \"university\", \"topic\": \"mixed\", \"precision\": \"estimate\", \"artefact_count\": 25000}, {\"institution\": \"University of Sheffield\", \"sector\": \"university\", \"type\": \"university\", \"topic\": \"mixed\", \"precision\": \"estimate\", \"artefact_count\": 30000}, {\"institution\": \"University of St Andrews\", \"sector\": \"university\", \"type\": \"university\", \"topic\": \"mixed\", \"precision\": \"estimate\", \"artefact_count\": 200000}, {\"institution\": \"British Library\", \"sector\": \"library\", \"type\": \"library\", \"topic\": \"mixed\", \"precision\": \"estimate\", \"artefact_count\": 33810000}, {\"institution\": \"Chetham's Library\", \"sector\": \"library\", \"type\": \"library\", \"topic\": \"mixed\", \"precision\": \"estimate\", \"artefact_count\": 121041}, {\"institution\": \"Glasgow Woman's Library\", \"sector\": \"library\", \"type\": \"library\", \"topic\": \"mixed\", \"precision\": \"estimate\", \"artefact_count\": 0}, {\"institution\": \"Lambeth Palace Library\", \"sector\": \"library\", \"type\": \"library\", \"topic\": \"theology\", \"precision\": \"estimate\", \"artefact_count\": 186200}, {\"institution\": \"National Library of Wales\", \"sector\": \"library\", \"type\": \"library\", \"topic\": \"mixed\", \"precision\": \"estimate\", \"artefact_count\": 7540000}, {\"institution\": \"National Library of Scotland\", \"sector\": \"library\", \"type\": \"library\", \"topic\": \"mixed\", \"precision\": \"estimate\", \"artefact_count\": 34000000}, {\"institution\": \"Victoria & Albert Museum\", \"sector\": \"dcms\", \"type\": \"museum\", \"topic\": \"art\", \"precision\": \"estimate\", \"artefact_count\": 2800000}, {\"institution\": \"Science Museum Group\", \"sector\": \"dcms\", \"type\": \"museum\", \"topic\": \"science\", \"precision\": \"estimate\", \"artefact_count\": 7360793}, {\"institution\": \"Museum of the Home\", \"sector\": \"dcms\", \"type\": \"museum\", \"topic\": \"history\", \"precision\": \"estimate\", \"artefact_count\": 40000}, {\"institution\": \"Horniman Museum\", \"sector\": \"dcms\", \"type\": \"museum\", \"topic\": \"history\", \"precision\": \"estimate\", \"artefact_count\": 350000}, {\"institution\": \"Imperial War Museums\", \"sector\": \"dcms\", \"type\": \"museum\", \"topic\": \"history\", \"precision\": \"estimate\", \"artefact_count\": 1000000}, {\"institution\": \"National Gallery\", \"sector\": \"dcms\", \"type\": \"gallery\", \"topic\": \"art\", \"precision\": \"estimate\", \"artefact_count\": 2626}, {\"institution\": \"National Museums Liverpool\", \"sector\": \"dcms\", \"type\": \"museum\", \"topic\": \"history\", \"precision\": \"estimate\", \"artefact_count\": 4000000}, {\"institution\": \"National Portrait Gallery\", \"sector\": \"dcms\", \"type\": \"gallery\", \"topic\": \"art\", \"precision\": \"estimate\", \"artefact_count\": 350000}, {\"institution\": \"Natural History Museum\", \"sector\": \"dcms\", \"type\": \"museum\", \"topic\": \"nature\", \"precision\": \"estimate\", \"artefact_count\": 80000000}, {\"institution\": \"Royal Armouries\", \"sector\": \"dcms\", \"type\": \"museum\", \"topic\": \"history\", \"precision\": \"estimate\", \"artefact_count\": 70000}, {\"institution\": \"Royal Museums Greenwich\", \"sector\": \"dcms\", \"type\": \"museum\", \"topic\": \"history\", \"precision\": \"estimate\", \"artefact_count\": 3000000}, {\"institution\": \"Sir John Soane's Museum\", \"sector\": \"dcms\", \"type\": \"museum\", \"topic\": \"history\", \"precision\": \"estimate\", \"artefact_count\": 52000}, {\"institution\": \"Tate Gallery Group\", \"sector\": \"dcms\", \"type\": \"gallery\", \"topic\": \"art\", \"precision\": \"estimate\", \"artefact_count\": 70000}, {\"institution\": \"The Wallace Collection\", \"sector\": \"dcms\", \"type\": \"museum\", \"topic\": \"art\", \"precision\": \"estimate\", \"artefact_count\": 5637}, {\"institution\": \"British Museum\", \"sector\": \"dcms\", \"type\": \"museum\", \"topic\": \"history\", \"precision\": \"estimate\", \"artefact_count\": 8000000}]}}, {\"mode\": \"vega-lite\"});\n",
       "</script>"
      ],
      "text/plain": [
       "alt.Chart(...)"
      ]
     },
     "execution_count": 64,
     "metadata": {},
     "output_type": "execute_result"
    }
   ],
   "source": [
    "title = alt.TitleParams('Collection Size (Artefacts) by topic (Uncertainty: 200%', anchor='middle')\n",
    "alt.Chart(artefacts_data, title=title).mark_bar().encode(\n",
    "    alt.Color('institution:N', sort='descending', legend=alt.Legend(orient='bottom',columns=5)),\n",
    "    column='precision:O',\n",
    "    x='artefact_count:Q',\n",
    "    tooltip='institution',\n",
    "    y='topic:N',\n",
    ").properties(width=800).resolve_scale(x='independent').configure(numberFormat='.2s')"
   ]
  },
  {
   "cell_type": "code",
   "execution_count": 57,
   "id": "4f2a7ca6-7a3a-4176-bf8b-b22250451b61",
   "metadata": {
    "editable": true,
    "slideshow": {
     "slide_type": ""
    },
    "tags": [
     "remove-input"
    ]
   },
   "outputs": [
    {
     "data": {
      "text/html": [
       "\n",
       "<style>\n",
       "  #altair-viz-18b73164fa7042f19f3da77c7586dbb4.vega-embed {\n",
       "    width: 100%;\n",
       "    display: flex;\n",
       "  }\n",
       "\n",
       "  #altair-viz-18b73164fa7042f19f3da77c7586dbb4.vega-embed details,\n",
       "  #altair-viz-18b73164fa7042f19f3da77c7586dbb4.vega-embed details summary {\n",
       "    position: relative;\n",
       "  }\n",
       "</style>\n",
       "<div id=\"altair-viz-18b73164fa7042f19f3da77c7586dbb4\"></div>\n",
       "<script type=\"text/javascript\">\n",
       "  var VEGA_DEBUG = (typeof VEGA_DEBUG == \"undefined\") ? {} : VEGA_DEBUG;\n",
       "  (function(spec, embedOpt){\n",
       "    let outputDiv = document.currentScript.previousElementSibling;\n",
       "    if (outputDiv.id !== \"altair-viz-18b73164fa7042f19f3da77c7586dbb4\") {\n",
       "      outputDiv = document.getElementById(\"altair-viz-18b73164fa7042f19f3da77c7586dbb4\");\n",
       "    }\n",
       "    const paths = {\n",
       "      \"vega\": \"https://cdn.jsdelivr.net/npm/vega@5?noext\",\n",
       "      \"vega-lib\": \"https://cdn.jsdelivr.net/npm/vega-lib?noext\",\n",
       "      \"vega-lite\": \"https://cdn.jsdelivr.net/npm/vega-lite@5.17.0?noext\",\n",
       "      \"vega-embed\": \"https://cdn.jsdelivr.net/npm/vega-embed@6?noext\",\n",
       "    };\n",
       "\n",
       "    function maybeLoadScript(lib, version) {\n",
       "      var key = `${lib.replace(\"-\", \"\")}_version`;\n",
       "      return (VEGA_DEBUG[key] == version) ?\n",
       "        Promise.resolve(paths[lib]) :\n",
       "        new Promise(function(resolve, reject) {\n",
       "          var s = document.createElement('script');\n",
       "          document.getElementsByTagName(\"head\")[0].appendChild(s);\n",
       "          s.async = true;\n",
       "          s.onload = () => {\n",
       "            VEGA_DEBUG[key] = version;\n",
       "            return resolve(paths[lib]);\n",
       "          };\n",
       "          s.onerror = () => reject(`Error loading script: ${paths[lib]}`);\n",
       "          s.src = paths[lib];\n",
       "        });\n",
       "    }\n",
       "\n",
       "    function showError(err) {\n",
       "      outputDiv.innerHTML = `<div class=\"error\" style=\"color:red;\">${err}</div>`;\n",
       "      throw err;\n",
       "    }\n",
       "\n",
       "    function displayChart(vegaEmbed) {\n",
       "      vegaEmbed(outputDiv, spec, embedOpt)\n",
       "        .catch(err => showError(`Javascript Error: ${err.message}<br>This usually means there's a typo in your chart specification. See the javascript console for the full traceback.`));\n",
       "    }\n",
       "\n",
       "    if(typeof define === \"function\" && define.amd) {\n",
       "      requirejs.config({paths});\n",
       "      require([\"vega-embed\"], displayChart, err => showError(`Error loading script: ${err.message}`));\n",
       "    } else {\n",
       "      maybeLoadScript(\"vega\", \"5\")\n",
       "        .then(() => maybeLoadScript(\"vega-lite\", \"5.17.0\"))\n",
       "        .then(() => maybeLoadScript(\"vega-embed\", \"6\"))\n",
       "        .catch(showError)\n",
       "        .then(() => displayChart(vegaEmbed));\n",
       "    }\n",
       "  })({\"config\": {\"view\": {\"continuousWidth\": 300, \"continuousHeight\": 300}, \"numberFormat\": \".2s\"}, \"data\": {\"name\": \"data-172d47ec1fa1a9099fac8355ef959346\"}, \"mark\": {\"type\": \"bar\"}, \"encoding\": {\"color\": {\"field\": \"institution\", \"legend\": {\"columns\": 4, \"orient\": \"bottom\", \"symbolLimit\": 50}, \"sort\": \"descending\", \"type\": \"nominal\"}, \"column\": {\"field\": \"precision\", \"type\": \"ordinal\"}, \"tooltip\": {\"field\": \"institution\", \"type\": \"nominal\"}, \"x\": {\"field\": \"artefact_count\", \"type\": \"quantitative\"}, \"y\": {\"field\": \"type\", \"type\": \"nominal\"}}, \"resolve\": {\"scale\": {\"x\": \"independent\"}}, \"title\": {\"text\": \"Oveview Collection Size (Artefacts) by sector\", \"anchor\": \"middle\"}, \"width\": 800, \"$schema\": \"https://vega.github.io/schema/vega-lite/v5.17.0.json\", \"datasets\": {\"data-172d47ec1fa1a9099fac8355ef959346\": [{\"institution\": \"Oxford University\", \"sector\": \"university\", \"type\": \"university\", \"topic\": \"mixed\", \"precision\": \"estimate\", \"artefact_count\": 22530000}, {\"institution\": \"University of Cambridge\", \"sector\": \"university\", \"type\": \"university\", \"topic\": \"mixed\", \"precision\": \"estimate\", \"artefact_count\": 10000000}, {\"institution\": \"Durham University\", \"sector\": \"university\", \"type\": \"university\", \"topic\": \"mixed\", \"precision\": \"estimate\", \"artefact_count\": 106000}, {\"institution\": \"University College London\", \"sector\": \"university\", \"type\": \"university\", \"topic\": \"mixed\", \"precision\": \"estimate\", \"artefact_count\": 164000}, {\"institution\": \"University of Manchester\", \"sector\": \"university\", \"type\": \"university\", \"topic\": \"mixed\", \"precision\": \"estimate\", \"artefact_count\": 4060000}, {\"institution\": \"King's College London\", \"sector\": \"university\", \"type\": \"university\", \"topic\": \"mixed\", \"precision\": \"estimate\", \"artefact_count\": 200000}, {\"institution\": \"University of Birmingham\", \"sector\": \"university\", \"type\": \"university\", \"topic\": \"mixed\", \"precision\": \"estimate\", \"artefact_count\": 4500000}, {\"institution\": \"Unversity of Warwick\", \"sector\": \"university\", \"type\": \"university\", \"topic\": \"mixed\", \"precision\": \"estimate\", \"artefact_count\": 16000}, {\"institution\": \"Manchester Metropolitan Unversity\", \"sector\": \"university\", \"type\": \"university\", \"topic\": \"mixed\", \"precision\": \"estimate\", \"artefact_count\": 0}, {\"institution\": \"Swansea University\", \"sector\": \"university\", \"type\": \"university\", \"topic\": \"mixed\", \"precision\": \"estimate\", \"artefact_count\": 1700}, {\"institution\": \"University of Brighton\", \"sector\": \"university\", \"type\": \"university\", \"topic\": \"mixed\", \"precision\": \"estimate\", \"artefact_count\": 50000}, {\"institution\": \"SOAS, University of London\", \"sector\": \"university\", \"type\": \"university\", \"topic\": \"mixed\", \"precision\": \"estimate\", \"artefact_count\": 60000}, {\"institution\": \"University of Aberdeen\", \"sector\": \"university\", \"type\": \"university\", \"topic\": \"mixed\", \"precision\": \"estimate\", \"artefact_count\": 530000}, {\"institution\": \"University of Bristol\", \"sector\": \"university\", \"type\": \"university\", \"topic\": \"mixed\", \"precision\": \"estimate\", \"artefact_count\": 100000}, {\"institution\": \"University of Leeds\", \"sector\": \"university\", \"type\": \"university\", \"topic\": \"mixed\", \"precision\": \"estimate\", \"artefact_count\": 350000}, {\"institution\": \"University of Leicester\", \"sector\": \"university\", \"type\": \"university\", \"topic\": \"mixed\", \"precision\": \"estimate\", \"artefact_count\": 25000}, {\"institution\": \"University of Sheffield\", \"sector\": \"university\", \"type\": \"university\", \"topic\": \"mixed\", \"precision\": \"estimate\", \"artefact_count\": 30000}, {\"institution\": \"University of St Andrews\", \"sector\": \"university\", \"type\": \"university\", \"topic\": \"mixed\", \"precision\": \"estimate\", \"artefact_count\": 200000}, {\"institution\": \"British Library\", \"sector\": \"library\", \"type\": \"library\", \"topic\": \"mixed\", \"precision\": \"estimate\", \"artefact_count\": 33810000}, {\"institution\": \"Chetham's Library\", \"sector\": \"library\", \"type\": \"library\", \"topic\": \"mixed\", \"precision\": \"estimate\", \"artefact_count\": 121041}, {\"institution\": \"Glasgow Woman's Library\", \"sector\": \"library\", \"type\": \"library\", \"topic\": \"mixed\", \"precision\": \"estimate\", \"artefact_count\": 0}, {\"institution\": \"Lambeth Palace Library\", \"sector\": \"library\", \"type\": \"library\", \"topic\": \"theology\", \"precision\": \"estimate\", \"artefact_count\": 186200}, {\"institution\": \"National Library of Wales\", \"sector\": \"library\", \"type\": \"library\", \"topic\": \"mixed\", \"precision\": \"estimate\", \"artefact_count\": 7540000}, {\"institution\": \"National Library of Scotland\", \"sector\": \"library\", \"type\": \"library\", \"topic\": \"mixed\", \"precision\": \"estimate\", \"artefact_count\": 34000000}, {\"institution\": \"Victoria & Albert Museum\", \"sector\": \"dcms\", \"type\": \"museum\", \"topic\": \"art\", \"precision\": \"estimate\", \"artefact_count\": 2800000}, {\"institution\": \"Science Museum Group\", \"sector\": \"dcms\", \"type\": \"museum\", \"topic\": \"science\", \"precision\": \"estimate\", \"artefact_count\": 7360793}, {\"institution\": \"Museum of the Home\", \"sector\": \"dcms\", \"type\": \"museum\", \"topic\": \"history\", \"precision\": \"estimate\", \"artefact_count\": 40000}, {\"institution\": \"Horniman Museum\", \"sector\": \"dcms\", \"type\": \"museum\", \"topic\": \"history\", \"precision\": \"estimate\", \"artefact_count\": 350000}, {\"institution\": \"Imperial War Museums\", \"sector\": \"dcms\", \"type\": \"museum\", \"topic\": \"history\", \"precision\": \"estimate\", \"artefact_count\": 1000000}, {\"institution\": \"National Gallery\", \"sector\": \"dcms\", \"type\": \"gallery\", \"topic\": \"art\", \"precision\": \"estimate\", \"artefact_count\": 2626}, {\"institution\": \"National Museums Liverpool\", \"sector\": \"dcms\", \"type\": \"museum\", \"topic\": \"history\", \"precision\": \"estimate\", \"artefact_count\": 4000000}, {\"institution\": \"National Portrait Gallery\", \"sector\": \"dcms\", \"type\": \"gallery\", \"topic\": \"art\", \"precision\": \"estimate\", \"artefact_count\": 350000}, {\"institution\": \"Natural History Museum\", \"sector\": \"dcms\", \"type\": \"museum\", \"topic\": \"nature\", \"precision\": \"estimate\", \"artefact_count\": 80000000}, {\"institution\": \"Royal Armouries\", \"sector\": \"dcms\", \"type\": \"museum\", \"topic\": \"history\", \"precision\": \"estimate\", \"artefact_count\": 70000}, {\"institution\": \"Royal Museums Greenwich\", \"sector\": \"dcms\", \"type\": \"museum\", \"topic\": \"history\", \"precision\": \"estimate\", \"artefact_count\": 3000000}, {\"institution\": \"Sir John Soane's Museum\", \"sector\": \"dcms\", \"type\": \"museum\", \"topic\": \"history\", \"precision\": \"estimate\", \"artefact_count\": 52000}, {\"institution\": \"Tate Gallery Group\", \"sector\": \"dcms\", \"type\": \"gallery\", \"topic\": \"art\", \"precision\": \"estimate\", \"artefact_count\": 70000}, {\"institution\": \"The Wallace Collection\", \"sector\": \"dcms\", \"type\": \"museum\", \"topic\": \"art\", \"precision\": \"estimate\", \"artefact_count\": 5637}, {\"institution\": \"British Museum\", \"sector\": \"dcms\", \"type\": \"museum\", \"topic\": \"history\", \"precision\": \"estimate\", \"artefact_count\": 8000000}]}}, {\"mode\": \"vega-lite\"});\n",
       "</script>"
      ],
      "text/plain": [
       "alt.Chart(...)"
      ]
     },
     "execution_count": 57,
     "metadata": {},
     "output_type": "execute_result"
    }
   ],
   "source": [
    "title = alt.TitleParams('Oveview Collection Size (Artefacts) by sector', anchor='middle')\n",
    "alt.Chart(artefacts_data,title=title).mark_bar().encode(\n",
    "    alt.Color('institution:N', sort='descending', legend=alt.Legend(orient='bottom',columns=4,symbolLimit=50)),\n",
    "    column='precision:O',\n",
    "    tooltip='institution',\n",
    "    x='artefact_count:Q',\n",
    "    y='type:N',\n",
    ").properties(width=800).resolve_scale(x='independent').configure(numberFormat='.2s')"
   ]
  },
  {
   "cell_type": "code",
   "execution_count": 50,
   "id": "b3acc664-34fd-41f9-bbff-92f0a787eaf8",
   "metadata": {
    "editable": true,
    "slideshow": {
     "slide_type": ""
    },
    "tags": [
     "remove-cell"
    ]
   },
   "outputs": [],
   "source": [
    "\n",
    "artefacts_type_data = pd.read_csv(\"artefacts-type-overview-stats.csv\")"
   ]
  },
  {
   "cell_type": "code",
   "execution_count": 55,
   "id": "a142bd46-17ec-438d-88b9-332ebfb6648c",
   "metadata": {
    "editable": true,
    "slideshow": {
     "slide_type": ""
    },
    "tags": [
     "remove-input"
    ]
   },
   "outputs": [
    {
     "data": {
      "text/html": [
       "\n",
       "<style>\n",
       "  #altair-viz-4a4a2410636242568f0ffb142128fd6c.vega-embed {\n",
       "    width: 100%;\n",
       "    display: flex;\n",
       "  }\n",
       "\n",
       "  #altair-viz-4a4a2410636242568f0ffb142128fd6c.vega-embed details,\n",
       "  #altair-viz-4a4a2410636242568f0ffb142128fd6c.vega-embed details summary {\n",
       "    position: relative;\n",
       "  }\n",
       "</style>\n",
       "<div id=\"altair-viz-4a4a2410636242568f0ffb142128fd6c\"></div>\n",
       "<script type=\"text/javascript\">\n",
       "  var VEGA_DEBUG = (typeof VEGA_DEBUG == \"undefined\") ? {} : VEGA_DEBUG;\n",
       "  (function(spec, embedOpt){\n",
       "    let outputDiv = document.currentScript.previousElementSibling;\n",
       "    if (outputDiv.id !== \"altair-viz-4a4a2410636242568f0ffb142128fd6c\") {\n",
       "      outputDiv = document.getElementById(\"altair-viz-4a4a2410636242568f0ffb142128fd6c\");\n",
       "    }\n",
       "    const paths = {\n",
       "      \"vega\": \"https://cdn.jsdelivr.net/npm/vega@5?noext\",\n",
       "      \"vega-lib\": \"https://cdn.jsdelivr.net/npm/vega-lib?noext\",\n",
       "      \"vega-lite\": \"https://cdn.jsdelivr.net/npm/vega-lite@5.17.0?noext\",\n",
       "      \"vega-embed\": \"https://cdn.jsdelivr.net/npm/vega-embed@6?noext\",\n",
       "    };\n",
       "\n",
       "    function maybeLoadScript(lib, version) {\n",
       "      var key = `${lib.replace(\"-\", \"\")}_version`;\n",
       "      return (VEGA_DEBUG[key] == version) ?\n",
       "        Promise.resolve(paths[lib]) :\n",
       "        new Promise(function(resolve, reject) {\n",
       "          var s = document.createElement('script');\n",
       "          document.getElementsByTagName(\"head\")[0].appendChild(s);\n",
       "          s.async = true;\n",
       "          s.onload = () => {\n",
       "            VEGA_DEBUG[key] = version;\n",
       "            return resolve(paths[lib]);\n",
       "          };\n",
       "          s.onerror = () => reject(`Error loading script: ${paths[lib]}`);\n",
       "          s.src = paths[lib];\n",
       "        });\n",
       "    }\n",
       "\n",
       "    function showError(err) {\n",
       "      outputDiv.innerHTML = `<div class=\"error\" style=\"color:red;\">${err}</div>`;\n",
       "      throw err;\n",
       "    }\n",
       "\n",
       "    function displayChart(vegaEmbed) {\n",
       "      vegaEmbed(outputDiv, spec, embedOpt)\n",
       "        .catch(err => showError(`Javascript Error: ${err.message}<br>This usually means there's a typo in your chart specification. See the javascript console for the full traceback.`));\n",
       "    }\n",
       "\n",
       "    if(typeof define === \"function\" && define.amd) {\n",
       "      requirejs.config({paths});\n",
       "      require([\"vega-embed\"], displayChart, err => showError(`Error loading script: ${err.message}`));\n",
       "    } else {\n",
       "      maybeLoadScript(\"vega\", \"5\")\n",
       "        .then(() => maybeLoadScript(\"vega-lite\", \"5.17.0\"))\n",
       "        .then(() => maybeLoadScript(\"vega-embed\", \"6\"))\n",
       "        .catch(showError)\n",
       "        .then(() => displayChart(vegaEmbed));\n",
       "    }\n",
       "  })({\"config\": {\"view\": {\"continuousWidth\": 300, \"continuousHeight\": 300}, \"numberFormat\": \".1s\"}, \"data\": {\"name\": \"data-ed9c5fc1ad41349bd89c010fccebbccb\"}, \"mark\": {\"type\": \"bar\"}, \"encoding\": {\"color\": {\"field\": \"type\", \"legend\": {\"orient\": \"bottom\", \"titleOrient\": \"left\"}, \"title\": \"settings\", \"type\": \"nominal\"}, \"column\": {\"field\": \"sector\", \"title\": \"Artefacts Overview (by type)\", \"type\": \"nominal\"}, \"row\": {\"field\": \"institution\", \"header\": {\"labelAngle\": 0, \"labelAlign\": \"left\"}, \"title\": \"Institution\", \"type\": \"nominal\"}, \"x\": {\"field\": \"artefact_count\", \"title\": null, \"type\": \"quantitative\"}, \"y\": {\"field\": \"precision\", \"title\": null, \"type\": \"nominal\"}}, \"height\": {\"step\": 8}, \"resolve\": {\"scale\": {\"x\": \"independent\"}}, \"width\": 150, \"$schema\": \"https://vega.github.io/schema/vega-lite/v5.17.0.json\", \"datasets\": {\"data-ed9c5fc1ad41349bd89c010fccebbccb\": [{\"institution\": \"Oxford University\", \"sector\": \"museum\", \"institution_type\": \"university\", \"topic\": \"mixed\", \"type\": \"object\", \"level\": \"item\", \"precision\": \"estimate\", \"artefact_count\": 0}, {\"institution\": \"Oxford University\", \"sector\": \"library\", \"institution_type\": \"university\", \"topic\": \"mixed\", \"type\": \"library\", \"level\": \"item\", \"precision\": \"estimate\", \"artefact_count\": 20000}, {\"institution\": \"Oxford University\", \"sector\": \"archive\", \"institution_type\": \"university\", \"topic\": \"mixed\", \"type\": \"archive\", \"level\": \"item\", \"precision\": \"estimate\", \"artefact_count\": 5000000}, {\"institution\": \"Bangor University\", \"sector\": \"archive\", \"institution_type\": \"university\", \"topic\": \"mixed\", \"type\": \"archive\", \"level\": \"collection\", \"precision\": \"estimate\", \"artefact_count\": 98}, {\"institution\": \"Bangor University\", \"sector\": \"museum\", \"institution_type\": \"university\", \"topic\": \"mixed\", \"type\": \"object\", \"level\": \"item\", \"precision\": \"estimate\", \"artefact_count\": 0}, {\"institution\": \"Bangor University\", \"sector\": \"library\", \"institution_type\": \"university\", \"topic\": \"mixed\", \"type\": \"library\", \"level\": \"item\", \"precision\": \"estimate\", \"artefact_count\": 0}, {\"institution\": \"Bangor University\", \"sector\": \"archive\", \"institution_type\": \"university\", \"topic\": \"mixed\", \"type\": \"archive\", \"level\": \"item\", \"precision\": \"estimate\", \"artefact_count\": 0}, {\"institution\": \"University of York\", \"sector\": \"archive\", \"institution_type\": \"university\", \"topic\": \"mixed\", \"type\": \"archive\", \"level\": \"item\", \"precision\": \"estimate\", \"artefact_count\": 132370}, {\"institution\": \"University of York\", \"sector\": \"museum\", \"institution_type\": \"university\", \"topic\": \"mixed\", \"type\": \"object\", \"level\": \"item\", \"precision\": \"estimate\", \"artefact_count\": 0}, {\"institution\": \"University of York\", \"sector\": \"library\", \"institution_type\": \"university\", \"topic\": \"mixed\", \"type\": \"library\", \"level\": \"item\", \"precision\": \"estimate\", \"artefact_count\": 0}, {\"institution\": \"University of Cambridge\", \"sector\": \"museum\", \"institution_type\": \"university\", \"topic\": \"mixed\", \"type\": \"object\", \"level\": \"item\", \"precision\": \"estimate\", \"artefact_count\": 0}, {\"institution\": \"University of Cambridge\", \"sector\": \"library\", \"institution_type\": \"university\", \"topic\": \"mixed\", \"type\": \"library\", \"level\": \"item\", \"precision\": \"estimate\", \"artefact_count\": 10000000}, {\"institution\": \"University of Cambridge\", \"sector\": \"archive\", \"institution_type\": \"university\", \"topic\": \"mixed\", \"type\": \"archive\", \"level\": \"item\", \"precision\": \"estimate\", \"artefact_count\": 0}, {\"institution\": \"Cardiff University\", \"sector\": \"library\", \"institution_type\": \"university\", \"topic\": \"mixed\", \"type\": \"library\", \"level\": \"item\", \"precision\": \"estimate\", \"artefact_count\": 1100000}, {\"institution\": \"Cardiff University\", \"sector\": \"museum\", \"institution_type\": \"university\", \"topic\": \"mixed\", \"type\": \"object\", \"level\": \"item\", \"precision\": \"estimate\", \"artefact_count\": 0}, {\"institution\": \"Cardiff University\", \"sector\": \"archive\", \"institution_type\": \"university\", \"topic\": \"mixed\", \"type\": \"archive\", \"level\": \"item\", \"precision\": \"estimate\", \"artefact_count\": 0}, {\"institution\": \"Durham University\", \"sector\": \"museum\", \"institution_type\": \"university\", \"topic\": \"mixed\", \"type\": \"object\", \"level\": \"item\", \"precision\": \"estimate\", \"artefact_count\": 36000}, {\"institution\": \"Durham University\", \"sector\": \"library\", \"institution_type\": \"university\", \"topic\": \"mixed\", \"type\": \"library\", \"level\": \"item\", \"precision\": \"estimate\", \"artefact_count\": 70000}, {\"institution\": \"Durham University\", \"sector\": \"archive\", \"institution_type\": \"university\", \"topic\": \"mixed\", \"type\": \"archive\", \"level\": \"item\", \"precision\": \"estimate\", \"artefact_count\": 0}, {\"institution\": \"University College London\", \"sector\": \"museum\", \"institution_type\": \"university\", \"topic\": \"mixed\", \"type\": \"object\", \"level\": \"item\", \"precision\": \"estimate\", \"artefact_count\": 164000}, {\"institution\": \"University College London\", \"sector\": \"library\", \"institution_type\": \"university\", \"topic\": \"mixed\", \"type\": \"library\", \"level\": \"item\", \"precision\": \"estimate\", \"artefact_count\": 0}, {\"institution\": \"University College London\", \"sector\": \"archive\", \"institution_type\": \"university\", \"topic\": \"mixed\", \"type\": \"archive\", \"level\": \"item\", \"precision\": \"estimate\", \"artefact_count\": 0}, {\"institution\": \"University of Manchester\", \"sector\": \"museum\", \"institution_type\": \"university\", \"topic\": \"mixed\", \"type\": \"object\", \"level\": \"item\", \"precision\": \"estimate\", \"artefact_count\": 60000}, {\"institution\": \"University of Manchester\", \"sector\": \"library\", \"institution_type\": \"university\", \"topic\": \"mixed\", \"type\": \"library\", \"level\": \"item\", \"precision\": \"estimate\", \"artefact_count\": 4000000}, {\"institution\": \"University of Manchester\", \"sector\": \"archive\", \"institution_type\": \"university\", \"topic\": \"mixed\", \"type\": \"archive\", \"level\": \"item\", \"precision\": \"estimate\", \"artefact_count\": 0}, {\"institution\": \"King's College London\", \"sector\": \"museum\", \"institution_type\": \"university\", \"topic\": \"mixed\", \"type\": \"object\", \"level\": \"item\", \"precision\": \"estimate\", \"artefact_count\": 0}, {\"institution\": \"King's College London\", \"sector\": \"library\", \"institution_type\": \"university\", \"topic\": \"mixed\", \"type\": \"library\", \"level\": \"item\", \"precision\": \"estimate\", \"artefact_count\": 200000}, {\"institution\": \"King's College London\", \"sector\": \"archive\", \"institution_type\": \"university\", \"topic\": \"mixed\", \"type\": \"archive\", \"level\": \"item\", \"precision\": \"estimate\", \"artefact_count\": 0}, {\"institution\": \"University of Birmingham\", \"sector\": \"museum\", \"institution_type\": \"university\", \"topic\": \"mixed\", \"type\": \"object\", \"level\": \"item\", \"precision\": \"estimate\", \"artefact_count\": 250000}, {\"institution\": \"University of Birmingham\", \"sector\": \"library\", \"institution_type\": \"university\", \"topic\": \"mixed\", \"type\": \"library\", \"level\": \"item\", \"precision\": \"estimate\", \"artefact_count\": 250000}, {\"institution\": \"University of Birmingham\", \"sector\": \"archive\", \"institution_type\": \"university\", \"topic\": \"mixed\", \"type\": \"archive\", \"level\": \"item\", \"precision\": \"estimate\", \"artefact_count\": 4000000}, {\"institution\": \"Unversity of Warwick\", \"sector\": \"museum\", \"institution_type\": \"university\", \"topic\": \"mixed\", \"type\": \"object\", \"level\": \"item\", \"precision\": \"estimate\", \"artefact_count\": 0}, {\"institution\": \"Unversity of Warwick\", \"sector\": \"library\", \"institution_type\": \"university\", \"topic\": \"mixed\", \"type\": \"library\", \"level\": \"item\", \"precision\": \"estimate\", \"artefact_count\": 16000}, {\"institution\": \"Unversity of Warwick\", \"sector\": \"archive\", \"institution_type\": \"university\", \"topic\": \"mixed\", \"type\": \"archive\", \"level\": \"item\", \"precision\": \"estimate\", \"artefact_count\": 0}, {\"institution\": \"Manchester Metropolitan Unversity\", \"sector\": \"museum\", \"institution_type\": \"university\", \"topic\": \"mixed\", \"type\": \"object\", \"level\": \"item\", \"precision\": \"estimate\", \"artefact_count\": 0}, {\"institution\": \"Manchester Metropolitan Unversity\", \"sector\": \"library\", \"institution_type\": \"university\", \"topic\": \"mixed\", \"type\": \"library\", \"level\": \"item\", \"precision\": \"estimate\", \"artefact_count\": 0}, {\"institution\": \"Manchester Metropolitan Unversity\", \"sector\": \"archive\", \"institution_type\": \"university\", \"topic\": \"mixed\", \"type\": \"archive\", \"level\": \"item\", \"precision\": \"estimate\", \"artefact_count\": 0}, {\"institution\": \"Swansea University\", \"sector\": \"museum\", \"institution_type\": \"university\", \"topic\": \"mixed\", \"type\": \"object\", \"level\": \"item\", \"precision\": \"estimate\", \"artefact_count\": 0}, {\"institution\": \"Swansea University\", \"sector\": \"library\", \"institution_type\": \"university\", \"topic\": \"mixed\", \"type\": \"library\", \"level\": \"item\", \"precision\": \"estimate\", \"artefact_count\": 1700}, {\"institution\": \"Swansea University\", \"sector\": \"archive\", \"institution_type\": \"university\", \"topic\": \"mixed\", \"type\": \"archive\", \"level\": \"item\", \"precision\": \"estimate\", \"artefact_count\": 0}, {\"institution\": \"University of Brighton\", \"sector\": \"museum\", \"institution_type\": \"university\", \"topic\": \"mixed\", \"type\": \"object\", \"level\": \"item\", \"precision\": \"estimate\", \"artefact_count\": 0}, {\"institution\": \"University of Brighton\", \"sector\": \"library\", \"institution_type\": \"university\", \"topic\": \"mixed\", \"type\": \"library\", \"level\": \"item\", \"precision\": \"estimate\", \"artefact_count\": 50000}, {\"institution\": \"University of Brighton\", \"sector\": \"archive\", \"institution_type\": \"university\", \"topic\": \"mixed\", \"type\": \"archive\", \"level\": \"item\", \"precision\": \"estimate\", \"artefact_count\": 0}, {\"institution\": \"SOAS, University of London\", \"sector\": \"museum\", \"institution_type\": \"university\", \"topic\": \"mixed\", \"type\": \"object\", \"level\": \"item\", \"precision\": \"estimate\", \"artefact_count\": 0}, {\"institution\": \"SOAS, University of London\", \"sector\": \"library\", \"institution_type\": \"university\", \"topic\": \"mixed\", \"type\": \"library\", \"level\": \"item\", \"precision\": \"estimate\", \"artefact_count\": 60000}, {\"institution\": \"SOAS, University of London\", \"sector\": \"archive\", \"institution_type\": \"university\", \"topic\": \"mixed\", \"type\": \"archive\", \"level\": \"item\", \"precision\": \"estimate\", \"artefact_count\": 0}, {\"institution\": \"University of Aberdeen\", \"sector\": \"museum\", \"institution_type\": \"university\", \"topic\": \"mixed\", \"type\": \"object\", \"level\": \"item\", \"precision\": \"estimate\", \"artefact_count\": 0}, {\"institution\": \"University of Aberdeen\", \"sector\": \"library\", \"institution_type\": \"university\", \"topic\": \"mixed\", \"type\": \"library\", \"level\": \"item\", \"precision\": \"estimate\", \"artefact_count\": 530000}, {\"institution\": \"University of Aberdeen\", \"sector\": \"archive\", \"institution_type\": \"university\", \"topic\": \"mixed\", \"type\": \"archive\", \"level\": \"item\", \"precision\": \"estimate\", \"artefact_count\": 0}, {\"institution\": \"University of Bristol\", \"sector\": \"museum\", \"institution_type\": \"university\", \"topic\": \"mixed\", \"type\": \"object\", \"level\": \"item\", \"precision\": \"estimate\", \"artefact_count\": 100000}, {\"institution\": \"University of Bristol\", \"sector\": \"library\", \"institution_type\": \"university\", \"topic\": \"mixed\", \"type\": \"library\", \"level\": \"item\", \"precision\": \"estimate\", \"artefact_count\": 0}, {\"institution\": \"University of Bristol\", \"sector\": \"archive\", \"institution_type\": \"university\", \"topic\": \"mixed\", \"type\": \"archive\", \"level\": \"item\", \"precision\": \"estimate\", \"artefact_count\": 0}, {\"institution\": \"University of Leeds\", \"sector\": \"museum\", \"institution_type\": \"university\", \"topic\": \"mixed\", \"type\": \"object\", \"level\": \"item\", \"precision\": \"estimate\", \"artefact_count\": 0}, {\"institution\": \"University of Leeds\", \"sector\": \"library\", \"institution_type\": \"university\", \"topic\": \"mixed\", \"type\": \"library\", \"level\": \"item\", \"precision\": \"estimate\", \"artefact_count\": 350000}, {\"institution\": \"University of Leeds\", \"sector\": \"archive\", \"institution_type\": \"university\", \"topic\": \"mixed\", \"type\": \"archive\", \"level\": \"item\", \"precision\": \"estimate\", \"artefact_count\": 0}, {\"institution\": \"University of Leicester\", \"sector\": \"museum\", \"institution_type\": \"university\", \"topic\": \"mixed\", \"type\": \"object\", \"level\": \"item\", \"precision\": \"estimate\", \"artefact_count\": 25000}, {\"institution\": \"University of Leicester\", \"sector\": \"library\", \"institution_type\": \"university\", \"topic\": \"mixed\", \"type\": \"library\", \"level\": \"item\", \"precision\": \"estimate\", \"artefact_count\": 0}, {\"institution\": \"University of Leicester\", \"sector\": \"archive\", \"institution_type\": \"university\", \"topic\": \"mixed\", \"type\": \"archive\", \"level\": \"item\", \"precision\": \"estimate\", \"artefact_count\": 0}, {\"institution\": \"University of Reading\", \"sector\": \"museum\", \"institution_type\": \"university\", \"topic\": \"mixed\", \"type\": \"object\", \"level\": \"item\", \"precision\": \"estimate\", \"artefact_count\": 0}, {\"institution\": \"University of Reading\", \"sector\": \"library\", \"institution_type\": \"university\", \"topic\": \"mixed\", \"type\": \"library\", \"level\": \"item\", \"precision\": \"estimate\", \"artefact_count\": 0}, {\"institution\": \"University of Reading\", \"sector\": \"archive\", \"institution_type\": \"university\", \"topic\": \"mixed\", \"type\": \"archive\", \"level\": \"item\", \"precision\": \"estimate\", \"artefact_count\": 0}, {\"institution\": \"University of Sheffield\", \"sector\": \"museum\", \"institution_type\": \"university\", \"topic\": \"mixed\", \"type\": \"object\", \"level\": \"item\", \"precision\": \"estimate\", \"artefact_count\": 0}, {\"institution\": \"University of Sheffield\", \"sector\": \"library\", \"institution_type\": \"university\", \"topic\": \"mixed\", \"type\": \"library\", \"level\": \"item\", \"precision\": \"estimate\", \"artefact_count\": 30000}, {\"institution\": \"University of Sheffield\", \"sector\": \"archive\", \"institution_type\": \"university\", \"topic\": \"mixed\", \"type\": \"archive\", \"level\": \"item\", \"precision\": \"estimate\", \"artefact_count\": 0}, {\"institution\": \"University of St Andrews\", \"sector\": \"museum\", \"institution_type\": \"university\", \"topic\": \"mixed\", \"type\": \"object\", \"level\": \"item\", \"precision\": \"estimate\", \"artefact_count\": 0}, {\"institution\": \"University of St Andrews\", \"sector\": \"library\", \"institution_type\": \"university\", \"topic\": \"mixed\", \"type\": \"library\", \"level\": \"item\", \"precision\": \"estimate\", \"artefact_count\": 200000}, {\"institution\": \"University of St Andrews\", \"sector\": \"archive\", \"institution_type\": \"university\", \"topic\": \"mixed\", \"type\": \"archive\", \"level\": \"item\", \"precision\": \"estimate\", \"artefact_count\": 0}, {\"institution\": \"British Library\", \"sector\": \"museum\", \"institution_type\": \"library\", \"topic\": \"mixed\", \"type\": \"object\", \"level\": \"item\", \"precision\": \"estimate\", \"artefact_count\": 0}, {\"institution\": \"British Library\", \"sector\": \"library\", \"institution_type\": \"library\", \"topic\": \"mixed\", \"type\": \"library\", \"level\": \"item\", \"precision\": \"estimate\", \"artefact_count\": 33810000}, {\"institution\": \"British Library\", \"sector\": \"archive\", \"institution_type\": \"library\", \"topic\": \"mixed\", \"type\": \"archive\", \"level\": \"item\", \"precision\": \"estimate\", \"artefact_count\": 0}, {\"institution\": \"Chetham's Library\", \"sector\": \"museum\", \"institution_type\": \"library\", \"topic\": \"mixed\", \"type\": \"object\", \"level\": \"item\", \"precision\": \"estimate\", \"artefact_count\": 0}, {\"institution\": \"Chetham's Library\", \"sector\": \"library\", \"institution_type\": \"library\", \"topic\": \"mixed\", \"type\": \"library\", \"level\": \"item\", \"precision\": \"estimate\", \"artefact_count\": 121041}, {\"institution\": \"Chetham's Library\", \"sector\": \"archive\", \"institution_type\": \"library\", \"topic\": \"mixed\", \"type\": \"archive\", \"level\": \"item\", \"precision\": \"estimate\", \"artefact_count\": 0}, {\"institution\": \"Glasgow Woman's Library\", \"sector\": \"museum\", \"institution_type\": \"library\", \"topic\": \"mixed\", \"type\": \"object\", \"level\": \"item\", \"precision\": \"estimate\", \"artefact_count\": 0}, {\"institution\": \"Glasgow Woman's Library\", \"sector\": \"library\", \"institution_type\": \"library\", \"topic\": \"mixed\", \"type\": \"library\", \"level\": \"item\", \"precision\": \"estimate\", \"artefact_count\": 0}, {\"institution\": \"Glasgow Woman's Library\", \"sector\": \"archive\", \"institution_type\": \"library\", \"topic\": \"mixed\", \"type\": \"archive\", \"level\": \"item\", \"precision\": \"estimate\", \"artefact_count\": 0}, {\"institution\": \"Lambeth Palace Library\", \"sector\": \"museum\", \"institution_type\": \"library\", \"topic\": \"theology\", \"type\": \"object\", \"level\": \"item\", \"precision\": \"estimate\", \"artefact_count\": 0}, {\"institution\": \"Lambeth Palace Library\", \"sector\": \"library\", \"institution_type\": \"library\", \"topic\": \"theology\", \"type\": \"library\", \"level\": \"item\", \"precision\": \"estimate\", \"artefact_count\": 186200}, {\"institution\": \"Lambeth Palace Library\", \"sector\": \"archive\", \"institution_type\": \"library\", \"topic\": \"theology\", \"type\": \"archive\", \"level\": \"item\", \"precision\": \"estimate\", \"artefact_count\": 0}, {\"institution\": \"National Library of Wales\", \"sector\": \"library\", \"institution_type\": \"library\", \"topic\": \"mixed\", \"type\": \"library\", \"level\": \"item\", \"precision\": \"estimate\", \"artefact_count\": 7540000}, {\"institution\": \"National Library of Wales\", \"sector\": \"museum\", \"institution_type\": \"library\", \"topic\": \"mixed\", \"type\": \"object\", \"level\": \"item\", \"precision\": \"estimate\", \"artefact_count\": 0}, {\"institution\": \"National Library of Wales\", \"sector\": \"archive\", \"institution_type\": \"library\", \"topic\": \"mixed\", \"type\": \"archive\", \"level\": \"item\", \"precision\": \"estimate\", \"artefact_count\": 0}, {\"institution\": \"National Library of Scotland\", \"sector\": \"museum\", \"institution_type\": \"library\", \"topic\": \"mixed\", \"type\": \"object\", \"level\": \"item\", \"precision\": \"estimate\", \"artefact_count\": 0}, {\"institution\": \"National Library of Scotland\", \"sector\": \"library\", \"institution_type\": \"library\", \"topic\": \"mixed\", \"type\": \"library\", \"level\": \"item\", \"precision\": \"estimate\", \"artefact_count\": 0}, {\"institution\": \"National Library of Scotland\", \"sector\": \"archive\", \"institution_type\": \"library\", \"topic\": \"mixed\", \"type\": \"archive\", \"level\": \"item\", \"precision\": \"estimate\", \"artefact_count\": 0}, {\"institution\": \"Victoria & Albert Museum\", \"sector\": \"museum\", \"institution_type\": \"museum\", \"topic\": \"art\", \"type\": \"object\", \"level\": \"item\", \"precision\": \"estimate\", \"artefact_count\": 1691513}, {\"institution\": \"Victoria & Albert Museum\", \"sector\": \"library\", \"institution_type\": \"museum\", \"topic\": \"art\", \"type\": \"library\", \"level\": \"item\", \"precision\": \"estimate\", \"artefact_count\": 1130157}, {\"institution\": \"Victoria & Albert Museum\", \"sector\": \"archive\", \"institution_type\": \"museum\", \"topic\": \"art\", \"type\": \"archive\", \"level\": \"item\", \"precision\": \"estimate\", \"artefact_count\": 0}, {\"institution\": \"Science Museum Group\", \"sector\": \"museum\", \"institution_type\": \"museum\", \"topic\": \"science\", \"type\": \"object\", \"level\": \"item\", \"precision\": \"estimate\", \"artefact_count\": 0}, {\"institution\": \"Science Museum Group\", \"sector\": \"library\", \"institution_type\": \"museum\", \"topic\": \"science\", \"type\": \"library\", \"level\": \"item\", \"precision\": \"estimate\", \"artefact_count\": 0}, {\"institution\": \"Science Museum Group\", \"sector\": \"archive\", \"institution_type\": \"museum\", \"topic\": \"science\", \"type\": \"archive\", \"level\": \"item\", \"precision\": \"estimate\", \"artefact_count\": 0}, {\"institution\": \"Museum of the Home\", \"sector\": \"museum\", \"institution_type\": \"museum\", \"topic\": \"history\", \"type\": \"object\", \"level\": \"item\", \"precision\": \"estimate\", \"artefact_count\": 0}, {\"institution\": \"Museum of the Home\", \"sector\": \"library\", \"institution_type\": \"museum\", \"topic\": \"history\", \"type\": \"library\", \"level\": \"item\", \"precision\": \"estimate\", \"artefact_count\": 0}, {\"institution\": \"Museum of the Home\", \"sector\": \"archive\", \"institution_type\": \"museum\", \"topic\": \"history\", \"type\": \"archive\", \"level\": \"item\", \"precision\": \"estimate\", \"artefact_count\": 0}, {\"institution\": \"Horniman Museum\", \"sector\": \"museum\", \"institution_type\": \"museum\", \"topic\": \"history\", \"type\": \"object\", \"level\": \"item\", \"precision\": \"estimate\", \"artefact_count\": 0}, {\"institution\": \"Horniman Museum\", \"sector\": \"library\", \"institution_type\": \"museum\", \"topic\": \"history\", \"type\": \"library\", \"level\": \"item\", \"precision\": \"estimate\", \"artefact_count\": 0}, {\"institution\": \"Horniman Museum\", \"sector\": \"archive\", \"institution_type\": \"museum\", \"topic\": \"history\", \"type\": \"archive\", \"level\": \"item\", \"precision\": \"estimate\", \"artefact_count\": 0}, {\"institution\": \"Imperial War Museums\", \"sector\": \"museum\", \"institution_type\": \"museum\", \"topic\": \"history\", \"type\": \"object\", \"level\": \"item\", \"precision\": \"estimate\", \"artefact_count\": 0}, {\"institution\": \"Imperial War Museums\", \"sector\": \"library\", \"institution_type\": \"museum\", \"topic\": \"history\", \"type\": \"library\", \"level\": \"item\", \"precision\": \"estimate\", \"artefact_count\": 0}, {\"institution\": \"Imperial War Museums\", \"sector\": \"archive\", \"institution_type\": \"museum\", \"topic\": \"history\", \"type\": \"archive\", \"level\": \"item\", \"precision\": \"estimate\", \"artefact_count\": 0}, {\"institution\": \"National Gallery\", \"sector\": \"museum\", \"institution_type\": \"gallery\", \"topic\": \"art\", \"type\": \"object\", \"level\": \"item\", \"precision\": \"exact\", \"artefact_count\": 2626}, {\"institution\": \"National Gallery\", \"sector\": \"library\", \"institution_type\": \"gallery\", \"topic\": \"art\", \"type\": \"library\", \"level\": \"item\", \"precision\": \"estimate\", \"artefact_count\": 0}, {\"institution\": \"National Gallery\", \"sector\": \"archive\", \"institution_type\": \"gallery\", \"topic\": \"art\", \"type\": \"archive\", \"level\": \"item\", \"precision\": \"estimate\", \"artefact_count\": 0}, {\"institution\": \"National Museums Liverpool\", \"sector\": \"museum\", \"institution_type\": \"museum\", \"topic\": \"history\", \"type\": \"object\", \"level\": \"item\", \"precision\": \"estimate\", \"artefact_count\": 0}, {\"institution\": \"National Museums Liverpool\", \"sector\": \"library\", \"institution_type\": \"museum\", \"topic\": \"history\", \"type\": \"library\", \"level\": \"item\", \"precision\": \"estimate\", \"artefact_count\": 0}, {\"institution\": \"National Museums Liverpool\", \"sector\": \"archive\", \"institution_type\": \"museum\", \"topic\": \"history\", \"type\": \"archive\", \"level\": \"item\", \"precision\": \"estimate\", \"artefact_count\": 0}, {\"institution\": \"National Portrait Gallery\", \"sector\": \"museum\", \"institution_type\": \"gallery\", \"topic\": \"art\", \"type\": \"object\", \"level\": \"item\", \"precision\": \"estimate\", \"artefact_count\": 0}, {\"institution\": \"National Portrait Gallery\", \"sector\": \"library\", \"institution_type\": \"gallery\", \"topic\": \"art\", \"type\": \"library\", \"level\": \"item\", \"precision\": \"estimate\", \"artefact_count\": 0}, {\"institution\": \"National Portrait Gallery\", \"sector\": \"archive\", \"institution_type\": \"gallery\", \"topic\": \"art\", \"type\": \"archive\", \"level\": \"item\", \"precision\": \"estimate\", \"artefact_count\": 0}, {\"institution\": \"Natural History Museum\", \"sector\": \"museum\", \"institution_type\": \"museum\", \"topic\": \"nature\", \"type\": \"object\", \"level\": \"item\", \"precision\": \"estimate\", \"artefact_count\": 0}, {\"institution\": \"Natural History Museum\", \"sector\": \"library\", \"institution_type\": \"museum\", \"topic\": \"nature\", \"type\": \"library\", \"level\": \"item\", \"precision\": \"estimate\", \"artefact_count\": 0}, {\"institution\": \"Natural History Museum\", \"sector\": \"archive\", \"institution_type\": \"museum\", \"topic\": \"nature\", \"type\": \"archive\", \"level\": \"item\", \"precision\": \"estimate\", \"artefact_count\": 0}, {\"institution\": \"Royal Armouries\", \"sector\": \"museum\", \"institution_type\": \"museum\", \"topic\": \"history\", \"type\": \"object\", \"level\": \"item\", \"precision\": \"estimate\", \"artefact_count\": 0}, {\"institution\": \"Royal Armouries\", \"sector\": \"library\", \"institution_type\": \"museum\", \"topic\": \"history\", \"type\": \"library\", \"level\": \"item\", \"precision\": \"estimate\", \"artefact_count\": 0}, {\"institution\": \"Royal Armouries\", \"sector\": \"archive\", \"institution_type\": \"museum\", \"topic\": \"history\", \"type\": \"archive\", \"level\": \"item\", \"precision\": \"estimate\", \"artefact_count\": 0}, {\"institution\": \"Royal Museums Greenwich\", \"sector\": \"museum\", \"institution_type\": \"museum\", \"topic\": \"history\", \"type\": \"object\", \"level\": \"item\", \"precision\": \"estimate\", \"artefact_count\": 0}, {\"institution\": \"Royal Museums Greenwich\", \"sector\": \"library\", \"institution_type\": \"museum\", \"topic\": \"history\", \"type\": \"library\", \"level\": \"item\", \"precision\": \"estimate\", \"artefact_count\": 0}, {\"institution\": \"Royal Museums Greenwich\", \"sector\": \"archive\", \"institution_type\": \"museum\", \"topic\": \"history\", \"type\": \"archive\", \"level\": \"item\", \"precision\": \"estimate\", \"artefact_count\": 0}, {\"institution\": \"Sir John Soane's Museum\", \"sector\": \"museum\", \"institution_type\": \"museum\", \"topic\": \"history\", \"type\": \"object\", \"level\": \"item\", \"precision\": \"estimate\", \"artefact_count\": 0}, {\"institution\": \"Sir John Soane's Museum\", \"sector\": \"library\", \"institution_type\": \"museum\", \"topic\": \"history\", \"type\": \"library\", \"level\": \"item\", \"precision\": \"estimate\", \"artefact_count\": 0}, {\"institution\": \"Sir John Soane's Museum\", \"sector\": \"archive\", \"institution_type\": \"museum\", \"topic\": \"history\", \"type\": \"archive\", \"level\": \"item\", \"precision\": \"estimate\", \"artefact_count\": 0}, {\"institution\": \"Tate Gallery Group\", \"sector\": \"museum\", \"institution_type\": \"gallery\", \"topic\": \"art\", \"type\": \"object\", \"level\": \"item\", \"precision\": \"estimate\", \"artefact_count\": 0}, {\"institution\": \"Tate Gallery Group\", \"sector\": \"library\", \"institution_type\": \"gallery\", \"topic\": \"art\", \"type\": \"library\", \"level\": \"item\", \"precision\": \"estimate\", \"artefact_count\": 0}, {\"institution\": \"Tate Gallery Group\", \"sector\": \"archive\", \"institution_type\": \"gallery\", \"topic\": \"art\", \"type\": \"archive\", \"level\": \"item\", \"precision\": \"estimate\", \"artefact_count\": 0}, {\"institution\": \"The Wallace Collection\", \"sector\": \"museum\", \"institution_type\": \"museum\", \"topic\": \"art\", \"type\": \"object\", \"level\": \"item\", \"precision\": \"exact\", \"artefact_count\": 5637}, {\"institution\": \"The Wallace Collection\", \"sector\": \"library\", \"institution_type\": \"museum\", \"topic\": \"art\", \"type\": \"library\", \"level\": \"item\", \"precision\": \"estimate\", \"artefact_count\": 0}, {\"institution\": \"The Wallace Collection\", \"sector\": \"archive\", \"institution_type\": \"museum\", \"topic\": \"art\", \"type\": \"archive\", \"level\": \"item\", \"precision\": \"estimate\", \"artefact_count\": 0}, {\"institution\": \"British Museum\", \"sector\": \"museum\", \"institution_type\": \"museum\", \"topic\": \"history\", \"type\": \"object\", \"level\": \"item\", \"precision\": \"estimate\", \"artefact_count\": 8000000}, {\"institution\": \"British Museum\", \"sector\": \"library\", \"institution_type\": \"museum\", \"topic\": \"history\", \"type\": \"library\", \"level\": \"item\", \"precision\": \"estimate\", \"artefact_count\": 0}, {\"institution\": \"British Museum\", \"sector\": \"archive\", \"institution_type\": \"museum\", \"topic\": \"history\", \"type\": \"archive\", \"level\": \"item\", \"precision\": \"estimate\", \"artefact_count\": 0}]}}, {\"mode\": \"vega-lite\"});\n",
       "</script>"
      ],
      "text/plain": [
       "alt.Chart(...)"
      ]
     },
     "execution_count": 55,
     "metadata": {},
     "output_type": "execute_result"
    }
   ],
   "source": [
    "alt.Chart(artefacts_type_data, width=150, height=alt.Step(8)).mark_bar().encode(\n",
    "    alt.Y(\"precision:N\").title(None),\n",
    "    alt.X(\"artefact_count:Q\").title(None),\n",
    "    alt.Color(\"type:N\").title(\"settings\").legend(orient=\"bottom\", titleOrient=\"left\"),\n",
    "    alt.Row(\"institution:N\").title(\"Institution\").header(labelAngle=0, labelAlign='left'),\n",
    "    alt.Column(\"sector:N\").title(\"Artefacts Overview (by type)\"),\n",
    ").resolve_scale(x='independent').configure(numberFormat='.1s')"
   ]
  },
  {
   "cell_type": "code",
   "execution_count": 62,
   "id": "f808731b-1f2f-4fac-ae6d-776a4b9dbbb0",
   "metadata": {
    "editable": true,
    "slideshow": {
     "slide_type": ""
    },
    "tags": []
   },
   "outputs": [
    {
     "data": {
      "text/html": [
       "\n",
       "<style>\n",
       "  #altair-viz-f9f213dff51942d88cb2ed9dfc6fd0ca.vega-embed {\n",
       "    width: 100%;\n",
       "    display: flex;\n",
       "  }\n",
       "\n",
       "  #altair-viz-f9f213dff51942d88cb2ed9dfc6fd0ca.vega-embed details,\n",
       "  #altair-viz-f9f213dff51942d88cb2ed9dfc6fd0ca.vega-embed details summary {\n",
       "    position: relative;\n",
       "  }\n",
       "</style>\n",
       "<div id=\"altair-viz-f9f213dff51942d88cb2ed9dfc6fd0ca\"></div>\n",
       "<script type=\"text/javascript\">\n",
       "  var VEGA_DEBUG = (typeof VEGA_DEBUG == \"undefined\") ? {} : VEGA_DEBUG;\n",
       "  (function(spec, embedOpt){\n",
       "    let outputDiv = document.currentScript.previousElementSibling;\n",
       "    if (outputDiv.id !== \"altair-viz-f9f213dff51942d88cb2ed9dfc6fd0ca\") {\n",
       "      outputDiv = document.getElementById(\"altair-viz-f9f213dff51942d88cb2ed9dfc6fd0ca\");\n",
       "    }\n",
       "    const paths = {\n",
       "      \"vega\": \"https://cdn.jsdelivr.net/npm/vega@5?noext\",\n",
       "      \"vega-lib\": \"https://cdn.jsdelivr.net/npm/vega-lib?noext\",\n",
       "      \"vega-lite\": \"https://cdn.jsdelivr.net/npm/vega-lite@5.17.0?noext\",\n",
       "      \"vega-embed\": \"https://cdn.jsdelivr.net/npm/vega-embed@6?noext\",\n",
       "    };\n",
       "\n",
       "    function maybeLoadScript(lib, version) {\n",
       "      var key = `${lib.replace(\"-\", \"\")}_version`;\n",
       "      return (VEGA_DEBUG[key] == version) ?\n",
       "        Promise.resolve(paths[lib]) :\n",
       "        new Promise(function(resolve, reject) {\n",
       "          var s = document.createElement('script');\n",
       "          document.getElementsByTagName(\"head\")[0].appendChild(s);\n",
       "          s.async = true;\n",
       "          s.onload = () => {\n",
       "            VEGA_DEBUG[key] = version;\n",
       "            return resolve(paths[lib]);\n",
       "          };\n",
       "          s.onerror = () => reject(`Error loading script: ${paths[lib]}`);\n",
       "          s.src = paths[lib];\n",
       "        });\n",
       "    }\n",
       "\n",
       "    function showError(err) {\n",
       "      outputDiv.innerHTML = `<div class=\"error\" style=\"color:red;\">${err}</div>`;\n",
       "      throw err;\n",
       "    }\n",
       "\n",
       "    function displayChart(vegaEmbed) {\n",
       "      vegaEmbed(outputDiv, spec, embedOpt)\n",
       "        .catch(err => showError(`Javascript Error: ${err.message}<br>This usually means there's a typo in your chart specification. See the javascript console for the full traceback.`));\n",
       "    }\n",
       "\n",
       "    if(typeof define === \"function\" && define.amd) {\n",
       "      requirejs.config({paths});\n",
       "      require([\"vega-embed\"], displayChart, err => showError(`Error loading script: ${err.message}`));\n",
       "    } else {\n",
       "      maybeLoadScript(\"vega\", \"5\")\n",
       "        .then(() => maybeLoadScript(\"vega-lite\", \"5.17.0\"))\n",
       "        .then(() => maybeLoadScript(\"vega-embed\", \"6\"))\n",
       "        .catch(showError)\n",
       "        .then(() => displayChart(vegaEmbed));\n",
       "    }\n",
       "  })({\"config\": {\"view\": {\"continuousWidth\": 300, \"continuousHeight\": 300}, \"numberFormat\": \".2s\"}, \"data\": {\"name\": \"data-172d47ec1fa1a9099fac8355ef959346\"}, \"mark\": {\"type\": \"bar\"}, \"encoding\": {\"order\": {\"field\": \"artefact_count\", \"type\": \"quantitative\"}, \"x\": {\"field\": \"artefact_count\", \"type\": \"quantitative\"}, \"y\": {\"field\": \"institution\", \"type\": \"nominal\"}}, \"title\": {\"text\": \"Artefacts per Institution\", \"anchor\": \"middle\"}, \"$schema\": \"https://vega.github.io/schema/vega-lite/v5.17.0.json\", \"datasets\": {\"data-172d47ec1fa1a9099fac8355ef959346\": [{\"institution\": \"Oxford University\", \"sector\": \"university\", \"type\": \"university\", \"topic\": \"mixed\", \"precision\": \"estimate\", \"artefact_count\": 22530000}, {\"institution\": \"University of Cambridge\", \"sector\": \"university\", \"type\": \"university\", \"topic\": \"mixed\", \"precision\": \"estimate\", \"artefact_count\": 10000000}, {\"institution\": \"Durham University\", \"sector\": \"university\", \"type\": \"university\", \"topic\": \"mixed\", \"precision\": \"estimate\", \"artefact_count\": 106000}, {\"institution\": \"University College London\", \"sector\": \"university\", \"type\": \"university\", \"topic\": \"mixed\", \"precision\": \"estimate\", \"artefact_count\": 164000}, {\"institution\": \"University of Manchester\", \"sector\": \"university\", \"type\": \"university\", \"topic\": \"mixed\", \"precision\": \"estimate\", \"artefact_count\": 4060000}, {\"institution\": \"King's College London\", \"sector\": \"university\", \"type\": \"university\", \"topic\": \"mixed\", \"precision\": \"estimate\", \"artefact_count\": 200000}, {\"institution\": \"University of Birmingham\", \"sector\": \"university\", \"type\": \"university\", \"topic\": \"mixed\", \"precision\": \"estimate\", \"artefact_count\": 4500000}, {\"institution\": \"Unversity of Warwick\", \"sector\": \"university\", \"type\": \"university\", \"topic\": \"mixed\", \"precision\": \"estimate\", \"artefact_count\": 16000}, {\"institution\": \"Manchester Metropolitan Unversity\", \"sector\": \"university\", \"type\": \"university\", \"topic\": \"mixed\", \"precision\": \"estimate\", \"artefact_count\": 0}, {\"institution\": \"Swansea University\", \"sector\": \"university\", \"type\": \"university\", \"topic\": \"mixed\", \"precision\": \"estimate\", \"artefact_count\": 1700}, {\"institution\": \"University of Brighton\", \"sector\": \"university\", \"type\": \"university\", \"topic\": \"mixed\", \"precision\": \"estimate\", \"artefact_count\": 50000}, {\"institution\": \"SOAS, University of London\", \"sector\": \"university\", \"type\": \"university\", \"topic\": \"mixed\", \"precision\": \"estimate\", \"artefact_count\": 60000}, {\"institution\": \"University of Aberdeen\", \"sector\": \"university\", \"type\": \"university\", \"topic\": \"mixed\", \"precision\": \"estimate\", \"artefact_count\": 530000}, {\"institution\": \"University of Bristol\", \"sector\": \"university\", \"type\": \"university\", \"topic\": \"mixed\", \"precision\": \"estimate\", \"artefact_count\": 100000}, {\"institution\": \"University of Leeds\", \"sector\": \"university\", \"type\": \"university\", \"topic\": \"mixed\", \"precision\": \"estimate\", \"artefact_count\": 350000}, {\"institution\": \"University of Leicester\", \"sector\": \"university\", \"type\": \"university\", \"topic\": \"mixed\", \"precision\": \"estimate\", \"artefact_count\": 25000}, {\"institution\": \"University of Sheffield\", \"sector\": \"university\", \"type\": \"university\", \"topic\": \"mixed\", \"precision\": \"estimate\", \"artefact_count\": 30000}, {\"institution\": \"University of St Andrews\", \"sector\": \"university\", \"type\": \"university\", \"topic\": \"mixed\", \"precision\": \"estimate\", \"artefact_count\": 200000}, {\"institution\": \"British Library\", \"sector\": \"library\", \"type\": \"library\", \"topic\": \"mixed\", \"precision\": \"estimate\", \"artefact_count\": 33810000}, {\"institution\": \"Chetham's Library\", \"sector\": \"library\", \"type\": \"library\", \"topic\": \"mixed\", \"precision\": \"estimate\", \"artefact_count\": 121041}, {\"institution\": \"Glasgow Woman's Library\", \"sector\": \"library\", \"type\": \"library\", \"topic\": \"mixed\", \"precision\": \"estimate\", \"artefact_count\": 0}, {\"institution\": \"Lambeth Palace Library\", \"sector\": \"library\", \"type\": \"library\", \"topic\": \"theology\", \"precision\": \"estimate\", \"artefact_count\": 186200}, {\"institution\": \"National Library of Wales\", \"sector\": \"library\", \"type\": \"library\", \"topic\": \"mixed\", \"precision\": \"estimate\", \"artefact_count\": 7540000}, {\"institution\": \"National Library of Scotland\", \"sector\": \"library\", \"type\": \"library\", \"topic\": \"mixed\", \"precision\": \"estimate\", \"artefact_count\": 34000000}, {\"institution\": \"Victoria & Albert Museum\", \"sector\": \"dcms\", \"type\": \"museum\", \"topic\": \"art\", \"precision\": \"estimate\", \"artefact_count\": 2800000}, {\"institution\": \"Science Museum Group\", \"sector\": \"dcms\", \"type\": \"museum\", \"topic\": \"science\", \"precision\": \"estimate\", \"artefact_count\": 7360793}, {\"institution\": \"Museum of the Home\", \"sector\": \"dcms\", \"type\": \"museum\", \"topic\": \"history\", \"precision\": \"estimate\", \"artefact_count\": 40000}, {\"institution\": \"Horniman Museum\", \"sector\": \"dcms\", \"type\": \"museum\", \"topic\": \"history\", \"precision\": \"estimate\", \"artefact_count\": 350000}, {\"institution\": \"Imperial War Museums\", \"sector\": \"dcms\", \"type\": \"museum\", \"topic\": \"history\", \"precision\": \"estimate\", \"artefact_count\": 1000000}, {\"institution\": \"National Gallery\", \"sector\": \"dcms\", \"type\": \"gallery\", \"topic\": \"art\", \"precision\": \"estimate\", \"artefact_count\": 2626}, {\"institution\": \"National Museums Liverpool\", \"sector\": \"dcms\", \"type\": \"museum\", \"topic\": \"history\", \"precision\": \"estimate\", \"artefact_count\": 4000000}, {\"institution\": \"National Portrait Gallery\", \"sector\": \"dcms\", \"type\": \"gallery\", \"topic\": \"art\", \"precision\": \"estimate\", \"artefact_count\": 350000}, {\"institution\": \"Natural History Museum\", \"sector\": \"dcms\", \"type\": \"museum\", \"topic\": \"nature\", \"precision\": \"estimate\", \"artefact_count\": 80000000}, {\"institution\": \"Royal Armouries\", \"sector\": \"dcms\", \"type\": \"museum\", \"topic\": \"history\", \"precision\": \"estimate\", \"artefact_count\": 70000}, {\"institution\": \"Royal Museums Greenwich\", \"sector\": \"dcms\", \"type\": \"museum\", \"topic\": \"history\", \"precision\": \"estimate\", \"artefact_count\": 3000000}, {\"institution\": \"Sir John Soane's Museum\", \"sector\": \"dcms\", \"type\": \"museum\", \"topic\": \"history\", \"precision\": \"estimate\", \"artefact_count\": 52000}, {\"institution\": \"Tate Gallery Group\", \"sector\": \"dcms\", \"type\": \"gallery\", \"topic\": \"art\", \"precision\": \"estimate\", \"artefact_count\": 70000}, {\"institution\": \"The Wallace Collection\", \"sector\": \"dcms\", \"type\": \"museum\", \"topic\": \"art\", \"precision\": \"estimate\", \"artefact_count\": 5637}, {\"institution\": \"British Museum\", \"sector\": \"dcms\", \"type\": \"museum\", \"topic\": \"history\", \"precision\": \"estimate\", \"artefact_count\": 8000000}]}}, {\"mode\": \"vega-lite\"});\n",
       "</script>"
      ],
      "text/plain": [
       "alt.Chart(...)"
      ]
     },
     "execution_count": 62,
     "metadata": {},
     "output_type": "execute_result"
    }
   ],
   "source": [
    "import altair as alt\n",
    "\n",
    "title = alt.TitleParams('Artefacts per Institution', anchor='middle')\n",
    "alt.Chart(artefacts_data, title=title).mark_bar().encode(\n",
    "    x='artefact_count',\n",
    "    y='institution',\n",
    "    order='artefact_count:Q'\n",
    ").configure(numberFormat='.2s')"
   ]
  },
  {
   "cell_type": "markdown",
   "id": "1e313b03-0f0b-45cc-b1c1-b73a29de4a01",
   "metadata": {
    "editable": true,
    "slideshow": {
     "slide_type": ""
    },
    "tags": [
     "remove-cell"
    ]
   },
   "source": [
    "# Issues\n",
    "- should collection total if it's museum/library/archive be broken out programatically ?\n",
    "Graphs - Digitised (images)\n",
    "graph - tiny squares grid with colours for - propotion catalogued, proptoition with images, online/api, \n",
    "graph - scatter plot "
   ]
  }
 ],
 "metadata": {
  "kernelspec": {
   "display_name": "Python 3 (ipykernel)",
   "language": "python",
   "name": "python3"
  },
  "language_info": {
   "codemirror_mode": {
    "name": "ipython",
    "version": 3
   },
   "file_extension": ".py",
   "mimetype": "text/x-python",
   "name": "python",
   "nbconvert_exporter": "python",
   "pygments_lexer": "ipython3",
   "version": "3.9.18"
  }
 },
 "nbformat": 4,
 "nbformat_minor": 5
}
