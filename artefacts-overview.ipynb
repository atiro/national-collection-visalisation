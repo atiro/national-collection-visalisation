{
 "cells": [
  {
   "cell_type": "code",
   "execution_count": 76,
   "id": "bc077a0d-3cac-4f63-8b00-fa6d878fe2a7",
   "metadata": {
    "editable": true,
    "slideshow": {
     "slide_type": ""
    },
    "tags": [
     "remove-cell"
    ]
   },
   "outputs": [],
   "source": [
    "import pandas as pd\n",
    "import altair as alt\n",
    "artefacts_df = pd.read_csv(\"artefacts-overview-stats.csv\")\n",
    "\n",
    "artefacts_non_nature_df = artefacts_df.loc[artefacts_df['topic'] != 'nature']\n"
   ]
  },
  {
   "cell_type": "markdown",
   "id": "e5ad9c98-1a94-420e-87d2-1db0e880ed67",
   "metadata": {
    "editable": true,
    "slideshow": {
     "slide_type": ""
    },
    "tags": []
   },
   "source": [
    "## Artefacts "
   ]
  },
  {
   "cell_type": "markdown",
   "id": "11b0b477-1321-45ac-8b8f-a20fbbecd0f3",
   "metadata": {
    "editable": true,
    "slideshow": {
     "slide_type": ""
    },
    "tags": [
     "remove-cell"
    ]
   },
   "source": [
    "\n",
    "This is a doomed attempt to summarise the number of artefacts (see below for definitions) held in UK public collections. Doomed because, to quote from the British Library annual report 2023/2024 - 'in the absence of a consensus about what constitutes a single item it is not possible to reach a definitive statement of the size of the collection'. Added to that is also what is considered an artefact - are all museum objects, all items held in a library (every copy held of Joyce's Ulysses, even one printed last year?), any item in an archive to be counted? Should heritage buildings be counted as well, and do we say a castle is one item on par with a manuscript or painting ?\n",
    "\n",
    "But regardless of this, as the TaNC report also tried to set out counts of the national collection, this is an attempt to visualise this more, to give \n",
    "\n",
    "Definitions (about which we can no doubt all politely argue forever about at some agreeable venue someday):\n",
    "\n",
    "  * artefacts - the physical *thing* considered to be cultural heritage\n",
    "  * catalogued record - the inventory level digital catalalogue record for the artefact (for museum, library and archives) or collection of artefacts (for archives)\n",
    "  * enriched record - the richer (I'm not even going to try give a definition of what richer even means - does fully catalogued mean nothing more can ever be said?) catalogued record for the item (for museum, library and archives) or collection of artefacts (for archives)\n",
    "  * digitised record - catalogued (enriched or otherwise) and an image (or other media) of the artefact (for museum, library and archives items) \n",
    "\n",
    "In these overview pages we givbe various breakdowns of the stats for each of the above and try to tease out\n",
    "a sunmmary of the state of this in the UK cultural heritage collections. There are then\n",
    "\n",
    "Summary\n",
    "  * Overview (artefacts, catalogued records, objects, library, archive)\n",
    "  * Sub collections records (granual version of above)\n",
    "  * Sector level records (library,museum,archive)\n",
    "  * Institution level records (per institution pages)\n",
    "\n",
    "(we are not breaking down collection into sub collections for artefacts as that's getting too complex and\n",
    "not really comparable so not useful for data visualisation)\n",
    "    \n",
    "Progress (i.e. showing difference between current and previous)\n",
    "  * Overview Progress - tracking change over time\n",
    "  * sub collections progress\n",
    "  * Sector Progress\n",
    "  * Institution level progress\n",
    "\n",
    "Uncertainty Level\n",
    "\n",
    "  * Level 1 - unavoidable inherent uncertainty\n",
    "  * Level 2 - uncertainty of number of artefacts\n",
    "  * Level 3 - uncertainty of cataloging type\n",
    "  * Level 4 - uncertainty of number of records\n",
    "  * Level 5 - uncertainty of number of published records"
   ]
  },
  {
   "cell_type": "markdown",
   "id": "c7705140-9c09-45a6-a178-4806462c9ca6",
   "metadata": {
    "editable": true,
    "slideshow": {
     "slide_type": ""
    },
    "tags": []
   },
   "source": [
    "## Artefacts by sector\n",
    "\n",
    "Showing the distribution of artefacts (a cultural heritage item of any type) on different topic held in each sector."
   ]
  },
  {
   "cell_type": "code",
   "execution_count": 84,
   "id": "89073ee0-2028-414e-a96f-51f19b3396b8",
   "metadata": {
    "editable": true,
    "slideshow": {
     "slide_type": ""
    },
    "tags": [
     "remove-input",
     "full-size"
    ]
   },
   "outputs": [
    {
     "data": {
      "text/html": [
       "\n",
       "<style>\n",
       "  #altair-viz-9bd67118490041838c97e8bc6cb04cee.vega-embed {\n",
       "    width: 100%;\n",
       "    display: flex;\n",
       "  }\n",
       "\n",
       "  #altair-viz-9bd67118490041838c97e8bc6cb04cee.vega-embed details,\n",
       "  #altair-viz-9bd67118490041838c97e8bc6cb04cee.vega-embed details summary {\n",
       "    position: relative;\n",
       "  }\n",
       "</style>\n",
       "<div id=\"altair-viz-9bd67118490041838c97e8bc6cb04cee\"></div>\n",
       "<script type=\"text/javascript\">\n",
       "  var VEGA_DEBUG = (typeof VEGA_DEBUG == \"undefined\") ? {} : VEGA_DEBUG;\n",
       "  (function(spec, embedOpt){\n",
       "    let outputDiv = document.currentScript.previousElementSibling;\n",
       "    if (outputDiv.id !== \"altair-viz-9bd67118490041838c97e8bc6cb04cee\") {\n",
       "      outputDiv = document.getElementById(\"altair-viz-9bd67118490041838c97e8bc6cb04cee\");\n",
       "    }\n",
       "    const paths = {\n",
       "      \"vega\": \"https://cdn.jsdelivr.net/npm/vega@5?noext\",\n",
       "      \"vega-lib\": \"https://cdn.jsdelivr.net/npm/vega-lib?noext\",\n",
       "      \"vega-lite\": \"https://cdn.jsdelivr.net/npm/vega-lite@5.17.0?noext\",\n",
       "      \"vega-embed\": \"https://cdn.jsdelivr.net/npm/vega-embed@6?noext\",\n",
       "    };\n",
       "\n",
       "    function maybeLoadScript(lib, version) {\n",
       "      var key = `${lib.replace(\"-\", \"\")}_version`;\n",
       "      return (VEGA_DEBUG[key] == version) ?\n",
       "        Promise.resolve(paths[lib]) :\n",
       "        new Promise(function(resolve, reject) {\n",
       "          var s = document.createElement('script');\n",
       "          document.getElementsByTagName(\"head\")[0].appendChild(s);\n",
       "          s.async = true;\n",
       "          s.onload = () => {\n",
       "            VEGA_DEBUG[key] = version;\n",
       "            return resolve(paths[lib]);\n",
       "          };\n",
       "          s.onerror = () => reject(`Error loading script: ${paths[lib]}`);\n",
       "          s.src = paths[lib];\n",
       "        });\n",
       "    }\n",
       "\n",
       "    function showError(err) {\n",
       "      outputDiv.innerHTML = `<div class=\"error\" style=\"color:red;\">${err}</div>`;\n",
       "      throw err;\n",
       "    }\n",
       "\n",
       "    function displayChart(vegaEmbed) {\n",
       "      vegaEmbed(outputDiv, spec, embedOpt)\n",
       "        .catch(err => showError(`Javascript Error: ${err.message}<br>This usually means there's a typo in your chart specification. See the javascript console for the full traceback.`));\n",
       "    }\n",
       "\n",
       "    if(typeof define === \"function\" && define.amd) {\n",
       "      requirejs.config({paths});\n",
       "      require([\"vega-embed\"], displayChart, err => showError(`Error loading script: ${err.message}`));\n",
       "    } else {\n",
       "      maybeLoadScript(\"vega\", \"5\")\n",
       "        .then(() => maybeLoadScript(\"vega-lite\", \"5.17.0\"))\n",
       "        .then(() => maybeLoadScript(\"vega-embed\", \"6\"))\n",
       "        .catch(showError)\n",
       "        .then(() => displayChart(vegaEmbed));\n",
       "    }\n",
       "  })({\"config\": {\"view\": {\"continuousWidth\": 300, \"continuousHeight\": 300}, \"numberFormat\": \".2s\"}, \"data\": {\"name\": \"data-f4253ee8e36c3615aab68e27ba9c68a5\"}, \"mark\": {\"type\": \"bar\"}, \"encoding\": {\"color\": {\"field\": \"institution\", \"legend\": {\"columns\": 4, \"orient\": \"bottom\"}, \"type\": \"nominal\"}, \"column\": {\"field\": \"sector\", \"type\": \"nominal\"}, \"tooltip\": [{\"field\": \"institution\", \"type\": \"nominal\"}, {\"field\": \"artefact_count\", \"type\": \"quantitative\"}], \"x\": {\"field\": \"artefact_count\", \"type\": \"quantitative\"}, \"y\": {\"field\": \"topic\", \"type\": \"nominal\"}}, \"resolve\": {\"scale\": {\"x\": \"independent\"}}, \"title\": {\"text\": \"Collection Size (Artefacts) by sector\", \"anchor\": \"middle\"}, \"width\": 225, \"$schema\": \"https://vega.github.io/schema/vega-lite/v5.17.0.json\", \"datasets\": {\"data-f4253ee8e36c3615aab68e27ba9c68a5\": [{\"institution\": \"Oxford University\", \"sector\": \"university\", \"type\": \"university\", \"topic\": \"mixed\", \"precision\": \"estimate\", \"artefact_count\": 22530000}, {\"institution\": \"University of Cambridge\", \"sector\": \"university\", \"type\": \"university\", \"topic\": \"mixed\", \"precision\": \"estimate\", \"artefact_count\": 2000000}, {\"institution\": \"Durham University\", \"sector\": \"university\", \"type\": \"university\", \"topic\": \"mixed\", \"precision\": \"estimate\", \"artefact_count\": 106000}, {\"institution\": \"University College London\", \"sector\": \"university\", \"type\": \"university\", \"topic\": \"mixed\", \"precision\": \"estimate\", \"artefact_count\": 164000}, {\"institution\": \"University of Manchester\", \"sector\": \"university\", \"type\": \"university\", \"topic\": \"mixed\", \"precision\": \"estimate\", \"artefact_count\": 8560000}, {\"institution\": \"King's College London\", \"sector\": \"university\", \"type\": \"university\", \"topic\": \"mixed\", \"precision\": \"estimate\", \"artefact_count\": 200000}, {\"institution\": \"University of Birmingham\", \"sector\": \"university\", \"type\": \"university\", \"topic\": \"mixed\", \"precision\": \"estimate\", \"artefact_count\": 4500000}, {\"institution\": \"Unversity of Warwick\", \"sector\": \"university\", \"type\": \"university\", \"topic\": \"mixed\", \"precision\": \"estimate\", \"artefact_count\": 16000}, {\"institution\": \"Manchester Metropolitan Unversity\", \"sector\": \"university\", \"type\": \"university\", \"topic\": \"mixed\", \"precision\": \"estimate\", \"artefact_count\": 0}, {\"institution\": \"Swansea University\", \"sector\": \"university\", \"type\": \"university\", \"topic\": \"mixed\", \"precision\": \"estimate\", \"artefact_count\": 1700}, {\"institution\": \"University of Brighton\", \"sector\": \"university\", \"type\": \"university\", \"topic\": \"mixed\", \"precision\": \"estimate\", \"artefact_count\": 50000}, {\"institution\": \"SOAS, University of London\", \"sector\": \"university\", \"type\": \"university\", \"topic\": \"mixed\", \"precision\": \"estimate\", \"artefact_count\": 60000}, {\"institution\": \"University of Aberdeen\", \"sector\": \"university\", \"type\": \"university\", \"topic\": \"mixed\", \"precision\": \"estimate\", \"artefact_count\": 530000}, {\"institution\": \"University of Bristol\", \"sector\": \"university\", \"type\": \"university\", \"topic\": \"mixed\", \"precision\": \"estimate\", \"artefact_count\": 100000}, {\"institution\": \"University of Leeds\", \"sector\": \"university\", \"type\": \"university\", \"topic\": \"mixed\", \"precision\": \"estimate\", \"artefact_count\": 350000}, {\"institution\": \"University of Sheffield\", \"sector\": \"university\", \"type\": \"university\", \"topic\": \"mixed\", \"precision\": \"estimate\", \"artefact_count\": 30000}, {\"institution\": \"University of St Andrews\", \"sector\": \"university\", \"type\": \"university\", \"topic\": \"mixed\", \"precision\": \"estimate\", \"artefact_count\": 200000}, {\"institution\": \"Royal College of Surgeons\", \"sector\": \"university\", \"type\": \"university\", \"topic\": \"medicine\", \"precision\": \"estimate\", \"artefact_count\": 3500}, {\"institution\": \"British Library\", \"sector\": \"library\", \"type\": \"library\", \"topic\": \"mixed\", \"precision\": \"estimate\", \"artefact_count\": 33810000}, {\"institution\": \"Chetham's Library\", \"sector\": \"library\", \"type\": \"library\", \"topic\": \"mixed\", \"precision\": \"estimate\", \"artefact_count\": 121041}, {\"institution\": \"Glasgow Woman's Library\", \"sector\": \"library\", \"type\": \"library\", \"topic\": \"mixed\", \"precision\": \"estimate\", \"artefact_count\": 0}, {\"institution\": \"Lambeth Palace Library\", \"sector\": \"library\", \"type\": \"library\", \"topic\": \"theology\", \"precision\": \"estimate\", \"artefact_count\": 186200}, {\"institution\": \"National Library of Wales\", \"sector\": \"library\", \"type\": \"library\", \"topic\": \"mixed\", \"precision\": \"estimate\", \"artefact_count\": 7540000}, {\"institution\": \"National Library of Scotland\", \"sector\": \"library\", \"type\": \"library\", \"topic\": \"mixed\", \"precision\": \"estimate\", \"artefact_count\": 37000000}, {\"institution\": \"Amgueddfa Cymru (National Museum Wales)\", \"sector\": \"national\", \"type\": \"museum\", \"topic\": \"mixed\", \"precision\": \"estimate\", \"artefact_count\": 5319585}, {\"institution\": \"Historic Royal Palaces\", \"sector\": \"national\", \"type\": \"building\", \"topic\": \"mixed\", \"precision\": \"estimate\", \"artefact_count\": 60000}, {\"institution\": \"National Football Museum\", \"sector\": \"national\", \"type\": \"museum\", \"topic\": \"mixed\", \"precision\": \"estimate\", \"artefact_count\": 40000}, {\"institution\": \"National Justice Museum\", \"sector\": \"national\", \"type\": \"museum\", \"topic\": \"mixed\", \"precision\": \"estimate\", \"artefact_count\": 40000}, {\"institution\": \"National Mining Museum Scotland\", \"sector\": \"national\", \"type\": \"museum\", \"topic\": \"industry\", \"precision\": \"estimate\", \"artefact_count\": 100000}, {\"institution\": \"National Museum of the Royal Navy\", \"sector\": \"national\", \"type\": \"museum\", \"topic\": \"maritime\", \"precision\": \"estimate\", \"artefact_count\": 2500000}, {\"institution\": \"National Museums NI\", \"sector\": \"national\", \"type\": \"museum\", \"topic\": \"mixed\", \"precision\": \"estimate\", \"artefact_count\": 1400000}, {\"institution\": \"National Museums Scotland\", \"sector\": \"national\", \"type\": \"museum\", \"topic\": \"mixed\", \"precision\": \"estimate\", \"artefact_count\": 12000000}, {\"institution\": \"National Tramway Museum\", \"sector\": \"national\", \"type\": \"museum\", \"topic\": \"mixed\", \"precision\": \"estimate\", \"artefact_count\": 46690}, {\"institution\": \"National Trust\", \"sector\": \"national\", \"type\": \"building\", \"topic\": \"art\", \"precision\": \"estimate\", \"artefact_count\": 1000000}, {\"institution\": \"National Trust for Scotland\", \"sector\": \"national\", \"type\": \"building\", \"topic\": \"art\", \"precision\": \"estimate\", \"artefact_count\": 300000}, {\"institution\": \"National Waterways Museum\", \"sector\": \"national\", \"type\": \"building\", \"topic\": \"transport\", \"precision\": \"estimate\", \"artefact_count\": 150000}, {\"institution\": \"Royal Collection Trust\", \"sector\": \"national\", \"type\": \"museum\", \"topic\": \"art\", \"precision\": \"estimate\", \"artefact_count\": 1000000}, {\"institution\": \"Government Art Collection\", \"sector\": \"national\", \"type\": \"museum\", \"topic\": \"art\", \"precision\": \"estimate\", \"artefact_count\": 15000}, {\"institution\": \"Historic Environment Scotland\", \"sector\": \"national\", \"type\": \"museum\", \"topic\": \"heritage\", \"precision\": \"estimate\", \"artefact_count\": 41000}, {\"institution\": \"People's History Museum\", \"sector\": \"national\", \"type\": \"museum\", \"topic\": \"social\", \"precision\": \"estimate\", \"artefact_count\": 5680}, {\"institution\": \"Portable Antiquities Scheme\", \"sector\": \"national\", \"type\": \"museum\", \"topic\": \"archaeology\", \"precision\": \"estimate\", \"artefact_count\": 1751232}, {\"institution\": \"Royal Air Force Museum\", \"sector\": \"national\", \"type\": \"museum\", \"topic\": \"military\", \"precision\": \"estimate\", \"artefact_count\": 1300000}, {\"institution\": \"Royal Botanic Gardens Kew\", \"sector\": \"national\", \"type\": \"museum\", \"topic\": \"nature\", \"precision\": \"estimate\", \"artefact_count\": 7000000}, {\"institution\": \"Royal Collection\", \"sector\": \"national\", \"type\": \"museum\", \"topic\": \"nature\", \"precision\": \"estimate\", \"artefact_count\": 1000000}, {\"institution\": \"Courtauld Gallery\", \"sector\": \"independent\", \"type\": \"gallery\", \"topic\": \"art\", \"precision\": \"estimate\", \"artefact_count\": 33501}, {\"institution\": \"Dulwich Picture Gallery\", \"sector\": \"independent\", \"type\": \"gallery\", \"topic\": \"art\", \"precision\": \"estimate\", \"artefact_count\": 600}, {\"institution\": \"Manchester Art Gallery\", \"sector\": \"independent\", \"type\": \"gallery\", \"topic\": \"art\", \"precision\": \"estimate\", \"artefact_count\": 46000}, {\"institution\": \"National Galleries Scotland\", \"sector\": \"independent\", \"type\": \"gallery\", \"topic\": \"art\", \"precision\": \"estimate\", \"artefact_count\": 120000}, {\"institution\": \"Bowes Museum\", \"sector\": \"independent\", \"type\": \"museum\", \"topic\": \"art\", \"precision\": \"estimate\", \"artefact_count\": 30000}, {\"institution\": \"Britten Pears\", \"sector\": \"independent\", \"type\": \"museum\", \"topic\": \"art\", \"precision\": \"estimate\", \"artefact_count\": 1200}, {\"institution\": \"Chatham Historic Dockyard\", \"sector\": \"independent\", \"type\": \"building\", \"topic\": \"maritime\", \"precision\": \"estimate\", \"artefact_count\": 70000}, {\"institution\": \"English Heritage Trust\", \"sector\": \"independent\", \"type\": \"building\", \"topic\": \"history\", \"precision\": \"estimate\", \"artefact_count\": 700000}, {\"institution\": \"Gordon Highlanders Museum\", \"sector\": \"independent\", \"type\": \"museum\", \"topic\": \"military\", \"precision\": \"estimate\", \"artefact_count\": 40000}, {\"institution\": \"Ironbridge Gorge Museum Trust\", \"sector\": \"independent\", \"type\": \"museum\", \"topic\": \"industry\", \"precision\": \"estimate\", \"artefact_count\": 400000}, {\"institution\": \"Jewish Museum London\", \"sector\": \"independent\", \"type\": \"museum\", \"topic\": \"social\", \"precision\": \"estimate\", \"artefact_count\": 40000}, {\"institution\": \"London Transport Museum\", \"sector\": \"independent\", \"type\": \"museum\", \"topic\": \"transport\", \"precision\": \"estimate\", \"artefact_count\": 500000}, {\"institution\": \"Manchester Jewish Museum\", \"sector\": \"independent\", \"type\": \"museum\", \"topic\": \"social\", \"precision\": \"estimate\", \"artefact_count\": 31000}, {\"institution\": \"Mary Rose Trust\", \"sector\": \"independent\", \"type\": \"museum\", \"topic\": \"maritime\", \"precision\": \"estimate\", \"artefact_count\": 19000}, {\"institution\": \"Media Archive for Central England (MACE)\", \"sector\": \"independent\", \"type\": \"archive\", \"topic\": \"media\", \"precision\": \"estimate\", \"artefact_count\": 65000}, {\"institution\": \"Food Museum\", \"sector\": \"independent\", \"type\": \"museum\", \"topic\": \"social\", \"precision\": \"estimate\", \"artefact_count\": 40000}, {\"institution\": \"Museum of Freemasonry\", \"sector\": \"independent\", \"type\": \"museum\", \"topic\": \"social\", \"precision\": \"estimate\", \"artefact_count\": 90000}, {\"institution\": \"Museum of Lead Mining\", \"sector\": \"independent\", \"type\": \"museum\", \"topic\": \"industry\", \"precision\": \"estimate\", \"artefact_count\": 2572}, {\"institution\": \"Museum of Scottish Railways\", \"sector\": \"independent\", \"type\": \"museum\", \"topic\": \"industry\", \"precision\": \"estimate\", \"artefact_count\": 50000}, {\"institution\": \"Paxton Trust\", \"sector\": \"independent\", \"type\": \"building\", \"topic\": \"art\", \"precision\": \"estimate\", \"artefact_count\": 3754}, {\"institution\": \"Pier Arts Centre\", \"sector\": \"independent\", \"type\": \"gallery\", \"topic\": \"art\", \"precision\": \"estimate\", \"artefact_count\": 180}, {\"institution\": \"Postal Museum\", \"sector\": \"independent\", \"type\": \"museum\", \"topic\": \"social\", \"precision\": \"estimate\", \"artefact_count\": 60000}, {\"institution\": \"Royal Artillery Museum\", \"sector\": \"independent\", \"type\": \"museum\", \"topic\": \"military\", \"precision\": \"estimate\", \"artefact_count\": 30000}, {\"institution\": \"Royal Engineers Museum\", \"sector\": \"independent\", \"type\": \"museum\", \"topic\": \"military\", \"precision\": \"estimate\", \"artefact_count\": 1000000}, {\"institution\": \"Royal Scottish Academy of Art & Architecture\", \"sector\": \"independent\", \"type\": \"museum\", \"topic\": \"art\", \"precision\": \"estimate\", \"artefact_count\": 9000}, {\"institution\": \"Aberdeenshire Council Museums\", \"sector\": \"regional\", \"type\": \"museum\", \"topic\": \"mixed\", \"precision\": \"estimate\", \"artefact_count\": 250000}, {\"institution\": \"Barnsley Museums\", \"sector\": \"regional\", \"type\": \"museum\", \"topic\": \"mixed\", \"precision\": \"estimate\", \"artefact_count\": 711400}, {\"institution\": \"Birmingham Museums Trust\", \"sector\": \"regional\", \"type\": \"museum\", \"topic\": \"art\", \"precision\": \"estimate\", \"artefact_count\": 800000}, {\"institution\": \"Black Country Living Museum\", \"sector\": \"regional\", \"type\": \"museum\", \"topic\": \"history\", \"precision\": \"estimate\", \"artefact_count\": 80000}, {\"institution\": \"Bradford District Museums & Galleries\", \"sector\": \"regional\", \"type\": \"museum\", \"topic\": \"mixed\", \"precision\": \"estimate\", \"artefact_count\": 837837}, {\"institution\": \"Bristol Museums\", \"sector\": \"regional\", \"type\": \"museum\", \"topic\": \"mixed\", \"precision\": \"estimate\", \"artefact_count\": 2000000}, {\"institution\": \"Culture Coventry\", \"sector\": \"regional\", \"type\": \"museum\", \"topic\": \"mixed\", \"precision\": \"estimate\", \"artefact_count\": 1000000}, {\"institution\": \"Culture Perth and Kinross\", \"sector\": \"regional\", \"type\": \"mixed\", \"topic\": \"mixed\", \"precision\": \"estimate\", \"artefact_count\": 500000}, {\"institution\": \"Culture Trust Luton\", \"sector\": \"regional\", \"type\": \"museum\", \"topic\": \"mixed\", \"precision\": \"estimate\", \"artefact_count\": 1105051}, {\"institution\": \"Dundee Heritage Trust\", \"sector\": \"regional\", \"type\": \"museum\", \"topic\": \"mixed\", \"precision\": \"estimate\", \"artefact_count\": 0}, {\"institution\": \"Elgin Museum\", \"sector\": \"regional\", \"type\": \"museum\", \"topic\": \"mixed\", \"precision\": \"estimate\", \"artefact_count\": 36000}, {\"institution\": \"Glasgow Museums\", \"sector\": \"regional\", \"type\": \"museum\", \"topic\": \"mixed\", \"precision\": \"estimate\", \"artefact_count\": 1000000}, {\"institution\": \"Heritage Doncaster\", \"sector\": \"regional\", \"type\": \"museum\", \"topic\": \"mixed\", \"precision\": \"estimate\", \"artefact_count\": 406750}, {\"institution\": \"Highland Folk Museum\", \"sector\": \"regional\", \"type\": \"museum\", \"topic\": \"social\", \"precision\": \"estimate\", \"artefact_count\": 10000}, {\"institution\": \"Leeds Museums & Galleries\", \"sector\": \"regional\", \"type\": \"museum\", \"topic\": \"mixed\", \"precision\": \"estimate\", \"artefact_count\": 1300000}, {\"institution\": \"Leicester Museums\", \"sector\": \"regional\", \"type\": \"museum\", \"topic\": \"mixed\", \"precision\": \"estimate\", \"artefact_count\": 1500000}, {\"institution\": \"Manchester Art Gallery\", \"sector\": \"regional\", \"type\": \"gallery\", \"topic\": \"art\", \"precision\": \"estimate\", \"artefact_count\": 50000}, {\"institution\": \"Edinburgh Museums\", \"sector\": \"regional\", \"type\": \"museum\", \"topic\": \"mixed\", \"precision\": \"estimate\", \"artefact_count\": 220000}, {\"institution\": \"Museums Northhumberland\", \"sector\": \"regional\", \"type\": \"museum\", \"topic\": \"mixed\", \"precision\": \"estimate\", \"artefact_count\": 25000}, {\"institution\": \"Northhampton Museums\", \"sector\": \"regional\", \"type\": \"museum\", \"topic\": \"mixed\", \"precision\": \"estimate\", \"artefact_count\": 44024}, {\"institution\": \"Orkney Museums\", \"sector\": \"regional\", \"type\": \"museum\", \"topic\": \"mixed\", \"precision\": \"estimate\", \"artefact_count\": 100000}, {\"institution\": \"Poole Museums\", \"sector\": \"regional\", \"type\": \"museum\", \"topic\": \"mixed\", \"precision\": \"estimate\", \"artefact_count\": 50000}, {\"institution\": \"Potteries Museum and Art Gallery\", \"sector\": \"regional\", \"type\": \"museum\", \"topic\": \"arts\", \"precision\": \"estimate\", \"artefact_count\": 1000000}, {\"institution\": \"Preston Park Museum & Grounds\", \"sector\": \"regional\", \"type\": \"museum\", \"topic\": \"social\", \"precision\": \"estimate\", \"artefact_count\": 100000}, {\"institution\": \"Ripon Museums\", \"sector\": \"regional\", \"type\": \"museum\", \"topic\": \"social\", \"precision\": \"estimate\", \"artefact_count\": 9000}, {\"institution\": \"Royal Albert Memorial Museum\", \"sector\": \"regional\", \"type\": \"museum\", \"topic\": \"mixed\", \"precision\": \"estimate\", \"artefact_count\": 1000000}, {\"institution\": \"Salisbury Museum\", \"sector\": \"regional\", \"type\": \"museum\", \"topic\": \"mixed\", \"precision\": \"estimate\", \"artefact_count\": 100000}, {\"institution\": \"Victoria & Albert Museum\", \"sector\": \"dcms\", \"type\": \"museum\", \"topic\": \"art\", \"precision\": \"estimate\", \"artefact_count\": 2800000}, {\"institution\": \"Science Museum Group\", \"sector\": \"dcms\", \"type\": \"museum\", \"topic\": \"science\", \"precision\": \"estimate\", \"artefact_count\": 7360793}, {\"institution\": \"Museum of the Home\", \"sector\": \"dcms\", \"type\": \"museum\", \"topic\": \"history\", \"precision\": \"estimate\", \"artefact_count\": 40000}, {\"institution\": \"Horniman Museum\", \"sector\": \"dcms\", \"type\": \"museum\", \"topic\": \"history\", \"precision\": \"estimate\", \"artefact_count\": 350000}, {\"institution\": \"Imperial War Museums\", \"sector\": \"dcms\", \"type\": \"museum\", \"topic\": \"history\", \"precision\": \"estimate\", \"artefact_count\": 1000000}, {\"institution\": \"National Gallery\", \"sector\": \"dcms\", \"type\": \"gallery\", \"topic\": \"art\", \"precision\": \"estimate\", \"artefact_count\": 2626}, {\"institution\": \"National Museums Liverpool\", \"sector\": \"dcms\", \"type\": \"museum\", \"topic\": \"history\", \"precision\": \"estimate\", \"artefact_count\": 4000000}, {\"institution\": \"National Portrait Gallery\", \"sector\": \"dcms\", \"type\": \"gallery\", \"topic\": \"art\", \"precision\": \"estimate\", \"artefact_count\": 350000}, {\"institution\": \"Natural History Museum\", \"sector\": \"dcms\", \"type\": \"museum\", \"topic\": \"nature\", \"precision\": \"estimate\", \"artefact_count\": 80000000}, {\"institution\": \"Royal Armouries\", \"sector\": \"dcms\", \"type\": \"museum\", \"topic\": \"history\", \"precision\": \"estimate\", \"artefact_count\": 70000}, {\"institution\": \"Royal Museums Greenwich\", \"sector\": \"dcms\", \"type\": \"museum\", \"topic\": \"history\", \"precision\": \"estimate\", \"artefact_count\": 3000000}, {\"institution\": \"Sir John Soane's Museum\", \"sector\": \"dcms\", \"type\": \"museum\", \"topic\": \"history\", \"precision\": \"estimate\", \"artefact_count\": 52000}, {\"institution\": \"Tate Gallery Group\", \"sector\": \"dcms\", \"type\": \"gallery\", \"topic\": \"art\", \"precision\": \"estimate\", \"artefact_count\": 70000}, {\"institution\": \"The Wallace Collection\", \"sector\": \"dcms\", \"type\": \"museum\", \"topic\": \"art\", \"precision\": \"estimate\", \"artefact_count\": 5637}, {\"institution\": \"British Museum\", \"sector\": \"dcms\", \"type\": \"museum\", \"topic\": \"history\", \"precision\": \"estimate\", \"artefact_count\": 8000000}]}}, {\"mode\": \"vega-lite\"});\n",
       "</script>"
      ],
      "text/plain": [
       "alt.Chart(...)"
      ]
     },
     "execution_count": 84,
     "metadata": {},
     "output_type": "execute_result"
    }
   ],
   "source": [
    "title = alt.TitleParams('Artefacts by sector', anchor='middle')\n",
    "alt.Chart(artefacts_df,title=title).mark_bar().encode(\n",
    "    alt.Color('institution:N', legend=alt.Legend(orient='bottom',columns=4)),\n",
    "    x='artefact_count:Q',\n",
    "    tooltip=['institution', 'artefact_count'],\n",
    "    y='topic:N',\n",
    "    column='sector'\n",
    ").properties(width=225).resolve_scale(x='independent').configure(numberFormat='.2s')\n",
    "\n",
    "# Uncertainty of level 2 - would fall if any institution was certain abnout artefacts (by 1/num_institutions)"
   ]
  },
  {
   "cell_type": "markdown",
   "id": "0b2524e5-d258-4141-b761-e85e51514797",
   "metadata": {
    "editable": true,
    "slideshow": {
     "slide_type": ""
    },
    "tags": []
   },
   "source": [
    "## Artefacts by sector (excluding specimen collections)\n",
    "\n",
    "Showing the distribution of artefacts (a cultural heritage item of any type)\n",
    "on different topic held in each sector, excluding nature collections."
   ]
  },
  {
   "cell_type": "code",
   "execution_count": 80,
   "id": "9ec54dca-91c8-4be3-822f-df5476192ff7",
   "metadata": {
    "editable": true,
    "slideshow": {
     "slide_type": ""
    },
    "tags": [
     "remove-input",
     "full-size"
    ]
   },
   "outputs": [
    {
     "data": {
      "text/html": [
       "\n",
       "<style>\n",
       "  #altair-viz-e4bd98f540f9497f8bc2465842196764.vega-embed {\n",
       "    width: 100%;\n",
       "    display: flex;\n",
       "  }\n",
       "\n",
       "  #altair-viz-e4bd98f540f9497f8bc2465842196764.vega-embed details,\n",
       "  #altair-viz-e4bd98f540f9497f8bc2465842196764.vega-embed details summary {\n",
       "    position: relative;\n",
       "  }\n",
       "</style>\n",
       "<div id=\"altair-viz-e4bd98f540f9497f8bc2465842196764\"></div>\n",
       "<script type=\"text/javascript\">\n",
       "  var VEGA_DEBUG = (typeof VEGA_DEBUG == \"undefined\") ? {} : VEGA_DEBUG;\n",
       "  (function(spec, embedOpt){\n",
       "    let outputDiv = document.currentScript.previousElementSibling;\n",
       "    if (outputDiv.id !== \"altair-viz-e4bd98f540f9497f8bc2465842196764\") {\n",
       "      outputDiv = document.getElementById(\"altair-viz-e4bd98f540f9497f8bc2465842196764\");\n",
       "    }\n",
       "    const paths = {\n",
       "      \"vega\": \"https://cdn.jsdelivr.net/npm/vega@5?noext\",\n",
       "      \"vega-lib\": \"https://cdn.jsdelivr.net/npm/vega-lib?noext\",\n",
       "      \"vega-lite\": \"https://cdn.jsdelivr.net/npm/vega-lite@5.17.0?noext\",\n",
       "      \"vega-embed\": \"https://cdn.jsdelivr.net/npm/vega-embed@6?noext\",\n",
       "    };\n",
       "\n",
       "    function maybeLoadScript(lib, version) {\n",
       "      var key = `${lib.replace(\"-\", \"\")}_version`;\n",
       "      return (VEGA_DEBUG[key] == version) ?\n",
       "        Promise.resolve(paths[lib]) :\n",
       "        new Promise(function(resolve, reject) {\n",
       "          var s = document.createElement('script');\n",
       "          document.getElementsByTagName(\"head\")[0].appendChild(s);\n",
       "          s.async = true;\n",
       "          s.onload = () => {\n",
       "            VEGA_DEBUG[key] = version;\n",
       "            return resolve(paths[lib]);\n",
       "          };\n",
       "          s.onerror = () => reject(`Error loading script: ${paths[lib]}`);\n",
       "          s.src = paths[lib];\n",
       "        });\n",
       "    }\n",
       "\n",
       "    function showError(err) {\n",
       "      outputDiv.innerHTML = `<div class=\"error\" style=\"color:red;\">${err}</div>`;\n",
       "      throw err;\n",
       "    }\n",
       "\n",
       "    function displayChart(vegaEmbed) {\n",
       "      vegaEmbed(outputDiv, spec, embedOpt)\n",
       "        .catch(err => showError(`Javascript Error: ${err.message}<br>This usually means there's a typo in your chart specification. See the javascript console for the full traceback.`));\n",
       "    }\n",
       "\n",
       "    if(typeof define === \"function\" && define.amd) {\n",
       "      requirejs.config({paths});\n",
       "      require([\"vega-embed\"], displayChart, err => showError(`Error loading script: ${err.message}`));\n",
       "    } else {\n",
       "      maybeLoadScript(\"vega\", \"5\")\n",
       "        .then(() => maybeLoadScript(\"vega-lite\", \"5.17.0\"))\n",
       "        .then(() => maybeLoadScript(\"vega-embed\", \"6\"))\n",
       "        .catch(showError)\n",
       "        .then(() => displayChart(vegaEmbed));\n",
       "    }\n",
       "  })({\"config\": {\"view\": {\"continuousWidth\": 300, \"continuousHeight\": 300}, \"numberFormat\": \".2s\"}, \"data\": {\"name\": \"data-d1f32ef773e5d7ce571275c2cbabb600\"}, \"mark\": {\"type\": \"bar\"}, \"encoding\": {\"color\": {\"field\": \"institution\", \"legend\": {\"columns\": 4, \"orient\": \"bottom\"}, \"type\": \"nominal\"}, \"column\": {\"field\": \"sector\", \"type\": \"nominal\"}, \"tooltip\": {\"field\": \"institution\", \"type\": \"nominal\"}, \"x\": {\"field\": \"artefact_count\", \"type\": \"quantitative\"}, \"y\": {\"field\": \"topic\", \"type\": \"nominal\"}}, \"resolve\": {\"scale\": {\"x\": \"independent\"}}, \"title\": {\"text\": \"Collection Size (Artefacts) by sector (without Nature collections)\", \"anchor\": \"middle\"}, \"width\": 225, \"$schema\": \"https://vega.github.io/schema/vega-lite/v5.17.0.json\", \"datasets\": {\"data-d1f32ef773e5d7ce571275c2cbabb600\": [{\"institution\": \"Oxford University\", \"sector\": \"university\", \"type\": \"university\", \"topic\": \"mixed\", \"precision\": \"estimate\", \"artefact_count\": 22530000}, {\"institution\": \"University of Cambridge\", \"sector\": \"university\", \"type\": \"university\", \"topic\": \"mixed\", \"precision\": \"estimate\", \"artefact_count\": 2000000}, {\"institution\": \"Durham University\", \"sector\": \"university\", \"type\": \"university\", \"topic\": \"mixed\", \"precision\": \"estimate\", \"artefact_count\": 106000}, {\"institution\": \"University College London\", \"sector\": \"university\", \"type\": \"university\", \"topic\": \"mixed\", \"precision\": \"estimate\", \"artefact_count\": 164000}, {\"institution\": \"University of Manchester\", \"sector\": \"university\", \"type\": \"university\", \"topic\": \"mixed\", \"precision\": \"estimate\", \"artefact_count\": 8560000}, {\"institution\": \"King's College London\", \"sector\": \"university\", \"type\": \"university\", \"topic\": \"mixed\", \"precision\": \"estimate\", \"artefact_count\": 200000}, {\"institution\": \"University of Birmingham\", \"sector\": \"university\", \"type\": \"university\", \"topic\": \"mixed\", \"precision\": \"estimate\", \"artefact_count\": 4500000}, {\"institution\": \"Unversity of Warwick\", \"sector\": \"university\", \"type\": \"university\", \"topic\": \"mixed\", \"precision\": \"estimate\", \"artefact_count\": 16000}, {\"institution\": \"Manchester Metropolitan Unversity\", \"sector\": \"university\", \"type\": \"university\", \"topic\": \"mixed\", \"precision\": \"estimate\", \"artefact_count\": 0}, {\"institution\": \"Swansea University\", \"sector\": \"university\", \"type\": \"university\", \"topic\": \"mixed\", \"precision\": \"estimate\", \"artefact_count\": 1700}, {\"institution\": \"University of Brighton\", \"sector\": \"university\", \"type\": \"university\", \"topic\": \"mixed\", \"precision\": \"estimate\", \"artefact_count\": 50000}, {\"institution\": \"SOAS, University of London\", \"sector\": \"university\", \"type\": \"university\", \"topic\": \"mixed\", \"precision\": \"estimate\", \"artefact_count\": 60000}, {\"institution\": \"University of Aberdeen\", \"sector\": \"university\", \"type\": \"university\", \"topic\": \"mixed\", \"precision\": \"estimate\", \"artefact_count\": 530000}, {\"institution\": \"University of Bristol\", \"sector\": \"university\", \"type\": \"university\", \"topic\": \"mixed\", \"precision\": \"estimate\", \"artefact_count\": 100000}, {\"institution\": \"University of Leeds\", \"sector\": \"university\", \"type\": \"university\", \"topic\": \"mixed\", \"precision\": \"estimate\", \"artefact_count\": 350000}, {\"institution\": \"University of Sheffield\", \"sector\": \"university\", \"type\": \"university\", \"topic\": \"mixed\", \"precision\": \"estimate\", \"artefact_count\": 30000}, {\"institution\": \"University of St Andrews\", \"sector\": \"university\", \"type\": \"university\", \"topic\": \"mixed\", \"precision\": \"estimate\", \"artefact_count\": 200000}, {\"institution\": \"Royal College of Surgeons\", \"sector\": \"university\", \"type\": \"university\", \"topic\": \"medicine\", \"precision\": \"estimate\", \"artefact_count\": 3500}, {\"institution\": \"British Library\", \"sector\": \"library\", \"type\": \"library\", \"topic\": \"mixed\", \"precision\": \"estimate\", \"artefact_count\": 33810000}, {\"institution\": \"Chetham's Library\", \"sector\": \"library\", \"type\": \"library\", \"topic\": \"mixed\", \"precision\": \"estimate\", \"artefact_count\": 121041}, {\"institution\": \"Glasgow Woman's Library\", \"sector\": \"library\", \"type\": \"library\", \"topic\": \"mixed\", \"precision\": \"estimate\", \"artefact_count\": 0}, {\"institution\": \"Lambeth Palace Library\", \"sector\": \"library\", \"type\": \"library\", \"topic\": \"theology\", \"precision\": \"estimate\", \"artefact_count\": 186200}, {\"institution\": \"National Library of Wales\", \"sector\": \"library\", \"type\": \"library\", \"topic\": \"mixed\", \"precision\": \"estimate\", \"artefact_count\": 7540000}, {\"institution\": \"National Library of Scotland\", \"sector\": \"library\", \"type\": \"library\", \"topic\": \"mixed\", \"precision\": \"estimate\", \"artefact_count\": 37000000}, {\"institution\": \"Amgueddfa Cymru (National Museum Wales)\", \"sector\": \"national\", \"type\": \"museum\", \"topic\": \"mixed\", \"precision\": \"estimate\", \"artefact_count\": 5319585}, {\"institution\": \"Historic Royal Palaces\", \"sector\": \"national\", \"type\": \"building\", \"topic\": \"mixed\", \"precision\": \"estimate\", \"artefact_count\": 60000}, {\"institution\": \"National Football Museum\", \"sector\": \"national\", \"type\": \"museum\", \"topic\": \"mixed\", \"precision\": \"estimate\", \"artefact_count\": 40000}, {\"institution\": \"National Justice Museum\", \"sector\": \"national\", \"type\": \"museum\", \"topic\": \"mixed\", \"precision\": \"estimate\", \"artefact_count\": 40000}, {\"institution\": \"National Mining Museum Scotland\", \"sector\": \"national\", \"type\": \"museum\", \"topic\": \"industry\", \"precision\": \"estimate\", \"artefact_count\": 100000}, {\"institution\": \"National Museum of the Royal Navy\", \"sector\": \"national\", \"type\": \"museum\", \"topic\": \"maritime\", \"precision\": \"estimate\", \"artefact_count\": 2500000}, {\"institution\": \"National Museums NI\", \"sector\": \"national\", \"type\": \"museum\", \"topic\": \"mixed\", \"precision\": \"estimate\", \"artefact_count\": 1400000}, {\"institution\": \"National Museums Scotland\", \"sector\": \"national\", \"type\": \"museum\", \"topic\": \"mixed\", \"precision\": \"estimate\", \"artefact_count\": 12000000}, {\"institution\": \"National Tramway Museum\", \"sector\": \"national\", \"type\": \"museum\", \"topic\": \"mixed\", \"precision\": \"estimate\", \"artefact_count\": 46690}, {\"institution\": \"National Trust\", \"sector\": \"national\", \"type\": \"building\", \"topic\": \"art\", \"precision\": \"estimate\", \"artefact_count\": 1000000}, {\"institution\": \"National Trust for Scotland\", \"sector\": \"national\", \"type\": \"building\", \"topic\": \"art\", \"precision\": \"estimate\", \"artefact_count\": 300000}, {\"institution\": \"National Waterways Museum\", \"sector\": \"national\", \"type\": \"building\", \"topic\": \"transport\", \"precision\": \"estimate\", \"artefact_count\": 150000}, {\"institution\": \"Royal Collection Trust\", \"sector\": \"national\", \"type\": \"museum\", \"topic\": \"art\", \"precision\": \"estimate\", \"artefact_count\": 1000000}, {\"institution\": \"Government Art Collection\", \"sector\": \"national\", \"type\": \"museum\", \"topic\": \"art\", \"precision\": \"estimate\", \"artefact_count\": 15000}, {\"institution\": \"Historic Environment Scotland\", \"sector\": \"national\", \"type\": \"museum\", \"topic\": \"heritage\", \"precision\": \"estimate\", \"artefact_count\": 41000}, {\"institution\": \"People's History Museum\", \"sector\": \"national\", \"type\": \"museum\", \"topic\": \"social\", \"precision\": \"estimate\", \"artefact_count\": 5680}, {\"institution\": \"Portable Antiquities Scheme\", \"sector\": \"national\", \"type\": \"museum\", \"topic\": \"archaeology\", \"precision\": \"estimate\", \"artefact_count\": 1751232}, {\"institution\": \"Royal Air Force Museum\", \"sector\": \"national\", \"type\": \"museum\", \"topic\": \"military\", \"precision\": \"estimate\", \"artefact_count\": 1300000}, {\"institution\": \"Courtauld Gallery\", \"sector\": \"independent\", \"type\": \"gallery\", \"topic\": \"art\", \"precision\": \"estimate\", \"artefact_count\": 33501}, {\"institution\": \"Dulwich Picture Gallery\", \"sector\": \"independent\", \"type\": \"gallery\", \"topic\": \"art\", \"precision\": \"estimate\", \"artefact_count\": 600}, {\"institution\": \"Manchester Art Gallery\", \"sector\": \"independent\", \"type\": \"gallery\", \"topic\": \"art\", \"precision\": \"estimate\", \"artefact_count\": 46000}, {\"institution\": \"National Galleries Scotland\", \"sector\": \"independent\", \"type\": \"gallery\", \"topic\": \"art\", \"precision\": \"estimate\", \"artefact_count\": 120000}, {\"institution\": \"Bowes Museum\", \"sector\": \"independent\", \"type\": \"museum\", \"topic\": \"art\", \"precision\": \"estimate\", \"artefact_count\": 30000}, {\"institution\": \"Britten Pears\", \"sector\": \"independent\", \"type\": \"museum\", \"topic\": \"art\", \"precision\": \"estimate\", \"artefact_count\": 1200}, {\"institution\": \"Chatham Historic Dockyard\", \"sector\": \"independent\", \"type\": \"building\", \"topic\": \"maritime\", \"precision\": \"estimate\", \"artefact_count\": 70000}, {\"institution\": \"English Heritage Trust\", \"sector\": \"independent\", \"type\": \"building\", \"topic\": \"history\", \"precision\": \"estimate\", \"artefact_count\": 700000}, {\"institution\": \"Gordon Highlanders Museum\", \"sector\": \"independent\", \"type\": \"museum\", \"topic\": \"military\", \"precision\": \"estimate\", \"artefact_count\": 40000}, {\"institution\": \"Ironbridge Gorge Museum Trust\", \"sector\": \"independent\", \"type\": \"museum\", \"topic\": \"industry\", \"precision\": \"estimate\", \"artefact_count\": 400000}, {\"institution\": \"Jewish Museum London\", \"sector\": \"independent\", \"type\": \"museum\", \"topic\": \"social\", \"precision\": \"estimate\", \"artefact_count\": 40000}, {\"institution\": \"London Transport Museum\", \"sector\": \"independent\", \"type\": \"museum\", \"topic\": \"transport\", \"precision\": \"estimate\", \"artefact_count\": 500000}, {\"institution\": \"Manchester Jewish Museum\", \"sector\": \"independent\", \"type\": \"museum\", \"topic\": \"social\", \"precision\": \"estimate\", \"artefact_count\": 31000}, {\"institution\": \"Mary Rose Trust\", \"sector\": \"independent\", \"type\": \"museum\", \"topic\": \"maritime\", \"precision\": \"estimate\", \"artefact_count\": 19000}, {\"institution\": \"Media Archive for Central England (MACE)\", \"sector\": \"independent\", \"type\": \"archive\", \"topic\": \"media\", \"precision\": \"estimate\", \"artefact_count\": 65000}, {\"institution\": \"Food Museum\", \"sector\": \"independent\", \"type\": \"museum\", \"topic\": \"social\", \"precision\": \"estimate\", \"artefact_count\": 40000}, {\"institution\": \"Museum of Freemasonry\", \"sector\": \"independent\", \"type\": \"museum\", \"topic\": \"social\", \"precision\": \"estimate\", \"artefact_count\": 90000}, {\"institution\": \"Museum of Lead Mining\", \"sector\": \"independent\", \"type\": \"museum\", \"topic\": \"industry\", \"precision\": \"estimate\", \"artefact_count\": 2572}, {\"institution\": \"Museum of Scottish Railways\", \"sector\": \"independent\", \"type\": \"museum\", \"topic\": \"industry\", \"precision\": \"estimate\", \"artefact_count\": 50000}, {\"institution\": \"Paxton Trust\", \"sector\": \"independent\", \"type\": \"building\", \"topic\": \"art\", \"precision\": \"estimate\", \"artefact_count\": 3754}, {\"institution\": \"Pier Arts Centre\", \"sector\": \"independent\", \"type\": \"gallery\", \"topic\": \"art\", \"precision\": \"estimate\", \"artefact_count\": 180}, {\"institution\": \"Postal Museum\", \"sector\": \"independent\", \"type\": \"museum\", \"topic\": \"social\", \"precision\": \"estimate\", \"artefact_count\": 60000}, {\"institution\": \"Royal Artillery Museum\", \"sector\": \"independent\", \"type\": \"museum\", \"topic\": \"military\", \"precision\": \"estimate\", \"artefact_count\": 30000}, {\"institution\": \"Royal Engineers Museum\", \"sector\": \"independent\", \"type\": \"museum\", \"topic\": \"military\", \"precision\": \"estimate\", \"artefact_count\": 1000000}, {\"institution\": \"Royal Scottish Academy of Art & Architecture\", \"sector\": \"independent\", \"type\": \"museum\", \"topic\": \"art\", \"precision\": \"estimate\", \"artefact_count\": 9000}, {\"institution\": \"Aberdeenshire Council Museums\", \"sector\": \"regional\", \"type\": \"museum\", \"topic\": \"mixed\", \"precision\": \"estimate\", \"artefact_count\": 250000}, {\"institution\": \"Barnsley Museums\", \"sector\": \"regional\", \"type\": \"museum\", \"topic\": \"mixed\", \"precision\": \"estimate\", \"artefact_count\": 711400}, {\"institution\": \"Birmingham Museums Trust\", \"sector\": \"regional\", \"type\": \"museum\", \"topic\": \"art\", \"precision\": \"estimate\", \"artefact_count\": 800000}, {\"institution\": \"Black Country Living Museum\", \"sector\": \"regional\", \"type\": \"museum\", \"topic\": \"history\", \"precision\": \"estimate\", \"artefact_count\": 80000}, {\"institution\": \"Bradford District Museums & Galleries\", \"sector\": \"regional\", \"type\": \"museum\", \"topic\": \"mixed\", \"precision\": \"estimate\", \"artefact_count\": 837837}, {\"institution\": \"Bristol Museums\", \"sector\": \"regional\", \"type\": \"museum\", \"topic\": \"mixed\", \"precision\": \"estimate\", \"artefact_count\": 2000000}, {\"institution\": \"Culture Coventry\", \"sector\": \"regional\", \"type\": \"museum\", \"topic\": \"mixed\", \"precision\": \"estimate\", \"artefact_count\": 1000000}, {\"institution\": \"Culture Perth and Kinross\", \"sector\": \"regional\", \"type\": \"mixed\", \"topic\": \"mixed\", \"precision\": \"estimate\", \"artefact_count\": 500000}, {\"institution\": \"Culture Trust Luton\", \"sector\": \"regional\", \"type\": \"museum\", \"topic\": \"mixed\", \"precision\": \"estimate\", \"artefact_count\": 1105051}, {\"institution\": \"Dundee Heritage Trust\", \"sector\": \"regional\", \"type\": \"museum\", \"topic\": \"mixed\", \"precision\": \"estimate\", \"artefact_count\": 0}, {\"institution\": \"Elgin Museum\", \"sector\": \"regional\", \"type\": \"museum\", \"topic\": \"mixed\", \"precision\": \"estimate\", \"artefact_count\": 36000}, {\"institution\": \"Glasgow Museums\", \"sector\": \"regional\", \"type\": \"museum\", \"topic\": \"mixed\", \"precision\": \"estimate\", \"artefact_count\": 1000000}, {\"institution\": \"Heritage Doncaster\", \"sector\": \"regional\", \"type\": \"museum\", \"topic\": \"mixed\", \"precision\": \"estimate\", \"artefact_count\": 406750}, {\"institution\": \"Highland Folk Museum\", \"sector\": \"regional\", \"type\": \"museum\", \"topic\": \"social\", \"precision\": \"estimate\", \"artefact_count\": 10000}, {\"institution\": \"Leeds Museums & Galleries\", \"sector\": \"regional\", \"type\": \"museum\", \"topic\": \"mixed\", \"precision\": \"estimate\", \"artefact_count\": 1300000}, {\"institution\": \"Leicester Museums\", \"sector\": \"regional\", \"type\": \"museum\", \"topic\": \"mixed\", \"precision\": \"estimate\", \"artefact_count\": 1500000}, {\"institution\": \"Manchester Art Gallery\", \"sector\": \"regional\", \"type\": \"gallery\", \"topic\": \"art\", \"precision\": \"estimate\", \"artefact_count\": 50000}, {\"institution\": \"Edinburgh Museums\", \"sector\": \"regional\", \"type\": \"museum\", \"topic\": \"mixed\", \"precision\": \"estimate\", \"artefact_count\": 220000}, {\"institution\": \"Museums Northhumberland\", \"sector\": \"regional\", \"type\": \"museum\", \"topic\": \"mixed\", \"precision\": \"estimate\", \"artefact_count\": 25000}, {\"institution\": \"Northhampton Museums\", \"sector\": \"regional\", \"type\": \"museum\", \"topic\": \"mixed\", \"precision\": \"estimate\", \"artefact_count\": 44024}, {\"institution\": \"Orkney Museums\", \"sector\": \"regional\", \"type\": \"museum\", \"topic\": \"mixed\", \"precision\": \"estimate\", \"artefact_count\": 100000}, {\"institution\": \"Poole Museums\", \"sector\": \"regional\", \"type\": \"museum\", \"topic\": \"mixed\", \"precision\": \"estimate\", \"artefact_count\": 50000}, {\"institution\": \"Potteries Museum and Art Gallery\", \"sector\": \"regional\", \"type\": \"museum\", \"topic\": \"arts\", \"precision\": \"estimate\", \"artefact_count\": 1000000}, {\"institution\": \"Preston Park Museum & Grounds\", \"sector\": \"regional\", \"type\": \"museum\", \"topic\": \"social\", \"precision\": \"estimate\", \"artefact_count\": 100000}, {\"institution\": \"Ripon Museums\", \"sector\": \"regional\", \"type\": \"museum\", \"topic\": \"social\", \"precision\": \"estimate\", \"artefact_count\": 9000}, {\"institution\": \"Royal Albert Memorial Museum\", \"sector\": \"regional\", \"type\": \"museum\", \"topic\": \"mixed\", \"precision\": \"estimate\", \"artefact_count\": 1000000}, {\"institution\": \"Salisbury Museum\", \"sector\": \"regional\", \"type\": \"museum\", \"topic\": \"mixed\", \"precision\": \"estimate\", \"artefact_count\": 100000}, {\"institution\": \"Victoria & Albert Museum\", \"sector\": \"dcms\", \"type\": \"museum\", \"topic\": \"art\", \"precision\": \"estimate\", \"artefact_count\": 2800000}, {\"institution\": \"Science Museum Group\", \"sector\": \"dcms\", \"type\": \"museum\", \"topic\": \"science\", \"precision\": \"estimate\", \"artefact_count\": 7360793}, {\"institution\": \"Museum of the Home\", \"sector\": \"dcms\", \"type\": \"museum\", \"topic\": \"history\", \"precision\": \"estimate\", \"artefact_count\": 40000}, {\"institution\": \"Horniman Museum\", \"sector\": \"dcms\", \"type\": \"museum\", \"topic\": \"history\", \"precision\": \"estimate\", \"artefact_count\": 350000}, {\"institution\": \"Imperial War Museums\", \"sector\": \"dcms\", \"type\": \"museum\", \"topic\": \"history\", \"precision\": \"estimate\", \"artefact_count\": 1000000}, {\"institution\": \"National Gallery\", \"sector\": \"dcms\", \"type\": \"gallery\", \"topic\": \"art\", \"precision\": \"estimate\", \"artefact_count\": 2626}, {\"institution\": \"National Museums Liverpool\", \"sector\": \"dcms\", \"type\": \"museum\", \"topic\": \"history\", \"precision\": \"estimate\", \"artefact_count\": 4000000}, {\"institution\": \"National Portrait Gallery\", \"sector\": \"dcms\", \"type\": \"gallery\", \"topic\": \"art\", \"precision\": \"estimate\", \"artefact_count\": 350000}, {\"institution\": \"Royal Armouries\", \"sector\": \"dcms\", \"type\": \"museum\", \"topic\": \"history\", \"precision\": \"estimate\", \"artefact_count\": 70000}, {\"institution\": \"Royal Museums Greenwich\", \"sector\": \"dcms\", \"type\": \"museum\", \"topic\": \"history\", \"precision\": \"estimate\", \"artefact_count\": 3000000}, {\"institution\": \"Sir John Soane's Museum\", \"sector\": \"dcms\", \"type\": \"museum\", \"topic\": \"history\", \"precision\": \"estimate\", \"artefact_count\": 52000}, {\"institution\": \"Tate Gallery Group\", \"sector\": \"dcms\", \"type\": \"gallery\", \"topic\": \"art\", \"precision\": \"estimate\", \"artefact_count\": 70000}, {\"institution\": \"The Wallace Collection\", \"sector\": \"dcms\", \"type\": \"museum\", \"topic\": \"art\", \"precision\": \"estimate\", \"artefact_count\": 5637}, {\"institution\": \"British Museum\", \"sector\": \"dcms\", \"type\": \"museum\", \"topic\": \"history\", \"precision\": \"estimate\", \"artefact_count\": 8000000}]}}, {\"mode\": \"vega-lite\"});\n",
       "</script>"
      ],
      "text/plain": [
       "alt.Chart(...)"
      ]
     },
     "execution_count": 80,
     "metadata": {},
     "output_type": "execute_result"
    }
   ],
   "source": [
    "title = alt.TitleParams('Collection Size (Artefacts) by sector (without Nature collections)', anchor='middle')\n",
    "alt.Chart(artefacts_non_nature_df,title=title).mark_bar().encode(\n",
    "    alt.Color('institution:N', legend=alt.Legend(orient='bottom',columns=4)),\n",
    "    x='artefact_count:Q',\n",
    "    tooltip=['institution', 'artefact_count'],\n",
    "    y='topic:N',\n",
    "    column='sector'\n",
    ").properties(width=225).resolve_scale(x='independent').configure(numberFormat='.2s')\n",
    "\n",
    "# Uncertainty of level 2 - would fall if any institution was certain abnout artefacts (by 1/num_institutions)"
   ]
  },
  {
   "cell_type": "markdown",
   "id": "2507569a-a21d-46fe-a2bf-774ef5ce8644",
   "metadata": {
    "editable": true,
    "slideshow": {
     "slide_type": ""
    },
    "tags": []
   },
   "source": [
    "## Artefacts by topic"
   ]
  },
  {
   "cell_type": "code",
   "execution_count": 85,
   "id": "f3d67ee1-989d-4883-8137-715e6c40f660",
   "metadata": {
    "editable": true,
    "slideshow": {
     "slide_type": ""
    },
    "tags": [
     "remove-input",
     "full-size"
    ]
   },
   "outputs": [
    {
     "data": {
      "text/html": [
       "\n",
       "<style>\n",
       "  #altair-viz-20267e19832d41399e24b3f5a6df7388.vega-embed {\n",
       "    width: 100%;\n",
       "    display: flex;\n",
       "  }\n",
       "\n",
       "  #altair-viz-20267e19832d41399e24b3f5a6df7388.vega-embed details,\n",
       "  #altair-viz-20267e19832d41399e24b3f5a6df7388.vega-embed details summary {\n",
       "    position: relative;\n",
       "  }\n",
       "</style>\n",
       "<div id=\"altair-viz-20267e19832d41399e24b3f5a6df7388\"></div>\n",
       "<script type=\"text/javascript\">\n",
       "  var VEGA_DEBUG = (typeof VEGA_DEBUG == \"undefined\") ? {} : VEGA_DEBUG;\n",
       "  (function(spec, embedOpt){\n",
       "    let outputDiv = document.currentScript.previousElementSibling;\n",
       "    if (outputDiv.id !== \"altair-viz-20267e19832d41399e24b3f5a6df7388\") {\n",
       "      outputDiv = document.getElementById(\"altair-viz-20267e19832d41399e24b3f5a6df7388\");\n",
       "    }\n",
       "    const paths = {\n",
       "      \"vega\": \"https://cdn.jsdelivr.net/npm/vega@5?noext\",\n",
       "      \"vega-lib\": \"https://cdn.jsdelivr.net/npm/vega-lib?noext\",\n",
       "      \"vega-lite\": \"https://cdn.jsdelivr.net/npm/vega-lite@5.17.0?noext\",\n",
       "      \"vega-embed\": \"https://cdn.jsdelivr.net/npm/vega-embed@6?noext\",\n",
       "    };\n",
       "\n",
       "    function maybeLoadScript(lib, version) {\n",
       "      var key = `${lib.replace(\"-\", \"\")}_version`;\n",
       "      return (VEGA_DEBUG[key] == version) ?\n",
       "        Promise.resolve(paths[lib]) :\n",
       "        new Promise(function(resolve, reject) {\n",
       "          var s = document.createElement('script');\n",
       "          document.getElementsByTagName(\"head\")[0].appendChild(s);\n",
       "          s.async = true;\n",
       "          s.onload = () => {\n",
       "            VEGA_DEBUG[key] = version;\n",
       "            return resolve(paths[lib]);\n",
       "          };\n",
       "          s.onerror = () => reject(`Error loading script: ${paths[lib]}`);\n",
       "          s.src = paths[lib];\n",
       "        });\n",
       "    }\n",
       "\n",
       "    function showError(err) {\n",
       "      outputDiv.innerHTML = `<div class=\"error\" style=\"color:red;\">${err}</div>`;\n",
       "      throw err;\n",
       "    }\n",
       "\n",
       "    function displayChart(vegaEmbed) {\n",
       "      vegaEmbed(outputDiv, spec, embedOpt)\n",
       "        .catch(err => showError(`Javascript Error: ${err.message}<br>This usually means there's a typo in your chart specification. See the javascript console for the full traceback.`));\n",
       "    }\n",
       "\n",
       "    if(typeof define === \"function\" && define.amd) {\n",
       "      requirejs.config({paths});\n",
       "      require([\"vega-embed\"], displayChart, err => showError(`Error loading script: ${err.message}`));\n",
       "    } else {\n",
       "      maybeLoadScript(\"vega\", \"5\")\n",
       "        .then(() => maybeLoadScript(\"vega-lite\", \"5.17.0\"))\n",
       "        .then(() => maybeLoadScript(\"vega-embed\", \"6\"))\n",
       "        .catch(showError)\n",
       "        .then(() => displayChart(vegaEmbed));\n",
       "    }\n",
       "  })({\"config\": {\"view\": {\"continuousWidth\": 300, \"continuousHeight\": 300}, \"numberFormat\": \".2s\"}, \"data\": {\"name\": \"data-f4253ee8e36c3615aab68e27ba9c68a5\"}, \"mark\": {\"type\": \"bar\"}, \"encoding\": {\"color\": {\"field\": \"institution\", \"legend\": {\"columns\": 5, \"orient\": \"bottom\"}, \"sort\": \"descending\", \"type\": \"nominal\"}, \"column\": {\"field\": \"precision\", \"type\": \"ordinal\"}, \"tooltip\": [{\"field\": \"institution\", \"type\": \"nominal\"}, {\"field\": \"artefact_count\", \"type\": \"quantitative\"}], \"x\": {\"field\": \"artefact_count\", \"type\": \"quantitative\"}, \"y\": {\"field\": \"topic\", \"type\": \"nominal\"}}, \"resolve\": {\"scale\": {\"x\": \"independent\"}}, \"title\": {\"text\": \"Collection Size (Artefacts) by topic\", \"anchor\": \"middle\"}, \"width\": 900, \"$schema\": \"https://vega.github.io/schema/vega-lite/v5.17.0.json\", \"datasets\": {\"data-f4253ee8e36c3615aab68e27ba9c68a5\": [{\"institution\": \"Oxford University\", \"sector\": \"university\", \"type\": \"university\", \"topic\": \"mixed\", \"precision\": \"estimate\", \"artefact_count\": 22530000}, {\"institution\": \"University of Cambridge\", \"sector\": \"university\", \"type\": \"university\", \"topic\": \"mixed\", \"precision\": \"estimate\", \"artefact_count\": 2000000}, {\"institution\": \"Durham University\", \"sector\": \"university\", \"type\": \"university\", \"topic\": \"mixed\", \"precision\": \"estimate\", \"artefact_count\": 106000}, {\"institution\": \"University College London\", \"sector\": \"university\", \"type\": \"university\", \"topic\": \"mixed\", \"precision\": \"estimate\", \"artefact_count\": 164000}, {\"institution\": \"University of Manchester\", \"sector\": \"university\", \"type\": \"university\", \"topic\": \"mixed\", \"precision\": \"estimate\", \"artefact_count\": 8560000}, {\"institution\": \"King's College London\", \"sector\": \"university\", \"type\": \"university\", \"topic\": \"mixed\", \"precision\": \"estimate\", \"artefact_count\": 200000}, {\"institution\": \"University of Birmingham\", \"sector\": \"university\", \"type\": \"university\", \"topic\": \"mixed\", \"precision\": \"estimate\", \"artefact_count\": 4500000}, {\"institution\": \"Unversity of Warwick\", \"sector\": \"university\", \"type\": \"university\", \"topic\": \"mixed\", \"precision\": \"estimate\", \"artefact_count\": 16000}, {\"institution\": \"Manchester Metropolitan Unversity\", \"sector\": \"university\", \"type\": \"university\", \"topic\": \"mixed\", \"precision\": \"estimate\", \"artefact_count\": 0}, {\"institution\": \"Swansea University\", \"sector\": \"university\", \"type\": \"university\", \"topic\": \"mixed\", \"precision\": \"estimate\", \"artefact_count\": 1700}, {\"institution\": \"University of Brighton\", \"sector\": \"university\", \"type\": \"university\", \"topic\": \"mixed\", \"precision\": \"estimate\", \"artefact_count\": 50000}, {\"institution\": \"SOAS, University of London\", \"sector\": \"university\", \"type\": \"university\", \"topic\": \"mixed\", \"precision\": \"estimate\", \"artefact_count\": 60000}, {\"institution\": \"University of Aberdeen\", \"sector\": \"university\", \"type\": \"university\", \"topic\": \"mixed\", \"precision\": \"estimate\", \"artefact_count\": 530000}, {\"institution\": \"University of Bristol\", \"sector\": \"university\", \"type\": \"university\", \"topic\": \"mixed\", \"precision\": \"estimate\", \"artefact_count\": 100000}, {\"institution\": \"University of Leeds\", \"sector\": \"university\", \"type\": \"university\", \"topic\": \"mixed\", \"precision\": \"estimate\", \"artefact_count\": 350000}, {\"institution\": \"University of Sheffield\", \"sector\": \"university\", \"type\": \"university\", \"topic\": \"mixed\", \"precision\": \"estimate\", \"artefact_count\": 30000}, {\"institution\": \"University of St Andrews\", \"sector\": \"university\", \"type\": \"university\", \"topic\": \"mixed\", \"precision\": \"estimate\", \"artefact_count\": 200000}, {\"institution\": \"Royal College of Surgeons\", \"sector\": \"university\", \"type\": \"university\", \"topic\": \"medicine\", \"precision\": \"estimate\", \"artefact_count\": 3500}, {\"institution\": \"British Library\", \"sector\": \"library\", \"type\": \"library\", \"topic\": \"mixed\", \"precision\": \"estimate\", \"artefact_count\": 33810000}, {\"institution\": \"Chetham's Library\", \"sector\": \"library\", \"type\": \"library\", \"topic\": \"mixed\", \"precision\": \"estimate\", \"artefact_count\": 121041}, {\"institution\": \"Glasgow Woman's Library\", \"sector\": \"library\", \"type\": \"library\", \"topic\": \"mixed\", \"precision\": \"estimate\", \"artefact_count\": 0}, {\"institution\": \"Lambeth Palace Library\", \"sector\": \"library\", \"type\": \"library\", \"topic\": \"theology\", \"precision\": \"estimate\", \"artefact_count\": 186200}, {\"institution\": \"National Library of Wales\", \"sector\": \"library\", \"type\": \"library\", \"topic\": \"mixed\", \"precision\": \"estimate\", \"artefact_count\": 7540000}, {\"institution\": \"National Library of Scotland\", \"sector\": \"library\", \"type\": \"library\", \"topic\": \"mixed\", \"precision\": \"estimate\", \"artefact_count\": 37000000}, {\"institution\": \"Amgueddfa Cymru (National Museum Wales)\", \"sector\": \"national\", \"type\": \"museum\", \"topic\": \"mixed\", \"precision\": \"estimate\", \"artefact_count\": 5319585}, {\"institution\": \"Historic Royal Palaces\", \"sector\": \"national\", \"type\": \"building\", \"topic\": \"mixed\", \"precision\": \"estimate\", \"artefact_count\": 60000}, {\"institution\": \"National Football Museum\", \"sector\": \"national\", \"type\": \"museum\", \"topic\": \"mixed\", \"precision\": \"estimate\", \"artefact_count\": 40000}, {\"institution\": \"National Justice Museum\", \"sector\": \"national\", \"type\": \"museum\", \"topic\": \"mixed\", \"precision\": \"estimate\", \"artefact_count\": 40000}, {\"institution\": \"National Mining Museum Scotland\", \"sector\": \"national\", \"type\": \"museum\", \"topic\": \"industry\", \"precision\": \"estimate\", \"artefact_count\": 100000}, {\"institution\": \"National Museum of the Royal Navy\", \"sector\": \"national\", \"type\": \"museum\", \"topic\": \"maritime\", \"precision\": \"estimate\", \"artefact_count\": 2500000}, {\"institution\": \"National Museums NI\", \"sector\": \"national\", \"type\": \"museum\", \"topic\": \"mixed\", \"precision\": \"estimate\", \"artefact_count\": 1400000}, {\"institution\": \"National Museums Scotland\", \"sector\": \"national\", \"type\": \"museum\", \"topic\": \"mixed\", \"precision\": \"estimate\", \"artefact_count\": 12000000}, {\"institution\": \"National Tramway Museum\", \"sector\": \"national\", \"type\": \"museum\", \"topic\": \"mixed\", \"precision\": \"estimate\", \"artefact_count\": 46690}, {\"institution\": \"National Trust\", \"sector\": \"national\", \"type\": \"building\", \"topic\": \"art\", \"precision\": \"estimate\", \"artefact_count\": 1000000}, {\"institution\": \"National Trust for Scotland\", \"sector\": \"national\", \"type\": \"building\", \"topic\": \"art\", \"precision\": \"estimate\", \"artefact_count\": 300000}, {\"institution\": \"National Waterways Museum\", \"sector\": \"national\", \"type\": \"building\", \"topic\": \"transport\", \"precision\": \"estimate\", \"artefact_count\": 150000}, {\"institution\": \"Royal Collection Trust\", \"sector\": \"national\", \"type\": \"museum\", \"topic\": \"art\", \"precision\": \"estimate\", \"artefact_count\": 1000000}, {\"institution\": \"Government Art Collection\", \"sector\": \"national\", \"type\": \"museum\", \"topic\": \"art\", \"precision\": \"estimate\", \"artefact_count\": 15000}, {\"institution\": \"Historic Environment Scotland\", \"sector\": \"national\", \"type\": \"museum\", \"topic\": \"heritage\", \"precision\": \"estimate\", \"artefact_count\": 41000}, {\"institution\": \"People's History Museum\", \"sector\": \"national\", \"type\": \"museum\", \"topic\": \"social\", \"precision\": \"estimate\", \"artefact_count\": 5680}, {\"institution\": \"Portable Antiquities Scheme\", \"sector\": \"national\", \"type\": \"museum\", \"topic\": \"archaeology\", \"precision\": \"estimate\", \"artefact_count\": 1751232}, {\"institution\": \"Royal Air Force Museum\", \"sector\": \"national\", \"type\": \"museum\", \"topic\": \"military\", \"precision\": \"estimate\", \"artefact_count\": 1300000}, {\"institution\": \"Royal Botanic Gardens Kew\", \"sector\": \"national\", \"type\": \"museum\", \"topic\": \"nature\", \"precision\": \"estimate\", \"artefact_count\": 7000000}, {\"institution\": \"Royal Collection\", \"sector\": \"national\", \"type\": \"museum\", \"topic\": \"nature\", \"precision\": \"estimate\", \"artefact_count\": 1000000}, {\"institution\": \"Courtauld Gallery\", \"sector\": \"independent\", \"type\": \"gallery\", \"topic\": \"art\", \"precision\": \"estimate\", \"artefact_count\": 33501}, {\"institution\": \"Dulwich Picture Gallery\", \"sector\": \"independent\", \"type\": \"gallery\", \"topic\": \"art\", \"precision\": \"estimate\", \"artefact_count\": 600}, {\"institution\": \"Manchester Art Gallery\", \"sector\": \"independent\", \"type\": \"gallery\", \"topic\": \"art\", \"precision\": \"estimate\", \"artefact_count\": 46000}, {\"institution\": \"National Galleries Scotland\", \"sector\": \"independent\", \"type\": \"gallery\", \"topic\": \"art\", \"precision\": \"estimate\", \"artefact_count\": 120000}, {\"institution\": \"Bowes Museum\", \"sector\": \"independent\", \"type\": \"museum\", \"topic\": \"art\", \"precision\": \"estimate\", \"artefact_count\": 30000}, {\"institution\": \"Britten Pears\", \"sector\": \"independent\", \"type\": \"museum\", \"topic\": \"art\", \"precision\": \"estimate\", \"artefact_count\": 1200}, {\"institution\": \"Chatham Historic Dockyard\", \"sector\": \"independent\", \"type\": \"building\", \"topic\": \"maritime\", \"precision\": \"estimate\", \"artefact_count\": 70000}, {\"institution\": \"English Heritage Trust\", \"sector\": \"independent\", \"type\": \"building\", \"topic\": \"history\", \"precision\": \"estimate\", \"artefact_count\": 700000}, {\"institution\": \"Gordon Highlanders Museum\", \"sector\": \"independent\", \"type\": \"museum\", \"topic\": \"military\", \"precision\": \"estimate\", \"artefact_count\": 40000}, {\"institution\": \"Ironbridge Gorge Museum Trust\", \"sector\": \"independent\", \"type\": \"museum\", \"topic\": \"industry\", \"precision\": \"estimate\", \"artefact_count\": 400000}, {\"institution\": \"Jewish Museum London\", \"sector\": \"independent\", \"type\": \"museum\", \"topic\": \"social\", \"precision\": \"estimate\", \"artefact_count\": 40000}, {\"institution\": \"London Transport Museum\", \"sector\": \"independent\", \"type\": \"museum\", \"topic\": \"transport\", \"precision\": \"estimate\", \"artefact_count\": 500000}, {\"institution\": \"Manchester Jewish Museum\", \"sector\": \"independent\", \"type\": \"museum\", \"topic\": \"social\", \"precision\": \"estimate\", \"artefact_count\": 31000}, {\"institution\": \"Mary Rose Trust\", \"sector\": \"independent\", \"type\": \"museum\", \"topic\": \"maritime\", \"precision\": \"estimate\", \"artefact_count\": 19000}, {\"institution\": \"Media Archive for Central England (MACE)\", \"sector\": \"independent\", \"type\": \"archive\", \"topic\": \"media\", \"precision\": \"estimate\", \"artefact_count\": 65000}, {\"institution\": \"Food Museum\", \"sector\": \"independent\", \"type\": \"museum\", \"topic\": \"social\", \"precision\": \"estimate\", \"artefact_count\": 40000}, {\"institution\": \"Museum of Freemasonry\", \"sector\": \"independent\", \"type\": \"museum\", \"topic\": \"social\", \"precision\": \"estimate\", \"artefact_count\": 90000}, {\"institution\": \"Museum of Lead Mining\", \"sector\": \"independent\", \"type\": \"museum\", \"topic\": \"industry\", \"precision\": \"estimate\", \"artefact_count\": 2572}, {\"institution\": \"Museum of Scottish Railways\", \"sector\": \"independent\", \"type\": \"museum\", \"topic\": \"industry\", \"precision\": \"estimate\", \"artefact_count\": 50000}, {\"institution\": \"Paxton Trust\", \"sector\": \"independent\", \"type\": \"building\", \"topic\": \"art\", \"precision\": \"estimate\", \"artefact_count\": 3754}, {\"institution\": \"Pier Arts Centre\", \"sector\": \"independent\", \"type\": \"gallery\", \"topic\": \"art\", \"precision\": \"estimate\", \"artefact_count\": 180}, {\"institution\": \"Postal Museum\", \"sector\": \"independent\", \"type\": \"museum\", \"topic\": \"social\", \"precision\": \"estimate\", \"artefact_count\": 60000}, {\"institution\": \"Royal Artillery Museum\", \"sector\": \"independent\", \"type\": \"museum\", \"topic\": \"military\", \"precision\": \"estimate\", \"artefact_count\": 30000}, {\"institution\": \"Royal Engineers Museum\", \"sector\": \"independent\", \"type\": \"museum\", \"topic\": \"military\", \"precision\": \"estimate\", \"artefact_count\": 1000000}, {\"institution\": \"Royal Scottish Academy of Art & Architecture\", \"sector\": \"independent\", \"type\": \"museum\", \"topic\": \"art\", \"precision\": \"estimate\", \"artefact_count\": 9000}, {\"institution\": \"Aberdeenshire Council Museums\", \"sector\": \"regional\", \"type\": \"museum\", \"topic\": \"mixed\", \"precision\": \"estimate\", \"artefact_count\": 250000}, {\"institution\": \"Barnsley Museums\", \"sector\": \"regional\", \"type\": \"museum\", \"topic\": \"mixed\", \"precision\": \"estimate\", \"artefact_count\": 711400}, {\"institution\": \"Birmingham Museums Trust\", \"sector\": \"regional\", \"type\": \"museum\", \"topic\": \"art\", \"precision\": \"estimate\", \"artefact_count\": 800000}, {\"institution\": \"Black Country Living Museum\", \"sector\": \"regional\", \"type\": \"museum\", \"topic\": \"history\", \"precision\": \"estimate\", \"artefact_count\": 80000}, {\"institution\": \"Bradford District Museums & Galleries\", \"sector\": \"regional\", \"type\": \"museum\", \"topic\": \"mixed\", \"precision\": \"estimate\", \"artefact_count\": 837837}, {\"institution\": \"Bristol Museums\", \"sector\": \"regional\", \"type\": \"museum\", \"topic\": \"mixed\", \"precision\": \"estimate\", \"artefact_count\": 2000000}, {\"institution\": \"Culture Coventry\", \"sector\": \"regional\", \"type\": \"museum\", \"topic\": \"mixed\", \"precision\": \"estimate\", \"artefact_count\": 1000000}, {\"institution\": \"Culture Perth and Kinross\", \"sector\": \"regional\", \"type\": \"mixed\", \"topic\": \"mixed\", \"precision\": \"estimate\", \"artefact_count\": 500000}, {\"institution\": \"Culture Trust Luton\", \"sector\": \"regional\", \"type\": \"museum\", \"topic\": \"mixed\", \"precision\": \"estimate\", \"artefact_count\": 1105051}, {\"institution\": \"Dundee Heritage Trust\", \"sector\": \"regional\", \"type\": \"museum\", \"topic\": \"mixed\", \"precision\": \"estimate\", \"artefact_count\": 0}, {\"institution\": \"Elgin Museum\", \"sector\": \"regional\", \"type\": \"museum\", \"topic\": \"mixed\", \"precision\": \"estimate\", \"artefact_count\": 36000}, {\"institution\": \"Glasgow Museums\", \"sector\": \"regional\", \"type\": \"museum\", \"topic\": \"mixed\", \"precision\": \"estimate\", \"artefact_count\": 1000000}, {\"institution\": \"Heritage Doncaster\", \"sector\": \"regional\", \"type\": \"museum\", \"topic\": \"mixed\", \"precision\": \"estimate\", \"artefact_count\": 406750}, {\"institution\": \"Highland Folk Museum\", \"sector\": \"regional\", \"type\": \"museum\", \"topic\": \"social\", \"precision\": \"estimate\", \"artefact_count\": 10000}, {\"institution\": \"Leeds Museums & Galleries\", \"sector\": \"regional\", \"type\": \"museum\", \"topic\": \"mixed\", \"precision\": \"estimate\", \"artefact_count\": 1300000}, {\"institution\": \"Leicester Museums\", \"sector\": \"regional\", \"type\": \"museum\", \"topic\": \"mixed\", \"precision\": \"estimate\", \"artefact_count\": 1500000}, {\"institution\": \"Manchester Art Gallery\", \"sector\": \"regional\", \"type\": \"gallery\", \"topic\": \"art\", \"precision\": \"estimate\", \"artefact_count\": 50000}, {\"institution\": \"Edinburgh Museums\", \"sector\": \"regional\", \"type\": \"museum\", \"topic\": \"mixed\", \"precision\": \"estimate\", \"artefact_count\": 220000}, {\"institution\": \"Museums Northhumberland\", \"sector\": \"regional\", \"type\": \"museum\", \"topic\": \"mixed\", \"precision\": \"estimate\", \"artefact_count\": 25000}, {\"institution\": \"Northhampton Museums\", \"sector\": \"regional\", \"type\": \"museum\", \"topic\": \"mixed\", \"precision\": \"estimate\", \"artefact_count\": 44024}, {\"institution\": \"Orkney Museums\", \"sector\": \"regional\", \"type\": \"museum\", \"topic\": \"mixed\", \"precision\": \"estimate\", \"artefact_count\": 100000}, {\"institution\": \"Poole Museums\", \"sector\": \"regional\", \"type\": \"museum\", \"topic\": \"mixed\", \"precision\": \"estimate\", \"artefact_count\": 50000}, {\"institution\": \"Potteries Museum and Art Gallery\", \"sector\": \"regional\", \"type\": \"museum\", \"topic\": \"arts\", \"precision\": \"estimate\", \"artefact_count\": 1000000}, {\"institution\": \"Preston Park Museum & Grounds\", \"sector\": \"regional\", \"type\": \"museum\", \"topic\": \"social\", \"precision\": \"estimate\", \"artefact_count\": 100000}, {\"institution\": \"Ripon Museums\", \"sector\": \"regional\", \"type\": \"museum\", \"topic\": \"social\", \"precision\": \"estimate\", \"artefact_count\": 9000}, {\"institution\": \"Royal Albert Memorial Museum\", \"sector\": \"regional\", \"type\": \"museum\", \"topic\": \"mixed\", \"precision\": \"estimate\", \"artefact_count\": 1000000}, {\"institution\": \"Salisbury Museum\", \"sector\": \"regional\", \"type\": \"museum\", \"topic\": \"mixed\", \"precision\": \"estimate\", \"artefact_count\": 100000}, {\"institution\": \"Victoria & Albert Museum\", \"sector\": \"dcms\", \"type\": \"museum\", \"topic\": \"art\", \"precision\": \"estimate\", \"artefact_count\": 2800000}, {\"institution\": \"Science Museum Group\", \"sector\": \"dcms\", \"type\": \"museum\", \"topic\": \"science\", \"precision\": \"estimate\", \"artefact_count\": 7360793}, {\"institution\": \"Museum of the Home\", \"sector\": \"dcms\", \"type\": \"museum\", \"topic\": \"history\", \"precision\": \"estimate\", \"artefact_count\": 40000}, {\"institution\": \"Horniman Museum\", \"sector\": \"dcms\", \"type\": \"museum\", \"topic\": \"history\", \"precision\": \"estimate\", \"artefact_count\": 350000}, {\"institution\": \"Imperial War Museums\", \"sector\": \"dcms\", \"type\": \"museum\", \"topic\": \"history\", \"precision\": \"estimate\", \"artefact_count\": 1000000}, {\"institution\": \"National Gallery\", \"sector\": \"dcms\", \"type\": \"gallery\", \"topic\": \"art\", \"precision\": \"estimate\", \"artefact_count\": 2626}, {\"institution\": \"National Museums Liverpool\", \"sector\": \"dcms\", \"type\": \"museum\", \"topic\": \"history\", \"precision\": \"estimate\", \"artefact_count\": 4000000}, {\"institution\": \"National Portrait Gallery\", \"sector\": \"dcms\", \"type\": \"gallery\", \"topic\": \"art\", \"precision\": \"estimate\", \"artefact_count\": 350000}, {\"institution\": \"Natural History Museum\", \"sector\": \"dcms\", \"type\": \"museum\", \"topic\": \"nature\", \"precision\": \"estimate\", \"artefact_count\": 80000000}, {\"institution\": \"Royal Armouries\", \"sector\": \"dcms\", \"type\": \"museum\", \"topic\": \"history\", \"precision\": \"estimate\", \"artefact_count\": 70000}, {\"institution\": \"Royal Museums Greenwich\", \"sector\": \"dcms\", \"type\": \"museum\", \"topic\": \"history\", \"precision\": \"estimate\", \"artefact_count\": 3000000}, {\"institution\": \"Sir John Soane's Museum\", \"sector\": \"dcms\", \"type\": \"museum\", \"topic\": \"history\", \"precision\": \"estimate\", \"artefact_count\": 52000}, {\"institution\": \"Tate Gallery Group\", \"sector\": \"dcms\", \"type\": \"gallery\", \"topic\": \"art\", \"precision\": \"estimate\", \"artefact_count\": 70000}, {\"institution\": \"The Wallace Collection\", \"sector\": \"dcms\", \"type\": \"museum\", \"topic\": \"art\", \"precision\": \"estimate\", \"artefact_count\": 5637}, {\"institution\": \"British Museum\", \"sector\": \"dcms\", \"type\": \"museum\", \"topic\": \"history\", \"precision\": \"estimate\", \"artefact_count\": 8000000}]}}, {\"mode\": \"vega-lite\"});\n",
       "</script>"
      ],
      "text/plain": [
       "alt.Chart(...)"
      ]
     },
     "execution_count": 85,
     "metadata": {},
     "output_type": "execute_result"
    }
   ],
   "source": [
    "title = alt.TitleParams('Collection Size (Artefacts) by topic', anchor='middle')\n",
    "alt.Chart(artefacts_df, title=title).mark_bar().encode(\n",
    "    alt.Color('institution:N', sort='descending', legend=alt.Legend(orient='bottom',columns=5)),\n",
    "    column='precision:O',\n",
    "    x='artefact_count:Q',\n",
    "    tooltip=['institution', 'artefact_count'],\n",
    "    y='topic:N',\n",
    ").properties(width=900).resolve_scale(x='independent').configure(numberFormat='.2s')"
   ]
  },
  {
   "cell_type": "markdown",
   "id": "25862f92-fd57-4d87-90b9-613cc5754280",
   "metadata": {
    "editable": true,
    "slideshow": {
     "slide_type": ""
    },
    "tags": []
   },
   "source": [
    "## Artefacts by institution type"
   ]
  },
  {
   "cell_type": "code",
   "execution_count": 86,
   "id": "4f2a7ca6-7a3a-4176-bf8b-b22250451b61",
   "metadata": {
    "editable": true,
    "slideshow": {
     "slide_type": ""
    },
    "tags": [
     "remove-input",
     "full-size"
    ]
   },
   "outputs": [
    {
     "data": {
      "text/html": [
       "\n",
       "<style>\n",
       "  #altair-viz-c159e169989b48b4af21d8c13be641b0.vega-embed {\n",
       "    width: 100%;\n",
       "    display: flex;\n",
       "  }\n",
       "\n",
       "  #altair-viz-c159e169989b48b4af21d8c13be641b0.vega-embed details,\n",
       "  #altair-viz-c159e169989b48b4af21d8c13be641b0.vega-embed details summary {\n",
       "    position: relative;\n",
       "  }\n",
       "</style>\n",
       "<div id=\"altair-viz-c159e169989b48b4af21d8c13be641b0\"></div>\n",
       "<script type=\"text/javascript\">\n",
       "  var VEGA_DEBUG = (typeof VEGA_DEBUG == \"undefined\") ? {} : VEGA_DEBUG;\n",
       "  (function(spec, embedOpt){\n",
       "    let outputDiv = document.currentScript.previousElementSibling;\n",
       "    if (outputDiv.id !== \"altair-viz-c159e169989b48b4af21d8c13be641b0\") {\n",
       "      outputDiv = document.getElementById(\"altair-viz-c159e169989b48b4af21d8c13be641b0\");\n",
       "    }\n",
       "    const paths = {\n",
       "      \"vega\": \"https://cdn.jsdelivr.net/npm/vega@5?noext\",\n",
       "      \"vega-lib\": \"https://cdn.jsdelivr.net/npm/vega-lib?noext\",\n",
       "      \"vega-lite\": \"https://cdn.jsdelivr.net/npm/vega-lite@5.17.0?noext\",\n",
       "      \"vega-embed\": \"https://cdn.jsdelivr.net/npm/vega-embed@6?noext\",\n",
       "    };\n",
       "\n",
       "    function maybeLoadScript(lib, version) {\n",
       "      var key = `${lib.replace(\"-\", \"\")}_version`;\n",
       "      return (VEGA_DEBUG[key] == version) ?\n",
       "        Promise.resolve(paths[lib]) :\n",
       "        new Promise(function(resolve, reject) {\n",
       "          var s = document.createElement('script');\n",
       "          document.getElementsByTagName(\"head\")[0].appendChild(s);\n",
       "          s.async = true;\n",
       "          s.onload = () => {\n",
       "            VEGA_DEBUG[key] = version;\n",
       "            return resolve(paths[lib]);\n",
       "          };\n",
       "          s.onerror = () => reject(`Error loading script: ${paths[lib]}`);\n",
       "          s.src = paths[lib];\n",
       "        });\n",
       "    }\n",
       "\n",
       "    function showError(err) {\n",
       "      outputDiv.innerHTML = `<div class=\"error\" style=\"color:red;\">${err}</div>`;\n",
       "      throw err;\n",
       "    }\n",
       "\n",
       "    function displayChart(vegaEmbed) {\n",
       "      vegaEmbed(outputDiv, spec, embedOpt)\n",
       "        .catch(err => showError(`Javascript Error: ${err.message}<br>This usually means there's a typo in your chart specification. See the javascript console for the full traceback.`));\n",
       "    }\n",
       "\n",
       "    if(typeof define === \"function\" && define.amd) {\n",
       "      requirejs.config({paths});\n",
       "      require([\"vega-embed\"], displayChart, err => showError(`Error loading script: ${err.message}`));\n",
       "    } else {\n",
       "      maybeLoadScript(\"vega\", \"5\")\n",
       "        .then(() => maybeLoadScript(\"vega-lite\", \"5.17.0\"))\n",
       "        .then(() => maybeLoadScript(\"vega-embed\", \"6\"))\n",
       "        .catch(showError)\n",
       "        .then(() => displayChart(vegaEmbed));\n",
       "    }\n",
       "  })({\"config\": {\"view\": {\"continuousWidth\": 300, \"continuousHeight\": 300}, \"numberFormat\": \".2s\"}, \"data\": {\"name\": \"data-f4253ee8e36c3615aab68e27ba9c68a5\"}, \"mark\": {\"type\": \"bar\"}, \"encoding\": {\"color\": {\"field\": \"institution\", \"legend\": {\"columns\": 4, \"orient\": \"bottom\", \"symbolLimit\": 80}, \"sort\": \"descending\", \"type\": \"nominal\"}, \"column\": {\"field\": \"precision\", \"type\": \"ordinal\"}, \"tooltip\": [{\"field\": \"institution\", \"type\": \"nominal\"}, {\"field\": \"artefact_count\", \"type\": \"quantitative\"}], \"x\": {\"field\": \"artefact_count\", \"type\": \"quantitative\"}, \"y\": {\"field\": \"type\", \"type\": \"nominal\"}}, \"resolve\": {\"scale\": {\"x\": \"independent\"}}, \"title\": {\"text\": \"Oveview Collection Size (Artefacts) by sector\", \"anchor\": \"middle\"}, \"width\": 900, \"$schema\": \"https://vega.github.io/schema/vega-lite/v5.17.0.json\", \"datasets\": {\"data-f4253ee8e36c3615aab68e27ba9c68a5\": [{\"institution\": \"Oxford University\", \"sector\": \"university\", \"type\": \"university\", \"topic\": \"mixed\", \"precision\": \"estimate\", \"artefact_count\": 22530000}, {\"institution\": \"University of Cambridge\", \"sector\": \"university\", \"type\": \"university\", \"topic\": \"mixed\", \"precision\": \"estimate\", \"artefact_count\": 2000000}, {\"institution\": \"Durham University\", \"sector\": \"university\", \"type\": \"university\", \"topic\": \"mixed\", \"precision\": \"estimate\", \"artefact_count\": 106000}, {\"institution\": \"University College London\", \"sector\": \"university\", \"type\": \"university\", \"topic\": \"mixed\", \"precision\": \"estimate\", \"artefact_count\": 164000}, {\"institution\": \"University of Manchester\", \"sector\": \"university\", \"type\": \"university\", \"topic\": \"mixed\", \"precision\": \"estimate\", \"artefact_count\": 8560000}, {\"institution\": \"King's College London\", \"sector\": \"university\", \"type\": \"university\", \"topic\": \"mixed\", \"precision\": \"estimate\", \"artefact_count\": 200000}, {\"institution\": \"University of Birmingham\", \"sector\": \"university\", \"type\": \"university\", \"topic\": \"mixed\", \"precision\": \"estimate\", \"artefact_count\": 4500000}, {\"institution\": \"Unversity of Warwick\", \"sector\": \"university\", \"type\": \"university\", \"topic\": \"mixed\", \"precision\": \"estimate\", \"artefact_count\": 16000}, {\"institution\": \"Manchester Metropolitan Unversity\", \"sector\": \"university\", \"type\": \"university\", \"topic\": \"mixed\", \"precision\": \"estimate\", \"artefact_count\": 0}, {\"institution\": \"Swansea University\", \"sector\": \"university\", \"type\": \"university\", \"topic\": \"mixed\", \"precision\": \"estimate\", \"artefact_count\": 1700}, {\"institution\": \"University of Brighton\", \"sector\": \"university\", \"type\": \"university\", \"topic\": \"mixed\", \"precision\": \"estimate\", \"artefact_count\": 50000}, {\"institution\": \"SOAS, University of London\", \"sector\": \"university\", \"type\": \"university\", \"topic\": \"mixed\", \"precision\": \"estimate\", \"artefact_count\": 60000}, {\"institution\": \"University of Aberdeen\", \"sector\": \"university\", \"type\": \"university\", \"topic\": \"mixed\", \"precision\": \"estimate\", \"artefact_count\": 530000}, {\"institution\": \"University of Bristol\", \"sector\": \"university\", \"type\": \"university\", \"topic\": \"mixed\", \"precision\": \"estimate\", \"artefact_count\": 100000}, {\"institution\": \"University of Leeds\", \"sector\": \"university\", \"type\": \"university\", \"topic\": \"mixed\", \"precision\": \"estimate\", \"artefact_count\": 350000}, {\"institution\": \"University of Sheffield\", \"sector\": \"university\", \"type\": \"university\", \"topic\": \"mixed\", \"precision\": \"estimate\", \"artefact_count\": 30000}, {\"institution\": \"University of St Andrews\", \"sector\": \"university\", \"type\": \"university\", \"topic\": \"mixed\", \"precision\": \"estimate\", \"artefact_count\": 200000}, {\"institution\": \"Royal College of Surgeons\", \"sector\": \"university\", \"type\": \"university\", \"topic\": \"medicine\", \"precision\": \"estimate\", \"artefact_count\": 3500}, {\"institution\": \"British Library\", \"sector\": \"library\", \"type\": \"library\", \"topic\": \"mixed\", \"precision\": \"estimate\", \"artefact_count\": 33810000}, {\"institution\": \"Chetham's Library\", \"sector\": \"library\", \"type\": \"library\", \"topic\": \"mixed\", \"precision\": \"estimate\", \"artefact_count\": 121041}, {\"institution\": \"Glasgow Woman's Library\", \"sector\": \"library\", \"type\": \"library\", \"topic\": \"mixed\", \"precision\": \"estimate\", \"artefact_count\": 0}, {\"institution\": \"Lambeth Palace Library\", \"sector\": \"library\", \"type\": \"library\", \"topic\": \"theology\", \"precision\": \"estimate\", \"artefact_count\": 186200}, {\"institution\": \"National Library of Wales\", \"sector\": \"library\", \"type\": \"library\", \"topic\": \"mixed\", \"precision\": \"estimate\", \"artefact_count\": 7540000}, {\"institution\": \"National Library of Scotland\", \"sector\": \"library\", \"type\": \"library\", \"topic\": \"mixed\", \"precision\": \"estimate\", \"artefact_count\": 37000000}, {\"institution\": \"Amgueddfa Cymru (National Museum Wales)\", \"sector\": \"national\", \"type\": \"museum\", \"topic\": \"mixed\", \"precision\": \"estimate\", \"artefact_count\": 5319585}, {\"institution\": \"Historic Royal Palaces\", \"sector\": \"national\", \"type\": \"building\", \"topic\": \"mixed\", \"precision\": \"estimate\", \"artefact_count\": 60000}, {\"institution\": \"National Football Museum\", \"sector\": \"national\", \"type\": \"museum\", \"topic\": \"mixed\", \"precision\": \"estimate\", \"artefact_count\": 40000}, {\"institution\": \"National Justice Museum\", \"sector\": \"national\", \"type\": \"museum\", \"topic\": \"mixed\", \"precision\": \"estimate\", \"artefact_count\": 40000}, {\"institution\": \"National Mining Museum Scotland\", \"sector\": \"national\", \"type\": \"museum\", \"topic\": \"industry\", \"precision\": \"estimate\", \"artefact_count\": 100000}, {\"institution\": \"National Museum of the Royal Navy\", \"sector\": \"national\", \"type\": \"museum\", \"topic\": \"maritime\", \"precision\": \"estimate\", \"artefact_count\": 2500000}, {\"institution\": \"National Museums NI\", \"sector\": \"national\", \"type\": \"museum\", \"topic\": \"mixed\", \"precision\": \"estimate\", \"artefact_count\": 1400000}, {\"institution\": \"National Museums Scotland\", \"sector\": \"national\", \"type\": \"museum\", \"topic\": \"mixed\", \"precision\": \"estimate\", \"artefact_count\": 12000000}, {\"institution\": \"National Tramway Museum\", \"sector\": \"national\", \"type\": \"museum\", \"topic\": \"mixed\", \"precision\": \"estimate\", \"artefact_count\": 46690}, {\"institution\": \"National Trust\", \"sector\": \"national\", \"type\": \"building\", \"topic\": \"art\", \"precision\": \"estimate\", \"artefact_count\": 1000000}, {\"institution\": \"National Trust for Scotland\", \"sector\": \"national\", \"type\": \"building\", \"topic\": \"art\", \"precision\": \"estimate\", \"artefact_count\": 300000}, {\"institution\": \"National Waterways Museum\", \"sector\": \"national\", \"type\": \"building\", \"topic\": \"transport\", \"precision\": \"estimate\", \"artefact_count\": 150000}, {\"institution\": \"Royal Collection Trust\", \"sector\": \"national\", \"type\": \"museum\", \"topic\": \"art\", \"precision\": \"estimate\", \"artefact_count\": 1000000}, {\"institution\": \"Government Art Collection\", \"sector\": \"national\", \"type\": \"museum\", \"topic\": \"art\", \"precision\": \"estimate\", \"artefact_count\": 15000}, {\"institution\": \"Historic Environment Scotland\", \"sector\": \"national\", \"type\": \"museum\", \"topic\": \"heritage\", \"precision\": \"estimate\", \"artefact_count\": 41000}, {\"institution\": \"People's History Museum\", \"sector\": \"national\", \"type\": \"museum\", \"topic\": \"social\", \"precision\": \"estimate\", \"artefact_count\": 5680}, {\"institution\": \"Portable Antiquities Scheme\", \"sector\": \"national\", \"type\": \"museum\", \"topic\": \"archaeology\", \"precision\": \"estimate\", \"artefact_count\": 1751232}, {\"institution\": \"Royal Air Force Museum\", \"sector\": \"national\", \"type\": \"museum\", \"topic\": \"military\", \"precision\": \"estimate\", \"artefact_count\": 1300000}, {\"institution\": \"Royal Botanic Gardens Kew\", \"sector\": \"national\", \"type\": \"museum\", \"topic\": \"nature\", \"precision\": \"estimate\", \"artefact_count\": 7000000}, {\"institution\": \"Royal Collection\", \"sector\": \"national\", \"type\": \"museum\", \"topic\": \"nature\", \"precision\": \"estimate\", \"artefact_count\": 1000000}, {\"institution\": \"Courtauld Gallery\", \"sector\": \"independent\", \"type\": \"gallery\", \"topic\": \"art\", \"precision\": \"estimate\", \"artefact_count\": 33501}, {\"institution\": \"Dulwich Picture Gallery\", \"sector\": \"independent\", \"type\": \"gallery\", \"topic\": \"art\", \"precision\": \"estimate\", \"artefact_count\": 600}, {\"institution\": \"Manchester Art Gallery\", \"sector\": \"independent\", \"type\": \"gallery\", \"topic\": \"art\", \"precision\": \"estimate\", \"artefact_count\": 46000}, {\"institution\": \"National Galleries Scotland\", \"sector\": \"independent\", \"type\": \"gallery\", \"topic\": \"art\", \"precision\": \"estimate\", \"artefact_count\": 120000}, {\"institution\": \"Bowes Museum\", \"sector\": \"independent\", \"type\": \"museum\", \"topic\": \"art\", \"precision\": \"estimate\", \"artefact_count\": 30000}, {\"institution\": \"Britten Pears\", \"sector\": \"independent\", \"type\": \"museum\", \"topic\": \"art\", \"precision\": \"estimate\", \"artefact_count\": 1200}, {\"institution\": \"Chatham Historic Dockyard\", \"sector\": \"independent\", \"type\": \"building\", \"topic\": \"maritime\", \"precision\": \"estimate\", \"artefact_count\": 70000}, {\"institution\": \"English Heritage Trust\", \"sector\": \"independent\", \"type\": \"building\", \"topic\": \"history\", \"precision\": \"estimate\", \"artefact_count\": 700000}, {\"institution\": \"Gordon Highlanders Museum\", \"sector\": \"independent\", \"type\": \"museum\", \"topic\": \"military\", \"precision\": \"estimate\", \"artefact_count\": 40000}, {\"institution\": \"Ironbridge Gorge Museum Trust\", \"sector\": \"independent\", \"type\": \"museum\", \"topic\": \"industry\", \"precision\": \"estimate\", \"artefact_count\": 400000}, {\"institution\": \"Jewish Museum London\", \"sector\": \"independent\", \"type\": \"museum\", \"topic\": \"social\", \"precision\": \"estimate\", \"artefact_count\": 40000}, {\"institution\": \"London Transport Museum\", \"sector\": \"independent\", \"type\": \"museum\", \"topic\": \"transport\", \"precision\": \"estimate\", \"artefact_count\": 500000}, {\"institution\": \"Manchester Jewish Museum\", \"sector\": \"independent\", \"type\": \"museum\", \"topic\": \"social\", \"precision\": \"estimate\", \"artefact_count\": 31000}, {\"institution\": \"Mary Rose Trust\", \"sector\": \"independent\", \"type\": \"museum\", \"topic\": \"maritime\", \"precision\": \"estimate\", \"artefact_count\": 19000}, {\"institution\": \"Media Archive for Central England (MACE)\", \"sector\": \"independent\", \"type\": \"archive\", \"topic\": \"media\", \"precision\": \"estimate\", \"artefact_count\": 65000}, {\"institution\": \"Food Museum\", \"sector\": \"independent\", \"type\": \"museum\", \"topic\": \"social\", \"precision\": \"estimate\", \"artefact_count\": 40000}, {\"institution\": \"Museum of Freemasonry\", \"sector\": \"independent\", \"type\": \"museum\", \"topic\": \"social\", \"precision\": \"estimate\", \"artefact_count\": 90000}, {\"institution\": \"Museum of Lead Mining\", \"sector\": \"independent\", \"type\": \"museum\", \"topic\": \"industry\", \"precision\": \"estimate\", \"artefact_count\": 2572}, {\"institution\": \"Museum of Scottish Railways\", \"sector\": \"independent\", \"type\": \"museum\", \"topic\": \"industry\", \"precision\": \"estimate\", \"artefact_count\": 50000}, {\"institution\": \"Paxton Trust\", \"sector\": \"independent\", \"type\": \"building\", \"topic\": \"art\", \"precision\": \"estimate\", \"artefact_count\": 3754}, {\"institution\": \"Pier Arts Centre\", \"sector\": \"independent\", \"type\": \"gallery\", \"topic\": \"art\", \"precision\": \"estimate\", \"artefact_count\": 180}, {\"institution\": \"Postal Museum\", \"sector\": \"independent\", \"type\": \"museum\", \"topic\": \"social\", \"precision\": \"estimate\", \"artefact_count\": 60000}, {\"institution\": \"Royal Artillery Museum\", \"sector\": \"independent\", \"type\": \"museum\", \"topic\": \"military\", \"precision\": \"estimate\", \"artefact_count\": 30000}, {\"institution\": \"Royal Engineers Museum\", \"sector\": \"independent\", \"type\": \"museum\", \"topic\": \"military\", \"precision\": \"estimate\", \"artefact_count\": 1000000}, {\"institution\": \"Royal Scottish Academy of Art & Architecture\", \"sector\": \"independent\", \"type\": \"museum\", \"topic\": \"art\", \"precision\": \"estimate\", \"artefact_count\": 9000}, {\"institution\": \"Aberdeenshire Council Museums\", \"sector\": \"regional\", \"type\": \"museum\", \"topic\": \"mixed\", \"precision\": \"estimate\", \"artefact_count\": 250000}, {\"institution\": \"Barnsley Museums\", \"sector\": \"regional\", \"type\": \"museum\", \"topic\": \"mixed\", \"precision\": \"estimate\", \"artefact_count\": 711400}, {\"institution\": \"Birmingham Museums Trust\", \"sector\": \"regional\", \"type\": \"museum\", \"topic\": \"art\", \"precision\": \"estimate\", \"artefact_count\": 800000}, {\"institution\": \"Black Country Living Museum\", \"sector\": \"regional\", \"type\": \"museum\", \"topic\": \"history\", \"precision\": \"estimate\", \"artefact_count\": 80000}, {\"institution\": \"Bradford District Museums & Galleries\", \"sector\": \"regional\", \"type\": \"museum\", \"topic\": \"mixed\", \"precision\": \"estimate\", \"artefact_count\": 837837}, {\"institution\": \"Bristol Museums\", \"sector\": \"regional\", \"type\": \"museum\", \"topic\": \"mixed\", \"precision\": \"estimate\", \"artefact_count\": 2000000}, {\"institution\": \"Culture Coventry\", \"sector\": \"regional\", \"type\": \"museum\", \"topic\": \"mixed\", \"precision\": \"estimate\", \"artefact_count\": 1000000}, {\"institution\": \"Culture Perth and Kinross\", \"sector\": \"regional\", \"type\": \"mixed\", \"topic\": \"mixed\", \"precision\": \"estimate\", \"artefact_count\": 500000}, {\"institution\": \"Culture Trust Luton\", \"sector\": \"regional\", \"type\": \"museum\", \"topic\": \"mixed\", \"precision\": \"estimate\", \"artefact_count\": 1105051}, {\"institution\": \"Dundee Heritage Trust\", \"sector\": \"regional\", \"type\": \"museum\", \"topic\": \"mixed\", \"precision\": \"estimate\", \"artefact_count\": 0}, {\"institution\": \"Elgin Museum\", \"sector\": \"regional\", \"type\": \"museum\", \"topic\": \"mixed\", \"precision\": \"estimate\", \"artefact_count\": 36000}, {\"institution\": \"Glasgow Museums\", \"sector\": \"regional\", \"type\": \"museum\", \"topic\": \"mixed\", \"precision\": \"estimate\", \"artefact_count\": 1000000}, {\"institution\": \"Heritage Doncaster\", \"sector\": \"regional\", \"type\": \"museum\", \"topic\": \"mixed\", \"precision\": \"estimate\", \"artefact_count\": 406750}, {\"institution\": \"Highland Folk Museum\", \"sector\": \"regional\", \"type\": \"museum\", \"topic\": \"social\", \"precision\": \"estimate\", \"artefact_count\": 10000}, {\"institution\": \"Leeds Museums & Galleries\", \"sector\": \"regional\", \"type\": \"museum\", \"topic\": \"mixed\", \"precision\": \"estimate\", \"artefact_count\": 1300000}, {\"institution\": \"Leicester Museums\", \"sector\": \"regional\", \"type\": \"museum\", \"topic\": \"mixed\", \"precision\": \"estimate\", \"artefact_count\": 1500000}, {\"institution\": \"Manchester Art Gallery\", \"sector\": \"regional\", \"type\": \"gallery\", \"topic\": \"art\", \"precision\": \"estimate\", \"artefact_count\": 50000}, {\"institution\": \"Edinburgh Museums\", \"sector\": \"regional\", \"type\": \"museum\", \"topic\": \"mixed\", \"precision\": \"estimate\", \"artefact_count\": 220000}, {\"institution\": \"Museums Northhumberland\", \"sector\": \"regional\", \"type\": \"museum\", \"topic\": \"mixed\", \"precision\": \"estimate\", \"artefact_count\": 25000}, {\"institution\": \"Northhampton Museums\", \"sector\": \"regional\", \"type\": \"museum\", \"topic\": \"mixed\", \"precision\": \"estimate\", \"artefact_count\": 44024}, {\"institution\": \"Orkney Museums\", \"sector\": \"regional\", \"type\": \"museum\", \"topic\": \"mixed\", \"precision\": \"estimate\", \"artefact_count\": 100000}, {\"institution\": \"Poole Museums\", \"sector\": \"regional\", \"type\": \"museum\", \"topic\": \"mixed\", \"precision\": \"estimate\", \"artefact_count\": 50000}, {\"institution\": \"Potteries Museum and Art Gallery\", \"sector\": \"regional\", \"type\": \"museum\", \"topic\": \"arts\", \"precision\": \"estimate\", \"artefact_count\": 1000000}, {\"institution\": \"Preston Park Museum & Grounds\", \"sector\": \"regional\", \"type\": \"museum\", \"topic\": \"social\", \"precision\": \"estimate\", \"artefact_count\": 100000}, {\"institution\": \"Ripon Museums\", \"sector\": \"regional\", \"type\": \"museum\", \"topic\": \"social\", \"precision\": \"estimate\", \"artefact_count\": 9000}, {\"institution\": \"Royal Albert Memorial Museum\", \"sector\": \"regional\", \"type\": \"museum\", \"topic\": \"mixed\", \"precision\": \"estimate\", \"artefact_count\": 1000000}, {\"institution\": \"Salisbury Museum\", \"sector\": \"regional\", \"type\": \"museum\", \"topic\": \"mixed\", \"precision\": \"estimate\", \"artefact_count\": 100000}, {\"institution\": \"Victoria & Albert Museum\", \"sector\": \"dcms\", \"type\": \"museum\", \"topic\": \"art\", \"precision\": \"estimate\", \"artefact_count\": 2800000}, {\"institution\": \"Science Museum Group\", \"sector\": \"dcms\", \"type\": \"museum\", \"topic\": \"science\", \"precision\": \"estimate\", \"artefact_count\": 7360793}, {\"institution\": \"Museum of the Home\", \"sector\": \"dcms\", \"type\": \"museum\", \"topic\": \"history\", \"precision\": \"estimate\", \"artefact_count\": 40000}, {\"institution\": \"Horniman Museum\", \"sector\": \"dcms\", \"type\": \"museum\", \"topic\": \"history\", \"precision\": \"estimate\", \"artefact_count\": 350000}, {\"institution\": \"Imperial War Museums\", \"sector\": \"dcms\", \"type\": \"museum\", \"topic\": \"history\", \"precision\": \"estimate\", \"artefact_count\": 1000000}, {\"institution\": \"National Gallery\", \"sector\": \"dcms\", \"type\": \"gallery\", \"topic\": \"art\", \"precision\": \"estimate\", \"artefact_count\": 2626}, {\"institution\": \"National Museums Liverpool\", \"sector\": \"dcms\", \"type\": \"museum\", \"topic\": \"history\", \"precision\": \"estimate\", \"artefact_count\": 4000000}, {\"institution\": \"National Portrait Gallery\", \"sector\": \"dcms\", \"type\": \"gallery\", \"topic\": \"art\", \"precision\": \"estimate\", \"artefact_count\": 350000}, {\"institution\": \"Natural History Museum\", \"sector\": \"dcms\", \"type\": \"museum\", \"topic\": \"nature\", \"precision\": \"estimate\", \"artefact_count\": 80000000}, {\"institution\": \"Royal Armouries\", \"sector\": \"dcms\", \"type\": \"museum\", \"topic\": \"history\", \"precision\": \"estimate\", \"artefact_count\": 70000}, {\"institution\": \"Royal Museums Greenwich\", \"sector\": \"dcms\", \"type\": \"museum\", \"topic\": \"history\", \"precision\": \"estimate\", \"artefact_count\": 3000000}, {\"institution\": \"Sir John Soane's Museum\", \"sector\": \"dcms\", \"type\": \"museum\", \"topic\": \"history\", \"precision\": \"estimate\", \"artefact_count\": 52000}, {\"institution\": \"Tate Gallery Group\", \"sector\": \"dcms\", \"type\": \"gallery\", \"topic\": \"art\", \"precision\": \"estimate\", \"artefact_count\": 70000}, {\"institution\": \"The Wallace Collection\", \"sector\": \"dcms\", \"type\": \"museum\", \"topic\": \"art\", \"precision\": \"estimate\", \"artefact_count\": 5637}, {\"institution\": \"British Museum\", \"sector\": \"dcms\", \"type\": \"museum\", \"topic\": \"history\", \"precision\": \"estimate\", \"artefact_count\": 8000000}]}}, {\"mode\": \"vega-lite\"});\n",
       "</script>"
      ],
      "text/plain": [
       "alt.Chart(...)"
      ]
     },
     "execution_count": 86,
     "metadata": {},
     "output_type": "execute_result"
    }
   ],
   "source": [
    "title = alt.TitleParams('Artefacts by institution type', anchor='middle')\n",
    "alt.Chart(artefacts_df,title=title).mark_bar().encode(\n",
    "    alt.Color('institution:N', sort='descending', legend=alt.Legend(orient='bottom',columns=4,symbolLimit=80)),\n",
    "    column='precision:O',\n",
    "    tooltip=['institution', 'artefact_count'],\n",
    "    x='artefact_count:Q',\n",
    "    y='type:N',\n",
    ").properties(width=900).resolve_scale(x='independent').configure(numberFormat='.2s')"
   ]
  },
  {
   "cell_type": "markdown",
   "id": "fdcd09e8-c0b8-4a8d-991a-37ddbde9318a",
   "metadata": {
    "editable": true,
    "slideshow": {
     "slide_type": ""
    },
    "tags": []
   },
   "source": [
    "## Artefacts by institution type (without Natural History)"
   ]
  },
  {
   "cell_type": "code",
   "execution_count": 87,
   "id": "6d61aac0-17c8-4178-bb49-62bf38256ac8",
   "metadata": {
    "editable": true,
    "slideshow": {
     "slide_type": ""
    },
    "tags": [
     "remove-input",
     "full-size"
    ]
   },
   "outputs": [
    {
     "data": {
      "text/html": [
       "\n",
       "<style>\n",
       "  #altair-viz-ffff6705f2824bff8a31670dc893cda5.vega-embed {\n",
       "    width: 100%;\n",
       "    display: flex;\n",
       "  }\n",
       "\n",
       "  #altair-viz-ffff6705f2824bff8a31670dc893cda5.vega-embed details,\n",
       "  #altair-viz-ffff6705f2824bff8a31670dc893cda5.vega-embed details summary {\n",
       "    position: relative;\n",
       "  }\n",
       "</style>\n",
       "<div id=\"altair-viz-ffff6705f2824bff8a31670dc893cda5\"></div>\n",
       "<script type=\"text/javascript\">\n",
       "  var VEGA_DEBUG = (typeof VEGA_DEBUG == \"undefined\") ? {} : VEGA_DEBUG;\n",
       "  (function(spec, embedOpt){\n",
       "    let outputDiv = document.currentScript.previousElementSibling;\n",
       "    if (outputDiv.id !== \"altair-viz-ffff6705f2824bff8a31670dc893cda5\") {\n",
       "      outputDiv = document.getElementById(\"altair-viz-ffff6705f2824bff8a31670dc893cda5\");\n",
       "    }\n",
       "    const paths = {\n",
       "      \"vega\": \"https://cdn.jsdelivr.net/npm/vega@5?noext\",\n",
       "      \"vega-lib\": \"https://cdn.jsdelivr.net/npm/vega-lib?noext\",\n",
       "      \"vega-lite\": \"https://cdn.jsdelivr.net/npm/vega-lite@5.17.0?noext\",\n",
       "      \"vega-embed\": \"https://cdn.jsdelivr.net/npm/vega-embed@6?noext\",\n",
       "    };\n",
       "\n",
       "    function maybeLoadScript(lib, version) {\n",
       "      var key = `${lib.replace(\"-\", \"\")}_version`;\n",
       "      return (VEGA_DEBUG[key] == version) ?\n",
       "        Promise.resolve(paths[lib]) :\n",
       "        new Promise(function(resolve, reject) {\n",
       "          var s = document.createElement('script');\n",
       "          document.getElementsByTagName(\"head\")[0].appendChild(s);\n",
       "          s.async = true;\n",
       "          s.onload = () => {\n",
       "            VEGA_DEBUG[key] = version;\n",
       "            return resolve(paths[lib]);\n",
       "          };\n",
       "          s.onerror = () => reject(`Error loading script: ${paths[lib]}`);\n",
       "          s.src = paths[lib];\n",
       "        });\n",
       "    }\n",
       "\n",
       "    function showError(err) {\n",
       "      outputDiv.innerHTML = `<div class=\"error\" style=\"color:red;\">${err}</div>`;\n",
       "      throw err;\n",
       "    }\n",
       "\n",
       "    function displayChart(vegaEmbed) {\n",
       "      vegaEmbed(outputDiv, spec, embedOpt)\n",
       "        .catch(err => showError(`Javascript Error: ${err.message}<br>This usually means there's a typo in your chart specification. See the javascript console for the full traceback.`));\n",
       "    }\n",
       "\n",
       "    if(typeof define === \"function\" && define.amd) {\n",
       "      requirejs.config({paths});\n",
       "      require([\"vega-embed\"], displayChart, err => showError(`Error loading script: ${err.message}`));\n",
       "    } else {\n",
       "      maybeLoadScript(\"vega\", \"5\")\n",
       "        .then(() => maybeLoadScript(\"vega-lite\", \"5.17.0\"))\n",
       "        .then(() => maybeLoadScript(\"vega-embed\", \"6\"))\n",
       "        .catch(showError)\n",
       "        .then(() => displayChart(vegaEmbed));\n",
       "    }\n",
       "  })({\"config\": {\"view\": {\"continuousWidth\": 300, \"continuousHeight\": 300}, \"numberFormat\": \".2s\"}, \"data\": {\"name\": \"data-d1f32ef773e5d7ce571275c2cbabb600\"}, \"mark\": {\"type\": \"bar\"}, \"encoding\": {\"color\": {\"field\": \"institution\", \"legend\": {\"columns\": 4, \"orient\": \"bottom\", \"symbolLimit\": 80}, \"sort\": \"descending\", \"type\": \"nominal\"}, \"column\": {\"field\": \"precision\", \"type\": \"ordinal\"}, \"tooltip\": [{\"field\": \"institution\", \"type\": \"nominal\"}, {\"field\": \"artefact_count\", \"type\": \"quantitative\"}], \"x\": {\"field\": \"artefact_count\", \"type\": \"quantitative\"}, \"y\": {\"field\": \"type\", \"type\": \"nominal\"}}, \"resolve\": {\"scale\": {\"x\": \"independent\"}}, \"title\": {\"text\": \"Oveview Collection Size (Artefacts) by sector (without Nature Collections)\", \"anchor\": \"middle\"}, \"width\": 900, \"$schema\": \"https://vega.github.io/schema/vega-lite/v5.17.0.json\", \"datasets\": {\"data-d1f32ef773e5d7ce571275c2cbabb600\": [{\"institution\": \"Oxford University\", \"sector\": \"university\", \"type\": \"university\", \"topic\": \"mixed\", \"precision\": \"estimate\", \"artefact_count\": 22530000}, {\"institution\": \"University of Cambridge\", \"sector\": \"university\", \"type\": \"university\", \"topic\": \"mixed\", \"precision\": \"estimate\", \"artefact_count\": 2000000}, {\"institution\": \"Durham University\", \"sector\": \"university\", \"type\": \"university\", \"topic\": \"mixed\", \"precision\": \"estimate\", \"artefact_count\": 106000}, {\"institution\": \"University College London\", \"sector\": \"university\", \"type\": \"university\", \"topic\": \"mixed\", \"precision\": \"estimate\", \"artefact_count\": 164000}, {\"institution\": \"University of Manchester\", \"sector\": \"university\", \"type\": \"university\", \"topic\": \"mixed\", \"precision\": \"estimate\", \"artefact_count\": 8560000}, {\"institution\": \"King's College London\", \"sector\": \"university\", \"type\": \"university\", \"topic\": \"mixed\", \"precision\": \"estimate\", \"artefact_count\": 200000}, {\"institution\": \"University of Birmingham\", \"sector\": \"university\", \"type\": \"university\", \"topic\": \"mixed\", \"precision\": \"estimate\", \"artefact_count\": 4500000}, {\"institution\": \"Unversity of Warwick\", \"sector\": \"university\", \"type\": \"university\", \"topic\": \"mixed\", \"precision\": \"estimate\", \"artefact_count\": 16000}, {\"institution\": \"Manchester Metropolitan Unversity\", \"sector\": \"university\", \"type\": \"university\", \"topic\": \"mixed\", \"precision\": \"estimate\", \"artefact_count\": 0}, {\"institution\": \"Swansea University\", \"sector\": \"university\", \"type\": \"university\", \"topic\": \"mixed\", \"precision\": \"estimate\", \"artefact_count\": 1700}, {\"institution\": \"University of Brighton\", \"sector\": \"university\", \"type\": \"university\", \"topic\": \"mixed\", \"precision\": \"estimate\", \"artefact_count\": 50000}, {\"institution\": \"SOAS, University of London\", \"sector\": \"university\", \"type\": \"university\", \"topic\": \"mixed\", \"precision\": \"estimate\", \"artefact_count\": 60000}, {\"institution\": \"University of Aberdeen\", \"sector\": \"university\", \"type\": \"university\", \"topic\": \"mixed\", \"precision\": \"estimate\", \"artefact_count\": 530000}, {\"institution\": \"University of Bristol\", \"sector\": \"university\", \"type\": \"university\", \"topic\": \"mixed\", \"precision\": \"estimate\", \"artefact_count\": 100000}, {\"institution\": \"University of Leeds\", \"sector\": \"university\", \"type\": \"university\", \"topic\": \"mixed\", \"precision\": \"estimate\", \"artefact_count\": 350000}, {\"institution\": \"University of Sheffield\", \"sector\": \"university\", \"type\": \"university\", \"topic\": \"mixed\", \"precision\": \"estimate\", \"artefact_count\": 30000}, {\"institution\": \"University of St Andrews\", \"sector\": \"university\", \"type\": \"university\", \"topic\": \"mixed\", \"precision\": \"estimate\", \"artefact_count\": 200000}, {\"institution\": \"Royal College of Surgeons\", \"sector\": \"university\", \"type\": \"university\", \"topic\": \"medicine\", \"precision\": \"estimate\", \"artefact_count\": 3500}, {\"institution\": \"British Library\", \"sector\": \"library\", \"type\": \"library\", \"topic\": \"mixed\", \"precision\": \"estimate\", \"artefact_count\": 33810000}, {\"institution\": \"Chetham's Library\", \"sector\": \"library\", \"type\": \"library\", \"topic\": \"mixed\", \"precision\": \"estimate\", \"artefact_count\": 121041}, {\"institution\": \"Glasgow Woman's Library\", \"sector\": \"library\", \"type\": \"library\", \"topic\": \"mixed\", \"precision\": \"estimate\", \"artefact_count\": 0}, {\"institution\": \"Lambeth Palace Library\", \"sector\": \"library\", \"type\": \"library\", \"topic\": \"theology\", \"precision\": \"estimate\", \"artefact_count\": 186200}, {\"institution\": \"National Library of Wales\", \"sector\": \"library\", \"type\": \"library\", \"topic\": \"mixed\", \"precision\": \"estimate\", \"artefact_count\": 7540000}, {\"institution\": \"National Library of Scotland\", \"sector\": \"library\", \"type\": \"library\", \"topic\": \"mixed\", \"precision\": \"estimate\", \"artefact_count\": 37000000}, {\"institution\": \"Amgueddfa Cymru (National Museum Wales)\", \"sector\": \"national\", \"type\": \"museum\", \"topic\": \"mixed\", \"precision\": \"estimate\", \"artefact_count\": 5319585}, {\"institution\": \"Historic Royal Palaces\", \"sector\": \"national\", \"type\": \"building\", \"topic\": \"mixed\", \"precision\": \"estimate\", \"artefact_count\": 60000}, {\"institution\": \"National Football Museum\", \"sector\": \"national\", \"type\": \"museum\", \"topic\": \"mixed\", \"precision\": \"estimate\", \"artefact_count\": 40000}, {\"institution\": \"National Justice Museum\", \"sector\": \"national\", \"type\": \"museum\", \"topic\": \"mixed\", \"precision\": \"estimate\", \"artefact_count\": 40000}, {\"institution\": \"National Mining Museum Scotland\", \"sector\": \"national\", \"type\": \"museum\", \"topic\": \"industry\", \"precision\": \"estimate\", \"artefact_count\": 100000}, {\"institution\": \"National Museum of the Royal Navy\", \"sector\": \"national\", \"type\": \"museum\", \"topic\": \"maritime\", \"precision\": \"estimate\", \"artefact_count\": 2500000}, {\"institution\": \"National Museums NI\", \"sector\": \"national\", \"type\": \"museum\", \"topic\": \"mixed\", \"precision\": \"estimate\", \"artefact_count\": 1400000}, {\"institution\": \"National Museums Scotland\", \"sector\": \"national\", \"type\": \"museum\", \"topic\": \"mixed\", \"precision\": \"estimate\", \"artefact_count\": 12000000}, {\"institution\": \"National Tramway Museum\", \"sector\": \"national\", \"type\": \"museum\", \"topic\": \"mixed\", \"precision\": \"estimate\", \"artefact_count\": 46690}, {\"institution\": \"National Trust\", \"sector\": \"national\", \"type\": \"building\", \"topic\": \"art\", \"precision\": \"estimate\", \"artefact_count\": 1000000}, {\"institution\": \"National Trust for Scotland\", \"sector\": \"national\", \"type\": \"building\", \"topic\": \"art\", \"precision\": \"estimate\", \"artefact_count\": 300000}, {\"institution\": \"National Waterways Museum\", \"sector\": \"national\", \"type\": \"building\", \"topic\": \"transport\", \"precision\": \"estimate\", \"artefact_count\": 150000}, {\"institution\": \"Royal Collection Trust\", \"sector\": \"national\", \"type\": \"museum\", \"topic\": \"art\", \"precision\": \"estimate\", \"artefact_count\": 1000000}, {\"institution\": \"Government Art Collection\", \"sector\": \"national\", \"type\": \"museum\", \"topic\": \"art\", \"precision\": \"estimate\", \"artefact_count\": 15000}, {\"institution\": \"Historic Environment Scotland\", \"sector\": \"national\", \"type\": \"museum\", \"topic\": \"heritage\", \"precision\": \"estimate\", \"artefact_count\": 41000}, {\"institution\": \"People's History Museum\", \"sector\": \"national\", \"type\": \"museum\", \"topic\": \"social\", \"precision\": \"estimate\", \"artefact_count\": 5680}, {\"institution\": \"Portable Antiquities Scheme\", \"sector\": \"national\", \"type\": \"museum\", \"topic\": \"archaeology\", \"precision\": \"estimate\", \"artefact_count\": 1751232}, {\"institution\": \"Royal Air Force Museum\", \"sector\": \"national\", \"type\": \"museum\", \"topic\": \"military\", \"precision\": \"estimate\", \"artefact_count\": 1300000}, {\"institution\": \"Courtauld Gallery\", \"sector\": \"independent\", \"type\": \"gallery\", \"topic\": \"art\", \"precision\": \"estimate\", \"artefact_count\": 33501}, {\"institution\": \"Dulwich Picture Gallery\", \"sector\": \"independent\", \"type\": \"gallery\", \"topic\": \"art\", \"precision\": \"estimate\", \"artefact_count\": 600}, {\"institution\": \"Manchester Art Gallery\", \"sector\": \"independent\", \"type\": \"gallery\", \"topic\": \"art\", \"precision\": \"estimate\", \"artefact_count\": 46000}, {\"institution\": \"National Galleries Scotland\", \"sector\": \"independent\", \"type\": \"gallery\", \"topic\": \"art\", \"precision\": \"estimate\", \"artefact_count\": 120000}, {\"institution\": \"Bowes Museum\", \"sector\": \"independent\", \"type\": \"museum\", \"topic\": \"art\", \"precision\": \"estimate\", \"artefact_count\": 30000}, {\"institution\": \"Britten Pears\", \"sector\": \"independent\", \"type\": \"museum\", \"topic\": \"art\", \"precision\": \"estimate\", \"artefact_count\": 1200}, {\"institution\": \"Chatham Historic Dockyard\", \"sector\": \"independent\", \"type\": \"building\", \"topic\": \"maritime\", \"precision\": \"estimate\", \"artefact_count\": 70000}, {\"institution\": \"English Heritage Trust\", \"sector\": \"independent\", \"type\": \"building\", \"topic\": \"history\", \"precision\": \"estimate\", \"artefact_count\": 700000}, {\"institution\": \"Gordon Highlanders Museum\", \"sector\": \"independent\", \"type\": \"museum\", \"topic\": \"military\", \"precision\": \"estimate\", \"artefact_count\": 40000}, {\"institution\": \"Ironbridge Gorge Museum Trust\", \"sector\": \"independent\", \"type\": \"museum\", \"topic\": \"industry\", \"precision\": \"estimate\", \"artefact_count\": 400000}, {\"institution\": \"Jewish Museum London\", \"sector\": \"independent\", \"type\": \"museum\", \"topic\": \"social\", \"precision\": \"estimate\", \"artefact_count\": 40000}, {\"institution\": \"London Transport Museum\", \"sector\": \"independent\", \"type\": \"museum\", \"topic\": \"transport\", \"precision\": \"estimate\", \"artefact_count\": 500000}, {\"institution\": \"Manchester Jewish Museum\", \"sector\": \"independent\", \"type\": \"museum\", \"topic\": \"social\", \"precision\": \"estimate\", \"artefact_count\": 31000}, {\"institution\": \"Mary Rose Trust\", \"sector\": \"independent\", \"type\": \"museum\", \"topic\": \"maritime\", \"precision\": \"estimate\", \"artefact_count\": 19000}, {\"institution\": \"Media Archive for Central England (MACE)\", \"sector\": \"independent\", \"type\": \"archive\", \"topic\": \"media\", \"precision\": \"estimate\", \"artefact_count\": 65000}, {\"institution\": \"Food Museum\", \"sector\": \"independent\", \"type\": \"museum\", \"topic\": \"social\", \"precision\": \"estimate\", \"artefact_count\": 40000}, {\"institution\": \"Museum of Freemasonry\", \"sector\": \"independent\", \"type\": \"museum\", \"topic\": \"social\", \"precision\": \"estimate\", \"artefact_count\": 90000}, {\"institution\": \"Museum of Lead Mining\", \"sector\": \"independent\", \"type\": \"museum\", \"topic\": \"industry\", \"precision\": \"estimate\", \"artefact_count\": 2572}, {\"institution\": \"Museum of Scottish Railways\", \"sector\": \"independent\", \"type\": \"museum\", \"topic\": \"industry\", \"precision\": \"estimate\", \"artefact_count\": 50000}, {\"institution\": \"Paxton Trust\", \"sector\": \"independent\", \"type\": \"building\", \"topic\": \"art\", \"precision\": \"estimate\", \"artefact_count\": 3754}, {\"institution\": \"Pier Arts Centre\", \"sector\": \"independent\", \"type\": \"gallery\", \"topic\": \"art\", \"precision\": \"estimate\", \"artefact_count\": 180}, {\"institution\": \"Postal Museum\", \"sector\": \"independent\", \"type\": \"museum\", \"topic\": \"social\", \"precision\": \"estimate\", \"artefact_count\": 60000}, {\"institution\": \"Royal Artillery Museum\", \"sector\": \"independent\", \"type\": \"museum\", \"topic\": \"military\", \"precision\": \"estimate\", \"artefact_count\": 30000}, {\"institution\": \"Royal Engineers Museum\", \"sector\": \"independent\", \"type\": \"museum\", \"topic\": \"military\", \"precision\": \"estimate\", \"artefact_count\": 1000000}, {\"institution\": \"Royal Scottish Academy of Art & Architecture\", \"sector\": \"independent\", \"type\": \"museum\", \"topic\": \"art\", \"precision\": \"estimate\", \"artefact_count\": 9000}, {\"institution\": \"Aberdeenshire Council Museums\", \"sector\": \"regional\", \"type\": \"museum\", \"topic\": \"mixed\", \"precision\": \"estimate\", \"artefact_count\": 250000}, {\"institution\": \"Barnsley Museums\", \"sector\": \"regional\", \"type\": \"museum\", \"topic\": \"mixed\", \"precision\": \"estimate\", \"artefact_count\": 711400}, {\"institution\": \"Birmingham Museums Trust\", \"sector\": \"regional\", \"type\": \"museum\", \"topic\": \"art\", \"precision\": \"estimate\", \"artefact_count\": 800000}, {\"institution\": \"Black Country Living Museum\", \"sector\": \"regional\", \"type\": \"museum\", \"topic\": \"history\", \"precision\": \"estimate\", \"artefact_count\": 80000}, {\"institution\": \"Bradford District Museums & Galleries\", \"sector\": \"regional\", \"type\": \"museum\", \"topic\": \"mixed\", \"precision\": \"estimate\", \"artefact_count\": 837837}, {\"institution\": \"Bristol Museums\", \"sector\": \"regional\", \"type\": \"museum\", \"topic\": \"mixed\", \"precision\": \"estimate\", \"artefact_count\": 2000000}, {\"institution\": \"Culture Coventry\", \"sector\": \"regional\", \"type\": \"museum\", \"topic\": \"mixed\", \"precision\": \"estimate\", \"artefact_count\": 1000000}, {\"institution\": \"Culture Perth and Kinross\", \"sector\": \"regional\", \"type\": \"mixed\", \"topic\": \"mixed\", \"precision\": \"estimate\", \"artefact_count\": 500000}, {\"institution\": \"Culture Trust Luton\", \"sector\": \"regional\", \"type\": \"museum\", \"topic\": \"mixed\", \"precision\": \"estimate\", \"artefact_count\": 1105051}, {\"institution\": \"Dundee Heritage Trust\", \"sector\": \"regional\", \"type\": \"museum\", \"topic\": \"mixed\", \"precision\": \"estimate\", \"artefact_count\": 0}, {\"institution\": \"Elgin Museum\", \"sector\": \"regional\", \"type\": \"museum\", \"topic\": \"mixed\", \"precision\": \"estimate\", \"artefact_count\": 36000}, {\"institution\": \"Glasgow Museums\", \"sector\": \"regional\", \"type\": \"museum\", \"topic\": \"mixed\", \"precision\": \"estimate\", \"artefact_count\": 1000000}, {\"institution\": \"Heritage Doncaster\", \"sector\": \"regional\", \"type\": \"museum\", \"topic\": \"mixed\", \"precision\": \"estimate\", \"artefact_count\": 406750}, {\"institution\": \"Highland Folk Museum\", \"sector\": \"regional\", \"type\": \"museum\", \"topic\": \"social\", \"precision\": \"estimate\", \"artefact_count\": 10000}, {\"institution\": \"Leeds Museums & Galleries\", \"sector\": \"regional\", \"type\": \"museum\", \"topic\": \"mixed\", \"precision\": \"estimate\", \"artefact_count\": 1300000}, {\"institution\": \"Leicester Museums\", \"sector\": \"regional\", \"type\": \"museum\", \"topic\": \"mixed\", \"precision\": \"estimate\", \"artefact_count\": 1500000}, {\"institution\": \"Manchester Art Gallery\", \"sector\": \"regional\", \"type\": \"gallery\", \"topic\": \"art\", \"precision\": \"estimate\", \"artefact_count\": 50000}, {\"institution\": \"Edinburgh Museums\", \"sector\": \"regional\", \"type\": \"museum\", \"topic\": \"mixed\", \"precision\": \"estimate\", \"artefact_count\": 220000}, {\"institution\": \"Museums Northhumberland\", \"sector\": \"regional\", \"type\": \"museum\", \"topic\": \"mixed\", \"precision\": \"estimate\", \"artefact_count\": 25000}, {\"institution\": \"Northhampton Museums\", \"sector\": \"regional\", \"type\": \"museum\", \"topic\": \"mixed\", \"precision\": \"estimate\", \"artefact_count\": 44024}, {\"institution\": \"Orkney Museums\", \"sector\": \"regional\", \"type\": \"museum\", \"topic\": \"mixed\", \"precision\": \"estimate\", \"artefact_count\": 100000}, {\"institution\": \"Poole Museums\", \"sector\": \"regional\", \"type\": \"museum\", \"topic\": \"mixed\", \"precision\": \"estimate\", \"artefact_count\": 50000}, {\"institution\": \"Potteries Museum and Art Gallery\", \"sector\": \"regional\", \"type\": \"museum\", \"topic\": \"arts\", \"precision\": \"estimate\", \"artefact_count\": 1000000}, {\"institution\": \"Preston Park Museum & Grounds\", \"sector\": \"regional\", \"type\": \"museum\", \"topic\": \"social\", \"precision\": \"estimate\", \"artefact_count\": 100000}, {\"institution\": \"Ripon Museums\", \"sector\": \"regional\", \"type\": \"museum\", \"topic\": \"social\", \"precision\": \"estimate\", \"artefact_count\": 9000}, {\"institution\": \"Royal Albert Memorial Museum\", \"sector\": \"regional\", \"type\": \"museum\", \"topic\": \"mixed\", \"precision\": \"estimate\", \"artefact_count\": 1000000}, {\"institution\": \"Salisbury Museum\", \"sector\": \"regional\", \"type\": \"museum\", \"topic\": \"mixed\", \"precision\": \"estimate\", \"artefact_count\": 100000}, {\"institution\": \"Victoria & Albert Museum\", \"sector\": \"dcms\", \"type\": \"museum\", \"topic\": \"art\", \"precision\": \"estimate\", \"artefact_count\": 2800000}, {\"institution\": \"Science Museum Group\", \"sector\": \"dcms\", \"type\": \"museum\", \"topic\": \"science\", \"precision\": \"estimate\", \"artefact_count\": 7360793}, {\"institution\": \"Museum of the Home\", \"sector\": \"dcms\", \"type\": \"museum\", \"topic\": \"history\", \"precision\": \"estimate\", \"artefact_count\": 40000}, {\"institution\": \"Horniman Museum\", \"sector\": \"dcms\", \"type\": \"museum\", \"topic\": \"history\", \"precision\": \"estimate\", \"artefact_count\": 350000}, {\"institution\": \"Imperial War Museums\", \"sector\": \"dcms\", \"type\": \"museum\", \"topic\": \"history\", \"precision\": \"estimate\", \"artefact_count\": 1000000}, {\"institution\": \"National Gallery\", \"sector\": \"dcms\", \"type\": \"gallery\", \"topic\": \"art\", \"precision\": \"estimate\", \"artefact_count\": 2626}, {\"institution\": \"National Museums Liverpool\", \"sector\": \"dcms\", \"type\": \"museum\", \"topic\": \"history\", \"precision\": \"estimate\", \"artefact_count\": 4000000}, {\"institution\": \"National Portrait Gallery\", \"sector\": \"dcms\", \"type\": \"gallery\", \"topic\": \"art\", \"precision\": \"estimate\", \"artefact_count\": 350000}, {\"institution\": \"Royal Armouries\", \"sector\": \"dcms\", \"type\": \"museum\", \"topic\": \"history\", \"precision\": \"estimate\", \"artefact_count\": 70000}, {\"institution\": \"Royal Museums Greenwich\", \"sector\": \"dcms\", \"type\": \"museum\", \"topic\": \"history\", \"precision\": \"estimate\", \"artefact_count\": 3000000}, {\"institution\": \"Sir John Soane's Museum\", \"sector\": \"dcms\", \"type\": \"museum\", \"topic\": \"history\", \"precision\": \"estimate\", \"artefact_count\": 52000}, {\"institution\": \"Tate Gallery Group\", \"sector\": \"dcms\", \"type\": \"gallery\", \"topic\": \"art\", \"precision\": \"estimate\", \"artefact_count\": 70000}, {\"institution\": \"The Wallace Collection\", \"sector\": \"dcms\", \"type\": \"museum\", \"topic\": \"art\", \"precision\": \"estimate\", \"artefact_count\": 5637}, {\"institution\": \"British Museum\", \"sector\": \"dcms\", \"type\": \"museum\", \"topic\": \"history\", \"precision\": \"estimate\", \"artefact_count\": 8000000}]}}, {\"mode\": \"vega-lite\"});\n",
       "</script>"
      ],
      "text/plain": [
       "alt.Chart(...)"
      ]
     },
     "execution_count": 87,
     "metadata": {},
     "output_type": "execute_result"
    }
   ],
   "source": [
    "title = alt.TitleParams('Artefacts by institution type (without Nature Collections)', anchor='middle')\n",
    "alt.Chart(artefacts_non_nature_df,title=title).mark_bar().encode(\n",
    "    alt.Color('institution:N', sort='descending', legend=alt.Legend(orient='bottom',columns=4,symbolLimit=80)),\n",
    "    column='precision:O',\n",
    "    tooltip=['institution', 'artefact_count'],\n",
    "    x='artefact_count:Q',\n",
    "    y='type:N',\n",
    ").properties(width=900).resolve_scale(x='independent').configure(numberFormat='.2s')"
   ]
  },
  {
   "cell_type": "markdown",
   "id": "b9479d34-88d7-490a-9dbf-11d791c651a3",
   "metadata": {
    "editable": true,
    "slideshow": {
     "slide_type": ""
    },
    "tags": []
   },
   "source": [
    "## Artefacts by cataloguing type"
   ]
  },
  {
   "cell_type": "code",
   "execution_count": 83,
   "id": "b4a127cf-731b-4e29-b400-ec71bc22ce2d",
   "metadata": {
    "editable": true,
    "slideshow": {
     "slide_type": ""
    },
    "tags": [
     "remove-input",
     "full-size"
    ]
   },
   "outputs": [
    {
     "data": {
      "text/html": [
       "\n",
       "<style>\n",
       "  #altair-viz-6e5f0afd0f514797ad9dda8d8b689458.vega-embed {\n",
       "    width: 100%;\n",
       "    display: flex;\n",
       "  }\n",
       "\n",
       "  #altair-viz-6e5f0afd0f514797ad9dda8d8b689458.vega-embed details,\n",
       "  #altair-viz-6e5f0afd0f514797ad9dda8d8b689458.vega-embed details summary {\n",
       "    position: relative;\n",
       "  }\n",
       "</style>\n",
       "<div id=\"altair-viz-6e5f0afd0f514797ad9dda8d8b689458\"></div>\n",
       "<script type=\"text/javascript\">\n",
       "  var VEGA_DEBUG = (typeof VEGA_DEBUG == \"undefined\") ? {} : VEGA_DEBUG;\n",
       "  (function(spec, embedOpt){\n",
       "    let outputDiv = document.currentScript.previousElementSibling;\n",
       "    if (outputDiv.id !== \"altair-viz-6e5f0afd0f514797ad9dda8d8b689458\") {\n",
       "      outputDiv = document.getElementById(\"altair-viz-6e5f0afd0f514797ad9dda8d8b689458\");\n",
       "    }\n",
       "    const paths = {\n",
       "      \"vega\": \"https://cdn.jsdelivr.net/npm/vega@5?noext\",\n",
       "      \"vega-lib\": \"https://cdn.jsdelivr.net/npm/vega-lib?noext\",\n",
       "      \"vega-lite\": \"https://cdn.jsdelivr.net/npm/vega-lite@5.17.0?noext\",\n",
       "      \"vega-embed\": \"https://cdn.jsdelivr.net/npm/vega-embed@6?noext\",\n",
       "    };\n",
       "\n",
       "    function maybeLoadScript(lib, version) {\n",
       "      var key = `${lib.replace(\"-\", \"\")}_version`;\n",
       "      return (VEGA_DEBUG[key] == version) ?\n",
       "        Promise.resolve(paths[lib]) :\n",
       "        new Promise(function(resolve, reject) {\n",
       "          var s = document.createElement('script');\n",
       "          document.getElementsByTagName(\"head\")[0].appendChild(s);\n",
       "          s.async = true;\n",
       "          s.onload = () => {\n",
       "            VEGA_DEBUG[key] = version;\n",
       "            return resolve(paths[lib]);\n",
       "          };\n",
       "          s.onerror = () => reject(`Error loading script: ${paths[lib]}`);\n",
       "          s.src = paths[lib];\n",
       "        });\n",
       "    }\n",
       "\n",
       "    function showError(err) {\n",
       "      outputDiv.innerHTML = `<div class=\"error\" style=\"color:red;\">${err}</div>`;\n",
       "      throw err;\n",
       "    }\n",
       "\n",
       "    function displayChart(vegaEmbed) {\n",
       "      vegaEmbed(outputDiv, spec, embedOpt)\n",
       "        .catch(err => showError(`Javascript Error: ${err.message}<br>This usually means there's a typo in your chart specification. See the javascript console for the full traceback.`));\n",
       "    }\n",
       "\n",
       "    if(typeof define === \"function\" && define.amd) {\n",
       "      requirejs.config({paths});\n",
       "      require([\"vega-embed\"], displayChart, err => showError(`Error loading script: ${err.message}`));\n",
       "    } else {\n",
       "      maybeLoadScript(\"vega\", \"5\")\n",
       "        .then(() => maybeLoadScript(\"vega-lite\", \"5.17.0\"))\n",
       "        .then(() => maybeLoadScript(\"vega-embed\", \"6\"))\n",
       "        .catch(showError)\n",
       "        .then(() => displayChart(vegaEmbed));\n",
       "    }\n",
       "  })({\"config\": {\"view\": {\"continuousWidth\": 300, \"continuousHeight\": 300}, \"numberFormat\": \".2s\"}, \"data\": {\"name\": \"data-f4253ee8e36c3615aab68e27ba9c68a5\"}, \"mark\": {\"type\": \"bar\"}, \"encoding\": {\"color\": {\"field\": \"institution\", \"legend\": {\"orient\": \"bottom\", \"columns\": 4, \"titleOrient\": \"left\"}, \"type\": \"nominal\"}, \"column\": {\"field\": \"precision\", \"type\": \"ordinal\"}, \"tooltip\": [{\"field\": \"institution\", \"type\": \"nominal\"}, {\"field\": \"artefact_count\", \"type\": \"quantitative\"}], \"x\": {\"field\": \"artefact_count\", \"type\": \"quantitative\"}, \"y\": {\"field\": \"type\", \"type\": \"nominal\"}}, \"resolve\": {\"scale\": {\"x\": \"independent\"}}, \"title\": {\"text\": \"Oveview Collection Size (Museum Objects) by cataloguing type\", \"anchor\": \"middle\"}, \"width\": 600, \"$schema\": \"https://vega.github.io/schema/vega-lite/v5.17.0.json\", \"datasets\": {\"data-f4253ee8e36c3615aab68e27ba9c68a5\": [{\"institution\": \"Oxford University\", \"sector\": \"university\", \"type\": \"university\", \"topic\": \"mixed\", \"precision\": \"estimate\", \"artefact_count\": 22530000}, {\"institution\": \"University of Cambridge\", \"sector\": \"university\", \"type\": \"university\", \"topic\": \"mixed\", \"precision\": \"estimate\", \"artefact_count\": 2000000}, {\"institution\": \"Durham University\", \"sector\": \"university\", \"type\": \"university\", \"topic\": \"mixed\", \"precision\": \"estimate\", \"artefact_count\": 106000}, {\"institution\": \"University College London\", \"sector\": \"university\", \"type\": \"university\", \"topic\": \"mixed\", \"precision\": \"estimate\", \"artefact_count\": 164000}, {\"institution\": \"University of Manchester\", \"sector\": \"university\", \"type\": \"university\", \"topic\": \"mixed\", \"precision\": \"estimate\", \"artefact_count\": 8560000}, {\"institution\": \"King's College London\", \"sector\": \"university\", \"type\": \"university\", \"topic\": \"mixed\", \"precision\": \"estimate\", \"artefact_count\": 200000}, {\"institution\": \"University of Birmingham\", \"sector\": \"university\", \"type\": \"university\", \"topic\": \"mixed\", \"precision\": \"estimate\", \"artefact_count\": 4500000}, {\"institution\": \"Unversity of Warwick\", \"sector\": \"university\", \"type\": \"university\", \"topic\": \"mixed\", \"precision\": \"estimate\", \"artefact_count\": 16000}, {\"institution\": \"Manchester Metropolitan Unversity\", \"sector\": \"university\", \"type\": \"university\", \"topic\": \"mixed\", \"precision\": \"estimate\", \"artefact_count\": 0}, {\"institution\": \"Swansea University\", \"sector\": \"university\", \"type\": \"university\", \"topic\": \"mixed\", \"precision\": \"estimate\", \"artefact_count\": 1700}, {\"institution\": \"University of Brighton\", \"sector\": \"university\", \"type\": \"university\", \"topic\": \"mixed\", \"precision\": \"estimate\", \"artefact_count\": 50000}, {\"institution\": \"SOAS, University of London\", \"sector\": \"university\", \"type\": \"university\", \"topic\": \"mixed\", \"precision\": \"estimate\", \"artefact_count\": 60000}, {\"institution\": \"University of Aberdeen\", \"sector\": \"university\", \"type\": \"university\", \"topic\": \"mixed\", \"precision\": \"estimate\", \"artefact_count\": 530000}, {\"institution\": \"University of Bristol\", \"sector\": \"university\", \"type\": \"university\", \"topic\": \"mixed\", \"precision\": \"estimate\", \"artefact_count\": 100000}, {\"institution\": \"University of Leeds\", \"sector\": \"university\", \"type\": \"university\", \"topic\": \"mixed\", \"precision\": \"estimate\", \"artefact_count\": 350000}, {\"institution\": \"University of Sheffield\", \"sector\": \"university\", \"type\": \"university\", \"topic\": \"mixed\", \"precision\": \"estimate\", \"artefact_count\": 30000}, {\"institution\": \"University of St Andrews\", \"sector\": \"university\", \"type\": \"university\", \"topic\": \"mixed\", \"precision\": \"estimate\", \"artefact_count\": 200000}, {\"institution\": \"Royal College of Surgeons\", \"sector\": \"university\", \"type\": \"university\", \"topic\": \"medicine\", \"precision\": \"estimate\", \"artefact_count\": 3500}, {\"institution\": \"British Library\", \"sector\": \"library\", \"type\": \"library\", \"topic\": \"mixed\", \"precision\": \"estimate\", \"artefact_count\": 33810000}, {\"institution\": \"Chetham's Library\", \"sector\": \"library\", \"type\": \"library\", \"topic\": \"mixed\", \"precision\": \"estimate\", \"artefact_count\": 121041}, {\"institution\": \"Glasgow Woman's Library\", \"sector\": \"library\", \"type\": \"library\", \"topic\": \"mixed\", \"precision\": \"estimate\", \"artefact_count\": 0}, {\"institution\": \"Lambeth Palace Library\", \"sector\": \"library\", \"type\": \"library\", \"topic\": \"theology\", \"precision\": \"estimate\", \"artefact_count\": 186200}, {\"institution\": \"National Library of Wales\", \"sector\": \"library\", \"type\": \"library\", \"topic\": \"mixed\", \"precision\": \"estimate\", \"artefact_count\": 7540000}, {\"institution\": \"National Library of Scotland\", \"sector\": \"library\", \"type\": \"library\", \"topic\": \"mixed\", \"precision\": \"estimate\", \"artefact_count\": 37000000}, {\"institution\": \"Amgueddfa Cymru (National Museum Wales)\", \"sector\": \"national\", \"type\": \"museum\", \"topic\": \"mixed\", \"precision\": \"estimate\", \"artefact_count\": 5319585}, {\"institution\": \"Historic Royal Palaces\", \"sector\": \"national\", \"type\": \"building\", \"topic\": \"mixed\", \"precision\": \"estimate\", \"artefact_count\": 60000}, {\"institution\": \"National Football Museum\", \"sector\": \"national\", \"type\": \"museum\", \"topic\": \"mixed\", \"precision\": \"estimate\", \"artefact_count\": 40000}, {\"institution\": \"National Justice Museum\", \"sector\": \"national\", \"type\": \"museum\", \"topic\": \"mixed\", \"precision\": \"estimate\", \"artefact_count\": 40000}, {\"institution\": \"National Mining Museum Scotland\", \"sector\": \"national\", \"type\": \"museum\", \"topic\": \"industry\", \"precision\": \"estimate\", \"artefact_count\": 100000}, {\"institution\": \"National Museum of the Royal Navy\", \"sector\": \"national\", \"type\": \"museum\", \"topic\": \"maritime\", \"precision\": \"estimate\", \"artefact_count\": 2500000}, {\"institution\": \"National Museums NI\", \"sector\": \"national\", \"type\": \"museum\", \"topic\": \"mixed\", \"precision\": \"estimate\", \"artefact_count\": 1400000}, {\"institution\": \"National Museums Scotland\", \"sector\": \"national\", \"type\": \"museum\", \"topic\": \"mixed\", \"precision\": \"estimate\", \"artefact_count\": 12000000}, {\"institution\": \"National Tramway Museum\", \"sector\": \"national\", \"type\": \"museum\", \"topic\": \"mixed\", \"precision\": \"estimate\", \"artefact_count\": 46690}, {\"institution\": \"National Trust\", \"sector\": \"national\", \"type\": \"building\", \"topic\": \"art\", \"precision\": \"estimate\", \"artefact_count\": 1000000}, {\"institution\": \"National Trust for Scotland\", \"sector\": \"national\", \"type\": \"building\", \"topic\": \"art\", \"precision\": \"estimate\", \"artefact_count\": 300000}, {\"institution\": \"National Waterways Museum\", \"sector\": \"national\", \"type\": \"building\", \"topic\": \"transport\", \"precision\": \"estimate\", \"artefact_count\": 150000}, {\"institution\": \"Royal Collection Trust\", \"sector\": \"national\", \"type\": \"museum\", \"topic\": \"art\", \"precision\": \"estimate\", \"artefact_count\": 1000000}, {\"institution\": \"Government Art Collection\", \"sector\": \"national\", \"type\": \"museum\", \"topic\": \"art\", \"precision\": \"estimate\", \"artefact_count\": 15000}, {\"institution\": \"Historic Environment Scotland\", \"sector\": \"national\", \"type\": \"museum\", \"topic\": \"heritage\", \"precision\": \"estimate\", \"artefact_count\": 41000}, {\"institution\": \"People's History Museum\", \"sector\": \"national\", \"type\": \"museum\", \"topic\": \"social\", \"precision\": \"estimate\", \"artefact_count\": 5680}, {\"institution\": \"Portable Antiquities Scheme\", \"sector\": \"national\", \"type\": \"museum\", \"topic\": \"archaeology\", \"precision\": \"estimate\", \"artefact_count\": 1751232}, {\"institution\": \"Royal Air Force Museum\", \"sector\": \"national\", \"type\": \"museum\", \"topic\": \"military\", \"precision\": \"estimate\", \"artefact_count\": 1300000}, {\"institution\": \"Royal Botanic Gardens Kew\", \"sector\": \"national\", \"type\": \"museum\", \"topic\": \"nature\", \"precision\": \"estimate\", \"artefact_count\": 7000000}, {\"institution\": \"Royal Collection\", \"sector\": \"national\", \"type\": \"museum\", \"topic\": \"nature\", \"precision\": \"estimate\", \"artefact_count\": 1000000}, {\"institution\": \"Courtauld Gallery\", \"sector\": \"independent\", \"type\": \"gallery\", \"topic\": \"art\", \"precision\": \"estimate\", \"artefact_count\": 33501}, {\"institution\": \"Dulwich Picture Gallery\", \"sector\": \"independent\", \"type\": \"gallery\", \"topic\": \"art\", \"precision\": \"estimate\", \"artefact_count\": 600}, {\"institution\": \"Manchester Art Gallery\", \"sector\": \"independent\", \"type\": \"gallery\", \"topic\": \"art\", \"precision\": \"estimate\", \"artefact_count\": 46000}, {\"institution\": \"National Galleries Scotland\", \"sector\": \"independent\", \"type\": \"gallery\", \"topic\": \"art\", \"precision\": \"estimate\", \"artefact_count\": 120000}, {\"institution\": \"Bowes Museum\", \"sector\": \"independent\", \"type\": \"museum\", \"topic\": \"art\", \"precision\": \"estimate\", \"artefact_count\": 30000}, {\"institution\": \"Britten Pears\", \"sector\": \"independent\", \"type\": \"museum\", \"topic\": \"art\", \"precision\": \"estimate\", \"artefact_count\": 1200}, {\"institution\": \"Chatham Historic Dockyard\", \"sector\": \"independent\", \"type\": \"building\", \"topic\": \"maritime\", \"precision\": \"estimate\", \"artefact_count\": 70000}, {\"institution\": \"English Heritage Trust\", \"sector\": \"independent\", \"type\": \"building\", \"topic\": \"history\", \"precision\": \"estimate\", \"artefact_count\": 700000}, {\"institution\": \"Gordon Highlanders Museum\", \"sector\": \"independent\", \"type\": \"museum\", \"topic\": \"military\", \"precision\": \"estimate\", \"artefact_count\": 40000}, {\"institution\": \"Ironbridge Gorge Museum Trust\", \"sector\": \"independent\", \"type\": \"museum\", \"topic\": \"industry\", \"precision\": \"estimate\", \"artefact_count\": 400000}, {\"institution\": \"Jewish Museum London\", \"sector\": \"independent\", \"type\": \"museum\", \"topic\": \"social\", \"precision\": \"estimate\", \"artefact_count\": 40000}, {\"institution\": \"London Transport Museum\", \"sector\": \"independent\", \"type\": \"museum\", \"topic\": \"transport\", \"precision\": \"estimate\", \"artefact_count\": 500000}, {\"institution\": \"Manchester Jewish Museum\", \"sector\": \"independent\", \"type\": \"museum\", \"topic\": \"social\", \"precision\": \"estimate\", \"artefact_count\": 31000}, {\"institution\": \"Mary Rose Trust\", \"sector\": \"independent\", \"type\": \"museum\", \"topic\": \"maritime\", \"precision\": \"estimate\", \"artefact_count\": 19000}, {\"institution\": \"Media Archive for Central England (MACE)\", \"sector\": \"independent\", \"type\": \"archive\", \"topic\": \"media\", \"precision\": \"estimate\", \"artefact_count\": 65000}, {\"institution\": \"Food Museum\", \"sector\": \"independent\", \"type\": \"museum\", \"topic\": \"social\", \"precision\": \"estimate\", \"artefact_count\": 40000}, {\"institution\": \"Museum of Freemasonry\", \"sector\": \"independent\", \"type\": \"museum\", \"topic\": \"social\", \"precision\": \"estimate\", \"artefact_count\": 90000}, {\"institution\": \"Museum of Lead Mining\", \"sector\": \"independent\", \"type\": \"museum\", \"topic\": \"industry\", \"precision\": \"estimate\", \"artefact_count\": 2572}, {\"institution\": \"Museum of Scottish Railways\", \"sector\": \"independent\", \"type\": \"museum\", \"topic\": \"industry\", \"precision\": \"estimate\", \"artefact_count\": 50000}, {\"institution\": \"Paxton Trust\", \"sector\": \"independent\", \"type\": \"building\", \"topic\": \"art\", \"precision\": \"estimate\", \"artefact_count\": 3754}, {\"institution\": \"Pier Arts Centre\", \"sector\": \"independent\", \"type\": \"gallery\", \"topic\": \"art\", \"precision\": \"estimate\", \"artefact_count\": 180}, {\"institution\": \"Postal Museum\", \"sector\": \"independent\", \"type\": \"museum\", \"topic\": \"social\", \"precision\": \"estimate\", \"artefact_count\": 60000}, {\"institution\": \"Royal Artillery Museum\", \"sector\": \"independent\", \"type\": \"museum\", \"topic\": \"military\", \"precision\": \"estimate\", \"artefact_count\": 30000}, {\"institution\": \"Royal Engineers Museum\", \"sector\": \"independent\", \"type\": \"museum\", \"topic\": \"military\", \"precision\": \"estimate\", \"artefact_count\": 1000000}, {\"institution\": \"Royal Scottish Academy of Art & Architecture\", \"sector\": \"independent\", \"type\": \"museum\", \"topic\": \"art\", \"precision\": \"estimate\", \"artefact_count\": 9000}, {\"institution\": \"Aberdeenshire Council Museums\", \"sector\": \"regional\", \"type\": \"museum\", \"topic\": \"mixed\", \"precision\": \"estimate\", \"artefact_count\": 250000}, {\"institution\": \"Barnsley Museums\", \"sector\": \"regional\", \"type\": \"museum\", \"topic\": \"mixed\", \"precision\": \"estimate\", \"artefact_count\": 711400}, {\"institution\": \"Birmingham Museums Trust\", \"sector\": \"regional\", \"type\": \"museum\", \"topic\": \"art\", \"precision\": \"estimate\", \"artefact_count\": 800000}, {\"institution\": \"Black Country Living Museum\", \"sector\": \"regional\", \"type\": \"museum\", \"topic\": \"history\", \"precision\": \"estimate\", \"artefact_count\": 80000}, {\"institution\": \"Bradford District Museums & Galleries\", \"sector\": \"regional\", \"type\": \"museum\", \"topic\": \"mixed\", \"precision\": \"estimate\", \"artefact_count\": 837837}, {\"institution\": \"Bristol Museums\", \"sector\": \"regional\", \"type\": \"museum\", \"topic\": \"mixed\", \"precision\": \"estimate\", \"artefact_count\": 2000000}, {\"institution\": \"Culture Coventry\", \"sector\": \"regional\", \"type\": \"museum\", \"topic\": \"mixed\", \"precision\": \"estimate\", \"artefact_count\": 1000000}, {\"institution\": \"Culture Perth and Kinross\", \"sector\": \"regional\", \"type\": \"mixed\", \"topic\": \"mixed\", \"precision\": \"estimate\", \"artefact_count\": 500000}, {\"institution\": \"Culture Trust Luton\", \"sector\": \"regional\", \"type\": \"museum\", \"topic\": \"mixed\", \"precision\": \"estimate\", \"artefact_count\": 1105051}, {\"institution\": \"Dundee Heritage Trust\", \"sector\": \"regional\", \"type\": \"museum\", \"topic\": \"mixed\", \"precision\": \"estimate\", \"artefact_count\": 0}, {\"institution\": \"Elgin Museum\", \"sector\": \"regional\", \"type\": \"museum\", \"topic\": \"mixed\", \"precision\": \"estimate\", \"artefact_count\": 36000}, {\"institution\": \"Glasgow Museums\", \"sector\": \"regional\", \"type\": \"museum\", \"topic\": \"mixed\", \"precision\": \"estimate\", \"artefact_count\": 1000000}, {\"institution\": \"Heritage Doncaster\", \"sector\": \"regional\", \"type\": \"museum\", \"topic\": \"mixed\", \"precision\": \"estimate\", \"artefact_count\": 406750}, {\"institution\": \"Highland Folk Museum\", \"sector\": \"regional\", \"type\": \"museum\", \"topic\": \"social\", \"precision\": \"estimate\", \"artefact_count\": 10000}, {\"institution\": \"Leeds Museums & Galleries\", \"sector\": \"regional\", \"type\": \"museum\", \"topic\": \"mixed\", \"precision\": \"estimate\", \"artefact_count\": 1300000}, {\"institution\": \"Leicester Museums\", \"sector\": \"regional\", \"type\": \"museum\", \"topic\": \"mixed\", \"precision\": \"estimate\", \"artefact_count\": 1500000}, {\"institution\": \"Manchester Art Gallery\", \"sector\": \"regional\", \"type\": \"gallery\", \"topic\": \"art\", \"precision\": \"estimate\", \"artefact_count\": 50000}, {\"institution\": \"Edinburgh Museums\", \"sector\": \"regional\", \"type\": \"museum\", \"topic\": \"mixed\", \"precision\": \"estimate\", \"artefact_count\": 220000}, {\"institution\": \"Museums Northhumberland\", \"sector\": \"regional\", \"type\": \"museum\", \"topic\": \"mixed\", \"precision\": \"estimate\", \"artefact_count\": 25000}, {\"institution\": \"Northhampton Museums\", \"sector\": \"regional\", \"type\": \"museum\", \"topic\": \"mixed\", \"precision\": \"estimate\", \"artefact_count\": 44024}, {\"institution\": \"Orkney Museums\", \"sector\": \"regional\", \"type\": \"museum\", \"topic\": \"mixed\", \"precision\": \"estimate\", \"artefact_count\": 100000}, {\"institution\": \"Poole Museums\", \"sector\": \"regional\", \"type\": \"museum\", \"topic\": \"mixed\", \"precision\": \"estimate\", \"artefact_count\": 50000}, {\"institution\": \"Potteries Museum and Art Gallery\", \"sector\": \"regional\", \"type\": \"museum\", \"topic\": \"arts\", \"precision\": \"estimate\", \"artefact_count\": 1000000}, {\"institution\": \"Preston Park Museum & Grounds\", \"sector\": \"regional\", \"type\": \"museum\", \"topic\": \"social\", \"precision\": \"estimate\", \"artefact_count\": 100000}, {\"institution\": \"Ripon Museums\", \"sector\": \"regional\", \"type\": \"museum\", \"topic\": \"social\", \"precision\": \"estimate\", \"artefact_count\": 9000}, {\"institution\": \"Royal Albert Memorial Museum\", \"sector\": \"regional\", \"type\": \"museum\", \"topic\": \"mixed\", \"precision\": \"estimate\", \"artefact_count\": 1000000}, {\"institution\": \"Salisbury Museum\", \"sector\": \"regional\", \"type\": \"museum\", \"topic\": \"mixed\", \"precision\": \"estimate\", \"artefact_count\": 100000}, {\"institution\": \"Victoria & Albert Museum\", \"sector\": \"dcms\", \"type\": \"museum\", \"topic\": \"art\", \"precision\": \"estimate\", \"artefact_count\": 2800000}, {\"institution\": \"Science Museum Group\", \"sector\": \"dcms\", \"type\": \"museum\", \"topic\": \"science\", \"precision\": \"estimate\", \"artefact_count\": 7360793}, {\"institution\": \"Museum of the Home\", \"sector\": \"dcms\", \"type\": \"museum\", \"topic\": \"history\", \"precision\": \"estimate\", \"artefact_count\": 40000}, {\"institution\": \"Horniman Museum\", \"sector\": \"dcms\", \"type\": \"museum\", \"topic\": \"history\", \"precision\": \"estimate\", \"artefact_count\": 350000}, {\"institution\": \"Imperial War Museums\", \"sector\": \"dcms\", \"type\": \"museum\", \"topic\": \"history\", \"precision\": \"estimate\", \"artefact_count\": 1000000}, {\"institution\": \"National Gallery\", \"sector\": \"dcms\", \"type\": \"gallery\", \"topic\": \"art\", \"precision\": \"estimate\", \"artefact_count\": 2626}, {\"institution\": \"National Museums Liverpool\", \"sector\": \"dcms\", \"type\": \"museum\", \"topic\": \"history\", \"precision\": \"estimate\", \"artefact_count\": 4000000}, {\"institution\": \"National Portrait Gallery\", \"sector\": \"dcms\", \"type\": \"gallery\", \"topic\": \"art\", \"precision\": \"estimate\", \"artefact_count\": 350000}, {\"institution\": \"Natural History Museum\", \"sector\": \"dcms\", \"type\": \"museum\", \"topic\": \"nature\", \"precision\": \"estimate\", \"artefact_count\": 80000000}, {\"institution\": \"Royal Armouries\", \"sector\": \"dcms\", \"type\": \"museum\", \"topic\": \"history\", \"precision\": \"estimate\", \"artefact_count\": 70000}, {\"institution\": \"Royal Museums Greenwich\", \"sector\": \"dcms\", \"type\": \"museum\", \"topic\": \"history\", \"precision\": \"estimate\", \"artefact_count\": 3000000}, {\"institution\": \"Sir John Soane's Museum\", \"sector\": \"dcms\", \"type\": \"museum\", \"topic\": \"history\", \"precision\": \"estimate\", \"artefact_count\": 52000}, {\"institution\": \"Tate Gallery Group\", \"sector\": \"dcms\", \"type\": \"gallery\", \"topic\": \"art\", \"precision\": \"estimate\", \"artefact_count\": 70000}, {\"institution\": \"The Wallace Collection\", \"sector\": \"dcms\", \"type\": \"museum\", \"topic\": \"art\", \"precision\": \"estimate\", \"artefact_count\": 5637}, {\"institution\": \"British Museum\", \"sector\": \"dcms\", \"type\": \"museum\", \"topic\": \"history\", \"precision\": \"estimate\", \"artefact_count\": 8000000}]}}, {\"mode\": \"vega-lite\"});\n",
       "</script>"
      ],
      "text/plain": [
       "alt.Chart(...)"
      ]
     },
     "execution_count": 83,
     "metadata": {},
     "output_type": "execute_result"
    }
   ],
   "source": [
    "title = alt.TitleParams('Artefacts by cataloguing type', anchor='middle')\n",
    "alt.Chart(artefacts_df, title=title).mark_bar().encode(\n",
    "        alt.Color('institution:N').legend(orient=\"bottom\", columns=4, titleOrient=\"left\"),\n",
    "    column='precision:O',\n",
    "    tooltip=['institution', 'artefact_count'],\n",
    "    x='artefact_count:Q',\n",
    "    y='type:N'\n",
    ").properties(width=600).resolve_scale(x='independent').configure(numberFormat='.2s')"
   ]
  },
  {
   "cell_type": "markdown",
   "id": "fffafddb-fc32-4ac4-9838-bf964c6f4341",
   "metadata": {
    "editable": true,
    "slideshow": {
     "slide_type": ""
    },
    "tags": []
   },
   "source": [
    "## Artefacts by institution and collection type"
   ]
  },
  {
   "cell_type": "code",
   "execution_count": 77,
   "id": "96d3f797-029d-4bd6-9484-1d4335ec8fdd",
   "metadata": {
    "editable": true,
    "slideshow": {
     "slide_type": ""
    },
    "tags": [
     "remove-input",
     "full-size"
    ]
   },
   "outputs": [
    {
     "data": {
      "text/html": [
       "\n",
       "<style>\n",
       "  #altair-viz-9dcdb50792454ec9a623b6a882e6edb4.vega-embed {\n",
       "    width: 100%;\n",
       "    display: flex;\n",
       "  }\n",
       "\n",
       "  #altair-viz-9dcdb50792454ec9a623b6a882e6edb4.vega-embed details,\n",
       "  #altair-viz-9dcdb50792454ec9a623b6a882e6edb4.vega-embed details summary {\n",
       "    position: relative;\n",
       "  }\n",
       "</style>\n",
       "<div id=\"altair-viz-9dcdb50792454ec9a623b6a882e6edb4\"></div>\n",
       "<script type=\"text/javascript\">\n",
       "  var VEGA_DEBUG = (typeof VEGA_DEBUG == \"undefined\") ? {} : VEGA_DEBUG;\n",
       "  (function(spec, embedOpt){\n",
       "    let outputDiv = document.currentScript.previousElementSibling;\n",
       "    if (outputDiv.id !== \"altair-viz-9dcdb50792454ec9a623b6a882e6edb4\") {\n",
       "      outputDiv = document.getElementById(\"altair-viz-9dcdb50792454ec9a623b6a882e6edb4\");\n",
       "    }\n",
       "    const paths = {\n",
       "      \"vega\": \"https://cdn.jsdelivr.net/npm/vega@5?noext\",\n",
       "      \"vega-lib\": \"https://cdn.jsdelivr.net/npm/vega-lib?noext\",\n",
       "      \"vega-lite\": \"https://cdn.jsdelivr.net/npm/vega-lite@5.17.0?noext\",\n",
       "      \"vega-embed\": \"https://cdn.jsdelivr.net/npm/vega-embed@6?noext\",\n",
       "    };\n",
       "\n",
       "    function maybeLoadScript(lib, version) {\n",
       "      var key = `${lib.replace(\"-\", \"\")}_version`;\n",
       "      return (VEGA_DEBUG[key] == version) ?\n",
       "        Promise.resolve(paths[lib]) :\n",
       "        new Promise(function(resolve, reject) {\n",
       "          var s = document.createElement('script');\n",
       "          document.getElementsByTagName(\"head\")[0].appendChild(s);\n",
       "          s.async = true;\n",
       "          s.onload = () => {\n",
       "            VEGA_DEBUG[key] = version;\n",
       "            return resolve(paths[lib]);\n",
       "          };\n",
       "          s.onerror = () => reject(`Error loading script: ${paths[lib]}`);\n",
       "          s.src = paths[lib];\n",
       "        });\n",
       "    }\n",
       "\n",
       "    function showError(err) {\n",
       "      outputDiv.innerHTML = `<div class=\"error\" style=\"color:red;\">${err}</div>`;\n",
       "      throw err;\n",
       "    }\n",
       "\n",
       "    function displayChart(vegaEmbed) {\n",
       "      vegaEmbed(outputDiv, spec, embedOpt)\n",
       "        .catch(err => showError(`Javascript Error: ${err.message}<br>This usually means there's a typo in your chart specification. See the javascript console for the full traceback.`));\n",
       "    }\n",
       "\n",
       "    if(typeof define === \"function\" && define.amd) {\n",
       "      requirejs.config({paths});\n",
       "      require([\"vega-embed\"], displayChart, err => showError(`Error loading script: ${err.message}`));\n",
       "    } else {\n",
       "      maybeLoadScript(\"vega\", \"5\")\n",
       "        .then(() => maybeLoadScript(\"vega-lite\", \"5.17.0\"))\n",
       "        .then(() => maybeLoadScript(\"vega-embed\", \"6\"))\n",
       "        .catch(showError)\n",
       "        .then(() => displayChart(vegaEmbed));\n",
       "    }\n",
       "  })({\"config\": {\"view\": {\"continuousWidth\": 300, \"continuousHeight\": 300}, \"numberFormat\": \".2s\"}, \"data\": {\"name\": \"data-f4253ee8e36c3615aab68e27ba9c68a5\"}, \"mark\": {\"type\": \"bar\"}, \"encoding\": {\"color\": {\"field\": \"institution\", \"legend\": {\"columns\": 4, \"orient\": \"bottom\"}, \"type\": \"nominal\"}, \"column\": {\"field\": \"type\", \"type\": \"nominal\"}, \"order\": {\"field\": \"artefact_count\", \"type\": \"quantitative\"}, \"tooltip\": {\"field\": \"artefact_count\", \"type\": \"quantitative\"}, \"x\": {\"axis\": {\"orient\": \"top\"}, \"field\": \"artefact_count\", \"type\": \"quantitative\"}, \"y\": {\"field\": \"institution\", \"type\": \"nominal\"}}, \"resolve\": {\"scale\": {\"x\": \"independent\"}}, \"title\": {\"text\": \"Artefacts per Institition (by collection type)\", \"anchor\": \"middle\"}, \"width\": 125, \"$schema\": \"https://vega.github.io/schema/vega-lite/v5.17.0.json\", \"datasets\": {\"data-f4253ee8e36c3615aab68e27ba9c68a5\": [{\"institution\": \"Oxford University\", \"sector\": \"university\", \"type\": \"university\", \"topic\": \"mixed\", \"precision\": \"estimate\", \"artefact_count\": 22530000}, {\"institution\": \"University of Cambridge\", \"sector\": \"university\", \"type\": \"university\", \"topic\": \"mixed\", \"precision\": \"estimate\", \"artefact_count\": 2000000}, {\"institution\": \"Durham University\", \"sector\": \"university\", \"type\": \"university\", \"topic\": \"mixed\", \"precision\": \"estimate\", \"artefact_count\": 106000}, {\"institution\": \"University College London\", \"sector\": \"university\", \"type\": \"university\", \"topic\": \"mixed\", \"precision\": \"estimate\", \"artefact_count\": 164000}, {\"institution\": \"University of Manchester\", \"sector\": \"university\", \"type\": \"university\", \"topic\": \"mixed\", \"precision\": \"estimate\", \"artefact_count\": 8560000}, {\"institution\": \"King's College London\", \"sector\": \"university\", \"type\": \"university\", \"topic\": \"mixed\", \"precision\": \"estimate\", \"artefact_count\": 200000}, {\"institution\": \"University of Birmingham\", \"sector\": \"university\", \"type\": \"university\", \"topic\": \"mixed\", \"precision\": \"estimate\", \"artefact_count\": 4500000}, {\"institution\": \"Unversity of Warwick\", \"sector\": \"university\", \"type\": \"university\", \"topic\": \"mixed\", \"precision\": \"estimate\", \"artefact_count\": 16000}, {\"institution\": \"Manchester Metropolitan Unversity\", \"sector\": \"university\", \"type\": \"university\", \"topic\": \"mixed\", \"precision\": \"estimate\", \"artefact_count\": 0}, {\"institution\": \"Swansea University\", \"sector\": \"university\", \"type\": \"university\", \"topic\": \"mixed\", \"precision\": \"estimate\", \"artefact_count\": 1700}, {\"institution\": \"University of Brighton\", \"sector\": \"university\", \"type\": \"university\", \"topic\": \"mixed\", \"precision\": \"estimate\", \"artefact_count\": 50000}, {\"institution\": \"SOAS, University of London\", \"sector\": \"university\", \"type\": \"university\", \"topic\": \"mixed\", \"precision\": \"estimate\", \"artefact_count\": 60000}, {\"institution\": \"University of Aberdeen\", \"sector\": \"university\", \"type\": \"university\", \"topic\": \"mixed\", \"precision\": \"estimate\", \"artefact_count\": 530000}, {\"institution\": \"University of Bristol\", \"sector\": \"university\", \"type\": \"university\", \"topic\": \"mixed\", \"precision\": \"estimate\", \"artefact_count\": 100000}, {\"institution\": \"University of Leeds\", \"sector\": \"university\", \"type\": \"university\", \"topic\": \"mixed\", \"precision\": \"estimate\", \"artefact_count\": 350000}, {\"institution\": \"University of Sheffield\", \"sector\": \"university\", \"type\": \"university\", \"topic\": \"mixed\", \"precision\": \"estimate\", \"artefact_count\": 30000}, {\"institution\": \"University of St Andrews\", \"sector\": \"university\", \"type\": \"university\", \"topic\": \"mixed\", \"precision\": \"estimate\", \"artefact_count\": 200000}, {\"institution\": \"Royal College of Surgeons\", \"sector\": \"university\", \"type\": \"university\", \"topic\": \"medicine\", \"precision\": \"estimate\", \"artefact_count\": 3500}, {\"institution\": \"British Library\", \"sector\": \"library\", \"type\": \"library\", \"topic\": \"mixed\", \"precision\": \"estimate\", \"artefact_count\": 33810000}, {\"institution\": \"Chetham's Library\", \"sector\": \"library\", \"type\": \"library\", \"topic\": \"mixed\", \"precision\": \"estimate\", \"artefact_count\": 121041}, {\"institution\": \"Glasgow Woman's Library\", \"sector\": \"library\", \"type\": \"library\", \"topic\": \"mixed\", \"precision\": \"estimate\", \"artefact_count\": 0}, {\"institution\": \"Lambeth Palace Library\", \"sector\": \"library\", \"type\": \"library\", \"topic\": \"theology\", \"precision\": \"estimate\", \"artefact_count\": 186200}, {\"institution\": \"National Library of Wales\", \"sector\": \"library\", \"type\": \"library\", \"topic\": \"mixed\", \"precision\": \"estimate\", \"artefact_count\": 7540000}, {\"institution\": \"National Library of Scotland\", \"sector\": \"library\", \"type\": \"library\", \"topic\": \"mixed\", \"precision\": \"estimate\", \"artefact_count\": 37000000}, {\"institution\": \"Amgueddfa Cymru (National Museum Wales)\", \"sector\": \"national\", \"type\": \"museum\", \"topic\": \"mixed\", \"precision\": \"estimate\", \"artefact_count\": 5319585}, {\"institution\": \"Historic Royal Palaces\", \"sector\": \"national\", \"type\": \"building\", \"topic\": \"mixed\", \"precision\": \"estimate\", \"artefact_count\": 60000}, {\"institution\": \"National Football Museum\", \"sector\": \"national\", \"type\": \"museum\", \"topic\": \"mixed\", \"precision\": \"estimate\", \"artefact_count\": 40000}, {\"institution\": \"National Justice Museum\", \"sector\": \"national\", \"type\": \"museum\", \"topic\": \"mixed\", \"precision\": \"estimate\", \"artefact_count\": 40000}, {\"institution\": \"National Mining Museum Scotland\", \"sector\": \"national\", \"type\": \"museum\", \"topic\": \"industry\", \"precision\": \"estimate\", \"artefact_count\": 100000}, {\"institution\": \"National Museum of the Royal Navy\", \"sector\": \"national\", \"type\": \"museum\", \"topic\": \"maritime\", \"precision\": \"estimate\", \"artefact_count\": 2500000}, {\"institution\": \"National Museums NI\", \"sector\": \"national\", \"type\": \"museum\", \"topic\": \"mixed\", \"precision\": \"estimate\", \"artefact_count\": 1400000}, {\"institution\": \"National Museums Scotland\", \"sector\": \"national\", \"type\": \"museum\", \"topic\": \"mixed\", \"precision\": \"estimate\", \"artefact_count\": 12000000}, {\"institution\": \"National Tramway Museum\", \"sector\": \"national\", \"type\": \"museum\", \"topic\": \"mixed\", \"precision\": \"estimate\", \"artefact_count\": 46690}, {\"institution\": \"National Trust\", \"sector\": \"national\", \"type\": \"building\", \"topic\": \"art\", \"precision\": \"estimate\", \"artefact_count\": 1000000}, {\"institution\": \"National Trust for Scotland\", \"sector\": \"national\", \"type\": \"building\", \"topic\": \"art\", \"precision\": \"estimate\", \"artefact_count\": 300000}, {\"institution\": \"National Waterways Museum\", \"sector\": \"national\", \"type\": \"building\", \"topic\": \"transport\", \"precision\": \"estimate\", \"artefact_count\": 150000}, {\"institution\": \"Royal Collection Trust\", \"sector\": \"national\", \"type\": \"museum\", \"topic\": \"art\", \"precision\": \"estimate\", \"artefact_count\": 1000000}, {\"institution\": \"Government Art Collection\", \"sector\": \"national\", \"type\": \"museum\", \"topic\": \"art\", \"precision\": \"estimate\", \"artefact_count\": 15000}, {\"institution\": \"Historic Environment Scotland\", \"sector\": \"national\", \"type\": \"museum\", \"topic\": \"heritage\", \"precision\": \"estimate\", \"artefact_count\": 41000}, {\"institution\": \"People's History Museum\", \"sector\": \"national\", \"type\": \"museum\", \"topic\": \"social\", \"precision\": \"estimate\", \"artefact_count\": 5680}, {\"institution\": \"Portable Antiquities Scheme\", \"sector\": \"national\", \"type\": \"museum\", \"topic\": \"archaeology\", \"precision\": \"estimate\", \"artefact_count\": 1751232}, {\"institution\": \"Royal Air Force Museum\", \"sector\": \"national\", \"type\": \"museum\", \"topic\": \"military\", \"precision\": \"estimate\", \"artefact_count\": 1300000}, {\"institution\": \"Royal Botanic Gardens Kew\", \"sector\": \"national\", \"type\": \"museum\", \"topic\": \"nature\", \"precision\": \"estimate\", \"artefact_count\": 7000000}, {\"institution\": \"Royal Collection\", \"sector\": \"national\", \"type\": \"museum\", \"topic\": \"nature\", \"precision\": \"estimate\", \"artefact_count\": 1000000}, {\"institution\": \"Courtauld Gallery\", \"sector\": \"independent\", \"type\": \"gallery\", \"topic\": \"art\", \"precision\": \"estimate\", \"artefact_count\": 33501}, {\"institution\": \"Dulwich Picture Gallery\", \"sector\": \"independent\", \"type\": \"gallery\", \"topic\": \"art\", \"precision\": \"estimate\", \"artefact_count\": 600}, {\"institution\": \"Manchester Art Gallery\", \"sector\": \"independent\", \"type\": \"gallery\", \"topic\": \"art\", \"precision\": \"estimate\", \"artefact_count\": 46000}, {\"institution\": \"National Galleries Scotland\", \"sector\": \"independent\", \"type\": \"gallery\", \"topic\": \"art\", \"precision\": \"estimate\", \"artefact_count\": 120000}, {\"institution\": \"Bowes Museum\", \"sector\": \"independent\", \"type\": \"museum\", \"topic\": \"art\", \"precision\": \"estimate\", \"artefact_count\": 30000}, {\"institution\": \"Britten Pears\", \"sector\": \"independent\", \"type\": \"museum\", \"topic\": \"art\", \"precision\": \"estimate\", \"artefact_count\": 1200}, {\"institution\": \"Chatham Historic Dockyard\", \"sector\": \"independent\", \"type\": \"building\", \"topic\": \"maritime\", \"precision\": \"estimate\", \"artefact_count\": 70000}, {\"institution\": \"English Heritage Trust\", \"sector\": \"independent\", \"type\": \"building\", \"topic\": \"history\", \"precision\": \"estimate\", \"artefact_count\": 700000}, {\"institution\": \"Gordon Highlanders Museum\", \"sector\": \"independent\", \"type\": \"museum\", \"topic\": \"military\", \"precision\": \"estimate\", \"artefact_count\": 40000}, {\"institution\": \"Ironbridge Gorge Museum Trust\", \"sector\": \"independent\", \"type\": \"museum\", \"topic\": \"industry\", \"precision\": \"estimate\", \"artefact_count\": 400000}, {\"institution\": \"Jewish Museum London\", \"sector\": \"independent\", \"type\": \"museum\", \"topic\": \"social\", \"precision\": \"estimate\", \"artefact_count\": 40000}, {\"institution\": \"London Transport Museum\", \"sector\": \"independent\", \"type\": \"museum\", \"topic\": \"transport\", \"precision\": \"estimate\", \"artefact_count\": 500000}, {\"institution\": \"Manchester Jewish Museum\", \"sector\": \"independent\", \"type\": \"museum\", \"topic\": \"social\", \"precision\": \"estimate\", \"artefact_count\": 31000}, {\"institution\": \"Mary Rose Trust\", \"sector\": \"independent\", \"type\": \"museum\", \"topic\": \"maritime\", \"precision\": \"estimate\", \"artefact_count\": 19000}, {\"institution\": \"Media Archive for Central England (MACE)\", \"sector\": \"independent\", \"type\": \"archive\", \"topic\": \"media\", \"precision\": \"estimate\", \"artefact_count\": 65000}, {\"institution\": \"Food Museum\", \"sector\": \"independent\", \"type\": \"museum\", \"topic\": \"social\", \"precision\": \"estimate\", \"artefact_count\": 40000}, {\"institution\": \"Museum of Freemasonry\", \"sector\": \"independent\", \"type\": \"museum\", \"topic\": \"social\", \"precision\": \"estimate\", \"artefact_count\": 90000}, {\"institution\": \"Museum of Lead Mining\", \"sector\": \"independent\", \"type\": \"museum\", \"topic\": \"industry\", \"precision\": \"estimate\", \"artefact_count\": 2572}, {\"institution\": \"Museum of Scottish Railways\", \"sector\": \"independent\", \"type\": \"museum\", \"topic\": \"industry\", \"precision\": \"estimate\", \"artefact_count\": 50000}, {\"institution\": \"Paxton Trust\", \"sector\": \"independent\", \"type\": \"building\", \"topic\": \"art\", \"precision\": \"estimate\", \"artefact_count\": 3754}, {\"institution\": \"Pier Arts Centre\", \"sector\": \"independent\", \"type\": \"gallery\", \"topic\": \"art\", \"precision\": \"estimate\", \"artefact_count\": 180}, {\"institution\": \"Postal Museum\", \"sector\": \"independent\", \"type\": \"museum\", \"topic\": \"social\", \"precision\": \"estimate\", \"artefact_count\": 60000}, {\"institution\": \"Royal Artillery Museum\", \"sector\": \"independent\", \"type\": \"museum\", \"topic\": \"military\", \"precision\": \"estimate\", \"artefact_count\": 30000}, {\"institution\": \"Royal Engineers Museum\", \"sector\": \"independent\", \"type\": \"museum\", \"topic\": \"military\", \"precision\": \"estimate\", \"artefact_count\": 1000000}, {\"institution\": \"Royal Scottish Academy of Art & Architecture\", \"sector\": \"independent\", \"type\": \"museum\", \"topic\": \"art\", \"precision\": \"estimate\", \"artefact_count\": 9000}, {\"institution\": \"Aberdeenshire Council Museums\", \"sector\": \"regional\", \"type\": \"museum\", \"topic\": \"mixed\", \"precision\": \"estimate\", \"artefact_count\": 250000}, {\"institution\": \"Barnsley Museums\", \"sector\": \"regional\", \"type\": \"museum\", \"topic\": \"mixed\", \"precision\": \"estimate\", \"artefact_count\": 711400}, {\"institution\": \"Birmingham Museums Trust\", \"sector\": \"regional\", \"type\": \"museum\", \"topic\": \"art\", \"precision\": \"estimate\", \"artefact_count\": 800000}, {\"institution\": \"Black Country Living Museum\", \"sector\": \"regional\", \"type\": \"museum\", \"topic\": \"history\", \"precision\": \"estimate\", \"artefact_count\": 80000}, {\"institution\": \"Bradford District Museums & Galleries\", \"sector\": \"regional\", \"type\": \"museum\", \"topic\": \"mixed\", \"precision\": \"estimate\", \"artefact_count\": 837837}, {\"institution\": \"Bristol Museums\", \"sector\": \"regional\", \"type\": \"museum\", \"topic\": \"mixed\", \"precision\": \"estimate\", \"artefact_count\": 2000000}, {\"institution\": \"Culture Coventry\", \"sector\": \"regional\", \"type\": \"museum\", \"topic\": \"mixed\", \"precision\": \"estimate\", \"artefact_count\": 1000000}, {\"institution\": \"Culture Perth and Kinross\", \"sector\": \"regional\", \"type\": \"mixed\", \"topic\": \"mixed\", \"precision\": \"estimate\", \"artefact_count\": 500000}, {\"institution\": \"Culture Trust Luton\", \"sector\": \"regional\", \"type\": \"museum\", \"topic\": \"mixed\", \"precision\": \"estimate\", \"artefact_count\": 1105051}, {\"institution\": \"Dundee Heritage Trust\", \"sector\": \"regional\", \"type\": \"museum\", \"topic\": \"mixed\", \"precision\": \"estimate\", \"artefact_count\": 0}, {\"institution\": \"Elgin Museum\", \"sector\": \"regional\", \"type\": \"museum\", \"topic\": \"mixed\", \"precision\": \"estimate\", \"artefact_count\": 36000}, {\"institution\": \"Glasgow Museums\", \"sector\": \"regional\", \"type\": \"museum\", \"topic\": \"mixed\", \"precision\": \"estimate\", \"artefact_count\": 1000000}, {\"institution\": \"Heritage Doncaster\", \"sector\": \"regional\", \"type\": \"museum\", \"topic\": \"mixed\", \"precision\": \"estimate\", \"artefact_count\": 406750}, {\"institution\": \"Highland Folk Museum\", \"sector\": \"regional\", \"type\": \"museum\", \"topic\": \"social\", \"precision\": \"estimate\", \"artefact_count\": 10000}, {\"institution\": \"Leeds Museums & Galleries\", \"sector\": \"regional\", \"type\": \"museum\", \"topic\": \"mixed\", \"precision\": \"estimate\", \"artefact_count\": 1300000}, {\"institution\": \"Leicester Museums\", \"sector\": \"regional\", \"type\": \"museum\", \"topic\": \"mixed\", \"precision\": \"estimate\", \"artefact_count\": 1500000}, {\"institution\": \"Manchester Art Gallery\", \"sector\": \"regional\", \"type\": \"gallery\", \"topic\": \"art\", \"precision\": \"estimate\", \"artefact_count\": 50000}, {\"institution\": \"Edinburgh Museums\", \"sector\": \"regional\", \"type\": \"museum\", \"topic\": \"mixed\", \"precision\": \"estimate\", \"artefact_count\": 220000}, {\"institution\": \"Museums Northhumberland\", \"sector\": \"regional\", \"type\": \"museum\", \"topic\": \"mixed\", \"precision\": \"estimate\", \"artefact_count\": 25000}, {\"institution\": \"Northhampton Museums\", \"sector\": \"regional\", \"type\": \"museum\", \"topic\": \"mixed\", \"precision\": \"estimate\", \"artefact_count\": 44024}, {\"institution\": \"Orkney Museums\", \"sector\": \"regional\", \"type\": \"museum\", \"topic\": \"mixed\", \"precision\": \"estimate\", \"artefact_count\": 100000}, {\"institution\": \"Poole Museums\", \"sector\": \"regional\", \"type\": \"museum\", \"topic\": \"mixed\", \"precision\": \"estimate\", \"artefact_count\": 50000}, {\"institution\": \"Potteries Museum and Art Gallery\", \"sector\": \"regional\", \"type\": \"museum\", \"topic\": \"arts\", \"precision\": \"estimate\", \"artefact_count\": 1000000}, {\"institution\": \"Preston Park Museum & Grounds\", \"sector\": \"regional\", \"type\": \"museum\", \"topic\": \"social\", \"precision\": \"estimate\", \"artefact_count\": 100000}, {\"institution\": \"Ripon Museums\", \"sector\": \"regional\", \"type\": \"museum\", \"topic\": \"social\", \"precision\": \"estimate\", \"artefact_count\": 9000}, {\"institution\": \"Royal Albert Memorial Museum\", \"sector\": \"regional\", \"type\": \"museum\", \"topic\": \"mixed\", \"precision\": \"estimate\", \"artefact_count\": 1000000}, {\"institution\": \"Salisbury Museum\", \"sector\": \"regional\", \"type\": \"museum\", \"topic\": \"mixed\", \"precision\": \"estimate\", \"artefact_count\": 100000}, {\"institution\": \"Victoria & Albert Museum\", \"sector\": \"dcms\", \"type\": \"museum\", \"topic\": \"art\", \"precision\": \"estimate\", \"artefact_count\": 2800000}, {\"institution\": \"Science Museum Group\", \"sector\": \"dcms\", \"type\": \"museum\", \"topic\": \"science\", \"precision\": \"estimate\", \"artefact_count\": 7360793}, {\"institution\": \"Museum of the Home\", \"sector\": \"dcms\", \"type\": \"museum\", \"topic\": \"history\", \"precision\": \"estimate\", \"artefact_count\": 40000}, {\"institution\": \"Horniman Museum\", \"sector\": \"dcms\", \"type\": \"museum\", \"topic\": \"history\", \"precision\": \"estimate\", \"artefact_count\": 350000}, {\"institution\": \"Imperial War Museums\", \"sector\": \"dcms\", \"type\": \"museum\", \"topic\": \"history\", \"precision\": \"estimate\", \"artefact_count\": 1000000}, {\"institution\": \"National Gallery\", \"sector\": \"dcms\", \"type\": \"gallery\", \"topic\": \"art\", \"precision\": \"estimate\", \"artefact_count\": 2626}, {\"institution\": \"National Museums Liverpool\", \"sector\": \"dcms\", \"type\": \"museum\", \"topic\": \"history\", \"precision\": \"estimate\", \"artefact_count\": 4000000}, {\"institution\": \"National Portrait Gallery\", \"sector\": \"dcms\", \"type\": \"gallery\", \"topic\": \"art\", \"precision\": \"estimate\", \"artefact_count\": 350000}, {\"institution\": \"Natural History Museum\", \"sector\": \"dcms\", \"type\": \"museum\", \"topic\": \"nature\", \"precision\": \"estimate\", \"artefact_count\": 80000000}, {\"institution\": \"Royal Armouries\", \"sector\": \"dcms\", \"type\": \"museum\", \"topic\": \"history\", \"precision\": \"estimate\", \"artefact_count\": 70000}, {\"institution\": \"Royal Museums Greenwich\", \"sector\": \"dcms\", \"type\": \"museum\", \"topic\": \"history\", \"precision\": \"estimate\", \"artefact_count\": 3000000}, {\"institution\": \"Sir John Soane's Museum\", \"sector\": \"dcms\", \"type\": \"museum\", \"topic\": \"history\", \"precision\": \"estimate\", \"artefact_count\": 52000}, {\"institution\": \"Tate Gallery Group\", \"sector\": \"dcms\", \"type\": \"gallery\", \"topic\": \"art\", \"precision\": \"estimate\", \"artefact_count\": 70000}, {\"institution\": \"The Wallace Collection\", \"sector\": \"dcms\", \"type\": \"museum\", \"topic\": \"art\", \"precision\": \"estimate\", \"artefact_count\": 5637}, {\"institution\": \"British Museum\", \"sector\": \"dcms\", \"type\": \"museum\", \"topic\": \"history\", \"precision\": \"estimate\", \"artefact_count\": 8000000}]}}, {\"mode\": \"vega-lite\"});\n",
       "</script>"
      ],
      "text/plain": [
       "alt.Chart(...)"
      ]
     },
     "execution_count": 77,
     "metadata": {},
     "output_type": "execute_result"
    }
   ],
   "source": [
    "import altair as alt\n",
    "title = alt.TitleParams('Artefacts per Institition by collection type', anchor='middle')\n",
    "alt.Chart(artefacts_df, title=title, width=125).mark_bar().encode(\n",
    "    alt.Color('institution:N', legend=alt.Legend(orient='bottom',columns=4)),\n",
    "    alt.X('artefact_count', axis=alt.Axis(orient='top')),\n",
    "    y='institution',\n",
    "    column='type',\n",
    "    tooltip=['artefact_count', 'institution'],\n",
    "    order='artefact_count:Q'\n",
    ").configure(numberFormat='.2s').resolve_scale(x='independent')"
   ]
  },
  {
   "cell_type": "markdown",
   "id": "d5bf1b30-d1d4-45cf-9d1e-413134e72c9a",
   "metadata": {
    "editable": true,
    "slideshow": {
     "slide_type": ""
    },
    "tags": []
   },
   "source": [
    "## Artefacts per instition and collection type (without natural history)"
   ]
  },
  {
   "cell_type": "code",
   "execution_count": 78,
   "id": "f75e26ab-f708-4a93-a4bb-ff710291e97e",
   "metadata": {
    "editable": true,
    "slideshow": {
     "slide_type": ""
    },
    "tags": [
     "remove-input",
     "full-size"
    ]
   },
   "outputs": [
    {
     "data": {
      "text/html": [
       "\n",
       "<style>\n",
       "  #altair-viz-fb76ab10bddb491186a2ff45947a2bb1.vega-embed {\n",
       "    width: 100%;\n",
       "    display: flex;\n",
       "  }\n",
       "\n",
       "  #altair-viz-fb76ab10bddb491186a2ff45947a2bb1.vega-embed details,\n",
       "  #altair-viz-fb76ab10bddb491186a2ff45947a2bb1.vega-embed details summary {\n",
       "    position: relative;\n",
       "  }\n",
       "</style>\n",
       "<div id=\"altair-viz-fb76ab10bddb491186a2ff45947a2bb1\"></div>\n",
       "<script type=\"text/javascript\">\n",
       "  var VEGA_DEBUG = (typeof VEGA_DEBUG == \"undefined\") ? {} : VEGA_DEBUG;\n",
       "  (function(spec, embedOpt){\n",
       "    let outputDiv = document.currentScript.previousElementSibling;\n",
       "    if (outputDiv.id !== \"altair-viz-fb76ab10bddb491186a2ff45947a2bb1\") {\n",
       "      outputDiv = document.getElementById(\"altair-viz-fb76ab10bddb491186a2ff45947a2bb1\");\n",
       "    }\n",
       "    const paths = {\n",
       "      \"vega\": \"https://cdn.jsdelivr.net/npm/vega@5?noext\",\n",
       "      \"vega-lib\": \"https://cdn.jsdelivr.net/npm/vega-lib?noext\",\n",
       "      \"vega-lite\": \"https://cdn.jsdelivr.net/npm/vega-lite@5.17.0?noext\",\n",
       "      \"vega-embed\": \"https://cdn.jsdelivr.net/npm/vega-embed@6?noext\",\n",
       "    };\n",
       "\n",
       "    function maybeLoadScript(lib, version) {\n",
       "      var key = `${lib.replace(\"-\", \"\")}_version`;\n",
       "      return (VEGA_DEBUG[key] == version) ?\n",
       "        Promise.resolve(paths[lib]) :\n",
       "        new Promise(function(resolve, reject) {\n",
       "          var s = document.createElement('script');\n",
       "          document.getElementsByTagName(\"head\")[0].appendChild(s);\n",
       "          s.async = true;\n",
       "          s.onload = () => {\n",
       "            VEGA_DEBUG[key] = version;\n",
       "            return resolve(paths[lib]);\n",
       "          };\n",
       "          s.onerror = () => reject(`Error loading script: ${paths[lib]}`);\n",
       "          s.src = paths[lib];\n",
       "        });\n",
       "    }\n",
       "\n",
       "    function showError(err) {\n",
       "      outputDiv.innerHTML = `<div class=\"error\" style=\"color:red;\">${err}</div>`;\n",
       "      throw err;\n",
       "    }\n",
       "\n",
       "    function displayChart(vegaEmbed) {\n",
       "      vegaEmbed(outputDiv, spec, embedOpt)\n",
       "        .catch(err => showError(`Javascript Error: ${err.message}<br>This usually means there's a typo in your chart specification. See the javascript console for the full traceback.`));\n",
       "    }\n",
       "\n",
       "    if(typeof define === \"function\" && define.amd) {\n",
       "      requirejs.config({paths});\n",
       "      require([\"vega-embed\"], displayChart, err => showError(`Error loading script: ${err.message}`));\n",
       "    } else {\n",
       "      maybeLoadScript(\"vega\", \"5\")\n",
       "        .then(() => maybeLoadScript(\"vega-lite\", \"5.17.0\"))\n",
       "        .then(() => maybeLoadScript(\"vega-embed\", \"6\"))\n",
       "        .catch(showError)\n",
       "        .then(() => displayChart(vegaEmbed));\n",
       "    }\n",
       "  })({\"config\": {\"view\": {\"continuousWidth\": 300, \"continuousHeight\": 300}, \"numberFormat\": \".2s\"}, \"data\": {\"name\": \"data-d1f32ef773e5d7ce571275c2cbabb600\"}, \"mark\": {\"type\": \"bar\"}, \"encoding\": {\"color\": {\"field\": \"institution\", \"legend\": {\"columns\": 4, \"orient\": \"bottom\"}, \"type\": \"nominal\"}, \"column\": {\"field\": \"type\", \"type\": \"nominal\"}, \"order\": {\"field\": \"artefact_count\", \"type\": \"quantitative\"}, \"tooltip\": {\"field\": \"artefact_count\", \"type\": \"quantitative\"}, \"x\": {\"axis\": {\"orient\": \"top\"}, \"field\": \"artefact_count\", \"type\": \"quantitative\"}, \"y\": {\"field\": \"institution\", \"type\": \"nominal\"}}, \"resolve\": {\"scale\": {\"x\": \"independent\"}}, \"title\": {\"text\": \"Artefacts per Institition (by collection type, without specimen collections\", \"anchor\": \"middle\"}, \"width\": 125, \"$schema\": \"https://vega.github.io/schema/vega-lite/v5.17.0.json\", \"datasets\": {\"data-d1f32ef773e5d7ce571275c2cbabb600\": [{\"institution\": \"Oxford University\", \"sector\": \"university\", \"type\": \"university\", \"topic\": \"mixed\", \"precision\": \"estimate\", \"artefact_count\": 22530000}, {\"institution\": \"University of Cambridge\", \"sector\": \"university\", \"type\": \"university\", \"topic\": \"mixed\", \"precision\": \"estimate\", \"artefact_count\": 2000000}, {\"institution\": \"Durham University\", \"sector\": \"university\", \"type\": \"university\", \"topic\": \"mixed\", \"precision\": \"estimate\", \"artefact_count\": 106000}, {\"institution\": \"University College London\", \"sector\": \"university\", \"type\": \"university\", \"topic\": \"mixed\", \"precision\": \"estimate\", \"artefact_count\": 164000}, {\"institution\": \"University of Manchester\", \"sector\": \"university\", \"type\": \"university\", \"topic\": \"mixed\", \"precision\": \"estimate\", \"artefact_count\": 8560000}, {\"institution\": \"King's College London\", \"sector\": \"university\", \"type\": \"university\", \"topic\": \"mixed\", \"precision\": \"estimate\", \"artefact_count\": 200000}, {\"institution\": \"University of Birmingham\", \"sector\": \"university\", \"type\": \"university\", \"topic\": \"mixed\", \"precision\": \"estimate\", \"artefact_count\": 4500000}, {\"institution\": \"Unversity of Warwick\", \"sector\": \"university\", \"type\": \"university\", \"topic\": \"mixed\", \"precision\": \"estimate\", \"artefact_count\": 16000}, {\"institution\": \"Manchester Metropolitan Unversity\", \"sector\": \"university\", \"type\": \"university\", \"topic\": \"mixed\", \"precision\": \"estimate\", \"artefact_count\": 0}, {\"institution\": \"Swansea University\", \"sector\": \"university\", \"type\": \"university\", \"topic\": \"mixed\", \"precision\": \"estimate\", \"artefact_count\": 1700}, {\"institution\": \"University of Brighton\", \"sector\": \"university\", \"type\": \"university\", \"topic\": \"mixed\", \"precision\": \"estimate\", \"artefact_count\": 50000}, {\"institution\": \"SOAS, University of London\", \"sector\": \"university\", \"type\": \"university\", \"topic\": \"mixed\", \"precision\": \"estimate\", \"artefact_count\": 60000}, {\"institution\": \"University of Aberdeen\", \"sector\": \"university\", \"type\": \"university\", \"topic\": \"mixed\", \"precision\": \"estimate\", \"artefact_count\": 530000}, {\"institution\": \"University of Bristol\", \"sector\": \"university\", \"type\": \"university\", \"topic\": \"mixed\", \"precision\": \"estimate\", \"artefact_count\": 100000}, {\"institution\": \"University of Leeds\", \"sector\": \"university\", \"type\": \"university\", \"topic\": \"mixed\", \"precision\": \"estimate\", \"artefact_count\": 350000}, {\"institution\": \"University of Sheffield\", \"sector\": \"university\", \"type\": \"university\", \"topic\": \"mixed\", \"precision\": \"estimate\", \"artefact_count\": 30000}, {\"institution\": \"University of St Andrews\", \"sector\": \"university\", \"type\": \"university\", \"topic\": \"mixed\", \"precision\": \"estimate\", \"artefact_count\": 200000}, {\"institution\": \"Royal College of Surgeons\", \"sector\": \"university\", \"type\": \"university\", \"topic\": \"medicine\", \"precision\": \"estimate\", \"artefact_count\": 3500}, {\"institution\": \"British Library\", \"sector\": \"library\", \"type\": \"library\", \"topic\": \"mixed\", \"precision\": \"estimate\", \"artefact_count\": 33810000}, {\"institution\": \"Chetham's Library\", \"sector\": \"library\", \"type\": \"library\", \"topic\": \"mixed\", \"precision\": \"estimate\", \"artefact_count\": 121041}, {\"institution\": \"Glasgow Woman's Library\", \"sector\": \"library\", \"type\": \"library\", \"topic\": \"mixed\", \"precision\": \"estimate\", \"artefact_count\": 0}, {\"institution\": \"Lambeth Palace Library\", \"sector\": \"library\", \"type\": \"library\", \"topic\": \"theology\", \"precision\": \"estimate\", \"artefact_count\": 186200}, {\"institution\": \"National Library of Wales\", \"sector\": \"library\", \"type\": \"library\", \"topic\": \"mixed\", \"precision\": \"estimate\", \"artefact_count\": 7540000}, {\"institution\": \"National Library of Scotland\", \"sector\": \"library\", \"type\": \"library\", \"topic\": \"mixed\", \"precision\": \"estimate\", \"artefact_count\": 37000000}, {\"institution\": \"Amgueddfa Cymru (National Museum Wales)\", \"sector\": \"national\", \"type\": \"museum\", \"topic\": \"mixed\", \"precision\": \"estimate\", \"artefact_count\": 5319585}, {\"institution\": \"Historic Royal Palaces\", \"sector\": \"national\", \"type\": \"building\", \"topic\": \"mixed\", \"precision\": \"estimate\", \"artefact_count\": 60000}, {\"institution\": \"National Football Museum\", \"sector\": \"national\", \"type\": \"museum\", \"topic\": \"mixed\", \"precision\": \"estimate\", \"artefact_count\": 40000}, {\"institution\": \"National Justice Museum\", \"sector\": \"national\", \"type\": \"museum\", \"topic\": \"mixed\", \"precision\": \"estimate\", \"artefact_count\": 40000}, {\"institution\": \"National Mining Museum Scotland\", \"sector\": \"national\", \"type\": \"museum\", \"topic\": \"industry\", \"precision\": \"estimate\", \"artefact_count\": 100000}, {\"institution\": \"National Museum of the Royal Navy\", \"sector\": \"national\", \"type\": \"museum\", \"topic\": \"maritime\", \"precision\": \"estimate\", \"artefact_count\": 2500000}, {\"institution\": \"National Museums NI\", \"sector\": \"national\", \"type\": \"museum\", \"topic\": \"mixed\", \"precision\": \"estimate\", \"artefact_count\": 1400000}, {\"institution\": \"National Museums Scotland\", \"sector\": \"national\", \"type\": \"museum\", \"topic\": \"mixed\", \"precision\": \"estimate\", \"artefact_count\": 12000000}, {\"institution\": \"National Tramway Museum\", \"sector\": \"national\", \"type\": \"museum\", \"topic\": \"mixed\", \"precision\": \"estimate\", \"artefact_count\": 46690}, {\"institution\": \"National Trust\", \"sector\": \"national\", \"type\": \"building\", \"topic\": \"art\", \"precision\": \"estimate\", \"artefact_count\": 1000000}, {\"institution\": \"National Trust for Scotland\", \"sector\": \"national\", \"type\": \"building\", \"topic\": \"art\", \"precision\": \"estimate\", \"artefact_count\": 300000}, {\"institution\": \"National Waterways Museum\", \"sector\": \"national\", \"type\": \"building\", \"topic\": \"transport\", \"precision\": \"estimate\", \"artefact_count\": 150000}, {\"institution\": \"Royal Collection Trust\", \"sector\": \"national\", \"type\": \"museum\", \"topic\": \"art\", \"precision\": \"estimate\", \"artefact_count\": 1000000}, {\"institution\": \"Government Art Collection\", \"sector\": \"national\", \"type\": \"museum\", \"topic\": \"art\", \"precision\": \"estimate\", \"artefact_count\": 15000}, {\"institution\": \"Historic Environment Scotland\", \"sector\": \"national\", \"type\": \"museum\", \"topic\": \"heritage\", \"precision\": \"estimate\", \"artefact_count\": 41000}, {\"institution\": \"People's History Museum\", \"sector\": \"national\", \"type\": \"museum\", \"topic\": \"social\", \"precision\": \"estimate\", \"artefact_count\": 5680}, {\"institution\": \"Portable Antiquities Scheme\", \"sector\": \"national\", \"type\": \"museum\", \"topic\": \"archaeology\", \"precision\": \"estimate\", \"artefact_count\": 1751232}, {\"institution\": \"Royal Air Force Museum\", \"sector\": \"national\", \"type\": \"museum\", \"topic\": \"military\", \"precision\": \"estimate\", \"artefact_count\": 1300000}, {\"institution\": \"Courtauld Gallery\", \"sector\": \"independent\", \"type\": \"gallery\", \"topic\": \"art\", \"precision\": \"estimate\", \"artefact_count\": 33501}, {\"institution\": \"Dulwich Picture Gallery\", \"sector\": \"independent\", \"type\": \"gallery\", \"topic\": \"art\", \"precision\": \"estimate\", \"artefact_count\": 600}, {\"institution\": \"Manchester Art Gallery\", \"sector\": \"independent\", \"type\": \"gallery\", \"topic\": \"art\", \"precision\": \"estimate\", \"artefact_count\": 46000}, {\"institution\": \"National Galleries Scotland\", \"sector\": \"independent\", \"type\": \"gallery\", \"topic\": \"art\", \"precision\": \"estimate\", \"artefact_count\": 120000}, {\"institution\": \"Bowes Museum\", \"sector\": \"independent\", \"type\": \"museum\", \"topic\": \"art\", \"precision\": \"estimate\", \"artefact_count\": 30000}, {\"institution\": \"Britten Pears\", \"sector\": \"independent\", \"type\": \"museum\", \"topic\": \"art\", \"precision\": \"estimate\", \"artefact_count\": 1200}, {\"institution\": \"Chatham Historic Dockyard\", \"sector\": \"independent\", \"type\": \"building\", \"topic\": \"maritime\", \"precision\": \"estimate\", \"artefact_count\": 70000}, {\"institution\": \"English Heritage Trust\", \"sector\": \"independent\", \"type\": \"building\", \"topic\": \"history\", \"precision\": \"estimate\", \"artefact_count\": 700000}, {\"institution\": \"Gordon Highlanders Museum\", \"sector\": \"independent\", \"type\": \"museum\", \"topic\": \"military\", \"precision\": \"estimate\", \"artefact_count\": 40000}, {\"institution\": \"Ironbridge Gorge Museum Trust\", \"sector\": \"independent\", \"type\": \"museum\", \"topic\": \"industry\", \"precision\": \"estimate\", \"artefact_count\": 400000}, {\"institution\": \"Jewish Museum London\", \"sector\": \"independent\", \"type\": \"museum\", \"topic\": \"social\", \"precision\": \"estimate\", \"artefact_count\": 40000}, {\"institution\": \"London Transport Museum\", \"sector\": \"independent\", \"type\": \"museum\", \"topic\": \"transport\", \"precision\": \"estimate\", \"artefact_count\": 500000}, {\"institution\": \"Manchester Jewish Museum\", \"sector\": \"independent\", \"type\": \"museum\", \"topic\": \"social\", \"precision\": \"estimate\", \"artefact_count\": 31000}, {\"institution\": \"Mary Rose Trust\", \"sector\": \"independent\", \"type\": \"museum\", \"topic\": \"maritime\", \"precision\": \"estimate\", \"artefact_count\": 19000}, {\"institution\": \"Media Archive for Central England (MACE)\", \"sector\": \"independent\", \"type\": \"archive\", \"topic\": \"media\", \"precision\": \"estimate\", \"artefact_count\": 65000}, {\"institution\": \"Food Museum\", \"sector\": \"independent\", \"type\": \"museum\", \"topic\": \"social\", \"precision\": \"estimate\", \"artefact_count\": 40000}, {\"institution\": \"Museum of Freemasonry\", \"sector\": \"independent\", \"type\": \"museum\", \"topic\": \"social\", \"precision\": \"estimate\", \"artefact_count\": 90000}, {\"institution\": \"Museum of Lead Mining\", \"sector\": \"independent\", \"type\": \"museum\", \"topic\": \"industry\", \"precision\": \"estimate\", \"artefact_count\": 2572}, {\"institution\": \"Museum of Scottish Railways\", \"sector\": \"independent\", \"type\": \"museum\", \"topic\": \"industry\", \"precision\": \"estimate\", \"artefact_count\": 50000}, {\"institution\": \"Paxton Trust\", \"sector\": \"independent\", \"type\": \"building\", \"topic\": \"art\", \"precision\": \"estimate\", \"artefact_count\": 3754}, {\"institution\": \"Pier Arts Centre\", \"sector\": \"independent\", \"type\": \"gallery\", \"topic\": \"art\", \"precision\": \"estimate\", \"artefact_count\": 180}, {\"institution\": \"Postal Museum\", \"sector\": \"independent\", \"type\": \"museum\", \"topic\": \"social\", \"precision\": \"estimate\", \"artefact_count\": 60000}, {\"institution\": \"Royal Artillery Museum\", \"sector\": \"independent\", \"type\": \"museum\", \"topic\": \"military\", \"precision\": \"estimate\", \"artefact_count\": 30000}, {\"institution\": \"Royal Engineers Museum\", \"sector\": \"independent\", \"type\": \"museum\", \"topic\": \"military\", \"precision\": \"estimate\", \"artefact_count\": 1000000}, {\"institution\": \"Royal Scottish Academy of Art & Architecture\", \"sector\": \"independent\", \"type\": \"museum\", \"topic\": \"art\", \"precision\": \"estimate\", \"artefact_count\": 9000}, {\"institution\": \"Aberdeenshire Council Museums\", \"sector\": \"regional\", \"type\": \"museum\", \"topic\": \"mixed\", \"precision\": \"estimate\", \"artefact_count\": 250000}, {\"institution\": \"Barnsley Museums\", \"sector\": \"regional\", \"type\": \"museum\", \"topic\": \"mixed\", \"precision\": \"estimate\", \"artefact_count\": 711400}, {\"institution\": \"Birmingham Museums Trust\", \"sector\": \"regional\", \"type\": \"museum\", \"topic\": \"art\", \"precision\": \"estimate\", \"artefact_count\": 800000}, {\"institution\": \"Black Country Living Museum\", \"sector\": \"regional\", \"type\": \"museum\", \"topic\": \"history\", \"precision\": \"estimate\", \"artefact_count\": 80000}, {\"institution\": \"Bradford District Museums & Galleries\", \"sector\": \"regional\", \"type\": \"museum\", \"topic\": \"mixed\", \"precision\": \"estimate\", \"artefact_count\": 837837}, {\"institution\": \"Bristol Museums\", \"sector\": \"regional\", \"type\": \"museum\", \"topic\": \"mixed\", \"precision\": \"estimate\", \"artefact_count\": 2000000}, {\"institution\": \"Culture Coventry\", \"sector\": \"regional\", \"type\": \"museum\", \"topic\": \"mixed\", \"precision\": \"estimate\", \"artefact_count\": 1000000}, {\"institution\": \"Culture Perth and Kinross\", \"sector\": \"regional\", \"type\": \"mixed\", \"topic\": \"mixed\", \"precision\": \"estimate\", \"artefact_count\": 500000}, {\"institution\": \"Culture Trust Luton\", \"sector\": \"regional\", \"type\": \"museum\", \"topic\": \"mixed\", \"precision\": \"estimate\", \"artefact_count\": 1105051}, {\"institution\": \"Dundee Heritage Trust\", \"sector\": \"regional\", \"type\": \"museum\", \"topic\": \"mixed\", \"precision\": \"estimate\", \"artefact_count\": 0}, {\"institution\": \"Elgin Museum\", \"sector\": \"regional\", \"type\": \"museum\", \"topic\": \"mixed\", \"precision\": \"estimate\", \"artefact_count\": 36000}, {\"institution\": \"Glasgow Museums\", \"sector\": \"regional\", \"type\": \"museum\", \"topic\": \"mixed\", \"precision\": \"estimate\", \"artefact_count\": 1000000}, {\"institution\": \"Heritage Doncaster\", \"sector\": \"regional\", \"type\": \"museum\", \"topic\": \"mixed\", \"precision\": \"estimate\", \"artefact_count\": 406750}, {\"institution\": \"Highland Folk Museum\", \"sector\": \"regional\", \"type\": \"museum\", \"topic\": \"social\", \"precision\": \"estimate\", \"artefact_count\": 10000}, {\"institution\": \"Leeds Museums & Galleries\", \"sector\": \"regional\", \"type\": \"museum\", \"topic\": \"mixed\", \"precision\": \"estimate\", \"artefact_count\": 1300000}, {\"institution\": \"Leicester Museums\", \"sector\": \"regional\", \"type\": \"museum\", \"topic\": \"mixed\", \"precision\": \"estimate\", \"artefact_count\": 1500000}, {\"institution\": \"Manchester Art Gallery\", \"sector\": \"regional\", \"type\": \"gallery\", \"topic\": \"art\", \"precision\": \"estimate\", \"artefact_count\": 50000}, {\"institution\": \"Edinburgh Museums\", \"sector\": \"regional\", \"type\": \"museum\", \"topic\": \"mixed\", \"precision\": \"estimate\", \"artefact_count\": 220000}, {\"institution\": \"Museums Northhumberland\", \"sector\": \"regional\", \"type\": \"museum\", \"topic\": \"mixed\", \"precision\": \"estimate\", \"artefact_count\": 25000}, {\"institution\": \"Northhampton Museums\", \"sector\": \"regional\", \"type\": \"museum\", \"topic\": \"mixed\", \"precision\": \"estimate\", \"artefact_count\": 44024}, {\"institution\": \"Orkney Museums\", \"sector\": \"regional\", \"type\": \"museum\", \"topic\": \"mixed\", \"precision\": \"estimate\", \"artefact_count\": 100000}, {\"institution\": \"Poole Museums\", \"sector\": \"regional\", \"type\": \"museum\", \"topic\": \"mixed\", \"precision\": \"estimate\", \"artefact_count\": 50000}, {\"institution\": \"Potteries Museum and Art Gallery\", \"sector\": \"regional\", \"type\": \"museum\", \"topic\": \"arts\", \"precision\": \"estimate\", \"artefact_count\": 1000000}, {\"institution\": \"Preston Park Museum & Grounds\", \"sector\": \"regional\", \"type\": \"museum\", \"topic\": \"social\", \"precision\": \"estimate\", \"artefact_count\": 100000}, {\"institution\": \"Ripon Museums\", \"sector\": \"regional\", \"type\": \"museum\", \"topic\": \"social\", \"precision\": \"estimate\", \"artefact_count\": 9000}, {\"institution\": \"Royal Albert Memorial Museum\", \"sector\": \"regional\", \"type\": \"museum\", \"topic\": \"mixed\", \"precision\": \"estimate\", \"artefact_count\": 1000000}, {\"institution\": \"Salisbury Museum\", \"sector\": \"regional\", \"type\": \"museum\", \"topic\": \"mixed\", \"precision\": \"estimate\", \"artefact_count\": 100000}, {\"institution\": \"Victoria & Albert Museum\", \"sector\": \"dcms\", \"type\": \"museum\", \"topic\": \"art\", \"precision\": \"estimate\", \"artefact_count\": 2800000}, {\"institution\": \"Science Museum Group\", \"sector\": \"dcms\", \"type\": \"museum\", \"topic\": \"science\", \"precision\": \"estimate\", \"artefact_count\": 7360793}, {\"institution\": \"Museum of the Home\", \"sector\": \"dcms\", \"type\": \"museum\", \"topic\": \"history\", \"precision\": \"estimate\", \"artefact_count\": 40000}, {\"institution\": \"Horniman Museum\", \"sector\": \"dcms\", \"type\": \"museum\", \"topic\": \"history\", \"precision\": \"estimate\", \"artefact_count\": 350000}, {\"institution\": \"Imperial War Museums\", \"sector\": \"dcms\", \"type\": \"museum\", \"topic\": \"history\", \"precision\": \"estimate\", \"artefact_count\": 1000000}, {\"institution\": \"National Gallery\", \"sector\": \"dcms\", \"type\": \"gallery\", \"topic\": \"art\", \"precision\": \"estimate\", \"artefact_count\": 2626}, {\"institution\": \"National Museums Liverpool\", \"sector\": \"dcms\", \"type\": \"museum\", \"topic\": \"history\", \"precision\": \"estimate\", \"artefact_count\": 4000000}, {\"institution\": \"National Portrait Gallery\", \"sector\": \"dcms\", \"type\": \"gallery\", \"topic\": \"art\", \"precision\": \"estimate\", \"artefact_count\": 350000}, {\"institution\": \"Royal Armouries\", \"sector\": \"dcms\", \"type\": \"museum\", \"topic\": \"history\", \"precision\": \"estimate\", \"artefact_count\": 70000}, {\"institution\": \"Royal Museums Greenwich\", \"sector\": \"dcms\", \"type\": \"museum\", \"topic\": \"history\", \"precision\": \"estimate\", \"artefact_count\": 3000000}, {\"institution\": \"Sir John Soane's Museum\", \"sector\": \"dcms\", \"type\": \"museum\", \"topic\": \"history\", \"precision\": \"estimate\", \"artefact_count\": 52000}, {\"institution\": \"Tate Gallery Group\", \"sector\": \"dcms\", \"type\": \"gallery\", \"topic\": \"art\", \"precision\": \"estimate\", \"artefact_count\": 70000}, {\"institution\": \"The Wallace Collection\", \"sector\": \"dcms\", \"type\": \"museum\", \"topic\": \"art\", \"precision\": \"estimate\", \"artefact_count\": 5637}, {\"institution\": \"British Museum\", \"sector\": \"dcms\", \"type\": \"museum\", \"topic\": \"history\", \"precision\": \"estimate\", \"artefact_count\": 8000000}]}}, {\"mode\": \"vega-lite\"});\n",
       "</script>"
      ],
      "text/plain": [
       "alt.Chart(...)"
      ]
     },
     "execution_count": 78,
     "metadata": {},
     "output_type": "execute_result"
    }
   ],
   "source": [
    "import altair as alt\n",
    "\n",
    "artefacts_non_nature_df = artefacts_df.loc[artefacts_df['topic'] != 'nature']\n",
    "\n",
    "title = alt.TitleParams('Artefacts per Institition (by collection type, without specimen collections', anchor='middle')\n",
    "alt.Chart(artefacts_non_nature_df, title=title, width=125).mark_bar().encode(\n",
    "    alt.Color('institution:N', legend=alt.Legend(orient='bottom',columns=4)),\n",
    "    alt.X('artefact_count', axis=alt.Axis(orient='top')),\n",
    "    y='institution',\n",
    "    column='type',\n",
    "    tooltip=['institution', 'artefact_count'],\n",
    "    order='artefact_count:Q'\n",
    ").configure(numberFormat='.2s').resolve_scale(x='independent')"
   ]
  },
  {
   "cell_type": "markdown",
   "id": "3f26d6bb-493f-4055-82ce-7899e5e40d9e",
   "metadata": {
    "editable": true,
    "slideshow": {
     "slide_type": ""
    },
    "tags": []
   },
   "source": [
    "## Artefacts by institution and cataloguing type with precision"
   ]
  },
  {
   "cell_type": "code",
   "execution_count": 11,
   "id": "b3acc664-34fd-41f9-bbff-92f0a787eaf8",
   "metadata": {
    "editable": true,
    "slideshow": {
     "slide_type": ""
    },
    "tags": [
     "remove-cell"
    ]
   },
   "outputs": [],
   "source": [
    "\n",
    "artefacts_type_df = pd.read_csv(\"artefacts-type-overview-stats.csv\")"
   ]
  },
  {
   "cell_type": "code",
   "execution_count": 12,
   "id": "a142bd46-17ec-438d-88b9-332ebfb6648c",
   "metadata": {
    "editable": true,
    "slideshow": {
     "slide_type": ""
    },
    "tags": [
     "remove-input"
    ]
   },
   "outputs": [
    {
     "data": {
      "text/html": [
       "\n",
       "<style>\n",
       "  #altair-viz-921fb22fea9c424281452fba3adf2017.vega-embed {\n",
       "    width: 100%;\n",
       "    display: flex;\n",
       "  }\n",
       "\n",
       "  #altair-viz-921fb22fea9c424281452fba3adf2017.vega-embed details,\n",
       "  #altair-viz-921fb22fea9c424281452fba3adf2017.vega-embed details summary {\n",
       "    position: relative;\n",
       "  }\n",
       "</style>\n",
       "<div id=\"altair-viz-921fb22fea9c424281452fba3adf2017\"></div>\n",
       "<script type=\"text/javascript\">\n",
       "  var VEGA_DEBUG = (typeof VEGA_DEBUG == \"undefined\") ? {} : VEGA_DEBUG;\n",
       "  (function(spec, embedOpt){\n",
       "    let outputDiv = document.currentScript.previousElementSibling;\n",
       "    if (outputDiv.id !== \"altair-viz-921fb22fea9c424281452fba3adf2017\") {\n",
       "      outputDiv = document.getElementById(\"altair-viz-921fb22fea9c424281452fba3adf2017\");\n",
       "    }\n",
       "    const paths = {\n",
       "      \"vega\": \"https://cdn.jsdelivr.net/npm/vega@5?noext\",\n",
       "      \"vega-lib\": \"https://cdn.jsdelivr.net/npm/vega-lib?noext\",\n",
       "      \"vega-lite\": \"https://cdn.jsdelivr.net/npm/vega-lite@5.17.0?noext\",\n",
       "      \"vega-embed\": \"https://cdn.jsdelivr.net/npm/vega-embed@6?noext\",\n",
       "    };\n",
       "\n",
       "    function maybeLoadScript(lib, version) {\n",
       "      var key = `${lib.replace(\"-\", \"\")}_version`;\n",
       "      return (VEGA_DEBUG[key] == version) ?\n",
       "        Promise.resolve(paths[lib]) :\n",
       "        new Promise(function(resolve, reject) {\n",
       "          var s = document.createElement('script');\n",
       "          document.getElementsByTagName(\"head\")[0].appendChild(s);\n",
       "          s.async = true;\n",
       "          s.onload = () => {\n",
       "            VEGA_DEBUG[key] = version;\n",
       "            return resolve(paths[lib]);\n",
       "          };\n",
       "          s.onerror = () => reject(`Error loading script: ${paths[lib]}`);\n",
       "          s.src = paths[lib];\n",
       "        });\n",
       "    }\n",
       "\n",
       "    function showError(err) {\n",
       "      outputDiv.innerHTML = `<div class=\"error\" style=\"color:red;\">${err}</div>`;\n",
       "      throw err;\n",
       "    }\n",
       "\n",
       "    function displayChart(vegaEmbed) {\n",
       "      vegaEmbed(outputDiv, spec, embedOpt)\n",
       "        .catch(err => showError(`Javascript Error: ${err.message}<br>This usually means there's a typo in your chart specification. See the javascript console for the full traceback.`));\n",
       "    }\n",
       "\n",
       "    if(typeof define === \"function\" && define.amd) {\n",
       "      requirejs.config({paths});\n",
       "      require([\"vega-embed\"], displayChart, err => showError(`Error loading script: ${err.message}`));\n",
       "    } else {\n",
       "      maybeLoadScript(\"vega\", \"5\")\n",
       "        .then(() => maybeLoadScript(\"vega-lite\", \"5.17.0\"))\n",
       "        .then(() => maybeLoadScript(\"vega-embed\", \"6\"))\n",
       "        .catch(showError)\n",
       "        .then(() => displayChart(vegaEmbed));\n",
       "    }\n",
       "  })({\"config\": {\"view\": {\"continuousWidth\": 300, \"continuousHeight\": 300}, \"numberFormat\": \".2s\"}, \"data\": {\"name\": \"data-f5c62841258edebea650d128344c0b89\"}, \"mark\": {\"type\": \"bar\"}, \"encoding\": {\"color\": {\"field\": \"type\", \"legend\": {\"orient\": \"bottom\", \"titleOrient\": \"left\"}, \"title\": \"settings\", \"type\": \"nominal\"}, \"column\": {\"field\": \"sector\", \"title\": \"Artefacts Overview (by type)\", \"type\": \"nominal\"}, \"row\": {\"field\": \"institution\", \"header\": {\"labelAngle\": 0, \"labelAlign\": \"left\"}, \"title\": \"Institution\", \"type\": \"nominal\"}, \"x\": {\"field\": \"artefact_count\", \"title\": null, \"type\": \"quantitative\"}, \"y\": {\"field\": \"precision\", \"title\": null, \"type\": \"nominal\"}}, \"height\": {\"step\": 8}, \"resolve\": {\"scale\": {\"x\": \"independent\"}}, \"title\": {\"text\": \"Proportion of collection by cataloguing type\", \"anchor\": \"middle\"}, \"width\": 150, \"$schema\": \"https://vega.github.io/schema/vega-lite/v5.17.0.json\", \"datasets\": {\"data-f5c62841258edebea650d128344c0b89\": [{\"institution\": \"Oxford University\", \"sector\": \"museum\", \"institution_type\": \"university\", \"topic\": \"mixed\", \"type\": \"object\", \"level\": \"item\", \"precision\": \"estimate\", \"artefact_count\": 0}, {\"institution\": \"Oxford University\", \"sector\": \"library\", \"institution_type\": \"university\", \"topic\": \"mixed\", \"type\": \"library\", \"level\": \"item\", \"precision\": \"estimate\", \"artefact_count\": 20000}, {\"institution\": \"Oxford University\", \"sector\": \"archive\", \"institution_type\": \"university\", \"topic\": \"mixed\", \"type\": \"archive\", \"level\": \"item\", \"precision\": \"estimate\", \"artefact_count\": 5000000}, {\"institution\": \"Bangor University\", \"sector\": \"archive\", \"institution_type\": \"university\", \"topic\": \"mixed\", \"type\": \"archive\", \"level\": \"collection\", \"precision\": \"estimate\", \"artefact_count\": 98}, {\"institution\": \"Bangor University\", \"sector\": \"museum\", \"institution_type\": \"university\", \"topic\": \"mixed\", \"type\": \"object\", \"level\": \"item\", \"precision\": \"estimate\", \"artefact_count\": 0}, {\"institution\": \"Bangor University\", \"sector\": \"library\", \"institution_type\": \"university\", \"topic\": \"mixed\", \"type\": \"library\", \"level\": \"item\", \"precision\": \"estimate\", \"artefact_count\": 0}, {\"institution\": \"Bangor University\", \"sector\": \"archive\", \"institution_type\": \"university\", \"topic\": \"mixed\", \"type\": \"archive\", \"level\": \"item\", \"precision\": \"estimate\", \"artefact_count\": 0}, {\"institution\": \"University of York\", \"sector\": \"archive\", \"institution_type\": \"university\", \"topic\": \"mixed\", \"type\": \"archive\", \"level\": \"item\", \"precision\": \"estimate\", \"artefact_count\": 132370}, {\"institution\": \"University of York\", \"sector\": \"museum\", \"institution_type\": \"university\", \"topic\": \"mixed\", \"type\": \"object\", \"level\": \"item\", \"precision\": \"estimate\", \"artefact_count\": 0}, {\"institution\": \"University of York\", \"sector\": \"library\", \"institution_type\": \"university\", \"topic\": \"mixed\", \"type\": \"library\", \"level\": \"item\", \"precision\": \"estimate\", \"artefact_count\": 0}, {\"institution\": \"University of Cambridge\", \"sector\": \"museum\", \"institution_type\": \"university\", \"topic\": \"mixed\", \"type\": \"object\", \"level\": \"item\", \"precision\": \"estimate\", \"artefact_count\": 0}, {\"institution\": \"University of Cambridge\", \"sector\": \"library\", \"institution_type\": \"university\", \"topic\": \"mixed\", \"type\": \"library\", \"level\": \"item\", \"precision\": \"estimate\", \"artefact_count\": 10000000}, {\"institution\": \"University of Cambridge\", \"sector\": \"archive\", \"institution_type\": \"university\", \"topic\": \"mixed\", \"type\": \"archive\", \"level\": \"item\", \"precision\": \"estimate\", \"artefact_count\": 0}, {\"institution\": \"Cardiff University\", \"sector\": \"library\", \"institution_type\": \"university\", \"topic\": \"mixed\", \"type\": \"library\", \"level\": \"item\", \"precision\": \"estimate\", \"artefact_count\": 1100000}, {\"institution\": \"Cardiff University\", \"sector\": \"museum\", \"institution_type\": \"university\", \"topic\": \"mixed\", \"type\": \"object\", \"level\": \"item\", \"precision\": \"estimate\", \"artefact_count\": 0}, {\"institution\": \"Cardiff University\", \"sector\": \"archive\", \"institution_type\": \"university\", \"topic\": \"mixed\", \"type\": \"archive\", \"level\": \"item\", \"precision\": \"estimate\", \"artefact_count\": 0}, {\"institution\": \"Durham University\", \"sector\": \"museum\", \"institution_type\": \"university\", \"topic\": \"mixed\", \"type\": \"object\", \"level\": \"item\", \"precision\": \"estimate\", \"artefact_count\": 36000}, {\"institution\": \"Durham University\", \"sector\": \"library\", \"institution_type\": \"university\", \"topic\": \"mixed\", \"type\": \"library\", \"level\": \"item\", \"precision\": \"estimate\", \"artefact_count\": 70000}, {\"institution\": \"Durham University\", \"sector\": \"archive\", \"institution_type\": \"university\", \"topic\": \"mixed\", \"type\": \"archive\", \"level\": \"item\", \"precision\": \"estimate\", \"artefact_count\": 0}, {\"institution\": \"University College London\", \"sector\": \"museum\", \"institution_type\": \"university\", \"topic\": \"mixed\", \"type\": \"object\", \"level\": \"item\", \"precision\": \"estimate\", \"artefact_count\": 164000}, {\"institution\": \"University College London\", \"sector\": \"library\", \"institution_type\": \"university\", \"topic\": \"mixed\", \"type\": \"library\", \"level\": \"item\", \"precision\": \"estimate\", \"artefact_count\": 0}, {\"institution\": \"University College London\", \"sector\": \"archive\", \"institution_type\": \"university\", \"topic\": \"mixed\", \"type\": \"archive\", \"level\": \"item\", \"precision\": \"estimate\", \"artefact_count\": 0}, {\"institution\": \"University of Manchester\", \"sector\": \"museum\", \"institution_type\": \"university\", \"topic\": \"mixed\", \"type\": \"object\", \"level\": \"item\", \"precision\": \"estimate\", \"artefact_count\": 60000}, {\"institution\": \"University of Manchester\", \"sector\": \"library\", \"institution_type\": \"university\", \"topic\": \"mixed\", \"type\": \"library\", \"level\": \"item\", \"precision\": \"estimate\", \"artefact_count\": 4000000}, {\"institution\": \"University of Manchester\", \"sector\": \"archive\", \"institution_type\": \"university\", \"topic\": \"mixed\", \"type\": \"archive\", \"level\": \"item\", \"precision\": \"estimate\", \"artefact_count\": 0}, {\"institution\": \"King's College London\", \"sector\": \"museum\", \"institution_type\": \"university\", \"topic\": \"mixed\", \"type\": \"object\", \"level\": \"item\", \"precision\": \"estimate\", \"artefact_count\": 0}, {\"institution\": \"King's College London\", \"sector\": \"library\", \"institution_type\": \"university\", \"topic\": \"mixed\", \"type\": \"library\", \"level\": \"item\", \"precision\": \"estimate\", \"artefact_count\": 200000}, {\"institution\": \"King's College London\", \"sector\": \"archive\", \"institution_type\": \"university\", \"topic\": \"mixed\", \"type\": \"archive\", \"level\": \"item\", \"precision\": \"estimate\", \"artefact_count\": 0}, {\"institution\": \"University of Birmingham\", \"sector\": \"museum\", \"institution_type\": \"university\", \"topic\": \"mixed\", \"type\": \"object\", \"level\": \"item\", \"precision\": \"estimate\", \"artefact_count\": 250000}, {\"institution\": \"University of Birmingham\", \"sector\": \"library\", \"institution_type\": \"university\", \"topic\": \"mixed\", \"type\": \"library\", \"level\": \"item\", \"precision\": \"estimate\", \"artefact_count\": 250000}, {\"institution\": \"University of Birmingham\", \"sector\": \"archive\", \"institution_type\": \"university\", \"topic\": \"mixed\", \"type\": \"archive\", \"level\": \"item\", \"precision\": \"estimate\", \"artefact_count\": 4000000}, {\"institution\": \"Unversity of Warwick\", \"sector\": \"museum\", \"institution_type\": \"university\", \"topic\": \"mixed\", \"type\": \"object\", \"level\": \"item\", \"precision\": \"estimate\", \"artefact_count\": 0}, {\"institution\": \"Unversity of Warwick\", \"sector\": \"library\", \"institution_type\": \"university\", \"topic\": \"mixed\", \"type\": \"library\", \"level\": \"item\", \"precision\": \"estimate\", \"artefact_count\": 16000}, {\"institution\": \"Unversity of Warwick\", \"sector\": \"archive\", \"institution_type\": \"university\", \"topic\": \"mixed\", \"type\": \"archive\", \"level\": \"item\", \"precision\": \"estimate\", \"artefact_count\": 0}, {\"institution\": \"Manchester Metropolitan Unversity\", \"sector\": \"museum\", \"institution_type\": \"university\", \"topic\": \"mixed\", \"type\": \"object\", \"level\": \"item\", \"precision\": \"estimate\", \"artefact_count\": 0}, {\"institution\": \"Manchester Metropolitan Unversity\", \"sector\": \"library\", \"institution_type\": \"university\", \"topic\": \"mixed\", \"type\": \"library\", \"level\": \"item\", \"precision\": \"estimate\", \"artefact_count\": 0}, {\"institution\": \"Manchester Metropolitan Unversity\", \"sector\": \"archive\", \"institution_type\": \"university\", \"topic\": \"mixed\", \"type\": \"archive\", \"level\": \"item\", \"precision\": \"estimate\", \"artefact_count\": 0}, {\"institution\": \"Swansea University\", \"sector\": \"museum\", \"institution_type\": \"university\", \"topic\": \"mixed\", \"type\": \"object\", \"level\": \"item\", \"precision\": \"estimate\", \"artefact_count\": 0}, {\"institution\": \"Swansea University\", \"sector\": \"library\", \"institution_type\": \"university\", \"topic\": \"mixed\", \"type\": \"library\", \"level\": \"item\", \"precision\": \"estimate\", \"artefact_count\": 1700}, {\"institution\": \"Swansea University\", \"sector\": \"archive\", \"institution_type\": \"university\", \"topic\": \"mixed\", \"type\": \"archive\", \"level\": \"item\", \"precision\": \"estimate\", \"artefact_count\": 0}, {\"institution\": \"University of Brighton\", \"sector\": \"museum\", \"institution_type\": \"university\", \"topic\": \"mixed\", \"type\": \"object\", \"level\": \"item\", \"precision\": \"estimate\", \"artefact_count\": 0}, {\"institution\": \"University of Brighton\", \"sector\": \"library\", \"institution_type\": \"university\", \"topic\": \"mixed\", \"type\": \"library\", \"level\": \"item\", \"precision\": \"estimate\", \"artefact_count\": 50000}, {\"institution\": \"University of Brighton\", \"sector\": \"archive\", \"institution_type\": \"university\", \"topic\": \"mixed\", \"type\": \"archive\", \"level\": \"item\", \"precision\": \"estimate\", \"artefact_count\": 0}, {\"institution\": \"SOAS, University of London\", \"sector\": \"museum\", \"institution_type\": \"university\", \"topic\": \"mixed\", \"type\": \"object\", \"level\": \"item\", \"precision\": \"estimate\", \"artefact_count\": 0}, {\"institution\": \"SOAS, University of London\", \"sector\": \"library\", \"institution_type\": \"university\", \"topic\": \"mixed\", \"type\": \"library\", \"level\": \"item\", \"precision\": \"estimate\", \"artefact_count\": 60000}, {\"institution\": \"SOAS, University of London\", \"sector\": \"archive\", \"institution_type\": \"university\", \"topic\": \"mixed\", \"type\": \"archive\", \"level\": \"item\", \"precision\": \"estimate\", \"artefact_count\": 0}, {\"institution\": \"University of Aberdeen\", \"sector\": \"museum\", \"institution_type\": \"university\", \"topic\": \"mixed\", \"type\": \"object\", \"level\": \"item\", \"precision\": \"estimate\", \"artefact_count\": 0}, {\"institution\": \"University of Aberdeen\", \"sector\": \"library\", \"institution_type\": \"university\", \"topic\": \"mixed\", \"type\": \"library\", \"level\": \"item\", \"precision\": \"estimate\", \"artefact_count\": 530000}, {\"institution\": \"University of Aberdeen\", \"sector\": \"archive\", \"institution_type\": \"university\", \"topic\": \"mixed\", \"type\": \"archive\", \"level\": \"item\", \"precision\": \"estimate\", \"artefact_count\": 0}, {\"institution\": \"University of Bristol\", \"sector\": \"museum\", \"institution_type\": \"university\", \"topic\": \"mixed\", \"type\": \"object\", \"level\": \"item\", \"precision\": \"estimate\", \"artefact_count\": 100000}, {\"institution\": \"University of Bristol\", \"sector\": \"library\", \"institution_type\": \"university\", \"topic\": \"mixed\", \"type\": \"library\", \"level\": \"item\", \"precision\": \"estimate\", \"artefact_count\": 0}, {\"institution\": \"University of Bristol\", \"sector\": \"archive\", \"institution_type\": \"university\", \"topic\": \"mixed\", \"type\": \"archive\", \"level\": \"item\", \"precision\": \"estimate\", \"artefact_count\": 0}, {\"institution\": \"University of Leeds\", \"sector\": \"museum\", \"institution_type\": \"university\", \"topic\": \"mixed\", \"type\": \"object\", \"level\": \"item\", \"precision\": \"estimate\", \"artefact_count\": 0}, {\"institution\": \"University of Leeds\", \"sector\": \"library\", \"institution_type\": \"university\", \"topic\": \"mixed\", \"type\": \"library\", \"level\": \"item\", \"precision\": \"estimate\", \"artefact_count\": 350000}, {\"institution\": \"University of Leeds\", \"sector\": \"archive\", \"institution_type\": \"university\", \"topic\": \"mixed\", \"type\": \"archive\", \"level\": \"item\", \"precision\": \"estimate\", \"artefact_count\": 0}, {\"institution\": \"University of Leicester\", \"sector\": \"museum\", \"institution_type\": \"university\", \"topic\": \"mixed\", \"type\": \"object\", \"level\": \"item\", \"precision\": \"estimate\", \"artefact_count\": 25000}, {\"institution\": \"University of Leicester\", \"sector\": \"library\", \"institution_type\": \"university\", \"topic\": \"mixed\", \"type\": \"library\", \"level\": \"item\", \"precision\": \"estimate\", \"artefact_count\": 0}, {\"institution\": \"University of Leicester\", \"sector\": \"archive\", \"institution_type\": \"university\", \"topic\": \"mixed\", \"type\": \"archive\", \"level\": \"item\", \"precision\": \"estimate\", \"artefact_count\": 0}, {\"institution\": \"University of Reading\", \"sector\": \"museum\", \"institution_type\": \"university\", \"topic\": \"mixed\", \"type\": \"object\", \"level\": \"item\", \"precision\": \"estimate\", \"artefact_count\": 0}, {\"institution\": \"University of Reading\", \"sector\": \"library\", \"institution_type\": \"university\", \"topic\": \"mixed\", \"type\": \"library\", \"level\": \"item\", \"precision\": \"estimate\", \"artefact_count\": 0}, {\"institution\": \"University of Reading\", \"sector\": \"archive\", \"institution_type\": \"university\", \"topic\": \"mixed\", \"type\": \"archive\", \"level\": \"item\", \"precision\": \"estimate\", \"artefact_count\": 0}, {\"institution\": \"University of Sheffield\", \"sector\": \"museum\", \"institution_type\": \"university\", \"topic\": \"mixed\", \"type\": \"object\", \"level\": \"item\", \"precision\": \"estimate\", \"artefact_count\": 0}, {\"institution\": \"University of Sheffield\", \"sector\": \"library\", \"institution_type\": \"university\", \"topic\": \"mixed\", \"type\": \"library\", \"level\": \"item\", \"precision\": \"estimate\", \"artefact_count\": 30000}, {\"institution\": \"University of Sheffield\", \"sector\": \"archive\", \"institution_type\": \"university\", \"topic\": \"mixed\", \"type\": \"archive\", \"level\": \"item\", \"precision\": \"estimate\", \"artefact_count\": 0}, {\"institution\": \"University of St Andrews\", \"sector\": \"museum\", \"institution_type\": \"university\", \"topic\": \"mixed\", \"type\": \"object\", \"level\": \"item\", \"precision\": \"estimate\", \"artefact_count\": 0}, {\"institution\": \"University of St Andrews\", \"sector\": \"library\", \"institution_type\": \"university\", \"topic\": \"mixed\", \"type\": \"library\", \"level\": \"item\", \"precision\": \"estimate\", \"artefact_count\": 200000}, {\"institution\": \"University of St Andrews\", \"sector\": \"archive\", \"institution_type\": \"university\", \"topic\": \"mixed\", \"type\": \"archive\", \"level\": \"item\", \"precision\": \"estimate\", \"artefact_count\": 0}, {\"institution\": \"British Library\", \"sector\": \"museum\", \"institution_type\": \"library\", \"topic\": \"mixed\", \"type\": \"object\", \"level\": \"item\", \"precision\": \"estimate\", \"artefact_count\": 0}, {\"institution\": \"British Library\", \"sector\": \"library\", \"institution_type\": \"library\", \"topic\": \"mixed\", \"type\": \"library\", \"level\": \"item\", \"precision\": \"estimate\", \"artefact_count\": 33810000}, {\"institution\": \"British Library\", \"sector\": \"archive\", \"institution_type\": \"library\", \"topic\": \"mixed\", \"type\": \"archive\", \"level\": \"item\", \"precision\": \"estimate\", \"artefact_count\": 0}, {\"institution\": \"Chetham's Library\", \"sector\": \"museum\", \"institution_type\": \"library\", \"topic\": \"mixed\", \"type\": \"object\", \"level\": \"item\", \"precision\": \"estimate\", \"artefact_count\": 0}, {\"institution\": \"Chetham's Library\", \"sector\": \"library\", \"institution_type\": \"library\", \"topic\": \"mixed\", \"type\": \"library\", \"level\": \"item\", \"precision\": \"estimate\", \"artefact_count\": 121041}, {\"institution\": \"Chetham's Library\", \"sector\": \"archive\", \"institution_type\": \"library\", \"topic\": \"mixed\", \"type\": \"archive\", \"level\": \"item\", \"precision\": \"estimate\", \"artefact_count\": 0}, {\"institution\": \"Glasgow Woman's Library\", \"sector\": \"museum\", \"institution_type\": \"library\", \"topic\": \"mixed\", \"type\": \"object\", \"level\": \"item\", \"precision\": \"estimate\", \"artefact_count\": 0}, {\"institution\": \"Glasgow Woman's Library\", \"sector\": \"library\", \"institution_type\": \"library\", \"topic\": \"mixed\", \"type\": \"library\", \"level\": \"item\", \"precision\": \"estimate\", \"artefact_count\": 0}, {\"institution\": \"Glasgow Woman's Library\", \"sector\": \"archive\", \"institution_type\": \"library\", \"topic\": \"mixed\", \"type\": \"archive\", \"level\": \"item\", \"precision\": \"estimate\", \"artefact_count\": 0}, {\"institution\": \"Lambeth Palace Library\", \"sector\": \"museum\", \"institution_type\": \"library\", \"topic\": \"theology\", \"type\": \"object\", \"level\": \"item\", \"precision\": \"estimate\", \"artefact_count\": 0}, {\"institution\": \"Lambeth Palace Library\", \"sector\": \"library\", \"institution_type\": \"library\", \"topic\": \"theology\", \"type\": \"library\", \"level\": \"item\", \"precision\": \"estimate\", \"artefact_count\": 186200}, {\"institution\": \"Lambeth Palace Library\", \"sector\": \"archive\", \"institution_type\": \"library\", \"topic\": \"theology\", \"type\": \"archive\", \"level\": \"item\", \"precision\": \"estimate\", \"artefact_count\": 0}, {\"institution\": \"National Library of Wales\", \"sector\": \"library\", \"institution_type\": \"library\", \"topic\": \"mixed\", \"type\": \"library\", \"level\": \"item\", \"precision\": \"estimate\", \"artefact_count\": 7540000}, {\"institution\": \"National Library of Wales\", \"sector\": \"museum\", \"institution_type\": \"library\", \"topic\": \"mixed\", \"type\": \"object\", \"level\": \"item\", \"precision\": \"estimate\", \"artefact_count\": 0}, {\"institution\": \"National Library of Wales\", \"sector\": \"archive\", \"institution_type\": \"library\", \"topic\": \"mixed\", \"type\": \"archive\", \"level\": \"item\", \"precision\": \"estimate\", \"artefact_count\": 0}, {\"institution\": \"National Library of Scotland\", \"sector\": \"museum\", \"institution_type\": \"library\", \"topic\": \"mixed\", \"type\": \"object\", \"level\": \"item\", \"precision\": \"estimate\", \"artefact_count\": 0}, {\"institution\": \"National Library of Scotland\", \"sector\": \"library\", \"institution_type\": \"library\", \"topic\": \"mixed\", \"type\": \"library\", \"level\": \"item\", \"precision\": \"estimate\", \"artefact_count\": 0}, {\"institution\": \"National Library of Scotland\", \"sector\": \"archive\", \"institution_type\": \"library\", \"topic\": \"mixed\", \"type\": \"archive\", \"level\": \"item\", \"precision\": \"estimate\", \"artefact_count\": 0}, {\"institution\": \"Amgueddfa Cymru (National Museum Wales)\", \"sector\": \"museum\", \"institution_type\": \"museum\", \"topic\": \"mixed\", \"type\": \"object\", \"level\": \"item\", \"precision\": \"estimate\", \"artefact_count\": 5054426}, {\"institution\": \"Amgueddfa Cymru (National Museum Wales)\", \"sector\": \"library\", \"institution_type\": \"museum\", \"topic\": \"mixed\", \"type\": \"library\", \"level\": \"item\", \"precision\": \"estimate\", \"artefact_count\": 265159}, {\"institution\": \"Amgueddfa Cymru (National Museum Wales)\", \"sector\": \"archive\", \"institution_type\": \"museum\", \"topic\": \"mixed\", \"type\": \"archive\", \"level\": \"item\", \"precision\": \"estimate\", \"artefact_count\": 0}, {\"institution\": \"Historic Royal Palaces\", \"sector\": \"museum\", \"institution_type\": \"building\", \"topic\": \"mixed\", \"type\": \"object\", \"level\": \"item\", \"precision\": \"estimate\", \"artefact_count\": 60000}, {\"institution\": \"Historic Royal Palaces\", \"sector\": \"library\", \"institution_type\": \"building\", \"topic\": \"mixed\", \"type\": \"library\", \"level\": \"item\", \"precision\": \"estimate\", \"artefact_count\": 0}, {\"institution\": \"Historic Royal Palaces\", \"sector\": \"archive\", \"institution_type\": \"building\", \"topic\": \"mixed\", \"type\": \"archive\", \"level\": \"item\", \"precision\": \"estimate\", \"artefact_count\": 0}, {\"institution\": \"National Football Museum\", \"sector\": \"museum\", \"institution_type\": \"museum\", \"topic\": \"mixed\", \"type\": \"object\", \"level\": \"item\", \"precision\": \"estimate\", \"artefact_count\": 0}, {\"institution\": \"National Football Museum\", \"sector\": \"library\", \"institution_type\": \"museum\", \"topic\": \"mixed\", \"type\": \"library\", \"level\": \"item\", \"precision\": \"estimate\", \"artefact_count\": 0}, {\"institution\": \"National Football Museum\", \"sector\": \"archive\", \"institution_type\": \"museum\", \"topic\": \"mixed\", \"type\": \"archive\", \"level\": \"item\", \"precision\": \"estimate\", \"artefact_count\": 0}, {\"institution\": \"National Justice Museum\", \"sector\": \"museum\", \"institution_type\": \"museum\", \"topic\": \"mixed\", \"type\": \"object\", \"level\": \"item\", \"precision\": \"estimate\", \"artefact_count\": 0}, {\"institution\": \"National Justice Museum\", \"sector\": \"library\", \"institution_type\": \"museum\", \"topic\": \"mixed\", \"type\": \"library\", \"level\": \"item\", \"precision\": \"estimate\", \"artefact_count\": 0}, {\"institution\": \"National Justice Museum\", \"sector\": \"archive\", \"institution_type\": \"museum\", \"topic\": \"mixed\", \"type\": \"archive\", \"level\": \"item\", \"precision\": \"estimate\", \"artefact_count\": 0}, {\"institution\": \"National Mining Museum Scotland\", \"sector\": \"museum\", \"institution_type\": \"museum\", \"topic\": \"industry\", \"type\": \"object\", \"level\": \"item\", \"precision\": \"estimate\", \"artefact_count\": 0}, {\"institution\": \"National Mining Museum Scotland\", \"sector\": \"library\", \"institution_type\": \"museum\", \"topic\": \"industry\", \"type\": \"library\", \"level\": \"item\", \"precision\": \"estimate\", \"artefact_count\": 0}, {\"institution\": \"National Mining Museum Scotland\", \"sector\": \"archive\", \"institution_type\": \"museum\", \"topic\": \"industry\", \"type\": \"archive\", \"level\": \"item\", \"precision\": \"estimate\", \"artefact_count\": 0}, {\"institution\": \"National Museum of the Royal Navy\", \"sector\": \"museum\", \"institution_type\": \"museum\", \"topic\": \"history\", \"type\": \"object\", \"level\": \"item\", \"precision\": \"estimate\", \"artefact_count\": 0}, {\"institution\": \"National Museum of the Royal Navy\", \"sector\": \"library\", \"institution_type\": \"museum\", \"topic\": \"history\", \"type\": \"library\", \"level\": \"item\", \"precision\": \"estimate\", \"artefact_count\": 0}, {\"institution\": \"National Museum of the Royal Navy\", \"sector\": \"archive\", \"institution_type\": \"museum\", \"topic\": \"history\", \"type\": \"archive\", \"level\": \"item\", \"precision\": \"estimate\", \"artefact_count\": 0}, {\"institution\": \"Courtauld Gallery\", \"sector\": \"museum\", \"institution_type\": \"gallery\", \"topic\": \"art\", \"type\": \"object\", \"level\": \"item\", \"precision\": \"estimate\", \"artefact_count\": 0}, {\"institution\": \"Courtauld Gallery\", \"sector\": \"library\", \"institution_type\": \"gallery\", \"topic\": \"art\", \"type\": \"library\", \"level\": \"item\", \"precision\": \"estimate\", \"artefact_count\": 0}, {\"institution\": \"Courtauld Gallery\", \"sector\": \"archive\", \"institution_type\": \"gallery\", \"topic\": \"art\", \"type\": \"archive\", \"level\": \"item\", \"precision\": \"estimate\", \"artefact_count\": 0}, {\"institution\": \"Dulwich Picture Gallery\", \"sector\": \"museum\", \"institution_type\": \"gallery\", \"topic\": \"art\", \"type\": \"object\", \"level\": \"item\", \"precision\": \"estimate\", \"artefact_count\": 0}, {\"institution\": \"Dulwich Picture Gallery\", \"sector\": \"library\", \"institution_type\": \"gallery\", \"topic\": \"art\", \"type\": \"library\", \"level\": \"item\", \"precision\": \"estimate\", \"artefact_count\": 0}, {\"institution\": \"Dulwich Picture Gallery\", \"sector\": \"archive\", \"institution_type\": \"gallery\", \"topic\": \"art\", \"type\": \"archive\", \"level\": \"item\", \"precision\": \"estimate\", \"artefact_count\": 0}, {\"institution\": \"Manchester Art Gallery\", \"sector\": \"museum\", \"institution_type\": \"gallery\", \"topic\": \"art\", \"type\": \"object\", \"level\": \"item\", \"precision\": \"estimate\", \"artefact_count\": 0}, {\"institution\": \"Manchester Art Gallery\", \"sector\": \"library\", \"institution_type\": \"gallery\", \"topic\": \"art\", \"type\": \"library\", \"level\": \"item\", \"precision\": \"estimate\", \"artefact_count\": 0}, {\"institution\": \"Manchester Art Gallery\", \"sector\": \"archive\", \"institution_type\": \"gallery\", \"topic\": \"art\", \"type\": \"archive\", \"level\": \"item\", \"precision\": \"estimate\", \"artefact_count\": 0}, {\"institution\": \"National Galleries Scotland\", \"sector\": \"museum\", \"institution_type\": \"gallery\", \"topic\": \"art\", \"type\": \"object\", \"level\": \"item\", \"precision\": \"estimate\", \"artefact_count\": 0}, {\"institution\": \"National Galleries Scotland\", \"sector\": \"library\", \"institution_type\": \"gallery\", \"topic\": \"art\", \"type\": \"library\", \"level\": \"item\", \"precision\": \"estimate\", \"artefact_count\": 0}, {\"institution\": \"National Galleries Scotland\", \"sector\": \"archive\", \"institution_type\": \"gallery\", \"topic\": \"art\", \"type\": \"archive\", \"level\": \"item\", \"precision\": \"estimate\", \"artefact_count\": 0}, {\"institution\": \"Victoria & Albert Museum\", \"sector\": \"museum\", \"institution_type\": \"museum\", \"topic\": \"art\", \"type\": \"object\", \"level\": \"item\", \"precision\": \"estimate\", \"artefact_count\": 1691513}, {\"institution\": \"Victoria & Albert Museum\", \"sector\": \"library\", \"institution_type\": \"museum\", \"topic\": \"art\", \"type\": \"library\", \"level\": \"item\", \"precision\": \"estimate\", \"artefact_count\": 1130157}, {\"institution\": \"Victoria & Albert Museum\", \"sector\": \"archive\", \"institution_type\": \"museum\", \"topic\": \"art\", \"type\": \"archive\", \"level\": \"item\", \"precision\": \"estimate\", \"artefact_count\": 0}, {\"institution\": \"Science Museum Group\", \"sector\": \"museum\", \"institution_type\": \"museum\", \"topic\": \"science\", \"type\": \"object\", \"level\": \"item\", \"precision\": \"estimate\", \"artefact_count\": 0}, {\"institution\": \"Science Museum Group\", \"sector\": \"library\", \"institution_type\": \"museum\", \"topic\": \"science\", \"type\": \"library\", \"level\": \"item\", \"precision\": \"estimate\", \"artefact_count\": 0}, {\"institution\": \"Science Museum Group\", \"sector\": \"archive\", \"institution_type\": \"museum\", \"topic\": \"science\", \"type\": \"archive\", \"level\": \"item\", \"precision\": \"estimate\", \"artefact_count\": 0}, {\"institution\": \"Museum of the Home\", \"sector\": \"museum\", \"institution_type\": \"museum\", \"topic\": \"history\", \"type\": \"object\", \"level\": \"item\", \"precision\": \"estimate\", \"artefact_count\": 0}, {\"institution\": \"Museum of the Home\", \"sector\": \"library\", \"institution_type\": \"museum\", \"topic\": \"history\", \"type\": \"library\", \"level\": \"item\", \"precision\": \"estimate\", \"artefact_count\": 0}, {\"institution\": \"Museum of the Home\", \"sector\": \"archive\", \"institution_type\": \"museum\", \"topic\": \"history\", \"type\": \"archive\", \"level\": \"item\", \"precision\": \"estimate\", \"artefact_count\": 0}, {\"institution\": \"Horniman Museum\", \"sector\": \"museum\", \"institution_type\": \"museum\", \"topic\": \"history\", \"type\": \"object\", \"level\": \"item\", \"precision\": \"estimate\", \"artefact_count\": 0}, {\"institution\": \"Horniman Museum\", \"sector\": \"library\", \"institution_type\": \"museum\", \"topic\": \"history\", \"type\": \"library\", \"level\": \"item\", \"precision\": \"estimate\", \"artefact_count\": 0}, {\"institution\": \"Horniman Museum\", \"sector\": \"archive\", \"institution_type\": \"museum\", \"topic\": \"history\", \"type\": \"archive\", \"level\": \"item\", \"precision\": \"estimate\", \"artefact_count\": 0}, {\"institution\": \"Imperial War Museums\", \"sector\": \"museum\", \"institution_type\": \"museum\", \"topic\": \"history\", \"type\": \"object\", \"level\": \"item\", \"precision\": \"estimate\", \"artefact_count\": 0}, {\"institution\": \"Imperial War Museums\", \"sector\": \"library\", \"institution_type\": \"museum\", \"topic\": \"history\", \"type\": \"library\", \"level\": \"item\", \"precision\": \"estimate\", \"artefact_count\": 0}, {\"institution\": \"Imperial War Museums\", \"sector\": \"archive\", \"institution_type\": \"museum\", \"topic\": \"history\", \"type\": \"archive\", \"level\": \"item\", \"precision\": \"estimate\", \"artefact_count\": 0}, {\"institution\": \"National Gallery\", \"sector\": \"museum\", \"institution_type\": \"gallery\", \"topic\": \"art\", \"type\": \"object\", \"level\": \"item\", \"precision\": \"exact\", \"artefact_count\": 2626}, {\"institution\": \"National Gallery\", \"sector\": \"library\", \"institution_type\": \"gallery\", \"topic\": \"art\", \"type\": \"library\", \"level\": \"item\", \"precision\": \"estimate\", \"artefact_count\": 0}, {\"institution\": \"National Gallery\", \"sector\": \"archive\", \"institution_type\": \"gallery\", \"topic\": \"art\", \"type\": \"archive\", \"level\": \"item\", \"precision\": \"estimate\", \"artefact_count\": 0}, {\"institution\": \"National Museums Liverpool\", \"sector\": \"museum\", \"institution_type\": \"museum\", \"topic\": \"history\", \"type\": \"object\", \"level\": \"item\", \"precision\": \"estimate\", \"artefact_count\": 0}, {\"institution\": \"National Museums Liverpool\", \"sector\": \"library\", \"institution_type\": \"museum\", \"topic\": \"history\", \"type\": \"library\", \"level\": \"item\", \"precision\": \"estimate\", \"artefact_count\": 0}, {\"institution\": \"National Museums Liverpool\", \"sector\": \"archive\", \"institution_type\": \"museum\", \"topic\": \"history\", \"type\": \"archive\", \"level\": \"item\", \"precision\": \"estimate\", \"artefact_count\": 0}, {\"institution\": \"National Portrait Gallery\", \"sector\": \"museum\", \"institution_type\": \"gallery\", \"topic\": \"art\", \"type\": \"object\", \"level\": \"item\", \"precision\": \"estimate\", \"artefact_count\": 0}, {\"institution\": \"National Portrait Gallery\", \"sector\": \"library\", \"institution_type\": \"gallery\", \"topic\": \"art\", \"type\": \"library\", \"level\": \"item\", \"precision\": \"estimate\", \"artefact_count\": 0}, {\"institution\": \"National Portrait Gallery\", \"sector\": \"archive\", \"institution_type\": \"gallery\", \"topic\": \"art\", \"type\": \"archive\", \"level\": \"item\", \"precision\": \"estimate\", \"artefact_count\": 0}, {\"institution\": \"Natural History Museum\", \"sector\": \"museum\", \"institution_type\": \"museum\", \"topic\": \"nature\", \"type\": \"object\", \"level\": \"item\", \"precision\": \"estimate\", \"artefact_count\": 0}, {\"institution\": \"Natural History Museum\", \"sector\": \"library\", \"institution_type\": \"museum\", \"topic\": \"nature\", \"type\": \"library\", \"level\": \"item\", \"precision\": \"estimate\", \"artefact_count\": 0}, {\"institution\": \"Natural History Museum\", \"sector\": \"archive\", \"institution_type\": \"museum\", \"topic\": \"nature\", \"type\": \"archive\", \"level\": \"item\", \"precision\": \"estimate\", \"artefact_count\": 0}, {\"institution\": \"Royal Armouries\", \"sector\": \"museum\", \"institution_type\": \"museum\", \"topic\": \"history\", \"type\": \"object\", \"level\": \"item\", \"precision\": \"estimate\", \"artefact_count\": 0}, {\"institution\": \"Royal Armouries\", \"sector\": \"library\", \"institution_type\": \"museum\", \"topic\": \"history\", \"type\": \"library\", \"level\": \"item\", \"precision\": \"estimate\", \"artefact_count\": 0}, {\"institution\": \"Royal Armouries\", \"sector\": \"archive\", \"institution_type\": \"museum\", \"topic\": \"history\", \"type\": \"archive\", \"level\": \"item\", \"precision\": \"estimate\", \"artefact_count\": 0}, {\"institution\": \"Royal Museums Greenwich\", \"sector\": \"museum\", \"institution_type\": \"museum\", \"topic\": \"history\", \"type\": \"object\", \"level\": \"item\", \"precision\": \"estimate\", \"artefact_count\": 0}, {\"institution\": \"Royal Museums Greenwich\", \"sector\": \"library\", \"institution_type\": \"museum\", \"topic\": \"history\", \"type\": \"library\", \"level\": \"item\", \"precision\": \"estimate\", \"artefact_count\": 0}, {\"institution\": \"Royal Museums Greenwich\", \"sector\": \"archive\", \"institution_type\": \"museum\", \"topic\": \"history\", \"type\": \"archive\", \"level\": \"item\", \"precision\": \"estimate\", \"artefact_count\": 0}, {\"institution\": \"Sir John Soane's Museum\", \"sector\": \"museum\", \"institution_type\": \"museum\", \"topic\": \"history\", \"type\": \"object\", \"level\": \"item\", \"precision\": \"estimate\", \"artefact_count\": 0}, {\"institution\": \"Sir John Soane's Museum\", \"sector\": \"library\", \"institution_type\": \"museum\", \"topic\": \"history\", \"type\": \"library\", \"level\": \"item\", \"precision\": \"estimate\", \"artefact_count\": 0}, {\"institution\": \"Sir John Soane's Museum\", \"sector\": \"archive\", \"institution_type\": \"museum\", \"topic\": \"history\", \"type\": \"archive\", \"level\": \"item\", \"precision\": \"estimate\", \"artefact_count\": 0}, {\"institution\": \"Tate Gallery Group\", \"sector\": \"museum\", \"institution_type\": \"gallery\", \"topic\": \"art\", \"type\": \"object\", \"level\": \"item\", \"precision\": \"estimate\", \"artefact_count\": 0}, {\"institution\": \"Tate Gallery Group\", \"sector\": \"library\", \"institution_type\": \"gallery\", \"topic\": \"art\", \"type\": \"library\", \"level\": \"item\", \"precision\": \"estimate\", \"artefact_count\": 0}, {\"institution\": \"Tate Gallery Group\", \"sector\": \"archive\", \"institution_type\": \"gallery\", \"topic\": \"art\", \"type\": \"archive\", \"level\": \"item\", \"precision\": \"estimate\", \"artefact_count\": 0}, {\"institution\": \"The Wallace Collection\", \"sector\": \"museum\", \"institution_type\": \"museum\", \"topic\": \"art\", \"type\": \"object\", \"level\": \"item\", \"precision\": \"exact\", \"artefact_count\": 5637}, {\"institution\": \"The Wallace Collection\", \"sector\": \"library\", \"institution_type\": \"museum\", \"topic\": \"art\", \"type\": \"library\", \"level\": \"item\", \"precision\": \"estimate\", \"artefact_count\": 0}, {\"institution\": \"The Wallace Collection\", \"sector\": \"archive\", \"institution_type\": \"museum\", \"topic\": \"art\", \"type\": \"archive\", \"level\": \"item\", \"precision\": \"estimate\", \"artefact_count\": 0}, {\"institution\": \"British Museum\", \"sector\": \"museum\", \"institution_type\": \"museum\", \"topic\": \"history\", \"type\": \"object\", \"level\": \"item\", \"precision\": \"estimate\", \"artefact_count\": 8000000}, {\"institution\": \"British Museum\", \"sector\": \"library\", \"institution_type\": \"museum\", \"topic\": \"history\", \"type\": \"library\", \"level\": \"item\", \"precision\": \"estimate\", \"artefact_count\": 0}, {\"institution\": \"British Museum\", \"sector\": \"archive\", \"institution_type\": \"museum\", \"topic\": \"history\", \"type\": \"archive\", \"level\": \"item\", \"precision\": \"estimate\", \"artefact_count\": 0}]}}, {\"mode\": \"vega-lite\"});\n",
       "</script>"
      ],
      "text/plain": [
       "alt.Chart(...)"
      ]
     },
     "execution_count": 12,
     "metadata": {},
     "output_type": "execute_result"
    }
   ],
   "source": [
    "title = alt.TitleParams('Proportion of collection by cataloguing type', anchor='middle')\n",
    "alt.Chart(artefacts_type_df, width=150, height=alt.Step(8), title=title).mark_bar().encode(\n",
    "    alt.Y(\"precision:N\").title(None),\n",
    "    alt.X(\"artefact_count:Q\").title(None),\n",
    "    alt.Color(\"type:N\").title(\"settings\").legend(orient=\"bottom\", titleOrient=\"left\"),\n",
    "    alt.Row(\"institution:N\").title(\"Institution\").header(labelAngle=0, labelAlign='left'),\n",
    "    alt.Column(\"sector:N\").title(\"Artefacts Overview (by type)\"),\n",
    ").resolve_scale(x='independent').configure(numberFormat='.2s')"
   ]
  },
  {
   "cell_type": "markdown",
   "id": "9e17e7f5-349e-48b6-9c74-369b1553aa98",
   "metadata": {
    "editable": true,
    "slideshow": {
     "slide_type": ""
    },
    "tags": []
   },
   "source": [
    "## Artefacts per institution"
   ]
  },
  {
   "cell_type": "code",
   "execution_count": 62,
   "id": "f808731b-1f2f-4fac-ae6d-776a4b9dbbb0",
   "metadata": {
    "editable": true,
    "slideshow": {
     "slide_type": ""
    },
    "tags": [
     "remove-input"
    ]
   },
   "outputs": [
    {
     "data": {
      "text/html": [
       "\n",
       "<style>\n",
       "  #altair-viz-f9f213dff51942d88cb2ed9dfc6fd0ca.vega-embed {\n",
       "    width: 100%;\n",
       "    display: flex;\n",
       "  }\n",
       "\n",
       "  #altair-viz-f9f213dff51942d88cb2ed9dfc6fd0ca.vega-embed details,\n",
       "  #altair-viz-f9f213dff51942d88cb2ed9dfc6fd0ca.vega-embed details summary {\n",
       "    position: relative;\n",
       "  }\n",
       "</style>\n",
       "<div id=\"altair-viz-f9f213dff51942d88cb2ed9dfc6fd0ca\"></div>\n",
       "<script type=\"text/javascript\">\n",
       "  var VEGA_DEBUG = (typeof VEGA_DEBUG == \"undefined\") ? {} : VEGA_DEBUG;\n",
       "  (function(spec, embedOpt){\n",
       "    let outputDiv = document.currentScript.previousElementSibling;\n",
       "    if (outputDiv.id !== \"altair-viz-f9f213dff51942d88cb2ed9dfc6fd0ca\") {\n",
       "      outputDiv = document.getElementById(\"altair-viz-f9f213dff51942d88cb2ed9dfc6fd0ca\");\n",
       "    }\n",
       "    const paths = {\n",
       "      \"vega\": \"https://cdn.jsdelivr.net/npm/vega@5?noext\",\n",
       "      \"vega-lib\": \"https://cdn.jsdelivr.net/npm/vega-lib?noext\",\n",
       "      \"vega-lite\": \"https://cdn.jsdelivr.net/npm/vega-lite@5.17.0?noext\",\n",
       "      \"vega-embed\": \"https://cdn.jsdelivr.net/npm/vega-embed@6?noext\",\n",
       "    };\n",
       "\n",
       "    function maybeLoadScript(lib, version) {\n",
       "      var key = `${lib.replace(\"-\", \"\")}_version`;\n",
       "      return (VEGA_DEBUG[key] == version) ?\n",
       "        Promise.resolve(paths[lib]) :\n",
       "        new Promise(function(resolve, reject) {\n",
       "          var s = document.createElement('script');\n",
       "          document.getElementsByTagName(\"head\")[0].appendChild(s);\n",
       "          s.async = true;\n",
       "          s.onload = () => {\n",
       "            VEGA_DEBUG[key] = version;\n",
       "            return resolve(paths[lib]);\n",
       "          };\n",
       "          s.onerror = () => reject(`Error loading script: ${paths[lib]}`);\n",
       "          s.src = paths[lib];\n",
       "        });\n",
       "    }\n",
       "\n",
       "    function showError(err) {\n",
       "      outputDiv.innerHTML = `<div class=\"error\" style=\"color:red;\">${err}</div>`;\n",
       "      throw err;\n",
       "    }\n",
       "\n",
       "    function displayChart(vegaEmbed) {\n",
       "      vegaEmbed(outputDiv, spec, embedOpt)\n",
       "        .catch(err => showError(`Javascript Error: ${err.message}<br>This usually means there's a typo in your chart specification. See the javascript console for the full traceback.`));\n",
       "    }\n",
       "\n",
       "    if(typeof define === \"function\" && define.amd) {\n",
       "      requirejs.config({paths});\n",
       "      require([\"vega-embed\"], displayChart, err => showError(`Error loading script: ${err.message}`));\n",
       "    } else {\n",
       "      maybeLoadScript(\"vega\", \"5\")\n",
       "        .then(() => maybeLoadScript(\"vega-lite\", \"5.17.0\"))\n",
       "        .then(() => maybeLoadScript(\"vega-embed\", \"6\"))\n",
       "        .catch(showError)\n",
       "        .then(() => displayChart(vegaEmbed));\n",
       "    }\n",
       "  })({\"config\": {\"view\": {\"continuousWidth\": 300, \"continuousHeight\": 300}, \"numberFormat\": \".2s\"}, \"data\": {\"name\": \"data-172d47ec1fa1a9099fac8355ef959346\"}, \"mark\": {\"type\": \"bar\"}, \"encoding\": {\"order\": {\"field\": \"artefact_count\", \"type\": \"quantitative\"}, \"x\": {\"field\": \"artefact_count\", \"type\": \"quantitative\"}, \"y\": {\"field\": \"institution\", \"type\": \"nominal\"}}, \"title\": {\"text\": \"Artefacts per Institution\", \"anchor\": \"middle\"}, \"$schema\": \"https://vega.github.io/schema/vega-lite/v5.17.0.json\", \"datasets\": {\"data-172d47ec1fa1a9099fac8355ef959346\": [{\"institution\": \"Oxford University\", \"sector\": \"university\", \"type\": \"university\", \"topic\": \"mixed\", \"precision\": \"estimate\", \"artefact_count\": 22530000}, {\"institution\": \"University of Cambridge\", \"sector\": \"university\", \"type\": \"university\", \"topic\": \"mixed\", \"precision\": \"estimate\", \"artefact_count\": 10000000}, {\"institution\": \"Durham University\", \"sector\": \"university\", \"type\": \"university\", \"topic\": \"mixed\", \"precision\": \"estimate\", \"artefact_count\": 106000}, {\"institution\": \"University College London\", \"sector\": \"university\", \"type\": \"university\", \"topic\": \"mixed\", \"precision\": \"estimate\", \"artefact_count\": 164000}, {\"institution\": \"University of Manchester\", \"sector\": \"university\", \"type\": \"university\", \"topic\": \"mixed\", \"precision\": \"estimate\", \"artefact_count\": 4060000}, {\"institution\": \"King's College London\", \"sector\": \"university\", \"type\": \"university\", \"topic\": \"mixed\", \"precision\": \"estimate\", \"artefact_count\": 200000}, {\"institution\": \"University of Birmingham\", \"sector\": \"university\", \"type\": \"university\", \"topic\": \"mixed\", \"precision\": \"estimate\", \"artefact_count\": 4500000}, {\"institution\": \"Unversity of Warwick\", \"sector\": \"university\", \"type\": \"university\", \"topic\": \"mixed\", \"precision\": \"estimate\", \"artefact_count\": 16000}, {\"institution\": \"Manchester Metropolitan Unversity\", \"sector\": \"university\", \"type\": \"university\", \"topic\": \"mixed\", \"precision\": \"estimate\", \"artefact_count\": 0}, {\"institution\": \"Swansea University\", \"sector\": \"university\", \"type\": \"university\", \"topic\": \"mixed\", \"precision\": \"estimate\", \"artefact_count\": 1700}, {\"institution\": \"University of Brighton\", \"sector\": \"university\", \"type\": \"university\", \"topic\": \"mixed\", \"precision\": \"estimate\", \"artefact_count\": 50000}, {\"institution\": \"SOAS, University of London\", \"sector\": \"university\", \"type\": \"university\", \"topic\": \"mixed\", \"precision\": \"estimate\", \"artefact_count\": 60000}, {\"institution\": \"University of Aberdeen\", \"sector\": \"university\", \"type\": \"university\", \"topic\": \"mixed\", \"precision\": \"estimate\", \"artefact_count\": 530000}, {\"institution\": \"University of Bristol\", \"sector\": \"university\", \"type\": \"university\", \"topic\": \"mixed\", \"precision\": \"estimate\", \"artefact_count\": 100000}, {\"institution\": \"University of Leeds\", \"sector\": \"university\", \"type\": \"university\", \"topic\": \"mixed\", \"precision\": \"estimate\", \"artefact_count\": 350000}, {\"institution\": \"University of Leicester\", \"sector\": \"university\", \"type\": \"university\", \"topic\": \"mixed\", \"precision\": \"estimate\", \"artefact_count\": 25000}, {\"institution\": \"University of Sheffield\", \"sector\": \"university\", \"type\": \"university\", \"topic\": \"mixed\", \"precision\": \"estimate\", \"artefact_count\": 30000}, {\"institution\": \"University of St Andrews\", \"sector\": \"university\", \"type\": \"university\", \"topic\": \"mixed\", \"precision\": \"estimate\", \"artefact_count\": 200000}, {\"institution\": \"British Library\", \"sector\": \"library\", \"type\": \"library\", \"topic\": \"mixed\", \"precision\": \"estimate\", \"artefact_count\": 33810000}, {\"institution\": \"Chetham's Library\", \"sector\": \"library\", \"type\": \"library\", \"topic\": \"mixed\", \"precision\": \"estimate\", \"artefact_count\": 121041}, {\"institution\": \"Glasgow Woman's Library\", \"sector\": \"library\", \"type\": \"library\", \"topic\": \"mixed\", \"precision\": \"estimate\", \"artefact_count\": 0}, {\"institution\": \"Lambeth Palace Library\", \"sector\": \"library\", \"type\": \"library\", \"topic\": \"theology\", \"precision\": \"estimate\", \"artefact_count\": 186200}, {\"institution\": \"National Library of Wales\", \"sector\": \"library\", \"type\": \"library\", \"topic\": \"mixed\", \"precision\": \"estimate\", \"artefact_count\": 7540000}, {\"institution\": \"National Library of Scotland\", \"sector\": \"library\", \"type\": \"library\", \"topic\": \"mixed\", \"precision\": \"estimate\", \"artefact_count\": 34000000}, {\"institution\": \"Victoria & Albert Museum\", \"sector\": \"dcms\", \"type\": \"museum\", \"topic\": \"art\", \"precision\": \"estimate\", \"artefact_count\": 2800000}, {\"institution\": \"Science Museum Group\", \"sector\": \"dcms\", \"type\": \"museum\", \"topic\": \"science\", \"precision\": \"estimate\", \"artefact_count\": 7360793}, {\"institution\": \"Museum of the Home\", \"sector\": \"dcms\", \"type\": \"museum\", \"topic\": \"history\", \"precision\": \"estimate\", \"artefact_count\": 40000}, {\"institution\": \"Horniman Museum\", \"sector\": \"dcms\", \"type\": \"museum\", \"topic\": \"history\", \"precision\": \"estimate\", \"artefact_count\": 350000}, {\"institution\": \"Imperial War Museums\", \"sector\": \"dcms\", \"type\": \"museum\", \"topic\": \"history\", \"precision\": \"estimate\", \"artefact_count\": 1000000}, {\"institution\": \"National Gallery\", \"sector\": \"dcms\", \"type\": \"gallery\", \"topic\": \"art\", \"precision\": \"estimate\", \"artefact_count\": 2626}, {\"institution\": \"National Museums Liverpool\", \"sector\": \"dcms\", \"type\": \"museum\", \"topic\": \"history\", \"precision\": \"estimate\", \"artefact_count\": 4000000}, {\"institution\": \"National Portrait Gallery\", \"sector\": \"dcms\", \"type\": \"gallery\", \"topic\": \"art\", \"precision\": \"estimate\", \"artefact_count\": 350000}, {\"institution\": \"Natural History Museum\", \"sector\": \"dcms\", \"type\": \"museum\", \"topic\": \"nature\", \"precision\": \"estimate\", \"artefact_count\": 80000000}, {\"institution\": \"Royal Armouries\", \"sector\": \"dcms\", \"type\": \"museum\", \"topic\": \"history\", \"precision\": \"estimate\", \"artefact_count\": 70000}, {\"institution\": \"Royal Museums Greenwich\", \"sector\": \"dcms\", \"type\": \"museum\", \"topic\": \"history\", \"precision\": \"estimate\", \"artefact_count\": 3000000}, {\"institution\": \"Sir John Soane's Museum\", \"sector\": \"dcms\", \"type\": \"museum\", \"topic\": \"history\", \"precision\": \"estimate\", \"artefact_count\": 52000}, {\"institution\": \"Tate Gallery Group\", \"sector\": \"dcms\", \"type\": \"gallery\", \"topic\": \"art\", \"precision\": \"estimate\", \"artefact_count\": 70000}, {\"institution\": \"The Wallace Collection\", \"sector\": \"dcms\", \"type\": \"museum\", \"topic\": \"art\", \"precision\": \"estimate\", \"artefact_count\": 5637}, {\"institution\": \"British Museum\", \"sector\": \"dcms\", \"type\": \"museum\", \"topic\": \"history\", \"precision\": \"estimate\", \"artefact_count\": 8000000}]}}, {\"mode\": \"vega-lite\"});\n",
       "</script>"
      ],
      "text/plain": [
       "alt.Chart(...)"
      ]
     },
     "execution_count": 62,
     "metadata": {},
     "output_type": "execute_result"
    }
   ],
   "source": [
    "import altair as alt\n",
    "\n",
    "title = alt.TitleParams('Artefacts per Institution', anchor='middle')\n",
    "alt.Chart(artefacts_df, title=title).mark_bar().encode(\n",
    "    x='artefact_count',\n",
    "    y='institution',\n",
    "    order='artefact_count:Q'\n",
    ").configure(numberFormat='.2s')"
   ]
  }
 ],
 "metadata": {
  "kernelspec": {
   "display_name": "Python 3 (ipykernel)",
   "language": "python",
   "name": "python3"
  },
  "language_info": {
   "codemirror_mode": {
    "name": "ipython",
    "version": 3
   },
   "file_extension": ".py",
   "mimetype": "text/x-python",
   "name": "python",
   "nbconvert_exporter": "python",
   "pygments_lexer": "ipython3",
   "version": "3.9.18"
  }
 },
 "nbformat": 4,
 "nbformat_minor": 5
}
