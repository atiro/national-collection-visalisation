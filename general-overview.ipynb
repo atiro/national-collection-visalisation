{
 "cells": [
  {
   "cell_type": "code",
   "execution_count": 142,
   "id": "bc077a0d-3cac-4f63-8b00-fa6d878fe2a7",
   "metadata": {
    "editable": true,
    "slideshow": {
     "slide_type": ""
    },
    "tags": [
     "remove-cell"
    ]
   },
   "outputs": [],
   "source": [
    "from vega import Vega\n",
    "import json\n",
    "import altair as alt\n",
    "\n",
    "import pandas as pd\n",
    "artefacts_df = pd.read_csv(\"artefacts-overview-stats.csv\")\n",
    "artefacts_non_nature_df = artefacts_df.loc[artefacts_df['topic'] != 'nature']\n",
    "artefacts_museum_df = artefacts_df.loc[artefacts_df['type'] == 'museum']"
   ]
  },
  {
   "cell_type": "markdown",
   "id": "cc48806d-ed27-41a6-9d9f-4c8fe6e99d91",
   "metadata": {
    "editable": true,
    "slideshow": {
     "slide_type": ""
    },
    "tags": []
   },
   "source": [
    "# Overview\n",
    "\n",
    "*WORK IN PROGRESS - Updated Aug 2024*"
   ]
  },
  {
   "cell_type": "code",
   "execution_count": 143,
   "id": "a3854a1d-2e75-4372-a944-ab0a5e4f89ca",
   "metadata": {
    "editable": true,
    "slideshow": {
     "slide_type": ""
    },
    "tags": [
     "remove-cell"
    ]
   },
   "outputs": [],
   "source": [
    "from collections import Counter\n",
    "\n",
    "tree_totals = artefacts_df.groupby('type').sum(numeric_only=True)\n",
    "tree_structure = [ { \"id\": 1, \"name\": \"National Collection\" } ]\n",
    "tree_node_index = 2\n",
    "#tree_totals.columns\n",
    "parent_map = {}\n",
    "for row in tree_totals.iterrows():\n",
    "  parent_map[row[0]] = tree_node_index\n",
    "  tree_structure.append({\"id\": tree_node_index, \"name\": row[0], \n",
    "                         \"parent\": 1})\n",
    "  tree_node_index+= 1\n",
    "\n",
    "\n",
    "institution_type_index = Counter()\n",
    "for i, row in artefacts_df.iterrows():\n",
    "    tree_structure.append({\"id\": tree_node_index, \"name\": row[\"institution\"], \n",
    "                           \"size\": int(row[\"artefact_count\"]), \n",
    "                         \"parent\": parent_map[row['type']]})\n",
    "    institution_type_index[row[\"type\"]] += 1\n",
    "    tree_node_index+=1"
   ]
  },
  {
   "cell_type": "code",
   "execution_count": 338,
   "id": "00885d37-f02e-42c8-92dc-a1516bfc2ccf",
   "metadata": {
    "editable": true,
    "slideshow": {
     "slide_type": ""
    },
    "tags": [
     "remove-cell"
    ]
   },
   "outputs": [],
   "source": [
    "treemap_test_spec = f\"\"\"\n",
    "{{\n",
    "  \"$schema\": \"https://vega.github.io/schema/vega/v5.json\",\n",
    "  \"description\": \"An example of treemap layout for hierarchical data.\",\n",
    "  \"width\": 960,\n",
    "  \"height\": 600,\n",
    "  \"padding\": 2.5,\n",
    "  \"autosize\": \"none\",\n",
    "  \"signals\": [\n",
    "  ],\n",
    "  \"data\": [\n",
    "    {{\n",
    "      \"name\": \"tree\",\n",
    "      \"values\": {json.dumps(tree_structure)},\n",
    "      \"transform\": [\n",
    "        {{\"type\": \"stratify\", \"key\": \"id\", \"parentKey\": \"parent\"}},\n",
    "        {{\n",
    "          \"type\": \"treemap\",\n",
    "          \"field\": \"size\",\n",
    "          \"sort\": {{\"field\": \"value\"}},\n",
    "          \"round\": true,\n",
    "          \"method\": \"squarify\",\n",
    "          \"ratio\": 1.6,\n",
    "          \"size\": [{{\"signal\": \"width\"}}, {{\"signal\": \"height\"}}]\n",
    "        }}\n",
    "      ]\n",
    "    }},\n",
    "    {{\n",
    "      \"name\": \"nodes\",\n",
    "      \"source\": \"tree\",\n",
    "      \"transform\": [{{\"type\": \"filter\", \"expr\": \"datum.children\"}}]\n",
    "    }},\n",
    "    {{\n",
    "      \"name\": \"leaves\",\n",
    "      \"source\": \"tree\",\n",
    "      \"transform\": [{{\"type\": \"filter\", \"expr\": \"!datum.children\"}}]\n",
    "    }},\n",
    "    {{\n",
    "      \"name\": \"large-leaves\",\n",
    "      \"source\": \"tree\",\n",
    "      \"transform\": [{{\"type\": \"filter\", \"expr\": \"!datum.children && datum.size > 2500000\"}}]\n",
    "    }},\n",
    "    {{\n",
    "      \"name\": \"total\",\n",
    "      \"source\": \"tree\",\n",
    "      \"transform\": [{{\"type\": \"aggregate\", \"fields\": [\"size\"], \"ops\": [\"sum\"], \"as\": [\"totalsize\"]}}]\n",
    "      }},\n",
    "  {{\n",
    "      \"name\": \"percentages\",\n",
    "      \"source\": \"tree\",\n",
    "      \"transform\":  [\n",
    "      {{ \"type\": \"lookup\",\"from\": \"total\",\"key\": \"id\",\"fields\": [\"totalsize\"],\"values\": [\"totalsize\"]   }},\n",
    "      {{\"type\": \"formula\", \"expr\": \"datum.name + ' ' + format((datum.size/datum.totalsize), ',.1%')\", \"as\": \"nc_percent\"}}\n",
    "      ]\n",
    "    }}\n",
    "  ],\n",
    "  \"scales\": [\n",
    "    {{\n",
    "      \"name\": \"color\",\n",
    "      \"type\": \"ordinal\",\n",
    "      \"domain\": {{\"data\": \"nodes\", \"field\": \"name\"}},\n",
    "      \"range\": [\n",
    "        \"#3182bd\",\n",
    "        \"#6baed6\",\n",
    "        \"#9ecae1\",\n",
    "        \"#c6dbef\",\n",
    "        \"#e6550d\",\n",
    "        \"#fd8d3c\",\n",
    "        \"#fdae6b\",\n",
    "        \"#fdd0a2\",\n",
    "        \"#31a354\",\n",
    "        \"#74c476\",\n",
    "        \"#a1d99b\",\n",
    "        \"#c7e9c0\",\n",
    "        \"#756bb1\",\n",
    "        \"#9e9ac8\",\n",
    "        \"#bcbddc\",\n",
    "        \"#dadaeb\",\n",
    "        \"#636363\",\n",
    "        \"#969696\",\n",
    "        \"#bdbdbd\",\n",
    "        \"#d9d9d9\"\n",
    "      ]\n",
    "    }},\n",
    "    {{\n",
    "      \"name\": \"size\",\n",
    "      \"type\": \"ordinal\",\n",
    "      \"domain\": [0, 1, 2, 3],\n",
    "      \"range\": [0, 0, 0, 0]\n",
    "    }},\n",
    "    {{\n",
    "      \"name\": \"collection-size\",\n",
    "      \"type\": \"quantile\",\n",
    "      \"domain\": [0, 1000, 10000, 100000, 1000000, 2500000, 5000000, 20000000],\n",
    "      \"range\": [0, 0, 0, 0, 5, 7, 11, 16]\n",
    "    }},\n",
    "    {{\n",
    "      \"name\": \"opacity\",\n",
    "      \"type\": \"ordinal\",\n",
    "      \"domain\": [0, 1, 2, 3],\n",
    "      \"range\": [0, 0, 0.8, 1]\n",
    "    }}\n",
    "  ],\n",
    "  \"marks\": [\n",
    "    {{\n",
    "      \"type\": \"rect\",\n",
    "      \"from\": {{\"data\": \"nodes\"}},\n",
    "      \"interactive\": false,\n",
    "      \"encode\": {{\n",
    "        \"enter\": {{\"fill\": {{\"scale\": \"color\", \"field\": \"name\"}} }},\n",
    "        \"update\": {{\n",
    "          \"x\": {{\"field\": \"x0\"}},\n",
    "          \"y\": {{\"field\": \"y0\"}},\n",
    "          \"x2\": {{\"field\": \"x1\"}},\n",
    "          \"y2\": {{\"field\": \"y1\"}}\n",
    "        }}\n",
    "      }}\n",
    "    }},\n",
    "    {{\n",
    "      \"type\": \"rect\",\n",
    "      \"from\": {{\"data\": \"leaves\"}},\n",
    "      \"encode\": {{\n",
    "        \"enter\": {{\"stroke\": {{\"value\": \"#fff\"}},\n",
    "                  \"tooltip\": {{ \"field\": \"name\" }}\n",
    "        }},\n",
    "        \"update\": {{\n",
    "          \"x\": {{\"field\": \"x0\"}},\n",
    "          \"y\": {{\"field\": \"y0\"}},\n",
    "          \"x2\": {{\"field\": \"x1\"}},\n",
    "          \"y2\": {{\"field\": \"y1\"}},\n",
    "          \"fill\": {{\"value\": \"transparent\"}}\n",
    "        }},\n",
    "        \"hover\": {{\"fill\": {{\"value\": \"#efb118\"}} }}\n",
    "      }}\n",
    "    }},\n",
    "    {{\n",
    "      \"type\": \"text\",\n",
    "      \"from\": {{\"data\": \"nodes\"}},\n",
    "      \"interactive\": false,\n",
    "      \"encode\": {{\n",
    "        \"enter\": {{\n",
    "          \"font\": {{\"value\": \"Helvetica Neue, Arial\"}},\n",
    "          \"align\": {{\"value\": \"center\"}},\n",
    "          \"baseline\": {{\"value\": \"middle\"}},\n",
    "          \"fill\": {{\"value\": \"#000\"}},\n",
    "          \"text\": {{\"field\": \"name\"}},\n",
    "          \"fontSize\": {{\"scale\": \"size\", \"field\": \"depth\"}},\n",
    "          \"fillOpacity\": {{\"scale\": \"opacity\", \"field\": \"depth\"}}\n",
    "        }},\n",
    "        \"update\": {{\n",
    "          \"x\": {{\"signal\": \"0.5 * (datum.x0 + datum.x1)\"}},\n",
    "          \"y\": {{\"signal\": \"0.5 * (datum.y0 + datum.y1)\"}}\n",
    "        }}\n",
    "      }}\n",
    "    }},  \n",
    "    {{\n",
    "      \"type\": \"text\",\n",
    "      \"from\": {{\"data\": \"percentages\"}},\n",
    "      \"interactive\": false,\n",
    "      \"encode\": {{\n",
    "        \"enter\": {{\n",
    "          \"font\": {{\"value\": \"Helvetica Neue, Arial\"}},\n",
    "          \"align\": {{\"value\": \"center\"}},\n",
    "          \"baseline\": {{\"value\": \"middle\"}},\n",
    "          \"fill\": {{\"value\": \"#000\"}},\n",
    "          \"text\": {{\"field\": \"name\"}},\n",
    "          \"fontSize\": {{\"scale\": \"collection-size\", \"field\": \"size\"}},\n",
    "          \"fillOpacity\": {{\"scale\": \"opacity\", \"field\": \"depth\"}}\n",
    "        }},\n",
    "        \"update\": {{\n",
    "          \"x\": {{\"signal\": \"0.5 * (datum.x0 + datum.x1)\"}},\n",
    "          \"y\": {{\"signal\": \"0.46 * (datum.y0 + datum.y1)\"}},\n",
    "          \"text\": {{\"signal\": \"split(datum.nc_percent, ' ')\"}}\n",
    "        }}\n",
    "      }}\n",
    "    }}\n",
    "  ]\n",
    "}}\n",
    "\"\"\""
   ]
  },
  {
   "cell_type": "code",
   "execution_count": 339,
   "id": "ed20e217-b4ef-44e1-afb6-3fb8fa1811f1",
   "metadata": {
    "editable": true,
    "slideshow": {
     "slide_type": ""
    },
    "tags": [
     "remove-input"
    ]
   },
   "outputs": [
    {
     "data": {
      "application/vnd.vega.v5+json": {
       "$schema": "https://vega.github.io/schema/vega/v5.json",
       "autosize": "none",
       "data": [
        {
         "name": "tree",
         "transform": [
          {
           "key": "id",
           "parentKey": "parent",
           "type": "stratify"
          },
          {
           "field": "size",
           "method": "squarify",
           "ratio": 1.6,
           "round": true,
           "size": [
            {
             "signal": "width"
            },
            {
             "signal": "height"
            }
           ],
           "sort": {
            "field": "value"
           },
           "type": "treemap"
          }
         ],
         "values": [
          {
           "children": 7,
           "depth": 0,
           "id": 1,
           "name": "National Collection",
           "x0": 0,
           "x1": 960,
           "y0": 0,
           "y1": 600
          },
          {
           "children": 2,
           "depth": 1,
           "id": 2,
           "name": "archive",
           "parent": 1,
           "x0": 0,
           "x1": 10,
           "y0": 0,
           "y1": 13
          },
          {
           "children": 7,
           "depth": 1,
           "id": 3,
           "name": "building",
           "parent": 1,
           "x0": 0,
           "x1": 10,
           "y0": 148,
           "y1": 600
          },
          {
           "children": 10,
           "depth": 1,
           "id": 4,
           "name": "gallery",
           "parent": 1,
           "x0": 0,
           "x1": 10,
           "y0": 13,
           "y1": 148
          },
          {
           "children": 6,
           "depth": 1,
           "id": 5,
           "name": "library",
           "parent": 1,
           "x0": 10,
           "x1": 440,
           "y0": 188,
           "y1": 600
          },
          {
           "children": 1,
           "depth": 1,
           "id": 6,
           "name": "mixed",
           "parent": 1,
           "x0": 0,
           "x1": 10,
           "y0": 0,
           "y1": 0
          },
          {
           "children": 78,
           "depth": 1,
           "id": 7,
           "name": "museum",
           "parent": 1,
           "x0": 440,
           "x1": 960,
           "y0": 0,
           "y1": 600
          },
          {
           "children": 18,
           "depth": 1,
           "id": 8,
           "name": "university",
           "parent": 1,
           "x0": 10,
           "x1": 440,
           "y0": 0,
           "y1": 188
          },
          {
           "children": 0,
           "depth": 2,
           "id": 9,
           "name": "Oxford University",
           "parent": 8,
           "size": 22530000,
           "x0": 206,
           "x1": 440,
           "y0": 0,
           "y1": 188
          },
          {
           "children": 0,
           "depth": 2,
           "id": 10,
           "name": "University of Cambridge",
           "parent": 8,
           "size": 4007000,
           "x0": 17,
           "x1": 70,
           "y0": 40,
           "y1": 188
          },
          {
           "children": 0,
           "depth": 2,
           "id": 11,
           "name": "Durham University",
           "parent": 8,
           "size": 106000,
           "x0": 10,
           "x1": 17,
           "y0": 67,
           "y1": 94
          },
          {
           "children": 0,
           "depth": 2,
           "id": 12,
           "name": "University College London",
           "parent": 8,
           "size": 164000,
           "x0": 10,
           "x1": 17,
           "y0": 94,
           "y1": 137
          },
          {
           "children": 0,
           "depth": 2,
           "id": 13,
           "name": "University of Manchester",
           "parent": 8,
           "size": 8560000,
           "x0": 70,
           "x1": 206,
           "y0": 65,
           "y1": 188
          },
          {
           "children": 0,
           "depth": 2,
           "id": 14,
           "name": "King's College London",
           "parent": 8,
           "size": 200000,
           "x0": 10,
           "x1": 17,
           "y0": 137,
           "y1": 188
          },
          {
           "children": 0,
           "depth": 2,
           "id": 15,
           "name": "University of Birmingham",
           "parent": 8,
           "size": 4500000,
           "x0": 70,
           "x1": 206,
           "y0": 0,
           "y1": 65
          },
          {
           "children": 0,
           "depth": 2,
           "id": 16,
           "name": "Unversity of Warwick",
           "parent": 8,
           "size": 16000,
           "x0": 10,
           "x1": 17,
           "y0": 1,
           "y1": 5
          },
          {
           "children": 0,
           "depth": 2,
           "id": 17,
           "name": "Manchester Metropolitan Unversity",
           "parent": 8,
           "size": 0,
           "x0": 10,
           "x1": 17,
           "y0": 0,
           "y1": 0
          },
          {
           "children": 0,
           "depth": 2,
           "id": 18,
           "name": "Swansea University",
           "parent": 8,
           "size": 1700,
           "x0": 10,
           "x1": 17,
           "y0": 0,
           "y1": 0
          },
          {
           "children": 0,
           "depth": 2,
           "id": 19,
           "name": "University of Brighton",
           "parent": 8,
           "size": 50000,
           "x0": 10,
           "x1": 17,
           "y0": 13,
           "y1": 26
          },
          {
           "children": 0,
           "depth": 2,
           "id": 20,
           "name": "SOAS, University of London",
           "parent": 8,
           "size": 60000,
           "x0": 10,
           "x1": 17,
           "y0": 26,
           "y1": 41
          },
          {
           "children": 0,
           "depth": 2,
           "id": 21,
           "name": "University of Aberdeen",
           "parent": 8,
           "size": 530000,
           "x0": 17,
           "x1": 70,
           "y0": 20,
           "y1": 40
          },
          {
           "children": 0,
           "depth": 2,
           "id": 22,
           "name": "University of Bristol",
           "parent": 8,
           "size": 100000,
           "x0": 10,
           "x1": 17,
           "y0": 41,
           "y1": 67
          },
          {
           "children": 0,
           "depth": 2,
           "id": 23,
           "name": "University of Leeds",
           "parent": 8,
           "size": 350000,
           "x0": 17,
           "x1": 70,
           "y0": 7,
           "y1": 20
          },
          {
           "children": 0,
           "depth": 2,
           "id": 24,
           "name": "University of Sheffield",
           "parent": 8,
           "size": 30000,
           "x0": 10,
           "x1": 17,
           "y0": 5,
           "y1": 13
          },
          {
           "children": 0,
           "depth": 2,
           "id": 25,
           "name": "University of St Andrews",
           "parent": 8,
           "size": 200000,
           "x0": 17,
           "x1": 70,
           "y0": 0,
           "y1": 7
          },
          {
           "children": 0,
           "depth": 2,
           "id": 26,
           "name": "Royal College of Surgeons",
           "parent": 8,
           "size": 3500,
           "x0": 10,
           "x1": 17,
           "y0": 0,
           "y1": 1
          },
          {
           "children": 0,
           "depth": 2,
           "id": 27,
           "name": "British Library",
           "parent": 5,
           "size": 45810000,
           "x0": 223,
           "x1": 440,
           "y0": 188,
           "y1": 600
          },
          {
           "children": 0,
           "depth": 2,
           "id": 28,
           "name": "Chetham's Library",
           "parent": 5,
           "size": 121041,
           "x0": 10,
           "x1": 47,
           "y0": 188,
           "y1": 194
          },
          {
           "children": 0,
           "depth": 2,
           "id": 29,
           "name": "Glasgow Woman's Library",
           "parent": 5,
           "size": 0,
           "x0": 10,
           "x1": 47,
           "y0": 188,
           "y1": 188
          },
          {
           "children": 0,
           "depth": 2,
           "id": 30,
           "name": "Lambeth Palace Library",
           "parent": 5,
           "size": 186200,
           "x0": 10,
           "x1": 47,
           "y0": 194,
           "y1": 204
          },
          {
           "children": 0,
           "depth": 2,
           "id": 31,
           "name": "National Library of Wales",
           "parent": 5,
           "size": 7540000,
           "x0": 10,
           "x1": 47,
           "y0": 204,
           "y1": 600
          },
          {
           "children": 0,
           "depth": 2,
           "id": 32,
           "name": "National Library of Scotland",
           "parent": 5,
           "size": 37000000,
           "x0": 47,
           "x1": 223,
           "y0": 188,
           "y1": 600
          },
          {
           "children": 0,
           "depth": 2,
           "id": 33,
           "name": "Amgueddfa Cymru (National Museum Wales)",
           "parent": 7,
           "size": 5319585,
           "x0": 440,
           "x1": 566,
           "y0": 294,
           "y1": 377
          },
          {
           "children": 0,
           "depth": 2,
           "id": 34,
           "name": "Historic Royal Palaces",
           "parent": 3,
           "size": 60000,
           "x0": 1,
           "x1": 10,
           "y0": 148,
           "y1": 161
          },
          {
           "children": 0,
           "depth": 2,
           "id": 35,
           "name": "National Football Museum",
           "parent": 7,
           "size": 40000,
           "x0": 521,
           "x1": 534,
           "y0": 0,
           "y1": 6
          },
          {
           "children": 0,
           "depth": 2,
           "id": 36,
           "name": "National Justice Museum",
           "parent": 7,
           "size": 40000,
           "x0": 534,
           "x1": 547,
           "y0": 0,
           "y1": 6
          },
          {
           "children": 0,
           "depth": 2,
           "id": 37,
           "name": "National Mining Museum Scotland",
           "parent": 7,
           "size": 100000,
           "x0": 861,
           "x1": 894,
           "y0": 0,
           "y1": 6
          },
          {
           "children": 0,
           "depth": 2,
           "id": 38,
           "name": "National Museum of the Royal Navy",
           "parent": 7,
           "size": 2500000,
           "x0": 440,
           "x1": 566,
           "y0": 103,
           "y1": 142
          },
          {
           "children": 0,
           "depth": 2,
           "id": 39,
           "name": "National Museums NI",
           "parent": 7,
           "size": 1400000,
           "x0": 697,
           "x1": 739,
           "y0": 37,
           "y1": 103
          },
          {
           "children": 0,
           "depth": 2,
           "id": 40,
           "name": "National Museums Scotland",
           "parent": 7,
           "size": 12000000,
           "x0": 724,
           "x1": 960,
           "y0": 103,
           "y1": 203
          },
          {
           "children": 0,
           "depth": 2,
           "id": 41,
           "name": "National Tramway Museum",
           "parent": 7,
           "size": 46690,
           "x0": 628,
           "x1": 643,
           "y0": 0,
           "y1": 6
          },
          {
           "children": 0,
           "depth": 2,
           "id": 42,
           "name": "National Trust",
           "parent": 3,
           "size": 1000000,
           "x0": 0,
           "x1": 10,
           "y0": 402,
           "y1": 600
          },
          {
           "children": 0,
           "depth": 2,
           "id": 43,
           "name": "National Trust for Scotland",
           "parent": 3,
           "size": 300000,
           "x0": 0,
           "x1": 10,
           "y0": 204,
           "y1": 264
          },
          {
           "children": 0,
           "depth": 2,
           "id": 44,
           "name": "National Waterways Museum",
           "parent": 3,
           "size": 150000,
           "x0": 0,
           "x1": 10,
           "y0": 174,
           "y1": 204
          },
          {
           "children": 0,
           "depth": 2,
           "id": 45,
           "name": "Government Art Collection",
           "parent": 7,
           "size": 15000,
           "x0": 455,
           "x1": 459,
           "y0": 0,
           "y1": 6
          },
          {
           "children": 0,
           "depth": 2,
           "id": 46,
           "name": "Historic Environment Scotland",
           "parent": 7,
           "size": 41000,
           "x0": 600,
           "x1": 613,
           "y0": 0,
           "y1": 6
          },
          {
           "children": 0,
           "depth": 2,
           "id": 47,
           "name": "People's History Museum",
           "parent": 7,
           "size": 5680,
           "x0": 443,
           "x1": 445,
           "y0": 0,
           "y1": 6
          },
          {
           "children": 0,
           "depth": 2,
           "id": 48,
           "name": "Portable Antiquities Scheme",
           "parent": 7,
           "size": 1751232,
           "x0": 783,
           "x1": 835,
           "y0": 37,
           "y1": 103
          },
          {
           "children": 0,
           "depth": 2,
           "id": 49,
           "name": "Royal Air Force Museum",
           "parent": 7,
           "size": 1300000,
           "x0": 621,
           "x1": 659,
           "y0": 37,
           "y1": 103
          },
          {
           "children": 0,
           "depth": 2,
           "id": 50,
           "name": "Royal Botanic Gardens Kew",
           "parent": 7,
           "size": 7000000,
           "x0": 440,
           "x1": 566,
           "y0": 377,
           "y1": 486
          },
          {
           "children": 0,
           "depth": 2,
           "id": 51,
           "name": "Royal Collection",
           "parent": 7,
           "size": 1000000,
           "x0": 772,
           "x1": 835,
           "y0": 6,
           "y1": 37
          },
          {
           "children": 0,
           "depth": 2,
           "id": 52,
           "name": "Staffordshire Archive and Heritage",
           "parent": 6,
           "size": 0,
           "x0": 0,
           "x1": 10,
           "y0": 0,
           "y1": 0
          },
          {
           "children": 0,
           "depth": 2,
           "id": 53,
           "name": "Courtauld Gallery",
           "parent": 4,
           "size": 33501,
           "x0": 0,
           "x1": 4,
           "y0": 16,
           "y1": 31
          },
          {
           "children": 0,
           "depth": 2,
           "id": 54,
           "name": "Dulwich Picture Gallery",
           "parent": 4,
           "size": 600,
           "x0": 0,
           "x1": 1,
           "y0": 13,
           "y1": 16
          },
          {
           "children": 0,
           "depth": 2,
           "id": 55,
           "name": "Manchester Art Gallery",
           "parent": 4,
           "size": 46000,
           "x0": 4,
           "x1": 10,
           "y0": 16,
           "y1": 31
          },
          {
           "children": 0,
           "depth": 2,
           "id": 56,
           "name": "National Galleries Scotland",
           "parent": 4,
           "size": 120000,
           "x0": 0,
           "x1": 10,
           "y0": 55,
           "y1": 79
          },
          {
           "children": 0,
           "depth": 2,
           "id": 57,
           "name": "William Morris Gallery",
           "parent": 4,
           "size": 10000,
           "x0": 3,
           "x1": 10,
           "y0": 13,
           "y1": 16
          },
          {
           "children": 0,
           "depth": 2,
           "id": 58,
           "name": "Bowes Museum",
           "parent": 7,
           "size": 30000,
           "x0": 479,
           "x1": 489,
           "y0": 0,
           "y1": 6
          },
          {
           "children": 0,
           "depth": 2,
           "id": 59,
           "name": "Britten Pears",
           "parent": 7,
           "size": 1200,
           "x0": 440,
           "x1": 441,
           "y0": 0,
           "y1": 6
          },
          {
           "children": 0,
           "depth": 2,
           "id": 60,
           "name": "Chatham Historic Dockyard",
           "parent": 3,
           "size": 70000,
           "x0": 0,
           "x1": 10,
           "y0": 161,
           "y1": 174
          },
          {
           "children": 0,
           "depth": 2,
           "id": 61,
           "name": "English Heritage Trust",
           "parent": 3,
           "size": 700000,
           "x0": 0,
           "x1": 10,
           "y0": 264,
           "y1": 402
          },
          {
           "children": 0,
           "depth": 2,
           "id": 62,
           "name": "Gordon Highlanders Museum",
           "parent": 7,
           "size": 40000,
           "x0": 547,
           "x1": 560,
           "y0": 0,
           "y1": 6
          },
          {
           "children": 0,
           "depth": 2,
           "id": 63,
           "name": "Ironbridge Gorge Museum Trust",
           "parent": 7,
           "size": 400000,
           "x0": 512,
           "x1": 537,
           "y0": 6,
           "y1": 37
          },
          {
           "children": 0,
           "depth": 2,
           "id": 64,
           "name": "Jewish Museum London",
           "parent": 7,
           "size": 40000,
           "x0": 560,
           "x1": 573,
           "y0": 0,
           "y1": 6
          },
          {
           "children": 0,
           "depth": 2,
           "id": 65,
           "name": "London Transport Museum",
           "parent": 7,
           "size": 500000,
           "x0": 562,
           "x1": 594,
           "y0": 6,
           "y1": 37
          },
          {
           "children": 0,
           "depth": 2,
           "id": 66,
           "name": "Manchester Jewish Museum",
           "parent": 7,
           "size": 31000,
           "x0": 499,
           "x1": 509,
           "y0": 0,
           "y1": 6
          },
          {
           "children": 0,
           "depth": 2,
           "id": 67,
           "name": "Mary Rose Trust",
           "parent": 7,
           "size": 19000,
           "x0": 464,
           "x1": 471,
           "y0": 0,
           "y1": 6
          },
          {
           "children": 0,
           "depth": 2,
           "id": 68,
           "name": "Media Archive for Central England (MACE)",
           "parent": 2,
           "size": 65000,
           "x0": 0,
           "x1": 10,
           "y0": 0,
           "y1": 13
          },
          {
           "children": 0,
           "depth": 2,
           "id": 69,
           "name": "Food Museum",
           "parent": 7,
           "size": 40000,
           "x0": 573,
           "x1": 587,
           "y0": 0,
           "y1": 6
          },
          {
           "children": 0,
           "depth": 2,
           "id": 70,
           "name": "Museum of Freemasonry",
           "parent": 7,
           "size": 90000,
           "x0": 831,
           "x1": 861,
           "y0": 0,
           "y1": 6
          },
          {
           "children": 0,
           "depth": 2,
           "id": 71,
           "name": "Museum of Lead Mining",
           "parent": 7,
           "size": 2572,
           "x0": 441,
           "x1": 442,
           "y0": 0,
           "y1": 6
          },
          {
           "children": 0,
           "depth": 2,
           "id": 72,
           "name": "Museum of Scottish Railways",
           "parent": 7,
           "size": 50000,
           "x0": 643,
           "x1": 660,
           "y0": 0,
           "y1": 6
          },
          {
           "children": 0,
           "depth": 2,
           "id": 73,
           "name": "Paxton Trust",
           "parent": 3,
           "size": 3754,
           "x0": 0,
           "x1": 1,
           "y0": 148,
           "y1": 161
          },
          {
           "children": 0,
           "depth": 2,
           "id": 74,
           "name": "Pier Arts Centre",
           "parent": 4,
           "size": 180,
           "x0": 0,
           "x1": 0,
           "y0": 13,
           "y1": 16
          },
          {
           "children": 0,
           "depth": 2,
           "id": 75,
           "name": "Postal Museum",
           "parent": 7,
           "size": 60000,
           "x0": 693,
           "x1": 713,
           "y0": 0,
           "y1": 6
          },
          {
           "children": 0,
           "depth": 2,
           "id": 76,
           "name": "Royal Artillery Museum",
           "parent": 7,
           "size": 30000,
           "x0": 489,
           "x1": 499,
           "y0": 0,
           "y1": 6
          },
          {
           "children": 0,
           "depth": 2,
           "id": 77,
           "name": "Royal Engineers Museum",
           "parent": 7,
           "size": 1000000,
           "x0": 835,
           "x1": 897,
           "y0": 6,
           "y1": 37
          },
          {
           "children": 0,
           "depth": 2,
           "id": 78,
           "name": "Royal Scottish Academy of Art & Architecture",
           "parent": 7,
           "size": 9000,
           "x0": 445,
           "x1": 448,
           "y0": 0,
           "y1": 6
          },
          {
           "children": 0,
           "depth": 2,
           "id": 79,
           "name": "Scottish Fisheries Museum",
           "parent": 7,
           "size": 66000,
           "x0": 713,
           "x1": 735,
           "y0": 0,
           "y1": 6
          },
          {
           "children": 0,
           "depth": 2,
           "id": 80,
           "name": "Thackray Museum of Medicine",
           "parent": 7,
           "size": 75000,
           "x0": 780,
           "x1": 805,
           "y0": 0,
           "y1": 6
          },
          {
           "children": 0,
           "depth": 2,
           "id": 81,
           "name": "Tuillie House Museum and Art Gallery",
           "parent": 7,
           "size": 1000000,
           "x0": 897,
           "x1": 960,
           "y0": 6,
           "y1": 37
          },
          {
           "children": 0,
           "depth": 2,
           "id": 82,
           "name": "Wellcome Collection",
           "parent": 7,
           "size": 2250000,
           "x0": 894,
           "x1": 960,
           "y0": 37,
           "y1": 103
          },
          {
           "children": 0,
           "depth": 2,
           "id": 83,
           "name": "Wordsworth Museum Collection",
           "parent": 7,
           "size": 68000,
           "x0": 735,
           "x1": 757,
           "y0": 0,
           "y1": 6
          },
          {
           "children": 0,
           "depth": 2,
           "id": 84,
           "name": "Aberdeenshire Council Museums",
           "parent": 7,
           "size": 250000,
           "x0": 474,
           "x1": 490,
           "y0": 6,
           "y1": 37
          },
          {
           "children": 0,
           "depth": 2,
           "id": 85,
           "name": "Barnsley Museums",
           "parent": 7,
           "size": 711400,
           "x0": 625,
           "x1": 669,
           "y0": 6,
           "y1": 37
          },
          {
           "children": 0,
           "depth": 2,
           "id": 86,
           "name": "Birmingham Museums Trust",
           "parent": 7,
           "size": 800000,
           "x0": 669,
           "x1": 720,
           "y0": 6,
           "y1": 37
          },
          {
           "children": 0,
           "depth": 2,
           "id": 87,
           "name": "Black Country Living Museum",
           "parent": 7,
           "size": 80000,
           "x0": 805,
           "x1": 831,
           "y0": 0,
           "y1": 6
          },
          {
           "children": 0,
           "depth": 2,
           "id": 88,
           "name": "Bradford District Museums & Galleries",
           "parent": 7,
           "size": 837837,
           "x0": 720,
           "x1": 772,
           "y0": 6,
           "y1": 37
          },
          {
           "children": 0,
           "depth": 2,
           "id": 89,
           "name": "Bristol Museums",
           "parent": 7,
           "size": 2000000,
           "x0": 835,
           "x1": 894,
           "y0": 37,
           "y1": 103
          },
          {
           "children": 0,
           "depth": 2,
           "id": 90,
           "name": "Culture Coventry",
           "parent": 7,
           "size": 1000000,
           "x0": 440,
           "x1": 470,
           "y0": 37,
           "y1": 103
          },
          {
           "children": 0,
           "depth": 2,
           "id": 91,
           "name": "Culture Perth and Kinross",
           "parent": 7,
           "size": 500000,
           "x0": 594,
           "x1": 625,
           "y0": 6,
           "y1": 37
          },
          {
           "children": 0,
           "depth": 2,
           "id": 92,
           "name": "Culture Trust Luton",
           "parent": 7,
           "size": 1105051,
           "x0": 588,
           "x1": 621,
           "y0": 37,
           "y1": 103
          },
          {
           "children": 0,
           "depth": 2,
           "id": 93,
           "name": "Dundee Heritage Trust",
           "parent": 7,
           "size": 0,
           "x0": 440,
           "x1": 440,
           "y0": 0,
           "y1": 6
          },
          {
           "children": 0,
           "depth": 2,
           "id": 94,
           "name": "Elgin Museum",
           "parent": 7,
           "size": 36000,
           "x0": 509,
           "x1": 521,
           "y0": 0,
           "y1": 6
          },
          {
           "children": 0,
           "depth": 2,
           "id": 95,
           "name": "Glasgow Museums",
           "parent": 7,
           "size": 1000000,
           "x0": 470,
           "x1": 499,
           "y0": 37,
           "y1": 103
          },
          {
           "children": 0,
           "depth": 2,
           "id": 96,
           "name": "Heritage Doncaster",
           "parent": 7,
           "size": 406750,
           "x0": 537,
           "x1": 562,
           "y0": 6,
           "y1": 37
          },
          {
           "children": 0,
           "depth": 2,
           "id": 97,
           "name": "Highland Folk Museum",
           "parent": 7,
           "size": 10000,
           "x0": 451,
           "x1": 455,
           "y0": 0,
           "y1": 6
          },
          {
           "children": 0,
           "depth": 2,
           "id": 98,
           "name": "Leeds Museums & Galleries",
           "parent": 7,
           "size": 1300000,
           "x0": 659,
           "x1": 697,
           "y0": 37,
           "y1": 103
          },
          {
           "children": 0,
           "depth": 2,
           "id": 99,
           "name": "Leicester Museums",
           "parent": 7,
           "size": 1500000,
           "x0": 739,
           "x1": 783,
           "y0": 37,
           "y1": 103
          },
          {
           "children": 0,
           "depth": 2,
           "id": 100,
           "name": "Manchester Art Gallery",
           "parent": 4,
           "size": 50000,
           "x0": 0,
           "x1": 10,
           "y0": 31,
           "y1": 41
          },
          {
           "children": 0,
           "depth": 2,
           "id": 101,
           "name": "Edinburgh Museums",
           "parent": 7,
           "size": 220000,
           "x0": 460,
           "x1": 474,
           "y0": 6,
           "y1": 37
          },
          {
           "children": 0,
           "depth": 2,
           "id": 102,
           "name": "Museums Northhumberland",
           "parent": 7,
           "size": 25000,
           "x0": 471,
           "x1": 479,
           "y0": 0,
           "y1": 6
          },
          {
           "children": 0,
           "depth": 2,
           "id": 103,
           "name": "Northhampton Museums",
           "parent": 7,
           "size": 44024,
           "x0": 613,
           "x1": 628,
           "y0": 0,
           "y1": 6
          },
          {
           "children": 0,
           "depth": 2,
           "id": 104,
           "name": "Orkney Museums",
           "parent": 7,
           "size": 100000,
           "x0": 894,
           "x1": 927,
           "y0": 0,
           "y1": 6
          },
          {
           "children": 0,
           "depth": 2,
           "id": 105,
           "name": "Poole Museums",
           "parent": 7,
           "size": 50000,
           "x0": 660,
           "x1": 676,
           "y0": 0,
           "y1": 6
          },
          {
           "children": 0,
           "depth": 2,
           "id": 106,
           "name": "Potteries Museum and Art Gallery",
           "parent": 7,
           "size": 1000000,
           "x0": 499,
           "x1": 529,
           "y0": 37,
           "y1": 103
          },
          {
           "children": 0,
           "depth": 2,
           "id": 107,
           "name": "Preston Park Museum & Grounds",
           "parent": 7,
           "size": 100000,
           "x0": 927,
           "x1": 960,
           "y0": 0,
           "y1": 6
          },
          {
           "children": 0,
           "depth": 2,
           "id": 108,
           "name": "Ripon Museums",
           "parent": 7,
           "size": 9000,
           "x0": 448,
           "x1": 451,
           "y0": 0,
           "y1": 6
          },
          {
           "children": 0,
           "depth": 2,
           "id": 109,
           "name": "Royal Albert Memorial Museum",
           "parent": 7,
           "size": 1000000,
           "x0": 529,
           "x1": 558,
           "y0": 37,
           "y1": 103
          },
          {
           "children": 0,
           "depth": 2,
           "id": 110,
           "name": "Salisbury Museum",
           "parent": 7,
           "size": 100000,
           "x0": 440,
           "x1": 447,
           "y0": 6,
           "y1": 37
          },
          {
           "children": 0,
           "depth": 2,
           "id": 111,
           "name": "St Helens Borough Council",
           "parent": 2,
           "size": 0,
           "x0": 0,
           "x1": 0,
           "y0": 0,
           "y1": 13
          },
          {
           "children": 0,
           "depth": 2,
           "id": 112,
           "name": "Sunderland Museum & Winter Gardens' Collection",
           "parent": 7,
           "size": 108000,
           "x0": 447,
           "x1": 453,
           "y0": 6,
           "y1": 37
          },
          {
           "children": 0,
           "depth": 2,
           "id": 113,
           "name": "Wakefield Museums and Castles Collections",
           "parent": 7,
           "size": 111000,
           "x0": 453,
           "x1": 460,
           "y0": 6,
           "y1": 37
          },
          {
           "children": 0,
           "depth": 2,
           "id": 114,
           "name": "Weald and Downland Living Museum",
           "parent": 7,
           "size": 15000,
           "x0": 459,
           "x1": 464,
           "y0": 0,
           "y1": 6
          },
          {
           "children": 0,
           "depth": 2,
           "id": 115,
           "name": "York Museums Trust",
           "parent": 7,
           "size": 0,
           "x0": 440,
           "x1": 440,
           "y0": 0,
           "y1": 6
          },
          {
           "children": 0,
           "depth": 2,
           "id": 116,
           "name": "Victoria & Albert Museum",
           "parent": 7,
           "size": 2800000,
           "x0": 440,
           "x1": 566,
           "y0": 142,
           "y1": 186
          },
          {
           "children": 0,
           "depth": 2,
           "id": 117,
           "name": "Science Museum Group",
           "parent": 7,
           "size": 7360793,
           "x0": 440,
           "x1": 566,
           "y0": 486,
           "y1": 600
          },
          {
           "children": 0,
           "depth": 2,
           "id": 118,
           "name": "Museum of the Home",
           "parent": 7,
           "size": 40000,
           "x0": 587,
           "x1": 600,
           "y0": 0,
           "y1": 6
          },
          {
           "children": 0,
           "depth": 2,
           "id": 119,
           "name": "Horniman Museum",
           "parent": 7,
           "size": 350000,
           "x0": 490,
           "x1": 512,
           "y0": 6,
           "y1": 37
          },
          {
           "children": 0,
           "depth": 2,
           "id": 120,
           "name": "Imperial War Museums",
           "parent": 7,
           "size": 1000000,
           "x0": 558,
           "x1": 588,
           "y0": 37,
           "y1": 103
          },
          {
           "children": 0,
           "depth": 2,
           "id": 121,
           "name": "National Gallery",
           "parent": 4,
           "size": 2626,
           "x0": 1,
           "x1": 3,
           "y0": 13,
           "y1": 16
          },
          {
           "children": 0,
           "depth": 2,
           "id": 122,
           "name": "National Museums Liverpool",
           "parent": 7,
           "size": 4000000,
           "x0": 440,
           "x1": 566,
           "y0": 232,
           "y1": 294
          },
          {
           "children": 0,
           "depth": 2,
           "id": 123,
           "name": "National Portrait Gallery",
           "parent": 4,
           "size": 350000,
           "x0": 0,
           "x1": 10,
           "y0": 79,
           "y1": 148
          },
          {
           "children": 0,
           "depth": 2,
           "id": 124,
           "name": "Natural History Museum",
           "parent": 7,
           "size": 80000000,
           "x0": 566,
           "x1": 960,
           "y0": 203,
           "y1": 600
          },
          {
           "children": 0,
           "depth": 2,
           "id": 125,
           "name": "Royal Armouries",
           "parent": 7,
           "size": 70000,
           "x0": 757,
           "x1": 780,
           "y0": 0,
           "y1": 6
          },
          {
           "children": 0,
           "depth": 2,
           "id": 126,
           "name": "Royal Museums Greenwich",
           "parent": 7,
           "size": 3000000,
           "x0": 440,
           "x1": 566,
           "y0": 186,
           "y1": 232
          },
          {
           "children": 0,
           "depth": 2,
           "id": 127,
           "name": "Sir John Soane's Museum",
           "parent": 7,
           "size": 52000,
           "x0": 676,
           "x1": 693,
           "y0": 0,
           "y1": 6
          },
          {
           "children": 0,
           "depth": 2,
           "id": 128,
           "name": "Tate Gallery Group",
           "parent": 4,
           "size": 70000,
           "x0": 0,
           "x1": 10,
           "y0": 41,
           "y1": 55
          },
          {
           "children": 0,
           "depth": 2,
           "id": 129,
           "name": "The Wallace Collection",
           "parent": 7,
           "size": 5637,
           "x0": 442,
           "x1": 443,
           "y0": 0,
           "y1": 6
          },
          {
           "children": 0,
           "depth": 2,
           "id": 130,
           "name": "British Museum",
           "parent": 7,
           "size": 8000000,
           "x0": 566,
           "x1": 724,
           "y0": 103,
           "y1": 203
          }
         ]
        },
        {
         "name": "nodes",
         "source": "tree",
         "transform": [
          {
           "expr": "datum.children",
           "type": "filter"
          }
         ]
        },
        {
         "name": "leaves",
         "source": "tree",
         "transform": [
          {
           "expr": "!datum.children",
           "type": "filter"
          }
         ]
        },
        {
         "name": "large-leaves",
         "source": "tree",
         "transform": [
          {
           "expr": "!datum.children && datum.size > 2500000",
           "type": "filter"
          }
         ]
        },
        {
         "name": "total",
         "source": "tree",
         "transform": [
          {
           "as": [
            "totalsize"
           ],
           "fields": [
            "size"
           ],
           "ops": [
            "sum"
           ],
           "type": "aggregate"
          }
         ]
        },
        {
         "name": "percentages",
         "source": "tree",
         "transform": [
          {
           "fields": [
            "totalsize"
           ],
           "from": "total",
           "key": "id",
           "type": "lookup",
           "values": [
            "totalsize"
           ]
          },
          {
           "as": "nc_percent",
           "expr": "datum.name + ' ' + format((datum.size/datum.totalsize), ',.1%')",
           "type": "formula"
          }
         ]
        }
       ],
       "description": "An example of treemap layout for hierarchical data.",
       "height": 600,
       "marks": [
        {
         "encode": {
          "enter": {
           "fill": {
            "field": "name",
            "scale": "color"
           }
          },
          "update": {
           "x": {
            "field": "x0"
           },
           "x2": {
            "field": "x1"
           },
           "y": {
            "field": "y0"
           },
           "y2": {
            "field": "y1"
           }
          }
         },
         "from": {
          "data": "nodes"
         },
         "interactive": false,
         "type": "rect"
        },
        {
         "encode": {
          "enter": {
           "stroke": {
            "value": "#fff"
           },
           "tooltip": {
            "field": "name"
           }
          },
          "hover": {
           "fill": {
            "value": "#efb118"
           }
          },
          "update": {
           "fill": {
            "value": "transparent"
           },
           "x": {
            "field": "x0"
           },
           "x2": {
            "field": "x1"
           },
           "y": {
            "field": "y0"
           },
           "y2": {
            "field": "y1"
           }
          }
         },
         "from": {
          "data": "leaves"
         },
         "type": "rect"
        },
        {
         "encode": {
          "enter": {
           "align": {
            "value": "center"
           },
           "baseline": {
            "value": "middle"
           },
           "fill": {
            "value": "#000"
           },
           "fillOpacity": {
            "field": "depth",
            "scale": "opacity"
           },
           "font": {
            "value": "Helvetica Neue, Arial"
           },
           "fontSize": {
            "field": "depth",
            "scale": "size"
           },
           "text": {
            "field": "name"
           }
          },
          "update": {
           "x": {
            "signal": "0.5 * (datum.x0 + datum.x1)"
           },
           "y": {
            "signal": "0.5 * (datum.y0 + datum.y1)"
           }
          }
         },
         "from": {
          "data": "nodes"
         },
         "interactive": false,
         "type": "text"
        },
        {
         "encode": {
          "enter": {
           "align": {
            "value": "center"
           },
           "baseline": {
            "value": "middle"
           },
           "fill": {
            "value": "#000"
           },
           "fillOpacity": {
            "field": "depth",
            "scale": "opacity"
           },
           "font": {
            "value": "Helvetica Neue, Arial"
           },
           "fontSize": {
            "field": "size",
            "scale": "collection-size"
           },
           "text": {
            "field": "name"
           }
          },
          "update": {
           "text": {
            "signal": "split(datum.nc_percent, ' ')"
           },
           "x": {
            "signal": "0.5 * (datum.x0 + datum.x1)"
           },
           "y": {
            "signal": "0.46 * (datum.y0 + datum.y1)"
           }
          }
         },
         "from": {
          "data": "percentages"
         },
         "interactive": false,
         "type": "text"
        }
       ],
       "padding": 2.5,
       "scales": [
        {
         "domain": {
          "data": "nodes",
          "field": "name"
         },
         "name": "color",
         "range": [
          "#3182bd",
          "#6baed6",
          "#9ecae1",
          "#c6dbef",
          "#e6550d",
          "#fd8d3c",
          "#fdae6b",
          "#fdd0a2",
          "#31a354",
          "#74c476",
          "#a1d99b",
          "#c7e9c0",
          "#756bb1",
          "#9e9ac8",
          "#bcbddc",
          "#dadaeb",
          "#636363",
          "#969696",
          "#bdbdbd",
          "#d9d9d9"
         ],
         "type": "ordinal"
        },
        {
         "domain": [
          0,
          1,
          2,
          3
         ],
         "name": "size",
         "range": [
          0,
          0,
          0,
          0
         ],
         "type": "ordinal"
        },
        {
         "domain": [
          0,
          1000,
          10000,
          100000,
          1000000,
          2500000,
          5000000,
          20000000
         ],
         "name": "collection-size",
         "range": [
          0,
          0,
          0,
          0,
          5,
          7,
          11,
          16
         ],
         "type": "quantile"
        },
        {
         "domain": [
          0,
          1,
          2,
          3
         ],
         "name": "opacity",
         "range": [
          0,
          0,
          0.8,
          1
         ],
         "type": "ordinal"
        }
       ],
       "signals": [],
       "width": 960
      },
      "image/png": "[encoded data removed]"
     },
     "metadata": {},
     "output_type": "display_data"
    }
   ],
   "source": [
    "from IPython.display import display\n",
    "import json\n",
    "display({\"application/vnd.vega.v5+json\": json.loads(treemap_test_spec)}, raw=True)"
   ]
  },
  {
   "cell_type": "code",
   "execution_count": 146,
   "id": "2cc05a84-54dc-4b41-86a9-f3ef90d95c67",
   "metadata": {
    "editable": true,
    "slideshow": {
     "slide_type": ""
    },
    "tags": [
     "remove-cell"
    ]
   },
   "outputs": [],
   "source": [
    "from collections import Counter\n",
    "\n",
    "nn_tree_totals = artefacts_non_nature_df.groupby('type').sum(numeric_only=True)\n",
    "nn_tree_structure = [ { \"id\": 1, \"name\": \"National Collection\" } ]\n",
    "nn_tree_node_index = 2\n",
    "#tree_totals.columns\n",
    "nn_parent_map = {}\n",
    "for nn_row in nn_tree_totals.iterrows():\n",
    "  nn_parent_map[nn_row[0]] = nn_tree_node_index\n",
    "  nn_tree_structure.append({\"id\": nn_tree_node_index, \"name\": nn_row[0], \n",
    "                         \"parent\": 1})\n",
    "  nn_tree_node_index+= 1\n",
    "\n",
    "\n",
    "nn_institution_type_index = Counter()\n",
    "for nn_i, nn_row in artefacts_non_nature_df.iterrows():\n",
    "    nn_tree_structure.append({\"id\": nn_tree_node_index, \"name\": nn_row[\"institution\"], \n",
    "                           \"size\": int(nn_row[\"artefact_count\"]), \n",
    "                         \"parent\": nn_parent_map[nn_row['type']]})\n",
    "    nn_institution_type_index[nn_row[\"type\"]] += 1\n",
    "    nn_tree_node_index+=1"
   ]
  },
  {
   "cell_type": "code",
   "execution_count": 349,
   "id": "fec3e9ee-5858-4f29-83be-729fc9987352",
   "metadata": {
    "editable": true,
    "slideshow": {
     "slide_type": ""
    },
    "tags": [
     "remove-cell"
    ]
   },
   "outputs": [],
   "source": [
    "nn_treemap_test_spec = f\"\"\"\n",
    "{{\n",
    "  \"$schema\": \"https://vega.github.io/schema/vega/v5.json\",\n",
    "  \"description\": \"An example of treemap layout for hierarchical data.\",\n",
    "  \"width\": 960,\n",
    "  \"height\": 500,\n",
    "  \"padding\": 2.5,\n",
    "  \"autosize\": \"none\",\n",
    "  \"signals\": [\n",
    "  ],\n",
    "  \"data\": [\n",
    "    {{\n",
    "      \"name\": \"tree\",\n",
    "      \"values\": {json.dumps(nn_tree_structure)},\n",
    "      \"transform\": [\n",
    "        {{\"type\": \"stratify\", \"key\": \"id\", \"parentKey\": \"parent\"}},\n",
    "        {{\n",
    "          \"type\": \"treemap\",\n",
    "          \"field\": \"size\",\n",
    "          \"sort\": {{\"field\": \"value\"}},\n",
    "          \"round\": true,\n",
    "          \"method\": \"squarify\",\n",
    "          \"ratio\": 1.6,\n",
    "          \"size\": [{{\"signal\": \"width\"}}, {{\"signal\": \"height\"}}]\n",
    "        }}\n",
    "      ]\n",
    "    }},\n",
    "    {{\n",
    "      \"name\": \"nodes\",\n",
    "      \"source\": \"tree\",\n",
    "      \"transform\": [{{\"type\": \"filter\", \"expr\": \"datum.children\"}}]\n",
    "    }},\n",
    "    {{\n",
    "      \"name\": \"leaves\",\n",
    "      \"source\": \"tree\",\n",
    "      \"transform\": [{{\"type\": \"filter\", \"expr\": \"!datum.children\"}}]\n",
    "    }},\n",
    "    {{\n",
    "      \"name\": \"total\",\n",
    "      \"source\": \"tree\",\n",
    "      \"transform\": [{{\"type\": \"aggregate\", \"fields\": [\"size\"], \"ops\": [\"sum\"], \"as\": [\"totalsize\"]}}]\n",
    "      }},\n",
    "  {{\n",
    "      \"name\": \"percentages\",\n",
    "      \"source\": \"tree\",\n",
    "      \"transform\":  [\n",
    "      {{ \"type\": \"lookup\",\"from\": \"total\",\"key\": \"id\",\"fields\": [\"totalsize\"],\"values\": [\"totalsize\"]   }},\n",
    "      {{\"type\": \"formula\", \"expr\": \"datum.name + ' ' + format((datum.size/datum.totalsize), ',.1%')\", \"as\": \"nc_percent\"}}\n",
    "      ]\n",
    "    }},\n",
    "    {{\n",
    "      \"name\": \"large-leaves\",\n",
    "      \"source\": \"tree\",\n",
    "      \"transform\": [{{\"type\": \"filter\", \"expr\": \"!datum.children && datum.size > 2500000\"}}]\n",
    "    }}\n",
    "  ],\n",
    "  \"scales\": [\n",
    "    {{\n",
    "      \"name\": \"color\",\n",
    "      \"type\": \"ordinal\",\n",
    "      \"domain\": {{\"data\": \"nodes\", \"field\": \"name\"}},\n",
    "      \"range\": [\n",
    "        \"#3182bd\",\n",
    "        \"#6baed6\",\n",
    "        \"#9ecae1\",\n",
    "        \"#c6dbef\",\n",
    "        \"#e6550d\",\n",
    "        \"#fd8d3c\",\n",
    "        \"#fdae6b\",\n",
    "        \"#fdd0a2\",\n",
    "        \"#31a354\",\n",
    "        \"#74c476\",\n",
    "        \"#a1d99b\",\n",
    "        \"#c7e9c0\",\n",
    "        \"#756bb1\",\n",
    "        \"#9e9ac8\",\n",
    "        \"#bcbddc\",\n",
    "        \"#dadaeb\",\n",
    "        \"#636363\",\n",
    "        \"#969696\",\n",
    "        \"#bdbdbd\",\n",
    "        \"#d9d9d9\"\n",
    "      ]\n",
    "    }},\n",
    "    {{\n",
    "      \"name\": \"size\",\n",
    "      \"type\": \"ordinal\",\n",
    "      \"domain\": [0, 1, 2, 3],\n",
    "      \"range\": [0, 20, 18, 14]\n",
    "    }},\n",
    "    {{\n",
    "      \"name\": \"collection-size\",\n",
    "      \"type\": \"quantile\",\n",
    "      \"domain\": [0, 1000, 10000, 100000, 1000000, 2500000, 5000000, 20000000],\n",
    "      \"range\": [0, 0, 0, 0, 5, 7, 11, 16]\n",
    "    }},\n",
    "    {{\n",
    "      \"name\": \"opacity\",\n",
    "      \"type\": \"ordinal\",\n",
    "      \"domain\": [0, 1, 2, 3],\n",
    "      \"range\": [0, 0, 0.6, 1]\n",
    "    }}\n",
    "  ],\n",
    "  \"marks\": [\n",
    "    {{\n",
    "      \"type\": \"rect\",\n",
    "      \"from\": {{\"data\": \"nodes\"}},\n",
    "      \"interactive\": false,\n",
    "      \"encode\": {{\n",
    "        \"enter\": {{\"fill\": {{\"scale\": \"color\", \"field\": \"name\"}} }},\n",
    "        \"update\": {{\n",
    "          \"x\": {{\"field\": \"x0\"}},\n",
    "          \"y\": {{\"field\": \"y0\"}},\n",
    "          \"x2\": {{\"field\": \"x1\"}},\n",
    "          \"y2\": {{\"field\": \"y1\"}}\n",
    "        }}\n",
    "      }}\n",
    "    }},\n",
    "    {{\n",
    "      \"type\": \"rect\",\n",
    "      \"from\": {{\"data\": \"leaves\"}},\n",
    "      \"encode\": {{\n",
    "        \"enter\": {{\"stroke\": {{\"value\": \"#fff\"}},\n",
    "                  \"tooltip\": {{ \"field\": \"name\" }}\n",
    "        }},\n",
    "        \"update\": {{\n",
    "          \"x\": {{\"field\": \"x0\"}},\n",
    "          \"y\": {{\"field\": \"y0\"}},\n",
    "          \"x2\": {{\"field\": \"x1\"}},\n",
    "          \"y2\": {{\"field\": \"y1\"}},\n",
    "          \"fill\": {{\"value\": \"transparent\"}}\n",
    "        }},\n",
    "        \"hover\": {{\"fill\": {{\"value\": \"#efb118\"}} }}\n",
    "      }}\n",
    "    }},\n",
    "    {{\n",
    "      \"type\": \"text\",\n",
    "      \"from\": {{\"data\": \"nodes\"}},\n",
    "      \"interactive\": false,\n",
    "      \"encode\": {{\n",
    "        \"enter\": {{\n",
    "          \"font\": {{\"value\": \"Helvetica Neue, Arial\"}},\n",
    "          \"align\": {{\"value\": \"center\"}},\n",
    "          \"baseline\": {{\"value\": \"middle\"}},\n",
    "          \"fill\": {{\"value\": \"#000\"}},\n",
    "          \"text\": {{\"field\": \"name\"}},\n",
    "          \"fontSize\": {{\"scale\": \"size\", \"field\": \"depth\"}},\n",
    "          \"fillOpacity\": {{\"scale\": \"opacity\", \"field\": \"depth\"}}\n",
    "        }},\n",
    "        \"update\": {{\n",
    "          \"x\": {{\"signal\": \"0.5 * (datum.x0 + datum.x1)\"}},\n",
    "          \"y\": {{\"signal\": \"0.5 * (datum.y0 + datum.y1)\"}}\n",
    "        }}\n",
    "      }}\n",
    "    }},  \n",
    "    {{\n",
    "      \"type\": \"text\",\n",
    "      \"from\": {{\"data\": \"percentages\"}},\n",
    "      \"interactive\": false,\n",
    "      \"encode\": {{\n",
    "        \"enter\": {{\n",
    "          \"font\": {{\"value\": \"Helvetica Neue, Arial\"}},\n",
    "          \"align\": {{\"value\": \"center\"}},\n",
    "          \"baseline\": {{\"value\": \"middle\"}},\n",
    "          \"fill\": {{\"value\": \"#000\"}},\n",
    "          \"text\": {{\"field\": \"name\"}},\n",
    "          \"fontSize\": {{\"scale\": \"collection-size\", \"field\": \"size\"}},\n",
    "          \"fillOpacity\": {{\"scale\": \"opacity\", \"field\": \"depth\"}}\n",
    "        }},\n",
    "        \"update\": {{\n",
    "          \"x\": {{\"signal\": \"0.5 * (datum.x0 + datum.x1)\"}},\n",
    "          \"y\": {{\"signal\": \"0.46 * (datum.y0 + datum.y1)\"}},\n",
    "          \"text\": {{\"signal\": \"split(datum.nc_percent, ' ')\"}}\n",
    "        }}\n",
    "      }}\n",
    "    }}\n",
    "  ]\n",
    "}}\n",
    "\"\"\""
   ]
  },
  {
   "cell_type": "markdown",
   "id": "063ecb4f-f8cd-4ecc-bc24-767fcc352705",
   "metadata": {
    "editable": true,
    "slideshow": {
     "slide_type": ""
    },
    "tags": []
   },
   "source": [
    "#### National Collection Overview (excluding specimen holding organisations)\n",
    "\n",
    "The scale of collections held by natural history holding organisations can overwhelm data visualisations of overall UK collections, so in this area chart below they have been removed to allow more visibility of other collections."
   ]
  },
  {
   "cell_type": "code",
   "execution_count": 350,
   "id": "5303cbbc-adcb-4515-9f5c-30a9d4a08e6e",
   "metadata": {
    "editable": true,
    "slideshow": {
     "slide_type": ""
    },
    "tags": [
     "remove-input"
    ]
   },
   "outputs": [
    {
     "data": {
      "application/vnd.vega.v5+json": {
       "$schema": "https://vega.github.io/schema/vega/v5.json",
       "autosize": "none",
       "data": [
        {
         "name": "tree",
         "transform": [
          {
           "key": "id",
           "parentKey": "parent",
           "type": "stratify"
          },
          {
           "field": "size",
           "method": "squarify",
           "ratio": 1.6,
           "round": true,
           "size": [
            {
             "signal": "width"
            },
            {
             "signal": "height"
            }
           ],
           "sort": {
            "field": "value"
           },
           "type": "treemap"
          }
         ],
         "values": [
          {
           "children": 7,
           "depth": 0,
           "id": 1,
           "name": "National Collection",
           "x0": 0,
           "x1": 960,
           "y0": 0,
           "y1": 500
          },
          {
           "children": 2,
           "depth": 1,
           "id": 2,
           "name": "archive",
           "parent": 1,
           "x0": 0,
           "x1": 14,
           "y0": 0,
           "y1": 11
          },
          {
           "children": 7,
           "depth": 1,
           "id": 3,
           "name": "building",
           "parent": 1,
           "x0": 0,
           "x1": 14,
           "y0": 123,
           "y1": 500
          },
          {
           "children": 10,
           "depth": 1,
           "id": 4,
           "name": "gallery",
           "parent": 1,
           "x0": 0,
           "x1": 14,
           "y0": 11,
           "y1": 123
          },
          {
           "children": 6,
           "depth": 1,
           "id": 5,
           "name": "library",
           "parent": 1,
           "x0": 539,
           "x1": 960,
           "y0": 0,
           "y1": 500
          },
          {
           "children": 1,
           "depth": 1,
           "id": 6,
           "name": "mixed",
           "parent": 1,
           "x0": 0,
           "x1": 14,
           "y0": 0,
           "y1": 0
          },
          {
           "children": 75,
           "depth": 1,
           "id": 7,
           "name": "museum",
           "parent": 1,
           "x0": 14,
           "x1": 539,
           "y0": 183,
           "y1": 500
          },
          {
           "children": 18,
           "depth": 1,
           "id": 8,
           "name": "university",
           "parent": 1,
           "x0": 14,
           "x1": 539,
           "y0": 0,
           "y1": 183
          },
          {
           "children": 0,
           "depth": 2,
           "id": 9,
           "name": "Oxford University",
           "parent": 8,
           "size": 22530000,
           "x0": 253,
           "x1": 539,
           "y0": 0,
           "y1": 183
          },
          {
           "children": 0,
           "depth": 2,
           "id": 10,
           "name": "University of Cambridge",
           "parent": 8,
           "size": 4007000,
           "x0": 21,
           "x1": 88,
           "y0": 44,
           "y1": 183
          },
          {
           "children": 0,
           "depth": 2,
           "id": 11,
           "name": "Durham University",
           "parent": 8,
           "size": 106000,
           "x0": 14,
           "x1": 21,
           "y0": 90,
           "y1": 127
          },
          {
           "children": 0,
           "depth": 2,
           "id": 12,
           "name": "University College London",
           "parent": 8,
           "size": 164000,
           "x0": 14,
           "x1": 21,
           "y0": 127,
           "y1": 183
          },
          {
           "children": 0,
           "depth": 2,
           "id": 13,
           "name": "University of Manchester",
           "parent": 8,
           "size": 8560000,
           "x0": 88,
           "x1": 253,
           "y0": 63,
           "y1": 183
          },
          {
           "children": 0,
           "depth": 2,
           "id": 14,
           "name": "King's College London",
           "parent": 8,
           "size": 200000,
           "x0": 21,
           "x1": 88,
           "y0": 0,
           "y1": 7
          },
          {
           "children": 0,
           "depth": 2,
           "id": 15,
           "name": "University of Birmingham",
           "parent": 8,
           "size": 4500000,
           "x0": 88,
           "x1": 253,
           "y0": 0,
           "y1": 63
          },
          {
           "children": 0,
           "depth": 2,
           "id": 16,
           "name": "Unversity of Warwick",
           "parent": 8,
           "size": 16000,
           "x0": 14,
           "x1": 21,
           "y0": 2,
           "y1": 7
          },
          {
           "children": 0,
           "depth": 2,
           "id": 17,
           "name": "Manchester Metropolitan Unversity",
           "parent": 8,
           "size": 0,
           "x0": 14,
           "x1": 21,
           "y0": 0,
           "y1": 0
          },
          {
           "children": 0,
           "depth": 2,
           "id": 18,
           "name": "Swansea University",
           "parent": 8,
           "size": 1700,
           "x0": 14,
           "x1": 21,
           "y0": 0,
           "y1": 1
          },
          {
           "children": 0,
           "depth": 2,
           "id": 19,
           "name": "University of Brighton",
           "parent": 8,
           "size": 50000,
           "x0": 14,
           "x1": 21,
           "y0": 18,
           "y1": 35
          },
          {
           "children": 0,
           "depth": 2,
           "id": 20,
           "name": "SOAS, University of London",
           "parent": 8,
           "size": 60000,
           "x0": 14,
           "x1": 21,
           "y0": 35,
           "y1": 56
          },
          {
           "children": 0,
           "depth": 2,
           "id": 21,
           "name": "University of Aberdeen",
           "parent": 8,
           "size": 530000,
           "x0": 21,
           "x1": 88,
           "y0": 26,
           "y1": 44
          },
          {
           "children": 0,
           "depth": 2,
           "id": 22,
           "name": "University of Bristol",
           "parent": 8,
           "size": 100000,
           "x0": 14,
           "x1": 21,
           "y0": 56,
           "y1": 90
          },
          {
           "children": 0,
           "depth": 2,
           "id": 23,
           "name": "University of Leeds",
           "parent": 8,
           "size": 350000,
           "x0": 21,
           "x1": 88,
           "y0": 14,
           "y1": 26
          },
          {
           "children": 0,
           "depth": 2,
           "id": 24,
           "name": "University of Sheffield",
           "parent": 8,
           "size": 30000,
           "x0": 14,
           "x1": 21,
           "y0": 7,
           "y1": 18
          },
          {
           "children": 0,
           "depth": 2,
           "id": 25,
           "name": "University of St Andrews",
           "parent": 8,
           "size": 200000,
           "x0": 21,
           "x1": 88,
           "y0": 7,
           "y1": 14
          },
          {
           "children": 0,
           "depth": 2,
           "id": 26,
           "name": "Royal College of Surgeons",
           "parent": 8,
           "size": 3500,
           "x0": 14,
           "x1": 21,
           "y0": 1,
           "y1": 2
          },
          {
           "children": 0,
           "depth": 2,
           "id": 27,
           "name": "British Library",
           "parent": 5,
           "size": 45810000,
           "x0": 727,
           "x1": 960,
           "y0": 43,
           "y1": 500
          },
          {
           "children": 0,
           "depth": 2,
           "id": 28,
           "name": "Chetham's Library",
           "parent": 5,
           "size": 121041,
           "x0": 539,
           "x1": 545,
           "y0": 0,
           "y1": 43
          },
          {
           "children": 0,
           "depth": 2,
           "id": 29,
           "name": "Glasgow Woman's Library",
           "parent": 5,
           "size": 0,
           "x0": 539,
           "x1": 539,
           "y0": 0,
           "y1": 43
          },
          {
           "children": 0,
           "depth": 2,
           "id": 30,
           "name": "Lambeth Palace Library",
           "parent": 5,
           "size": 186200,
           "x0": 545,
           "x1": 555,
           "y0": 0,
           "y1": 43
          },
          {
           "children": 0,
           "depth": 2,
           "id": 31,
           "name": "National Library of Wales",
           "parent": 5,
           "size": 7540000,
           "x0": 555,
           "x1": 960,
           "y0": 0,
           "y1": 43
          },
          {
           "children": 0,
           "depth": 2,
           "id": 32,
           "name": "National Library of Scotland",
           "parent": 5,
           "size": 37000000,
           "x0": 539,
           "x1": 727,
           "y0": 43,
           "y1": 500
          },
          {
           "children": 0,
           "depth": 2,
           "id": 33,
           "name": "Amgueddfa Cymru (National Museum Wales)",
           "parent": 7,
           "size": 5319585,
           "x0": 208,
           "x1": 338,
           "y0": 404,
           "y1": 500
          },
          {
           "children": 0,
           "depth": 2,
           "id": 34,
           "name": "Historic Royal Palaces",
           "parent": 3,
           "size": 60000,
           "x0": 1,
           "x1": 14,
           "y0": 123,
           "y1": 134
          },
          {
           "children": 0,
           "depth": 2,
           "id": 35,
           "name": "National Football Museum",
           "parent": 7,
           "size": 40000,
           "x0": 14,
           "x1": 19,
           "y0": 291,
           "y1": 309
          },
          {
           "children": 0,
           "depth": 2,
           "id": 36,
           "name": "National Justice Museum",
           "parent": 7,
           "size": 40000,
           "x0": 14,
           "x1": 19,
           "y0": 309,
           "y1": 327
          },
          {
           "children": 0,
           "depth": 2,
           "id": 37,
           "name": "National Mining Museum Scotland",
           "parent": 7,
           "size": 100000,
           "x0": 19,
           "x1": 28,
           "y0": 334,
           "y1": 361
          },
          {
           "children": 0,
           "depth": 2,
           "id": 38,
           "name": "National Museum of the Royal Navy",
           "parent": 7,
           "size": 2500000,
           "x0": 208,
           "x1": 338,
           "y0": 183,
           "y1": 228
          },
          {
           "children": 0,
           "depth": 2,
           "id": 39,
           "name": "National Museums NI",
           "parent": 7,
           "size": 1400000,
           "x0": 124,
           "x1": 208,
           "y0": 255,
           "y1": 294
          },
          {
           "children": 0,
           "depth": 2,
           "id": 40,
           "name": "National Museums Scotland",
           "parent": 7,
           "size": 12000000,
           "x0": 338,
           "x1": 539,
           "y0": 361,
           "y1": 500
          },
          {
           "children": 0,
           "depth": 2,
           "id": 41,
           "name": "National Tramway Museum",
           "parent": 7,
           "size": 46690,
           "x0": 14,
           "x1": 19,
           "y0": 435,
           "y1": 456
          },
          {
           "children": 0,
           "depth": 2,
           "id": 42,
           "name": "National Trust",
           "parent": 3,
           "size": 1000000,
           "x0": 0,
           "x1": 14,
           "y0": 335,
           "y1": 500
          },
          {
           "children": 0,
           "depth": 2,
           "id": 43,
           "name": "National Trust for Scotland",
           "parent": 3,
           "size": 300000,
           "x0": 0,
           "x1": 14,
           "y0": 170,
           "y1": 220
          },
          {
           "children": 0,
           "depth": 2,
           "id": 44,
           "name": "National Waterways Museum",
           "parent": 3,
           "size": 150000,
           "x0": 0,
           "x1": 14,
           "y0": 145,
           "y1": 170
          },
          {
           "children": 0,
           "depth": 2,
           "id": 45,
           "name": "Government Art Collection",
           "parent": 7,
           "size": 15000,
           "x0": 14,
           "x1": 19,
           "y0": 202,
           "y1": 209
          },
          {
           "children": 0,
           "depth": 2,
           "id": 46,
           "name": "Historic Environment Scotland",
           "parent": 7,
           "size": 41000,
           "x0": 14,
           "x1": 19,
           "y0": 398,
           "y1": 416
          },
          {
           "children": 0,
           "depth": 2,
           "id": 47,
           "name": "People's History Museum",
           "parent": 7,
           "size": 5680,
           "x0": 14,
           "x1": 19,
           "y0": 188,
           "y1": 190
          },
          {
           "children": 0,
           "depth": 2,
           "id": 48,
           "name": "Portable Antiquities Scheme",
           "parent": 7,
           "size": 1751232,
           "x0": 124,
           "x1": 208,
           "y0": 335,
           "y1": 383
          },
          {
           "children": 0,
           "depth": 2,
           "id": 49,
           "name": "Royal Air Force Museum",
           "parent": 7,
           "size": 1300000,
           "x0": 124,
           "x1": 208,
           "y0": 183,
           "y1": 219
          },
          {
           "children": 0,
           "depth": 2,
           "id": 50,
           "name": "Staffordshire Archive and Heritage",
           "parent": 6,
           "size": 0,
           "x0": 0,
           "x1": 14,
           "y0": 0,
           "y1": 0
          },
          {
           "children": 0,
           "depth": 2,
           "id": 51,
           "name": "Courtauld Gallery",
           "parent": 4,
           "size": 33501,
           "x0": 0,
           "x1": 6,
           "y0": 13,
           "y1": 26
          },
          {
           "children": 0,
           "depth": 2,
           "id": 52,
           "name": "Dulwich Picture Gallery",
           "parent": 4,
           "size": 600,
           "x0": 0,
           "x1": 1,
           "y0": 11,
           "y1": 13
          },
          {
           "children": 0,
           "depth": 2,
           "id": 53,
           "name": "Manchester Art Gallery",
           "parent": 4,
           "size": 46000,
           "x0": 6,
           "x1": 14,
           "y0": 13,
           "y1": 26
          },
          {
           "children": 0,
           "depth": 2,
           "id": 54,
           "name": "National Galleries Scotland",
           "parent": 4,
           "size": 120000,
           "x0": 0,
           "x1": 14,
           "y0": 46,
           "y1": 66
          },
          {
           "children": 0,
           "depth": 2,
           "id": 55,
           "name": "William Morris Gallery",
           "parent": 4,
           "size": 10000,
           "x0": 4,
           "x1": 14,
           "y0": 11,
           "y1": 13
          },
          {
           "children": 0,
           "depth": 2,
           "id": 56,
           "name": "Bowes Museum",
           "parent": 7,
           "size": 30000,
           "x0": 14,
           "x1": 19,
           "y0": 235,
           "y1": 248
          },
          {
           "children": 0,
           "depth": 2,
           "id": 57,
           "name": "Britten Pears",
           "parent": 7,
           "size": 1200,
           "x0": 14,
           "x1": 19,
           "y0": 183,
           "y1": 184
          },
          {
           "children": 0,
           "depth": 2,
           "id": 58,
           "name": "Chatham Historic Dockyard",
           "parent": 3,
           "size": 70000,
           "x0": 0,
           "x1": 14,
           "y0": 134,
           "y1": 145
          },
          {
           "children": 0,
           "depth": 2,
           "id": 59,
           "name": "English Heritage Trust",
           "parent": 3,
           "size": 700000,
           "x0": 0,
           "x1": 14,
           "y0": 220,
           "y1": 335
          },
          {
           "children": 0,
           "depth": 2,
           "id": 60,
           "name": "Gordon Highlanders Museum",
           "parent": 7,
           "size": 40000,
           "x0": 14,
           "x1": 19,
           "y0": 327,
           "y1": 344
          },
          {
           "children": 0,
           "depth": 2,
           "id": 61,
           "name": "Ironbridge Gorge Museum Trust",
           "parent": 7,
           "size": 400000,
           "x0": 28,
           "x1": 65,
           "y0": 236,
           "y1": 261
          },
          {
           "children": 0,
           "depth": 2,
           "id": 62,
           "name": "Jewish Museum London",
           "parent": 7,
           "size": 40000,
           "x0": 14,
           "x1": 19,
           "y0": 344,
           "y1": 362
          },
          {
           "children": 0,
           "depth": 2,
           "id": 63,
           "name": "London Transport Museum",
           "parent": 7,
           "size": 500000,
           "x0": 28,
           "x1": 65,
           "y0": 287,
           "y1": 319
          },
          {
           "children": 0,
           "depth": 2,
           "id": 64,
           "name": "Manchester Jewish Museum",
           "parent": 7,
           "size": 31000,
           "x0": 14,
           "x1": 19,
           "y0": 262,
           "y1": 275
          },
          {
           "children": 0,
           "depth": 2,
           "id": 65,
           "name": "Mary Rose Trust",
           "parent": 7,
           "size": 19000,
           "x0": 14,
           "x1": 19,
           "y0": 216,
           "y1": 224
          },
          {
           "children": 0,
           "depth": 2,
           "id": 66,
           "name": "Media Archive for Central England (MACE)",
           "parent": 2,
           "size": 65000,
           "x0": 0,
           "x1": 14,
           "y0": 0,
           "y1": 11
          },
          {
           "children": 0,
           "depth": 2,
           "id": 67,
           "name": "Food Museum",
           "parent": 7,
           "size": 40000,
           "x0": 14,
           "x1": 19,
           "y0": 362,
           "y1": 380
          },
          {
           "children": 0,
           "depth": 2,
           "id": 68,
           "name": "Museum of Freemasonry",
           "parent": 7,
           "size": 90000,
           "x0": 19,
           "x1": 28,
           "y0": 310,
           "y1": 334
          },
          {
           "children": 0,
           "depth": 2,
           "id": 69,
           "name": "Museum of Lead Mining",
           "parent": 7,
           "size": 2572,
           "x0": 14,
           "x1": 19,
           "y0": 184,
           "y1": 185
          },
          {
           "children": 0,
           "depth": 2,
           "id": 70,
           "name": "Museum of Scottish Railways",
           "parent": 7,
           "size": 50000,
           "x0": 14,
           "x1": 19,
           "y0": 456,
           "y1": 478
          },
          {
           "children": 0,
           "depth": 2,
           "id": 71,
           "name": "Paxton Trust",
           "parent": 3,
           "size": 3754,
           "x0": 0,
           "x1": 1,
           "y0": 123,
           "y1": 134
          },
          {
           "children": 0,
           "depth": 2,
           "id": 72,
           "name": "Pier Arts Centre",
           "parent": 4,
           "size": 180,
           "x0": 0,
           "x1": 0,
           "y0": 11,
           "y1": 13
          },
          {
           "children": 0,
           "depth": 2,
           "id": 73,
           "name": "Postal Museum",
           "parent": 7,
           "size": 60000,
           "x0": 19,
           "x1": 28,
           "y0": 197,
           "y1": 213
          },
          {
           "children": 0,
           "depth": 2,
           "id": 74,
           "name": "Royal Artillery Museum",
           "parent": 7,
           "size": 30000,
           "x0": 14,
           "x1": 19,
           "y0": 248,
           "y1": 262
          },
          {
           "children": 0,
           "depth": 2,
           "id": 75,
           "name": "Royal Engineers Museum",
           "parent": 7,
           "size": 1000000,
           "x0": 65,
           "x1": 124,
           "y0": 183,
           "y1": 222
          },
          {
           "children": 0,
           "depth": 2,
           "id": 76,
           "name": "Royal Scottish Academy of Art & Architecture",
           "parent": 7,
           "size": 9000,
           "x0": 14,
           "x1": 19,
           "y0": 190,
           "y1": 194
          },
          {
           "children": 0,
           "depth": 2,
           "id": 77,
           "name": "Scottish Fisheries Museum",
           "parent": 7,
           "size": 66000,
           "x0": 19,
           "x1": 28,
           "y0": 213,
           "y1": 231
          },
          {
           "children": 0,
           "depth": 2,
           "id": 78,
           "name": "Thackray Museum of Medicine",
           "parent": 7,
           "size": 75000,
           "x0": 19,
           "x1": 28,
           "y0": 268,
           "y1": 288
          },
          {
           "children": 0,
           "depth": 2,
           "id": 79,
           "name": "Tuillie House Museum and Art Gallery",
           "parent": 7,
           "size": 1000000,
           "x0": 65,
           "x1": 124,
           "y0": 222,
           "y1": 262
          },
          {
           "children": 0,
           "depth": 2,
           "id": 80,
           "name": "Wellcome Collection",
           "parent": 7,
           "size": 2250000,
           "x0": 124,
           "x1": 208,
           "y0": 438,
           "y1": 500
          },
          {
           "children": 0,
           "depth": 2,
           "id": 81,
           "name": "Wordsworth Museum Collection",
           "parent": 7,
           "size": 68000,
           "x0": 19,
           "x1": 28,
           "y0": 231,
           "y1": 249
          },
          {
           "children": 0,
           "depth": 2,
           "id": 82,
           "name": "Aberdeenshire Council Museums",
           "parent": 7,
           "size": 250000,
           "x0": 28,
           "x1": 65,
           "y0": 197,
           "y1": 213
          },
          {
           "children": 0,
           "depth": 2,
           "id": 83,
           "name": "Barnsley Museums",
           "parent": 7,
           "size": 711400,
           "x0": 28,
           "x1": 65,
           "y0": 351,
           "y1": 396
          },
          {
           "children": 0,
           "depth": 2,
           "id": 84,
           "name": "Birmingham Museums Trust",
           "parent": 7,
           "size": 800000,
           "x0": 28,
           "x1": 65,
           "y0": 396,
           "y1": 447
          },
          {
           "children": 0,
           "depth": 2,
           "id": 85,
           "name": "Black Country Living Museum",
           "parent": 7,
           "size": 80000,
           "x0": 19,
           "x1": 28,
           "y0": 288,
           "y1": 310
          },
          {
           "children": 0,
           "depth": 2,
           "id": 86,
           "name": "Bradford District Museums & Galleries",
           "parent": 7,
           "size": 837837,
           "x0": 28,
           "x1": 65,
           "y0": 447,
           "y1": 500
          },
          {
           "children": 0,
           "depth": 2,
           "id": 87,
           "name": "Bristol Museums",
           "parent": 7,
           "size": 2000000,
           "x0": 124,
           "x1": 208,
           "y0": 383,
           "y1": 438
          },
          {
           "children": 0,
           "depth": 2,
           "id": 88,
           "name": "Culture Coventry",
           "parent": 7,
           "size": 1000000,
           "x0": 65,
           "x1": 124,
           "y0": 262,
           "y1": 301
          },
          {
           "children": 0,
           "depth": 2,
           "id": 89,
           "name": "Culture Perth and Kinross",
           "parent": 7,
           "size": 500000,
           "x0": 28,
           "x1": 65,
           "y0": 319,
           "y1": 351
          },
          {
           "children": 0,
           "depth": 2,
           "id": 90,
           "name": "Culture Trust Luton",
           "parent": 7,
           "size": 1105051,
           "x0": 65,
           "x1": 124,
           "y0": 457,
           "y1": 500
          },
          {
           "children": 0,
           "depth": 2,
           "id": 91,
           "name": "Dundee Heritage Trust",
           "parent": 7,
           "size": 0,
           "x0": 14,
           "x1": 19,
           "y0": 183,
           "y1": 183
          },
          {
           "children": 0,
           "depth": 2,
           "id": 92,
           "name": "Elgin Museum",
           "parent": 7,
           "size": 36000,
           "x0": 14,
           "x1": 19,
           "y0": 275,
           "y1": 291
          },
          {
           "children": 0,
           "depth": 2,
           "id": 93,
           "name": "Glasgow Museums",
           "parent": 7,
           "size": 1000000,
           "x0": 65,
           "x1": 124,
           "y0": 301,
           "y1": 340
          },
          {
           "children": 0,
           "depth": 2,
           "id": 94,
           "name": "Heritage Doncaster",
           "parent": 7,
           "size": 406750,
           "x0": 28,
           "x1": 65,
           "y0": 261,
           "y1": 287
          },
          {
           "children": 0,
           "depth": 2,
           "id": 95,
           "name": "Highland Folk Museum",
           "parent": 7,
           "size": 10000,
           "x0": 14,
           "x1": 19,
           "y0": 198,
           "y1": 202
          },
          {
           "children": 0,
           "depth": 2,
           "id": 96,
           "name": "Leeds Museums & Galleries",
           "parent": 7,
           "size": 1300000,
           "x0": 124,
           "x1": 208,
           "y0": 219,
           "y1": 255
          },
          {
           "children": 0,
           "depth": 2,
           "id": 97,
           "name": "Leicester Museums",
           "parent": 7,
           "size": 1500000,
           "x0": 124,
           "x1": 208,
           "y0": 294,
           "y1": 335
          },
          {
           "children": 0,
           "depth": 2,
           "id": 98,
           "name": "Manchester Art Gallery",
           "parent": 4,
           "size": 50000,
           "x0": 0,
           "x1": 6,
           "y0": 26,
           "y1": 46
          },
          {
           "children": 0,
           "depth": 2,
           "id": 99,
           "name": "Edinburgh Museums",
           "parent": 7,
           "size": 220000,
           "x0": 28,
           "x1": 65,
           "y0": 183,
           "y1": 197
          },
          {
           "children": 0,
           "depth": 2,
           "id": 100,
           "name": "Museums Northhumberland",
           "parent": 7,
           "size": 25000,
           "x0": 14,
           "x1": 19,
           "y0": 224,
           "y1": 235
          },
          {
           "children": 0,
           "depth": 2,
           "id": 101,
           "name": "Northhampton Museums",
           "parent": 7,
           "size": 44024,
           "x0": 14,
           "x1": 19,
           "y0": 416,
           "y1": 435
          },
          {
           "children": 0,
           "depth": 2,
           "id": 102,
           "name": "Orkney Museums",
           "parent": 7,
           "size": 100000,
           "x0": 19,
           "x1": 28,
           "y0": 361,
           "y1": 388
          },
          {
           "children": 0,
           "depth": 2,
           "id": 103,
           "name": "Poole Museums",
           "parent": 7,
           "size": 50000,
           "x0": 14,
           "x1": 19,
           "y0": 478,
           "y1": 500
          },
          {
           "children": 0,
           "depth": 2,
           "id": 104,
           "name": "Potteries Museum and Art Gallery",
           "parent": 7,
           "size": 1000000,
           "x0": 65,
           "x1": 124,
           "y0": 340,
           "y1": 379
          },
          {
           "children": 0,
           "depth": 2,
           "id": 105,
           "name": "Preston Park Museum & Grounds",
           "parent": 7,
           "size": 100000,
           "x0": 19,
           "x1": 28,
           "y0": 388,
           "y1": 414
          },
          {
           "children": 0,
           "depth": 2,
           "id": 106,
           "name": "Ripon Museums",
           "parent": 7,
           "size": 9000,
           "x0": 14,
           "x1": 19,
           "y0": 194,
           "y1": 198
          },
          {
           "children": 0,
           "depth": 2,
           "id": 107,
           "name": "Royal Albert Memorial Museum",
           "parent": 7,
           "size": 1000000,
           "x0": 65,
           "x1": 124,
           "y0": 379,
           "y1": 418
          },
          {
           "children": 0,
           "depth": 2,
           "id": 108,
           "name": "Salisbury Museum",
           "parent": 7,
           "size": 100000,
           "x0": 19,
           "x1": 28,
           "y0": 414,
           "y1": 441
          },
          {
           "children": 0,
           "depth": 2,
           "id": 109,
           "name": "St Helens Borough Council",
           "parent": 2,
           "size": 0,
           "x0": 0,
           "x1": 14,
           "y0": 0,
           "y1": 0
          },
          {
           "children": 0,
           "depth": 2,
           "id": 110,
           "name": "Sunderland Museum & Winter Gardens' Collection",
           "parent": 7,
           "size": 108000,
           "x0": 19,
           "x1": 28,
           "y0": 441,
           "y1": 470
          },
          {
           "children": 0,
           "depth": 2,
           "id": 111,
           "name": "Wakefield Museums and Castles Collections",
           "parent": 7,
           "size": 111000,
           "x0": 19,
           "x1": 28,
           "y0": 470,
           "y1": 500
          },
          {
           "children": 0,
           "depth": 2,
           "id": 112,
           "name": "Weald and Downland Living Museum",
           "parent": 7,
           "size": 15000,
           "x0": 14,
           "x1": 19,
           "y0": 209,
           "y1": 216
          },
          {
           "children": 0,
           "depth": 2,
           "id": 113,
           "name": "York Museums Trust",
           "parent": 7,
           "size": 0,
           "x0": 14,
           "x1": 19,
           "y0": 183,
           "y1": 183
          },
          {
           "children": 0,
           "depth": 2,
           "id": 114,
           "name": "Victoria & Albert Museum",
           "parent": 7,
           "size": 2800000,
           "x0": 208,
           "x1": 338,
           "y0": 228,
           "y1": 279
          },
          {
           "children": 0,
           "depth": 2,
           "id": 115,
           "name": "Science Museum Group",
           "parent": 7,
           "size": 7360793,
           "x0": 338,
           "x1": 434,
           "y0": 183,
           "y1": 361
          },
          {
           "children": 0,
           "depth": 2,
           "id": 116,
           "name": "Museum of the Home",
           "parent": 7,
           "size": 40000,
           "x0": 14,
           "x1": 19,
           "y0": 380,
           "y1": 398
          },
          {
           "children": 0,
           "depth": 2,
           "id": 117,
           "name": "Horniman Museum",
           "parent": 7,
           "size": 350000,
           "x0": 28,
           "x1": 65,
           "y0": 213,
           "y1": 236
          },
          {
           "children": 0,
           "depth": 2,
           "id": 118,
           "name": "Imperial War Museums",
           "parent": 7,
           "size": 1000000,
           "x0": 65,
           "x1": 124,
           "y0": 418,
           "y1": 457
          },
          {
           "children": 0,
           "depth": 2,
           "id": 119,
           "name": "National Gallery",
           "parent": 4,
           "size": 2626,
           "x0": 1,
           "x1": 4,
           "y0": 11,
           "y1": 13
          },
          {
           "children": 0,
           "depth": 2,
           "id": 120,
           "name": "National Museums Liverpool",
           "parent": 7,
           "size": 4000000,
           "x0": 208,
           "x1": 338,
           "y0": 333,
           "y1": 404
          },
          {
           "children": 0,
           "depth": 2,
           "id": 121,
           "name": "National Portrait Gallery",
           "parent": 4,
           "size": 350000,
           "x0": 0,
           "x1": 14,
           "y0": 66,
           "y1": 123
          },
          {
           "children": 0,
           "depth": 2,
           "id": 122,
           "name": "Royal Armouries",
           "parent": 7,
           "size": 70000,
           "x0": 19,
           "x1": 28,
           "y0": 249,
           "y1": 268
          },
          {
           "children": 0,
           "depth": 2,
           "id": 123,
           "name": "Royal Museums Greenwich",
           "parent": 7,
           "size": 3000000,
           "x0": 208,
           "x1": 338,
           "y0": 279,
           "y1": 333
          },
          {
           "children": 0,
           "depth": 2,
           "id": 124,
           "name": "Sir John Soane's Museum",
           "parent": 7,
           "size": 52000,
           "x0": 19,
           "x1": 28,
           "y0": 183,
           "y1": 197
          },
          {
           "children": 0,
           "depth": 2,
           "id": 125,
           "name": "Tate Gallery Group",
           "parent": 4,
           "size": 70000,
           "x0": 6,
           "x1": 14,
           "y0": 26,
           "y1": 46
          },
          {
           "children": 0,
           "depth": 2,
           "id": 126,
           "name": "The Wallace Collection",
           "parent": 7,
           "size": 5637,
           "x0": 14,
           "x1": 19,
           "y0": 185,
           "y1": 188
          },
          {
           "children": 0,
           "depth": 2,
           "id": 127,
           "name": "British Museum",
           "parent": 7,
           "size": 8000000,
           "x0": 434,
           "x1": 539,
           "y0": 183,
           "y1": 361
          }
         ]
        },
        {
         "name": "nodes",
         "source": "tree",
         "transform": [
          {
           "expr": "datum.children",
           "type": "filter"
          }
         ]
        },
        {
         "name": "leaves",
         "source": "tree",
         "transform": [
          {
           "expr": "!datum.children",
           "type": "filter"
          }
         ]
        },
        {
         "name": "total",
         "source": "tree",
         "transform": [
          {
           "as": [
            "totalsize"
           ],
           "fields": [
            "size"
           ],
           "ops": [
            "sum"
           ],
           "type": "aggregate"
          }
         ]
        },
        {
         "name": "percentages",
         "source": "tree",
         "transform": [
          {
           "fields": [
            "totalsize"
           ],
           "from": "total",
           "key": "id",
           "type": "lookup",
           "values": [
            "totalsize"
           ]
          },
          {
           "as": "nc_percent",
           "expr": "datum.name + ' ' + format((datum.size/datum.totalsize), ',.1%')",
           "type": "formula"
          }
         ]
        },
        {
         "name": "large-leaves",
         "source": "tree",
         "transform": [
          {
           "expr": "!datum.children && datum.size > 2500000",
           "type": "filter"
          }
         ]
        }
       ],
       "description": "An example of treemap layout for hierarchical data.",
       "height": 500,
       "marks": [
        {
         "encode": {
          "enter": {
           "fill": {
            "field": "name",
            "scale": "color"
           }
          },
          "update": {
           "x": {
            "field": "x0"
           },
           "x2": {
            "field": "x1"
           },
           "y": {
            "field": "y0"
           },
           "y2": {
            "field": "y1"
           }
          }
         },
         "from": {
          "data": "nodes"
         },
         "interactive": false,
         "type": "rect"
        },
        {
         "encode": {
          "enter": {
           "stroke": {
            "value": "#fff"
           },
           "tooltip": {
            "field": "name"
           }
          },
          "hover": {
           "fill": {
            "value": "#efb118"
           }
          },
          "update": {
           "fill": {
            "value": "transparent"
           },
           "x": {
            "field": "x0"
           },
           "x2": {
            "field": "x1"
           },
           "y": {
            "field": "y0"
           },
           "y2": {
            "field": "y1"
           }
          }
         },
         "from": {
          "data": "leaves"
         },
         "type": "rect"
        },
        {
         "encode": {
          "enter": {
           "align": {
            "value": "center"
           },
           "baseline": {
            "value": "middle"
           },
           "fill": {
            "value": "#000"
           },
           "fillOpacity": {
            "field": "depth",
            "scale": "opacity"
           },
           "font": {
            "value": "Helvetica Neue, Arial"
           },
           "fontSize": {
            "field": "depth",
            "scale": "size"
           },
           "text": {
            "field": "name"
           }
          },
          "update": {
           "x": {
            "signal": "0.5 * (datum.x0 + datum.x1)"
           },
           "y": {
            "signal": "0.5 * (datum.y0 + datum.y1)"
           }
          }
         },
         "from": {
          "data": "nodes"
         },
         "interactive": false,
         "type": "text"
        },
        {
         "encode": {
          "enter": {
           "align": {
            "value": "center"
           },
           "baseline": {
            "value": "middle"
           },
           "fill": {
            "value": "#000"
           },
           "fillOpacity": {
            "field": "depth",
            "scale": "opacity"
           },
           "font": {
            "value": "Helvetica Neue, Arial"
           },
           "fontSize": {
            "field": "size",
            "scale": "collection-size"
           },
           "text": {
            "field": "name"
           }
          },
          "update": {
           "text": {
            "signal": "split(datum.nc_percent, ' ')"
           },
           "x": {
            "signal": "0.5 * (datum.x0 + datum.x1)"
           },
           "y": {
            "signal": "0.46 * (datum.y0 + datum.y1)"
           }
          }
         },
         "from": {
          "data": "percentages"
         },
         "interactive": false,
         "type": "text"
        }
       ],
       "padding": 2.5,
       "scales": [
        {
         "domain": {
          "data": "nodes",
          "field": "name"
         },
         "name": "color",
         "range": [
          "#3182bd",
          "#6baed6",
          "#9ecae1",
          "#c6dbef",
          "#e6550d",
          "#fd8d3c",
          "#fdae6b",
          "#fdd0a2",
          "#31a354",
          "#74c476",
          "#a1d99b",
          "#c7e9c0",
          "#756bb1",
          "#9e9ac8",
          "#bcbddc",
          "#dadaeb",
          "#636363",
          "#969696",
          "#bdbdbd",
          "#d9d9d9"
         ],
         "type": "ordinal"
        },
        {
         "domain": [
          0,
          1,
          2,
          3
         ],
         "name": "size",
         "range": [
          0,
          20,
          18,
          14
         ],
         "type": "ordinal"
        },
        {
         "domain": [
          0,
          1000,
          10000,
          100000,
          1000000,
          2500000,
          5000000,
          20000000
         ],
         "name": "collection-size",
         "range": [
          0,
          0,
          0,
          0,
          5,
          7,
          11,
          16
         ],
         "type": "quantile"
        },
        {
         "domain": [
          0,
          1,
          2,
          3
         ],
         "name": "opacity",
         "range": [
          0,
          0,
          0.6,
          1
         ],
         "type": "ordinal"
        }
       ],
       "signals": [],
       "width": 960
      },
      "image/png": "[encoded data removed]"
     },
     "metadata": {},
     "output_type": "display_data"
    }
   ],
   "source": [
    "from IPython.display import display\n",
    "import json\n",
    "display({\"application/vnd.vega.v5+json\": json.loads(nn_treemap_test_spec)}, raw=True)"
   ]
  },
  {
   "cell_type": "code",
   "execution_count": 149,
   "id": "8d139477-c572-4288-8c92-309a3d6483ab",
   "metadata": {
    "editable": true,
    "slideshow": {
     "slide_type": ""
    },
    "tags": [
     "remove-cell"
    ]
   },
   "outputs": [],
   "source": [
    "from collections import Counter\n",
    "\n",
    "mus_tree_totals = artefacts_museum_df.groupby('type').sum(numeric_only=True)\n",
    "mus_tree_structure = [ { \"id\": 1, \"name\": \"National Collection\" } ]\n",
    "mus_tree_node_index = 2\n",
    "#tree_totals.columns\n",
    "mus_parent_map = {}\n",
    "for mus_row in mus_tree_totals.iterrows():\n",
    "  mus_parent_map[mus_row[0]] = mus_tree_node_index\n",
    "  mus_tree_structure.append({\"id\": mus_tree_node_index, \"name\": mus_row[0], \n",
    "                         \"parent\": 1})\n",
    "  mus_tree_node_index+= 1\n",
    "\n",
    "\n",
    "mus_institution_type_index = Counter()\n",
    "for mus_i, mus_row in artefacts_museum_df.iterrows():\n",
    "    mus_tree_structure.append({\"id\": mus_tree_node_index, \"name\": mus_row[\"institution\"], \n",
    "                           \"size\": int(mus_row[\"artefact_count\"]), \n",
    "                         \"parent\": mus_parent_map[mus_row['type']]})\n",
    "    mus_institution_type_index[mus_row[\"type\"]] += 1\n",
    "    mus_tree_node_index+=1"
   ]
  },
  {
   "cell_type": "code",
   "execution_count": 160,
   "id": "4bea177e-00b5-40f9-a85c-d5614dfc385c",
   "metadata": {
    "editable": true,
    "slideshow": {
     "slide_type": ""
    },
    "tags": [
     "remove-cell"
    ]
   },
   "outputs": [],
   "source": [
    "mus_treemap_spec = f\"\"\"\n",
    "{{\n",
    "  \"$schema\": \"https://vega.github.io/schema/vega/v5.json\",\n",
    "  \"description\": \"An example of treemap layout for hierarchical data.\",\n",
    "  \"width\": 960,\n",
    "  \"height\": 500,\n",
    "  \"padding\": 2.5,\n",
    "  \"autosize\": \"none\",\n",
    "  \"signals\": [\n",
    "  ],\n",
    "  \"data\": [\n",
    "    {{\n",
    "      \"name\": \"tree\",\n",
    "      \"values\": {json.dumps(mus_tree_structure)},\n",
    "      \"transform\": [\n",
    "        {{\"type\": \"stratify\", \"key\": \"id\", \"parentKey\": \"parent\"}},\n",
    "        {{\n",
    "          \"type\": \"treemap\",\n",
    "          \"field\": \"size\",\n",
    "          \"sort\": {{\"field\": \"value\"}},\n",
    "          \"round\": true,\n",
    "          \"method\": \"squarify\",\n",
    "          \"ratio\": 1.6,\n",
    "          \"size\": [{{\"signal\": \"width\"}}, {{\"signal\": \"height\"}}]\n",
    "        }}\n",
    "      ]\n",
    "    }},\n",
    "    {{\n",
    "      \"name\": \"nodes\",\n",
    "      \"source\": \"tree\",\n",
    "      \"transform\": [{{\"type\": \"filter\", \"expr\": \"datum.children\"}}]\n",
    "    }},\n",
    "    {{\n",
    "      \"name\": \"leaves\",\n",
    "      \"source\": \"tree\",\n",
    "      \"transform\": [{{\"type\": \"filter\", \"expr\": \"!datum.children\"}}]\n",
    "    }},\n",
    "    {{\n",
    "      \"name\": \"large-leaves\",\n",
    "      \"source\": \"tree\",\n",
    "      \"transform\": [{{\"type\": \"filter\", \"expr\": \"!datum.children && datum.size > 200000\"}}]\n",
    "    }}\n",
    "  ],\n",
    "  \"scales\": [\n",
    "    {{\n",
    "      \"name\": \"color\",\n",
    "      \"type\": \"ordinal\",\n",
    "      \"domain\": {{\"data\": \"nodes\", \"field\": \"name\"}},\n",
    "      \"range\": [\n",
    "        \"#3182bd\",\n",
    "        \"#6baed6\",\n",
    "        \"#9ecae1\",\n",
    "        \"#c6dbef\",\n",
    "        \"#e6550d\",\n",
    "        \"#fd8d3c\",\n",
    "        \"#fdae6b\",\n",
    "        \"#fdd0a2\",\n",
    "        \"#31a354\",\n",
    "        \"#74c476\",\n",
    "        \"#a1d99b\",\n",
    "        \"#c7e9c0\",\n",
    "        \"#756bb1\",\n",
    "        \"#9e9ac8\",\n",
    "        \"#bcbddc\",\n",
    "        \"#dadaeb\",\n",
    "        \"#636363\",\n",
    "        \"#969696\",\n",
    "        \"#bdbdbd\",\n",
    "        \"#d9d9d9\"\n",
    "      ]\n",
    "    }},\n",
    "    {{\n",
    "      \"name\": \"size\",\n",
    "      \"type\": \"ordinal\",\n",
    "      \"domain\": [0, 1, 2, 3],\n",
    "      \"range\": [0, 20, 18, 14]\n",
    "    }},\n",
    "    {{\n",
    "      \"name\": \"collection-size\",\n",
    "      \"type\": \"quantile\",\n",
    "      \"domain\": [0, 1000, 10000, 100000, 1000000, 2500000, 5000000, 20000000],\n",
    "      \"range\": [0, 3, 4, 5, 6, 7, 11, 16]\n",
    "    }},\n",
    "    {{\n",
    "      \"name\": \"opacity\",\n",
    "      \"type\": \"ordinal\",\n",
    "      \"domain\": [0, 1, 2, 3],\n",
    "      \"range\": [0.15, 0.5, 0.8, 1]\n",
    "    }}\n",
    "  ],\n",
    "  \"marks\": [\n",
    "    {{\n",
    "      \"type\": \"rect\",\n",
    "      \"from\": {{\"data\": \"nodes\"}},\n",
    "      \"interactive\": false,\n",
    "      \"encode\": {{\n",
    "        \"enter\": {{\"fill\": {{\"scale\": \"color\", \"field\": \"name\"}} }},\n",
    "        \"update\": {{\n",
    "          \"x\": {{\"field\": \"x0\"}},\n",
    "          \"y\": {{\"field\": \"y0\"}},\n",
    "          \"x2\": {{\"field\": \"x1\"}},\n",
    "          \"y2\": {{\"field\": \"y1\"}}\n",
    "        }}\n",
    "      }}\n",
    "    }},\n",
    "    {{\n",
    "      \"type\": \"rect\",\n",
    "      \"from\": {{\"data\": \"leaves\"}},\n",
    "      \"encode\": {{\n",
    "        \"enter\": {{\"stroke\": {{\"value\": \"#fff\"}},\n",
    "                  \"tooltip\": {{ \"field\": \"name\" }}\n",
    "        }},\n",
    "        \"update\": {{\n",
    "          \"x\": {{\"field\": \"x0\"}},\n",
    "          \"y\": {{\"field\": \"y0\"}},\n",
    "          \"x2\": {{\"field\": \"x1\"}},\n",
    "          \"y2\": {{\"field\": \"y1\"}},\n",
    "          \"fill\": {{\"value\": \"transparent\"}}\n",
    "        }},\n",
    "        \"hover\": {{\"fill\": {{\"value\": \"#efb118\"}} }}\n",
    "      }}\n",
    "    }},\n",
    "    {{\n",
    "      \"type\": \"text\",\n",
    "      \"from\": {{\"data\": \"nodes\"}},\n",
    "      \"interactive\": false,\n",
    "      \"encode\": {{\n",
    "        \"enter\": {{\n",
    "          \"font\": {{\"value\": \"Helvetica Neue, Arial\"}},\n",
    "          \"align\": {{\"value\": \"center\"}},\n",
    "          \"baseline\": {{\"value\": \"middle\"}},\n",
    "          \"fill\": {{\"value\": \"#000\"}},\n",
    "          \"text\": {{\"field\": \"name\"}},\n",
    "          \"fontSize\": {{\"scale\": \"size\", \"field\": \"depth\"}},\n",
    "          \"fillOpacity\": {{\"scale\": \"opacity\", \"field\": \"depth\"}}\n",
    "        }},\n",
    "        \"update\": {{\n",
    "          \"x\": {{\"signal\": \"0.5 * (datum.x0 + datum.x1)\"}},\n",
    "          \"y\": {{\"signal\": \"0.5 * (datum.y0 + datum.y1)\"}}\n",
    "        }}\n",
    "      }}\n",
    "    }},  \n",
    "    {{\n",
    "      \"type\": \"text\",\n",
    "      \"from\": {{\"data\": \"large-leaves\"}},\n",
    "      \"interactive\": false,\n",
    "      \"encode\": {{\n",
    "        \"enter\": {{\n",
    "          \"font\": {{\"value\": \"Helvetica Neue, Arial\"}},\n",
    "          \"align\": {{\"value\": \"center\"}},\n",
    "          \"baseline\": {{\"value\": \"middle\"}},\n",
    "          \"fill\": {{\"value\": \"#000\"}},\n",
    "          \"text\": {{\"field\": \"name\"}},\n",
    "          \"fontSize\": {{\"scale\": \"collection-size\", \"field\": \"size\"}},\n",
    "          \"fillOpacity\": {{\"scale\": \"opacity\", \"field\": \"depth\"}}\n",
    "        }},\n",
    "        \"update\": {{\n",
    "          \"x\": {{\"signal\": \"0.5 * (datum.x0 + datum.x1)\"}},\n",
    "          \"y\": {{\"signal\": \"0.5 * (datum.y0 + datum.y1)\"}},\n",
    "          \"text\": {{\"signal\": \"split(datum.name, ' ')\"}}\n",
    "        }}\n",
    "      }}\n",
    "    }}\n",
    "  ]\n",
    "}}\n",
    "\"\"\""
   ]
  },
  {
   "cell_type": "markdown",
   "id": "536426b6-edb5-4d02-97ca-d746d102d6cd",
   "metadata": {
    "editable": true,
    "slideshow": {
     "slide_type": ""
    },
    "tags": []
   },
   "source": [
    "### National Collection Overview (Museums only)\n",
    "\n",
    "A view on museum (including botanic gardens) collections only"
   ]
  },
  {
   "cell_type": "code",
   "execution_count": 161,
   "id": "a315da2b-0a02-493a-bb21-46fb5a19092f",
   "metadata": {
    "editable": true,
    "slideshow": {
     "slide_type": ""
    },
    "tags": [
     "remove-input"
    ]
   },
   "outputs": [
    {
     "data": {
      "application/vnd.vega.v5+json": {
       "$schema": "https://vega.github.io/schema/vega/v5.json",
       "autosize": "none",
       "data": [
        {
         "name": "tree",
         "transform": [
          {
           "key": "id",
           "parentKey": "parent",
           "type": "stratify"
          },
          {
           "field": "size",
           "method": "squarify",
           "ratio": 1.6,
           "round": true,
           "size": [
            {
             "signal": "width"
            },
            {
             "signal": "height"
            }
           ],
           "sort": {
            "field": "value"
           },
           "type": "treemap"
          }
         ],
         "values": [
          {
           "children": 1,
           "depth": 0,
           "id": 1,
           "name": "National Collection",
           "x0": 0,
           "x1": 960,
           "y0": 0,
           "y1": 500
          },
          {
           "children": 78,
           "depth": 1,
           "id": 2,
           "name": "museum",
           "parent": 1,
           "x0": 0,
           "x1": 960,
           "y0": 0,
           "y1": 500
          },
          {
           "children": 0,
           "depth": 2,
           "id": 3,
           "name": "Amgueddfa Cymru (National Museum Wales)",
           "parent": 2,
           "size": 5319585,
           "x0": 140,
           "x1": 272,
           "y0": 378,
           "y1": 500
          },
          {
           "children": 0,
           "depth": 2,
           "id": 4,
           "name": "National Football Museum",
           "parent": 2,
           "size": 40000,
           "x0": 0,
           "x1": 7,
           "y0": 110,
           "y1": 128
          },
          {
           "children": 0,
           "depth": 2,
           "id": 5,
           "name": "National Justice Museum",
           "parent": 2,
           "size": 40000,
           "x0": 0,
           "x1": 7,
           "y0": 128,
           "y1": 146
          },
          {
           "children": 0,
           "depth": 2,
           "id": 6,
           "name": "National Mining Museum Scotland",
           "parent": 2,
           "size": 100000,
           "x0": 7,
           "x1": 11,
           "y0": 108,
           "y1": 171
          },
          {
           "children": 0,
           "depth": 2,
           "id": 7,
           "name": "National Museum of the Royal Navy",
           "parent": 2,
           "size": 2500000,
           "x0": 140,
           "x1": 272,
           "y0": 97,
           "y1": 154
          },
          {
           "children": 0,
           "depth": 2,
           "id": 8,
           "name": "National Museums NI",
           "parent": 2,
           "size": 1400000,
           "x0": 59,
           "x1": 140,
           "y0": 326,
           "y1": 378
          },
          {
           "children": 0,
           "depth": 2,
           "id": 9,
           "name": "National Museums Scotland",
           "parent": 2,
           "size": 12000000,
           "x0": 272,
           "x1": 478,
           "y0": 325,
           "y1": 500
          },
          {
           "children": 0,
           "depth": 2,
           "id": 10,
           "name": "National Tramway Museum",
           "parent": 2,
           "size": 46690,
           "x0": 0,
           "x1": 7,
           "y0": 257,
           "y1": 278
          },
          {
           "children": 0,
           "depth": 2,
           "id": 11,
           "name": "Government Art Collection",
           "parent": 2,
           "size": 15000,
           "x0": 0,
           "x1": 7,
           "y0": 19,
           "y1": 26
          },
          {
           "children": 0,
           "depth": 2,
           "id": 12,
           "name": "Historic Environment Scotland",
           "parent": 2,
           "size": 41000,
           "x0": 0,
           "x1": 7,
           "y0": 219,
           "y1": 237
          },
          {
           "children": 0,
           "depth": 2,
           "id": 13,
           "name": "People's History Museum",
           "parent": 2,
           "size": 5680,
           "x0": 0,
           "x1": 7,
           "y0": 4,
           "y1": 7
          },
          {
           "children": 0,
           "depth": 2,
           "id": 14,
           "name": "Portable Antiquities Scheme",
           "parent": 2,
           "size": 1751232,
           "x0": 59,
           "x1": 140,
           "y0": 434,
           "y1": 500
          },
          {
           "children": 0,
           "depth": 2,
           "id": 15,
           "name": "Royal Air Force Museum",
           "parent": 2,
           "size": 1300000,
           "x0": 59,
           "x1": 140,
           "y0": 229,
           "y1": 277
          },
          {
           "children": 0,
           "depth": 2,
           "id": 16,
           "name": "Royal Botanic Gardens Kew",
           "parent": 2,
           "size": 7000000,
           "x0": 272,
           "x1": 478,
           "y0": 0,
           "y1": 102
          },
          {
           "children": 0,
           "depth": 2,
           "id": 17,
           "name": "Royal Collection",
           "parent": 2,
           "size": 1000000,
           "x0": 11,
           "x1": 59,
           "y0": 312,
           "y1": 375
          },
          {
           "children": 0,
           "depth": 2,
           "id": 18,
           "name": "Bowes Museum",
           "parent": 2,
           "size": 30000,
           "x0": 0,
           "x1": 7,
           "y0": 53,
           "y1": 66
          },
          {
           "children": 0,
           "depth": 2,
           "id": 19,
           "name": "Britten Pears",
           "parent": 2,
           "size": 1200,
           "x0": 0,
           "x1": 7,
           "y0": 0,
           "y1": 1
          },
          {
           "children": 0,
           "depth": 2,
           "id": 20,
           "name": "Gordon Highlanders Museum",
           "parent": 2,
           "size": 40000,
           "x0": 0,
           "x1": 7,
           "y0": 146,
           "y1": 164
          },
          {
           "children": 0,
           "depth": 2,
           "id": 21,
           "name": "Ironbridge Gorge Museum Trust",
           "parent": 2,
           "size": 400000,
           "x0": 11,
           "x1": 59,
           "y0": 51,
           "y1": 76
          },
          {
           "children": 0,
           "depth": 2,
           "id": 22,
           "name": "Jewish Museum London",
           "parent": 2,
           "size": 40000,
           "x0": 0,
           "x1": 7,
           "y0": 164,
           "y1": 183
          },
          {
           "children": 0,
           "depth": 2,
           "id": 23,
           "name": "London Transport Museum",
           "parent": 2,
           "size": 500000,
           "x0": 11,
           "x1": 59,
           "y0": 102,
           "y1": 133
          },
          {
           "children": 0,
           "depth": 2,
           "id": 24,
           "name": "Manchester Jewish Museum",
           "parent": 2,
           "size": 31000,
           "x0": 0,
           "x1": 7,
           "y0": 80,
           "y1": 94
          },
          {
           "children": 0,
           "depth": 2,
           "id": 25,
           "name": "Mary Rose Trust",
           "parent": 2,
           "size": 19000,
           "x0": 0,
           "x1": 7,
           "y0": 33,
           "y1": 42
          },
          {
           "children": 0,
           "depth": 2,
           "id": 26,
           "name": "Food Museum",
           "parent": 2,
           "size": 40000,
           "x0": 0,
           "x1": 7,
           "y0": 183,
           "y1": 201
          },
          {
           "children": 0,
           "depth": 2,
           "id": 27,
           "name": "Museum of Freemasonry",
           "parent": 2,
           "size": 90000,
           "x0": 7,
           "x1": 11,
           "y0": 51,
           "y1": 108
          },
          {
           "children": 0,
           "depth": 2,
           "id": 28,
           "name": "Museum of Lead Mining",
           "parent": 2,
           "size": 2572,
           "x0": 0,
           "x1": 7,
           "y0": 1,
           "y1": 2
          },
          {
           "children": 0,
           "depth": 2,
           "id": 29,
           "name": "Museum of Scottish Railways",
           "parent": 2,
           "size": 50000,
           "x0": 0,
           "x1": 7,
           "y0": 278,
           "y1": 301
          },
          {
           "children": 0,
           "depth": 2,
           "id": 30,
           "name": "Postal Museum",
           "parent": 2,
           "size": 60000,
           "x0": 0,
           "x1": 7,
           "y0": 347,
           "y1": 374
          },
          {
           "children": 0,
           "depth": 2,
           "id": 31,
           "name": "Royal Artillery Museum",
           "parent": 2,
           "size": 30000,
           "x0": 0,
           "x1": 7,
           "y0": 66,
           "y1": 80
          },
          {
           "children": 0,
           "depth": 2,
           "id": 32,
           "name": "Royal Engineers Museum",
           "parent": 2,
           "size": 1000000,
           "x0": 11,
           "x1": 59,
           "y0": 375,
           "y1": 437
          },
          {
           "children": 0,
           "depth": 2,
           "id": 33,
           "name": "Royal Scottish Academy of Art & Architecture",
           "parent": 2,
           "size": 9000,
           "x0": 0,
           "x1": 7,
           "y0": 7,
           "y1": 11
          },
          {
           "children": 0,
           "depth": 2,
           "id": 34,
           "name": "Scottish Fisheries Museum",
           "parent": 2,
           "size": 66000,
           "x0": 0,
           "x1": 7,
           "y0": 374,
           "y1": 404
          },
          {
           "children": 0,
           "depth": 2,
           "id": 35,
           "name": "Thackray Museum of Medicine",
           "parent": 2,
           "size": 75000,
           "x0": 0,
           "x1": 7,
           "y0": 466,
           "y1": 500
          },
          {
           "children": 0,
           "depth": 2,
           "id": 36,
           "name": "Tuillie House Museum and Art Gallery",
           "parent": 2,
           "size": 1000000,
           "x0": 11,
           "x1": 59,
           "y0": 437,
           "y1": 500
          },
          {
           "children": 0,
           "depth": 2,
           "id": 37,
           "name": "Wellcome Collection",
           "parent": 2,
           "size": 2250000,
           "x0": 140,
           "x1": 272,
           "y0": 46,
           "y1": 97
          },
          {
           "children": 0,
           "depth": 2,
           "id": 38,
           "name": "Wordsworth Museum Collection",
           "parent": 2,
           "size": 68000,
           "x0": 0,
           "x1": 7,
           "y0": 404,
           "y1": 434
          },
          {
           "children": 0,
           "depth": 2,
           "id": 39,
           "name": "Aberdeenshire Council Museums",
           "parent": 2,
           "size": 250000,
           "x0": 11,
           "x1": 59,
           "y0": 14,
           "y1": 29
          },
          {
           "children": 0,
           "depth": 2,
           "id": 40,
           "name": "Barnsley Museums",
           "parent": 2,
           "size": 711400,
           "x0": 11,
           "x1": 59,
           "y0": 165,
           "y1": 209
          },
          {
           "children": 0,
           "depth": 2,
           "id": 41,
           "name": "Birmingham Museums Trust",
           "parent": 2,
           "size": 800000,
           "x0": 11,
           "x1": 59,
           "y0": 209,
           "y1": 259
          },
          {
           "children": 0,
           "depth": 2,
           "id": 42,
           "name": "Black Country Living Museum",
           "parent": 2,
           "size": 80000,
           "x0": 7,
           "x1": 11,
           "y0": 0,
           "y1": 51
          },
          {
           "children": 0,
           "depth": 2,
           "id": 43,
           "name": "Bradford District Museums & Galleries",
           "parent": 2,
           "size": 837837,
           "x0": 11,
           "x1": 59,
           "y0": 259,
           "y1": 312
          },
          {
           "children": 0,
           "depth": 2,
           "id": 44,
           "name": "Bristol Museums",
           "parent": 2,
           "size": 2000000,
           "x0": 140,
           "x1": 272,
           "y0": 0,
           "y1": 46
          },
          {
           "children": 0,
           "depth": 2,
           "id": 45,
           "name": "Culture Coventry",
           "parent": 2,
           "size": 1000000,
           "x0": 59,
           "x1": 140,
           "y0": 0,
           "y1": 37
          },
          {
           "children": 0,
           "depth": 2,
           "id": 46,
           "name": "Culture Perth and Kinross",
           "parent": 2,
           "size": 500000,
           "x0": 11,
           "x1": 59,
           "y0": 133,
           "y1": 165
          },
          {
           "children": 0,
           "depth": 2,
           "id": 47,
           "name": "Culture Trust Luton",
           "parent": 2,
           "size": 1105051,
           "x0": 59,
           "x1": 140,
           "y0": 187,
           "y1": 229
          },
          {
           "children": 0,
           "depth": 2,
           "id": 48,
           "name": "Dundee Heritage Trust",
           "parent": 2,
           "size": 0,
           "x0": 0,
           "x1": 7,
           "y0": 0,
           "y1": 0
          },
          {
           "children": 0,
           "depth": 2,
           "id": 49,
           "name": "Elgin Museum",
           "parent": 2,
           "size": 36000,
           "x0": 0,
           "x1": 7,
           "y0": 94,
           "y1": 110
          },
          {
           "children": 0,
           "depth": 2,
           "id": 50,
           "name": "Glasgow Museums",
           "parent": 2,
           "size": 1000000,
           "x0": 59,
           "x1": 140,
           "y0": 37,
           "y1": 75
          },
          {
           "children": 0,
           "depth": 2,
           "id": 51,
           "name": "Heritage Doncaster",
           "parent": 2,
           "size": 406750,
           "x0": 11,
           "x1": 59,
           "y0": 76,
           "y1": 102
          },
          {
           "children": 0,
           "depth": 2,
           "id": 52,
           "name": "Highland Folk Museum",
           "parent": 2,
           "size": 10000,
           "x0": 0,
           "x1": 7,
           "y0": 15,
           "y1": 19
          },
          {
           "children": 0,
           "depth": 2,
           "id": 53,
           "name": "Leeds Museums & Galleries",
           "parent": 2,
           "size": 1300000,
           "x0": 59,
           "x1": 140,
           "y0": 277,
           "y1": 326
          },
          {
           "children": 0,
           "depth": 2,
           "id": 54,
           "name": "Leicester Museums",
           "parent": 2,
           "size": 1500000,
           "x0": 59,
           "x1": 140,
           "y0": 378,
           "y1": 434
          },
          {
           "children": 0,
           "depth": 2,
           "id": 55,
           "name": "Edinburgh Museums",
           "parent": 2,
           "size": 220000,
           "x0": 11,
           "x1": 59,
           "y0": 0,
           "y1": 14
          },
          {
           "children": 0,
           "depth": 2,
           "id": 56,
           "name": "Museums Northhumberland",
           "parent": 2,
           "size": 25000,
           "x0": 0,
           "x1": 7,
           "y0": 42,
           "y1": 53
          },
          {
           "children": 0,
           "depth": 2,
           "id": 57,
           "name": "Northhampton Museums",
           "parent": 2,
           "size": 44024,
           "x0": 0,
           "x1": 7,
           "y0": 237,
           "y1": 257
          },
          {
           "children": 0,
           "depth": 2,
           "id": 58,
           "name": "Orkney Museums",
           "parent": 2,
           "size": 100000,
           "x0": 7,
           "x1": 11,
           "y0": 171,
           "y1": 234
          },
          {
           "children": 0,
           "depth": 2,
           "id": 59,
           "name": "Poole Museums",
           "parent": 2,
           "size": 50000,
           "x0": 0,
           "x1": 7,
           "y0": 301,
           "y1": 323
          },
          {
           "children": 0,
           "depth": 2,
           "id": 60,
           "name": "Potteries Museum and Art Gallery",
           "parent": 2,
           "size": 1000000,
           "x0": 59,
           "x1": 140,
           "y0": 75,
           "y1": 112
          },
          {
           "children": 0,
           "depth": 2,
           "id": 61,
           "name": "Preston Park Museum & Grounds",
           "parent": 2,
           "size": 100000,
           "x0": 7,
           "x1": 11,
           "y0": 234,
           "y1": 298
          },
          {
           "children": 0,
           "depth": 2,
           "id": 62,
           "name": "Ripon Museums",
           "parent": 2,
           "size": 9000,
           "x0": 0,
           "x1": 7,
           "y0": 11,
           "y1": 15
          },
          {
           "children": 0,
           "depth": 2,
           "id": 63,
           "name": "Royal Albert Memorial Museum",
           "parent": 2,
           "size": 1000000,
           "x0": 59,
           "x1": 140,
           "y0": 112,
           "y1": 150
          },
          {
           "children": 0,
           "depth": 2,
           "id": 64,
           "name": "Salisbury Museum",
           "parent": 2,
           "size": 100000,
           "x0": 7,
           "x1": 11,
           "y0": 298,
           "y1": 361
          },
          {
           "children": 0,
           "depth": 2,
           "id": 65,
           "name": "Sunderland Museum & Winter Gardens' Collection",
           "parent": 2,
           "size": 108000,
           "x0": 7,
           "x1": 11,
           "y0": 361,
           "y1": 430
          },
          {
           "children": 0,
           "depth": 2,
           "id": 66,
           "name": "Wakefield Museums and Castles Collections",
           "parent": 2,
           "size": 111000,
           "x0": 7,
           "x1": 11,
           "y0": 430,
           "y1": 500
          },
          {
           "children": 0,
           "depth": 2,
           "id": 67,
           "name": "Weald and Downland Living Museum",
           "parent": 2,
           "size": 15000,
           "x0": 0,
           "x1": 7,
           "y0": 26,
           "y1": 33
          },
          {
           "children": 0,
           "depth": 2,
           "id": 68,
           "name": "York Museums Trust",
           "parent": 2,
           "size": 0,
           "x0": 0,
           "x1": 7,
           "y0": 0,
           "y1": 0
          },
          {
           "children": 0,
           "depth": 2,
           "id": 69,
           "name": "Victoria & Albert Museum",
           "parent": 2,
           "size": 2800000,
           "x0": 140,
           "x1": 272,
           "y0": 154,
           "y1": 218
          },
          {
           "children": 0,
           "depth": 2,
           "id": 70,
           "name": "Science Museum Group",
           "parent": 2,
           "size": 7360793,
           "x0": 272,
           "x1": 478,
           "y0": 102,
           "y1": 209
          },
          {
           "children": 0,
           "depth": 2,
           "id": 71,
           "name": "Museum of the Home",
           "parent": 2,
           "size": 40000,
           "x0": 0,
           "x1": 7,
           "y0": 201,
           "y1": 219
          },
          {
           "children": 0,
           "depth": 2,
           "id": 72,
           "name": "Horniman Museum",
           "parent": 2,
           "size": 350000,
           "x0": 11,
           "x1": 59,
           "y0": 29,
           "y1": 51
          },
          {
           "children": 0,
           "depth": 2,
           "id": 73,
           "name": "Imperial War Museums",
           "parent": 2,
           "size": 1000000,
           "x0": 59,
           "x1": 140,
           "y0": 150,
           "y1": 187
          },
          {
           "children": 0,
           "depth": 2,
           "id": 74,
           "name": "National Museums Liverpool",
           "parent": 2,
           "size": 4000000,
           "x0": 140,
           "x1": 272,
           "y0": 287,
           "y1": 378
          },
          {
           "children": 0,
           "depth": 2,
           "id": 75,
           "name": "Natural History Museum",
           "parent": 2,
           "size": 80000000,
           "x0": 478,
           "x1": 960,
           "y0": 0,
           "y1": 500
          },
          {
           "children": 0,
           "depth": 2,
           "id": 76,
           "name": "Royal Armouries",
           "parent": 2,
           "size": 70000,
           "x0": 0,
           "x1": 7,
           "y0": 434,
           "y1": 466
          },
          {
           "children": 0,
           "depth": 2,
           "id": 77,
           "name": "Royal Museums Greenwich",
           "parent": 2,
           "size": 3000000,
           "x0": 140,
           "x1": 272,
           "y0": 218,
           "y1": 287
          },
          {
           "children": 0,
           "depth": 2,
           "id": 78,
           "name": "Sir John Soane's Museum",
           "parent": 2,
           "size": 52000,
           "x0": 0,
           "x1": 7,
           "y0": 323,
           "y1": 347
          },
          {
           "children": 0,
           "depth": 2,
           "id": 79,
           "name": "The Wallace Collection",
           "parent": 2,
           "size": 5637,
           "x0": 0,
           "x1": 7,
           "y0": 2,
           "y1": 4
          },
          {
           "children": 0,
           "depth": 2,
           "id": 80,
           "name": "British Museum",
           "parent": 2,
           "size": 8000000,
           "x0": 272,
           "x1": 478,
           "y0": 209,
           "y1": 325
          }
         ]
        },
        {
         "name": "nodes",
         "source": "tree",
         "transform": [
          {
           "expr": "datum.children",
           "type": "filter"
          }
         ]
        },
        {
         "name": "leaves",
         "source": "tree",
         "transform": [
          {
           "expr": "!datum.children",
           "type": "filter"
          }
         ]
        },
        {
         "name": "large-leaves",
         "source": "tree",
         "transform": [
          {
           "expr": "!datum.children && datum.size > 200000",
           "type": "filter"
          }
         ]
        }
       ],
       "description": "An example of treemap layout for hierarchical data.",
       "height": 500,
       "marks": [
        {
         "encode": {
          "enter": {
           "fill": {
            "field": "name",
            "scale": "color"
           }
          },
          "update": {
           "x": {
            "field": "x0"
           },
           "x2": {
            "field": "x1"
           },
           "y": {
            "field": "y0"
           },
           "y2": {
            "field": "y1"
           }
          }
         },
         "from": {
          "data": "nodes"
         },
         "interactive": false,
         "type": "rect"
        },
        {
         "encode": {
          "enter": {
           "stroke": {
            "value": "#fff"
           },
           "tooltip": {
            "field": "name"
           }
          },
          "hover": {
           "fill": {
            "value": "#efb118"
           }
          },
          "update": {
           "fill": {
            "value": "transparent"
           },
           "x": {
            "field": "x0"
           },
           "x2": {
            "field": "x1"
           },
           "y": {
            "field": "y0"
           },
           "y2": {
            "field": "y1"
           }
          }
         },
         "from": {
          "data": "leaves"
         },
         "type": "rect"
        },
        {
         "encode": {
          "enter": {
           "align": {
            "value": "center"
           },
           "baseline": {
            "value": "middle"
           },
           "fill": {
            "value": "#000"
           },
           "fillOpacity": {
            "field": "depth",
            "scale": "opacity"
           },
           "font": {
            "value": "Helvetica Neue, Arial"
           },
           "fontSize": {
            "field": "depth",
            "scale": "size"
           },
           "text": {
            "field": "name"
           }
          },
          "update": {
           "x": {
            "signal": "0.5 * (datum.x0 + datum.x1)"
           },
           "y": {
            "signal": "0.5 * (datum.y0 + datum.y1)"
           }
          }
         },
         "from": {
          "data": "nodes"
         },
         "interactive": false,
         "type": "text"
        },
        {
         "encode": {
          "enter": {
           "align": {
            "value": "center"
           },
           "baseline": {
            "value": "middle"
           },
           "fill": {
            "value": "#000"
           },
           "fillOpacity": {
            "field": "depth",
            "scale": "opacity"
           },
           "font": {
            "value": "Helvetica Neue, Arial"
           },
           "fontSize": {
            "field": "size",
            "scale": "collection-size"
           },
           "text": {
            "field": "name"
           }
          },
          "update": {
           "text": {
            "signal": "split(datum.name, ' ')"
           },
           "x": {
            "signal": "0.5 * (datum.x0 + datum.x1)"
           },
           "y": {
            "signal": "0.5 * (datum.y0 + datum.y1)"
           }
          }
         },
         "from": {
          "data": "large-leaves"
         },
         "interactive": false,
         "type": "text"
        }
       ],
       "padding": 2.5,
       "scales": [
        {
         "domain": {
          "data": "nodes",
          "field": "name"
         },
         "name": "color",
         "range": [
          "#3182bd",
          "#6baed6",
          "#9ecae1",
          "#c6dbef",
          "#e6550d",
          "#fd8d3c",
          "#fdae6b",
          "#fdd0a2",
          "#31a354",
          "#74c476",
          "#a1d99b",
          "#c7e9c0",
          "#756bb1",
          "#9e9ac8",
          "#bcbddc",
          "#dadaeb",
          "#636363",
          "#969696",
          "#bdbdbd",
          "#d9d9d9"
         ],
         "type": "ordinal"
        },
        {
         "domain": [
          0,
          1,
          2,
          3
         ],
         "name": "size",
         "range": [
          0,
          20,
          18,
          14
         ],
         "type": "ordinal"
        },
        {
         "domain": [
          0,
          1000,
          10000,
          100000,
          1000000,
          2500000,
          5000000,
          20000000
         ],
         "name": "collection-size",
         "range": [
          0,
          3,
          4,
          5,
          6,
          7,
          11,
          16
         ],
         "type": "quantile"
        },
        {
         "domain": [
          0,
          1,
          2,
          3
         ],
         "name": "opacity",
         "range": [
          0.15,
          0.5,
          0.8,
          1
         ],
         "type": "ordinal"
        }
       ],
       "signals": [],
       "width": 960
      },
      "image/png": "[encoded data removed]"
     },
     "metadata": {},
     "output_type": "display_data"
    }
   ],
   "source": [
    "from IPython.display import display\n",
    "import json\n",
    "display({\"application/vnd.vega.v5+json\": json.loads(mus_treemap_spec)}, raw=True)"
   ]
  },
  {
   "cell_type": "markdown",
   "id": "53014101-17be-417a-a132-8250b4d0c220",
   "metadata": {
    "editable": true,
    "slideshow": {
     "slide_type": ""
    },
    "tags": []
   },
   "source": [
    "\n",
    "An overview of how the UK National Collection is formed, broken down by type of holding public institution:\n",
    "  * Museum\n",
    "  * Gallery\n",
    "  * Library\n",
    "  * Universities (which can include a Museum, Gallery, Libraries and Archives)\n",
    "\n",
    "And not yet featuring Archives as handling the hierarchical nature of archive cataloguing brings up more complexity that has not yet been resolved.\n",
    "\n",
    "This type classification, like much in this area, is somewhat ill-defined; most museums and galleries also have an archive and many also have library items. To give an alternative lower level view, other notebooks will try to break collections down by sub-type, so all the library collections (either at a library institution or a library collection at a museum/gallery/university) are counted together. As with many datasets, there are many different views that can be taken of the data and each brings different insights (and biases), there is no one view that can reveal all facts in a single glance."
   ]
  }
 ],
 "metadata": {
  "kernelspec": {
   "display_name": "Python 3 (ipykernel)",
   "language": "python",
   "name": "python3"
  },
  "language_info": {
   "codemirror_mode": {
    "name": "ipython",
    "version": 3
   },
   "file_extension": ".py",
   "mimetype": "text/x-python",
   "name": "python",
   "nbconvert_exporter": "python",
   "pygments_lexer": "ipython3",
   "version": "3.9.18"
  }
 },
 "nbformat": 4,
 "nbformat_minor": 5
}
