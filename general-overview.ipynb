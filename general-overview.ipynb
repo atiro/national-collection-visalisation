{
 "cells": [
  {
   "cell_type": "code",
   "execution_count": 125,
   "id": "bc077a0d-3cac-4f63-8b00-fa6d878fe2a7",
   "metadata": {
    "editable": true,
    "slideshow": {
     "slide_type": ""
    },
    "tags": [
     "remove-cell"
    ]
   },
   "outputs": [],
   "source": [
    "from vega import Vega\n",
    "import json\n",
    "import altair as alt\n",
    "\n",
    "import pandas as pd\n",
    "artefacts_data = pd.read_csv(\"artefacts-overview-stats.csv\")"
   ]
  },
  {
   "cell_type": "markdown",
   "id": "cc48806d-ed27-41a6-9d9f-4c8fe6e99d91",
   "metadata": {
    "editable": true,
    "slideshow": {
     "slide_type": ""
    },
    "tags": []
   },
   "source": [
    "# Overview\n",
    "\n",
    "*BETA* - DO NOT TRUST THE NUMBERS IN THIS NOTEBOOK!"
   ]
  },
  {
   "cell_type": "code",
   "execution_count": 121,
   "id": "a3854a1d-2e75-4372-a944-ab0a5e4f89ca",
   "metadata": {
    "editable": true,
    "slideshow": {
     "slide_type": ""
    },
    "tags": [
     "remove-cell"
    ]
   },
   "outputs": [],
   "source": [
    "tree_totals = artefacts_data.groupby('type').sum(numeric_only=True)\n",
    "tree_structure = [ { \"id\": 1, \"name\": \"National Collection\" } ]\n",
    "tree_node_index = 2\n",
    "#tree_totals.columns\n",
    "parent_map = {}\n",
    "for row in tree_totals.iterrows():\n",
    "  parent_map[row[0]] = tree_node_index\n",
    "  tree_structure.append({\"id\": tree_node_index, \"name\": row[0], \n",
    "                         \"parent\": 1})\n",
    "  tree_node_index+= 1"
   ]
  },
  {
   "cell_type": "code",
   "execution_count": 122,
   "id": "30074e0e-15c8-4357-b421-bbe43b5d069a",
   "metadata": {
    "editable": true,
    "slideshow": {
     "slide_type": ""
    },
    "tags": [
     "remove-cell"
    ]
   },
   "outputs": [],
   "source": [
    "from collections import Counter\n",
    "institution_type_index = Counter()\n",
    "for i, row in artefacts_data.iterrows():\n",
    "    tree_structure.append({\"id\": tree_node_index, \"name\": row[\"institution\"], \n",
    "                           \"size\": int(row[\"artefact_count\"]), \n",
    "                         \"parent\": parent_map[row['type']]})\n",
    "    institution_type_index[row[\"type\"]] += 1\n",
    "    tree_node_index+=1"
   ]
  },
  {
   "cell_type": "code",
   "execution_count": 123,
   "id": "00885d37-f02e-42c8-92dc-a1516bfc2ccf",
   "metadata": {
    "editable": true,
    "slideshow": {
     "slide_type": ""
    },
    "tags": [
     "remove-cell"
    ]
   },
   "outputs": [],
   "source": [
    "treemap_test_spec = f\"\"\"\n",
    "{{\n",
    "  \"$schema\": \"https://vega.github.io/schema/vega/v5.json\",\n",
    "  \"description\": \"An example of treemap layout for hierarchical data.\",\n",
    "  \"width\": 960,\n",
    "  \"height\": 500,\n",
    "  \"padding\": 2.5,\n",
    "  \"autosize\": \"none\",\n",
    "  \"signals\": [\n",
    "  ],\n",
    "  \"data\": [\n",
    "    {{\n",
    "      \"name\": \"tree\",\n",
    "      \"values\": {json.dumps(tree_structure)},\n",
    "      \"transform\": [\n",
    "        {{\"type\": \"stratify\", \"key\": \"id\", \"parentKey\": \"parent\"}},\n",
    "        {{\n",
    "          \"type\": \"treemap\",\n",
    "          \"field\": \"size\",\n",
    "          \"sort\": {{\"field\": \"value\"}},\n",
    "          \"round\": true,\n",
    "          \"method\": \"squarify\",\n",
    "          \"ratio\": 1.6,\n",
    "          \"size\": [{{\"signal\": \"width\"}}, {{\"signal\": \"height\"}}]\n",
    "        }}\n",
    "      ]\n",
    "    }},\n",
    "    {{\n",
    "      \"name\": \"nodes\",\n",
    "      \"source\": \"tree\",\n",
    "      \"transform\": [{{\"type\": \"filter\", \"expr\": \"datum.children\"}}]\n",
    "    }},\n",
    "    {{\n",
    "      \"name\": \"leaves\",\n",
    "      \"source\": \"tree\",\n",
    "      \"transform\": [{{\"type\": \"filter\", \"expr\": \"!datum.children\"}}]\n",
    "    }}\n",
    "  ],\n",
    "  \"scales\": [\n",
    "    {{\n",
    "      \"name\": \"color\",\n",
    "      \"type\": \"ordinal\",\n",
    "      \"domain\": {{\"data\": \"nodes\", \"field\": \"name\"}},\n",
    "      \"range\": [\n",
    "        \"#3182bd\",\n",
    "        \"#6baed6\",\n",
    "        \"#9ecae1\",\n",
    "        \"#c6dbef\",\n",
    "        \"#e6550d\",\n",
    "        \"#fd8d3c\",\n",
    "        \"#fdae6b\",\n",
    "        \"#fdd0a2\",\n",
    "        \"#31a354\",\n",
    "        \"#74c476\",\n",
    "        \"#a1d99b\",\n",
    "        \"#c7e9c0\",\n",
    "        \"#756bb1\",\n",
    "        \"#9e9ac8\",\n",
    "        \"#bcbddc\",\n",
    "        \"#dadaeb\",\n",
    "        \"#636363\",\n",
    "        \"#969696\",\n",
    "        \"#bdbdbd\",\n",
    "        \"#d9d9d9\"\n",
    "      ]\n",
    "    }},\n",
    "    {{\n",
    "      \"name\": \"size\",\n",
    "      \"type\": \"ordinal\",\n",
    "      \"domain\": [0, 1, 2, 3],\n",
    "      \"range\": [256, 28, 20, 14]\n",
    "    }},\n",
    "    {{\n",
    "      \"name\": \"opacity\",\n",
    "      \"type\": \"ordinal\",\n",
    "      \"domain\": [0, 1, 2, 3],\n",
    "      \"range\": [0.15, 0.5, 0.8, 1]\n",
    "    }}\n",
    "  ],\n",
    "  \"marks\": [\n",
    "    {{\n",
    "      \"type\": \"rect\",\n",
    "      \"from\": {{\"data\": \"nodes\"}},\n",
    "      \"interactive\": false,\n",
    "      \"encode\": {{\n",
    "        \"enter\": {{\"fill\": {{\"scale\": \"color\", \"field\": \"name\"}} }},\n",
    "        \"update\": {{\n",
    "          \"x\": {{\"field\": \"x0\"}},\n",
    "          \"y\": {{\"field\": \"y0\"}},\n",
    "          \"x2\": {{\"field\": \"x1\"}},\n",
    "          \"y2\": {{\"field\": \"y1\"}}\n",
    "        }}\n",
    "      }}\n",
    "    }},\n",
    "    {{\n",
    "      \"type\": \"rect\",\n",
    "      \"from\": {{\"data\": \"leaves\"}},\n",
    "      \"encode\": {{\n",
    "        \"enter\": {{\"stroke\": {{\"value\": \"#fff\"}},\n",
    "                  \"tooltip\": {{ \"field\": \"name\" }}\n",
    "        }},\n",
    "        \"update\": {{\n",
    "          \"x\": {{\"field\": \"x0\"}},\n",
    "          \"y\": {{\"field\": \"y0\"}},\n",
    "          \"x2\": {{\"field\": \"x1\"}},\n",
    "          \"y2\": {{\"field\": \"y1\"}},\n",
    "          \"fill\": {{\"value\": \"transparent\"}}\n",
    "        }},\n",
    "        \"hover\": {{\"fill\": {{\"value\": \"#efb118\"}} }}\n",
    "      }}\n",
    "    }},\n",
    "    {{\n",
    "      \"type\": \"text\",\n",
    "      \"from\": {{\"data\": \"nodes\"}},\n",
    "      \"interactive\": false,\n",
    "      \"encode\": {{\n",
    "        \"enter\": {{\n",
    "          \"font\": {{\"value\": \"Helvetica Neue, Arial\"}},\n",
    "          \"align\": {{\"value\": \"center\"}},\n",
    "          \"baseline\": {{\"value\": \"middle\"}},\n",
    "          \"fill\": {{\"value\": \"#000\"}},\n",
    "          \"text\": {{\"field\": \"name\"}},\n",
    "          \"fontSize\": {{\"scale\": \"size\", \"field\": \"depth\"}},\n",
    "          \"fillOpacity\": {{\"scale\": \"opacity\", \"field\": \"depth\"}}\n",
    "        }},\n",
    "        \"update\": {{\n",
    "          \"x\": {{\"signal\": \"0.5 * (datum.x0 + datum.x1)\"}},\n",
    "          \"y\": {{\"signal\": \"0.5 * (datum.y0 + datum.y1)\"}}\n",
    "        }}\n",
    "      }}\n",
    "    }}\n",
    "  ]\n",
    "}}\n",
    "\"\"\""
   ]
  },
  {
   "cell_type": "code",
   "execution_count": 124,
   "id": "ed20e217-b4ef-44e1-afb6-3fb8fa1811f1",
   "metadata": {
    "editable": true,
    "slideshow": {
     "slide_type": ""
    },
    "tags": [
     "remove-input"
    ]
   },
   "outputs": [
    {
     "data": {
      "application/vnd.vega.v5+json": {
       "$schema": "https://vega.github.io/schema/vega/v5.json",
       "autosize": "none",
       "data": [
        {
         "name": "tree",
         "transform": [
          {
           "key": "id",
           "parentKey": "parent",
           "type": "stratify"
          },
          {
           "field": "size",
           "method": "squarify",
           "ratio": 1.6,
           "round": true,
           "size": [
            {
             "signal": "width"
            },
            {
             "signal": "height"
            }
           ],
           "sort": {
            "field": "value"
           },
           "type": "treemap"
          }
         ],
         "values": [
          {
           "children": 4,
           "depth": 0,
           "id": 1,
           "name": "National Collection",
           "x0": 0,
           "x1": 960,
           "y0": 0,
           "y1": 500
          },
          {
           "children": 3,
           "depth": 1,
           "id": 2,
           "name": "gallery",
           "parent": 1,
           "x0": 0,
           "x1": 182,
           "y0": 0,
           "y1": 5
          },
          {
           "children": 6,
           "depth": 1,
           "id": 3,
           "name": "library",
           "parent": 1,
           "x0": 182,
           "x1": 960,
           "y0": 0,
           "y1": 212
          },
          {
           "children": 12,
           "depth": 1,
           "id": 4,
           "name": "museum",
           "parent": 1,
           "x0": 182,
           "x1": 960,
           "y0": 212,
           "y1": 500
          },
          {
           "children": 18,
           "depth": 1,
           "id": 5,
           "name": "university",
           "parent": 1,
           "x0": 0,
           "x1": 182,
           "y0": 5,
           "y1": 500
          },
          {
           "children": 0,
           "depth": 2,
           "id": 6,
           "name": "Oxford University",
           "parent": 5,
           "size": 22530000,
           "x0": 0,
           "x1": 182,
           "y0": 240,
           "y1": 500
          },
          {
           "children": 0,
           "depth": 2,
           "id": 7,
           "name": "University of Cambridge",
           "parent": 5,
           "size": 10000000,
           "x0": 56,
           "x1": 182,
           "y0": 73,
           "y1": 240
          },
          {
           "children": 0,
           "depth": 2,
           "id": 8,
           "name": "Durham University",
           "parent": 5,
           "size": 106000,
           "x0": 68,
           "x1": 94,
           "y0": 5,
           "y1": 14
          },
          {
           "children": 0,
           "depth": 2,
           "id": 9,
           "name": "University College London",
           "parent": 5,
           "size": 164000,
           "x0": 94,
           "x1": 134,
           "y0": 5,
           "y1": 14
          },
          {
           "children": 0,
           "depth": 2,
           "id": 10,
           "name": "University of Manchester",
           "parent": 5,
           "size": 4060000,
           "x0": 38,
           "x1": 182,
           "y0": 14,
           "y1": 73
          },
          {
           "children": 0,
           "depth": 2,
           "id": 11,
           "name": "King's College London",
           "parent": 5,
           "size": 200000,
           "x0": 134,
           "x1": 182,
           "y0": 5,
           "y1": 14
          },
          {
           "children": 0,
           "depth": 2,
           "id": 12,
           "name": "University of Birmingham",
           "parent": 5,
           "size": 4500000,
           "x0": 0,
           "x1": 56,
           "y0": 73,
           "y1": 240
          },
          {
           "children": 0,
           "depth": 2,
           "id": 13,
           "name": "Unversity of Warwick",
           "parent": 5,
           "size": 16000,
           "x0": 0,
           "x1": 4,
           "y0": 5,
           "y1": 14
          },
          {
           "children": 0,
           "depth": 2,
           "id": 14,
           "name": "Manchester Metropolitan Unversity",
           "parent": 5,
           "size": 0,
           "x0": 0,
           "x1": 0,
           "y0": 5,
           "y1": 14
          },
          {
           "children": 0,
           "depth": 2,
           "id": 15,
           "name": "Swansea University",
           "parent": 5,
           "size": 1700,
           "x0": 0,
           "x1": 0,
           "y0": 5,
           "y1": 14
          },
          {
           "children": 0,
           "depth": 2,
           "id": 16,
           "name": "University of Brighton",
           "parent": 5,
           "size": 50000,
           "x0": 18,
           "x1": 30,
           "y0": 5,
           "y1": 14
          },
          {
           "children": 0,
           "depth": 2,
           "id": 17,
           "name": "SOAS, University of London",
           "parent": 5,
           "size": 60000,
           "x0": 30,
           "x1": 44,
           "y0": 5,
           "y1": 14
          },
          {
           "children": 0,
           "depth": 2,
           "id": 18,
           "name": "University of Aberdeen",
           "parent": 5,
           "size": 530000,
           "x0": 19,
           "x1": 38,
           "y0": 14,
           "y1": 73
          },
          {
           "children": 0,
           "depth": 2,
           "id": 19,
           "name": "University of Bristol",
           "parent": 5,
           "size": 100000,
           "x0": 44,
           "x1": 68,
           "y0": 5,
           "y1": 14
          },
          {
           "children": 0,
           "depth": 2,
           "id": 20,
           "name": "University of Leeds",
           "parent": 5,
           "size": 350000,
           "x0": 7,
           "x1": 19,
           "y0": 14,
           "y1": 73
          },
          {
           "children": 0,
           "depth": 2,
           "id": 21,
           "name": "University of Leicester",
           "parent": 5,
           "size": 25000,
           "x0": 4,
           "x1": 10,
           "y0": 5,
           "y1": 14
          },
          {
           "children": 0,
           "depth": 2,
           "id": 22,
           "name": "University of Sheffield",
           "parent": 5,
           "size": 30000,
           "x0": 10,
           "x1": 18,
           "y0": 5,
           "y1": 14
          },
          {
           "children": 0,
           "depth": 2,
           "id": 23,
           "name": "University of St Andrews",
           "parent": 5,
           "size": 200000,
           "x0": 0,
           "x1": 7,
           "y0": 14,
           "y1": 73
          },
          {
           "children": 0,
           "depth": 2,
           "id": 24,
           "name": "British Library",
           "parent": 3,
           "size": 33810000,
           "x0": 260,
           "x1": 594,
           "y0": 0,
           "y1": 212
          },
          {
           "children": 0,
           "depth": 2,
           "id": 25,
           "name": "Chetham's Library",
           "parent": 3,
           "size": 121041,
           "x0": 182,
           "x1": 260,
           "y0": 0,
           "y1": 3
          },
          {
           "children": 0,
           "depth": 2,
           "id": 26,
           "name": "Glasgow Woman's Library",
           "parent": 3,
           "size": 0,
           "x0": 182,
           "x1": 260,
           "y0": 0,
           "y1": 0
          },
          {
           "children": 0,
           "depth": 2,
           "id": 27,
           "name": "Lambeth Palace Library",
           "parent": 3,
           "size": 186200,
           "x0": 182,
           "x1": 260,
           "y0": 3,
           "y1": 8
          },
          {
           "children": 0,
           "depth": 2,
           "id": 28,
           "name": "National Library of Wales",
           "parent": 3,
           "size": 7540000,
           "x0": 182,
           "x1": 260,
           "y0": 8,
           "y1": 212
          },
          {
           "children": 0,
           "depth": 2,
           "id": 29,
           "name": "National Library of Scotland",
           "parent": 3,
           "size": 37000000,
           "x0": 594,
           "x1": 960,
           "y0": 0,
           "y1": 212
          },
          {
           "children": 0,
           "depth": 2,
           "id": 30,
           "name": "Victoria & Albert Museum",
           "parent": 4,
           "size": 2800000,
           "x0": 193,
           "x1": 318,
           "y0": 212,
           "y1": 259
          },
          {
           "children": 0,
           "depth": 2,
           "id": 31,
           "name": "Science Museum Group",
           "parent": 4,
           "size": 7360793,
           "x0": 193,
           "x1": 318,
           "y0": 377,
           "y1": 500
          },
          {
           "children": 0,
           "depth": 2,
           "id": 32,
           "name": "Museum of the Home",
           "parent": 4,
           "size": 40000,
           "x0": 182,
           "x1": 193,
           "y0": 213,
           "y1": 221
          },
          {
           "children": 0,
           "depth": 2,
           "id": 33,
           "name": "Horniman Museum",
           "parent": 4,
           "size": 350000,
           "x0": 182,
           "x1": 193,
           "y0": 244,
           "y1": 310
          },
          {
           "children": 0,
           "depth": 2,
           "id": 34,
           "name": "Imperial War Museums",
           "parent": 4,
           "size": 1000000,
           "x0": 182,
           "x1": 193,
           "y0": 310,
           "y1": 500
          },
          {
           "children": 0,
           "depth": 2,
           "id": 35,
           "name": "National Gallery",
           "parent": 2,
           "size": 2626,
           "x0": 0,
           "x1": 1,
           "y0": 0,
           "y1": 5
          },
          {
           "children": 0,
           "depth": 2,
           "id": 36,
           "name": "National Museums Liverpool",
           "parent": 4,
           "size": 4000000,
           "x0": 193,
           "x1": 318,
           "y0": 309,
           "y1": 377
          },
          {
           "children": 0,
           "depth": 2,
           "id": 37,
           "name": "National Portrait Gallery",
           "parent": 2,
           "size": 350000,
           "x0": 31,
           "x1": 182,
           "y0": 0,
           "y1": 5
          },
          {
           "children": 0,
           "depth": 2,
           "id": 38,
           "name": "Natural History Museum",
           "parent": 4,
           "size": 80000000,
           "x0": 377,
           "x1": 960,
           "y0": 212,
           "y1": 500
          },
          {
           "children": 0,
           "depth": 2,
           "id": 39,
           "name": "Royal Armouries",
           "parent": 4,
           "size": 70000,
           "x0": 182,
           "x1": 193,
           "y0": 231,
           "y1": 244
          },
          {
           "children": 0,
           "depth": 2,
           "id": 40,
           "name": "Royal Museums Greenwich",
           "parent": 4,
           "size": 3000000,
           "x0": 193,
           "x1": 318,
           "y0": 259,
           "y1": 309
          },
          {
           "children": 0,
           "depth": 2,
           "id": 41,
           "name": "Sir John Soane's Museum",
           "parent": 4,
           "size": 52000,
           "x0": 182,
           "x1": 193,
           "y0": 221,
           "y1": 231
          },
          {
           "children": 0,
           "depth": 2,
           "id": 42,
           "name": "Tate Gallery Group",
           "parent": 2,
           "size": 70000,
           "x0": 1,
           "x1": 31,
           "y0": 0,
           "y1": 5
          },
          {
           "children": 0,
           "depth": 2,
           "id": 43,
           "name": "The Wallace Collection",
           "parent": 4,
           "size": 5637,
           "x0": 182,
           "x1": 193,
           "y0": 212,
           "y1": 213
          },
          {
           "children": 0,
           "depth": 2,
           "id": 44,
           "name": "British Museum",
           "parent": 4,
           "size": 8000000,
           "x0": 318,
           "x1": 377,
           "y0": 212,
           "y1": 500
          }
         ]
        },
        {
         "name": "nodes",
         "source": "tree",
         "transform": [
          {
           "expr": "datum.children",
           "type": "filter"
          }
         ]
        },
        {
         "name": "leaves",
         "source": "tree",
         "transform": [
          {
           "expr": "!datum.children",
           "type": "filter"
          }
         ]
        }
       ],
       "description": "An example of treemap layout for hierarchical data.",
       "height": 500,
       "marks": [
        {
         "encode": {
          "enter": {
           "fill": {
            "field": "name",
            "scale": "color"
           }
          },
          "update": {
           "x": {
            "field": "x0"
           },
           "x2": {
            "field": "x1"
           },
           "y": {
            "field": "y0"
           },
           "y2": {
            "field": "y1"
           }
          }
         },
         "from": {
          "data": "nodes"
         },
         "interactive": false,
         "type": "rect"
        },
        {
         "encode": {
          "enter": {
           "stroke": {
            "value": "#fff"
           },
           "tooltip": {
            "field": "name"
           }
          },
          "hover": {
           "fill": {
            "value": "#efb118"
           }
          },
          "update": {
           "fill": {
            "value": "transparent"
           },
           "x": {
            "field": "x0"
           },
           "x2": {
            "field": "x1"
           },
           "y": {
            "field": "y0"
           },
           "y2": {
            "field": "y1"
           }
          }
         },
         "from": {
          "data": "leaves"
         },
         "type": "rect"
        },
        {
         "encode": {
          "enter": {
           "align": {
            "value": "center"
           },
           "baseline": {
            "value": "middle"
           },
           "fill": {
            "value": "#000"
           },
           "fillOpacity": {
            "field": "depth",
            "scale": "opacity"
           },
           "font": {
            "value": "Helvetica Neue, Arial"
           },
           "fontSize": {
            "field": "depth",
            "scale": "size"
           },
           "text": {
            "field": "name"
           }
          },
          "update": {
           "x": {
            "signal": "0.5 * (datum.x0 + datum.x1)"
           },
           "y": {
            "signal": "0.5 * (datum.y0 + datum.y1)"
           }
          }
         },
         "from": {
          "data": "nodes"
         },
         "interactive": false,
         "type": "text"
        }
       ],
       "padding": 2.5,
       "scales": [
        {
         "domain": {
          "data": "nodes",
          "field": "name"
         },
         "name": "color",
         "range": [
          "#3182bd",
          "#6baed6",
          "#9ecae1",
          "#c6dbef",
          "#e6550d",
          "#fd8d3c",
          "#fdae6b",
          "#fdd0a2",
          "#31a354",
          "#74c476",
          "#a1d99b",
          "#c7e9c0",
          "#756bb1",
          "#9e9ac8",
          "#bcbddc",
          "#dadaeb",
          "#636363",
          "#969696",
          "#bdbdbd",
          "#d9d9d9"
         ],
         "type": "ordinal"
        },
        {
         "domain": [
          0,
          1,
          2,
          3
         ],
         "name": "size",
         "range": [
          256,
          28,
          20,
          14
         ],
         "type": "ordinal"
        },
        {
         "domain": [
          0,
          1,
          2,
          3
         ],
         "name": "opacity",
         "range": [
          0.15,
          0.5,
          0.8,
          1
         ],
         "type": "ordinal"
        }
       ],
       "signals": [],
       "width": 960
      },
      "image/png": "[encoded data removed]"
     },
     "metadata": {},
     "output_type": "display_data"
    }
   ],
   "source": [
    "from IPython.display import display\n",
    "import json\n",
    "display({\"application/vnd.vega.v5+json\": json.loads(treemap_test_spec)}, raw=True)"
   ]
  },
  {
   "cell_type": "markdown",
   "id": "53014101-17be-417a-a132-8250b4d0c220",
   "metadata": {
    "editable": true,
    "slideshow": {
     "slide_type": ""
    },
    "tags": []
   },
   "source": [
    "\n",
    "An overview of how the UK National Collection is formed, broken down by type of holding public institution:\n",
    "  * Museum\n",
    "  * Gallery\n",
    "  * Library\n",
    "  * Universities (which can include a Museum, Gallery, Libraries and Archives)\n",
    "\n",
    "And not yet featuring Archives as handling the hierarchical nature of archive cataloguing brings up more complexity that has not yet been resolved.\n",
    "\n",
    "This type classification, like much in this area, is somewhat ill-defined; most museums and galleries also have an archive and many also have library items. To give an alternative lower level view, other notebooks will try to break collections down by sub-type, so all the library collections (either at a library institution or a library collection at a museum/gallery/university) are counted together. As with many datasets, there are many different views that can be taken of the data and each brings different insights (and biases), there is no one view that can reveal all facts in a single glance."
   ]
  }
 ],
 "metadata": {
  "kernelspec": {
   "display_name": "Python 3 (ipykernel)",
   "language": "python",
   "name": "python3"
  },
  "language_info": {
   "codemirror_mode": {
    "name": "ipython",
    "version": 3
   },
   "file_extension": ".py",
   "mimetype": "text/x-python",
   "name": "python",
   "nbconvert_exporter": "python",
   "pygments_lexer": "ipython3",
   "version": "3.9.18"
  }
 },
 "nbformat": 4,
 "nbformat_minor": 5
}
