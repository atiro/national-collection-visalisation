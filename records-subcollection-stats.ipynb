{
 "cells": [
  {
   "cell_type": "code",
   "execution_count": 2,
   "id": "bc077a0d-3cac-4f63-8b00-fa6d878fe2a7",
   "metadata": {
    "editable": true,
    "slideshow": {
     "slide_type": ""
    },
    "tags": [
     "remove-cell"
    ]
   },
   "outputs": [],
   "source": [
    "import pandas as pd\n",
    "records_data = pd.read_csv(\"records-sub-stats-all.csv\")"
   ]
  },
  {
   "cell_type": "markdown",
   "id": "33e18670-eddb-40e5-9139-1192b55414b7",
   "metadata": {
    "editable": true,
    "slideshow": {
     "slide_type": ""
    },
    "tags": []
   },
   "source": [
    "# Record Subcollection (Overview)\n",
    "\n",
    "This is an attempt to highlight particular subcollections at in institution to give indiciations of where cataloguing may be more complete in one area than another. It should be noted it *may* but is not always an indication of different cataloguing types for records (museum, library,archive). So even if an institution had examples of all three, it does not mean they have three subcollections, unless each is considered a different thing. Equally, an institution might have three subcollections, but this does not mean a museum, library and archive, it might be three different distinct museum collections that make up the overall institution.\n",
    "\n",
    "This line, as with all things in these statistics, is blurry, and might be revised. A better title might be \"Named subcollections\" to indicate it's where a subcollection is referred to as particular subset, not just because of how it is catalogued.\n",
    "\n",
    "It would be very possible to also have sub-sub-collections and so on, as there a huge variety of ways artefacts can be grouped into what is called a collection (a donated collection, a collection acquired as a whole, a collection from another institution merged into the current institution, etc). This is beyond the\n",
    "needs of this reporting and is for each institution how to decide how it wants to structure it's collection statistics."
   ]
  },
  {
   "cell_type": "code",
   "execution_count": 4,
   "id": "02993910-d83c-4a22-96ac-404d5091ad27",
   "metadata": {
    "editable": true,
    "slideshow": {
     "slide_type": ""
    },
    "tags": [
     "remove-input"
    ]
   },
   "outputs": [
    {
     "data": {
      "text/html": [
       "\n",
       "<style>\n",
       "  #altair-viz-f029c01a4a4d444fa8fd2946335b3410.vega-embed {\n",
       "    width: 100%;\n",
       "    display: flex;\n",
       "  }\n",
       "\n",
       "  #altair-viz-f029c01a4a4d444fa8fd2946335b3410.vega-embed details,\n",
       "  #altair-viz-f029c01a4a4d444fa8fd2946335b3410.vega-embed details summary {\n",
       "    position: relative;\n",
       "  }\n",
       "</style>\n",
       "<div id=\"altair-viz-f029c01a4a4d444fa8fd2946335b3410\"></div>\n",
       "<script type=\"text/javascript\">\n",
       "  var VEGA_DEBUG = (typeof VEGA_DEBUG == \"undefined\") ? {} : VEGA_DEBUG;\n",
       "  (function(spec, embedOpt){\n",
       "    let outputDiv = document.currentScript.previousElementSibling;\n",
       "    if (outputDiv.id !== \"altair-viz-f029c01a4a4d444fa8fd2946335b3410\") {\n",
       "      outputDiv = document.getElementById(\"altair-viz-f029c01a4a4d444fa8fd2946335b3410\");\n",
       "    }\n",
       "    const paths = {\n",
       "      \"vega\": \"https://cdn.jsdelivr.net/npm/vega@5?noext\",\n",
       "      \"vega-lib\": \"https://cdn.jsdelivr.net/npm/vega-lib?noext\",\n",
       "      \"vega-lite\": \"https://cdn.jsdelivr.net/npm/vega-lite@5.17.0?noext\",\n",
       "      \"vega-embed\": \"https://cdn.jsdelivr.net/npm/vega-embed@6?noext\",\n",
       "    };\n",
       "\n",
       "    function maybeLoadScript(lib, version) {\n",
       "      var key = `${lib.replace(\"-\", \"\")}_version`;\n",
       "      return (VEGA_DEBUG[key] == version) ?\n",
       "        Promise.resolve(paths[lib]) :\n",
       "        new Promise(function(resolve, reject) {\n",
       "          var s = document.createElement('script');\n",
       "          document.getElementsByTagName(\"head\")[0].appendChild(s);\n",
       "          s.async = true;\n",
       "          s.onload = () => {\n",
       "            VEGA_DEBUG[key] = version;\n",
       "            return resolve(paths[lib]);\n",
       "          };\n",
       "          s.onerror = () => reject(`Error loading script: ${paths[lib]}`);\n",
       "          s.src = paths[lib];\n",
       "        });\n",
       "    }\n",
       "\n",
       "    function showError(err) {\n",
       "      outputDiv.innerHTML = `<div class=\"error\" style=\"color:red;\">${err}</div>`;\n",
       "      throw err;\n",
       "    }\n",
       "\n",
       "    function displayChart(vegaEmbed) {\n",
       "      vegaEmbed(outputDiv, spec, embedOpt)\n",
       "        .catch(err => showError(`Javascript Error: ${err.message}<br>This usually means there's a typo in your chart specification. See the javascript console for the full traceback.`));\n",
       "    }\n",
       "\n",
       "    if(typeof define === \"function\" && define.amd) {\n",
       "      requirejs.config({paths});\n",
       "      require([\"vega-embed\"], displayChart, err => showError(`Error loading script: ${err.message}`));\n",
       "    } else {\n",
       "      maybeLoadScript(\"vega\", \"5\")\n",
       "        .then(() => maybeLoadScript(\"vega-lite\", \"5.17.0\"))\n",
       "        .then(() => maybeLoadScript(\"vega-embed\", \"6\"))\n",
       "        .catch(showError)\n",
       "        .then(() => displayChart(vegaEmbed));\n",
       "    }\n",
       "  })({\"config\": {\"view\": {\"continuousWidth\": 300, \"continuousHeight\": 300}, \"numberFormat\": \".2s\"}, \"data\": {\"name\": \"data-12b097995b6236260bf4e24f871dc0bb\"}, \"mark\": {\"type\": \"bar\"}, \"encoding\": {\"color\": {\"field\": \"subcollection\", \"legend\": {\"orient\": \"bottom\", \"columns\": 4, \"titleOrient\": \"left\"}, \"type\": \"nominal\"}, \"column\": {\"field\": \"precision\", \"type\": \"ordinal\"}, \"x\": {\"field\": \"record_count\", \"type\": \"quantitative\"}, \"y\": {\"field\": \"institution\", \"type\": \"nominal\"}}, \"resolve\": {\"scale\": {\"x\": \"independent\"}}, \"title\": {\"text\": \"Records per institution by sub-collections\", \"anchor\": \"middle\"}, \"width\": 250, \"$schema\": \"https://vega.github.io/schema/vega-lite/v5.17.0.json\", \"datasets\": {\"data-12b097995b6236260bf4e24f871dc0bb\": [{\"institution\": \"Oxford University\", \"subcollection\": \"History of Science Museum\", \"sector\": \"university\", \"type\": \"museum\", \"topic\": \"science\", \"precision\": \"estimate\", \"record_count\": 33592}, {\"institution\": \"Oxford University\", \"subcollection\": \"Museum of Natural History\", \"sector\": \"university\", \"type\": \"museum\", \"topic\": \"nature\", \"precision\": \"estimate\", \"record_count\": 505745}, {\"institution\": \"Oxford University\", \"subcollection\": \"Pitt Rivers Museum\", \"sector\": \"university\", \"type\": \"museum\", \"topic\": \"anthopology\", \"precision\": \"estimate\", \"record_count\": 513107}, {\"institution\": \"Durham University\", \"subcollection\": \"Oriental Museum\", \"sector\": \"university\", \"type\": \"museum\", \"topic\": \"art\", \"precision\": \"estimate\", \"record_count\": 33234}, {\"institution\": \"University College London\", \"subcollection\": \"Petrie Museum\", \"sector\": \"university\", \"type\": \"museum\", \"topic\": \"history\", \"precision\": \"estimate\", \"record_count\": 83455}, {\"institution\": \"University College London\", \"subcollection\": \"UCL Art Museum\", \"sector\": \"university\", \"type\": \"museum\", \"topic\": \"art\", \"precision\": \"estimate\", \"record_count\": 10712}, {\"institution\": \"University College London\", \"subcollection\": \"UCL Pathology Collection\", \"sector\": \"university\", \"type\": \"museum\", \"topic\": \"medicine\", \"precision\": \"estimate\", \"record_count\": 8817}, {\"institution\": \"University College London\", \"subcollection\": \"UCL Pathology Collection\", \"sector\": \"university\", \"type\": \"museum\", \"topic\": \"science\", \"precision\": \"estimate\", \"record_count\": 1462}, {\"institution\": \"Glasgow Woman's Library\", \"subcollection\": \"Museum Collections\", \"sector\": \"library\", \"type\": \"museum\", \"topic\": \"mixed\", \"precision\": \"estimate\", \"record_count\": 3567}, {\"institution\": \"Victoria & Albert Museum\", \"subcollection\": \"Victoria & Albert Museum\", \"sector\": \"dcms\", \"type\": \"museum\", \"topic\": \"art\", \"precision\": \"exact\", \"record_count\": 1281326}, {\"institution\": \"Museum of the Home\", \"subcollection\": \"Museum of the Home\", \"sector\": \"dcms\", \"type\": \"museum\", \"topic\": \"history\", \"precision\": \"exact\", \"record_count\": 12200}, {\"institution\": \"Horniman Museum\", \"subcollection\": \"Museum Collection\", \"sector\": \"dcms\", \"type\": \"museum\", \"topic\": \"history\", \"precision\": \"estimate\", \"record_count\": 132612}, {\"institution\": \"Imperial War Museums\", \"subcollection\": \"Museum Collection\", \"sector\": \"dcms\", \"type\": \"museum\", \"topic\": \"history\", \"precision\": \"estimate\", \"record_count\": 1737698}, {\"institution\": \"National Gallery\", \"subcollection\": \"Museum Collection\", \"sector\": \"dcms\", \"type\": \"museum\", \"topic\": \"history\", \"precision\": \"estimate\", \"record_count\": 2626}, {\"institution\": \"National Museums Liverpool\", \"subcollection\": \"Museum Collection\", \"sector\": \"dcms\", \"type\": \"museum\", \"topic\": \"history\", \"precision\": \"estimate\", \"record_count\": 73682}, {\"institution\": \"National Portrait Gallery\", \"subcollection\": \"Museum Collection\", \"sector\": \"dcms\", \"type\": \"museum\", \"topic\": \"history\", \"precision\": \"estimate\", \"record_count\": 220000}, {\"institution\": \"Natural History Museum\", \"subcollection\": \"Entomology collections\", \"sector\": \"dcms\", \"type\": \"museum\", \"topic\": \"nature\", \"precision\": \"estimate\", \"record_count\": 34000000}, {\"institution\": \"Natural History Museum\", \"subcollection\": \"Botany collections\", \"sector\": \"dcms\", \"type\": \"museum\", \"topic\": \"nature\", \"precision\": \"estimate\", \"record_count\": 6000000}, {\"institution\": \"Natural History Museum\", \"subcollection\": \"Zooology collections\", \"sector\": \"dcms\", \"type\": \"museum\", \"topic\": \"nature\", \"precision\": \"estimate\", \"record_count\": 29000000}, {\"institution\": \"Natural History Museum\", \"subcollection\": \"Palaeontology collections\", \"sector\": \"dcms\", \"type\": \"museum\", \"topic\": \"nature\", \"precision\": \"estimate\", \"record_count\": 7000000}, {\"institution\": \"Natural History Museum\", \"subcollection\": \"Mineralogy collections\", \"sector\": \"dcms\", \"type\": \"museum\", \"topic\": \"nature\", \"precision\": \"estimate\", \"record_count\": 500000}, {\"institution\": \"Natural History Museum\", \"subcollection\": \"Library and archive collections\", \"sector\": \"dcms\", \"type\": \"library\", \"topic\": \"nature\", \"precision\": \"estimate\", \"record_count\": 1500000}, {\"institution\": \"Royal Armouries\", \"subcollection\": \"Museum Collection\", \"sector\": \"dcms\", \"type\": \"museum\", \"topic\": \"nature\", \"precision\": \"estimate\", \"record_count\": 65627}, {\"institution\": \"Sir John Soane's Museum\", \"subcollection\": \"Museum Collection\", \"sector\": \"dcms\", \"type\": \"museum\", \"topic\": \"nature\", \"precision\": \"estimate\", \"record_count\": 57164}, {\"institution\": \"Tate Gallery Group\", \"subcollection\": \"Museum Collection\", \"sector\": \"dcms\", \"type\": \"museum\", \"topic\": \"nature\", \"precision\": \"estimate\", \"record_count\": 79236}, {\"institution\": \"British Museum\", \"subcollection\": \"Museum Collection\", \"sector\": \"dcms\", \"type\": \"museum\", \"topic\": \"nature\", \"precision\": \"estimate\", \"record_count\": 2000000}, {\"institution\": \"Oxford University\", \"subcollection\": \"History of Science Museum\", \"sector\": \"university\", \"type\": \"museum\", \"topic\": \"science\", \"precision\": \"estimate\", \"record_count\": 21011}, {\"institution\": \"Oxford University\", \"subcollection\": \"Bodleian Library\", \"sector\": \"university\", \"type\": \"library\", \"topic\": \"national\", \"precision\": \"estimate\", \"record_count\": 8000000}, {\"institution\": \"Manchester Metropolitan Unversity\", \"subcollection\": \"Special Collections\", \"sector\": \"university\", \"type\": \"library\", \"topic\": \"mixed\", \"precision\": \"estimate\", \"record_count\": 28600}, {\"institution\": \"SOAS, University of London\", \"subcollection\": \"Special Collections\", \"sector\": \"university\", \"type\": \"library\", \"topic\": \"mixed\", \"precision\": \"estimate\", \"record_count\": 40337}, {\"institution\": \"University of Reading\", \"subcollection\": \"Library Collection\", \"sector\": \"university\", \"type\": \"library\", \"topic\": \"history\", \"precision\": \"estimate\", \"record_count\": 0}, {\"institution\": \"Lambeth Palace Library\", \"subcollection\": \"Sion College Collections\", \"sector\": \"library\", \"type\": \"library\", \"topic\": \"theology\", \"precision\": \"estimate\", \"record_count\": 15000}, {\"institution\": \"Victoria & Albert Museum\", \"subcollection\": \"National Art Library\", \"sector\": \"dcms\", \"type\": \"library\", \"topic\": \"art\", \"precision\": \"estimate\", \"record_count\": 849000}, {\"institution\": \"Museum of the Home\", \"subcollection\": \"Library Collection\", \"sector\": \"dcms\", \"type\": \"library\", \"topic\": \"history\", \"precision\": \"exact\", \"record_count\": 6290}, {\"institution\": \"Royal Armouries\", \"subcollection\": \"Library Collection\", \"sector\": \"dcms\", \"type\": \"library\", \"topic\": \"nature\", \"precision\": \"estimate\", \"record_count\": 65627}, {\"institution\": \"Sir John Soane's Museum\", \"subcollection\": \"Library Collection\", \"sector\": \"dcms\", \"type\": \"library\", \"topic\": \"nature\", \"precision\": \"estimate\", \"record_count\": 57164}, {\"institution\": \"Unversity of Warwick\", \"subcollection\": \"Modern Records Centre\", \"sector\": \"university\", \"type\": \"archive\", \"topic\": \"mixed\", \"precision\": \"exact\", \"record_count\": 367655}, {\"institution\": \"University of Reading\", \"subcollection\": \"Archive Collection\", \"sector\": \"university\", \"type\": \"archive\", \"topic\": \"history\", \"precision\": \"estimate\", \"record_count\": 186216}, {\"institution\": \"Victoria & Albert Museum\", \"subcollection\": \"Victoria & Albert Museum Archives\", \"sector\": \"dcms\", \"type\": \"archive\", \"topic\": \"art\", \"precision\": \"exact\", \"record_count\": 157054}, {\"institution\": \"Royal Armouries\", \"subcollection\": \"Archive Collection\", \"sector\": \"dcms\", \"type\": \"archive\", \"topic\": \"nature\", \"precision\": \"estimate\", \"record_count\": 130130}, {\"institution\": \"Sir John Soane's Museum\", \"subcollection\": \"Archive Collection\", \"sector\": \"dcms\", \"type\": \"archive\", \"topic\": \"nature\", \"precision\": \"estimate\", \"record_count\": 0}, {\"institution\": \"Tate Gallery Group\", \"subcollection\": \"Archive Collection\", \"sector\": \"dcms\", \"type\": \"archive\", \"topic\": \"nature\", \"precision\": \"estimate\", \"record_count\": 807060}]}}, {\"mode\": \"vega-lite\"});\n",
       "</script>"
      ],
      "text/plain": [
       "alt.Chart(...)"
      ]
     },
     "execution_count": 4,
     "metadata": {},
     "output_type": "execute_result"
    }
   ],
   "source": [
    "import altair as alt\n",
    "\n",
    "title = alt.TitleParams('Records per institution by sub-collections', anchor='middle')\n",
    "alt.Chart(records_data, title=title).mark_bar().encode(\n",
    "        alt.Color('subcollection:N').legend(orient=\"bottom\", columns=4, titleOrient=\"left\"),\n",
    "    column='precision:O',\n",
    "    x='record_count:Q',\n",
    "    y='institution:N'\n",
    ").properties(width=250).resolve_scale(x='independent').configure(numberFormat='.2s')"
   ]
  },
  {
   "cell_type": "code",
   "execution_count": 5,
   "id": "d99d62a0-d170-4cbf-b0a5-3d5264409f76",
   "metadata": {
    "editable": true,
    "slideshow": {
     "slide_type": ""
    },
    "tags": [
     "remove-cell"
    ]
   },
   "outputs": [
    {
     "data": {
      "text/html": [
       "\n",
       "<style>\n",
       "  #altair-viz-c531ca6b24b745edb9189da436cd5b8e.vega-embed {\n",
       "    width: 100%;\n",
       "    display: flex;\n",
       "  }\n",
       "\n",
       "  #altair-viz-c531ca6b24b745edb9189da436cd5b8e.vega-embed details,\n",
       "  #altair-viz-c531ca6b24b745edb9189da436cd5b8e.vega-embed details summary {\n",
       "    position: relative;\n",
       "  }\n",
       "</style>\n",
       "<div id=\"altair-viz-c531ca6b24b745edb9189da436cd5b8e\"></div>\n",
       "<script type=\"text/javascript\">\n",
       "  var VEGA_DEBUG = (typeof VEGA_DEBUG == \"undefined\") ? {} : VEGA_DEBUG;\n",
       "  (function(spec, embedOpt){\n",
       "    let outputDiv = document.currentScript.previousElementSibling;\n",
       "    if (outputDiv.id !== \"altair-viz-c531ca6b24b745edb9189da436cd5b8e\") {\n",
       "      outputDiv = document.getElementById(\"altair-viz-c531ca6b24b745edb9189da436cd5b8e\");\n",
       "    }\n",
       "    const paths = {\n",
       "      \"vega\": \"https://cdn.jsdelivr.net/npm/vega@5?noext\",\n",
       "      \"vega-lib\": \"https://cdn.jsdelivr.net/npm/vega-lib?noext\",\n",
       "      \"vega-lite\": \"https://cdn.jsdelivr.net/npm/vega-lite@5.17.0?noext\",\n",
       "      \"vega-embed\": \"https://cdn.jsdelivr.net/npm/vega-embed@6?noext\",\n",
       "    };\n",
       "\n",
       "    function maybeLoadScript(lib, version) {\n",
       "      var key = `${lib.replace(\"-\", \"\")}_version`;\n",
       "      return (VEGA_DEBUG[key] == version) ?\n",
       "        Promise.resolve(paths[lib]) :\n",
       "        new Promise(function(resolve, reject) {\n",
       "          var s = document.createElement('script');\n",
       "          document.getElementsByTagName(\"head\")[0].appendChild(s);\n",
       "          s.async = true;\n",
       "          s.onload = () => {\n",
       "            VEGA_DEBUG[key] = version;\n",
       "            return resolve(paths[lib]);\n",
       "          };\n",
       "          s.onerror = () => reject(`Error loading script: ${paths[lib]}`);\n",
       "          s.src = paths[lib];\n",
       "        });\n",
       "    }\n",
       "\n",
       "    function showError(err) {\n",
       "      outputDiv.innerHTML = `<div class=\"error\" style=\"color:red;\">${err}</div>`;\n",
       "      throw err;\n",
       "    }\n",
       "\n",
       "    function displayChart(vegaEmbed) {\n",
       "      vegaEmbed(outputDiv, spec, embedOpt)\n",
       "        .catch(err => showError(`Javascript Error: ${err.message}<br>This usually means there's a typo in your chart specification. See the javascript console for the full traceback.`));\n",
       "    }\n",
       "\n",
       "    if(typeof define === \"function\" && define.amd) {\n",
       "      requirejs.config({paths});\n",
       "      require([\"vega-embed\"], displayChart, err => showError(`Error loading script: ${err.message}`));\n",
       "    } else {\n",
       "      maybeLoadScript(\"vega\", \"5\")\n",
       "        .then(() => maybeLoadScript(\"vega-lite\", \"5.17.0\"))\n",
       "        .then(() => maybeLoadScript(\"vega-embed\", \"6\"))\n",
       "        .catch(showError)\n",
       "        .then(() => displayChart(vegaEmbed));\n",
       "    }\n",
       "  })({\"config\": {\"view\": {\"continuousWidth\": 300, \"continuousHeight\": 300}, \"numberFormat\": \".2s\"}, \"data\": {\"name\": \"data-12b097995b6236260bf4e24f871dc0bb\"}, \"mark\": {\"type\": \"bar\"}, \"encoding\": {\"color\": {\"field\": \"type\", \"legend\": {\"orient\": \"bottom\", \"titleOrient\": \"left\"}, \"title\": \"settings\", \"type\": \"nominal\"}, \"column\": {\"field\": \"subcollection\", \"title\": \"Sub Collection\", \"type\": \"nominal\"}, \"row\": {\"field\": \"institution\", \"header\": {\"labelAngle\": 0, \"labelAlign\": \"left\"}, \"title\": \"Institution\", \"type\": \"nominal\"}, \"x\": {\"field\": \"record_count\", \"type\": \"quantitative\"}, \"y\": {\"field\": \"type\", \"type\": \"nominal\"}}, \"height\": {\"step\": 8}, \"width\": 60, \"$schema\": \"https://vega.github.io/schema/vega-lite/v5.17.0.json\", \"datasets\": {\"data-12b097995b6236260bf4e24f871dc0bb\": [{\"institution\": \"Oxford University\", \"subcollection\": \"History of Science Museum\", \"sector\": \"university\", \"type\": \"museum\", \"topic\": \"science\", \"precision\": \"estimate\", \"record_count\": 33592}, {\"institution\": \"Oxford University\", \"subcollection\": \"Museum of Natural History\", \"sector\": \"university\", \"type\": \"museum\", \"topic\": \"nature\", \"precision\": \"estimate\", \"record_count\": 505745}, {\"institution\": \"Oxford University\", \"subcollection\": \"Pitt Rivers Museum\", \"sector\": \"university\", \"type\": \"museum\", \"topic\": \"anthopology\", \"precision\": \"estimate\", \"record_count\": 513107}, {\"institution\": \"Durham University\", \"subcollection\": \"Oriental Museum\", \"sector\": \"university\", \"type\": \"museum\", \"topic\": \"art\", \"precision\": \"estimate\", \"record_count\": 33234}, {\"institution\": \"University College London\", \"subcollection\": \"Petrie Museum\", \"sector\": \"university\", \"type\": \"museum\", \"topic\": \"history\", \"precision\": \"estimate\", \"record_count\": 83455}, {\"institution\": \"University College London\", \"subcollection\": \"UCL Art Museum\", \"sector\": \"university\", \"type\": \"museum\", \"topic\": \"art\", \"precision\": \"estimate\", \"record_count\": 10712}, {\"institution\": \"University College London\", \"subcollection\": \"UCL Pathology Collection\", \"sector\": \"university\", \"type\": \"museum\", \"topic\": \"medicine\", \"precision\": \"estimate\", \"record_count\": 8817}, {\"institution\": \"University College London\", \"subcollection\": \"UCL Pathology Collection\", \"sector\": \"university\", \"type\": \"museum\", \"topic\": \"science\", \"precision\": \"estimate\", \"record_count\": 1462}, {\"institution\": \"Glasgow Woman's Library\", \"subcollection\": \"Museum Collections\", \"sector\": \"library\", \"type\": \"museum\", \"topic\": \"mixed\", \"precision\": \"estimate\", \"record_count\": 3567}, {\"institution\": \"Victoria & Albert Museum\", \"subcollection\": \"Victoria & Albert Museum\", \"sector\": \"dcms\", \"type\": \"museum\", \"topic\": \"art\", \"precision\": \"exact\", \"record_count\": 1281326}, {\"institution\": \"Museum of the Home\", \"subcollection\": \"Museum of the Home\", \"sector\": \"dcms\", \"type\": \"museum\", \"topic\": \"history\", \"precision\": \"exact\", \"record_count\": 12200}, {\"institution\": \"Horniman Museum\", \"subcollection\": \"Museum Collection\", \"sector\": \"dcms\", \"type\": \"museum\", \"topic\": \"history\", \"precision\": \"estimate\", \"record_count\": 132612}, {\"institution\": \"Imperial War Museums\", \"subcollection\": \"Museum Collection\", \"sector\": \"dcms\", \"type\": \"museum\", \"topic\": \"history\", \"precision\": \"estimate\", \"record_count\": 1737698}, {\"institution\": \"National Gallery\", \"subcollection\": \"Museum Collection\", \"sector\": \"dcms\", \"type\": \"museum\", \"topic\": \"history\", \"precision\": \"estimate\", \"record_count\": 2626}, {\"institution\": \"National Museums Liverpool\", \"subcollection\": \"Museum Collection\", \"sector\": \"dcms\", \"type\": \"museum\", \"topic\": \"history\", \"precision\": \"estimate\", \"record_count\": 73682}, {\"institution\": \"National Portrait Gallery\", \"subcollection\": \"Museum Collection\", \"sector\": \"dcms\", \"type\": \"museum\", \"topic\": \"history\", \"precision\": \"estimate\", \"record_count\": 220000}, {\"institution\": \"Natural History Museum\", \"subcollection\": \"Entomology collections\", \"sector\": \"dcms\", \"type\": \"museum\", \"topic\": \"nature\", \"precision\": \"estimate\", \"record_count\": 34000000}, {\"institution\": \"Natural History Museum\", \"subcollection\": \"Botany collections\", \"sector\": \"dcms\", \"type\": \"museum\", \"topic\": \"nature\", \"precision\": \"estimate\", \"record_count\": 6000000}, {\"institution\": \"Natural History Museum\", \"subcollection\": \"Zooology collections\", \"sector\": \"dcms\", \"type\": \"museum\", \"topic\": \"nature\", \"precision\": \"estimate\", \"record_count\": 29000000}, {\"institution\": \"Natural History Museum\", \"subcollection\": \"Palaeontology collections\", \"sector\": \"dcms\", \"type\": \"museum\", \"topic\": \"nature\", \"precision\": \"estimate\", \"record_count\": 7000000}, {\"institution\": \"Natural History Museum\", \"subcollection\": \"Mineralogy collections\", \"sector\": \"dcms\", \"type\": \"museum\", \"topic\": \"nature\", \"precision\": \"estimate\", \"record_count\": 500000}, {\"institution\": \"Natural History Museum\", \"subcollection\": \"Library and archive collections\", \"sector\": \"dcms\", \"type\": \"library\", \"topic\": \"nature\", \"precision\": \"estimate\", \"record_count\": 1500000}, {\"institution\": \"Royal Armouries\", \"subcollection\": \"Museum Collection\", \"sector\": \"dcms\", \"type\": \"museum\", \"topic\": \"nature\", \"precision\": \"estimate\", \"record_count\": 65627}, {\"institution\": \"Sir John Soane's Museum\", \"subcollection\": \"Museum Collection\", \"sector\": \"dcms\", \"type\": \"museum\", \"topic\": \"nature\", \"precision\": \"estimate\", \"record_count\": 57164}, {\"institution\": \"Tate Gallery Group\", \"subcollection\": \"Museum Collection\", \"sector\": \"dcms\", \"type\": \"museum\", \"topic\": \"nature\", \"precision\": \"estimate\", \"record_count\": 79236}, {\"institution\": \"British Museum\", \"subcollection\": \"Museum Collection\", \"sector\": \"dcms\", \"type\": \"museum\", \"topic\": \"nature\", \"precision\": \"estimate\", \"record_count\": 2000000}, {\"institution\": \"Oxford University\", \"subcollection\": \"History of Science Museum\", \"sector\": \"university\", \"type\": \"museum\", \"topic\": \"science\", \"precision\": \"estimate\", \"record_count\": 21011}, {\"institution\": \"Oxford University\", \"subcollection\": \"Bodleian Library\", \"sector\": \"university\", \"type\": \"library\", \"topic\": \"national\", \"precision\": \"estimate\", \"record_count\": 8000000}, {\"institution\": \"Manchester Metropolitan Unversity\", \"subcollection\": \"Special Collections\", \"sector\": \"university\", \"type\": \"library\", \"topic\": \"mixed\", \"precision\": \"estimate\", \"record_count\": 28600}, {\"institution\": \"SOAS, University of London\", \"subcollection\": \"Special Collections\", \"sector\": \"university\", \"type\": \"library\", \"topic\": \"mixed\", \"precision\": \"estimate\", \"record_count\": 40337}, {\"institution\": \"University of Reading\", \"subcollection\": \"Library Collection\", \"sector\": \"university\", \"type\": \"library\", \"topic\": \"history\", \"precision\": \"estimate\", \"record_count\": 0}, {\"institution\": \"Lambeth Palace Library\", \"subcollection\": \"Sion College Collections\", \"sector\": \"library\", \"type\": \"library\", \"topic\": \"theology\", \"precision\": \"estimate\", \"record_count\": 15000}, {\"institution\": \"Victoria & Albert Museum\", \"subcollection\": \"National Art Library\", \"sector\": \"dcms\", \"type\": \"library\", \"topic\": \"art\", \"precision\": \"estimate\", \"record_count\": 849000}, {\"institution\": \"Museum of the Home\", \"subcollection\": \"Library Collection\", \"sector\": \"dcms\", \"type\": \"library\", \"topic\": \"history\", \"precision\": \"exact\", \"record_count\": 6290}, {\"institution\": \"Royal Armouries\", \"subcollection\": \"Library Collection\", \"sector\": \"dcms\", \"type\": \"library\", \"topic\": \"nature\", \"precision\": \"estimate\", \"record_count\": 65627}, {\"institution\": \"Sir John Soane's Museum\", \"subcollection\": \"Library Collection\", \"sector\": \"dcms\", \"type\": \"library\", \"topic\": \"nature\", \"precision\": \"estimate\", \"record_count\": 57164}, {\"institution\": \"Unversity of Warwick\", \"subcollection\": \"Modern Records Centre\", \"sector\": \"university\", \"type\": \"archive\", \"topic\": \"mixed\", \"precision\": \"exact\", \"record_count\": 367655}, {\"institution\": \"University of Reading\", \"subcollection\": \"Archive Collection\", \"sector\": \"university\", \"type\": \"archive\", \"topic\": \"history\", \"precision\": \"estimate\", \"record_count\": 186216}, {\"institution\": \"Victoria & Albert Museum\", \"subcollection\": \"Victoria & Albert Museum Archives\", \"sector\": \"dcms\", \"type\": \"archive\", \"topic\": \"art\", \"precision\": \"exact\", \"record_count\": 157054}, {\"institution\": \"Royal Armouries\", \"subcollection\": \"Archive Collection\", \"sector\": \"dcms\", \"type\": \"archive\", \"topic\": \"nature\", \"precision\": \"estimate\", \"record_count\": 130130}, {\"institution\": \"Sir John Soane's Museum\", \"subcollection\": \"Archive Collection\", \"sector\": \"dcms\", \"type\": \"archive\", \"topic\": \"nature\", \"precision\": \"estimate\", \"record_count\": 0}, {\"institution\": \"Tate Gallery Group\", \"subcollection\": \"Archive Collection\", \"sector\": \"dcms\", \"type\": \"archive\", \"topic\": \"nature\", \"precision\": \"estimate\", \"record_count\": 807060}]}}, {\"mode\": \"vega-lite\"});\n",
       "</script>"
      ],
      "text/plain": [
       "alt.Chart(...)"
      ]
     },
     "execution_count": 5,
     "metadata": {},
     "output_type": "execute_result"
    }
   ],
   "source": [
    "\n",
    "alt.Chart(records_data, width=60, height=alt.Step(8)).mark_bar().encode(\n",
    "    alt.Y(\"type:N\"),\n",
    "    alt.X(\"record_count:Q\"),\n",
    "    alt.Color(\"type:N\").title(\"settings\").legend(orient=\"bottom\", titleOrient=\"left\"),\n",
    "    alt.Row(\"institution:N\").title(\"Institution\").header(labelAngle=0, labelAlign='left' ),\n",
    "    alt.Column(\"subcollection:N\").title(\"Sub Collection\"),\n",
    ").configure(numberFormat='.2s')"
   ]
  },
  {
   "cell_type": "code",
   "execution_count": 6,
   "id": "89073ee0-2028-414e-a96f-51f19b3396b8",
   "metadata": {
    "editable": true,
    "slideshow": {
     "slide_type": ""
    },
    "tags": [
     "remove-input"
    ]
   },
   "outputs": [
    {
     "data": {
      "text/html": [
       "\n",
       "<style>\n",
       "  #altair-viz-e64a087a650d42ee9f35925819e1f0af.vega-embed {\n",
       "    width: 100%;\n",
       "    display: flex;\n",
       "  }\n",
       "\n",
       "  #altair-viz-e64a087a650d42ee9f35925819e1f0af.vega-embed details,\n",
       "  #altair-viz-e64a087a650d42ee9f35925819e1f0af.vega-embed details summary {\n",
       "    position: relative;\n",
       "  }\n",
       "</style>\n",
       "<div id=\"altair-viz-e64a087a650d42ee9f35925819e1f0af\"></div>\n",
       "<script type=\"text/javascript\">\n",
       "  var VEGA_DEBUG = (typeof VEGA_DEBUG == \"undefined\") ? {} : VEGA_DEBUG;\n",
       "  (function(spec, embedOpt){\n",
       "    let outputDiv = document.currentScript.previousElementSibling;\n",
       "    if (outputDiv.id !== \"altair-viz-e64a087a650d42ee9f35925819e1f0af\") {\n",
       "      outputDiv = document.getElementById(\"altair-viz-e64a087a650d42ee9f35925819e1f0af\");\n",
       "    }\n",
       "    const paths = {\n",
       "      \"vega\": \"https://cdn.jsdelivr.net/npm/vega@5?noext\",\n",
       "      \"vega-lib\": \"https://cdn.jsdelivr.net/npm/vega-lib?noext\",\n",
       "      \"vega-lite\": \"https://cdn.jsdelivr.net/npm/vega-lite@5.17.0?noext\",\n",
       "      \"vega-embed\": \"https://cdn.jsdelivr.net/npm/vega-embed@6?noext\",\n",
       "    };\n",
       "\n",
       "    function maybeLoadScript(lib, version) {\n",
       "      var key = `${lib.replace(\"-\", \"\")}_version`;\n",
       "      return (VEGA_DEBUG[key] == version) ?\n",
       "        Promise.resolve(paths[lib]) :\n",
       "        new Promise(function(resolve, reject) {\n",
       "          var s = document.createElement('script');\n",
       "          document.getElementsByTagName(\"head\")[0].appendChild(s);\n",
       "          s.async = true;\n",
       "          s.onload = () => {\n",
       "            VEGA_DEBUG[key] = version;\n",
       "            return resolve(paths[lib]);\n",
       "          };\n",
       "          s.onerror = () => reject(`Error loading script: ${paths[lib]}`);\n",
       "          s.src = paths[lib];\n",
       "        });\n",
       "    }\n",
       "\n",
       "    function showError(err) {\n",
       "      outputDiv.innerHTML = `<div class=\"error\" style=\"color:red;\">${err}</div>`;\n",
       "      throw err;\n",
       "    }\n",
       "\n",
       "    function displayChart(vegaEmbed) {\n",
       "      vegaEmbed(outputDiv, spec, embedOpt)\n",
       "        .catch(err => showError(`Javascript Error: ${err.message}<br>This usually means there's a typo in your chart specification. See the javascript console for the full traceback.`));\n",
       "    }\n",
       "\n",
       "    if(typeof define === \"function\" && define.amd) {\n",
       "      requirejs.config({paths});\n",
       "      require([\"vega-embed\"], displayChart, err => showError(`Error loading script: ${err.message}`));\n",
       "    } else {\n",
       "      maybeLoadScript(\"vega\", \"5\")\n",
       "        .then(() => maybeLoadScript(\"vega-lite\", \"5.17.0\"))\n",
       "        .then(() => maybeLoadScript(\"vega-embed\", \"6\"))\n",
       "        .catch(showError)\n",
       "        .then(() => displayChart(vegaEmbed));\n",
       "    }\n",
       "  })({\"config\": {\"view\": {\"continuousWidth\": 300, \"continuousHeight\": 300}}, \"data\": {\"name\": \"data-12b097995b6236260bf4e24f871dc0bb\"}, \"mark\": {\"type\": \"bar\"}, \"encoding\": {\"color\": {\"field\": \"institution\", \"type\": \"nominal\"}, \"column\": {\"field\": \"sector\", \"type\": \"nominal\"}, \"x\": {\"field\": \"record_count\", \"type\": \"quantitative\"}, \"y\": {\"field\": \"topic\", \"type\": \"nominal\"}}, \"resolve\": {\"scale\": {\"x\": \"independent\"}}, \"title\": {\"text\": \"Collection Size (Records) by topic\", \"anchor\": \"middle\"}, \"width\": 220, \"$schema\": \"https://vega.github.io/schema/vega-lite/v5.17.0.json\", \"datasets\": {\"data-12b097995b6236260bf4e24f871dc0bb\": [{\"institution\": \"Oxford University\", \"subcollection\": \"History of Science Museum\", \"sector\": \"university\", \"type\": \"museum\", \"topic\": \"science\", \"precision\": \"estimate\", \"record_count\": 33592}, {\"institution\": \"Oxford University\", \"subcollection\": \"Museum of Natural History\", \"sector\": \"university\", \"type\": \"museum\", \"topic\": \"nature\", \"precision\": \"estimate\", \"record_count\": 505745}, {\"institution\": \"Oxford University\", \"subcollection\": \"Pitt Rivers Museum\", \"sector\": \"university\", \"type\": \"museum\", \"topic\": \"anthopology\", \"precision\": \"estimate\", \"record_count\": 513107}, {\"institution\": \"Durham University\", \"subcollection\": \"Oriental Museum\", \"sector\": \"university\", \"type\": \"museum\", \"topic\": \"art\", \"precision\": \"estimate\", \"record_count\": 33234}, {\"institution\": \"University College London\", \"subcollection\": \"Petrie Museum\", \"sector\": \"university\", \"type\": \"museum\", \"topic\": \"history\", \"precision\": \"estimate\", \"record_count\": 83455}, {\"institution\": \"University College London\", \"subcollection\": \"UCL Art Museum\", \"sector\": \"university\", \"type\": \"museum\", \"topic\": \"art\", \"precision\": \"estimate\", \"record_count\": 10712}, {\"institution\": \"University College London\", \"subcollection\": \"UCL Pathology Collection\", \"sector\": \"university\", \"type\": \"museum\", \"topic\": \"medicine\", \"precision\": \"estimate\", \"record_count\": 8817}, {\"institution\": \"University College London\", \"subcollection\": \"UCL Pathology Collection\", \"sector\": \"university\", \"type\": \"museum\", \"topic\": \"science\", \"precision\": \"estimate\", \"record_count\": 1462}, {\"institution\": \"Glasgow Woman's Library\", \"subcollection\": \"Museum Collections\", \"sector\": \"library\", \"type\": \"museum\", \"topic\": \"mixed\", \"precision\": \"estimate\", \"record_count\": 3567}, {\"institution\": \"Victoria & Albert Museum\", \"subcollection\": \"Victoria & Albert Museum\", \"sector\": \"dcms\", \"type\": \"museum\", \"topic\": \"art\", \"precision\": \"exact\", \"record_count\": 1281326}, {\"institution\": \"Museum of the Home\", \"subcollection\": \"Museum of the Home\", \"sector\": \"dcms\", \"type\": \"museum\", \"topic\": \"history\", \"precision\": \"exact\", \"record_count\": 12200}, {\"institution\": \"Horniman Museum\", \"subcollection\": \"Museum Collection\", \"sector\": \"dcms\", \"type\": \"museum\", \"topic\": \"history\", \"precision\": \"estimate\", \"record_count\": 132612}, {\"institution\": \"Imperial War Museums\", \"subcollection\": \"Museum Collection\", \"sector\": \"dcms\", \"type\": \"museum\", \"topic\": \"history\", \"precision\": \"estimate\", \"record_count\": 1737698}, {\"institution\": \"National Gallery\", \"subcollection\": \"Museum Collection\", \"sector\": \"dcms\", \"type\": \"museum\", \"topic\": \"history\", \"precision\": \"estimate\", \"record_count\": 2626}, {\"institution\": \"National Museums Liverpool\", \"subcollection\": \"Museum Collection\", \"sector\": \"dcms\", \"type\": \"museum\", \"topic\": \"history\", \"precision\": \"estimate\", \"record_count\": 73682}, {\"institution\": \"National Portrait Gallery\", \"subcollection\": \"Museum Collection\", \"sector\": \"dcms\", \"type\": \"museum\", \"topic\": \"history\", \"precision\": \"estimate\", \"record_count\": 220000}, {\"institution\": \"Natural History Museum\", \"subcollection\": \"Entomology collections\", \"sector\": \"dcms\", \"type\": \"museum\", \"topic\": \"nature\", \"precision\": \"estimate\", \"record_count\": 34000000}, {\"institution\": \"Natural History Museum\", \"subcollection\": \"Botany collections\", \"sector\": \"dcms\", \"type\": \"museum\", \"topic\": \"nature\", \"precision\": \"estimate\", \"record_count\": 6000000}, {\"institution\": \"Natural History Museum\", \"subcollection\": \"Zooology collections\", \"sector\": \"dcms\", \"type\": \"museum\", \"topic\": \"nature\", \"precision\": \"estimate\", \"record_count\": 29000000}, {\"institution\": \"Natural History Museum\", \"subcollection\": \"Palaeontology collections\", \"sector\": \"dcms\", \"type\": \"museum\", \"topic\": \"nature\", \"precision\": \"estimate\", \"record_count\": 7000000}, {\"institution\": \"Natural History Museum\", \"subcollection\": \"Mineralogy collections\", \"sector\": \"dcms\", \"type\": \"museum\", \"topic\": \"nature\", \"precision\": \"estimate\", \"record_count\": 500000}, {\"institution\": \"Natural History Museum\", \"subcollection\": \"Library and archive collections\", \"sector\": \"dcms\", \"type\": \"library\", \"topic\": \"nature\", \"precision\": \"estimate\", \"record_count\": 1500000}, {\"institution\": \"Royal Armouries\", \"subcollection\": \"Museum Collection\", \"sector\": \"dcms\", \"type\": \"museum\", \"topic\": \"nature\", \"precision\": \"estimate\", \"record_count\": 65627}, {\"institution\": \"Sir John Soane's Museum\", \"subcollection\": \"Museum Collection\", \"sector\": \"dcms\", \"type\": \"museum\", \"topic\": \"nature\", \"precision\": \"estimate\", \"record_count\": 57164}, {\"institution\": \"Tate Gallery Group\", \"subcollection\": \"Museum Collection\", \"sector\": \"dcms\", \"type\": \"museum\", \"topic\": \"nature\", \"precision\": \"estimate\", \"record_count\": 79236}, {\"institution\": \"British Museum\", \"subcollection\": \"Museum Collection\", \"sector\": \"dcms\", \"type\": \"museum\", \"topic\": \"nature\", \"precision\": \"estimate\", \"record_count\": 2000000}, {\"institution\": \"Oxford University\", \"subcollection\": \"History of Science Museum\", \"sector\": \"university\", \"type\": \"museum\", \"topic\": \"science\", \"precision\": \"estimate\", \"record_count\": 21011}, {\"institution\": \"Oxford University\", \"subcollection\": \"Bodleian Library\", \"sector\": \"university\", \"type\": \"library\", \"topic\": \"national\", \"precision\": \"estimate\", \"record_count\": 8000000}, {\"institution\": \"Manchester Metropolitan Unversity\", \"subcollection\": \"Special Collections\", \"sector\": \"university\", \"type\": \"library\", \"topic\": \"mixed\", \"precision\": \"estimate\", \"record_count\": 28600}, {\"institution\": \"SOAS, University of London\", \"subcollection\": \"Special Collections\", \"sector\": \"university\", \"type\": \"library\", \"topic\": \"mixed\", \"precision\": \"estimate\", \"record_count\": 40337}, {\"institution\": \"University of Reading\", \"subcollection\": \"Library Collection\", \"sector\": \"university\", \"type\": \"library\", \"topic\": \"history\", \"precision\": \"estimate\", \"record_count\": 0}, {\"institution\": \"Lambeth Palace Library\", \"subcollection\": \"Sion College Collections\", \"sector\": \"library\", \"type\": \"library\", \"topic\": \"theology\", \"precision\": \"estimate\", \"record_count\": 15000}, {\"institution\": \"Victoria & Albert Museum\", \"subcollection\": \"National Art Library\", \"sector\": \"dcms\", \"type\": \"library\", \"topic\": \"art\", \"precision\": \"estimate\", \"record_count\": 849000}, {\"institution\": \"Museum of the Home\", \"subcollection\": \"Library Collection\", \"sector\": \"dcms\", \"type\": \"library\", \"topic\": \"history\", \"precision\": \"exact\", \"record_count\": 6290}, {\"institution\": \"Royal Armouries\", \"subcollection\": \"Library Collection\", \"sector\": \"dcms\", \"type\": \"library\", \"topic\": \"nature\", \"precision\": \"estimate\", \"record_count\": 65627}, {\"institution\": \"Sir John Soane's Museum\", \"subcollection\": \"Library Collection\", \"sector\": \"dcms\", \"type\": \"library\", \"topic\": \"nature\", \"precision\": \"estimate\", \"record_count\": 57164}, {\"institution\": \"Unversity of Warwick\", \"subcollection\": \"Modern Records Centre\", \"sector\": \"university\", \"type\": \"archive\", \"topic\": \"mixed\", \"precision\": \"exact\", \"record_count\": 367655}, {\"institution\": \"University of Reading\", \"subcollection\": \"Archive Collection\", \"sector\": \"university\", \"type\": \"archive\", \"topic\": \"history\", \"precision\": \"estimate\", \"record_count\": 186216}, {\"institution\": \"Victoria & Albert Museum\", \"subcollection\": \"Victoria & Albert Museum Archives\", \"sector\": \"dcms\", \"type\": \"archive\", \"topic\": \"art\", \"precision\": \"exact\", \"record_count\": 157054}, {\"institution\": \"Royal Armouries\", \"subcollection\": \"Archive Collection\", \"sector\": \"dcms\", \"type\": \"archive\", \"topic\": \"nature\", \"precision\": \"estimate\", \"record_count\": 130130}, {\"institution\": \"Sir John Soane's Museum\", \"subcollection\": \"Archive Collection\", \"sector\": \"dcms\", \"type\": \"archive\", \"topic\": \"nature\", \"precision\": \"estimate\", \"record_count\": 0}, {\"institution\": \"Tate Gallery Group\", \"subcollection\": \"Archive Collection\", \"sector\": \"dcms\", \"type\": \"archive\", \"topic\": \"nature\", \"precision\": \"estimate\", \"record_count\": 807060}]}}, {\"mode\": \"vega-lite\"});\n",
       "</script>"
      ],
      "text/plain": [
       "alt.Chart(...)"
      ]
     },
     "execution_count": 6,
     "metadata": {},
     "output_type": "execute_result"
    }
   ],
   "source": [
    "title = alt.TitleParams('Collection Size (Records) by topic', anchor='middle')\n",
    "alt.Chart(records_data,title=title).mark_bar().encode(\n",
    "    x='record_count:Q',\n",
    "    y='topic:N',\n",
    "    color='institution:N',\n",
    "    column='sector'\n",
    ").properties(width=220).resolve_scale(x='independent')"
   ]
  },
  {
   "cell_type": "code",
   "execution_count": 7,
   "id": "f3d67ee1-989d-4883-8137-715e6c40f660",
   "metadata": {
    "editable": true,
    "slideshow": {
     "slide_type": ""
    },
    "tags": [
     "remove-input"
    ]
   },
   "outputs": [
    {
     "data": {
      "text/html": [
       "\n",
       "<style>\n",
       "  #altair-viz-82366361dd294de296d8136804a2e402.vega-embed {\n",
       "    width: 100%;\n",
       "    display: flex;\n",
       "  }\n",
       "\n",
       "  #altair-viz-82366361dd294de296d8136804a2e402.vega-embed details,\n",
       "  #altair-viz-82366361dd294de296d8136804a2e402.vega-embed details summary {\n",
       "    position: relative;\n",
       "  }\n",
       "</style>\n",
       "<div id=\"altair-viz-82366361dd294de296d8136804a2e402\"></div>\n",
       "<script type=\"text/javascript\">\n",
       "  var VEGA_DEBUG = (typeof VEGA_DEBUG == \"undefined\") ? {} : VEGA_DEBUG;\n",
       "  (function(spec, embedOpt){\n",
       "    let outputDiv = document.currentScript.previousElementSibling;\n",
       "    if (outputDiv.id !== \"altair-viz-82366361dd294de296d8136804a2e402\") {\n",
       "      outputDiv = document.getElementById(\"altair-viz-82366361dd294de296d8136804a2e402\");\n",
       "    }\n",
       "    const paths = {\n",
       "      \"vega\": \"https://cdn.jsdelivr.net/npm/vega@5?noext\",\n",
       "      \"vega-lib\": \"https://cdn.jsdelivr.net/npm/vega-lib?noext\",\n",
       "      \"vega-lite\": \"https://cdn.jsdelivr.net/npm/vega-lite@5.17.0?noext\",\n",
       "      \"vega-embed\": \"https://cdn.jsdelivr.net/npm/vega-embed@6?noext\",\n",
       "    };\n",
       "\n",
       "    function maybeLoadScript(lib, version) {\n",
       "      var key = `${lib.replace(\"-\", \"\")}_version`;\n",
       "      return (VEGA_DEBUG[key] == version) ?\n",
       "        Promise.resolve(paths[lib]) :\n",
       "        new Promise(function(resolve, reject) {\n",
       "          var s = document.createElement('script');\n",
       "          document.getElementsByTagName(\"head\")[0].appendChild(s);\n",
       "          s.async = true;\n",
       "          s.onload = () => {\n",
       "            VEGA_DEBUG[key] = version;\n",
       "            return resolve(paths[lib]);\n",
       "          };\n",
       "          s.onerror = () => reject(`Error loading script: ${paths[lib]}`);\n",
       "          s.src = paths[lib];\n",
       "        });\n",
       "    }\n",
       "\n",
       "    function showError(err) {\n",
       "      outputDiv.innerHTML = `<div class=\"error\" style=\"color:red;\">${err}</div>`;\n",
       "      throw err;\n",
       "    }\n",
       "\n",
       "    function displayChart(vegaEmbed) {\n",
       "      vegaEmbed(outputDiv, spec, embedOpt)\n",
       "        .catch(err => showError(`Javascript Error: ${err.message}<br>This usually means there's a typo in your chart specification. See the javascript console for the full traceback.`));\n",
       "    }\n",
       "\n",
       "    if(typeof define === \"function\" && define.amd) {\n",
       "      requirejs.config({paths});\n",
       "      require([\"vega-embed\"], displayChart, err => showError(`Error loading script: ${err.message}`));\n",
       "    } else {\n",
       "      maybeLoadScript(\"vega\", \"5\")\n",
       "        .then(() => maybeLoadScript(\"vega-lite\", \"5.17.0\"))\n",
       "        .then(() => maybeLoadScript(\"vega-embed\", \"6\"))\n",
       "        .catch(showError)\n",
       "        .then(() => displayChart(vegaEmbed));\n",
       "    }\n",
       "  })({\"config\": {\"view\": {\"continuousWidth\": 300, \"continuousHeight\": 300}}, \"data\": {\"name\": \"data-12b097995b6236260bf4e24f871dc0bb\"}, \"mark\": {\"type\": \"bar\"}, \"encoding\": {\"color\": {\"field\": \"institution\", \"sort\": \"descending\", \"type\": \"nominal\"}, \"column\": {\"field\": \"precision\", \"type\": \"ordinal\"}, \"x\": {\"field\": \"record_count\", \"type\": \"quantitative\"}, \"y\": {\"field\": \"topic\", \"type\": \"nominal\"}}, \"resolve\": {\"scale\": {\"x\": \"independent\"}}, \"title\": {\"text\": \"Collection Size (Records) by precision\", \"anchor\": \"middle\"}, \"width\": 220, \"$schema\": \"https://vega.github.io/schema/vega-lite/v5.17.0.json\", \"datasets\": {\"data-12b097995b6236260bf4e24f871dc0bb\": [{\"institution\": \"Oxford University\", \"subcollection\": \"History of Science Museum\", \"sector\": \"university\", \"type\": \"museum\", \"topic\": \"science\", \"precision\": \"estimate\", \"record_count\": 33592}, {\"institution\": \"Oxford University\", \"subcollection\": \"Museum of Natural History\", \"sector\": \"university\", \"type\": \"museum\", \"topic\": \"nature\", \"precision\": \"estimate\", \"record_count\": 505745}, {\"institution\": \"Oxford University\", \"subcollection\": \"Pitt Rivers Museum\", \"sector\": \"university\", \"type\": \"museum\", \"topic\": \"anthopology\", \"precision\": \"estimate\", \"record_count\": 513107}, {\"institution\": \"Durham University\", \"subcollection\": \"Oriental Museum\", \"sector\": \"university\", \"type\": \"museum\", \"topic\": \"art\", \"precision\": \"estimate\", \"record_count\": 33234}, {\"institution\": \"University College London\", \"subcollection\": \"Petrie Museum\", \"sector\": \"university\", \"type\": \"museum\", \"topic\": \"history\", \"precision\": \"estimate\", \"record_count\": 83455}, {\"institution\": \"University College London\", \"subcollection\": \"UCL Art Museum\", \"sector\": \"university\", \"type\": \"museum\", \"topic\": \"art\", \"precision\": \"estimate\", \"record_count\": 10712}, {\"institution\": \"University College London\", \"subcollection\": \"UCL Pathology Collection\", \"sector\": \"university\", \"type\": \"museum\", \"topic\": \"medicine\", \"precision\": \"estimate\", \"record_count\": 8817}, {\"institution\": \"University College London\", \"subcollection\": \"UCL Pathology Collection\", \"sector\": \"university\", \"type\": \"museum\", \"topic\": \"science\", \"precision\": \"estimate\", \"record_count\": 1462}, {\"institution\": \"Glasgow Woman's Library\", \"subcollection\": \"Museum Collections\", \"sector\": \"library\", \"type\": \"museum\", \"topic\": \"mixed\", \"precision\": \"estimate\", \"record_count\": 3567}, {\"institution\": \"Victoria & Albert Museum\", \"subcollection\": \"Victoria & Albert Museum\", \"sector\": \"dcms\", \"type\": \"museum\", \"topic\": \"art\", \"precision\": \"exact\", \"record_count\": 1281326}, {\"institution\": \"Museum of the Home\", \"subcollection\": \"Museum of the Home\", \"sector\": \"dcms\", \"type\": \"museum\", \"topic\": \"history\", \"precision\": \"exact\", \"record_count\": 12200}, {\"institution\": \"Horniman Museum\", \"subcollection\": \"Museum Collection\", \"sector\": \"dcms\", \"type\": \"museum\", \"topic\": \"history\", \"precision\": \"estimate\", \"record_count\": 132612}, {\"institution\": \"Imperial War Museums\", \"subcollection\": \"Museum Collection\", \"sector\": \"dcms\", \"type\": \"museum\", \"topic\": \"history\", \"precision\": \"estimate\", \"record_count\": 1737698}, {\"institution\": \"National Gallery\", \"subcollection\": \"Museum Collection\", \"sector\": \"dcms\", \"type\": \"museum\", \"topic\": \"history\", \"precision\": \"estimate\", \"record_count\": 2626}, {\"institution\": \"National Museums Liverpool\", \"subcollection\": \"Museum Collection\", \"sector\": \"dcms\", \"type\": \"museum\", \"topic\": \"history\", \"precision\": \"estimate\", \"record_count\": 73682}, {\"institution\": \"National Portrait Gallery\", \"subcollection\": \"Museum Collection\", \"sector\": \"dcms\", \"type\": \"museum\", \"topic\": \"history\", \"precision\": \"estimate\", \"record_count\": 220000}, {\"institution\": \"Natural History Museum\", \"subcollection\": \"Entomology collections\", \"sector\": \"dcms\", \"type\": \"museum\", \"topic\": \"nature\", \"precision\": \"estimate\", \"record_count\": 34000000}, {\"institution\": \"Natural History Museum\", \"subcollection\": \"Botany collections\", \"sector\": \"dcms\", \"type\": \"museum\", \"topic\": \"nature\", \"precision\": \"estimate\", \"record_count\": 6000000}, {\"institution\": \"Natural History Museum\", \"subcollection\": \"Zooology collections\", \"sector\": \"dcms\", \"type\": \"museum\", \"topic\": \"nature\", \"precision\": \"estimate\", \"record_count\": 29000000}, {\"institution\": \"Natural History Museum\", \"subcollection\": \"Palaeontology collections\", \"sector\": \"dcms\", \"type\": \"museum\", \"topic\": \"nature\", \"precision\": \"estimate\", \"record_count\": 7000000}, {\"institution\": \"Natural History Museum\", \"subcollection\": \"Mineralogy collections\", \"sector\": \"dcms\", \"type\": \"museum\", \"topic\": \"nature\", \"precision\": \"estimate\", \"record_count\": 500000}, {\"institution\": \"Natural History Museum\", \"subcollection\": \"Library and archive collections\", \"sector\": \"dcms\", \"type\": \"library\", \"topic\": \"nature\", \"precision\": \"estimate\", \"record_count\": 1500000}, {\"institution\": \"Royal Armouries\", \"subcollection\": \"Museum Collection\", \"sector\": \"dcms\", \"type\": \"museum\", \"topic\": \"nature\", \"precision\": \"estimate\", \"record_count\": 65627}, {\"institution\": \"Sir John Soane's Museum\", \"subcollection\": \"Museum Collection\", \"sector\": \"dcms\", \"type\": \"museum\", \"topic\": \"nature\", \"precision\": \"estimate\", \"record_count\": 57164}, {\"institution\": \"Tate Gallery Group\", \"subcollection\": \"Museum Collection\", \"sector\": \"dcms\", \"type\": \"museum\", \"topic\": \"nature\", \"precision\": \"estimate\", \"record_count\": 79236}, {\"institution\": \"British Museum\", \"subcollection\": \"Museum Collection\", \"sector\": \"dcms\", \"type\": \"museum\", \"topic\": \"nature\", \"precision\": \"estimate\", \"record_count\": 2000000}, {\"institution\": \"Oxford University\", \"subcollection\": \"History of Science Museum\", \"sector\": \"university\", \"type\": \"museum\", \"topic\": \"science\", \"precision\": \"estimate\", \"record_count\": 21011}, {\"institution\": \"Oxford University\", \"subcollection\": \"Bodleian Library\", \"sector\": \"university\", \"type\": \"library\", \"topic\": \"national\", \"precision\": \"estimate\", \"record_count\": 8000000}, {\"institution\": \"Manchester Metropolitan Unversity\", \"subcollection\": \"Special Collections\", \"sector\": \"university\", \"type\": \"library\", \"topic\": \"mixed\", \"precision\": \"estimate\", \"record_count\": 28600}, {\"institution\": \"SOAS, University of London\", \"subcollection\": \"Special Collections\", \"sector\": \"university\", \"type\": \"library\", \"topic\": \"mixed\", \"precision\": \"estimate\", \"record_count\": 40337}, {\"institution\": \"University of Reading\", \"subcollection\": \"Library Collection\", \"sector\": \"university\", \"type\": \"library\", \"topic\": \"history\", \"precision\": \"estimate\", \"record_count\": 0}, {\"institution\": \"Lambeth Palace Library\", \"subcollection\": \"Sion College Collections\", \"sector\": \"library\", \"type\": \"library\", \"topic\": \"theology\", \"precision\": \"estimate\", \"record_count\": 15000}, {\"institution\": \"Victoria & Albert Museum\", \"subcollection\": \"National Art Library\", \"sector\": \"dcms\", \"type\": \"library\", \"topic\": \"art\", \"precision\": \"estimate\", \"record_count\": 849000}, {\"institution\": \"Museum of the Home\", \"subcollection\": \"Library Collection\", \"sector\": \"dcms\", \"type\": \"library\", \"topic\": \"history\", \"precision\": \"exact\", \"record_count\": 6290}, {\"institution\": \"Royal Armouries\", \"subcollection\": \"Library Collection\", \"sector\": \"dcms\", \"type\": \"library\", \"topic\": \"nature\", \"precision\": \"estimate\", \"record_count\": 65627}, {\"institution\": \"Sir John Soane's Museum\", \"subcollection\": \"Library Collection\", \"sector\": \"dcms\", \"type\": \"library\", \"topic\": \"nature\", \"precision\": \"estimate\", \"record_count\": 57164}, {\"institution\": \"Unversity of Warwick\", \"subcollection\": \"Modern Records Centre\", \"sector\": \"university\", \"type\": \"archive\", \"topic\": \"mixed\", \"precision\": \"exact\", \"record_count\": 367655}, {\"institution\": \"University of Reading\", \"subcollection\": \"Archive Collection\", \"sector\": \"university\", \"type\": \"archive\", \"topic\": \"history\", \"precision\": \"estimate\", \"record_count\": 186216}, {\"institution\": \"Victoria & Albert Museum\", \"subcollection\": \"Victoria & Albert Museum Archives\", \"sector\": \"dcms\", \"type\": \"archive\", \"topic\": \"art\", \"precision\": \"exact\", \"record_count\": 157054}, {\"institution\": \"Royal Armouries\", \"subcollection\": \"Archive Collection\", \"sector\": \"dcms\", \"type\": \"archive\", \"topic\": \"nature\", \"precision\": \"estimate\", \"record_count\": 130130}, {\"institution\": \"Sir John Soane's Museum\", \"subcollection\": \"Archive Collection\", \"sector\": \"dcms\", \"type\": \"archive\", \"topic\": \"nature\", \"precision\": \"estimate\", \"record_count\": 0}, {\"institution\": \"Tate Gallery Group\", \"subcollection\": \"Archive Collection\", \"sector\": \"dcms\", \"type\": \"archive\", \"topic\": \"nature\", \"precision\": \"estimate\", \"record_count\": 807060}]}}, {\"mode\": \"vega-lite\"});\n",
       "</script>"
      ],
      "text/plain": [
       "alt.Chart(...)"
      ]
     },
     "execution_count": 7,
     "metadata": {},
     "output_type": "execute_result"
    }
   ],
   "source": [
    "title = alt.TitleParams('Collection Size (Records) by precision', anchor='middle')\n",
    "alt.Chart(records_data, title=title).mark_bar().encode(\n",
    "    column='precision:O',\n",
    "    x='record_count:Q',\n",
    "    y='topic:N',\n",
    "    color=alt.Color('institution:N', sort='descending')\n",
    ").properties(width=220).resolve_scale(x='independent')"
   ]
  },
  {
   "cell_type": "code",
   "execution_count": null,
   "id": "06f886a5-2967-4b4a-ba82-3c39d3c195e4",
   "metadata": {
    "editable": true,
    "slideshow": {
     "slide_type": ""
    },
    "tags": []
   },
   "outputs": [],
   "source": []
  }
 ],
 "metadata": {
  "kernelspec": {
   "display_name": "Python 3 (ipykernel)",
   "language": "python",
   "name": "python3"
  },
  "language_info": {
   "codemirror_mode": {
    "name": "ipython",
    "version": 3
   },
   "file_extension": ".py",
   "mimetype": "text/x-python",
   "name": "python",
   "nbconvert_exporter": "python",
   "pygments_lexer": "ipython3",
   "version": "3.9.18"
  }
 },
 "nbformat": 4,
 "nbformat_minor": 5
}
