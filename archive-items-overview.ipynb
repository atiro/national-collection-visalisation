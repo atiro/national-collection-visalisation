{
 "cells": [
  {
   "cell_type": "code",
   "execution_count": 8,
   "id": "bc077a0d-3cac-4f63-8b00-fa6d878fe2a7",
   "metadata": {
    "editable": true,
    "slideshow": {
     "slide_type": ""
    },
    "tags": [
     "remove-cell"
    ]
   },
   "outputs": [],
   "source": [
    "import pandas as pd\n",
    "import altair as alt\n",
    "artefacts_type_df = pd.read_csv(\"artefacts-type-overview-stats.csv\")\n",
    "\n",
    "archive_artefacts_df = artefacts_type_df.query('type == \"archive\"')\n",
    "\n",
    "# Filter out zero ones as no point showing them (and also indicates we don't have stats)\n",
    "\n",
    "archive_artefacts_df = archive_artefacts_df[archive_artefacts_df['artefact_count'] > 0]\n",
    "\n"
   ]
  },
  {
   "cell_type": "markdown",
   "id": "e69b7740-50d5-483c-bf12-37b833d9ca4d",
   "metadata": {
    "editable": true,
    "slideshow": {
     "slide_type": ""
    },
    "tags": []
   },
   "source": [
    "# Archive Items/Collections Overview\n",
    "\n",
    "NOT CORRECT AT ALL - not handling items/collections distiction correctly/consistently/meaningfully yet."
   ]
  },
  {
   "cell_type": "code",
   "execution_count": 9,
   "id": "b4f7dc17-0b26-4596-8c9b-f5cd5c5f1dab",
   "metadata": {
    "editable": true,
    "slideshow": {
     "slide_type": ""
    },
    "tags": [
     "remove-input"
    ]
   },
   "outputs": [
    {
     "data": {
      "text/html": [
       "\n",
       "<style>\n",
       "  #altair-viz-c16f9d63bcd64539916a1e090fef2854.vega-embed {\n",
       "    width: 100%;\n",
       "    display: flex;\n",
       "  }\n",
       "\n",
       "  #altair-viz-c16f9d63bcd64539916a1e090fef2854.vega-embed details,\n",
       "  #altair-viz-c16f9d63bcd64539916a1e090fef2854.vega-embed details summary {\n",
       "    position: relative;\n",
       "  }\n",
       "</style>\n",
       "<div id=\"altair-viz-c16f9d63bcd64539916a1e090fef2854\"></div>\n",
       "<script type=\"text/javascript\">\n",
       "  var VEGA_DEBUG = (typeof VEGA_DEBUG == \"undefined\") ? {} : VEGA_DEBUG;\n",
       "  (function(spec, embedOpt){\n",
       "    let outputDiv = document.currentScript.previousElementSibling;\n",
       "    if (outputDiv.id !== \"altair-viz-c16f9d63bcd64539916a1e090fef2854\") {\n",
       "      outputDiv = document.getElementById(\"altair-viz-c16f9d63bcd64539916a1e090fef2854\");\n",
       "    }\n",
       "    const paths = {\n",
       "      \"vega\": \"https://cdn.jsdelivr.net/npm/vega@5?noext\",\n",
       "      \"vega-lib\": \"https://cdn.jsdelivr.net/npm/vega-lib?noext\",\n",
       "      \"vega-lite\": \"https://cdn.jsdelivr.net/npm/vega-lite@5.17.0?noext\",\n",
       "      \"vega-embed\": \"https://cdn.jsdelivr.net/npm/vega-embed@6?noext\",\n",
       "    };\n",
       "\n",
       "    function maybeLoadScript(lib, version) {\n",
       "      var key = `${lib.replace(\"-\", \"\")}_version`;\n",
       "      return (VEGA_DEBUG[key] == version) ?\n",
       "        Promise.resolve(paths[lib]) :\n",
       "        new Promise(function(resolve, reject) {\n",
       "          var s = document.createElement('script');\n",
       "          document.getElementsByTagName(\"head\")[0].appendChild(s);\n",
       "          s.async = true;\n",
       "          s.onload = () => {\n",
       "            VEGA_DEBUG[key] = version;\n",
       "            return resolve(paths[lib]);\n",
       "          };\n",
       "          s.onerror = () => reject(`Error loading script: ${paths[lib]}`);\n",
       "          s.src = paths[lib];\n",
       "        });\n",
       "    }\n",
       "\n",
       "    function showError(err) {\n",
       "      outputDiv.innerHTML = `<div class=\"error\" style=\"color:red;\">${err}</div>`;\n",
       "      throw err;\n",
       "    }\n",
       "\n",
       "    function displayChart(vegaEmbed) {\n",
       "      vegaEmbed(outputDiv, spec, embedOpt)\n",
       "        .catch(err => showError(`Javascript Error: ${err.message}<br>This usually means there's a typo in your chart specification. See the javascript console for the full traceback.`));\n",
       "    }\n",
       "\n",
       "    if(typeof define === \"function\" && define.amd) {\n",
       "      requirejs.config({paths});\n",
       "      require([\"vega-embed\"], displayChart, err => showError(`Error loading script: ${err.message}`));\n",
       "    } else {\n",
       "      maybeLoadScript(\"vega\", \"5\")\n",
       "        .then(() => maybeLoadScript(\"vega-lite\", \"5.17.0\"))\n",
       "        .then(() => maybeLoadScript(\"vega-embed\", \"6\"))\n",
       "        .catch(showError)\n",
       "        .then(() => displayChart(vegaEmbed));\n",
       "    }\n",
       "  })({\"config\": {\"view\": {\"continuousWidth\": 300, \"continuousHeight\": 300}, \"numberFormat\": \".2s\"}, \"data\": {\"name\": \"data-107992de49595b15fb76f14b199eb611\"}, \"mark\": {\"type\": \"bar\"}, \"encoding\": {\"column\": {\"field\": \"level\", \"type\": \"nominal\"}, \"x\": {\"field\": \"artefact_count\", \"type\": \"quantitative\"}, \"y\": {\"field\": \"institution\", \"type\": \"nominal\"}}, \"resolve\": {\"scale\": {\"x\": \"independent\"}}, \"width\": 200, \"$schema\": \"https://vega.github.io/schema/vega-lite/v5.17.0.json\", \"datasets\": {\"data-107992de49595b15fb76f14b199eb611\": [{\"institution\": \"Oxford University\", \"sector\": \"archive\", \"institution_type\": \"university\", \"topic\": \"mixed\", \"type\": \"archive\", \"level\": \"item\", \"precision\": \"estimate\", \"artefact_count\": 5000000}, {\"institution\": \"Bangor University\", \"sector\": \"archive\", \"institution_type\": \"university\", \"topic\": \"mixed\", \"type\": \"archive\", \"level\": \"collection\", \"precision\": \"estimate\", \"artefact_count\": 98}, {\"institution\": \"University of York\", \"sector\": \"archive\", \"institution_type\": \"university\", \"topic\": \"mixed\", \"type\": \"archive\", \"level\": \"item\", \"precision\": \"estimate\", \"artefact_count\": 132370}, {\"institution\": \"University of Birmingham\", \"sector\": \"archive\", \"institution_type\": \"university\", \"topic\": \"mixed\", \"type\": \"archive\", \"level\": \"item\", \"precision\": \"estimate\", \"artefact_count\": 4000000}, {\"institution\": \"Historic England Archive\", \"sector\": \"archive\", \"institution_type\": \"archive\", \"topic\": \"heritage\", \"type\": \"archive\", \"level\": \"item\", \"precision\": \"estimate\", \"artefact_count\": 12000000}, {\"institution\": \"Historic Environment\", \"sector\": \"archive\", \"institution_type\": \"archive\", \"topic\": \"heritage\", \"type\": \"archive\", \"level\": \"item\", \"precision\": \"estimate\", \"artefact_count\": 12000000}, {\"institution\": \"Kresen Kernow\", \"sector\": \"archive\", \"institution_type\": \"archive\", \"topic\": \"mixed\", \"type\": \"archive\", \"level\": \"item\", \"precision\": \"estimate\", \"artefact_count\": 1000000}, {\"institution\": \"Royal Commision on Ancient and Historic Monuments of Wales\", \"sector\": \"archive\", \"institution_type\": \"archive\", \"topic\": \"archeology\", \"type\": \"archive\", \"level\": \"item\", \"precision\": \"estimate\", \"artefact_count\": 2000000}, {\"institution\": \"Bradford District Museums & Galleries\", \"sector\": \"archive\", \"institution_type\": \"museum\", \"topic\": \"mixed\", \"type\": \"archive\", \"level\": \"item\", \"precision\": \"estimate\", \"artefact_count\": 450000}, {\"institution\": \"Culture Coventry\", \"sector\": \"archive\", \"institution_type\": \"museum\", \"topic\": \"mixed\", \"type\": \"archive\", \"level\": \"item\", \"precision\": \"estimate\", \"artefact_count\": 1000000}, {\"institution\": \"Culture Trust Luton\", \"sector\": \"archive\", \"institution_type\": \"museum\", \"topic\": \"mixed\", \"type\": \"archive\", \"level\": \"item\", \"precision\": \"estimate\", \"artefact_count\": 1100000}, {\"institution\": \"Northern Ireland Screen\", \"sector\": \"archive\", \"institution_type\": \"archive\", \"topic\": \"media\", \"type\": \"archive\", \"level\": \"collection\", \"precision\": \"estimate\", \"artefact_count\": 47}]}}, {\"mode\": \"vega-lite\"});\n",
       "</script>"
      ],
      "text/plain": [
       "alt.Chart(...)"
      ]
     },
     "execution_count": 9,
     "metadata": {},
     "output_type": "execute_result"
    }
   ],
   "source": [
    "title = alt.TitleParams('Archive Items/Collections by topic & type', anchor='middle')\n",
    "alt.Chart(archive_artefacts_df).mark_bar().encode(\n",
    "    x='artefact_count',\n",
    "    y='institution',\n",
    "    column='level'\n",
    ").resolve_scale(x='independent').properties(width=200).configure(numberFormat='.2s')\n"
   ]
  },
  {
   "cell_type": "code",
   "execution_count": 5,
   "id": "89073ee0-2028-414e-a96f-51f19b3396b8",
   "metadata": {
    "editable": true,
    "slideshow": {
     "slide_type": ""
    },
    "tags": [
     "remove-input"
    ]
   },
   "outputs": [
    {
     "data": {
      "text/html": [
       "\n",
       "<style>\n",
       "  #altair-viz-ce824e138ab149779939de82a1c379fc.vega-embed {\n",
       "    width: 100%;\n",
       "    display: flex;\n",
       "  }\n",
       "\n",
       "  #altair-viz-ce824e138ab149779939de82a1c379fc.vega-embed details,\n",
       "  #altair-viz-ce824e138ab149779939de82a1c379fc.vega-embed details summary {\n",
       "    position: relative;\n",
       "  }\n",
       "</style>\n",
       "<div id=\"altair-viz-ce824e138ab149779939de82a1c379fc\"></div>\n",
       "<script type=\"text/javascript\">\n",
       "  var VEGA_DEBUG = (typeof VEGA_DEBUG == \"undefined\") ? {} : VEGA_DEBUG;\n",
       "  (function(spec, embedOpt){\n",
       "    let outputDiv = document.currentScript.previousElementSibling;\n",
       "    if (outputDiv.id !== \"altair-viz-ce824e138ab149779939de82a1c379fc\") {\n",
       "      outputDiv = document.getElementById(\"altair-viz-ce824e138ab149779939de82a1c379fc\");\n",
       "    }\n",
       "    const paths = {\n",
       "      \"vega\": \"https://cdn.jsdelivr.net/npm/vega@5?noext\",\n",
       "      \"vega-lib\": \"https://cdn.jsdelivr.net/npm/vega-lib?noext\",\n",
       "      \"vega-lite\": \"https://cdn.jsdelivr.net/npm/vega-lite@5.17.0?noext\",\n",
       "      \"vega-embed\": \"https://cdn.jsdelivr.net/npm/vega-embed@6?noext\",\n",
       "    };\n",
       "\n",
       "    function maybeLoadScript(lib, version) {\n",
       "      var key = `${lib.replace(\"-\", \"\")}_version`;\n",
       "      return (VEGA_DEBUG[key] == version) ?\n",
       "        Promise.resolve(paths[lib]) :\n",
       "        new Promise(function(resolve, reject) {\n",
       "          var s = document.createElement('script');\n",
       "          document.getElementsByTagName(\"head\")[0].appendChild(s);\n",
       "          s.async = true;\n",
       "          s.onload = () => {\n",
       "            VEGA_DEBUG[key] = version;\n",
       "            return resolve(paths[lib]);\n",
       "          };\n",
       "          s.onerror = () => reject(`Error loading script: ${paths[lib]}`);\n",
       "          s.src = paths[lib];\n",
       "        });\n",
       "    }\n",
       "\n",
       "    function showError(err) {\n",
       "      outputDiv.innerHTML = `<div class=\"error\" style=\"color:red;\">${err}</div>`;\n",
       "      throw err;\n",
       "    }\n",
       "\n",
       "    function displayChart(vegaEmbed) {\n",
       "      vegaEmbed(outputDiv, spec, embedOpt)\n",
       "        .catch(err => showError(`Javascript Error: ${err.message}<br>This usually means there's a typo in your chart specification. See the javascript console for the full traceback.`));\n",
       "    }\n",
       "\n",
       "    if(typeof define === \"function\" && define.amd) {\n",
       "      requirejs.config({paths});\n",
       "      require([\"vega-embed\"], displayChart, err => showError(`Error loading script: ${err.message}`));\n",
       "    } else {\n",
       "      maybeLoadScript(\"vega\", \"5\")\n",
       "        .then(() => maybeLoadScript(\"vega-lite\", \"5.17.0\"))\n",
       "        .then(() => maybeLoadScript(\"vega-embed\", \"6\"))\n",
       "        .catch(showError)\n",
       "        .then(() => displayChart(vegaEmbed));\n",
       "    }\n",
       "  })({\"config\": {\"view\": {\"continuousWidth\": 300, \"continuousHeight\": 300}, \"numberFormat\": \".2s\"}, \"data\": {\"name\": \"data-2bea168b8a82b140718ec268ae905cc1\"}, \"mark\": {\"type\": \"bar\"}, \"encoding\": {\"color\": {\"field\": \"institution\", \"legend\": {\"orient\": \"bottom\", \"columns\": 4, \"titleOrient\": \"left\"}, \"type\": \"nominal\"}, \"column\": {\"field\": \"level\", \"type\": \"nominal\"}, \"tooltip\": {\"field\": \"institution\", \"type\": \"nominal\"}, \"x\": {\"field\": \"artefact_count\", \"type\": \"quantitative\"}, \"y\": {\"field\": \"topic\", \"type\": \"nominal\"}}, \"title\": {\"text\": \"Archive Items/Collections by topic & type\", \"anchor\": \"middle\"}, \"width\": 200, \"$schema\": \"https://vega.github.io/schema/vega-lite/v5.17.0.json\", \"datasets\": {\"data-2bea168b8a82b140718ec268ae905cc1\": [{\"institution\": \"Oxford University\", \"sector\": \"archive\", \"institution_type\": \"university\", \"topic\": \"mixed\", \"type\": \"archive\", \"level\": \"item\", \"precision\": \"estimate\", \"artefact_count\": 5000000}, {\"institution\": \"Bangor University\", \"sector\": \"archive\", \"institution_type\": \"university\", \"topic\": \"mixed\", \"type\": \"archive\", \"level\": \"collection\", \"precision\": \"estimate\", \"artefact_count\": 98}, {\"institution\": \"University of York\", \"sector\": \"archive\", \"institution_type\": \"university\", \"topic\": \"mixed\", \"type\": \"archive\", \"level\": \"item\", \"precision\": \"estimate\", \"artefact_count\": 132370}, {\"institution\": \"University of Birmingham\", \"sector\": \"archive\", \"institution_type\": \"university\", \"topic\": \"mixed\", \"type\": \"archive\", \"level\": \"item\", \"precision\": \"estimate\", \"artefact_count\": 4000000}]}}, {\"mode\": \"vega-lite\"});\n",
       "</script>"
      ],
      "text/plain": [
       "alt.Chart(...)"
      ]
     },
     "execution_count": 5,
     "metadata": {},
     "output_type": "execute_result"
    }
   ],
   "source": [
    "title = alt.TitleParams('Archive Items/Collections by topic & type', anchor='middle')\n",
    "alt.Chart(archive_artefacts_df,title=title).mark_bar().encode(\n",
    "        alt.Color('institution:N').legend(orient=\"bottom\", columns=4, titleOrient=\"left\"),\n",
    "    x='artefact_count:Q',\n",
    "    tooltip='institution',\n",
    "    y='topic:N',\n",
    "    column='level'\n",
    ").properties(width=200).configure(numberFormat='.2s')"
   ]
  },
  {
   "cell_type": "code",
   "execution_count": 10,
   "id": "f3d67ee1-989d-4883-8137-715e6c40f660",
   "metadata": {
    "editable": true,
    "slideshow": {
     "slide_type": ""
    },
    "tags": [
     "hide-input"
    ]
   },
   "outputs": [
    {
     "data": {
      "text/html": [
       "\n",
       "<style>\n",
       "  #altair-viz-affb1a841cf345509d5e2a6aa817cf91.vega-embed {\n",
       "    width: 100%;\n",
       "    display: flex;\n",
       "  }\n",
       "\n",
       "  #altair-viz-affb1a841cf345509d5e2a6aa817cf91.vega-embed details,\n",
       "  #altair-viz-affb1a841cf345509d5e2a6aa817cf91.vega-embed details summary {\n",
       "    position: relative;\n",
       "  }\n",
       "</style>\n",
       "<div id=\"altair-viz-affb1a841cf345509d5e2a6aa817cf91\"></div>\n",
       "<script type=\"text/javascript\">\n",
       "  var VEGA_DEBUG = (typeof VEGA_DEBUG == \"undefined\") ? {} : VEGA_DEBUG;\n",
       "  (function(spec, embedOpt){\n",
       "    let outputDiv = document.currentScript.previousElementSibling;\n",
       "    if (outputDiv.id !== \"altair-viz-affb1a841cf345509d5e2a6aa817cf91\") {\n",
       "      outputDiv = document.getElementById(\"altair-viz-affb1a841cf345509d5e2a6aa817cf91\");\n",
       "    }\n",
       "    const paths = {\n",
       "      \"vega\": \"https://cdn.jsdelivr.net/npm/vega@5?noext\",\n",
       "      \"vega-lib\": \"https://cdn.jsdelivr.net/npm/vega-lib?noext\",\n",
       "      \"vega-lite\": \"https://cdn.jsdelivr.net/npm/vega-lite@5.17.0?noext\",\n",
       "      \"vega-embed\": \"https://cdn.jsdelivr.net/npm/vega-embed@6?noext\",\n",
       "    };\n",
       "\n",
       "    function maybeLoadScript(lib, version) {\n",
       "      var key = `${lib.replace(\"-\", \"\")}_version`;\n",
       "      return (VEGA_DEBUG[key] == version) ?\n",
       "        Promise.resolve(paths[lib]) :\n",
       "        new Promise(function(resolve, reject) {\n",
       "          var s = document.createElement('script');\n",
       "          document.getElementsByTagName(\"head\")[0].appendChild(s);\n",
       "          s.async = true;\n",
       "          s.onload = () => {\n",
       "            VEGA_DEBUG[key] = version;\n",
       "            return resolve(paths[lib]);\n",
       "          };\n",
       "          s.onerror = () => reject(`Error loading script: ${paths[lib]}`);\n",
       "          s.src = paths[lib];\n",
       "        });\n",
       "    }\n",
       "\n",
       "    function showError(err) {\n",
       "      outputDiv.innerHTML = `<div class=\"error\" style=\"color:red;\">${err}</div>`;\n",
       "      throw err;\n",
       "    }\n",
       "\n",
       "    function displayChart(vegaEmbed) {\n",
       "      vegaEmbed(outputDiv, spec, embedOpt)\n",
       "        .catch(err => showError(`Javascript Error: ${err.message}<br>This usually means there's a typo in your chart specification. See the javascript console for the full traceback.`));\n",
       "    }\n",
       "\n",
       "    if(typeof define === \"function\" && define.amd) {\n",
       "      requirejs.config({paths});\n",
       "      require([\"vega-embed\"], displayChart, err => showError(`Error loading script: ${err.message}`));\n",
       "    } else {\n",
       "      maybeLoadScript(\"vega\", \"5\")\n",
       "        .then(() => maybeLoadScript(\"vega-lite\", \"5.17.0\"))\n",
       "        .then(() => maybeLoadScript(\"vega-embed\", \"6\"))\n",
       "        .catch(showError)\n",
       "        .then(() => displayChart(vegaEmbed));\n",
       "    }\n",
       "  })({\"config\": {\"view\": {\"continuousWidth\": 300, \"continuousHeight\": 300}, \"numberFormat\": \".2s\"}, \"data\": {\"name\": \"data-2bea168b8a82b140718ec268ae905cc1\"}, \"mark\": {\"type\": \"bar\"}, \"encoding\": {\"color\": {\"field\": \"institution\", \"legend\": {\"orient\": \"bottom\", \"columns\": 4, \"titleOrient\": \"left\"}, \"type\": \"nominal\"}, \"column\": {\"field\": \"level\", \"type\": \"ordinal\"}, \"tooltip\": {\"field\": \"institution\", \"type\": \"nominal\"}, \"x\": {\"field\": \"artefact_count\", \"type\": \"quantitative\"}, \"y\": {\"field\": \"precision\", \"type\": \"nominal\"}}, \"resolve\": {\"scale\": {\"x\": \"independent\"}}, \"width\": 500, \"$schema\": \"https://vega.github.io/schema/vega-lite/v5.17.0.json\", \"datasets\": {\"data-2bea168b8a82b140718ec268ae905cc1\": [{\"institution\": \"Oxford University\", \"sector\": \"archive\", \"institution_type\": \"university\", \"topic\": \"mixed\", \"type\": \"archive\", \"level\": \"item\", \"precision\": \"estimate\", \"artefact_count\": 5000000}, {\"institution\": \"Bangor University\", \"sector\": \"archive\", \"institution_type\": \"university\", \"topic\": \"mixed\", \"type\": \"archive\", \"level\": \"collection\", \"precision\": \"estimate\", \"artefact_count\": 98}, {\"institution\": \"University of York\", \"sector\": \"archive\", \"institution_type\": \"university\", \"topic\": \"mixed\", \"type\": \"archive\", \"level\": \"item\", \"precision\": \"estimate\", \"artefact_count\": 132370}, {\"institution\": \"University of Birmingham\", \"sector\": \"archive\", \"institution_type\": \"university\", \"topic\": \"mixed\", \"type\": \"archive\", \"level\": \"item\", \"precision\": \"estimate\", \"artefact_count\": 4000000}]}}, {\"mode\": \"vega-lite\"});\n",
       "</script>"
      ],
      "text/plain": [
       "alt.Chart(...)"
      ]
     },
     "execution_count": 10,
     "metadata": {},
     "output_type": "execute_result"
    }
   ],
   "source": [
    "title = alt.TitleParams('Archive Items/Collections by topic & precision', anchor='middle')\n",
    "alt.Chart(archive_artefacts_df).mark_bar().encode(\n",
    "        alt.Color('institution:N').legend(orient=\"bottom\", columns=4, titleOrient=\"left\"),\n",
    "    column='level:O',\n",
    "    x='artefact_count:Q',\n",
    "    tooltip='institution',\n",
    "    y='precision:N'\n",
    ").properties(width=500).resolve_scale(x='independent').configure(numberFormat='.2s')"
   ]
  }
 ],
 "metadata": {
  "kernelspec": {
   "display_name": "Python 3 (ipykernel)",
   "language": "python",
   "name": "python3"
  },
  "language_info": {
   "codemirror_mode": {
    "name": "ipython",
    "version": 3
   },
   "file_extension": ".py",
   "mimetype": "text/x-python",
   "name": "python",
   "nbconvert_exporter": "python",
   "pygments_lexer": "ipython3",
   "version": "3.9.18"
  }
 },
 "nbformat": 4,
 "nbformat_minor": 5
}
