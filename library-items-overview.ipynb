{
 "cells": [
  {
   "cell_type": "code",
   "execution_count": 17,
   "id": "bc077a0d-3cac-4f63-8b00-fa6d878fe2a7",
   "metadata": {
    "editable": true,
    "slideshow": {
     "slide_type": ""
    },
    "tags": [
     "remove-cell"
    ]
   },
   "outputs": [],
   "source": [
    "import pandas as pd\n",
    "import altair as alt\n",
    "artefacts_type_df = pd.read_csv(\"artefacts-type-overview-stats.csv\")\n",
    "\n",
    "library_artefacts_df = artefacts_type_df.query('type == \"library\"')\n",
    "\n",
    "# Filter out zero ones as no point showing them (and also indicates we don't have stats)\n",
    "\n",
    "library_artefacts_df = library_artefacts_df[library_artefacts_df['artefact_count'] > 0]\n",
    "\n"
   ]
  },
  {
   "cell_type": "markdown",
   "id": "e69b7740-50d5-483c-bf12-37b833d9ca4d",
   "metadata": {
    "editable": true,
    "slideshow": {
     "slide_type": ""
    },
    "tags": []
   },
   "source": [
    "# Library Items Overview"
   ]
  },
  {
   "cell_type": "code",
   "execution_count": 20,
   "id": "b4f7dc17-0b26-4596-8c9b-f5cd5c5f1dab",
   "metadata": {
    "editable": true,
    "slideshow": {
     "slide_type": ""
    },
    "tags": [
     "remove-input"
    ]
   },
   "outputs": [
    {
     "data": {
      "text/html": [
       "\n",
       "<style>\n",
       "  #altair-viz-3843ba673ec64d579c38515824d975d3.vega-embed {\n",
       "    width: 100%;\n",
       "    display: flex;\n",
       "  }\n",
       "\n",
       "  #altair-viz-3843ba673ec64d579c38515824d975d3.vega-embed details,\n",
       "  #altair-viz-3843ba673ec64d579c38515824d975d3.vega-embed details summary {\n",
       "    position: relative;\n",
       "  }\n",
       "</style>\n",
       "<div id=\"altair-viz-3843ba673ec64d579c38515824d975d3\"></div>\n",
       "<script type=\"text/javascript\">\n",
       "  var VEGA_DEBUG = (typeof VEGA_DEBUG == \"undefined\") ? {} : VEGA_DEBUG;\n",
       "  (function(spec, embedOpt){\n",
       "    let outputDiv = document.currentScript.previousElementSibling;\n",
       "    if (outputDiv.id !== \"altair-viz-3843ba673ec64d579c38515824d975d3\") {\n",
       "      outputDiv = document.getElementById(\"altair-viz-3843ba673ec64d579c38515824d975d3\");\n",
       "    }\n",
       "    const paths = {\n",
       "      \"vega\": \"https://cdn.jsdelivr.net/npm/vega@5?noext\",\n",
       "      \"vega-lib\": \"https://cdn.jsdelivr.net/npm/vega-lib?noext\",\n",
       "      \"vega-lite\": \"https://cdn.jsdelivr.net/npm/vega-lite@5.17.0?noext\",\n",
       "      \"vega-embed\": \"https://cdn.jsdelivr.net/npm/vega-embed@6?noext\",\n",
       "    };\n",
       "\n",
       "    function maybeLoadScript(lib, version) {\n",
       "      var key = `${lib.replace(\"-\", \"\")}_version`;\n",
       "      return (VEGA_DEBUG[key] == version) ?\n",
       "        Promise.resolve(paths[lib]) :\n",
       "        new Promise(function(resolve, reject) {\n",
       "          var s = document.createElement('script');\n",
       "          document.getElementsByTagName(\"head\")[0].appendChild(s);\n",
       "          s.async = true;\n",
       "          s.onload = () => {\n",
       "            VEGA_DEBUG[key] = version;\n",
       "            return resolve(paths[lib]);\n",
       "          };\n",
       "          s.onerror = () => reject(`Error loading script: ${paths[lib]}`);\n",
       "          s.src = paths[lib];\n",
       "        });\n",
       "    }\n",
       "\n",
       "    function showError(err) {\n",
       "      outputDiv.innerHTML = `<div class=\"error\" style=\"color:red;\">${err}</div>`;\n",
       "      throw err;\n",
       "    }\n",
       "\n",
       "    function displayChart(vegaEmbed) {\n",
       "      vegaEmbed(outputDiv, spec, embedOpt)\n",
       "        .catch(err => showError(`Javascript Error: ${err.message}<br>This usually means there's a typo in your chart specification. See the javascript console for the full traceback.`));\n",
       "    }\n",
       "\n",
       "    if(typeof define === \"function\" && define.amd) {\n",
       "      requirejs.config({paths});\n",
       "      require([\"vega-embed\"], displayChart, err => showError(`Error loading script: ${err.message}`));\n",
       "    } else {\n",
       "      maybeLoadScript(\"vega\", \"5\")\n",
       "        .then(() => maybeLoadScript(\"vega-lite\", \"5.17.0\"))\n",
       "        .then(() => maybeLoadScript(\"vega-embed\", \"6\"))\n",
       "        .catch(showError)\n",
       "        .then(() => displayChart(vegaEmbed));\n",
       "    }\n",
       "  })({\"config\": {\"view\": {\"continuousWidth\": 300, \"continuousHeight\": 300}, \"numberFormat\": \".2s\"}, \"data\": {\"name\": \"data-40459f3703b8018d3da2a699fce18117\"}, \"mark\": {\"type\": \"bar\"}, \"encoding\": {\"column\": {\"field\": \"institution_type\", \"type\": \"nominal\"}, \"x\": {\"field\": \"artefact_count\", \"type\": \"quantitative\"}, \"y\": {\"field\": \"institution\", \"type\": \"nominal\"}}, \"resolve\": {\"scale\": {\"x\": \"independent\"}}, \"width\": 200, \"$schema\": \"https://vega.github.io/schema/vega-lite/v5.17.0.json\", \"datasets\": {\"data-40459f3703b8018d3da2a699fce18117\": [{\"institution\": \"Oxford University\", \"sector\": \"library\", \"institution_type\": \"university\", \"topic\": \"mixed\", \"type\": \"library\", \"level\": \"item\", \"precision\": \"estimate\", \"artefact_count\": 20000}, {\"institution\": \"University of Cambridge\", \"sector\": \"library\", \"institution_type\": \"university\", \"topic\": \"mixed\", \"type\": \"library\", \"level\": \"item\", \"precision\": \"estimate\", \"artefact_count\": 10000000}, {\"institution\": \"Cardiff University\", \"sector\": \"library\", \"institution_type\": \"university\", \"topic\": \"mixed\", \"type\": \"library\", \"level\": \"item\", \"precision\": \"estimate\", \"artefact_count\": 1100000}, {\"institution\": \"Durham University\", \"sector\": \"library\", \"institution_type\": \"university\", \"topic\": \"mixed\", \"type\": \"library\", \"level\": \"item\", \"precision\": \"estimate\", \"artefact_count\": 70000}, {\"institution\": \"University of Manchester\", \"sector\": \"library\", \"institution_type\": \"university\", \"topic\": \"mixed\", \"type\": \"library\", \"level\": \"item\", \"precision\": \"estimate\", \"artefact_count\": 4000000}, {\"institution\": \"King's College London\", \"sector\": \"library\", \"institution_type\": \"university\", \"topic\": \"mixed\", \"type\": \"library\", \"level\": \"item\", \"precision\": \"estimate\", \"artefact_count\": 200000}, {\"institution\": \"University of Birmingham\", \"sector\": \"library\", \"institution_type\": \"university\", \"topic\": \"mixed\", \"type\": \"library\", \"level\": \"item\", \"precision\": \"estimate\", \"artefact_count\": 250000}, {\"institution\": \"Unversity of Warwick\", \"sector\": \"library\", \"institution_type\": \"university\", \"topic\": \"mixed\", \"type\": \"library\", \"level\": \"item\", \"precision\": \"estimate\", \"artefact_count\": 16000}, {\"institution\": \"Swansea University\", \"sector\": \"library\", \"institution_type\": \"university\", \"topic\": \"mixed\", \"type\": \"library\", \"level\": \"item\", \"precision\": \"estimate\", \"artefact_count\": 1700}, {\"institution\": \"University of Brighton\", \"sector\": \"library\", \"institution_type\": \"university\", \"topic\": \"mixed\", \"type\": \"library\", \"level\": \"item\", \"precision\": \"estimate\", \"artefact_count\": 50000}, {\"institution\": \"SOAS, University of London\", \"sector\": \"library\", \"institution_type\": \"university\", \"topic\": \"mixed\", \"type\": \"library\", \"level\": \"item\", \"precision\": \"estimate\", \"artefact_count\": 60000}, {\"institution\": \"University of Aberdeen\", \"sector\": \"library\", \"institution_type\": \"university\", \"topic\": \"mixed\", \"type\": \"library\", \"level\": \"item\", \"precision\": \"estimate\", \"artefact_count\": 530000}, {\"institution\": \"University of Leeds\", \"sector\": \"library\", \"institution_type\": \"university\", \"topic\": \"mixed\", \"type\": \"library\", \"level\": \"item\", \"precision\": \"estimate\", \"artefact_count\": 350000}, {\"institution\": \"University of Sheffield\", \"sector\": \"library\", \"institution_type\": \"university\", \"topic\": \"mixed\", \"type\": \"library\", \"level\": \"item\", \"precision\": \"estimate\", \"artefact_count\": 30000}, {\"institution\": \"University of St Andrews\", \"sector\": \"library\", \"institution_type\": \"university\", \"topic\": \"mixed\", \"type\": \"library\", \"level\": \"item\", \"precision\": \"estimate\", \"artefact_count\": 200000}, {\"institution\": \"British Library\", \"sector\": \"library\", \"institution_type\": \"library\", \"topic\": \"mixed\", \"type\": \"library\", \"level\": \"item\", \"precision\": \"estimate\", \"artefact_count\": 33810000}, {\"institution\": \"Chetham's Library\", \"sector\": \"library\", \"institution_type\": \"library\", \"topic\": \"mixed\", \"type\": \"library\", \"level\": \"item\", \"precision\": \"estimate\", \"artefact_count\": 121041}, {\"institution\": \"Lambeth Palace Library\", \"sector\": \"library\", \"institution_type\": \"library\", \"topic\": \"theology\", \"type\": \"library\", \"level\": \"item\", \"precision\": \"estimate\", \"artefact_count\": 186200}, {\"institution\": \"National Library of Wales\", \"sector\": \"library\", \"institution_type\": \"library\", \"topic\": \"mixed\", \"type\": \"library\", \"level\": \"item\", \"precision\": \"estimate\", \"artefact_count\": 7540000}, {\"institution\": \"Victoria & Albert Museum\", \"sector\": \"library\", \"institution_type\": \"museum\", \"topic\": \"art\", \"type\": \"library\", \"level\": \"item\", \"precision\": \"estimate\", \"artefact_count\": 1130157}]}}, {\"mode\": \"vega-lite\"});\n",
       "</script>"
      ],
      "text/plain": [
       "alt.Chart(...)"
      ]
     },
     "execution_count": 20,
     "metadata": {},
     "output_type": "execute_result"
    }
   ],
   "source": [
    "\n",
    "alt.Chart(library_artefacts_df).mark_bar().encode(\n",
    "    x='artefact_count',\n",
    "    y='institution',\n",
    "    column='institution_type'\n",
    ").resolve_scale(x='independent').properties(width=200).configure(numberFormat='.2s')\n"
   ]
  },
  {
   "cell_type": "code",
   "execution_count": 21,
   "id": "89073ee0-2028-414e-a96f-51f19b3396b8",
   "metadata": {
    "editable": true,
    "slideshow": {
     "slide_type": ""
    },
    "tags": [
     "remove-input"
    ]
   },
   "outputs": [
    {
     "data": {
      "text/html": [
       "\n",
       "<style>\n",
       "  #altair-viz-54b224541615485e892c099a4fb18710.vega-embed {\n",
       "    width: 100%;\n",
       "    display: flex;\n",
       "  }\n",
       "\n",
       "  #altair-viz-54b224541615485e892c099a4fb18710.vega-embed details,\n",
       "  #altair-viz-54b224541615485e892c099a4fb18710.vega-embed details summary {\n",
       "    position: relative;\n",
       "  }\n",
       "</style>\n",
       "<div id=\"altair-viz-54b224541615485e892c099a4fb18710\"></div>\n",
       "<script type=\"text/javascript\">\n",
       "  var VEGA_DEBUG = (typeof VEGA_DEBUG == \"undefined\") ? {} : VEGA_DEBUG;\n",
       "  (function(spec, embedOpt){\n",
       "    let outputDiv = document.currentScript.previousElementSibling;\n",
       "    if (outputDiv.id !== \"altair-viz-54b224541615485e892c099a4fb18710\") {\n",
       "      outputDiv = document.getElementById(\"altair-viz-54b224541615485e892c099a4fb18710\");\n",
       "    }\n",
       "    const paths = {\n",
       "      \"vega\": \"https://cdn.jsdelivr.net/npm/vega@5?noext\",\n",
       "      \"vega-lib\": \"https://cdn.jsdelivr.net/npm/vega-lib?noext\",\n",
       "      \"vega-lite\": \"https://cdn.jsdelivr.net/npm/vega-lite@5.17.0?noext\",\n",
       "      \"vega-embed\": \"https://cdn.jsdelivr.net/npm/vega-embed@6?noext\",\n",
       "    };\n",
       "\n",
       "    function maybeLoadScript(lib, version) {\n",
       "      var key = `${lib.replace(\"-\", \"\")}_version`;\n",
       "      return (VEGA_DEBUG[key] == version) ?\n",
       "        Promise.resolve(paths[lib]) :\n",
       "        new Promise(function(resolve, reject) {\n",
       "          var s = document.createElement('script');\n",
       "          document.getElementsByTagName(\"head\")[0].appendChild(s);\n",
       "          s.async = true;\n",
       "          s.onload = () => {\n",
       "            VEGA_DEBUG[key] = version;\n",
       "            return resolve(paths[lib]);\n",
       "          };\n",
       "          s.onerror = () => reject(`Error loading script: ${paths[lib]}`);\n",
       "          s.src = paths[lib];\n",
       "        });\n",
       "    }\n",
       "\n",
       "    function showError(err) {\n",
       "      outputDiv.innerHTML = `<div class=\"error\" style=\"color:red;\">${err}</div>`;\n",
       "      throw err;\n",
       "    }\n",
       "\n",
       "    function displayChart(vegaEmbed) {\n",
       "      vegaEmbed(outputDiv, spec, embedOpt)\n",
       "        .catch(err => showError(`Javascript Error: ${err.message}<br>This usually means there's a typo in your chart specification. See the javascript console for the full traceback.`));\n",
       "    }\n",
       "\n",
       "    if(typeof define === \"function\" && define.amd) {\n",
       "      requirejs.config({paths});\n",
       "      require([\"vega-embed\"], displayChart, err => showError(`Error loading script: ${err.message}`));\n",
       "    } else {\n",
       "      maybeLoadScript(\"vega\", \"5\")\n",
       "        .then(() => maybeLoadScript(\"vega-lite\", \"5.17.0\"))\n",
       "        .then(() => maybeLoadScript(\"vega-embed\", \"6\"))\n",
       "        .catch(showError)\n",
       "        .then(() => displayChart(vegaEmbed));\n",
       "    }\n",
       "  })({\"config\": {\"view\": {\"continuousWidth\": 300, \"continuousHeight\": 300}, \"numberFormat\": \".2s\"}, \"data\": {\"name\": \"data-40459f3703b8018d3da2a699fce18117\"}, \"mark\": {\"type\": \"bar\"}, \"encoding\": {\"color\": {\"field\": \"institution\", \"legend\": {\"orient\": \"bottom\", \"columns\": 4, \"titleOrient\": \"left\"}, \"type\": \"nominal\"}, \"column\": {\"field\": \"institution_type\", \"type\": \"nominal\"}, \"tooltip\": {\"field\": \"institution\", \"type\": \"nominal\"}, \"x\": {\"field\": \"artefact_count\", \"type\": \"quantitative\"}, \"y\": {\"field\": \"topic\", \"type\": \"nominal\"}}, \"title\": {\"text\": \"Library Items Collections by topic & type\", \"anchor\": \"middle\"}, \"width\": 200, \"$schema\": \"https://vega.github.io/schema/vega-lite/v5.17.0.json\", \"datasets\": {\"data-40459f3703b8018d3da2a699fce18117\": [{\"institution\": \"Oxford University\", \"sector\": \"library\", \"institution_type\": \"university\", \"topic\": \"mixed\", \"type\": \"library\", \"level\": \"item\", \"precision\": \"estimate\", \"artefact_count\": 20000}, {\"institution\": \"University of Cambridge\", \"sector\": \"library\", \"institution_type\": \"university\", \"topic\": \"mixed\", \"type\": \"library\", \"level\": \"item\", \"precision\": \"estimate\", \"artefact_count\": 10000000}, {\"institution\": \"Cardiff University\", \"sector\": \"library\", \"institution_type\": \"university\", \"topic\": \"mixed\", \"type\": \"library\", \"level\": \"item\", \"precision\": \"estimate\", \"artefact_count\": 1100000}, {\"institution\": \"Durham University\", \"sector\": \"library\", \"institution_type\": \"university\", \"topic\": \"mixed\", \"type\": \"library\", \"level\": \"item\", \"precision\": \"estimate\", \"artefact_count\": 70000}, {\"institution\": \"University of Manchester\", \"sector\": \"library\", \"institution_type\": \"university\", \"topic\": \"mixed\", \"type\": \"library\", \"level\": \"item\", \"precision\": \"estimate\", \"artefact_count\": 4000000}, {\"institution\": \"King's College London\", \"sector\": \"library\", \"institution_type\": \"university\", \"topic\": \"mixed\", \"type\": \"library\", \"level\": \"item\", \"precision\": \"estimate\", \"artefact_count\": 200000}, {\"institution\": \"University of Birmingham\", \"sector\": \"library\", \"institution_type\": \"university\", \"topic\": \"mixed\", \"type\": \"library\", \"level\": \"item\", \"precision\": \"estimate\", \"artefact_count\": 250000}, {\"institution\": \"Unversity of Warwick\", \"sector\": \"library\", \"institution_type\": \"university\", \"topic\": \"mixed\", \"type\": \"library\", \"level\": \"item\", \"precision\": \"estimate\", \"artefact_count\": 16000}, {\"institution\": \"Swansea University\", \"sector\": \"library\", \"institution_type\": \"university\", \"topic\": \"mixed\", \"type\": \"library\", \"level\": \"item\", \"precision\": \"estimate\", \"artefact_count\": 1700}, {\"institution\": \"University of Brighton\", \"sector\": \"library\", \"institution_type\": \"university\", \"topic\": \"mixed\", \"type\": \"library\", \"level\": \"item\", \"precision\": \"estimate\", \"artefact_count\": 50000}, {\"institution\": \"SOAS, University of London\", \"sector\": \"library\", \"institution_type\": \"university\", \"topic\": \"mixed\", \"type\": \"library\", \"level\": \"item\", \"precision\": \"estimate\", \"artefact_count\": 60000}, {\"institution\": \"University of Aberdeen\", \"sector\": \"library\", \"institution_type\": \"university\", \"topic\": \"mixed\", \"type\": \"library\", \"level\": \"item\", \"precision\": \"estimate\", \"artefact_count\": 530000}, {\"institution\": \"University of Leeds\", \"sector\": \"library\", \"institution_type\": \"university\", \"topic\": \"mixed\", \"type\": \"library\", \"level\": \"item\", \"precision\": \"estimate\", \"artefact_count\": 350000}, {\"institution\": \"University of Sheffield\", \"sector\": \"library\", \"institution_type\": \"university\", \"topic\": \"mixed\", \"type\": \"library\", \"level\": \"item\", \"precision\": \"estimate\", \"artefact_count\": 30000}, {\"institution\": \"University of St Andrews\", \"sector\": \"library\", \"institution_type\": \"university\", \"topic\": \"mixed\", \"type\": \"library\", \"level\": \"item\", \"precision\": \"estimate\", \"artefact_count\": 200000}, {\"institution\": \"British Library\", \"sector\": \"library\", \"institution_type\": \"library\", \"topic\": \"mixed\", \"type\": \"library\", \"level\": \"item\", \"precision\": \"estimate\", \"artefact_count\": 33810000}, {\"institution\": \"Chetham's Library\", \"sector\": \"library\", \"institution_type\": \"library\", \"topic\": \"mixed\", \"type\": \"library\", \"level\": \"item\", \"precision\": \"estimate\", \"artefact_count\": 121041}, {\"institution\": \"Lambeth Palace Library\", \"sector\": \"library\", \"institution_type\": \"library\", \"topic\": \"theology\", \"type\": \"library\", \"level\": \"item\", \"precision\": \"estimate\", \"artefact_count\": 186200}, {\"institution\": \"National Library of Wales\", \"sector\": \"library\", \"institution_type\": \"library\", \"topic\": \"mixed\", \"type\": \"library\", \"level\": \"item\", \"precision\": \"estimate\", \"artefact_count\": 7540000}, {\"institution\": \"Victoria & Albert Museum\", \"sector\": \"library\", \"institution_type\": \"museum\", \"topic\": \"art\", \"type\": \"library\", \"level\": \"item\", \"precision\": \"estimate\", \"artefact_count\": 1130157}]}}, {\"mode\": \"vega-lite\"});\n",
       "</script>"
      ],
      "text/plain": [
       "alt.Chart(...)"
      ]
     },
     "execution_count": 21,
     "metadata": {},
     "output_type": "execute_result"
    }
   ],
   "source": [
    "title = alt.TitleParams('Library Items Collections by topic & type', anchor='middle')\n",
    "alt.Chart(library_artefacts_df,title=title).mark_bar().encode(\n",
    "        alt.Color('institution:N').legend(orient=\"bottom\", columns=4, titleOrient=\"left\"),\n",
    "    x='artefact_count:Q',\n",
    "    tooltip='institution',\n",
    "    y='topic:N',\n",
    "    column='institution_type'\n",
    ").properties(width=200).configure(numberFormat='.2s')"
   ]
  },
  {
   "cell_type": "code",
   "execution_count": 22,
   "id": "f3d67ee1-989d-4883-8137-715e6c40f660",
   "metadata": {
    "editable": true,
    "slideshow": {
     "slide_type": ""
    },
    "tags": [
     "hide-input"
    ]
   },
   "outputs": [
    {
     "data": {
      "text/html": [
       "\n",
       "<style>\n",
       "  #altair-viz-c66419a822af43e2b625f0d610017b7c.vega-embed {\n",
       "    width: 100%;\n",
       "    display: flex;\n",
       "  }\n",
       "\n",
       "  #altair-viz-c66419a822af43e2b625f0d610017b7c.vega-embed details,\n",
       "  #altair-viz-c66419a822af43e2b625f0d610017b7c.vega-embed details summary {\n",
       "    position: relative;\n",
       "  }\n",
       "</style>\n",
       "<div id=\"altair-viz-c66419a822af43e2b625f0d610017b7c\"></div>\n",
       "<script type=\"text/javascript\">\n",
       "  var VEGA_DEBUG = (typeof VEGA_DEBUG == \"undefined\") ? {} : VEGA_DEBUG;\n",
       "  (function(spec, embedOpt){\n",
       "    let outputDiv = document.currentScript.previousElementSibling;\n",
       "    if (outputDiv.id !== \"altair-viz-c66419a822af43e2b625f0d610017b7c\") {\n",
       "      outputDiv = document.getElementById(\"altair-viz-c66419a822af43e2b625f0d610017b7c\");\n",
       "    }\n",
       "    const paths = {\n",
       "      \"vega\": \"https://cdn.jsdelivr.net/npm/vega@5?noext\",\n",
       "      \"vega-lib\": \"https://cdn.jsdelivr.net/npm/vega-lib?noext\",\n",
       "      \"vega-lite\": \"https://cdn.jsdelivr.net/npm/vega-lite@5.17.0?noext\",\n",
       "      \"vega-embed\": \"https://cdn.jsdelivr.net/npm/vega-embed@6?noext\",\n",
       "    };\n",
       "\n",
       "    function maybeLoadScript(lib, version) {\n",
       "      var key = `${lib.replace(\"-\", \"\")}_version`;\n",
       "      return (VEGA_DEBUG[key] == version) ?\n",
       "        Promise.resolve(paths[lib]) :\n",
       "        new Promise(function(resolve, reject) {\n",
       "          var s = document.createElement('script');\n",
       "          document.getElementsByTagName(\"head\")[0].appendChild(s);\n",
       "          s.async = true;\n",
       "          s.onload = () => {\n",
       "            VEGA_DEBUG[key] = version;\n",
       "            return resolve(paths[lib]);\n",
       "          };\n",
       "          s.onerror = () => reject(`Error loading script: ${paths[lib]}`);\n",
       "          s.src = paths[lib];\n",
       "        });\n",
       "    }\n",
       "\n",
       "    function showError(err) {\n",
       "      outputDiv.innerHTML = `<div class=\"error\" style=\"color:red;\">${err}</div>`;\n",
       "      throw err;\n",
       "    }\n",
       "\n",
       "    function displayChart(vegaEmbed) {\n",
       "      vegaEmbed(outputDiv, spec, embedOpt)\n",
       "        .catch(err => showError(`Javascript Error: ${err.message}<br>This usually means there's a typo in your chart specification. See the javascript console for the full traceback.`));\n",
       "    }\n",
       "\n",
       "    if(typeof define === \"function\" && define.amd) {\n",
       "      requirejs.config({paths});\n",
       "      require([\"vega-embed\"], displayChart, err => showError(`Error loading script: ${err.message}`));\n",
       "    } else {\n",
       "      maybeLoadScript(\"vega\", \"5\")\n",
       "        .then(() => maybeLoadScript(\"vega-lite\", \"5.17.0\"))\n",
       "        .then(() => maybeLoadScript(\"vega-embed\", \"6\"))\n",
       "        .catch(showError)\n",
       "        .then(() => displayChart(vegaEmbed));\n",
       "    }\n",
       "  })({\"config\": {\"view\": {\"continuousWidth\": 300, \"continuousHeight\": 300}, \"numberFormat\": \".2s\"}, \"data\": {\"name\": \"data-40459f3703b8018d3da2a699fce18117\"}, \"mark\": {\"type\": \"bar\"}, \"encoding\": {\"color\": {\"field\": \"institution\", \"legend\": {\"orient\": \"bottom\", \"columns\": 4, \"titleOrient\": \"left\"}, \"type\": \"nominal\"}, \"column\": {\"field\": \"precision\", \"type\": \"ordinal\"}, \"tooltip\": {\"field\": \"institution\", \"type\": \"nominal\"}, \"x\": {\"field\": \"artefact_count\", \"type\": \"quantitative\"}, \"y\": {\"field\": \"topic\", \"type\": \"nominal\"}}, \"resolve\": {\"scale\": {\"x\": \"independent\"}}, \"width\": 500, \"$schema\": \"https://vega.github.io/schema/vega-lite/v5.17.0.json\", \"datasets\": {\"data-40459f3703b8018d3da2a699fce18117\": [{\"institution\": \"Oxford University\", \"sector\": \"library\", \"institution_type\": \"university\", \"topic\": \"mixed\", \"type\": \"library\", \"level\": \"item\", \"precision\": \"estimate\", \"artefact_count\": 20000}, {\"institution\": \"University of Cambridge\", \"sector\": \"library\", \"institution_type\": \"university\", \"topic\": \"mixed\", \"type\": \"library\", \"level\": \"item\", \"precision\": \"estimate\", \"artefact_count\": 10000000}, {\"institution\": \"Cardiff University\", \"sector\": \"library\", \"institution_type\": \"university\", \"topic\": \"mixed\", \"type\": \"library\", \"level\": \"item\", \"precision\": \"estimate\", \"artefact_count\": 1100000}, {\"institution\": \"Durham University\", \"sector\": \"library\", \"institution_type\": \"university\", \"topic\": \"mixed\", \"type\": \"library\", \"level\": \"item\", \"precision\": \"estimate\", \"artefact_count\": 70000}, {\"institution\": \"University of Manchester\", \"sector\": \"library\", \"institution_type\": \"university\", \"topic\": \"mixed\", \"type\": \"library\", \"level\": \"item\", \"precision\": \"estimate\", \"artefact_count\": 4000000}, {\"institution\": \"King's College London\", \"sector\": \"library\", \"institution_type\": \"university\", \"topic\": \"mixed\", \"type\": \"library\", \"level\": \"item\", \"precision\": \"estimate\", \"artefact_count\": 200000}, {\"institution\": \"University of Birmingham\", \"sector\": \"library\", \"institution_type\": \"university\", \"topic\": \"mixed\", \"type\": \"library\", \"level\": \"item\", \"precision\": \"estimate\", \"artefact_count\": 250000}, {\"institution\": \"Unversity of Warwick\", \"sector\": \"library\", \"institution_type\": \"university\", \"topic\": \"mixed\", \"type\": \"library\", \"level\": \"item\", \"precision\": \"estimate\", \"artefact_count\": 16000}, {\"institution\": \"Swansea University\", \"sector\": \"library\", \"institution_type\": \"university\", \"topic\": \"mixed\", \"type\": \"library\", \"level\": \"item\", \"precision\": \"estimate\", \"artefact_count\": 1700}, {\"institution\": \"University of Brighton\", \"sector\": \"library\", \"institution_type\": \"university\", \"topic\": \"mixed\", \"type\": \"library\", \"level\": \"item\", \"precision\": \"estimate\", \"artefact_count\": 50000}, {\"institution\": \"SOAS, University of London\", \"sector\": \"library\", \"institution_type\": \"university\", \"topic\": \"mixed\", \"type\": \"library\", \"level\": \"item\", \"precision\": \"estimate\", \"artefact_count\": 60000}, {\"institution\": \"University of Aberdeen\", \"sector\": \"library\", \"institution_type\": \"university\", \"topic\": \"mixed\", \"type\": \"library\", \"level\": \"item\", \"precision\": \"estimate\", \"artefact_count\": 530000}, {\"institution\": \"University of Leeds\", \"sector\": \"library\", \"institution_type\": \"university\", \"topic\": \"mixed\", \"type\": \"library\", \"level\": \"item\", \"precision\": \"estimate\", \"artefact_count\": 350000}, {\"institution\": \"University of Sheffield\", \"sector\": \"library\", \"institution_type\": \"university\", \"topic\": \"mixed\", \"type\": \"library\", \"level\": \"item\", \"precision\": \"estimate\", \"artefact_count\": 30000}, {\"institution\": \"University of St Andrews\", \"sector\": \"library\", \"institution_type\": \"university\", \"topic\": \"mixed\", \"type\": \"library\", \"level\": \"item\", \"precision\": \"estimate\", \"artefact_count\": 200000}, {\"institution\": \"British Library\", \"sector\": \"library\", \"institution_type\": \"library\", \"topic\": \"mixed\", \"type\": \"library\", \"level\": \"item\", \"precision\": \"estimate\", \"artefact_count\": 33810000}, {\"institution\": \"Chetham's Library\", \"sector\": \"library\", \"institution_type\": \"library\", \"topic\": \"mixed\", \"type\": \"library\", \"level\": \"item\", \"precision\": \"estimate\", \"artefact_count\": 121041}, {\"institution\": \"Lambeth Palace Library\", \"sector\": \"library\", \"institution_type\": \"library\", \"topic\": \"theology\", \"type\": \"library\", \"level\": \"item\", \"precision\": \"estimate\", \"artefact_count\": 186200}, {\"institution\": \"National Library of Wales\", \"sector\": \"library\", \"institution_type\": \"library\", \"topic\": \"mixed\", \"type\": \"library\", \"level\": \"item\", \"precision\": \"estimate\", \"artefact_count\": 7540000}, {\"institution\": \"Victoria & Albert Museum\", \"sector\": \"library\", \"institution_type\": \"museum\", \"topic\": \"art\", \"type\": \"library\", \"level\": \"item\", \"precision\": \"estimate\", \"artefact_count\": 1130157}]}}, {\"mode\": \"vega-lite\"});\n",
       "</script>"
      ],
      "text/plain": [
       "alt.Chart(...)"
      ]
     },
     "execution_count": 22,
     "metadata": {},
     "output_type": "execute_result"
    }
   ],
   "source": [
    "title = alt.TitleParams('Library Items Collections by topic & precision', anchor='middle')\n",
    "alt.Chart(library_artefacts_df).mark_bar().encode(\n",
    "        alt.Color('institution:N').legend(orient=\"bottom\", columns=4, titleOrient=\"left\"),\n",
    "    column='precision:O',\n",
    "    x='artefact_count:Q',\n",
    "    tooltip='institution',\n",
    "    y='topic:N'\n",
    ").properties(width=500).resolve_scale(x='independent').configure(numberFormat='.2s')"
   ]
  },
  {
   "cell_type": "code",
   "execution_count": 14,
   "id": "4f2a7ca6-7a3a-4176-bf8b-b22250451b61",
   "metadata": {
    "editable": true,
    "slideshow": {
     "slide_type": ""
    },
    "tags": [
     "hide-input"
    ]
   },
   "outputs": [
    {
     "data": {
      "text/html": [
       "\n",
       "<style>\n",
       "  #altair-viz-4c05b922563e40ca9d05ccfcbb813d0a.vega-embed {\n",
       "    width: 100%;\n",
       "    display: flex;\n",
       "  }\n",
       "\n",
       "  #altair-viz-4c05b922563e40ca9d05ccfcbb813d0a.vega-embed details,\n",
       "  #altair-viz-4c05b922563e40ca9d05ccfcbb813d0a.vega-embed details summary {\n",
       "    position: relative;\n",
       "  }\n",
       "</style>\n",
       "<div id=\"altair-viz-4c05b922563e40ca9d05ccfcbb813d0a\"></div>\n",
       "<script type=\"text/javascript\">\n",
       "  var VEGA_DEBUG = (typeof VEGA_DEBUG == \"undefined\") ? {} : VEGA_DEBUG;\n",
       "  (function(spec, embedOpt){\n",
       "    let outputDiv = document.currentScript.previousElementSibling;\n",
       "    if (outputDiv.id !== \"altair-viz-4c05b922563e40ca9d05ccfcbb813d0a\") {\n",
       "      outputDiv = document.getElementById(\"altair-viz-4c05b922563e40ca9d05ccfcbb813d0a\");\n",
       "    }\n",
       "    const paths = {\n",
       "      \"vega\": \"https://cdn.jsdelivr.net/npm/vega@5?noext\",\n",
       "      \"vega-lib\": \"https://cdn.jsdelivr.net/npm/vega-lib?noext\",\n",
       "      \"vega-lite\": \"https://cdn.jsdelivr.net/npm/vega-lite@5.17.0?noext\",\n",
       "      \"vega-embed\": \"https://cdn.jsdelivr.net/npm/vega-embed@6?noext\",\n",
       "    };\n",
       "\n",
       "    function maybeLoadScript(lib, version) {\n",
       "      var key = `${lib.replace(\"-\", \"\")}_version`;\n",
       "      return (VEGA_DEBUG[key] == version) ?\n",
       "        Promise.resolve(paths[lib]) :\n",
       "        new Promise(function(resolve, reject) {\n",
       "          var s = document.createElement('script');\n",
       "          document.getElementsByTagName(\"head\")[0].appendChild(s);\n",
       "          s.async = true;\n",
       "          s.onload = () => {\n",
       "            VEGA_DEBUG[key] = version;\n",
       "            return resolve(paths[lib]);\n",
       "          };\n",
       "          s.onerror = () => reject(`Error loading script: ${paths[lib]}`);\n",
       "          s.src = paths[lib];\n",
       "        });\n",
       "    }\n",
       "\n",
       "    function showError(err) {\n",
       "      outputDiv.innerHTML = `<div class=\"error\" style=\"color:red;\">${err}</div>`;\n",
       "      throw err;\n",
       "    }\n",
       "\n",
       "    function displayChart(vegaEmbed) {\n",
       "      vegaEmbed(outputDiv, spec, embedOpt)\n",
       "        .catch(err => showError(`Javascript Error: ${err.message}<br>This usually means there's a typo in your chart specification. See the javascript console for the full traceback.`));\n",
       "    }\n",
       "\n",
       "    if(typeof define === \"function\" && define.amd) {\n",
       "      requirejs.config({paths});\n",
       "      require([\"vega-embed\"], displayChart, err => showError(`Error loading script: ${err.message}`));\n",
       "    } else {\n",
       "      maybeLoadScript(\"vega\", \"5\")\n",
       "        .then(() => maybeLoadScript(\"vega-lite\", \"5.17.0\"))\n",
       "        .then(() => maybeLoadScript(\"vega-embed\", \"6\"))\n",
       "        .catch(showError)\n",
       "        .then(() => displayChart(vegaEmbed));\n",
       "    }\n",
       "  })({\"config\": {\"view\": {\"continuousWidth\": 300, \"continuousHeight\": 300}, \"numberFormat\": \".2s\"}, \"data\": {\"name\": \"data-d47efdaa847d76fac7f2a712517bb19a\"}, \"mark\": {\"type\": \"bar\"}, \"encoding\": {\"color\": {\"field\": \"institution\", \"legend\": {\"orient\": \"bottom\", \"columns\": 4, \"titleOrient\": \"left\"}, \"type\": \"nominal\"}, \"column\": {\"field\": \"precision\", \"type\": \"ordinal\"}, \"tooltip\": {\"field\": \"institution\", \"type\": \"nominal\"}, \"x\": {\"field\": \"artefact_count\", \"type\": \"quantitative\"}, \"y\": {\"field\": \"type\", \"type\": \"nominal\"}}, \"resolve\": {\"scale\": {\"x\": \"independent\"}}, \"width\": 600, \"$schema\": \"https://vega.github.io/schema/vega-lite/v5.17.0.json\", \"datasets\": {\"data-d47efdaa847d76fac7f2a712517bb19a\": [{\"institution\": \"Durham University\", \"sector\": \"museum\", \"institution_type\": \"university\", \"topic\": \"mixed\", \"type\": \"object\", \"level\": \"item\", \"precision\": \"estimate\", \"artefact_count\": 36000}, {\"institution\": \"University College London\", \"sector\": \"museum\", \"institution_type\": \"university\", \"topic\": \"mixed\", \"type\": \"object\", \"level\": \"item\", \"precision\": \"estimate\", \"artefact_count\": 164000}, {\"institution\": \"University of Manchester\", \"sector\": \"museum\", \"institution_type\": \"university\", \"topic\": \"mixed\", \"type\": \"object\", \"level\": \"item\", \"precision\": \"estimate\", \"artefact_count\": 60000}, {\"institution\": \"University of Birmingham\", \"sector\": \"museum\", \"institution_type\": \"university\", \"topic\": \"mixed\", \"type\": \"object\", \"level\": \"item\", \"precision\": \"estimate\", \"artefact_count\": 250000}, {\"institution\": \"University of Bristol\", \"sector\": \"museum\", \"institution_type\": \"university\", \"topic\": \"mixed\", \"type\": \"object\", \"level\": \"item\", \"precision\": \"estimate\", \"artefact_count\": 100000}, {\"institution\": \"University of Leicester\", \"sector\": \"museum\", \"institution_type\": \"university\", \"topic\": \"mixed\", \"type\": \"object\", \"level\": \"item\", \"precision\": \"estimate\", \"artefact_count\": 25000}, {\"institution\": \"Victoria & Albert Museum\", \"sector\": \"museum\", \"institution_type\": \"museum\", \"topic\": \"art\", \"type\": \"object\", \"level\": \"item\", \"precision\": \"estimate\", \"artefact_count\": 1691513}, {\"institution\": \"National Gallery\", \"sector\": \"museum\", \"institution_type\": \"gallery\", \"topic\": \"art\", \"type\": \"object\", \"level\": \"item\", \"precision\": \"exact\", \"artefact_count\": 2626}, {\"institution\": \"The Wallace Collection\", \"sector\": \"museum\", \"institution_type\": \"museum\", \"topic\": \"art\", \"type\": \"object\", \"level\": \"item\", \"precision\": \"exact\", \"artefact_count\": 5637}, {\"institution\": \"British Museum\", \"sector\": \"museum\", \"institution_type\": \"museum\", \"topic\": \"history\", \"type\": \"object\", \"level\": \"item\", \"precision\": \"estimate\", \"artefact_count\": 8000000}]}}, {\"mode\": \"vega-lite\"});\n",
       "</script>"
      ],
      "text/plain": [
       "alt.Chart(...)"
      ]
     },
     "execution_count": 14,
     "metadata": {},
     "output_type": "execute_result"
    }
   ],
   "source": [
    "title = alt.TitleParams('Oveview Collection Size (Library Items) by catalogue', anchor='middle')\n",
    "alt.Chart(library_artefacts_df).mark_bar().encode(\n",
    "        alt.Color('institution:N').legend(orient=\"bottom\", columns=4, titleOrient=\"left\"),\n",
    "    column='precision:O',\n",
    "    tooltip='institution',\n",
    "    x='artefact_count:Q',\n",
    "    y='type:N'\n",
    ").properties(width=600).resolve_scale(x='independent').configure(numberFormat='.2s')"
   ]
  },
  {
   "cell_type": "markdown",
   "id": "d1fe11b8-c2ad-4ac8-977b-41c62bca38f7",
   "metadata": {
    "editable": true,
    "slideshow": {
     "slide_type": ""
    },
    "tags": [
     "hide-cell"
    ]
   },
   "source": [
    "# Issues \n",
    "- should collection total if it's museum/library/archive be broken out programatically ?\n",
    "Graphs - Digitised (images)\n",
    "graph - tiny squares grid with colours for - propotion catalogued, proptoition with images, online/api, \n",
    "graph - scatter plot "
   ]
  }
 ],
 "metadata": {
  "kernelspec": {
   "display_name": "Python 3 (ipykernel)",
   "language": "python",
   "name": "python3"
  },
  "language_info": {
   "codemirror_mode": {
    "name": "ipython",
    "version": 3
   },
   "file_extension": ".py",
   "mimetype": "text/x-python",
   "name": "python",
   "nbconvert_exporter": "python",
   "pygments_lexer": "ipython3",
   "version": "3.9.18"
  }
 },
 "nbformat": 4,
 "nbformat_minor": 5
}
