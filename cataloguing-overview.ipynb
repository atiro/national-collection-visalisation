{
 "cells": [
  {
   "cell_type": "code",
   "execution_count": 1,
   "id": "bc077a0d-3cac-4f63-8b00-fa6d878fe2a7",
   "metadata": {
    "editable": true,
    "slideshow": {
     "slide_type": ""
    },
    "tags": [
     "hide-input",
     "remove-cell"
    ]
   },
   "outputs": [],
   "source": [
    "import pandas as pd\n",
    "artefacts_data = pd.read_csv(\"artefacts-overview-stats.csv\")\n",
    "records_data = pd.read_csv(\"records-institution-stats-total.csv\")"
   ]
  },
  {
   "cell_type": "code",
   "execution_count": 7,
   "id": "cb68121b-69f5-41d5-b3ba-5c3e6a681106",
   "metadata": {
    "editable": true,
    "slideshow": {
     "slide_type": ""
    },
    "tags": [
     "remove-cell"
    ]
   },
   "outputs": [],
   "source": [
    "import pandas as pd\n",
    "artefacts_type_df = pd.read_csv(\"artefacts-type-overview-stats.csv\")\n",
    "records_type_df = pd.read_csv(\"records-institution-stats-type-total.csv\")\n",
    "combined_art_record_type = pd.merge(artefacts_type_df, records_type_df, on=['institution', 'type'])"
   ]
  },
  {
   "cell_type": "code",
   "execution_count": 5,
   "id": "9b176fb4-6846-4ca6-8b4e-a7ba3e9fdd32",
   "metadata": {
    "editable": true,
    "slideshow": {
     "slide_type": ""
    },
    "tags": [
     "remove-cell"
    ]
   },
   "outputs": [],
   "source": [
    "import altair as alt"
   ]
  },
  {
   "cell_type": "markdown",
   "id": "2233f1b1-7381-4f20-a010-f3505fa703c6",
   "metadata": {},
   "source": [
    "# Cataloguing Overviews\n",
    "\n",
    "This is an attempt to give an overview of what has been catalogued. As this requires combining potentially uncertain artefacts statistics with potentially uncertain record statistics, the levels of uncertainty grow even more here. One issue that will be obvious from some very high catalouging percentages below (over 1000%!) is cases where we have a low number of artefacts given and then a high known number of records. We could probably safely make the assumption that the number of artefacts is always at least the number of records, but all the numbers here come from published sources to avoid introducing even more confusion by us making assumptions.\n",
    "\n"
   ]
  },
  {
   "cell_type": "code",
   "execution_count": 21,
   "id": "647ae3aa-8408-482e-a307-597e201104c0",
   "metadata": {
    "editable": true,
    "slideshow": {
     "slide_type": ""
    },
    "tags": [
     "remove-input"
    ]
   },
   "outputs": [
    {
     "data": {
      "text/html": [
       "\n",
       "<style>\n",
       "  #altair-viz-246f11a4ece14f9196959c084cb74007.vega-embed {\n",
       "    width: 100%;\n",
       "    display: flex;\n",
       "  }\n",
       "\n",
       "  #altair-viz-246f11a4ece14f9196959c084cb74007.vega-embed details,\n",
       "  #altair-viz-246f11a4ece14f9196959c084cb74007.vega-embed details summary {\n",
       "    position: relative;\n",
       "  }\n",
       "</style>\n",
       "<div id=\"altair-viz-246f11a4ece14f9196959c084cb74007\"></div>\n",
       "<script type=\"text/javascript\">\n",
       "  var VEGA_DEBUG = (typeof VEGA_DEBUG == \"undefined\") ? {} : VEGA_DEBUG;\n",
       "  (function(spec, embedOpt){\n",
       "    let outputDiv = document.currentScript.previousElementSibling;\n",
       "    if (outputDiv.id !== \"altair-viz-246f11a4ece14f9196959c084cb74007\") {\n",
       "      outputDiv = document.getElementById(\"altair-viz-246f11a4ece14f9196959c084cb74007\");\n",
       "    }\n",
       "    const paths = {\n",
       "      \"vega\": \"https://cdn.jsdelivr.net/npm/vega@5?noext\",\n",
       "      \"vega-lib\": \"https://cdn.jsdelivr.net/npm/vega-lib?noext\",\n",
       "      \"vega-lite\": \"https://cdn.jsdelivr.net/npm/vega-lite@5.17.0?noext\",\n",
       "      \"vega-embed\": \"https://cdn.jsdelivr.net/npm/vega-embed@6?noext\",\n",
       "    };\n",
       "\n",
       "    function maybeLoadScript(lib, version) {\n",
       "      var key = `${lib.replace(\"-\", \"\")}_version`;\n",
       "      return (VEGA_DEBUG[key] == version) ?\n",
       "        Promise.resolve(paths[lib]) :\n",
       "        new Promise(function(resolve, reject) {\n",
       "          var s = document.createElement('script');\n",
       "          document.getElementsByTagName(\"head\")[0].appendChild(s);\n",
       "          s.async = true;\n",
       "          s.onload = () => {\n",
       "            VEGA_DEBUG[key] = version;\n",
       "            return resolve(paths[lib]);\n",
       "          };\n",
       "          s.onerror = () => reject(`Error loading script: ${paths[lib]}`);\n",
       "          s.src = paths[lib];\n",
       "        });\n",
       "    }\n",
       "\n",
       "    function showError(err) {\n",
       "      outputDiv.innerHTML = `<div class=\"error\" style=\"color:red;\">${err}</div>`;\n",
       "      throw err;\n",
       "    }\n",
       "\n",
       "    function displayChart(vegaEmbed) {\n",
       "      vegaEmbed(outputDiv, spec, embedOpt)\n",
       "        .catch(err => showError(`Javascript Error: ${err.message}<br>This usually means there's a typo in your chart specification. See the javascript console for the full traceback.`));\n",
       "    }\n",
       "\n",
       "    if(typeof define === \"function\" && define.amd) {\n",
       "      requirejs.config({paths});\n",
       "      require([\"vega-embed\"], displayChart, err => showError(`Error loading script: ${err.message}`));\n",
       "    } else {\n",
       "      maybeLoadScript(\"vega\", \"5\")\n",
       "        .then(() => maybeLoadScript(\"vega-lite\", \"5.17.0\"))\n",
       "        .then(() => maybeLoadScript(\"vega-embed\", \"6\"))\n",
       "        .catch(showError)\n",
       "        .then(() => displayChart(vegaEmbed));\n",
       "    }\n",
       "  })({\"config\": {\"view\": {\"continuousWidth\": 300, \"continuousHeight\": 300}, \"numberFormat\": \".2s\"}, \"data\": {\"name\": \"data-b7bcfeaa8c5e704c3452cb1cd2f74f2d\"}, \"mark\": {\"type\": \"bar\"}, \"encoding\": {\"color\": {\"field\": \"institution\", \"legend\": {\"columns\": 4, \"orient\": \"bottom\"}, \"sort\": \"descending\", \"type\": \"nominal\"}, \"tooltip\": {\"field\": \"institution\", \"type\": \"nominal\"}, \"x\": {\"field\": \"count\", \"type\": \"quantitative\"}, \"y\": {\"field\": \"type\", \"type\": \"nominal\"}}, \"resolve\": {\"scale\": {\"x\": \"independent\"}}, \"title\": {\"text\": \"Comparision of artefact and record counts - Uncertainty: 500%\", \"anchor\": \"middle\"}, \"transform\": [{\"fold\": [\"artefact_count\", \"record_count\"], \"as\": [\"type\", \"count\"]}], \"width\": 800, \"$schema\": \"https://vega.github.io/schema/vega-lite/v5.17.0.json\", \"datasets\": {\"data-b7bcfeaa8c5e704c3452cb1cd2f74f2d\": [{\"institution\": \"Oxford University\", \"sector\": \"museum\", \"institution_type\": \"university\", \"topic\": \"mixed\", \"type\": \"object\", \"level\": \"item\", \"precision\": \"estimate\", \"artefact_count\": 0, \"record_count\": 1052444}, {\"institution\": \"Oxford University\", \"sector\": \"library\", \"institution_type\": \"university\", \"topic\": \"mixed\", \"type\": \"library\", \"level\": \"item\", \"precision\": \"estimate\", \"artefact_count\": 20000, \"record_count\": 8021011}, {\"institution\": \"Oxford University\", \"sector\": \"archive\", \"institution_type\": \"university\", \"topic\": \"mixed\", \"type\": \"archive\", \"level\": \"item\", \"precision\": \"estimate\", \"artefact_count\": 5000000, \"record_count\": 0}, {\"institution\": \"University of Cambridge\", \"sector\": \"museum\", \"institution_type\": \"university\", \"topic\": \"mixed\", \"type\": \"object\", \"level\": \"item\", \"precision\": \"estimate\", \"artefact_count\": 0, \"record_count\": 0}, {\"institution\": \"University of Cambridge\", \"sector\": \"library\", \"institution_type\": \"university\", \"topic\": \"mixed\", \"type\": \"library\", \"level\": \"item\", \"precision\": \"estimate\", \"artefact_count\": 10000000, \"record_count\": 0}, {\"institution\": \"University of Cambridge\", \"sector\": \"archive\", \"institution_type\": \"university\", \"topic\": \"mixed\", \"type\": \"archive\", \"level\": \"item\", \"precision\": \"estimate\", \"artefact_count\": 0, \"record_count\": 0}, {\"institution\": \"Durham University\", \"sector\": \"museum\", \"institution_type\": \"university\", \"topic\": \"mixed\", \"type\": \"object\", \"level\": \"item\", \"precision\": \"estimate\", \"artefact_count\": 36000, \"record_count\": 33234}, {\"institution\": \"Durham University\", \"sector\": \"library\", \"institution_type\": \"university\", \"topic\": \"mixed\", \"type\": \"library\", \"level\": \"item\", \"precision\": \"estimate\", \"artefact_count\": 70000, \"record_count\": 0}, {\"institution\": \"Durham University\", \"sector\": \"archive\", \"institution_type\": \"university\", \"topic\": \"mixed\", \"type\": \"archive\", \"level\": \"item\", \"precision\": \"estimate\", \"artefact_count\": 0, \"record_count\": 0}, {\"institution\": \"University College London\", \"sector\": \"museum\", \"institution_type\": \"university\", \"topic\": \"mixed\", \"type\": \"object\", \"level\": \"item\", \"precision\": \"estimate\", \"artefact_count\": 164000, \"record_count\": 104446}, {\"institution\": \"University College London\", \"sector\": \"library\", \"institution_type\": \"university\", \"topic\": \"mixed\", \"type\": \"library\", \"level\": \"item\", \"precision\": \"estimate\", \"artefact_count\": 0, \"record_count\": 0}, {\"institution\": \"University College London\", \"sector\": \"archive\", \"institution_type\": \"university\", \"topic\": \"mixed\", \"type\": \"archive\", \"level\": \"item\", \"precision\": \"estimate\", \"artefact_count\": 0, \"record_count\": 0}, {\"institution\": \"University of Manchester\", \"sector\": \"museum\", \"institution_type\": \"university\", \"topic\": \"mixed\", \"type\": \"object\", \"level\": \"item\", \"precision\": \"estimate\", \"artefact_count\": 60000, \"record_count\": 0}, {\"institution\": \"University of Manchester\", \"sector\": \"library\", \"institution_type\": \"university\", \"topic\": \"mixed\", \"type\": \"library\", \"level\": \"item\", \"precision\": \"estimate\", \"artefact_count\": 4000000, \"record_count\": 0}, {\"institution\": \"University of Manchester\", \"sector\": \"archive\", \"institution_type\": \"university\", \"topic\": \"mixed\", \"type\": \"archive\", \"level\": \"item\", \"precision\": \"estimate\", \"artefact_count\": 0, \"record_count\": 0}, {\"institution\": \"King's College London\", \"sector\": \"museum\", \"institution_type\": \"university\", \"topic\": \"mixed\", \"type\": \"object\", \"level\": \"item\", \"precision\": \"estimate\", \"artefact_count\": 0, \"record_count\": 0}, {\"institution\": \"King's College London\", \"sector\": \"library\", \"institution_type\": \"university\", \"topic\": \"mixed\", \"type\": \"library\", \"level\": \"item\", \"precision\": \"estimate\", \"artefact_count\": 200000, \"record_count\": 0}, {\"institution\": \"King's College London\", \"sector\": \"archive\", \"institution_type\": \"university\", \"topic\": \"mixed\", \"type\": \"archive\", \"level\": \"item\", \"precision\": \"estimate\", \"artefact_count\": 0, \"record_count\": 0}, {\"institution\": \"University of Birmingham\", \"sector\": \"museum\", \"institution_type\": \"university\", \"topic\": \"mixed\", \"type\": \"object\", \"level\": \"item\", \"precision\": \"estimate\", \"artefact_count\": 250000, \"record_count\": 0}, {\"institution\": \"University of Birmingham\", \"sector\": \"library\", \"institution_type\": \"university\", \"topic\": \"mixed\", \"type\": \"library\", \"level\": \"item\", \"precision\": \"estimate\", \"artefact_count\": 250000, \"record_count\": 0}, {\"institution\": \"University of Birmingham\", \"sector\": \"archive\", \"institution_type\": \"university\", \"topic\": \"mixed\", \"type\": \"archive\", \"level\": \"item\", \"precision\": \"estimate\", \"artefact_count\": 4000000, \"record_count\": 0}, {\"institution\": \"Unversity of Warwick\", \"sector\": \"museum\", \"institution_type\": \"university\", \"topic\": \"mixed\", \"type\": \"object\", \"level\": \"item\", \"precision\": \"estimate\", \"artefact_count\": 0, \"record_count\": 0}, {\"institution\": \"Unversity of Warwick\", \"sector\": \"library\", \"institution_type\": \"university\", \"topic\": \"mixed\", \"type\": \"library\", \"level\": \"item\", \"precision\": \"estimate\", \"artefact_count\": 16000, \"record_count\": 0}, {\"institution\": \"Unversity of Warwick\", \"sector\": \"archive\", \"institution_type\": \"university\", \"topic\": \"mixed\", \"type\": \"archive\", \"level\": \"item\", \"precision\": \"estimate\", \"artefact_count\": 0, \"record_count\": 367655}, {\"institution\": \"Manchester Metropolitan Unversity\", \"sector\": \"museum\", \"institution_type\": \"university\", \"topic\": \"mixed\", \"type\": \"object\", \"level\": \"item\", \"precision\": \"estimate\", \"artefact_count\": 0, \"record_count\": 0}, {\"institution\": \"Manchester Metropolitan Unversity\", \"sector\": \"library\", \"institution_type\": \"university\", \"topic\": \"mixed\", \"type\": \"library\", \"level\": \"item\", \"precision\": \"estimate\", \"artefact_count\": 0, \"record_count\": 28600}, {\"institution\": \"Manchester Metropolitan Unversity\", \"sector\": \"archive\", \"institution_type\": \"university\", \"topic\": \"mixed\", \"type\": \"archive\", \"level\": \"item\", \"precision\": \"estimate\", \"artefact_count\": 0, \"record_count\": 0}, {\"institution\": \"Chetham's Library\", \"sector\": \"museum\", \"institution_type\": \"library\", \"topic\": \"mixed\", \"type\": \"object\", \"level\": \"item\", \"precision\": \"estimate\", \"artefact_count\": 0, \"record_count\": 0}, {\"institution\": \"Chetham's Library\", \"sector\": \"library\", \"institution_type\": \"library\", \"topic\": \"mixed\", \"type\": \"library\", \"level\": \"item\", \"precision\": \"estimate\", \"artefact_count\": 121041, \"record_count\": 0}, {\"institution\": \"Chetham's Library\", \"sector\": \"archive\", \"institution_type\": \"library\", \"topic\": \"mixed\", \"type\": \"archive\", \"level\": \"item\", \"precision\": \"estimate\", \"artefact_count\": 0, \"record_count\": 0}, {\"institution\": \"Glasgow Woman's Library\", \"sector\": \"museum\", \"institution_type\": \"library\", \"topic\": \"mixed\", \"type\": \"object\", \"level\": \"item\", \"precision\": \"estimate\", \"artefact_count\": 0, \"record_count\": 3567}, {\"institution\": \"Glasgow Woman's Library\", \"sector\": \"library\", \"institution_type\": \"library\", \"topic\": \"mixed\", \"type\": \"library\", \"level\": \"item\", \"precision\": \"estimate\", \"artefact_count\": 0, \"record_count\": 0}, {\"institution\": \"Glasgow Woman's Library\", \"sector\": \"archive\", \"institution_type\": \"library\", \"topic\": \"mixed\", \"type\": \"archive\", \"level\": \"item\", \"precision\": \"estimate\", \"artefact_count\": 0, \"record_count\": 0}, {\"institution\": \"Lambeth Palace Library\", \"sector\": \"museum\", \"institution_type\": \"library\", \"topic\": \"theology\", \"type\": \"object\", \"level\": \"item\", \"precision\": \"estimate\", \"artefact_count\": 0, \"record_count\": 0}, {\"institution\": \"Lambeth Palace Library\", \"sector\": \"library\", \"institution_type\": \"library\", \"topic\": \"theology\", \"type\": \"library\", \"level\": \"item\", \"precision\": \"estimate\", \"artefact_count\": 186200, \"record_count\": 15000}, {\"institution\": \"Lambeth Palace Library\", \"sector\": \"archive\", \"institution_type\": \"library\", \"topic\": \"theology\", \"type\": \"archive\", \"level\": \"item\", \"precision\": \"estimate\", \"artefact_count\": 0, \"record_count\": 0}, {\"institution\": \"Victoria & Albert Museum\", \"sector\": \"museum\", \"institution_type\": \"museum\", \"topic\": \"art\", \"type\": \"object\", \"level\": \"item\", \"precision\": \"estimate\", \"artefact_count\": 1691513, \"record_count\": 1281326}, {\"institution\": \"Victoria & Albert Museum\", \"sector\": \"library\", \"institution_type\": \"museum\", \"topic\": \"art\", \"type\": \"library\", \"level\": \"item\", \"precision\": \"estimate\", \"artefact_count\": 1130157, \"record_count\": 849000}, {\"institution\": \"Victoria & Albert Museum\", \"sector\": \"archive\", \"institution_type\": \"museum\", \"topic\": \"art\", \"type\": \"archive\", \"level\": \"item\", \"precision\": \"estimate\", \"artefact_count\": 0, \"record_count\": 157054}, {\"institution\": \"Museum of the Home\", \"sector\": \"museum\", \"institution_type\": \"museum\", \"topic\": \"history\", \"type\": \"object\", \"level\": \"item\", \"precision\": \"estimate\", \"artefact_count\": 0, \"record_count\": 12200}, {\"institution\": \"Museum of the Home\", \"sector\": \"library\", \"institution_type\": \"museum\", \"topic\": \"history\", \"type\": \"library\", \"level\": \"item\", \"precision\": \"estimate\", \"artefact_count\": 0, \"record_count\": 6290}, {\"institution\": \"Horniman Museum\", \"sector\": \"museum\", \"institution_type\": \"museum\", \"topic\": \"history\", \"type\": \"object\", \"level\": \"item\", \"precision\": \"estimate\", \"artefact_count\": 0, \"record_count\": 132612}, {\"institution\": \"Imperial War Museums\", \"sector\": \"museum\", \"institution_type\": \"museum\", \"topic\": \"history\", \"type\": \"object\", \"level\": \"item\", \"precision\": \"estimate\", \"artefact_count\": 0, \"record_count\": 1737698}, {\"institution\": \"National Gallery\", \"sector\": \"museum\", \"institution_type\": \"gallery\", \"topic\": \"art\", \"type\": \"object\", \"level\": \"item\", \"precision\": \"exact\", \"artefact_count\": 2626, \"record_count\": 2626}, {\"institution\": \"National Museums Liverpool\", \"sector\": \"museum\", \"institution_type\": \"museum\", \"topic\": \"history\", \"type\": \"object\", \"level\": \"item\", \"precision\": \"estimate\", \"artefact_count\": 0, \"record_count\": 73682}, {\"institution\": \"National Portrait Gallery\", \"sector\": \"museum\", \"institution_type\": \"gallery\", \"topic\": \"art\", \"type\": \"object\", \"level\": \"item\", \"precision\": \"estimate\", \"artefact_count\": 0, \"record_count\": 220000}, {\"institution\": \"Natural History Museum\", \"sector\": \"museum\", \"institution_type\": \"museum\", \"topic\": \"nature\", \"type\": \"object\", \"level\": \"item\", \"precision\": \"estimate\", \"artefact_count\": 0, \"record_count\": 78000000}, {\"institution\": \"Royal Armouries\", \"sector\": \"museum\", \"institution_type\": \"museum\", \"topic\": \"history\", \"type\": \"object\", \"level\": \"item\", \"precision\": \"estimate\", \"artefact_count\": 0, \"record_count\": 65627}, {\"institution\": \"Royal Armouries\", \"sector\": \"library\", \"institution_type\": \"museum\", \"topic\": \"history\", \"type\": \"library\", \"level\": \"item\", \"precision\": \"estimate\", \"artefact_count\": 0, \"record_count\": 69619}, {\"institution\": \"Royal Armouries\", \"sector\": \"archive\", \"institution_type\": \"museum\", \"topic\": \"history\", \"type\": \"archive\", \"level\": \"item\", \"precision\": \"estimate\", \"artefact_count\": 0, \"record_count\": 130130}, {\"institution\": \"Sir John Soane's Museum\", \"sector\": \"museum\", \"institution_type\": \"museum\", \"topic\": \"history\", \"type\": \"object\", \"level\": \"item\", \"precision\": \"estimate\", \"artefact_count\": 0, \"record_count\": 57164}, {\"institution\": \"Sir John Soane's Museum\", \"sector\": \"library\", \"institution_type\": \"museum\", \"topic\": \"history\", \"type\": \"library\", \"level\": \"item\", \"precision\": \"estimate\", \"artefact_count\": 0, \"record_count\": 6393}, {\"institution\": \"Sir John Soane's Museum\", \"sector\": \"archive\", \"institution_type\": \"museum\", \"topic\": \"history\", \"type\": \"archive\", \"level\": \"item\", \"precision\": \"estimate\", \"artefact_count\": 0, \"record_count\": 0}, {\"institution\": \"Tate Gallery Group\", \"sector\": \"museum\", \"institution_type\": \"gallery\", \"topic\": \"art\", \"type\": \"object\", \"level\": \"item\", \"precision\": \"estimate\", \"artefact_count\": 0, \"record_count\": 79236}, {\"institution\": \"Tate Gallery Group\", \"sector\": \"archive\", \"institution_type\": \"gallery\", \"topic\": \"art\", \"type\": \"archive\", \"level\": \"item\", \"precision\": \"estimate\", \"artefact_count\": 0, \"record_count\": 807060}, {\"institution\": \"British Museum\", \"sector\": \"museum\", \"institution_type\": \"museum\", \"topic\": \"history\", \"type\": \"object\", \"level\": \"item\", \"precision\": \"estimate\", \"artefact_count\": 0, \"record_count\": 2000000}]}}, {\"mode\": \"vega-lite\"});\n",
       "</script>"
      ],
      "text/plain": [
       "alt.Chart(...)"
      ]
     },
     "execution_count": 21,
     "metadata": {},
     "output_type": "execute_result"
    }
   ],
   "source": [
    "title = alt.TitleParams('Comparision of artefact and record counts - Uncertainty: 500%', anchor='middle')\n",
    "alt.Chart(combined_art_record_type,title=title).mark_bar().encode(\n",
    "    alt.Color('institution:N', sort='descending', legend=alt.Legend(orient='bottom',columns=4)),\n",
    "    x='count:Q',\n",
    "    tooltip='institution',\n",
    "    y='type:N',\n",
    ").properties(width=800).resolve_scale(x='independent').transform_fold(\n",
    "    as_=['type', 'count'],\n",
    "    fold=['artefact_count', 'record_count']).configure(numberFormat='.2s')"
   ]
  },
  {
   "cell_type": "code",
   "execution_count": 13,
   "id": "47e43ea1-2341-48d5-932f-78cde4d43c79",
   "metadata": {
    "editable": true,
    "slideshow": {
     "slide_type": ""
    },
    "tags": [
     "remove-cell"
    ]
   },
   "outputs": [],
   "source": [
    "art_records = pd.merge(artefacts_data, records_data, on=\"institution\")"
   ]
  },
  {
   "cell_type": "code",
   "execution_count": 29,
   "id": "bc225b4f-d80d-4446-883b-deebf02dd9c8",
   "metadata": {
    "editable": true,
    "slideshow": {
     "slide_type": ""
    },
    "tags": [
     "remove-input"
    ]
   },
   "outputs": [
    {
     "data": {
      "text/html": [
       "\n",
       "<style>\n",
       "  #altair-viz-898cfb5f175e4a0a9344768d7223d3c0.vega-embed {\n",
       "    width: 100%;\n",
       "    display: flex;\n",
       "  }\n",
       "\n",
       "  #altair-viz-898cfb5f175e4a0a9344768d7223d3c0.vega-embed details,\n",
       "  #altair-viz-898cfb5f175e4a0a9344768d7223d3c0.vega-embed details summary {\n",
       "    position: relative;\n",
       "  }\n",
       "</style>\n",
       "<div id=\"altair-viz-898cfb5f175e4a0a9344768d7223d3c0\"></div>\n",
       "<script type=\"text/javascript\">\n",
       "  var VEGA_DEBUG = (typeof VEGA_DEBUG == \"undefined\") ? {} : VEGA_DEBUG;\n",
       "  (function(spec, embedOpt){\n",
       "    let outputDiv = document.currentScript.previousElementSibling;\n",
       "    if (outputDiv.id !== \"altair-viz-898cfb5f175e4a0a9344768d7223d3c0\") {\n",
       "      outputDiv = document.getElementById(\"altair-viz-898cfb5f175e4a0a9344768d7223d3c0\");\n",
       "    }\n",
       "    const paths = {\n",
       "      \"vega\": \"https://cdn.jsdelivr.net/npm/vega@5?noext\",\n",
       "      \"vega-lib\": \"https://cdn.jsdelivr.net/npm/vega-lib?noext\",\n",
       "      \"vega-lite\": \"https://cdn.jsdelivr.net/npm/vega-lite@5.17.0?noext\",\n",
       "      \"vega-embed\": \"https://cdn.jsdelivr.net/npm/vega-embed@6?noext\",\n",
       "    };\n",
       "\n",
       "    function maybeLoadScript(lib, version) {\n",
       "      var key = `${lib.replace(\"-\", \"\")}_version`;\n",
       "      return (VEGA_DEBUG[key] == version) ?\n",
       "        Promise.resolve(paths[lib]) :\n",
       "        new Promise(function(resolve, reject) {\n",
       "          var s = document.createElement('script');\n",
       "          document.getElementsByTagName(\"head\")[0].appendChild(s);\n",
       "          s.async = true;\n",
       "          s.onload = () => {\n",
       "            VEGA_DEBUG[key] = version;\n",
       "            return resolve(paths[lib]);\n",
       "          };\n",
       "          s.onerror = () => reject(`Error loading script: ${paths[lib]}`);\n",
       "          s.src = paths[lib];\n",
       "        });\n",
       "    }\n",
       "\n",
       "    function showError(err) {\n",
       "      outputDiv.innerHTML = `<div class=\"error\" style=\"color:red;\">${err}</div>`;\n",
       "      throw err;\n",
       "    }\n",
       "\n",
       "    function displayChart(vegaEmbed) {\n",
       "      vegaEmbed(outputDiv, spec, embedOpt)\n",
       "        .catch(err => showError(`Javascript Error: ${err.message}<br>This usually means there's a typo in your chart specification. See the javascript console for the full traceback.`));\n",
       "    }\n",
       "\n",
       "    if(typeof define === \"function\" && define.amd) {\n",
       "      requirejs.config({paths});\n",
       "      require([\"vega-embed\"], displayChart, err => showError(`Error loading script: ${err.message}`));\n",
       "    } else {\n",
       "      maybeLoadScript(\"vega\", \"5\")\n",
       "        .then(() => maybeLoadScript(\"vega-lite\", \"5.17.0\"))\n",
       "        .then(() => maybeLoadScript(\"vega-embed\", \"6\"))\n",
       "        .catch(showError)\n",
       "        .then(() => displayChart(vegaEmbed));\n",
       "    }\n",
       "  })({\"config\": {\"view\": {\"continuousWidth\": 300, \"continuousHeight\": 300}}, \"data\": {\"name\": \"data-74afcd98ecb9689581b2c6e04c792d60\"}, \"mark\": {\"type\": \"bar\"}, \"encoding\": {\"tooltip\": {\"field\": \"percent_catalogued\", \"type\": \"quantitative\"}, \"x\": {\"axis\": {\"format\": \".0%\"}, \"field\": \"percent_catalogued\", \"type\": \"quantitative\"}, \"y\": {\"field\": \"institution\", \"type\": \"nominal\"}}, \"title\": {\"text\": \"Catalogued Artefacts (overall percentage) - Uncertainty: 500%\", \"anchor\": \"middle\"}, \"transform\": [{\"calculate\": \"datum.record_count / datum.artefact_count\", \"as\": \"percent_catalogued\"}], \"$schema\": \"https://vega.github.io/schema/vega-lite/v5.17.0.json\", \"datasets\": {\"data-74afcd98ecb9689581b2c6e04c792d60\": [{\"institution\": \"Oxford University\", \"sector\": \"university\", \"type\": \"university\", \"topic\": \"mixed\", \"precision\": \"estimate\", \"artefact_count\": 22530000, \"record_count\": 9073455}, {\"institution\": \"University of Cambridge\", \"sector\": \"university\", \"type\": \"university\", \"topic\": \"mixed\", \"precision\": \"estimate\", \"artefact_count\": 10000000, \"record_count\": 0}, {\"institution\": \"Durham University\", \"sector\": \"university\", \"type\": \"university\", \"topic\": \"mixed\", \"precision\": \"estimate\", \"artefact_count\": 106000, \"record_count\": 33234}, {\"institution\": \"University College London\", \"sector\": \"university\", \"type\": \"university\", \"topic\": \"mixed\", \"precision\": \"estimate\", \"artefact_count\": 164000, \"record_count\": 104446}, {\"institution\": \"University of Manchester\", \"sector\": \"university\", \"type\": \"university\", \"topic\": \"mixed\", \"precision\": \"estimate\", \"artefact_count\": 4060000, \"record_count\": 0}, {\"institution\": \"King's College London\", \"sector\": \"university\", \"type\": \"university\", \"topic\": \"mixed\", \"precision\": \"estimate\", \"artefact_count\": 200000, \"record_count\": 0}, {\"institution\": \"University of Birmingham\", \"sector\": \"university\", \"type\": \"university\", \"topic\": \"mixed\", \"precision\": \"estimate\", \"artefact_count\": 4500000, \"record_count\": 0}, {\"institution\": \"Unversity of Warwick\", \"sector\": \"university\", \"type\": \"university\", \"topic\": \"mixed\", \"precision\": \"estimate\", \"artefact_count\": 16000, \"record_count\": 367655}, {\"institution\": \"Manchester Metropolitan Unversity\", \"sector\": \"university\", \"type\": \"university\", \"topic\": \"mixed\", \"precision\": \"estimate\", \"artefact_count\": 0, \"record_count\": 28600}, {\"institution\": \"British Library\", \"sector\": \"library\", \"type\": \"library\", \"topic\": \"mixed\", \"precision\": \"estimate\", \"artefact_count\": 170000000, \"record_count\": 0}, {\"institution\": \"Chetham's Library\", \"sector\": \"library\", \"type\": \"library\", \"topic\": \"mixed\", \"precision\": \"estimate\", \"artefact_count\": 121041, \"record_count\": 0}, {\"institution\": \"Glasgow Woman's Library\", \"sector\": \"library\", \"type\": \"library\", \"topic\": \"mixed\", \"precision\": \"estimate\", \"artefact_count\": 0, \"record_count\": 3567}, {\"institution\": \"Lambeth Palace Library\", \"sector\": \"library\", \"type\": \"library\", \"topic\": \"theology\", \"precision\": \"estimate\", \"artefact_count\": 186200, \"record_count\": 15000}, {\"institution\": \"National Library of Wales\", \"sector\": \"library\", \"type\": \"library\", \"topic\": \"mixed\", \"precision\": \"estimate\", \"artefact_count\": 7540000, \"record_count\": 0}, {\"institution\": \"National Library of Scotland\", \"sector\": \"library\", \"type\": \"library\", \"topic\": \"mixed\", \"precision\": \"estimate\", \"artefact_count\": 34000000, \"record_count\": 0}, {\"institution\": \"Victoria & Albert Museum\", \"sector\": \"dcms\", \"type\": \"museum\", \"topic\": \"art\", \"precision\": \"estimate\", \"artefact_count\": 2800000, \"record_count\": 2287380}, {\"institution\": \"Science Museum Group\", \"sector\": \"dcms\", \"type\": \"museum\", \"topic\": \"science\", \"precision\": \"estimate\", \"artefact_count\": 7360793, \"record_count\": 0}, {\"institution\": \"Museum of the Home\", \"sector\": \"dcms\", \"type\": \"museum\", \"topic\": \"history\", \"precision\": \"estimate\", \"artefact_count\": 40000, \"record_count\": 18490}, {\"institution\": \"Horniman Museum\", \"sector\": \"dcms\", \"type\": \"museum\", \"topic\": \"history\", \"precision\": \"estimate\", \"artefact_count\": 350000, \"record_count\": 132612}, {\"institution\": \"Imperial War Museums\", \"sector\": \"dcms\", \"type\": \"museum\", \"topic\": \"history\", \"precision\": \"estimate\", \"artefact_count\": 1000000, \"record_count\": 1737698}, {\"institution\": \"National Gallery\", \"sector\": \"dcms\", \"type\": \"gallery\", \"topic\": \"art\", \"precision\": \"estimate\", \"artefact_count\": 2626, \"record_count\": 2626}, {\"institution\": \"National Museums Liverpool\", \"sector\": \"dcms\", \"type\": \"museum\", \"topic\": \"history\", \"precision\": \"estimate\", \"artefact_count\": 4000000, \"record_count\": 73682}, {\"institution\": \"National Portrait Gallery\", \"sector\": \"dcms\", \"type\": \"gallery\", \"topic\": \"art\", \"precision\": \"estimate\", \"artefact_count\": 350000, \"record_count\": 220000}, {\"institution\": \"Natural History Museum\", \"sector\": \"dcms\", \"type\": \"museum\", \"topic\": \"nature\", \"precision\": \"estimate\", \"artefact_count\": 80000000, \"record_count\": 78000000}, {\"institution\": \"Royal Armouries\", \"sector\": \"dcms\", \"type\": \"museum\", \"topic\": \"history\", \"precision\": \"estimate\", \"artefact_count\": 70000, \"record_count\": 265376}, {\"institution\": \"Royal Museums Greenwich\", \"sector\": \"dcms\", \"type\": \"museum\", \"topic\": \"history\", \"precision\": \"estimate\", \"artefact_count\": 3000000, \"record_count\": 0}, {\"institution\": \"Sir John Soane's Museum\", \"sector\": \"dcms\", \"type\": \"museum\", \"topic\": \"history\", \"precision\": \"estimate\", \"artefact_count\": 52000, \"record_count\": 63557}, {\"institution\": \"Tate Gallery Group\", \"sector\": \"dcms\", \"type\": \"gallery\", \"topic\": \"art\", \"precision\": \"estimate\", \"artefact_count\": 70000, \"record_count\": 886296}, {\"institution\": \"The Wallace Collection\", \"sector\": \"dcms\", \"type\": \"museum\", \"topic\": \"art\", \"precision\": \"estimate\", \"artefact_count\": 5637, \"record_count\": 0}, {\"institution\": \"British Museum\", \"sector\": \"dcms\", \"type\": \"museum\", \"topic\": \"history\", \"precision\": \"estimate\", \"artefact_count\": 8000000, \"record_count\": 2000000}]}}, {\"mode\": \"vega-lite\"});\n",
       "</script>"
      ],
      "text/plain": [
       "alt.Chart(...)"
      ]
     },
     "execution_count": 29,
     "metadata": {},
     "output_type": "execute_result"
    }
   ],
   "source": [
    "import altair as alt\n",
    "\n",
    "title = alt.TitleParams('Catalogued Artefacts (overall percentage) - Uncertainty: 500%', anchor='middle')\n",
    "alt.Chart(art_records, title=title).mark_bar().encode(\n",
    "    alt.X('percent_catalogued:Q').axis(format='.0%'),\n",
    "    tooltip=\"percent_catalogued:Q\",\n",
    "    y='institution:N'\n",
    ").transform_calculate(\n",
    "    percent_catalogued=\"datum.record_count / datum.artefact_count\"\n",
    ")"
   ]
  },
  {
   "cell_type": "code",
   "execution_count": 30,
   "id": "d03dd707-7354-4c53-adec-2f55db4d327d",
   "metadata": {
    "editable": true,
    "slideshow": {
     "slide_type": ""
    },
    "tags": [
     "hide-input"
    ]
   },
   "outputs": [],
   "source": [
    "import pandas as pd\n",
    "artefacts_type_df = pd.read_csv(\"artefacts-type-overview-stats.csv\")\n",
    "records_type_df = pd.read_csv(\"records-institution-stats-type-total.csv\")\n",
    "combined_art_record_type = pd.merge(artefacts_type_df, records_type_df, on=['institution', 'type'])\n"
   ]
  },
  {
   "cell_type": "code",
   "execution_count": 36,
   "id": "80f56627-6b31-4de3-b46c-ca704c2eb9c1",
   "metadata": {
    "editable": true,
    "slideshow": {
     "slide_type": ""
    },
    "tags": [
     "hide-input"
    ]
   },
   "outputs": [
    {
     "data": {
      "text/html": [
       "\n",
       "<style>\n",
       "  #altair-viz-2cc46c435f8b45129c463ddff0a7367c.vega-embed {\n",
       "    width: 100%;\n",
       "    display: flex;\n",
       "  }\n",
       "\n",
       "  #altair-viz-2cc46c435f8b45129c463ddff0a7367c.vega-embed details,\n",
       "  #altair-viz-2cc46c435f8b45129c463ddff0a7367c.vega-embed details summary {\n",
       "    position: relative;\n",
       "  }\n",
       "</style>\n",
       "<div id=\"altair-viz-2cc46c435f8b45129c463ddff0a7367c\"></div>\n",
       "<script type=\"text/javascript\">\n",
       "  var VEGA_DEBUG = (typeof VEGA_DEBUG == \"undefined\") ? {} : VEGA_DEBUG;\n",
       "  (function(spec, embedOpt){\n",
       "    let outputDiv = document.currentScript.previousElementSibling;\n",
       "    if (outputDiv.id !== \"altair-viz-2cc46c435f8b45129c463ddff0a7367c\") {\n",
       "      outputDiv = document.getElementById(\"altair-viz-2cc46c435f8b45129c463ddff0a7367c\");\n",
       "    }\n",
       "    const paths = {\n",
       "      \"vega\": \"https://cdn.jsdelivr.net/npm/vega@5?noext\",\n",
       "      \"vega-lib\": \"https://cdn.jsdelivr.net/npm/vega-lib?noext\",\n",
       "      \"vega-lite\": \"https://cdn.jsdelivr.net/npm/vega-lite@5.17.0?noext\",\n",
       "      \"vega-embed\": \"https://cdn.jsdelivr.net/npm/vega-embed@6?noext\",\n",
       "    };\n",
       "\n",
       "    function maybeLoadScript(lib, version) {\n",
       "      var key = `${lib.replace(\"-\", \"\")}_version`;\n",
       "      return (VEGA_DEBUG[key] == version) ?\n",
       "        Promise.resolve(paths[lib]) :\n",
       "        new Promise(function(resolve, reject) {\n",
       "          var s = document.createElement('script');\n",
       "          document.getElementsByTagName(\"head\")[0].appendChild(s);\n",
       "          s.async = true;\n",
       "          s.onload = () => {\n",
       "            VEGA_DEBUG[key] = version;\n",
       "            return resolve(paths[lib]);\n",
       "          };\n",
       "          s.onerror = () => reject(`Error loading script: ${paths[lib]}`);\n",
       "          s.src = paths[lib];\n",
       "        });\n",
       "    }\n",
       "\n",
       "    function showError(err) {\n",
       "      outputDiv.innerHTML = `<div class=\"error\" style=\"color:red;\">${err}</div>`;\n",
       "      throw err;\n",
       "    }\n",
       "\n",
       "    function displayChart(vegaEmbed) {\n",
       "      vegaEmbed(outputDiv, spec, embedOpt)\n",
       "        .catch(err => showError(`Javascript Error: ${err.message}<br>This usually means there's a typo in your chart specification. See the javascript console for the full traceback.`));\n",
       "    }\n",
       "\n",
       "    if(typeof define === \"function\" && define.amd) {\n",
       "      requirejs.config({paths});\n",
       "      require([\"vega-embed\"], displayChart, err => showError(`Error loading script: ${err.message}`));\n",
       "    } else {\n",
       "      maybeLoadScript(\"vega\", \"5\")\n",
       "        .then(() => maybeLoadScript(\"vega-lite\", \"5.17.0\"))\n",
       "        .then(() => maybeLoadScript(\"vega-embed\", \"6\"))\n",
       "        .catch(showError)\n",
       "        .then(() => displayChart(vegaEmbed));\n",
       "    }\n",
       "  })({\"config\": {\"view\": {\"continuousWidth\": 300, \"continuousHeight\": 300}}, \"data\": {\"name\": \"data-3bb1c638a445ad30fb03315fdb6babb5\"}, \"mark\": {\"type\": \"bar\"}, \"encoding\": {\"color\": {\"field\": \"topic\", \"legend\": {\"orient\": \"bottom\", \"titleOrient\": \"left\"}, \"title\": \"settings\", \"type\": \"nominal\"}, \"row\": {\"field\": \"institution\", \"header\": {\"labelAngle\": 0, \"labelAlign\": \"left\"}, \"title\": \"Institution\", \"type\": \"nominal\"}, \"tooltip\": {\"field\": \"percent_catalogued\", \"type\": \"quantitative\"}, \"x\": {\"axis\": {\"format\": \".0%\"}, \"field\": \"percent_catalogued\", \"title\": null, \"type\": \"quantitative\"}, \"y\": {\"field\": \"type\", \"title\": null, \"type\": \"nominal\"}}, \"height\": {\"step\": 8}, \"resolve\": {\"scale\": {\"x\": \"independent\"}}, \"title\": {\"text\": \"Catalogued Artefacts by institution and type) - Uncertainty: 500%\", \"anchor\": \"middle\"}, \"transform\": [{\"calculate\": \"datum.record_count / datum.artefact_count\", \"as\": \"percent_catalogued\"}], \"width\": 400, \"$schema\": \"https://vega.github.io/schema/vega-lite/v5.17.0.json\", \"datasets\": {\"data-3bb1c638a445ad30fb03315fdb6babb5\": [{\"institution\": \"Oxford University\", \"sector\": \"museum\", \"institution_type\": \"university\", \"topic\": \"mixed\", \"type\": \"object\", \"level\": \"item\", \"precision\": \"estimate\", \"artefact_count\": 0, \"record_count\": 1052444}, {\"institution\": \"Oxford University\", \"sector\": \"library\", \"institution_type\": \"university\", \"topic\": \"mixed\", \"type\": \"library\", \"level\": \"item\", \"precision\": \"estimate\", \"artefact_count\": 20000, \"record_count\": 8021011}, {\"institution\": \"Oxford University\", \"sector\": \"archive\", \"institution_type\": \"university\", \"topic\": \"mixed\", \"type\": \"archive\", \"level\": \"item\", \"precision\": \"estimate\", \"artefact_count\": 5000000, \"record_count\": 0}, {\"institution\": \"University of Cambridge\", \"sector\": \"museum\", \"institution_type\": \"university\", \"topic\": \"mixed\", \"type\": \"object\", \"level\": \"item\", \"precision\": \"estimate\", \"artefact_count\": 0, \"record_count\": 0}, {\"institution\": \"University of Cambridge\", \"sector\": \"library\", \"institution_type\": \"university\", \"topic\": \"mixed\", \"type\": \"library\", \"level\": \"item\", \"precision\": \"estimate\", \"artefact_count\": 10000000, \"record_count\": 0}, {\"institution\": \"University of Cambridge\", \"sector\": \"archive\", \"institution_type\": \"university\", \"topic\": \"mixed\", \"type\": \"archive\", \"level\": \"item\", \"precision\": \"estimate\", \"artefact_count\": 0, \"record_count\": 0}, {\"institution\": \"Durham University\", \"sector\": \"museum\", \"institution_type\": \"university\", \"topic\": \"mixed\", \"type\": \"object\", \"level\": \"item\", \"precision\": \"estimate\", \"artefact_count\": 36000, \"record_count\": 33234}, {\"institution\": \"Durham University\", \"sector\": \"library\", \"institution_type\": \"university\", \"topic\": \"mixed\", \"type\": \"library\", \"level\": \"item\", \"precision\": \"estimate\", \"artefact_count\": 70000, \"record_count\": 0}, {\"institution\": \"Durham University\", \"sector\": \"archive\", \"institution_type\": \"university\", \"topic\": \"mixed\", \"type\": \"archive\", \"level\": \"item\", \"precision\": \"estimate\", \"artefact_count\": 0, \"record_count\": 0}, {\"institution\": \"University College London\", \"sector\": \"museum\", \"institution_type\": \"university\", \"topic\": \"mixed\", \"type\": \"object\", \"level\": \"item\", \"precision\": \"estimate\", \"artefact_count\": 164000, \"record_count\": 104446}, {\"institution\": \"University College London\", \"sector\": \"library\", \"institution_type\": \"university\", \"topic\": \"mixed\", \"type\": \"library\", \"level\": \"item\", \"precision\": \"estimate\", \"artefact_count\": 0, \"record_count\": 0}, {\"institution\": \"University College London\", \"sector\": \"archive\", \"institution_type\": \"university\", \"topic\": \"mixed\", \"type\": \"archive\", \"level\": \"item\", \"precision\": \"estimate\", \"artefact_count\": 0, \"record_count\": 0}, {\"institution\": \"University of Manchester\", \"sector\": \"museum\", \"institution_type\": \"university\", \"topic\": \"mixed\", \"type\": \"object\", \"level\": \"item\", \"precision\": \"estimate\", \"artefact_count\": 60000, \"record_count\": 0}, {\"institution\": \"University of Manchester\", \"sector\": \"library\", \"institution_type\": \"university\", \"topic\": \"mixed\", \"type\": \"library\", \"level\": \"item\", \"precision\": \"estimate\", \"artefact_count\": 4000000, \"record_count\": 0}, {\"institution\": \"University of Manchester\", \"sector\": \"archive\", \"institution_type\": \"university\", \"topic\": \"mixed\", \"type\": \"archive\", \"level\": \"item\", \"precision\": \"estimate\", \"artefact_count\": 0, \"record_count\": 0}, {\"institution\": \"King's College London\", \"sector\": \"museum\", \"institution_type\": \"university\", \"topic\": \"mixed\", \"type\": \"object\", \"level\": \"item\", \"precision\": \"estimate\", \"artefact_count\": 0, \"record_count\": 0}, {\"institution\": \"King's College London\", \"sector\": \"library\", \"institution_type\": \"university\", \"topic\": \"mixed\", \"type\": \"library\", \"level\": \"item\", \"precision\": \"estimate\", \"artefact_count\": 200000, \"record_count\": 0}, {\"institution\": \"King's College London\", \"sector\": \"archive\", \"institution_type\": \"university\", \"topic\": \"mixed\", \"type\": \"archive\", \"level\": \"item\", \"precision\": \"estimate\", \"artefact_count\": 0, \"record_count\": 0}, {\"institution\": \"University of Birmingham\", \"sector\": \"museum\", \"institution_type\": \"university\", \"topic\": \"mixed\", \"type\": \"object\", \"level\": \"item\", \"precision\": \"estimate\", \"artefact_count\": 250000, \"record_count\": 0}, {\"institution\": \"University of Birmingham\", \"sector\": \"library\", \"institution_type\": \"university\", \"topic\": \"mixed\", \"type\": \"library\", \"level\": \"item\", \"precision\": \"estimate\", \"artefact_count\": 250000, \"record_count\": 0}, {\"institution\": \"University of Birmingham\", \"sector\": \"archive\", \"institution_type\": \"university\", \"topic\": \"mixed\", \"type\": \"archive\", \"level\": \"item\", \"precision\": \"estimate\", \"artefact_count\": 4000000, \"record_count\": 0}, {\"institution\": \"Unversity of Warwick\", \"sector\": \"museum\", \"institution_type\": \"university\", \"topic\": \"mixed\", \"type\": \"object\", \"level\": \"item\", \"precision\": \"estimate\", \"artefact_count\": 0, \"record_count\": 0}, {\"institution\": \"Unversity of Warwick\", \"sector\": \"library\", \"institution_type\": \"university\", \"topic\": \"mixed\", \"type\": \"library\", \"level\": \"item\", \"precision\": \"estimate\", \"artefact_count\": 16000, \"record_count\": 0}, {\"institution\": \"Unversity of Warwick\", \"sector\": \"archive\", \"institution_type\": \"university\", \"topic\": \"mixed\", \"type\": \"archive\", \"level\": \"item\", \"precision\": \"estimate\", \"artefact_count\": 0, \"record_count\": 367655}, {\"institution\": \"Manchester Metropolitan Unversity\", \"sector\": \"museum\", \"institution_type\": \"university\", \"topic\": \"mixed\", \"type\": \"object\", \"level\": \"item\", \"precision\": \"estimate\", \"artefact_count\": 0, \"record_count\": 0}, {\"institution\": \"Manchester Metropolitan Unversity\", \"sector\": \"library\", \"institution_type\": \"university\", \"topic\": \"mixed\", \"type\": \"library\", \"level\": \"item\", \"precision\": \"estimate\", \"artefact_count\": 0, \"record_count\": 28600}, {\"institution\": \"Manchester Metropolitan Unversity\", \"sector\": \"archive\", \"institution_type\": \"university\", \"topic\": \"mixed\", \"type\": \"archive\", \"level\": \"item\", \"precision\": \"estimate\", \"artefact_count\": 0, \"record_count\": 0}, {\"institution\": \"Swansea University\", \"sector\": \"museum\", \"institution_type\": \"university\", \"topic\": \"mixed\", \"type\": \"object\", \"level\": \"item\", \"precision\": \"estimate\", \"artefact_count\": 0, \"record_count\": 0}, {\"institution\": \"Swansea University\", \"sector\": \"library\", \"institution_type\": \"university\", \"topic\": \"mixed\", \"type\": \"library\", \"level\": \"item\", \"precision\": \"estimate\", \"artefact_count\": 1700, \"record_count\": 0}, {\"institution\": \"Swansea University\", \"sector\": \"archive\", \"institution_type\": \"university\", \"topic\": \"mixed\", \"type\": \"archive\", \"level\": \"item\", \"precision\": \"estimate\", \"artefact_count\": 0, \"record_count\": 0}, {\"institution\": \"University of Brighton\", \"sector\": \"museum\", \"institution_type\": \"university\", \"topic\": \"mixed\", \"type\": \"object\", \"level\": \"item\", \"precision\": \"estimate\", \"artefact_count\": 0, \"record_count\": 0}, {\"institution\": \"University of Brighton\", \"sector\": \"library\", \"institution_type\": \"university\", \"topic\": \"mixed\", \"type\": \"library\", \"level\": \"item\", \"precision\": \"estimate\", \"artefact_count\": 50000, \"record_count\": 0}, {\"institution\": \"University of Brighton\", \"sector\": \"archive\", \"institution_type\": \"university\", \"topic\": \"mixed\", \"type\": \"archive\", \"level\": \"item\", \"precision\": \"estimate\", \"artefact_count\": 0, \"record_count\": 0}, {\"institution\": \"SOAS, University of London\", \"sector\": \"museum\", \"institution_type\": \"university\", \"topic\": \"mixed\", \"type\": \"object\", \"level\": \"item\", \"precision\": \"estimate\", \"artefact_count\": 0, \"record_count\": 0}, {\"institution\": \"SOAS, University of London\", \"sector\": \"library\", \"institution_type\": \"university\", \"topic\": \"mixed\", \"type\": \"library\", \"level\": \"item\", \"precision\": \"estimate\", \"artefact_count\": 60000, \"record_count\": 40337}, {\"institution\": \"SOAS, University of London\", \"sector\": \"archive\", \"institution_type\": \"university\", \"topic\": \"mixed\", \"type\": \"archive\", \"level\": \"item\", \"precision\": \"estimate\", \"artefact_count\": 0, \"record_count\": 0}, {\"institution\": \"University of Aberdeen\", \"sector\": \"museum\", \"institution_type\": \"university\", \"topic\": \"mixed\", \"type\": \"object\", \"level\": \"item\", \"precision\": \"estimate\", \"artefact_count\": 0, \"record_count\": 0}, {\"institution\": \"University of Aberdeen\", \"sector\": \"library\", \"institution_type\": \"university\", \"topic\": \"mixed\", \"type\": \"library\", \"level\": \"item\", \"precision\": \"estimate\", \"artefact_count\": 530000, \"record_count\": 0}, {\"institution\": \"University of Aberdeen\", \"sector\": \"archive\", \"institution_type\": \"university\", \"topic\": \"mixed\", \"type\": \"archive\", \"level\": \"item\", \"precision\": \"estimate\", \"artefact_count\": 0, \"record_count\": 0}, {\"institution\": \"University of Bristol\", \"sector\": \"museum\", \"institution_type\": \"university\", \"topic\": \"mixed\", \"type\": \"object\", \"level\": \"item\", \"precision\": \"estimate\", \"artefact_count\": 100000, \"record_count\": 0}, {\"institution\": \"University of Bristol\", \"sector\": \"library\", \"institution_type\": \"university\", \"topic\": \"mixed\", \"type\": \"library\", \"level\": \"item\", \"precision\": \"estimate\", \"artefact_count\": 0, \"record_count\": 0}, {\"institution\": \"University of Bristol\", \"sector\": \"archive\", \"institution_type\": \"university\", \"topic\": \"mixed\", \"type\": \"archive\", \"level\": \"item\", \"precision\": \"estimate\", \"artefact_count\": 0, \"record_count\": 0}, {\"institution\": \"University of Leeds\", \"sector\": \"museum\", \"institution_type\": \"university\", \"topic\": \"mixed\", \"type\": \"object\", \"level\": \"item\", \"precision\": \"estimate\", \"artefact_count\": 0, \"record_count\": 0}, {\"institution\": \"University of Leeds\", \"sector\": \"library\", \"institution_type\": \"university\", \"topic\": \"mixed\", \"type\": \"library\", \"level\": \"item\", \"precision\": \"estimate\", \"artefact_count\": 350000, \"record_count\": 0}, {\"institution\": \"University of Leeds\", \"sector\": \"archive\", \"institution_type\": \"university\", \"topic\": \"mixed\", \"type\": \"archive\", \"level\": \"item\", \"precision\": \"estimate\", \"artefact_count\": 0, \"record_count\": 0}, {\"institution\": \"University of Leicester\", \"sector\": \"museum\", \"institution_type\": \"university\", \"topic\": \"mixed\", \"type\": \"object\", \"level\": \"item\", \"precision\": \"estimate\", \"artefact_count\": 25000, \"record_count\": 0}, {\"institution\": \"University of Leicester\", \"sector\": \"library\", \"institution_type\": \"university\", \"topic\": \"mixed\", \"type\": \"library\", \"level\": \"item\", \"precision\": \"estimate\", \"artefact_count\": 0, \"record_count\": 0}, {\"institution\": \"University of Leicester\", \"sector\": \"archive\", \"institution_type\": \"university\", \"topic\": \"mixed\", \"type\": \"archive\", \"level\": \"item\", \"precision\": \"estimate\", \"artefact_count\": 0, \"record_count\": 0}, {\"institution\": \"University of Reading\", \"sector\": \"library\", \"institution_type\": \"university\", \"topic\": \"mixed\", \"type\": \"library\", \"level\": \"item\", \"precision\": \"estimate\", \"artefact_count\": 0, \"record_count\": 69841}, {\"institution\": \"University of Reading\", \"sector\": \"archive\", \"institution_type\": \"university\", \"topic\": \"mixed\", \"type\": \"archive\", \"level\": \"item\", \"precision\": \"estimate\", \"artefact_count\": 0, \"record_count\": 186216}, {\"institution\": \"University of Sheffield\", \"sector\": \"museum\", \"institution_type\": \"university\", \"topic\": \"mixed\", \"type\": \"object\", \"level\": \"item\", \"precision\": \"estimate\", \"artefact_count\": 0, \"record_count\": 0}, {\"institution\": \"University of Sheffield\", \"sector\": \"library\", \"institution_type\": \"university\", \"topic\": \"mixed\", \"type\": \"library\", \"level\": \"item\", \"precision\": \"estimate\", \"artefact_count\": 30000, \"record_count\": 0}, {\"institution\": \"University of Sheffield\", \"sector\": \"archive\", \"institution_type\": \"university\", \"topic\": \"mixed\", \"type\": \"archive\", \"level\": \"item\", \"precision\": \"estimate\", \"artefact_count\": 0, \"record_count\": 0}, {\"institution\": \"University of St Andrews\", \"sector\": \"museum\", \"institution_type\": \"university\", \"topic\": \"mixed\", \"type\": \"object\", \"level\": \"item\", \"precision\": \"estimate\", \"artefact_count\": 0, \"record_count\": 0}, {\"institution\": \"University of St Andrews\", \"sector\": \"library\", \"institution_type\": \"university\", \"topic\": \"mixed\", \"type\": \"library\", \"level\": \"item\", \"precision\": \"estimate\", \"artefact_count\": 200000, \"record_count\": 0}, {\"institution\": \"University of St Andrews\", \"sector\": \"archive\", \"institution_type\": \"university\", \"topic\": \"mixed\", \"type\": \"archive\", \"level\": \"item\", \"precision\": \"estimate\", \"artefact_count\": 0, \"record_count\": 0}, {\"institution\": \"British Library\", \"sector\": \"museum\", \"institution_type\": \"library\", \"topic\": \"mixed\", \"type\": \"object\", \"level\": \"item\", \"precision\": \"estimate\", \"artefact_count\": 0, \"record_count\": 0}, {\"institution\": \"British Library\", \"sector\": \"library\", \"institution_type\": \"library\", \"topic\": \"mixed\", \"type\": \"library\", \"level\": \"item\", \"precision\": \"estimate\", \"artefact_count\": 33810000, \"record_count\": 0}, {\"institution\": \"British Library\", \"sector\": \"archive\", \"institution_type\": \"library\", \"topic\": \"mixed\", \"type\": \"archive\", \"level\": \"item\", \"precision\": \"estimate\", \"artefact_count\": 0, \"record_count\": 0}, {\"institution\": \"Chetham's Library\", \"sector\": \"museum\", \"institution_type\": \"library\", \"topic\": \"mixed\", \"type\": \"object\", \"level\": \"item\", \"precision\": \"estimate\", \"artefact_count\": 0, \"record_count\": 0}, {\"institution\": \"Chetham's Library\", \"sector\": \"library\", \"institution_type\": \"library\", \"topic\": \"mixed\", \"type\": \"library\", \"level\": \"item\", \"precision\": \"estimate\", \"artefact_count\": 121041, \"record_count\": 0}, {\"institution\": \"Chetham's Library\", \"sector\": \"archive\", \"institution_type\": \"library\", \"topic\": \"mixed\", \"type\": \"archive\", \"level\": \"item\", \"precision\": \"estimate\", \"artefact_count\": 0, \"record_count\": 0}, {\"institution\": \"Glasgow Woman's Library\", \"sector\": \"museum\", \"institution_type\": \"library\", \"topic\": \"mixed\", \"type\": \"object\", \"level\": \"item\", \"precision\": \"estimate\", \"artefact_count\": 0, \"record_count\": 3567}, {\"institution\": \"Glasgow Woman's Library\", \"sector\": \"library\", \"institution_type\": \"library\", \"topic\": \"mixed\", \"type\": \"library\", \"level\": \"item\", \"precision\": \"estimate\", \"artefact_count\": 0, \"record_count\": 0}, {\"institution\": \"Glasgow Woman's Library\", \"sector\": \"archive\", \"institution_type\": \"library\", \"topic\": \"mixed\", \"type\": \"archive\", \"level\": \"item\", \"precision\": \"estimate\", \"artefact_count\": 0, \"record_count\": 0}, {\"institution\": \"Lambeth Palace Library\", \"sector\": \"museum\", \"institution_type\": \"library\", \"topic\": \"theology\", \"type\": \"object\", \"level\": \"item\", \"precision\": \"estimate\", \"artefact_count\": 0, \"record_count\": 0}, {\"institution\": \"Lambeth Palace Library\", \"sector\": \"library\", \"institution_type\": \"library\", \"topic\": \"theology\", \"type\": \"library\", \"level\": \"item\", \"precision\": \"estimate\", \"artefact_count\": 186200, \"record_count\": 15000}, {\"institution\": \"Lambeth Palace Library\", \"sector\": \"archive\", \"institution_type\": \"library\", \"topic\": \"theology\", \"type\": \"archive\", \"level\": \"item\", \"precision\": \"estimate\", \"artefact_count\": 0, \"record_count\": 0}, {\"institution\": \"Victoria & Albert Museum\", \"sector\": \"museum\", \"institution_type\": \"museum\", \"topic\": \"art\", \"type\": \"object\", \"level\": \"item\", \"precision\": \"estimate\", \"artefact_count\": 1691513, \"record_count\": 1281326}, {\"institution\": \"Victoria & Albert Museum\", \"sector\": \"library\", \"institution_type\": \"museum\", \"topic\": \"art\", \"type\": \"library\", \"level\": \"item\", \"precision\": \"estimate\", \"artefact_count\": 1130157, \"record_count\": 849000}, {\"institution\": \"Victoria & Albert Museum\", \"sector\": \"archive\", \"institution_type\": \"museum\", \"topic\": \"art\", \"type\": \"archive\", \"level\": \"item\", \"precision\": \"estimate\", \"artefact_count\": 0, \"record_count\": 157054}, {\"institution\": \"Museum of the Home\", \"sector\": \"museum\", \"institution_type\": \"museum\", \"topic\": \"history\", \"type\": \"object\", \"level\": \"item\", \"precision\": \"estimate\", \"artefact_count\": 0, \"record_count\": 12200}, {\"institution\": \"Museum of the Home\", \"sector\": \"library\", \"institution_type\": \"museum\", \"topic\": \"history\", \"type\": \"library\", \"level\": \"item\", \"precision\": \"estimate\", \"artefact_count\": 0, \"record_count\": 6290}, {\"institution\": \"Horniman Museum\", \"sector\": \"museum\", \"institution_type\": \"museum\", \"topic\": \"history\", \"type\": \"object\", \"level\": \"item\", \"precision\": \"estimate\", \"artefact_count\": 0, \"record_count\": 132612}, {\"institution\": \"Imperial War Museums\", \"sector\": \"museum\", \"institution_type\": \"museum\", \"topic\": \"history\", \"type\": \"object\", \"level\": \"item\", \"precision\": \"estimate\", \"artefact_count\": 0, \"record_count\": 1737698}, {\"institution\": \"National Gallery\", \"sector\": \"museum\", \"institution_type\": \"gallery\", \"topic\": \"art\", \"type\": \"object\", \"level\": \"item\", \"precision\": \"exact\", \"artefact_count\": 2626, \"record_count\": 2626}, {\"institution\": \"National Museums Liverpool\", \"sector\": \"museum\", \"institution_type\": \"museum\", \"topic\": \"history\", \"type\": \"object\", \"level\": \"item\", \"precision\": \"estimate\", \"artefact_count\": 0, \"record_count\": 73682}, {\"institution\": \"National Portrait Gallery\", \"sector\": \"museum\", \"institution_type\": \"gallery\", \"topic\": \"art\", \"type\": \"object\", \"level\": \"item\", \"precision\": \"estimate\", \"artefact_count\": 0, \"record_count\": 220000}, {\"institution\": \"Natural History Museum\", \"sector\": \"museum\", \"institution_type\": \"museum\", \"topic\": \"nature\", \"type\": \"object\", \"level\": \"item\", \"precision\": \"estimate\", \"artefact_count\": 0, \"record_count\": 78000000}, {\"institution\": \"Royal Armouries\", \"sector\": \"museum\", \"institution_type\": \"museum\", \"topic\": \"history\", \"type\": \"object\", \"level\": \"item\", \"precision\": \"estimate\", \"artefact_count\": 0, \"record_count\": 65627}, {\"institution\": \"Royal Armouries\", \"sector\": \"library\", \"institution_type\": \"museum\", \"topic\": \"history\", \"type\": \"library\", \"level\": \"item\", \"precision\": \"estimate\", \"artefact_count\": 0, \"record_count\": 69619}, {\"institution\": \"Royal Armouries\", \"sector\": \"archive\", \"institution_type\": \"museum\", \"topic\": \"history\", \"type\": \"archive\", \"level\": \"item\", \"precision\": \"estimate\", \"artefact_count\": 0, \"record_count\": 130130}, {\"institution\": \"Sir John Soane's Museum\", \"sector\": \"museum\", \"institution_type\": \"museum\", \"topic\": \"history\", \"type\": \"object\", \"level\": \"item\", \"precision\": \"estimate\", \"artefact_count\": 0, \"record_count\": 57164}, {\"institution\": \"Sir John Soane's Museum\", \"sector\": \"library\", \"institution_type\": \"museum\", \"topic\": \"history\", \"type\": \"library\", \"level\": \"item\", \"precision\": \"estimate\", \"artefact_count\": 0, \"record_count\": 6393}, {\"institution\": \"Sir John Soane's Museum\", \"sector\": \"archive\", \"institution_type\": \"museum\", \"topic\": \"history\", \"type\": \"archive\", \"level\": \"item\", \"precision\": \"estimate\", \"artefact_count\": 0, \"record_count\": 0}, {\"institution\": \"Tate Gallery Group\", \"sector\": \"museum\", \"institution_type\": \"gallery\", \"topic\": \"art\", \"type\": \"object\", \"level\": \"item\", \"precision\": \"estimate\", \"artefact_count\": 0, \"record_count\": 79236}, {\"institution\": \"Tate Gallery Group\", \"sector\": \"archive\", \"institution_type\": \"gallery\", \"topic\": \"art\", \"type\": \"archive\", \"level\": \"item\", \"precision\": \"estimate\", \"artefact_count\": 0, \"record_count\": 807060}, {\"institution\": \"British Museum\", \"sector\": \"museum\", \"institution_type\": \"museum\", \"topic\": \"history\", \"type\": \"object\", \"level\": \"item\", \"precision\": \"estimate\", \"artefact_count\": 8000000, \"record_count\": 2000000}]}}, {\"mode\": \"vega-lite\"});\n",
       "</script>"
      ],
      "text/plain": [
       "alt.Chart(...)"
      ]
     },
     "execution_count": 36,
     "metadata": {},
     "output_type": "execute_result"
    }
   ],
   "source": [
    "title = alt.TitleParams('Catalogued Artefacts by institution and type) - Uncertainty: 500%', anchor='middle')\n",
    "alt.Chart(combined_art_record_type, width=400, title=title, height=alt.Step(8)).mark_bar().encode(\n",
    "    alt.Y(\"type:N\").title(None),\n",
    "    alt.Tooltip('percent_catalogued:Q'),\n",
    "    alt.X(\"percent_catalogued:Q\").title(None).axis(format='.0%'),\n",
    "    alt.Color(\"topic:N\").title(\"settings\").legend(orient=\"bottom\", titleOrient=\"left\"),\n",
    "    alt.Row(\"institution:N\").title(\"Institution\").header(labelAngle=0, labelAlign='left'),\n",
    ").resolve_scale(x='independent').transform_calculate(\n",
    "    percent_catalogued=\"datum.record_count / datum.artefact_count\"\n",
    ")"
   ]
  },
  {
   "cell_type": "code",
   "execution_count": 38,
   "id": "a5e6ae88-c544-40df-b431-f094e0d79202",
   "metadata": {
    "editable": true,
    "slideshow": {
     "slide_type": ""
    },
    "tags": [
     "remove-cell"
    ]
   },
   "outputs": [],
   "source": [
    "records_data = pd.read_csv(\"records-institution-stats-type.csv\")"
   ]
  },
  {
   "cell_type": "code",
   "execution_count": 45,
   "id": "82789f57-0593-4994-8603-e4c23b5e7d88",
   "metadata": {
    "editable": true,
    "slideshow": {
     "slide_type": ""
    },
    "tags": [
     "remove-input"
    ]
   },
   "outputs": [
    {
     "data": {
      "text/html": [
       "\n",
       "<style>\n",
       "  #altair-viz-7248284f871a4ba09678c5d17d929398.vega-embed {\n",
       "    width: 100%;\n",
       "    display: flex;\n",
       "  }\n",
       "\n",
       "  #altair-viz-7248284f871a4ba09678c5d17d929398.vega-embed details,\n",
       "  #altair-viz-7248284f871a4ba09678c5d17d929398.vega-embed details summary {\n",
       "    position: relative;\n",
       "  }\n",
       "</style>\n",
       "<div id=\"altair-viz-7248284f871a4ba09678c5d17d929398\"></div>\n",
       "<script type=\"text/javascript\">\n",
       "  var VEGA_DEBUG = (typeof VEGA_DEBUG == \"undefined\") ? {} : VEGA_DEBUG;\n",
       "  (function(spec, embedOpt){\n",
       "    let outputDiv = document.currentScript.previousElementSibling;\n",
       "    if (outputDiv.id !== \"altair-viz-7248284f871a4ba09678c5d17d929398\") {\n",
       "      outputDiv = document.getElementById(\"altair-viz-7248284f871a4ba09678c5d17d929398\");\n",
       "    }\n",
       "    const paths = {\n",
       "      \"vega\": \"https://cdn.jsdelivr.net/npm/vega@5?noext\",\n",
       "      \"vega-lib\": \"https://cdn.jsdelivr.net/npm/vega-lib?noext\",\n",
       "      \"vega-lite\": \"https://cdn.jsdelivr.net/npm/vega-lite@5.17.0?noext\",\n",
       "      \"vega-embed\": \"https://cdn.jsdelivr.net/npm/vega-embed@6?noext\",\n",
       "    };\n",
       "\n",
       "    function maybeLoadScript(lib, version) {\n",
       "      var key = `${lib.replace(\"-\", \"\")}_version`;\n",
       "      return (VEGA_DEBUG[key] == version) ?\n",
       "        Promise.resolve(paths[lib]) :\n",
       "        new Promise(function(resolve, reject) {\n",
       "          var s = document.createElement('script');\n",
       "          document.getElementsByTagName(\"head\")[0].appendChild(s);\n",
       "          s.async = true;\n",
       "          s.onload = () => {\n",
       "            VEGA_DEBUG[key] = version;\n",
       "            return resolve(paths[lib]);\n",
       "          };\n",
       "          s.onerror = () => reject(`Error loading script: ${paths[lib]}`);\n",
       "          s.src = paths[lib];\n",
       "        });\n",
       "    }\n",
       "\n",
       "    function showError(err) {\n",
       "      outputDiv.innerHTML = `<div class=\"error\" style=\"color:red;\">${err}</div>`;\n",
       "      throw err;\n",
       "    }\n",
       "\n",
       "    function displayChart(vegaEmbed) {\n",
       "      vegaEmbed(outputDiv, spec, embedOpt)\n",
       "        .catch(err => showError(`Javascript Error: ${err.message}<br>This usually means there's a typo in your chart specification. See the javascript console for the full traceback.`));\n",
       "    }\n",
       "\n",
       "    if(typeof define === \"function\" && define.amd) {\n",
       "      requirejs.config({paths});\n",
       "      require([\"vega-embed\"], displayChart, err => showError(`Error loading script: ${err.message}`));\n",
       "    } else {\n",
       "      maybeLoadScript(\"vega\", \"5\")\n",
       "        .then(() => maybeLoadScript(\"vega-lite\", \"5.17.0\"))\n",
       "        .then(() => maybeLoadScript(\"vega-embed\", \"6\"))\n",
       "        .catch(showError)\n",
       "        .then(() => displayChart(vegaEmbed));\n",
       "    }\n",
       "  })({\"config\": {\"view\": {\"continuousWidth\": 300, \"continuousHeight\": 300}, \"numberFormat\": \".2s\"}, \"data\": {\"name\": \"data-3c06107cf169477dca32228b259212c2\"}, \"mark\": {\"type\": \"bar\"}, \"encoding\": {\"color\": {\"field\": \"type\", \"legend\": {\"orient\": \"top\", \"titleOrient\": \"left\"}, \"sort\": \"descending\", \"type\": \"nominal\"}, \"column\": {\"field\": \"precision\", \"type\": \"ordinal\"}, \"tooltip\": {\"field\": \"record_count\", \"type\": \"quantitative\"}, \"x\": {\"field\": \"record_count\", \"type\": \"quantitative\"}, \"y\": {\"field\": \"institution\", \"type\": \"nominal\"}}, \"resolve\": {\"scale\": {\"x\": \"independent\"}}, \"title\": {\"text\": \"Overall Published Collection Records\", \"anchor\": \"middle\"}, \"width\": 400, \"$schema\": \"https://vega.github.io/schema/vega-lite/v5.17.0.json\", \"datasets\": {\"data-3c06107cf169477dca32228b259212c2\": [{\"institution\": \"Oxford University\", \"sector\": \"university\", \"type\": \"museum\", \"topic\": \"mixed\", \"precision\": \"estimate\", \"record_count\": 1052444}, {\"institution\": \"Bangor University\", \"sector\": \"university\", \"type\": \"university\", \"topic\": \"mixed\", \"precision\": \"estimate\", \"record_count\": 0}, {\"institution\": \"University of York\", \"sector\": \"university\", \"type\": \"university\", \"topic\": \"mixed\", \"precision\": \"estimate\", \"record_count\": 0}, {\"institution\": \"University of Cambridge\", \"sector\": \"university\", \"type\": \"museum\", \"topic\": \"mixed\", \"precision\": \"estimate\", \"record_count\": 0}, {\"institution\": \"Cardiff University\", \"sector\": \"university\", \"type\": \"university\", \"topic\": \"mixed\", \"precision\": \"estimate\", \"record_count\": 0}, {\"institution\": \"Durham University\", \"sector\": \"university\", \"type\": \"museum\", \"topic\": \"mixed\", \"precision\": \"estimate\", \"record_count\": 33234}, {\"institution\": \"University College London\", \"sector\": \"university\", \"type\": \"museum\", \"topic\": \"mixed\", \"precision\": \"estimate\", \"record_count\": 104446}, {\"institution\": \"University of Manchester\", \"sector\": \"university\", \"type\": \"museum\", \"topic\": \"mixed\", \"precision\": \"estimate\", \"record_count\": 0}, {\"institution\": \"King's College London\", \"sector\": \"university\", \"type\": \"museum\", \"topic\": \"mixed\", \"precision\": \"estimate\", \"record_count\": 0}, {\"institution\": \"University of Birmingham\", \"sector\": \"university\", \"type\": \"museum\", \"topic\": \"mixed\", \"precision\": \"estimate\", \"record_count\": 0}, {\"institution\": \"Unversity of Warwick\", \"sector\": \"university\", \"type\": \"museum\", \"topic\": \"mixed\", \"precision\": \"estimate\", \"record_count\": 0}, {\"institution\": \"Manchester Metropolitan Unversity\", \"sector\": \"university\", \"type\": \"museum\", \"topic\": \"mixed\", \"precision\": \"estimate\", \"record_count\": 0}, {\"institution\": \"Swansea University\", \"sector\": \"university\", \"type\": \"museum\", \"topic\": \"mixed\", \"precision\": \"estimate\", \"record_count\": 0}, {\"institution\": \"University of Brighton\", \"sector\": \"university\", \"type\": \"museum\", \"topic\": \"mixed\", \"precision\": \"estimate\", \"record_count\": 0}, {\"institution\": \"SOAS, University of London\", \"sector\": \"university\", \"type\": \"museum\", \"topic\": \"mixed\", \"precision\": \"estimate\", \"record_count\": 0}, {\"institution\": \"University of Aberdeen\", \"sector\": \"university\", \"type\": \"museum\", \"topic\": \"mixed\", \"precision\": \"estimate\", \"record_count\": 0}, {\"institution\": \"University of Bristol\", \"sector\": \"university\", \"type\": \"museum\", \"topic\": \"mixed\", \"precision\": \"estimate\", \"record_count\": 0}, {\"institution\": \"University of Leeds\", \"sector\": \"university\", \"type\": \"museum\", \"topic\": \"mixed\", \"precision\": \"estimate\", \"record_count\": 0}, {\"institution\": \"University of Leicester\", \"sector\": \"university\", \"type\": \"museum\", \"topic\": \"mixed\", \"precision\": \"estimate\", \"record_count\": 0}, {\"institution\": \"University of Reading\", \"sector\": \"university\", \"type\": \"university\", \"topic\": \"mixed\", \"precision\": \"estimate\", \"record_count\": 0}, {\"institution\": \"University of Sheffield\", \"sector\": \"university\", \"type\": \"museum\", \"topic\": \"mixed\", \"precision\": \"estimate\", \"record_count\": 0}, {\"institution\": \"University of St Andrews\", \"sector\": \"university\", \"type\": \"museum\", \"topic\": \"mixed\", \"precision\": \"estimate\", \"record_count\": 0}, {\"institution\": \"British Library\", \"sector\": \"library\", \"type\": \"museum\", \"topic\": \"mixed\", \"precision\": \"estimate\", \"record_count\": 0}, {\"institution\": \"Chetham's Library\", \"sector\": \"library\", \"type\": \"museum\", \"topic\": \"mixed\", \"precision\": \"estimate\", \"record_count\": 0}, {\"institution\": \"Glasgow Woman's Library\", \"sector\": \"library\", \"type\": \"museum\", \"topic\": \"mixed\", \"precision\": \"estimate\", \"record_count\": 3567}, {\"institution\": \"Lambeth Palace Library\", \"sector\": \"library\", \"type\": \"museum\", \"topic\": \"theology\", \"precision\": \"estimate\", \"record_count\": 0}, {\"institution\": \"National Library of Wales\", \"sector\": \"library\", \"type\": \"library\", \"topic\": \"mixed\", \"precision\": \"estimate\", \"record_count\": 0}, {\"institution\": \"National Library of Scotland\", \"sector\": \"library\", \"type\": \"library\", \"topic\": \"mixed\", \"precision\": \"estimate\", \"record_count\": 0}, {\"institution\": \"Victoria & Albert Museum\", \"sector\": \"dcms\", \"type\": \"museum\", \"topic\": \"art\", \"precision\": \"estimate\", \"record_count\": 1281326}, {\"institution\": \"Science Museum Group\", \"sector\": \"dcms\", \"type\": \"museum\", \"topic\": \"science\", \"precision\": \"estimate\", \"record_count\": 0}, {\"institution\": \"Museum of the Home\", \"sector\": \"dcms\", \"type\": \"museum\", \"topic\": \"history\", \"precision\": \"estimate\", \"record_count\": 12200}, {\"institution\": \"Horniman Museum\", \"sector\": \"dcms\", \"type\": \"museum\", \"topic\": \"history\", \"precision\": \"estimate\", \"record_count\": 132612}, {\"institution\": \"Imperial War Museums\", \"sector\": \"dcms\", \"type\": \"museum\", \"topic\": \"history\", \"precision\": \"estimate\", \"record_count\": 1737698}, {\"institution\": \"National Gallery\", \"sector\": \"dcms\", \"type\": \"museum\", \"topic\": \"art\", \"precision\": \"exact\", \"record_count\": 2626}, {\"institution\": \"National Museums Liverpool\", \"sector\": \"dcms\", \"type\": \"museum\", \"topic\": \"history\", \"precision\": \"estimate\", \"record_count\": 73682}, {\"institution\": \"National Portrait Gallery\", \"sector\": \"dcms\", \"type\": \"museum\", \"topic\": \"art\", \"precision\": \"estimate\", \"record_count\": 220000}, {\"institution\": \"Natural History Museum\", \"sector\": \"dcms\", \"type\": \"museum\", \"topic\": \"nature\", \"precision\": \"estimate\", \"record_count\": 78000000}, {\"institution\": \"Royal Armouries\", \"sector\": \"dcms\", \"type\": \"museum\", \"topic\": \"history\", \"precision\": \"estimate\", \"record_count\": 65627}, {\"institution\": \"Royal Museums Greenwich\", \"sector\": \"dcms\", \"type\": \"museum\", \"topic\": \"history\", \"precision\": \"estimate\", \"record_count\": 0}, {\"institution\": \"Sir John Soane's Museum\", \"sector\": \"dcms\", \"type\": \"museum\", \"topic\": \"history\", \"precision\": \"estimate\", \"record_count\": 57164}, {\"institution\": \"Tate Gallery Group\", \"sector\": \"dcms\", \"type\": \"museum\", \"topic\": \"art\", \"precision\": \"estimate\", \"record_count\": 79236}, {\"institution\": \"The Wallace Collection\", \"sector\": \"dcms\", \"type\": \"museum\", \"topic\": \"art\", \"precision\": \"estimate\", \"record_count\": 0}, {\"institution\": \"British Museum\", \"sector\": \"dcms\", \"type\": \"museum\", \"topic\": \"history\", \"precision\": \"estimate\", \"record_count\": 2000000}, {\"institution\": \"Oxford University\", \"sector\": \"university\", \"type\": \"library\", \"topic\": \"mixed\", \"precision\": \"estimate\", \"record_count\": 8021011}, {\"institution\": \"Bangor University\", \"sector\": \"university\", \"type\": \"university\", \"topic\": \"mixed\", \"precision\": \"estimate\", \"record_count\": 0}, {\"institution\": \"University of York\", \"sector\": \"university\", \"type\": \"university\", \"topic\": \"mixed\", \"precision\": \"estimate\", \"record_count\": 0}, {\"institution\": \"University of Cambridge\", \"sector\": \"university\", \"type\": \"library\", \"topic\": \"mixed\", \"precision\": \"estimate\", \"record_count\": 0}, {\"institution\": \"Cardiff University\", \"sector\": \"university\", \"type\": \"university\", \"topic\": \"mixed\", \"precision\": \"estimate\", \"record_count\": 0}, {\"institution\": \"Durham University\", \"sector\": \"university\", \"type\": \"library\", \"topic\": \"mixed\", \"precision\": \"estimate\", \"record_count\": 0}, {\"institution\": \"University College London\", \"sector\": \"university\", \"type\": \"library\", \"topic\": \"mixed\", \"precision\": \"estimate\", \"record_count\": 0}, {\"institution\": \"University of Manchester\", \"sector\": \"university\", \"type\": \"library\", \"topic\": \"mixed\", \"precision\": \"estimate\", \"record_count\": 0}, {\"institution\": \"King's College London\", \"sector\": \"university\", \"type\": \"library\", \"topic\": \"mixed\", \"precision\": \"estimate\", \"record_count\": 0}, {\"institution\": \"University of Birmingham\", \"sector\": \"university\", \"type\": \"library\", \"topic\": \"mixed\", \"precision\": \"estimate\", \"record_count\": 0}, {\"institution\": \"Unversity of Warwick\", \"sector\": \"university\", \"type\": \"library\", \"topic\": \"mixed\", \"precision\": \"estimate\", \"record_count\": 0}, {\"institution\": \"Manchester Metropolitan Unversity\", \"sector\": \"university\", \"type\": \"library\", \"topic\": \"mixed\", \"precision\": \"estimate\", \"record_count\": 28600}, {\"institution\": \"Swansea University\", \"sector\": \"university\", \"type\": \"library\", \"topic\": \"mixed\", \"precision\": \"estimate\", \"record_count\": 0}, {\"institution\": \"University of Brighton\", \"sector\": \"university\", \"type\": \"library\", \"topic\": \"mixed\", \"precision\": \"estimate\", \"record_count\": 0}, {\"institution\": \"SOAS, University of London\", \"sector\": \"university\", \"type\": \"library\", \"topic\": \"mixed\", \"precision\": \"estimate\", \"record_count\": 40337}, {\"institution\": \"University of Aberdeen\", \"sector\": \"university\", \"type\": \"library\", \"topic\": \"mixed\", \"precision\": \"estimate\", \"record_count\": 0}, {\"institution\": \"University of Bristol\", \"sector\": \"university\", \"type\": \"library\", \"topic\": \"mixed\", \"precision\": \"estimate\", \"record_count\": 0}, {\"institution\": \"University of Leeds\", \"sector\": \"university\", \"type\": \"library\", \"topic\": \"mixed\", \"precision\": \"estimate\", \"record_count\": 0}, {\"institution\": \"University of Leicester\", \"sector\": \"university\", \"type\": \"library\", \"topic\": \"mixed\", \"precision\": \"estimate\", \"record_count\": 0}, {\"institution\": \"University of Reading\", \"sector\": \"university\", \"type\": \"library\", \"topic\": \"mixed\", \"precision\": \"estimate\", \"record_count\": 69841}, {\"institution\": \"University of Sheffield\", \"sector\": \"university\", \"type\": \"library\", \"topic\": \"mixed\", \"precision\": \"estimate\", \"record_count\": 0}, {\"institution\": \"University of St Andrews\", \"sector\": \"university\", \"type\": \"library\", \"topic\": \"mixed\", \"precision\": \"estimate\", \"record_count\": 0}, {\"institution\": \"British Library\", \"sector\": \"library\", \"type\": \"library\", \"topic\": \"mixed\", \"precision\": \"estimate\", \"record_count\": 0}, {\"institution\": \"Chetham's Library\", \"sector\": \"library\", \"type\": \"library\", \"topic\": \"mixed\", \"precision\": \"estimate\", \"record_count\": 0}, {\"institution\": \"Glasgow Woman's Library\", \"sector\": \"library\", \"type\": \"library\", \"topic\": \"mixed\", \"precision\": \"estimate\", \"record_count\": 0}, {\"institution\": \"Lambeth Palace Library\", \"sector\": \"library\", \"type\": \"library\", \"topic\": \"theology\", \"precision\": \"estimate\", \"record_count\": 15000}, {\"institution\": \"National Library of Wales\", \"sector\": \"library\", \"type\": \"library\", \"topic\": \"mixed\", \"precision\": \"estimate\", \"record_count\": 0}, {\"institution\": \"National Library of Scotland\", \"sector\": \"library\", \"type\": \"library\", \"topic\": \"mixed\", \"precision\": \"estimate\", \"record_count\": 0}, {\"institution\": \"Victoria & Albert Museum\", \"sector\": \"dcms\", \"type\": \"library\", \"topic\": \"art\", \"precision\": \"estimate\", \"record_count\": 849000}, {\"institution\": \"Science Museum Group\", \"sector\": \"dcms\", \"type\": \"museum\", \"topic\": \"science\", \"precision\": \"estimate\", \"record_count\": 0}, {\"institution\": \"Museum of the Home\", \"sector\": \"dcms\", \"type\": \"library\", \"topic\": \"history\", \"precision\": \"estimate\", \"record_count\": 6290}, {\"institution\": \"Horniman Museum\", \"sector\": \"dcms\", \"type\": \"museum\", \"topic\": \"history\", \"precision\": \"estimate\", \"record_count\": 0}, {\"institution\": \"Imperial War Museums\", \"sector\": \"dcms\", \"type\": \"museum\", \"topic\": \"history\", \"precision\": \"estimate\", \"record_count\": 0}, {\"institution\": \"National Gallery\", \"sector\": \"dcms\", \"type\": \"gallery\", \"topic\": \"art\", \"precision\": \"estimate\", \"record_count\": 0}, {\"institution\": \"National Museums Liverpool\", \"sector\": \"dcms\", \"type\": \"museum\", \"topic\": \"history\", \"precision\": \"estimate\", \"record_count\": 0}, {\"institution\": \"National Portrait Gallery\", \"sector\": \"dcms\", \"type\": \"gallery\", \"topic\": \"art\", \"precision\": \"estimate\", \"record_count\": 0}, {\"institution\": \"Natural History Museum\", \"sector\": \"dcms\", \"type\": \"museum\", \"topic\": \"nature\", \"precision\": \"estimate\", \"record_count\": 0}, {\"institution\": \"Royal Armouries\", \"sector\": \"dcms\", \"type\": \"library\", \"topic\": \"history\", \"precision\": \"estimate\", \"record_count\": 69619}, {\"institution\": \"Royal Museums Greenwich\", \"sector\": \"dcms\", \"type\": \"museum\", \"topic\": \"history\", \"precision\": \"estimate\", \"record_count\": 0}, {\"institution\": \"Sir John Soane's Museum\", \"sector\": \"dcms\", \"type\": \"library\", \"topic\": \"history\", \"precision\": \"estimate\", \"record_count\": 6393}, {\"institution\": \"Tate Gallery Group\", \"sector\": \"dcms\", \"type\": \"gallery\", \"topic\": \"art\", \"precision\": \"estimate\", \"record_count\": 0}, {\"institution\": \"The Wallace Collection\", \"sector\": \"dcms\", \"type\": \"museum\", \"topic\": \"art\", \"precision\": \"estimate\", \"record_count\": 0}, {\"institution\": \"British Museum\", \"sector\": \"dcms\", \"type\": \"museum\", \"topic\": \"history\", \"precision\": \"estimate\", \"record_count\": 0}, {\"institution\": \"Oxford University\", \"sector\": \"university\", \"type\": \"archive\", \"topic\": \"mixed\", \"precision\": \"estimate\", \"record_count\": 0}, {\"institution\": \"Bangor University\", \"sector\": \"university\", \"type\": \"university\", \"topic\": \"mixed\", \"precision\": \"estimate\", \"record_count\": 0}, {\"institution\": \"University of York\", \"sector\": \"university\", \"type\": \"university\", \"topic\": \"mixed\", \"precision\": \"estimate\", \"record_count\": 0}, {\"institution\": \"University of Cambridge\", \"sector\": \"university\", \"type\": \"archive\", \"topic\": \"mixed\", \"precision\": \"estimate\", \"record_count\": 0}, {\"institution\": \"Cardiff University\", \"sector\": \"university\", \"type\": \"university\", \"topic\": \"mixed\", \"precision\": \"estimate\", \"record_count\": 0}, {\"institution\": \"Durham University\", \"sector\": \"university\", \"type\": \"archive\", \"topic\": \"mixed\", \"precision\": \"estimate\", \"record_count\": 0}, {\"institution\": \"University College London\", \"sector\": \"university\", \"type\": \"archive\", \"topic\": \"mixed\", \"precision\": \"estimate\", \"record_count\": 0}, {\"institution\": \"University of Manchester\", \"sector\": \"university\", \"type\": \"archive\", \"topic\": \"mixed\", \"precision\": \"estimate\", \"record_count\": 0}, {\"institution\": \"King's College London\", \"sector\": \"university\", \"type\": \"archive\", \"topic\": \"mixed\", \"precision\": \"estimate\", \"record_count\": 0}, {\"institution\": \"University of Birmingham\", \"sector\": \"university\", \"type\": \"archive\", \"topic\": \"mixed\", \"precision\": \"estimate\", \"record_count\": 0}, {\"institution\": \"Unversity of Warwick\", \"sector\": \"university\", \"type\": \"archive\", \"topic\": \"mixed\", \"precision\": \"estimate\", \"record_count\": 367655}, {\"institution\": \"Manchester Metropolitan Unversity\", \"sector\": \"university\", \"type\": \"archive\", \"topic\": \"mixed\", \"precision\": \"estimate\", \"record_count\": 0}, {\"institution\": \"Swansea University\", \"sector\": \"university\", \"type\": \"archive\", \"topic\": \"mixed\", \"precision\": \"estimate\", \"record_count\": 0}, {\"institution\": \"University of Brighton\", \"sector\": \"university\", \"type\": \"archive\", \"topic\": \"mixed\", \"precision\": \"estimate\", \"record_count\": 0}, {\"institution\": \"SOAS, University of London\", \"sector\": \"university\", \"type\": \"archive\", \"topic\": \"mixed\", \"precision\": \"estimate\", \"record_count\": 0}, {\"institution\": \"University of Aberdeen\", \"sector\": \"university\", \"type\": \"archive\", \"topic\": \"mixed\", \"precision\": \"estimate\", \"record_count\": 0}, {\"institution\": \"University of Bristol\", \"sector\": \"university\", \"type\": \"archive\", \"topic\": \"mixed\", \"precision\": \"estimate\", \"record_count\": 0}, {\"institution\": \"University of Leeds\", \"sector\": \"university\", \"type\": \"archive\", \"topic\": \"mixed\", \"precision\": \"estimate\", \"record_count\": 0}, {\"institution\": \"University of Leicester\", \"sector\": \"university\", \"type\": \"archive\", \"topic\": \"mixed\", \"precision\": \"estimate\", \"record_count\": 0}, {\"institution\": \"University of Reading\", \"sector\": \"university\", \"type\": \"archive\", \"topic\": \"mixed\", \"precision\": \"estimate\", \"record_count\": 186216}, {\"institution\": \"University of Sheffield\", \"sector\": \"university\", \"type\": \"archive\", \"topic\": \"mixed\", \"precision\": \"estimate\", \"record_count\": 0}, {\"institution\": \"University of St Andrews\", \"sector\": \"university\", \"type\": \"archive\", \"topic\": \"mixed\", \"precision\": \"estimate\", \"record_count\": 0}, {\"institution\": \"British Library\", \"sector\": \"library\", \"type\": \"archive\", \"topic\": \"mixed\", \"precision\": \"estimate\", \"record_count\": 0}, {\"institution\": \"Chetham's Library\", \"sector\": \"library\", \"type\": \"archive\", \"topic\": \"mixed\", \"precision\": \"estimate\", \"record_count\": 0}, {\"institution\": \"Glasgow Woman's Library\", \"sector\": \"library\", \"type\": \"archive\", \"topic\": \"mixed\", \"precision\": \"estimate\", \"record_count\": 0}, {\"institution\": \"Lambeth Palace Library\", \"sector\": \"library\", \"type\": \"archive\", \"topic\": \"theology\", \"precision\": \"estimate\", \"record_count\": 0}, {\"institution\": \"National Library of Wales\", \"sector\": \"library\", \"type\": \"library\", \"topic\": \"mixed\", \"precision\": \"estimate\", \"record_count\": 0}, {\"institution\": \"National Library of Scotland\", \"sector\": \"library\", \"type\": \"library\", \"topic\": \"mixed\", \"precision\": \"estimate\", \"record_count\": 0}, {\"institution\": \"Victoria & Albert Museum\", \"sector\": \"dcms\", \"type\": \"archive\", \"topic\": \"art\", \"precision\": \"estimate\", \"record_count\": 157054}, {\"institution\": \"Science Museum Group\", \"sector\": \"dcms\", \"type\": \"museum\", \"topic\": \"science\", \"precision\": \"estimate\", \"record_count\": 0}, {\"institution\": \"Museum of the Home\", \"sector\": \"dcms\", \"type\": \"museum\", \"topic\": \"history\", \"precision\": \"estimate\", \"record_count\": 0}, {\"institution\": \"Horniman Museum\", \"sector\": \"dcms\", \"type\": \"museum\", \"topic\": \"history\", \"precision\": \"estimate\", \"record_count\": 0}, {\"institution\": \"Imperial War Museums\", \"sector\": \"dcms\", \"type\": \"museum\", \"topic\": \"history\", \"precision\": \"estimate\", \"record_count\": 0}, {\"institution\": \"National Gallery\", \"sector\": \"dcms\", \"type\": \"gallery\", \"topic\": \"art\", \"precision\": \"estimate\", \"record_count\": 0}, {\"institution\": \"National Museums Liverpool\", \"sector\": \"dcms\", \"type\": \"museum\", \"topic\": \"history\", \"precision\": \"estimate\", \"record_count\": 0}, {\"institution\": \"National Portrait Gallery\", \"sector\": \"dcms\", \"type\": \"gallery\", \"topic\": \"art\", \"precision\": \"estimate\", \"record_count\": 0}, {\"institution\": \"Natural History Museum\", \"sector\": \"dcms\", \"type\": \"museum\", \"topic\": \"nature\", \"precision\": \"estimate\", \"record_count\": 0}, {\"institution\": \"Royal Armouries\", \"sector\": \"dcms\", \"type\": \"archive\", \"topic\": \"history\", \"precision\": \"estimate\", \"record_count\": 130130}, {\"institution\": \"Royal Museums Greenwich\", \"sector\": \"dcms\", \"type\": \"museum\", \"topic\": \"history\", \"precision\": \"estimate\", \"record_count\": 0}, {\"institution\": \"Sir John Soane's Museum\", \"sector\": \"dcms\", \"type\": \"archive\", \"topic\": \"history\", \"precision\": \"estimate\", \"record_count\": 0}, {\"institution\": \"Tate Gallery Group\", \"sector\": \"dcms\", \"type\": \"archive\", \"topic\": \"art\", \"precision\": \"estimate\", \"record_count\": 807060}, {\"institution\": \"The Wallace Collection\", \"sector\": \"dcms\", \"type\": \"museum\", \"topic\": \"art\", \"precision\": \"estimate\", \"record_count\": 0}, {\"institution\": \"British Museum\", \"sector\": \"dcms\", \"type\": \"museum\", \"topic\": \"history\", \"precision\": \"estimate\", \"record_count\": 0}]}}, {\"mode\": \"vega-lite\"});\n",
       "</script>"
      ],
      "text/plain": [
       "alt.Chart(...)"
      ]
     },
     "execution_count": 45,
     "metadata": {},
     "output_type": "execute_result"
    }
   ],
   "source": [
    "\n",
    "title = alt.TitleParams('Overall Published Collection Records', anchor='middle')\n",
    "alt.Chart(records_data, width=100, title=title).mark_bar().encode(\n",
    "    column='precision:O',\n",
    "    x='record_count:Q',\n",
    "    y='institution:N',\n",
    "    tooltip='record_count:Q',\n",
    "    color=alt.Color('type:N', sort='descending').legend(orient=\"top\", titleOrient=\"left\")\n",
    ").properties(width=400).resolve_scale(x='independent').configure(numberFormat='.2s')"
   ]
  },
  {
   "cell_type": "code",
   "execution_count": 49,
   "id": "d0a8e819-f779-4c60-bc98-741c4088fa1f",
   "metadata": {
    "editable": true,
    "slideshow": {
     "slide_type": ""
    },
    "tags": [
     "remove-cell"
    ]
   },
   "outputs": [],
   "source": [
    "# Show progress bar for artefacts vs records\n",
    "\n",
    "progress_df = pd.merge(artefacts_data,records_data[['institution','type', 'record_count']],on=['institution', 'type'], how='left')"
   ]
  },
  {
   "cell_type": "code",
   "execution_count": 74,
   "id": "8c671750-6ef7-43c2-a024-3ebdd67bc2bd",
   "metadata": {
    "editable": true,
    "slideshow": {
     "slide_type": ""
    },
    "tags": [
     "remove-cell"
    ]
   },
   "outputs": [],
   "source": [
    "artefacts_type_data = pd.read_csv(\"artefacts-type-overview-stats.csv\")"
   ]
  },
  {
   "cell_type": "code",
   "execution_count": 59,
   "id": "f9e0a3d5-fdda-4aa5-8533-7376ee146d95",
   "metadata": {
    "editable": true,
    "slideshow": {
     "slide_type": ""
    },
    "tags": [
     "remove-input"
    ]
   },
   "outputs": [
    {
     "data": {
      "text/html": [
       "\n",
       "<style>\n",
       "  #altair-viz-a83766c4bedf482fbf0eb8eee07bc660.vega-embed {\n",
       "    width: 100%;\n",
       "    display: flex;\n",
       "  }\n",
       "\n",
       "  #altair-viz-a83766c4bedf482fbf0eb8eee07bc660.vega-embed details,\n",
       "  #altair-viz-a83766c4bedf482fbf0eb8eee07bc660.vega-embed details summary {\n",
       "    position: relative;\n",
       "  }\n",
       "</style>\n",
       "<div id=\"altair-viz-a83766c4bedf482fbf0eb8eee07bc660\"></div>\n",
       "<script type=\"text/javascript\">\n",
       "  var VEGA_DEBUG = (typeof VEGA_DEBUG == \"undefined\") ? {} : VEGA_DEBUG;\n",
       "  (function(spec, embedOpt){\n",
       "    let outputDiv = document.currentScript.previousElementSibling;\n",
       "    if (outputDiv.id !== \"altair-viz-a83766c4bedf482fbf0eb8eee07bc660\") {\n",
       "      outputDiv = document.getElementById(\"altair-viz-a83766c4bedf482fbf0eb8eee07bc660\");\n",
       "    }\n",
       "    const paths = {\n",
       "      \"vega\": \"https://cdn.jsdelivr.net/npm/vega@5?noext\",\n",
       "      \"vega-lib\": \"https://cdn.jsdelivr.net/npm/vega-lib?noext\",\n",
       "      \"vega-lite\": \"https://cdn.jsdelivr.net/npm/vega-lite@5.17.0?noext\",\n",
       "      \"vega-embed\": \"https://cdn.jsdelivr.net/npm/vega-embed@6?noext\",\n",
       "    };\n",
       "\n",
       "    function maybeLoadScript(lib, version) {\n",
       "      var key = `${lib.replace(\"-\", \"\")}_version`;\n",
       "      return (VEGA_DEBUG[key] == version) ?\n",
       "        Promise.resolve(paths[lib]) :\n",
       "        new Promise(function(resolve, reject) {\n",
       "          var s = document.createElement('script');\n",
       "          document.getElementsByTagName(\"head\")[0].appendChild(s);\n",
       "          s.async = true;\n",
       "          s.onload = () => {\n",
       "            VEGA_DEBUG[key] = version;\n",
       "            return resolve(paths[lib]);\n",
       "          };\n",
       "          s.onerror = () => reject(`Error loading script: ${paths[lib]}`);\n",
       "          s.src = paths[lib];\n",
       "        });\n",
       "    }\n",
       "\n",
       "    function showError(err) {\n",
       "      outputDiv.innerHTML = `<div class=\"error\" style=\"color:red;\">${err}</div>`;\n",
       "      throw err;\n",
       "    }\n",
       "\n",
       "    function displayChart(vegaEmbed) {\n",
       "      vegaEmbed(outputDiv, spec, embedOpt)\n",
       "        .catch(err => showError(`Javascript Error: ${err.message}<br>This usually means there's a typo in your chart specification. See the javascript console for the full traceback.`));\n",
       "    }\n",
       "\n",
       "    if(typeof define === \"function\" && define.amd) {\n",
       "      requirejs.config({paths});\n",
       "      require([\"vega-embed\"], displayChart, err => showError(`Error loading script: ${err.message}`));\n",
       "    } else {\n",
       "      maybeLoadScript(\"vega\", \"5\")\n",
       "        .then(() => maybeLoadScript(\"vega-lite\", \"5.17.0\"))\n",
       "        .then(() => maybeLoadScript(\"vega-embed\", \"6\"))\n",
       "        .catch(showError)\n",
       "        .then(() => displayChart(vegaEmbed));\n",
       "    }\n",
       "  })({\"config\": {\"view\": {\"continuousWidth\": 300, \"continuousHeight\": 300}, \"numberFormat\": \".2%\"}, \"data\": {\"name\": \"data-d0e38f4a937f4729a75c2bc2d22f4bc9\"}, \"mark\": {\"type\": \"bar\"}, \"encoding\": {\"tooltip\": {\"field\": \"progress\", \"type\": \"quantitative\"}, \"x\": {\"field\": \"progress\", \"type\": \"quantitative\"}, \"y\": {\"field\": \"institution\", \"type\": \"nominal\"}}, \"resolve\": {\"scale\": {\"x\": \"independent\"}}, \"title\": {\"text\": \"Cataloguing Progress\", \"anchor\": \"middle\"}, \"transform\": [{\"calculate\": \"datum.record_count / datum.artefact_count\", \"as\": \"progress\"}], \"width\": 400, \"$schema\": \"https://vega.github.io/schema/vega-lite/v5.17.0.json\", \"datasets\": {\"data-d0e38f4a937f4729a75c2bc2d22f4bc9\": [{\"institution\": \"Oxford University\", \"sector\": \"university\", \"type\": \"university\", \"topic\": \"mixed\", \"precision\": \"estimate\", \"artefact_count\": 22530000, \"record_count\": null}, {\"institution\": \"University of Cambridge\", \"sector\": \"university\", \"type\": \"university\", \"topic\": \"mixed\", \"precision\": \"estimate\", \"artefact_count\": 10000000, \"record_count\": null}, {\"institution\": \"Durham University\", \"sector\": \"university\", \"type\": \"university\", \"topic\": \"mixed\", \"precision\": \"estimate\", \"artefact_count\": 106000, \"record_count\": null}, {\"institution\": \"University College London\", \"sector\": \"university\", \"type\": \"university\", \"topic\": \"mixed\", \"precision\": \"estimate\", \"artefact_count\": 164000, \"record_count\": null}, {\"institution\": \"University of Manchester\", \"sector\": \"university\", \"type\": \"university\", \"topic\": \"mixed\", \"precision\": \"estimate\", \"artefact_count\": 4060000, \"record_count\": null}, {\"institution\": \"King's College London\", \"sector\": \"university\", \"type\": \"university\", \"topic\": \"mixed\", \"precision\": \"estimate\", \"artefact_count\": 200000, \"record_count\": null}, {\"institution\": \"University of Birmingham\", \"sector\": \"university\", \"type\": \"university\", \"topic\": \"mixed\", \"precision\": \"estimate\", \"artefact_count\": 4500000, \"record_count\": null}, {\"institution\": \"Unversity of Warwick\", \"sector\": \"university\", \"type\": \"university\", \"topic\": \"mixed\", \"precision\": \"estimate\", \"artefact_count\": 16000, \"record_count\": null}, {\"institution\": \"Manchester Metropolitan Unversity\", \"sector\": \"university\", \"type\": \"university\", \"topic\": \"mixed\", \"precision\": \"estimate\", \"artefact_count\": 0, \"record_count\": null}, {\"institution\": \"British Library\", \"sector\": \"library\", \"type\": \"library\", \"topic\": \"mixed\", \"precision\": \"estimate\", \"artefact_count\": 170000000, \"record_count\": 0.0}, {\"institution\": \"Chetham's Library\", \"sector\": \"library\", \"type\": \"library\", \"topic\": \"mixed\", \"precision\": \"estimate\", \"artefact_count\": 121041, \"record_count\": 0.0}, {\"institution\": \"Glasgow Woman's Library\", \"sector\": \"library\", \"type\": \"library\", \"topic\": \"mixed\", \"precision\": \"estimate\", \"artefact_count\": 0, \"record_count\": 0.0}, {\"institution\": \"Lambeth Palace Library\", \"sector\": \"library\", \"type\": \"library\", \"topic\": \"theology\", \"precision\": \"estimate\", \"artefact_count\": 186200, \"record_count\": 15000.0}, {\"institution\": \"National Library of Wales\", \"sector\": \"library\", \"type\": \"library\", \"topic\": \"mixed\", \"precision\": \"estimate\", \"artefact_count\": 7540000, \"record_count\": 0.0}, {\"institution\": \"National Library of Wales\", \"sector\": \"library\", \"type\": \"library\", \"topic\": \"mixed\", \"precision\": \"estimate\", \"artefact_count\": 7540000, \"record_count\": 0.0}, {\"institution\": \"National Library of Wales\", \"sector\": \"library\", \"type\": \"library\", \"topic\": \"mixed\", \"precision\": \"estimate\", \"artefact_count\": 7540000, \"record_count\": 0.0}, {\"institution\": \"National Library of Scotland\", \"sector\": \"library\", \"type\": \"library\", \"topic\": \"mixed\", \"precision\": \"estimate\", \"artefact_count\": 34000000, \"record_count\": 0.0}, {\"institution\": \"National Library of Scotland\", \"sector\": \"library\", \"type\": \"library\", \"topic\": \"mixed\", \"precision\": \"estimate\", \"artefact_count\": 34000000, \"record_count\": 0.0}, {\"institution\": \"National Library of Scotland\", \"sector\": \"library\", \"type\": \"library\", \"topic\": \"mixed\", \"precision\": \"estimate\", \"artefact_count\": 34000000, \"record_count\": 0.0}, {\"institution\": \"Victoria & Albert Museum\", \"sector\": \"dcms\", \"type\": \"museum\", \"topic\": \"art\", \"precision\": \"estimate\", \"artefact_count\": 2800000, \"record_count\": 1281326.0}, {\"institution\": \"Science Museum Group\", \"sector\": \"dcms\", \"type\": \"museum\", \"topic\": \"science\", \"precision\": \"estimate\", \"artefact_count\": 7360793, \"record_count\": 0.0}, {\"institution\": \"Science Museum Group\", \"sector\": \"dcms\", \"type\": \"museum\", \"topic\": \"science\", \"precision\": \"estimate\", \"artefact_count\": 7360793, \"record_count\": 0.0}, {\"institution\": \"Science Museum Group\", \"sector\": \"dcms\", \"type\": \"museum\", \"topic\": \"science\", \"precision\": \"estimate\", \"artefact_count\": 7360793, \"record_count\": 0.0}, {\"institution\": \"Museum of the Home\", \"sector\": \"dcms\", \"type\": \"museum\", \"topic\": \"history\", \"precision\": \"estimate\", \"artefact_count\": 40000, \"record_count\": 12200.0}, {\"institution\": \"Museum of the Home\", \"sector\": \"dcms\", \"type\": \"museum\", \"topic\": \"history\", \"precision\": \"estimate\", \"artefact_count\": 40000, \"record_count\": 0.0}, {\"institution\": \"Horniman Museum\", \"sector\": \"dcms\", \"type\": \"museum\", \"topic\": \"history\", \"precision\": \"estimate\", \"artefact_count\": 350000, \"record_count\": 132612.0}, {\"institution\": \"Horniman Museum\", \"sector\": \"dcms\", \"type\": \"museum\", \"topic\": \"history\", \"precision\": \"estimate\", \"artefact_count\": 350000, \"record_count\": 0.0}, {\"institution\": \"Horniman Museum\", \"sector\": \"dcms\", \"type\": \"museum\", \"topic\": \"history\", \"precision\": \"estimate\", \"artefact_count\": 350000, \"record_count\": 0.0}, {\"institution\": \"Imperial War Museums\", \"sector\": \"dcms\", \"type\": \"museum\", \"topic\": \"history\", \"precision\": \"estimate\", \"artefact_count\": 1000000, \"record_count\": 1737698.0}, {\"institution\": \"Imperial War Museums\", \"sector\": \"dcms\", \"type\": \"museum\", \"topic\": \"history\", \"precision\": \"estimate\", \"artefact_count\": 1000000, \"record_count\": 0.0}, {\"institution\": \"Imperial War Museums\", \"sector\": \"dcms\", \"type\": \"museum\", \"topic\": \"history\", \"precision\": \"estimate\", \"artefact_count\": 1000000, \"record_count\": 0.0}, {\"institution\": \"National Gallery\", \"sector\": \"dcms\", \"type\": \"gallery\", \"topic\": \"art\", \"precision\": \"estimate\", \"artefact_count\": 2626, \"record_count\": 0.0}, {\"institution\": \"National Gallery\", \"sector\": \"dcms\", \"type\": \"gallery\", \"topic\": \"art\", \"precision\": \"estimate\", \"artefact_count\": 2626, \"record_count\": 0.0}, {\"institution\": \"National Museums Liverpool\", \"sector\": \"dcms\", \"type\": \"museum\", \"topic\": \"history\", \"precision\": \"estimate\", \"artefact_count\": 4000000, \"record_count\": 73682.0}, {\"institution\": \"National Museums Liverpool\", \"sector\": \"dcms\", \"type\": \"museum\", \"topic\": \"history\", \"precision\": \"estimate\", \"artefact_count\": 4000000, \"record_count\": 0.0}, {\"institution\": \"National Museums Liverpool\", \"sector\": \"dcms\", \"type\": \"museum\", \"topic\": \"history\", \"precision\": \"estimate\", \"artefact_count\": 4000000, \"record_count\": 0.0}, {\"institution\": \"National Portrait Gallery\", \"sector\": \"dcms\", \"type\": \"gallery\", \"topic\": \"art\", \"precision\": \"estimate\", \"artefact_count\": 350000, \"record_count\": 0.0}, {\"institution\": \"National Portrait Gallery\", \"sector\": \"dcms\", \"type\": \"gallery\", \"topic\": \"art\", \"precision\": \"estimate\", \"artefact_count\": 350000, \"record_count\": 0.0}, {\"institution\": \"Natural History Museum\", \"sector\": \"dcms\", \"type\": \"museum\", \"topic\": \"nature\", \"precision\": \"estimate\", \"artefact_count\": 80000000, \"record_count\": 78000000.0}, {\"institution\": \"Natural History Museum\", \"sector\": \"dcms\", \"type\": \"museum\", \"topic\": \"nature\", \"precision\": \"estimate\", \"artefact_count\": 80000000, \"record_count\": 0.0}, {\"institution\": \"Natural History Museum\", \"sector\": \"dcms\", \"type\": \"museum\", \"topic\": \"nature\", \"precision\": \"estimate\", \"artefact_count\": 80000000, \"record_count\": 0.0}, {\"institution\": \"Royal Armouries\", \"sector\": \"dcms\", \"type\": \"museum\", \"topic\": \"history\", \"precision\": \"estimate\", \"artefact_count\": 70000, \"record_count\": 65627.0}, {\"institution\": \"Royal Museums Greenwich\", \"sector\": \"dcms\", \"type\": \"museum\", \"topic\": \"history\", \"precision\": \"estimate\", \"artefact_count\": 3000000, \"record_count\": 0.0}, {\"institution\": \"Royal Museums Greenwich\", \"sector\": \"dcms\", \"type\": \"museum\", \"topic\": \"history\", \"precision\": \"estimate\", \"artefact_count\": 3000000, \"record_count\": 0.0}, {\"institution\": \"Royal Museums Greenwich\", \"sector\": \"dcms\", \"type\": \"museum\", \"topic\": \"history\", \"precision\": \"estimate\", \"artefact_count\": 3000000, \"record_count\": 0.0}, {\"institution\": \"Sir John Soane's Museum\", \"sector\": \"dcms\", \"type\": \"museum\", \"topic\": \"history\", \"precision\": \"estimate\", \"artefact_count\": 52000, \"record_count\": 57164.0}, {\"institution\": \"Tate Gallery Group\", \"sector\": \"dcms\", \"type\": \"gallery\", \"topic\": \"art\", \"precision\": \"estimate\", \"artefact_count\": 70000, \"record_count\": 0.0}, {\"institution\": \"The Wallace Collection\", \"sector\": \"dcms\", \"type\": \"museum\", \"topic\": \"art\", \"precision\": \"estimate\", \"artefact_count\": 5637, \"record_count\": 0.0}, {\"institution\": \"The Wallace Collection\", \"sector\": \"dcms\", \"type\": \"museum\", \"topic\": \"art\", \"precision\": \"estimate\", \"artefact_count\": 5637, \"record_count\": 0.0}, {\"institution\": \"The Wallace Collection\", \"sector\": \"dcms\", \"type\": \"museum\", \"topic\": \"art\", \"precision\": \"estimate\", \"artefact_count\": 5637, \"record_count\": 0.0}, {\"institution\": \"British Museum\", \"sector\": \"dcms\", \"type\": \"museum\", \"topic\": \"history\", \"precision\": \"estimate\", \"artefact_count\": 8000000, \"record_count\": 2000000.0}, {\"institution\": \"British Museum\", \"sector\": \"dcms\", \"type\": \"museum\", \"topic\": \"history\", \"precision\": \"estimate\", \"artefact_count\": 8000000, \"record_count\": 0.0}, {\"institution\": \"British Museum\", \"sector\": \"dcms\", \"type\": \"museum\", \"topic\": \"history\", \"precision\": \"estimate\", \"artefact_count\": 8000000, \"record_count\": 0.0}]}}, {\"mode\": \"vega-lite\"});\n",
       "</script>"
      ],
      "text/plain": [
       "alt.Chart(...)"
      ]
     },
     "execution_count": 59,
     "metadata": {},
     "output_type": "execute_result"
    }
   ],
   "source": [
    "title = alt.TitleParams('Cataloguing Progress', anchor='middle')\n",
    "alt.Chart(df, title=title).mark_bar().encode(\n",
    "    x='progress:Q',\n",
    "    tooltip='progress:Q',\n",
    "    y='institution:N',\n",
    ").properties(width=400).resolve_scale(x='independent').transform_calculate(\n",
    "    progress='datum.record_count / datum.artefact_count'\n",
    ").configure(numberFormat='.2%')"
   ]
  },
  {
   "cell_type": "markdown",
   "id": "62c22189-ffaa-4017-8143-a370ac79996a",
   "metadata": {
    "editable": true,
    "slideshow": {
     "slide_type": ""
    },
    "tags": [
     "hide-cell"
    ]
   },
   "source": [
    "# Issues \n",
    "- should collection total if it's museum/library/archive be broken out programatically ?\n",
    "Graphs - Digitised (images)\n",
    "graph - tiny squares grid with colours for - propotion catalogued, proptoition with images, online/api, \n",
    "graph - scatter plot "
   ]
  }
 ],
 "metadata": {
  "kernelspec": {
   "display_name": "Python 3 (ipykernel)",
   "language": "python",
   "name": "python3"
  },
  "language_info": {
   "codemirror_mode": {
    "name": "ipython",
    "version": 3
   },
   "file_extension": ".py",
   "mimetype": "text/x-python",
   "name": "python",
   "nbconvert_exporter": "python",
   "pygments_lexer": "ipython3",
   "version": "3.9.18"
  }
 },
 "nbformat": 4,
 "nbformat_minor": 5
}
