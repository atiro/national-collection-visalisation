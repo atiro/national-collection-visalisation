{
 "cells": [
  {
   "cell_type": "code",
   "execution_count": 8,
   "id": "bc077a0d-3cac-4f63-8b00-fa6d878fe2a7",
   "metadata": {
    "editable": true,
    "slideshow": {
     "slide_type": ""
    },
    "tags": [
     "hide-input",
     "remove-cell"
    ]
   },
   "outputs": [],
   "source": [
    "import pandas as pd\n",
    "import altair as alt\n",
    "artefacts_data = pd.read_csv(\"artefacts-overview-stats.csv\")\n",
    "records_data = pd.read_csv(\"records-institution-stats-total.csv\")"
   ]
  },
  {
   "cell_type": "code",
   "execution_count": 9,
   "id": "cb68121b-69f5-41d5-b3ba-5c3e6a681106",
   "metadata": {
    "editable": true,
    "slideshow": {
     "slide_type": ""
    },
    "tags": [
     "remove-cell"
    ]
   },
   "outputs": [],
   "source": [
    "import pandas as pd\n",
    "artefacts_type_df = pd.read_csv(\"artefacts-type-overview-stats.csv\")\n",
    "records_type_df = pd.read_csv(\"records-institution-stats-type-total.csv\")\n",
    "combined_art_record_type = pd.merge(artefacts_type_df, records_type_df, on=['institution', 'type'])"
   ]
  },
  {
   "cell_type": "markdown",
   "id": "2233f1b1-7381-4f20-a010-f3505fa703c6",
   "metadata": {
    "editable": true,
    "slideshow": {
     "slide_type": ""
    },
    "tags": []
   },
   "source": [
    "# Cataloguing\n",
    "\n",
    "This is an attempt to give an overview of what has been catalogued. As this requires combining potentially uncertain artefacts statistics with potentially uncertain record statistics, the levels of uncertainty grow even more here. One issue that will be obvious from some very high catalouging percentages below (over 1000%!) is cases where we have a low number of artefacts given and then a high known number of records. We could probably safely make the assumption that the number of artefacts is always at least the number of records, but all the numbers here come from published sources to avoid introducing even more confusion by us making assumptions.\n",
    "\n"
   ]
  },
  {
   "cell_type": "markdown",
   "id": "7d04720b-1e95-4d67-b682-35c22ca34af3",
   "metadata": {
    "editable": true,
    "slideshow": {
     "slide_type": ""
    },
    "tags": []
   },
   "source": [
    "## Artefact and Record counts"
   ]
  },
  {
   "cell_type": "code",
   "execution_count": 10,
   "id": "647ae3aa-8408-482e-a307-597e201104c0",
   "metadata": {
    "editable": true,
    "slideshow": {
     "slide_type": ""
    },
    "tags": [
     "remove-input"
    ]
   },
   "outputs": [
    {
     "data": {
      "text/html": [
       "\n",
       "<style>\n",
       "  #altair-viz-fe3a66ca44624162befc29900970ede0.vega-embed {\n",
       "    width: 100%;\n",
       "    display: flex;\n",
       "  }\n",
       "\n",
       "  #altair-viz-fe3a66ca44624162befc29900970ede0.vega-embed details,\n",
       "  #altair-viz-fe3a66ca44624162befc29900970ede0.vega-embed details summary {\n",
       "    position: relative;\n",
       "  }\n",
       "</style>\n",
       "<div id=\"altair-viz-fe3a66ca44624162befc29900970ede0\"></div>\n",
       "<script type=\"text/javascript\">\n",
       "  var VEGA_DEBUG = (typeof VEGA_DEBUG == \"undefined\") ? {} : VEGA_DEBUG;\n",
       "  (function(spec, embedOpt){\n",
       "    let outputDiv = document.currentScript.previousElementSibling;\n",
       "    if (outputDiv.id !== \"altair-viz-fe3a66ca44624162befc29900970ede0\") {\n",
       "      outputDiv = document.getElementById(\"altair-viz-fe3a66ca44624162befc29900970ede0\");\n",
       "    }\n",
       "    const paths = {\n",
       "      \"vega\": \"https://cdn.jsdelivr.net/npm/vega@5?noext\",\n",
       "      \"vega-lib\": \"https://cdn.jsdelivr.net/npm/vega-lib?noext\",\n",
       "      \"vega-lite\": \"https://cdn.jsdelivr.net/npm/vega-lite@5.17.0?noext\",\n",
       "      \"vega-embed\": \"https://cdn.jsdelivr.net/npm/vega-embed@6?noext\",\n",
       "    };\n",
       "\n",
       "    function maybeLoadScript(lib, version) {\n",
       "      var key = `${lib.replace(\"-\", \"\")}_version`;\n",
       "      return (VEGA_DEBUG[key] == version) ?\n",
       "        Promise.resolve(paths[lib]) :\n",
       "        new Promise(function(resolve, reject) {\n",
       "          var s = document.createElement('script');\n",
       "          document.getElementsByTagName(\"head\")[0].appendChild(s);\n",
       "          s.async = true;\n",
       "          s.onload = () => {\n",
       "            VEGA_DEBUG[key] = version;\n",
       "            return resolve(paths[lib]);\n",
       "          };\n",
       "          s.onerror = () => reject(`Error loading script: ${paths[lib]}`);\n",
       "          s.src = paths[lib];\n",
       "        });\n",
       "    }\n",
       "\n",
       "    function showError(err) {\n",
       "      outputDiv.innerHTML = `<div class=\"error\" style=\"color:red;\">${err}</div>`;\n",
       "      throw err;\n",
       "    }\n",
       "\n",
       "    function displayChart(vegaEmbed) {\n",
       "      vegaEmbed(outputDiv, spec, embedOpt)\n",
       "        .catch(err => showError(`Javascript Error: ${err.message}<br>This usually means there's a typo in your chart specification. See the javascript console for the full traceback.`));\n",
       "    }\n",
       "\n",
       "    if(typeof define === \"function\" && define.amd) {\n",
       "      requirejs.config({paths});\n",
       "      require([\"vega-embed\"], displayChart, err => showError(`Error loading script: ${err.message}`));\n",
       "    } else {\n",
       "      maybeLoadScript(\"vega\", \"5\")\n",
       "        .then(() => maybeLoadScript(\"vega-lite\", \"5.17.0\"))\n",
       "        .then(() => maybeLoadScript(\"vega-embed\", \"6\"))\n",
       "        .catch(showError)\n",
       "        .then(() => displayChart(vegaEmbed));\n",
       "    }\n",
       "  })({\"config\": {\"view\": {\"continuousWidth\": 300, \"continuousHeight\": 300}, \"numberFormat\": \".2s\"}, \"data\": {\"name\": \"data-f00347a1d199dfd5390c552dbcfc0806\"}, \"mark\": {\"type\": \"bar\"}, \"encoding\": {\"color\": {\"field\": \"institution\", \"legend\": {\"columns\": 4, \"orient\": \"bottom\"}, \"sort\": \"descending\", \"type\": \"nominal\"}, \"tooltip\": [{\"field\": \"institution\", \"type\": \"nominal\"}, {\"field\": \"artefact_count\", \"type\": \"quantitative\"}, {\"field\": \"record_count\", \"type\": \"quantitative\"}], \"x\": {\"field\": \"count\", \"type\": \"quantitative\"}, \"y\": {\"field\": \"type\", \"type\": \"nominal\"}}, \"resolve\": {\"scale\": {\"x\": \"independent\"}}, \"title\": {\"text\": \"Comparision of artefact and record counts\", \"anchor\": \"middle\"}, \"transform\": [{\"fold\": [\"artefact_count\", \"record_count\"], \"as\": [\"type\", \"count\"]}], \"width\": 800, \"$schema\": \"https://vega.github.io/schema/vega-lite/v5.17.0.json\", \"datasets\": {\"data-f00347a1d199dfd5390c552dbcfc0806\": [{\"institution\": \"Oxford University\", \"sector\": \"museum\", \"institution_type\": \"university\", \"topic\": \"mixed\", \"type\": \"object\", \"level\": \"item\", \"precision\": \"estimate\", \"artefact_count\": 0, \"record_count\": 1052444}, {\"institution\": \"Oxford University\", \"sector\": \"library\", \"institution_type\": \"university\", \"topic\": \"mixed\", \"type\": \"library\", \"level\": \"item\", \"precision\": \"estimate\", \"artefact_count\": 20000, \"record_count\": 8021011}, {\"institution\": \"Oxford University\", \"sector\": \"archive\", \"institution_type\": \"university\", \"topic\": \"mixed\", \"type\": \"archive\", \"level\": \"item\", \"precision\": \"estimate\", \"artefact_count\": 5000000, \"record_count\": 0}, {\"institution\": \"University of Cambridge\", \"sector\": \"museum\", \"institution_type\": \"university\", \"topic\": \"mixed\", \"type\": \"object\", \"level\": \"item\", \"precision\": \"estimate\", \"artefact_count\": 7000, \"record_count\": 7148}, {\"institution\": \"University of Cambridge\", \"sector\": \"library\", \"institution_type\": \"university\", \"topic\": \"mixed\", \"type\": \"library\", \"level\": \"item\", \"precision\": \"estimate\", \"artefact_count\": 10000000, \"record_count\": 0}, {\"institution\": \"University of Cambridge\", \"sector\": \"archive\", \"institution_type\": \"university\", \"topic\": \"mixed\", \"type\": \"archive\", \"level\": \"item\", \"precision\": \"estimate\", \"artefact_count\": 0, \"record_count\": 6979}, {\"institution\": \"Durham University\", \"sector\": \"museum\", \"institution_type\": \"university\", \"topic\": \"mixed\", \"type\": \"object\", \"level\": \"item\", \"precision\": \"estimate\", \"artefact_count\": 36000, \"record_count\": 33234}, {\"institution\": \"Durham University\", \"sector\": \"library\", \"institution_type\": \"university\", \"topic\": \"mixed\", \"type\": \"library\", \"level\": \"item\", \"precision\": \"estimate\", \"artefact_count\": 70000, \"record_count\": 0}, {\"institution\": \"Durham University\", \"sector\": \"archive\", \"institution_type\": \"university\", \"topic\": \"mixed\", \"type\": \"archive\", \"level\": \"item\", \"precision\": \"estimate\", \"artefact_count\": 0, \"record_count\": 0}, {\"institution\": \"University College London\", \"sector\": \"museum\", \"institution_type\": \"university\", \"topic\": \"mixed\", \"type\": \"object\", \"level\": \"item\", \"precision\": \"estimate\", \"artefact_count\": 164000, \"record_count\": 104446}, {\"institution\": \"University College London\", \"sector\": \"library\", \"institution_type\": \"university\", \"topic\": \"mixed\", \"type\": \"library\", \"level\": \"item\", \"precision\": \"estimate\", \"artefact_count\": 0, \"record_count\": 0}, {\"institution\": \"University College London\", \"sector\": \"archive\", \"institution_type\": \"university\", \"topic\": \"mixed\", \"type\": \"archive\", \"level\": \"item\", \"precision\": \"estimate\", \"artefact_count\": 0, \"record_count\": 0}, {\"institution\": \"University of Manchester\", \"sector\": \"museum\", \"institution_type\": \"university\", \"topic\": \"mixed\", \"type\": \"object\", \"level\": \"item\", \"precision\": \"estimate\", \"artefact_count\": 4560000, \"record_count\": 0}, {\"institution\": \"University of Manchester\", \"sector\": \"library\", \"institution_type\": \"university\", \"topic\": \"mixed\", \"type\": \"library\", \"level\": \"item\", \"precision\": \"estimate\", \"artefact_count\": 4000000, \"record_count\": 0}, {\"institution\": \"University of Manchester\", \"sector\": \"archive\", \"institution_type\": \"university\", \"topic\": \"mixed\", \"type\": \"archive\", \"level\": \"item\", \"precision\": \"estimate\", \"artefact_count\": 0, \"record_count\": 0}, {\"institution\": \"King's College London\", \"sector\": \"museum\", \"institution_type\": \"university\", \"topic\": \"mixed\", \"type\": \"object\", \"level\": \"item\", \"precision\": \"estimate\", \"artefact_count\": 0, \"record_count\": 0}, {\"institution\": \"King's College London\", \"sector\": \"library\", \"institution_type\": \"university\", \"topic\": \"mixed\", \"type\": \"library\", \"level\": \"item\", \"precision\": \"estimate\", \"artefact_count\": 200000, \"record_count\": 0}, {\"institution\": \"King's College London\", \"sector\": \"archive\", \"institution_type\": \"university\", \"topic\": \"mixed\", \"type\": \"archive\", \"level\": \"item\", \"precision\": \"estimate\", \"artefact_count\": 0, \"record_count\": 0}, {\"institution\": \"University of Birmingham\", \"sector\": \"museum\", \"institution_type\": \"university\", \"topic\": \"mixed\", \"type\": \"object\", \"level\": \"item\", \"precision\": \"estimate\", \"artefact_count\": 250000, \"record_count\": 0}, {\"institution\": \"University of Birmingham\", \"sector\": \"library\", \"institution_type\": \"university\", \"topic\": \"mixed\", \"type\": \"library\", \"level\": \"item\", \"precision\": \"estimate\", \"artefact_count\": 250000, \"record_count\": 0}, {\"institution\": \"University of Birmingham\", \"sector\": \"archive\", \"institution_type\": \"university\", \"topic\": \"mixed\", \"type\": \"archive\", \"level\": \"item\", \"precision\": \"estimate\", \"artefact_count\": 4000000, \"record_count\": 0}, {\"institution\": \"Unversity of Warwick\", \"sector\": \"museum\", \"institution_type\": \"university\", \"topic\": \"mixed\", \"type\": \"object\", \"level\": \"item\", \"precision\": \"estimate\", \"artefact_count\": 0, \"record_count\": 0}, {\"institution\": \"Unversity of Warwick\", \"sector\": \"library\", \"institution_type\": \"university\", \"topic\": \"mixed\", \"type\": \"library\", \"level\": \"item\", \"precision\": \"estimate\", \"artefact_count\": 16000, \"record_count\": 0}, {\"institution\": \"Unversity of Warwick\", \"sector\": \"archive\", \"institution_type\": \"university\", \"topic\": \"mixed\", \"type\": \"archive\", \"level\": \"item\", \"precision\": \"estimate\", \"artefact_count\": 0, \"record_count\": 367655}, {\"institution\": \"Manchester Metropolitan Unversity\", \"sector\": \"museum\", \"institution_type\": \"university\", \"topic\": \"mixed\", \"type\": \"object\", \"level\": \"item\", \"precision\": \"estimate\", \"artefact_count\": 0, \"record_count\": 0}, {\"institution\": \"Manchester Metropolitan Unversity\", \"sector\": \"library\", \"institution_type\": \"university\", \"topic\": \"mixed\", \"type\": \"library\", \"level\": \"item\", \"precision\": \"estimate\", \"artefact_count\": 0, \"record_count\": 28600}, {\"institution\": \"Manchester Metropolitan Unversity\", \"sector\": \"archive\", \"institution_type\": \"university\", \"topic\": \"mixed\", \"type\": \"archive\", \"level\": \"item\", \"precision\": \"estimate\", \"artefact_count\": 0, \"record_count\": 0}, {\"institution\": \"Swansea University\", \"sector\": \"museum\", \"institution_type\": \"university\", \"topic\": \"mixed\", \"type\": \"object\", \"level\": \"item\", \"precision\": \"estimate\", \"artefact_count\": 0, \"record_count\": 0}, {\"institution\": \"Swansea University\", \"sector\": \"library\", \"institution_type\": \"university\", \"topic\": \"mixed\", \"type\": \"library\", \"level\": \"item\", \"precision\": \"estimate\", \"artefact_count\": 1700, \"record_count\": 0}, {\"institution\": \"Swansea University\", \"sector\": \"archive\", \"institution_type\": \"university\", \"topic\": \"mixed\", \"type\": \"archive\", \"level\": \"item\", \"precision\": \"estimate\", \"artefact_count\": 0, \"record_count\": 0}, {\"institution\": \"University of Brighton\", \"sector\": \"museum\", \"institution_type\": \"university\", \"topic\": \"mixed\", \"type\": \"object\", \"level\": \"item\", \"precision\": \"estimate\", \"artefact_count\": 0, \"record_count\": 0}, {\"institution\": \"University of Brighton\", \"sector\": \"library\", \"institution_type\": \"university\", \"topic\": \"mixed\", \"type\": \"library\", \"level\": \"item\", \"precision\": \"estimate\", \"artefact_count\": 50000, \"record_count\": 0}, {\"institution\": \"University of Brighton\", \"sector\": \"archive\", \"institution_type\": \"university\", \"topic\": \"mixed\", \"type\": \"archive\", \"level\": \"item\", \"precision\": \"estimate\", \"artefact_count\": 0, \"record_count\": 0}, {\"institution\": \"SOAS, University of London\", \"sector\": \"museum\", \"institution_type\": \"university\", \"topic\": \"mixed\", \"type\": \"object\", \"level\": \"item\", \"precision\": \"estimate\", \"artefact_count\": 0, \"record_count\": 0}, {\"institution\": \"SOAS, University of London\", \"sector\": \"library\", \"institution_type\": \"university\", \"topic\": \"mixed\", \"type\": \"library\", \"level\": \"item\", \"precision\": \"estimate\", \"artefact_count\": 60000, \"record_count\": 40337}, {\"institution\": \"SOAS, University of London\", \"sector\": \"archive\", \"institution_type\": \"university\", \"topic\": \"mixed\", \"type\": \"archive\", \"level\": \"item\", \"precision\": \"estimate\", \"artefact_count\": 0, \"record_count\": 0}, {\"institution\": \"University of Aberdeen\", \"sector\": \"museum\", \"institution_type\": \"university\", \"topic\": \"mixed\", \"type\": \"object\", \"level\": \"item\", \"precision\": \"estimate\", \"artefact_count\": 0, \"record_count\": 0}, {\"institution\": \"University of Aberdeen\", \"sector\": \"library\", \"institution_type\": \"university\", \"topic\": \"mixed\", \"type\": \"library\", \"level\": \"item\", \"precision\": \"estimate\", \"artefact_count\": 530000, \"record_count\": 0}, {\"institution\": \"University of Aberdeen\", \"sector\": \"archive\", \"institution_type\": \"university\", \"topic\": \"mixed\", \"type\": \"archive\", \"level\": \"item\", \"precision\": \"estimate\", \"artefact_count\": 0, \"record_count\": 0}, {\"institution\": \"University of Bristol\", \"sector\": \"museum\", \"institution_type\": \"university\", \"topic\": \"mixed\", \"type\": \"object\", \"level\": \"item\", \"precision\": \"estimate\", \"artefact_count\": 100000, \"record_count\": 0}, {\"institution\": \"University of Bristol\", \"sector\": \"library\", \"institution_type\": \"university\", \"topic\": \"mixed\", \"type\": \"library\", \"level\": \"item\", \"precision\": \"estimate\", \"artefact_count\": 0, \"record_count\": 0}, {\"institution\": \"University of Bristol\", \"sector\": \"archive\", \"institution_type\": \"university\", \"topic\": \"mixed\", \"type\": \"archive\", \"level\": \"item\", \"precision\": \"estimate\", \"artefact_count\": 0, \"record_count\": 0}, {\"institution\": \"University of Leeds\", \"sector\": \"museum\", \"institution_type\": \"university\", \"topic\": \"mixed\", \"type\": \"object\", \"level\": \"item\", \"precision\": \"estimate\", \"artefact_count\": 0, \"record_count\": 0}, {\"institution\": \"University of Leeds\", \"sector\": \"library\", \"institution_type\": \"university\", \"topic\": \"mixed\", \"type\": \"library\", \"level\": \"item\", \"precision\": \"estimate\", \"artefact_count\": 350000, \"record_count\": 0}, {\"institution\": \"University of Leeds\", \"sector\": \"archive\", \"institution_type\": \"university\", \"topic\": \"mixed\", \"type\": \"archive\", \"level\": \"item\", \"precision\": \"estimate\", \"artefact_count\": 0, \"record_count\": 0}, {\"institution\": \"University of Reading\", \"sector\": \"library\", \"institution_type\": \"university\", \"topic\": \"mixed\", \"type\": \"library\", \"level\": \"item\", \"precision\": \"estimate\", \"artefact_count\": 0, \"record_count\": 69841}, {\"institution\": \"University of Reading\", \"sector\": \"archive\", \"institution_type\": \"university\", \"topic\": \"mixed\", \"type\": \"archive\", \"level\": \"item\", \"precision\": \"estimate\", \"artefact_count\": 0, \"record_count\": 186216}, {\"institution\": \"University of Sheffield\", \"sector\": \"museum\", \"institution_type\": \"university\", \"topic\": \"mixed\", \"type\": \"object\", \"level\": \"item\", \"precision\": \"estimate\", \"artefact_count\": 0, \"record_count\": 0}, {\"institution\": \"University of Sheffield\", \"sector\": \"library\", \"institution_type\": \"university\", \"topic\": \"mixed\", \"type\": \"library\", \"level\": \"item\", \"precision\": \"estimate\", \"artefact_count\": 30000, \"record_count\": 0}, {\"institution\": \"University of Sheffield\", \"sector\": \"archive\", \"institution_type\": \"university\", \"topic\": \"mixed\", \"type\": \"archive\", \"level\": \"item\", \"precision\": \"estimate\", \"artefact_count\": 0, \"record_count\": 0}, {\"institution\": \"University of St Andrews\", \"sector\": \"museum\", \"institution_type\": \"university\", \"topic\": \"mixed\", \"type\": \"object\", \"level\": \"item\", \"precision\": \"estimate\", \"artefact_count\": 0, \"record_count\": 0}, {\"institution\": \"University of St Andrews\", \"sector\": \"library\", \"institution_type\": \"university\", \"topic\": \"mixed\", \"type\": \"library\", \"level\": \"item\", \"precision\": \"estimate\", \"artefact_count\": 200000, \"record_count\": 0}, {\"institution\": \"University of St Andrews\", \"sector\": \"archive\", \"institution_type\": \"university\", \"topic\": \"mixed\", \"type\": \"archive\", \"level\": \"item\", \"precision\": \"estimate\", \"artefact_count\": 0, \"record_count\": 0}, {\"institution\": \"Royal College of Surgeons\", \"sector\": \"museum\", \"institution_type\": \"university\", \"topic\": \"medicine\", \"type\": \"object\", \"level\": \"item\", \"precision\": \"estimate\", \"artefact_count\": 3500, \"record_count\": 0}, {\"institution\": \"Royal College of Surgeons\", \"sector\": \"library\", \"institution_type\": \"university\", \"topic\": \"medicine\", \"type\": \"library\", \"level\": \"item\", \"precision\": \"estimate\", \"artefact_count\": 0, \"record_count\": 0}, {\"institution\": \"Royal College of Surgeons\", \"sector\": \"archive\", \"institution_type\": \"university\", \"topic\": \"medicine\", \"type\": \"archive\", \"level\": \"item\", \"precision\": \"estimate\", \"artefact_count\": 0, \"record_count\": 0}, {\"institution\": \"British Library\", \"sector\": \"museum\", \"institution_type\": \"library\", \"topic\": \"mixed\", \"type\": \"object\", \"level\": \"item\", \"precision\": \"estimate\", \"artefact_count\": 0, \"record_count\": 0}, {\"institution\": \"British Library\", \"sector\": \"library\", \"institution_type\": \"library\", \"topic\": \"mixed\", \"type\": \"library\", \"level\": \"item\", \"precision\": \"estimate\", \"artefact_count\": 33810000, \"record_count\": 0}, {\"institution\": \"British Library\", \"sector\": \"archive\", \"institution_type\": \"library\", \"topic\": \"mixed\", \"type\": \"archive\", \"level\": \"item\", \"precision\": \"estimate\", \"artefact_count\": 12000000, \"record_count\": 0}, {\"institution\": \"Chetham's Library\", \"sector\": \"museum\", \"institution_type\": \"library\", \"topic\": \"mixed\", \"type\": \"object\", \"level\": \"item\", \"precision\": \"estimate\", \"artefact_count\": 0, \"record_count\": 0}, {\"institution\": \"Chetham's Library\", \"sector\": \"library\", \"institution_type\": \"library\", \"topic\": \"mixed\", \"type\": \"library\", \"level\": \"item\", \"precision\": \"estimate\", \"artefact_count\": 121041, \"record_count\": 0}, {\"institution\": \"Chetham's Library\", \"sector\": \"archive\", \"institution_type\": \"library\", \"topic\": \"mixed\", \"type\": \"archive\", \"level\": \"item\", \"precision\": \"estimate\", \"artefact_count\": 0, \"record_count\": 0}, {\"institution\": \"Glasgow Woman's Library\", \"sector\": \"museum\", \"institution_type\": \"library\", \"topic\": \"mixed\", \"type\": \"object\", \"level\": \"item\", \"precision\": \"estimate\", \"artefact_count\": 0, \"record_count\": 3567}, {\"institution\": \"Glasgow Woman's Library\", \"sector\": \"library\", \"institution_type\": \"library\", \"topic\": \"mixed\", \"type\": \"library\", \"level\": \"item\", \"precision\": \"estimate\", \"artefact_count\": 0, \"record_count\": 0}, {\"institution\": \"Glasgow Woman's Library\", \"sector\": \"archive\", \"institution_type\": \"library\", \"topic\": \"mixed\", \"type\": \"archive\", \"level\": \"item\", \"precision\": \"estimate\", \"artefact_count\": 0, \"record_count\": 0}, {\"institution\": \"Lambeth Palace Library\", \"sector\": \"museum\", \"institution_type\": \"library\", \"topic\": \"theology\", \"type\": \"object\", \"level\": \"item\", \"precision\": \"estimate\", \"artefact_count\": 0, \"record_count\": 0}, {\"institution\": \"Lambeth Palace Library\", \"sector\": \"library\", \"institution_type\": \"library\", \"topic\": \"theology\", \"type\": \"library\", \"level\": \"item\", \"precision\": \"estimate\", \"artefact_count\": 186200, \"record_count\": 15000}, {\"institution\": \"Lambeth Palace Library\", \"sector\": \"archive\", \"institution_type\": \"library\", \"topic\": \"theology\", \"type\": \"archive\", \"level\": \"item\", \"precision\": \"estimate\", \"artefact_count\": 0, \"record_count\": 0}, {\"institution\": \"National Museum of the Royal Navy\", \"sector\": \"museum\", \"institution_type\": \"museum\", \"topic\": \"maritime\", \"type\": \"object\", \"level\": \"item\", \"precision\": \"estimate\", \"artefact_count\": 0, \"record_count\": 195690}, {\"institution\": \"National Museum of the Royal Navy\", \"sector\": \"library\", \"institution_type\": \"museum\", \"topic\": \"maritime\", \"type\": \"library\", \"level\": \"item\", \"precision\": \"estimate\", \"artefact_count\": 0, \"record_count\": 12828}, {\"institution\": \"National Museums Scotland\", \"sector\": \"museum\", \"institution_type\": \"museum\", \"topic\": \"mixed\", \"type\": \"object\", \"level\": \"item\", \"precision\": \"estimate\", \"artefact_count\": 12000000, \"record_count\": 820000}, {\"institution\": \"National Waterways Museum\", \"sector\": \"museum\", \"institution_type\": \"building\", \"topic\": \"transport\", \"type\": \"object\", \"level\": \"item\", \"precision\": \"estimate\", \"artefact_count\": 0, \"record_count\": 4574}, {\"institution\": \"National Waterways Museum\", \"sector\": \"archive\", \"institution_type\": \"building\", \"topic\": \"transport\", \"type\": \"archive\", \"level\": \"item\", \"precision\": \"estimate\", \"artefact_count\": 0, \"record_count\": 53195}, {\"institution\": \"Government Art Collection\", \"sector\": \"museum\", \"institution_type\": \"museum\", \"topic\": \"art\", \"type\": \"object\", \"level\": \"item\", \"precision\": \"estimate\", \"artefact_count\": 0, \"record_count\": 15247}, {\"institution\": \"Historic England Archive\", \"sector\": \"archive\", \"institution_type\": \"archive\", \"topic\": \"heritage\", \"type\": \"archive\", \"level\": \"item\", \"precision\": \"estimate\", \"artefact_count\": 12000000, \"record_count\": 1000000}, {\"institution\": \"Historic Environment\", \"sector\": \"archive\", \"institution_type\": \"archive\", \"topic\": \"heritage\", \"type\": \"archive\", \"level\": \"item\", \"precision\": \"estimate\", \"artefact_count\": 12000000, \"record_count\": 1000000}, {\"institution\": \"People's History Museum\", \"sector\": \"museum\", \"institution_type\": \"museum\", \"topic\": \"social\", \"type\": \"object\", \"level\": \"item\", \"precision\": \"estimate\", \"artefact_count\": 5680, \"record_count\": 5680}, {\"institution\": \"Portable Antiquities Scheme\", \"sector\": \"museum\", \"institution_type\": \"museum\", \"topic\": \"archaeology\", \"type\": \"object\", \"level\": \"item\", \"precision\": \"estimate\", \"artefact_count\": 1751232, \"record_count\": 1133397}, {\"institution\": \"Royal Air Force Museum\", \"sector\": \"museum\", \"institution_type\": \"museum\", \"topic\": \"military\", \"type\": \"object\", \"level\": \"item\", \"precision\": \"estimate\", \"artefact_count\": 0, \"record_count\": 1344}, {\"institution\": \"Royal Air Force Museum\", \"sector\": \"library\", \"institution_type\": \"museum\", \"topic\": \"military\", \"type\": \"library\", \"level\": \"item\", \"precision\": \"estimate\", \"artefact_count\": 0, \"record_count\": 26}, {\"institution\": \"Royal Air Force Museum\", \"sector\": \"archive\", \"institution_type\": \"museum\", \"topic\": \"military\", \"type\": \"archive\", \"level\": \"item\", \"precision\": \"estimate\", \"artefact_count\": 0, \"record_count\": 88}, {\"institution\": \"Royal Botanic Gardens Kew\", \"sector\": \"museum\", \"institution_type\": \"museum\", \"topic\": \"nature\", \"type\": \"object\", \"level\": \"item\", \"precision\": \"estimate\", \"artefact_count\": 7000000, \"record_count\": 5700000}, {\"institution\": \"Royal Collection\", \"sector\": \"museum\", \"institution_type\": \"museum\", \"topic\": \"nature\", \"type\": \"object\", \"level\": \"item\", \"precision\": \"estimate\", \"artefact_count\": 1000000, \"record_count\": 289595}, {\"institution\": \"Gwynedd Archive Services\", \"sector\": \"archive\", \"institution_type\": \"archive\", \"topic\": \"mixed\", \"type\": \"archive\", \"level\": \"item\", \"precision\": \"estimate\", \"artefact_count\": 0, \"record_count\": 12000}, {\"institution\": \"Hampshire Archives and Local Studies\", \"sector\": \"archive\", \"institution_type\": \"archive\", \"topic\": \"mixed\", \"type\": \"archive\", \"level\": \"item\", \"precision\": \"estimate\", \"artefact_count\": 0, \"record_count\": 1000000}, {\"institution\": \"Kresen Kernow\", \"sector\": \"archive\", \"institution_type\": \"archive\", \"topic\": \"mixed\", \"type\": \"archive\", \"level\": \"item\", \"precision\": \"estimate\", \"artefact_count\": 1000000, \"record_count\": 614909}, {\"institution\": \"North East Wales Archives\", \"sector\": \"archive\", \"institution_type\": \"archive\", \"topic\": \"mixed\", \"type\": \"archive\", \"level\": \"item\", \"precision\": \"estimate\", \"artefact_count\": 0, \"record_count\": 338969}, {\"institution\": \"Public Record Office Northern Ireland\", \"sector\": \"archive\", \"institution_type\": \"archive\", \"topic\": \"mixed\", \"type\": \"archive\", \"level\": \"item\", \"precision\": \"estimate\", \"artefact_count\": 0, \"record_count\": 1000000}, {\"institution\": \"Staffordshire Archive and Heritage\", \"sector\": \"museum\", \"institution_type\": \"mixed\", \"topic\": \"mixed\", \"type\": \"object\", \"level\": \"item\", \"precision\": \"estimate\", \"artefact_count\": 0, \"record_count\": 57017}, {\"institution\": \"Staffordshire Archive and Heritage\", \"sector\": \"library\", \"institution_type\": \"mixed\", \"topic\": \"mixed\", \"type\": \"library\", \"level\": \"item\", \"precision\": \"estimate\", \"artefact_count\": 0, \"record_count\": 139389}, {\"institution\": \"Staffordshire Archive and Heritage\", \"sector\": \"archive\", \"institution_type\": \"mixed\", \"topic\": \"mixed\", \"type\": \"archive\", \"level\": \"item\", \"precision\": \"estimate\", \"artefact_count\": 0, \"record_count\": 503623}, {\"institution\": \"Tyne & Wear Archives Catalogue\", \"sector\": \"archive\", \"institution_type\": \"archive\", \"topic\": \"mixed\", \"type\": \"archive\", \"level\": \"collection\", \"precision\": \"estimate\", \"artefact_count\": 75980, \"record_count\": 4602160}, {\"institution\": \"Tyne & Wear Archives Catalogue\", \"sector\": \"archive\", \"institution_type\": \"archive\", \"topic\": \"mixed\", \"type\": \"archive\", \"level\": \"item\", \"precision\": \"estimate\", \"artefact_count\": 0, \"record_count\": 4602160}, {\"institution\": \"West Glamorgan Archive Service\", \"sector\": \"archive\", \"institution_type\": \"archive\", \"topic\": \"mixed\", \"type\": \"archive\", \"level\": \"item\", \"precision\": \"estimate\", \"artefact_count\": 0, \"record_count\": 230000}, {\"institution\": \"Yorkshire Film Archive\", \"sector\": \"archive\", \"institution_type\": \"archive\", \"topic\": \"media\", \"type\": \"archive\", \"level\": \"item\", \"precision\": \"estimate\", \"artefact_count\": 0, \"record_count\": 8483}, {\"institution\": \"Courtauld Gallery\", \"sector\": \"museum\", \"institution_type\": \"gallery\", \"topic\": \"art\", \"type\": \"object\", \"level\": \"item\", \"precision\": \"estimate\", \"artefact_count\": 0, \"record_count\": 33501}, {\"institution\": \"Dulwich Picture Gallery\", \"sector\": \"museum\", \"institution_type\": \"gallery\", \"topic\": \"art\", \"type\": \"object\", \"level\": \"item\", \"precision\": \"estimate\", \"artefact_count\": 0, \"record_count\": 33501}, {\"institution\": \"Royal Academy of Arts\", \"sector\": \"museum\", \"institution_type\": \"gallery\", \"topic\": \"art\", \"type\": \"object\", \"level\": \"item\", \"precision\": \"estimate\", \"artefact_count\": 31985, \"record_count\": 18421}, {\"institution\": \"Royal Academy of Arts\", \"sector\": \"archive\", \"institution_type\": \"gallery\", \"topic\": \"art\", \"type\": \"archive\", \"level\": \"item\", \"precision\": \"estimate\", \"artefact_count\": 0, \"record_count\": 24768}, {\"institution\": \"Chatham Historic Dockyard\", \"sector\": \"museum\", \"institution_type\": \"building\", \"topic\": \"maritime\", \"type\": \"object\", \"level\": \"item\", \"precision\": \"estimate\", \"artefact_count\": 0, \"record_count\": 1548}, {\"institution\": \"Chatham Historic Dockyard\", \"sector\": \"library\", \"institution_type\": \"building\", \"topic\": \"maritime\", \"type\": \"library\", \"level\": \"item\", \"precision\": \"estimate\", \"artefact_count\": 0, \"record_count\": 1548}, {\"institution\": \"Chatham Historic Dockyard\", \"sector\": \"archive\", \"institution_type\": \"building\", \"topic\": \"maritime\", \"type\": \"archive\", \"level\": \"item\", \"precision\": \"estimate\", \"artefact_count\": 0, \"record_count\": 2058}, {\"institution\": \"Colchester and Ipswich Museums\", \"sector\": \"museum\", \"institution_type\": \"museum\", \"topic\": \"mixed\", \"type\": \"object\", \"level\": \"item\", \"precision\": \"estimate\", \"artefact_count\": 0, \"record_count\": 220000}, {\"institution\": \"Colchester and Ipswich Museums\", \"sector\": \"museum\", \"institution_type\": \"museum\", \"topic\": \"mixed\", \"type\": \"object\", \"level\": \"item\", \"precision\": \"estimate\", \"artefact_count\": 0, \"record_count\": 220000}, {\"institution\": \"London Transport Museum\", \"sector\": \"museum\", \"institution_type\": \"museum\", \"topic\": \"transport\", \"type\": \"object\", \"level\": \"item\", \"precision\": \"estimate\", \"artefact_count\": 0, \"record_count\": 271610}, {\"institution\": \"Food Museum\", \"sector\": \"museum\", \"institution_type\": \"museum\", \"topic\": \"social\", \"type\": \"object\", \"level\": \"item\", \"precision\": \"estimate\", \"artefact_count\": 40000, \"record_count\": 32040}, {\"institution\": \"Museum of Freemasonry\", \"sector\": \"museum\", \"institution_type\": \"museum\", \"topic\": \"social\", \"type\": \"object\", \"level\": \"item\", \"precision\": \"estimate\", \"artefact_count\": 0, \"record_count\": 0}, {\"institution\": \"Museum of Freemasonry\", \"sector\": \"library\", \"institution_type\": \"museum\", \"topic\": \"social\", \"type\": \"library\", \"level\": \"item\", \"precision\": \"estimate\", \"artefact_count\": 90000, \"record_count\": 0}, {\"institution\": \"Museum of Freemasonry\", \"sector\": \"archive\", \"institution_type\": \"museum\", \"topic\": \"social\", \"type\": \"archive\", \"level\": \"item\", \"precision\": \"estimate\", \"artefact_count\": 0, \"record_count\": 0}, {\"institution\": \"Museum of Lead Mining\", \"sector\": \"museum\", \"institution_type\": \"museum\", \"topic\": \"industry\", \"type\": \"object\", \"level\": \"item\", \"precision\": \"estimate\", \"artefact_count\": 0, \"record_count\": 0}, {\"institution\": \"Museum of Lead Mining\", \"sector\": \"library\", \"institution_type\": \"museum\", \"topic\": \"industry\", \"type\": \"library\", \"level\": \"item\", \"precision\": \"estimate\", \"artefact_count\": 2572, \"record_count\": 0}, {\"institution\": \"Museum of Lead Mining\", \"sector\": \"archive\", \"institution_type\": \"museum\", \"topic\": \"industry\", \"type\": \"archive\", \"level\": \"item\", \"precision\": \"estimate\", \"artefact_count\": 0, \"record_count\": 0}, {\"institution\": \"Museum of Scottish Railways\", \"sector\": \"museum\", \"institution_type\": \"museum\", \"topic\": \"industry\", \"type\": \"object\", \"level\": \"item\", \"precision\": \"estimate\", \"artefact_count\": 0, \"record_count\": 0}, {\"institution\": \"Museum of Scottish Railways\", \"sector\": \"library\", \"institution_type\": \"museum\", \"topic\": \"industry\", \"type\": \"library\", \"level\": \"item\", \"precision\": \"estimate\", \"artefact_count\": 0, \"record_count\": 0}, {\"institution\": \"Museum of Scottish Railways\", \"sector\": \"archive\", \"institution_type\": \"museum\", \"topic\": \"industry\", \"type\": \"archive\", \"level\": \"item\", \"precision\": \"estimate\", \"artefact_count\": 0, \"record_count\": 0}, {\"institution\": \"Royal Artillery Museum\", \"sector\": \"museum\", \"institution_type\": \"museum\", \"topic\": \"military\", \"type\": \"object\", \"level\": \"item\", \"precision\": \"estimate\", \"artefact_count\": 0, \"record_count\": 0}, {\"institution\": \"Royal Artillery Museum\", \"sector\": \"library\", \"institution_type\": \"museum\", \"topic\": \"military\", \"type\": \"library\", \"level\": \"item\", \"precision\": \"estimate\", \"artefact_count\": 30000, \"record_count\": 0}, {\"institution\": \"Royal Artillery Museum\", \"sector\": \"archive\", \"institution_type\": \"museum\", \"topic\": \"military\", \"type\": \"archive\", \"level\": \"item\", \"precision\": \"estimate\", \"artefact_count\": 0, \"record_count\": 0}, {\"institution\": \"Watts Gallery\", \"sector\": \"museum\", \"institution_type\": \"gallery\", \"topic\": \"art\", \"type\": \"object\", \"level\": \"item\", \"precision\": \"estimate\", \"artefact_count\": 0, \"record_count\": 7756}, {\"institution\": \"Watts Gallery\", \"sector\": \"library\", \"institution_type\": \"gallery\", \"topic\": \"art\", \"type\": \"library\", \"level\": \"item\", \"precision\": \"estimate\", \"artefact_count\": 0, \"record_count\": 4117}, {\"institution\": \"Watts Gallery\", \"sector\": \"archive\", \"institution_type\": \"gallery\", \"topic\": \"art\", \"type\": \"archive\", \"level\": \"item\", \"precision\": \"estimate\", \"artefact_count\": 0, \"record_count\": 668}, {\"institution\": \"Wellcome Collection\", \"sector\": \"museum\", \"institution_type\": \"museum\", \"topic\": \"medicine\", \"type\": \"object\", \"level\": \"item\", \"precision\": \"estimate\", \"artefact_count\": 250000, \"record_count\": 0}, {\"institution\": \"Wellcome Collection\", \"sector\": \"library\", \"institution_type\": \"museum\", \"topic\": \"medicine\", \"type\": \"library\", \"level\": \"item\", \"precision\": \"estimate\", \"artefact_count\": 2000000, \"record_count\": 0}, {\"institution\": \"Wellcome Collection\", \"sector\": \"archive\", \"institution_type\": \"museum\", \"topic\": \"medicine\", \"type\": \"archive\", \"level\": \"item\", \"precision\": \"estimate\", \"artefact_count\": 0, \"record_count\": 0}, {\"institution\": \"Aberdeen Archives, Gallery and Museums\", \"sector\": \"museum\", \"institution_type\": \"mixed\", \"topic\": \"mixed\", \"type\": \"object\", \"level\": \"item\", \"precision\": \"estimate\", \"artefact_count\": 0, \"record_count\": 151529}, {\"institution\": \"Aberdeen Archives, Gallery and Museums\", \"sector\": \"archive\", \"institution_type\": \"mixed\", \"topic\": \"mixed\", \"type\": \"archive\", \"level\": \"item\", \"precision\": \"estimate\", \"artefact_count\": 0, \"record_count\": 95798}, {\"institution\": \"Black Country Living Museum\", \"sector\": \"museum\", \"institution_type\": \"museum\", \"topic\": \"history\", \"type\": \"object\", \"level\": \"item\", \"precision\": \"estimate\", \"artefact_count\": 80000, \"record_count\": 4903}, {\"institution\": \"The Box Plymouth\", \"sector\": \"museum\", \"institution_type\": \"mixed\", \"topic\": \"history\", \"type\": \"object\", \"level\": \"item\", \"precision\": \"estimate\", \"artefact_count\": 0, \"record_count\": 21691}, {\"institution\": \"Bradford District Museums & Galleries\", \"sector\": \"museum\", \"institution_type\": \"museum\", \"topic\": \"mixed\", \"type\": \"object\", \"level\": \"item\", \"precision\": \"estimate\", \"artefact_count\": 387837, \"record_count\": 0}, {\"institution\": \"Bradford District Museums & Galleries\", \"sector\": \"library\", \"institution_type\": \"museum\", \"topic\": \"mixed\", \"type\": \"library\", \"level\": \"item\", \"precision\": \"estimate\", \"artefact_count\": 0, \"record_count\": 0}, {\"institution\": \"Bradford District Museums & Galleries\", \"sector\": \"archive\", \"institution_type\": \"museum\", \"topic\": \"mixed\", \"type\": \"archive\", \"level\": \"item\", \"precision\": \"estimate\", \"artefact_count\": 450000, \"record_count\": 21878}, {\"institution\": \"Culture Coventry\", \"sector\": \"museum\", \"institution_type\": \"museum\", \"topic\": \"mixed\", \"type\": \"object\", \"level\": \"item\", \"precision\": \"estimate\", \"artefact_count\": 670, \"record_count\": 109173}, {\"institution\": \"Culture Coventry\", \"sector\": \"archive\", \"institution_type\": \"museum\", \"topic\": \"mixed\", \"type\": \"archive\", \"level\": \"item\", \"precision\": \"estimate\", \"artefact_count\": 1000000, \"record_count\": 336877}, {\"institution\": \"Culture Trust Luton\", \"sector\": \"museum\", \"institution_type\": \"museum\", \"topic\": \"mixed\", \"type\": \"object\", \"level\": \"item\", \"precision\": \"estimate\", \"artefact_count\": 5051, \"record_count\": 0}, {\"institution\": \"Culture Trust Luton\", \"sector\": \"library\", \"institution_type\": \"museum\", \"topic\": \"mixed\", \"type\": \"library\", \"level\": \"item\", \"precision\": \"estimate\", \"artefact_count\": 0, \"record_count\": 0}, {\"institution\": \"Culture Trust Luton\", \"sector\": \"archive\", \"institution_type\": \"museum\", \"topic\": \"mixed\", \"type\": \"archive\", \"level\": \"item\", \"precision\": \"estimate\", \"artefact_count\": 1100000, \"record_count\": 0}, {\"institution\": \"Dundee Heritage Trust\", \"sector\": \"museum\", \"institution_type\": \"museum\", \"topic\": \"mixed\", \"type\": \"object\", \"level\": \"item\", \"precision\": \"estimate\", \"artefact_count\": 0, \"record_count\": 8592}, {\"institution\": \"Dundee Heritage Trust\", \"sector\": \"library\", \"institution_type\": \"museum\", \"topic\": \"mixed\", \"type\": \"library\", \"level\": \"item\", \"precision\": \"estimate\", \"artefact_count\": 0, \"record_count\": 0}, {\"institution\": \"Dundee Heritage Trust\", \"sector\": \"archive\", \"institution_type\": \"museum\", \"topic\": \"mixed\", \"type\": \"archive\", \"level\": \"item\", \"precision\": \"estimate\", \"artefact_count\": 0, \"record_count\": 0}, {\"institution\": \"Heritage Doncaster\", \"sector\": \"museum\", \"institution_type\": \"museum\", \"topic\": \"mixed\", \"type\": \"object\", \"level\": \"item\", \"precision\": \"estimate\", \"artefact_count\": 405000, \"record_count\": 0}, {\"institution\": \"Heritage Doncaster\", \"sector\": \"library\", \"institution_type\": \"museum\", \"topic\": \"mixed\", \"type\": \"library\", \"level\": \"item\", \"precision\": \"estimate\", \"artefact_count\": 0, \"record_count\": 0}, {\"institution\": \"Heritage Doncaster\", \"sector\": \"archive\", \"institution_type\": \"museum\", \"topic\": \"mixed\", \"type\": \"archive\", \"level\": \"item\", \"precision\": \"estimate\", \"artefact_count\": 0, \"record_count\": 0}, {\"institution\": \"Northhampton Museums\", \"sector\": \"museum\", \"institution_type\": \"museum\", \"topic\": \"mixed\", \"type\": \"object\", \"level\": \"item\", \"precision\": \"estimate\", \"artefact_count\": 44024, \"record_count\": 0}, {\"institution\": \"Northhampton Museums\", \"sector\": \"library\", \"institution_type\": \"museum\", \"topic\": \"mixed\", \"type\": \"library\", \"level\": \"item\", \"precision\": \"estimate\", \"artefact_count\": 0, \"record_count\": 0}, {\"institution\": \"Northhampton Museums\", \"sector\": \"archive\", \"institution_type\": \"museum\", \"topic\": \"mixed\", \"type\": \"archive\", \"level\": \"item\", \"precision\": \"estimate\", \"artefact_count\": 0, \"record_count\": 0}, {\"institution\": \"Poole Museums\", \"sector\": \"museum\", \"institution_type\": \"museum\", \"topic\": \"mixed\", \"type\": \"object\", \"level\": \"item\", \"precision\": \"estimate\", \"artefact_count\": 50000, \"record_count\": 1489}, {\"institution\": \"Potteries Museum and Art Gallery\", \"sector\": \"museum\", \"institution_type\": \"museum\", \"topic\": \"art\", \"type\": \"object\", \"level\": \"item\", \"precision\": \"estimate\", \"artefact_count\": 1000000, \"record_count\": 1489}, {\"institution\": \"Ripon Museums\", \"sector\": \"museum\", \"institution_type\": \"museum\", \"topic\": \"social\", \"type\": \"object\", \"level\": \"item\", \"precision\": \"estimate\", \"artefact_count\": 9000, \"record_count\": 15}, {\"institution\": \"Ripon Museums\", \"sector\": \"archive\", \"institution_type\": \"museum\", \"topic\": \"social\", \"type\": \"archive\", \"level\": \"item\", \"precision\": \"estimate\", \"artefact_count\": 0, \"record_count\": 5}, {\"institution\": \"Royal Albert Memorial Museum\", \"sector\": \"museum\", \"institution_type\": \"museum\", \"topic\": \"mixed\", \"type\": \"object\", \"level\": \"item\", \"precision\": \"estimate\", \"artefact_count\": 0, \"record_count\": 16000}, {\"institution\": \"Sheffield Museums\", \"sector\": \"museum\", \"institution_type\": \"museum\", \"topic\": \"mixed\", \"type\": \"object\", \"level\": \"item\", \"precision\": \"estimate\", \"artefact_count\": 0, \"record_count\": 1000}, {\"institution\": \"St Helens Borough Council\", \"sector\": \"museum\", \"institution_type\": \"archive\", \"topic\": \"mixed\", \"type\": \"object\", \"level\": \"item\", \"precision\": \"estimate\", \"artefact_count\": 0, \"record_count\": 0}, {\"institution\": \"St Helens Borough Council\", \"sector\": \"library\", \"institution_type\": \"archive\", \"topic\": \"mixed\", \"type\": \"library\", \"level\": \"item\", \"precision\": \"estimate\", \"artefact_count\": 0, \"record_count\": 0}, {\"institution\": \"St Helens Borough Council\", \"sector\": \"archive\", \"institution_type\": \"archive\", \"topic\": \"mixed\", \"type\": \"archive\", \"level\": \"item\", \"precision\": \"estimate\", \"artefact_count\": 0, \"record_count\": 93344}, {\"institution\": \"Tyne & Wear Museums\", \"sector\": \"museum\", \"institution_type\": \"museum\", \"topic\": \"mixed\", \"type\": \"object\", \"level\": \"item\", \"precision\": \"estimate\", \"artefact_count\": 0, \"record_count\": 490107}, {\"institution\": \"Wiltshire Museum\", \"sector\": \"museum\", \"institution_type\": \"museum\", \"topic\": \"mixed\", \"type\": \"object\", \"level\": \"item\", \"precision\": \"estimate\", \"artefact_count\": 0, \"record_count\": 126410}, {\"institution\": \"York Museums Trust\", \"sector\": \"museum\", \"institution_type\": \"museum\", \"topic\": \"mixed\", \"type\": \"object\", \"level\": \"item\", \"precision\": \"estimate\", \"artefact_count\": 0, \"record_count\": 154354}, {\"institution\": \"York Museums Trust\", \"sector\": \"library\", \"institution_type\": \"museum\", \"topic\": \"mixed\", \"type\": \"library\", \"level\": \"item\", \"precision\": \"estimate\", \"artefact_count\": 0, \"record_count\": 0}, {\"institution\": \"York Museums Trust\", \"sector\": \"archive\", \"institution_type\": \"museum\", \"topic\": \"mixed\", \"type\": \"archive\", \"level\": \"item\", \"precision\": \"estimate\", \"artefact_count\": 0, \"record_count\": 0}, {\"institution\": \"Victoria & Albert Museum\", \"sector\": \"museum\", \"institution_type\": \"museum\", \"topic\": \"art\", \"type\": \"object\", \"level\": \"item\", \"precision\": \"estimate\", \"artefact_count\": 1691513, \"record_count\": 1282380}, {\"institution\": \"Victoria & Albert Museum\", \"sector\": \"library\", \"institution_type\": \"museum\", \"topic\": \"art\", \"type\": \"library\", \"level\": \"item\", \"precision\": \"estimate\", \"artefact_count\": 1130157, \"record_count\": 849000}, {\"institution\": \"Victoria & Albert Museum\", \"sector\": \"archive\", \"institution_type\": \"museum\", \"topic\": \"art\", \"type\": \"archive\", \"level\": \"item\", \"precision\": \"estimate\", \"artefact_count\": 0, \"record_count\": 157853}, {\"institution\": \"Museum of the Home\", \"sector\": \"museum\", \"institution_type\": \"museum\", \"topic\": \"history\", \"type\": \"object\", \"level\": \"item\", \"precision\": \"estimate\", \"artefact_count\": 0, \"record_count\": 12200}, {\"institution\": \"Museum of the Home\", \"sector\": \"library\", \"institution_type\": \"museum\", \"topic\": \"history\", \"type\": \"library\", \"level\": \"item\", \"precision\": \"estimate\", \"artefact_count\": 0, \"record_count\": 6290}, {\"institution\": \"Horniman Museum\", \"sector\": \"museum\", \"institution_type\": \"museum\", \"topic\": \"history\", \"type\": \"object\", \"level\": \"item\", \"precision\": \"estimate\", \"artefact_count\": 0, \"record_count\": 132612}, {\"institution\": \"Imperial War Museums\", \"sector\": \"museum\", \"institution_type\": \"museum\", \"topic\": \"history\", \"type\": \"object\", \"level\": \"item\", \"precision\": \"estimate\", \"artefact_count\": 0, \"record_count\": 1737698}, {\"institution\": \"National Gallery\", \"sector\": \"museum\", \"institution_type\": \"gallery\", \"topic\": \"art\", \"type\": \"object\", \"level\": \"item\", \"precision\": \"exact\", \"artefact_count\": 2626, \"record_count\": 2626}, {\"institution\": \"National Museums Liverpool\", \"sector\": \"museum\", \"institution_type\": \"museum\", \"topic\": \"history\", \"type\": \"object\", \"level\": \"item\", \"precision\": \"estimate\", \"artefact_count\": 0, \"record_count\": 73682}, {\"institution\": \"National Portrait Gallery\", \"sector\": \"museum\", \"institution_type\": \"gallery\", \"topic\": \"art\", \"type\": \"object\", \"level\": \"item\", \"precision\": \"estimate\", \"artefact_count\": 0, \"record_count\": 220000}, {\"institution\": \"Natural History Museum\", \"sector\": \"museum\", \"institution_type\": \"museum\", \"topic\": \"nature\", \"type\": \"object\", \"level\": \"item\", \"precision\": \"estimate\", \"artefact_count\": 80000000, \"record_count\": 78000000}, {\"institution\": \"Royal Armouries\", \"sector\": \"museum\", \"institution_type\": \"museum\", \"topic\": \"history\", \"type\": \"object\", \"level\": \"item\", \"precision\": \"estimate\", \"artefact_count\": 0, \"record_count\": 65627}, {\"institution\": \"Royal Armouries\", \"sector\": \"library\", \"institution_type\": \"museum\", \"topic\": \"history\", \"type\": \"library\", \"level\": \"item\", \"precision\": \"estimate\", \"artefact_count\": 0, \"record_count\": 69619}, {\"institution\": \"Royal Armouries\", \"sector\": \"archive\", \"institution_type\": \"museum\", \"topic\": \"history\", \"type\": \"archive\", \"level\": \"item\", \"precision\": \"estimate\", \"artefact_count\": 0, \"record_count\": 130130}, {\"institution\": \"Sir John Soane's Museum\", \"sector\": \"museum\", \"institution_type\": \"museum\", \"topic\": \"history\", \"type\": \"object\", \"level\": \"item\", \"precision\": \"estimate\", \"artefact_count\": 0, \"record_count\": 57164}, {\"institution\": \"Sir John Soane's Museum\", \"sector\": \"library\", \"institution_type\": \"museum\", \"topic\": \"history\", \"type\": \"library\", \"level\": \"item\", \"precision\": \"estimate\", \"artefact_count\": 0, \"record_count\": 6393}, {\"institution\": \"Sir John Soane's Museum\", \"sector\": \"archive\", \"institution_type\": \"museum\", \"topic\": \"history\", \"type\": \"archive\", \"level\": \"item\", \"precision\": \"estimate\", \"artefact_count\": 0, \"record_count\": 0}, {\"institution\": \"Tate Gallery Group\", \"sector\": \"museum\", \"institution_type\": \"gallery\", \"topic\": \"art\", \"type\": \"object\", \"level\": \"item\", \"precision\": \"estimate\", \"artefact_count\": 0, \"record_count\": 79236}, {\"institution\": \"Tate Gallery Group\", \"sector\": \"archive\", \"institution_type\": \"gallery\", \"topic\": \"art\", \"type\": \"archive\", \"level\": \"item\", \"precision\": \"estimate\", \"artefact_count\": 0, \"record_count\": 807060}, {\"institution\": \"British Museum\", \"sector\": \"museum\", \"institution_type\": \"museum\", \"topic\": \"history\", \"type\": \"object\", \"level\": \"item\", \"precision\": \"estimate\", \"artefact_count\": 8000000, \"record_count\": 2000000}]}}, {\"mode\": \"vega-lite\"});\n",
       "</script>"
      ],
      "text/plain": [
       "alt.Chart(...)"
      ]
     },
     "execution_count": 10,
     "metadata": {},
     "output_type": "execute_result"
    }
   ],
   "source": [
    "title = alt.TitleParams('Comparision of artefact and record counts', anchor='middle')\n",
    "alt.Chart(combined_art_record_type,title=title).mark_bar().encode(\n",
    "    alt.Color('institution:N', sort='descending', legend=alt.Legend(orient='bottom',columns=4)),\n",
    "    x='count:Q',\n",
    "    tooltip=['institution', 'artefact_count', 'record_count'],\n",
    "    y='type:N',\n",
    ").properties(width=800).resolve_scale(x='independent').transform_fold(\n",
    "    as_=['type', 'count'],\n",
    "    fold=['artefact_count', 'record_count']).configure(numberFormat='.2s')"
   ]
  },
  {
   "cell_type": "code",
   "execution_count": 12,
   "id": "47e43ea1-2341-48d5-932f-78cde4d43c79",
   "metadata": {
    "editable": true,
    "slideshow": {
     "slide_type": ""
    },
    "tags": [
     "remove-cell"
    ]
   },
   "outputs": [],
   "source": [
    "art_records = pd.merge(artefacts_data, records_data, on=\"institution\")"
   ]
  },
  {
   "cell_type": "markdown",
   "id": "641aaee0-5d3c-47f0-889c-a26f236626ff",
   "metadata": {
    "editable": true,
    "slideshow": {
     "slide_type": ""
    },
    "tags": []
   },
   "source": [
    "## Artefacts Catalogued\n",
    "\n",
    "This is a very rough attempt to give a percentage of the extent to which a collection has been digitised. The figures are based on personal interpretation piled on personal interpretation\n",
    "so should not be used. The errors in this chart can be seen by the x axis extending to 6000% which should give an indication of \n",
    "how untrustworthy it is."
   ]
  },
  {
   "cell_type": "code",
   "execution_count": 13,
   "id": "bc225b4f-d80d-4446-883b-deebf02dd9c8",
   "metadata": {
    "editable": true,
    "slideshow": {
     "slide_type": ""
    },
    "tags": [
     "remove-input"
    ]
   },
   "outputs": [
    {
     "data": {
      "text/html": [
       "\n",
       "<style>\n",
       "  #altair-viz-87eb9b6c89404bef9962fe34505462f8.vega-embed {\n",
       "    width: 100%;\n",
       "    display: flex;\n",
       "  }\n",
       "\n",
       "  #altair-viz-87eb9b6c89404bef9962fe34505462f8.vega-embed details,\n",
       "  #altair-viz-87eb9b6c89404bef9962fe34505462f8.vega-embed details summary {\n",
       "    position: relative;\n",
       "  }\n",
       "</style>\n",
       "<div id=\"altair-viz-87eb9b6c89404bef9962fe34505462f8\"></div>\n",
       "<script type=\"text/javascript\">\n",
       "  var VEGA_DEBUG = (typeof VEGA_DEBUG == \"undefined\") ? {} : VEGA_DEBUG;\n",
       "  (function(spec, embedOpt){\n",
       "    let outputDiv = document.currentScript.previousElementSibling;\n",
       "    if (outputDiv.id !== \"altair-viz-87eb9b6c89404bef9962fe34505462f8\") {\n",
       "      outputDiv = document.getElementById(\"altair-viz-87eb9b6c89404bef9962fe34505462f8\");\n",
       "    }\n",
       "    const paths = {\n",
       "      \"vega\": \"https://cdn.jsdelivr.net/npm/vega@5?noext\",\n",
       "      \"vega-lib\": \"https://cdn.jsdelivr.net/npm/vega-lib?noext\",\n",
       "      \"vega-lite\": \"https://cdn.jsdelivr.net/npm/vega-lite@5.17.0?noext\",\n",
       "      \"vega-embed\": \"https://cdn.jsdelivr.net/npm/vega-embed@6?noext\",\n",
       "    };\n",
       "\n",
       "    function maybeLoadScript(lib, version) {\n",
       "      var key = `${lib.replace(\"-\", \"\")}_version`;\n",
       "      return (VEGA_DEBUG[key] == version) ?\n",
       "        Promise.resolve(paths[lib]) :\n",
       "        new Promise(function(resolve, reject) {\n",
       "          var s = document.createElement('script');\n",
       "          document.getElementsByTagName(\"head\")[0].appendChild(s);\n",
       "          s.async = true;\n",
       "          s.onload = () => {\n",
       "            VEGA_DEBUG[key] = version;\n",
       "            return resolve(paths[lib]);\n",
       "          };\n",
       "          s.onerror = () => reject(`Error loading script: ${paths[lib]}`);\n",
       "          s.src = paths[lib];\n",
       "        });\n",
       "    }\n",
       "\n",
       "    function showError(err) {\n",
       "      outputDiv.innerHTML = `<div class=\"error\" style=\"color:red;\">${err}</div>`;\n",
       "      throw err;\n",
       "    }\n",
       "\n",
       "    function displayChart(vegaEmbed) {\n",
       "      vegaEmbed(outputDiv, spec, embedOpt)\n",
       "        .catch(err => showError(`Javascript Error: ${err.message}<br>This usually means there's a typo in your chart specification. See the javascript console for the full traceback.`));\n",
       "    }\n",
       "\n",
       "    if(typeof define === \"function\" && define.amd) {\n",
       "      requirejs.config({paths});\n",
       "      require([\"vega-embed\"], displayChart, err => showError(`Error loading script: ${err.message}`));\n",
       "    } else {\n",
       "      maybeLoadScript(\"vega\", \"5\")\n",
       "        .then(() => maybeLoadScript(\"vega-lite\", \"5.17.0\"))\n",
       "        .then(() => maybeLoadScript(\"vega-embed\", \"6\"))\n",
       "        .catch(showError)\n",
       "        .then(() => displayChart(vegaEmbed));\n",
       "    }\n",
       "  })({\"config\": {\"view\": {\"continuousWidth\": 300, \"continuousHeight\": 300}}, \"data\": {\"name\": \"data-6c2b8aa68963fd2af90ca6be99e9f449\"}, \"mark\": {\"type\": \"bar\"}, \"encoding\": {\"tooltip\": {\"field\": \"percent_catalogued\", \"type\": \"quantitative\"}, \"x\": {\"axis\": {\"format\": \".0%\"}, \"field\": \"percent_catalogued\", \"type\": \"quantitative\"}, \"y\": {\"field\": \"institution\", \"type\": \"nominal\"}}, \"title\": {\"text\": \"Catalogued Artefacts (overall percentage)\", \"anchor\": \"middle\"}, \"transform\": [{\"calculate\": \"datum.record_count / datum.artefact_count\", \"as\": \"percent_catalogued\"}], \"$schema\": \"https://vega.github.io/schema/vega-lite/v5.17.0.json\", \"datasets\": {\"data-6c2b8aa68963fd2af90ca6be99e9f449\": [{\"institution\": \"Oxford University\", \"sector\": \"university\", \"type\": \"university\", \"topic\": \"mixed\", \"precision\": \"estimate\", \"artefact_count\": 22530000, \"record_count\": 9073455}, {\"institution\": \"University of Cambridge\", \"sector\": \"university\", \"type\": \"university\", \"topic\": \"mixed\", \"precision\": \"estimate\", \"artefact_count\": 4007000, \"record_count\": 14127}, {\"institution\": \"Durham University\", \"sector\": \"university\", \"type\": \"university\", \"topic\": \"mixed\", \"precision\": \"estimate\", \"artefact_count\": 106000, \"record_count\": 33234}, {\"institution\": \"University College London\", \"sector\": \"university\", \"type\": \"university\", \"topic\": \"mixed\", \"precision\": \"estimate\", \"artefact_count\": 164000, \"record_count\": 104446}, {\"institution\": \"University of Manchester\", \"sector\": \"university\", \"type\": \"university\", \"topic\": \"mixed\", \"precision\": \"estimate\", \"artefact_count\": 8560000, \"record_count\": 0}, {\"institution\": \"King's College London\", \"sector\": \"university\", \"type\": \"university\", \"topic\": \"mixed\", \"precision\": \"estimate\", \"artefact_count\": 200000, \"record_count\": 0}, {\"institution\": \"University of Birmingham\", \"sector\": \"university\", \"type\": \"university\", \"topic\": \"mixed\", \"precision\": \"estimate\", \"artefact_count\": 4500000, \"record_count\": 0}, {\"institution\": \"Unversity of Warwick\", \"sector\": \"university\", \"type\": \"university\", \"topic\": \"mixed\", \"precision\": \"estimate\", \"artefact_count\": 16000, \"record_count\": 367655}, {\"institution\": \"Manchester Metropolitan Unversity\", \"sector\": \"university\", \"type\": \"university\", \"topic\": \"mixed\", \"precision\": \"estimate\", \"artefact_count\": 0, \"record_count\": 28600}, {\"institution\": \"Swansea University\", \"sector\": \"university\", \"type\": \"university\", \"topic\": \"mixed\", \"precision\": \"estimate\", \"artefact_count\": 1700, \"record_count\": 0}, {\"institution\": \"University of Brighton\", \"sector\": \"university\", \"type\": \"university\", \"topic\": \"mixed\", \"precision\": \"estimate\", \"artefact_count\": 50000, \"record_count\": 0}, {\"institution\": \"SOAS, University of London\", \"sector\": \"university\", \"type\": \"university\", \"topic\": \"mixed\", \"precision\": \"estimate\", \"artefact_count\": 60000, \"record_count\": 40337}, {\"institution\": \"University of Aberdeen\", \"sector\": \"university\", \"type\": \"university\", \"topic\": \"mixed\", \"precision\": \"estimate\", \"artefact_count\": 530000, \"record_count\": 0}, {\"institution\": \"University of Bristol\", \"sector\": \"university\", \"type\": \"university\", \"topic\": \"mixed\", \"precision\": \"estimate\", \"artefact_count\": 100000, \"record_count\": 0}, {\"institution\": \"University of Leeds\", \"sector\": \"university\", \"type\": \"university\", \"topic\": \"mixed\", \"precision\": \"estimate\", \"artefact_count\": 350000, \"record_count\": 0}, {\"institution\": \"University of Sheffield\", \"sector\": \"university\", \"type\": \"university\", \"topic\": \"mixed\", \"precision\": \"estimate\", \"artefact_count\": 30000, \"record_count\": 0}, {\"institution\": \"University of St Andrews\", \"sector\": \"university\", \"type\": \"university\", \"topic\": \"mixed\", \"precision\": \"estimate\", \"artefact_count\": 200000, \"record_count\": 0}, {\"institution\": \"Royal College of Surgeons\", \"sector\": \"university\", \"type\": \"university\", \"topic\": \"medicine\", \"precision\": \"estimate\", \"artefact_count\": 3500, \"record_count\": 0}, {\"institution\": \"British Library\", \"sector\": \"library\", \"type\": \"library\", \"topic\": \"mixed\", \"precision\": \"estimate\", \"artefact_count\": 45810000, \"record_count\": 0}, {\"institution\": \"Chetham's Library\", \"sector\": \"library\", \"type\": \"library\", \"topic\": \"mixed\", \"precision\": \"estimate\", \"artefact_count\": 121041, \"record_count\": 0}, {\"institution\": \"Glasgow Woman's Library\", \"sector\": \"library\", \"type\": \"library\", \"topic\": \"mixed\", \"precision\": \"estimate\", \"artefact_count\": 0, \"record_count\": 3567}, {\"institution\": \"Lambeth Palace Library\", \"sector\": \"library\", \"type\": \"library\", \"topic\": \"theology\", \"precision\": \"estimate\", \"artefact_count\": 186200, \"record_count\": 15000}, {\"institution\": \"National Library of Wales\", \"sector\": \"library\", \"type\": \"library\", \"topic\": \"mixed\", \"precision\": \"estimate\", \"artefact_count\": 7540000, \"record_count\": 0}, {\"institution\": \"National Library of Scotland\", \"sector\": \"library\", \"type\": \"library\", \"topic\": \"mixed\", \"precision\": \"estimate\", \"artefact_count\": 37000000, \"record_count\": 0}, {\"institution\": \"Amgueddfa Cymru (National Museum Wales)\", \"sector\": \"national\", \"type\": \"museum\", \"topic\": \"mixed\", \"precision\": \"estimate\", \"artefact_count\": 5319585, \"record_count\": 0}, {\"institution\": \"Historic Royal Palaces\", \"sector\": \"national\", \"type\": \"building\", \"topic\": \"mixed\", \"precision\": \"estimate\", \"artefact_count\": 60000, \"record_count\": 0}, {\"institution\": \"National Football Museum\", \"sector\": \"national\", \"type\": \"museum\", \"topic\": \"mixed\", \"precision\": \"estimate\", \"artefact_count\": 40000, \"record_count\": 0}, {\"institution\": \"National Justice Museum\", \"sector\": \"national\", \"type\": \"museum\", \"topic\": \"mixed\", \"precision\": \"estimate\", \"artefact_count\": 40000, \"record_count\": 0}, {\"institution\": \"National Mining Museum Scotland\", \"sector\": \"national\", \"type\": \"museum\", \"topic\": \"industry\", \"precision\": \"estimate\", \"artefact_count\": 100000, \"record_count\": 0}, {\"institution\": \"National Museum of the Royal Navy\", \"sector\": \"national\", \"type\": \"museum\", \"topic\": \"maritime\", \"precision\": \"estimate\", \"artefact_count\": 2500000, \"record_count\": 208518}, {\"institution\": \"National Museums NI\", \"sector\": \"national\", \"type\": \"museum\", \"topic\": \"mixed\", \"precision\": \"estimate\", \"artefact_count\": 1400000, \"record_count\": 0}, {\"institution\": \"National Museums Scotland\", \"sector\": \"national\", \"type\": \"museum\", \"topic\": \"mixed\", \"precision\": \"estimate\", \"artefact_count\": 12000000, \"record_count\": 820000}, {\"institution\": \"National Tramway Museum\", \"sector\": \"national\", \"type\": \"museum\", \"topic\": \"mixed\", \"precision\": \"estimate\", \"artefact_count\": 46690, \"record_count\": 0}, {\"institution\": \"National Trust\", \"sector\": \"national\", \"type\": \"building\", \"topic\": \"art\", \"precision\": \"estimate\", \"artefact_count\": 1000000, \"record_count\": 0}, {\"institution\": \"National Trust for Scotland\", \"sector\": \"national\", \"type\": \"building\", \"topic\": \"art\", \"precision\": \"estimate\", \"artefact_count\": 300000, \"record_count\": 0}, {\"institution\": \"National Waterways Museum\", \"sector\": \"national\", \"type\": \"building\", \"topic\": \"transport\", \"precision\": \"estimate\", \"artefact_count\": 150000, \"record_count\": 57769}, {\"institution\": \"Government Art Collection\", \"sector\": \"national\", \"type\": \"museum\", \"topic\": \"art\", \"precision\": \"estimate\", \"artefact_count\": 15000, \"record_count\": 15247}, {\"institution\": \"Historic Environment Scotland\", \"sector\": \"national\", \"type\": \"museum\", \"topic\": \"heritage\", \"precision\": \"estimate\", \"artefact_count\": 41000, \"record_count\": 0}, {\"institution\": \"People's History Museum\", \"sector\": \"national\", \"type\": \"museum\", \"topic\": \"social\", \"precision\": \"estimate\", \"artefact_count\": 5680, \"record_count\": 5680}, {\"institution\": \"Portable Antiquities Scheme\", \"sector\": \"national\", \"type\": \"museum\", \"topic\": \"archaeology\", \"precision\": \"estimate\", \"artefact_count\": 1751232, \"record_count\": 1133397}, {\"institution\": \"Royal Air Force Museum\", \"sector\": \"national\", \"type\": \"museum\", \"topic\": \"military\", \"precision\": \"estimate\", \"artefact_count\": 1300000, \"record_count\": 1458}, {\"institution\": \"Royal Botanic Gardens Kew\", \"sector\": \"national\", \"type\": \"museum\", \"topic\": \"nature\", \"precision\": \"estimate\", \"artefact_count\": 7000000, \"record_count\": 5700000}, {\"institution\": \"Royal Collection\", \"sector\": \"national\", \"type\": \"museum\", \"topic\": \"nature\", \"precision\": \"estimate\", \"artefact_count\": 1000000, \"record_count\": 289595}, {\"institution\": \"Staffordshire Archive and Heritage\", \"sector\": \"regional\", \"type\": \"mixed\", \"topic\": \"mixed\", \"precision\": \"estimate\", \"artefact_count\": 0, \"record_count\": 700029}, {\"institution\": \"Courtauld Gallery\", \"sector\": \"independent\", \"type\": \"gallery\", \"topic\": \"art\", \"precision\": \"estimate\", \"artefact_count\": 33501, \"record_count\": 33501}, {\"institution\": \"Dulwich Picture Gallery\", \"sector\": \"independent\", \"type\": \"gallery\", \"topic\": \"art\", \"precision\": \"estimate\", \"artefact_count\": 600, \"record_count\": 33501}, {\"institution\": \"Manchester Art Gallery\", \"sector\": \"independent\", \"type\": \"gallery\", \"topic\": \"art\", \"precision\": \"estimate\", \"artefact_count\": 46000, \"record_count\": 0}, {\"institution\": \"Manchester Art Gallery\", \"sector\": \"regional\", \"type\": \"gallery\", \"topic\": \"art\", \"precision\": \"estimate\", \"artefact_count\": 50000, \"record_count\": 0}, {\"institution\": \"National Galleries Scotland\", \"sector\": \"independent\", \"type\": \"gallery\", \"topic\": \"art\", \"precision\": \"estimate\", \"artefact_count\": 120000, \"record_count\": 0}, {\"institution\": \"William Morris Gallery\", \"sector\": \"regional\", \"type\": \"gallery\", \"topic\": \"art\", \"precision\": \"estimate\", \"artefact_count\": 10000, \"record_count\": 0}, {\"institution\": \"Bowes Museum\", \"sector\": \"independent\", \"type\": \"museum\", \"topic\": \"art\", \"precision\": \"estimate\", \"artefact_count\": 30000, \"record_count\": 0}, {\"institution\": \"Britten Pears\", \"sector\": \"independent\", \"type\": \"museum\", \"topic\": \"art\", \"precision\": \"estimate\", \"artefact_count\": 1200, \"record_count\": 0}, {\"institution\": \"Chatham Historic Dockyard\", \"sector\": \"independent\", \"type\": \"building\", \"topic\": \"maritime\", \"precision\": \"estimate\", \"artefact_count\": 70000, \"record_count\": 5154}, {\"institution\": \"English Heritage Trust\", \"sector\": \"independent\", \"type\": \"building\", \"topic\": \"history\", \"precision\": \"estimate\", \"artefact_count\": 700000, \"record_count\": 0}, {\"institution\": \"Gordon Highlanders Museum\", \"sector\": \"independent\", \"type\": \"museum\", \"topic\": \"military\", \"precision\": \"estimate\", \"artefact_count\": 40000, \"record_count\": 0}, {\"institution\": \"Ironbridge Gorge Museum Trust\", \"sector\": \"independent\", \"type\": \"museum\", \"topic\": \"industry\", \"precision\": \"estimate\", \"artefact_count\": 400000, \"record_count\": 0}, {\"institution\": \"Jewish Museum London\", \"sector\": \"independent\", \"type\": \"museum\", \"topic\": \"social\", \"precision\": \"estimate\", \"artefact_count\": 40000, \"record_count\": 0}, {\"institution\": \"London Transport Museum\", \"sector\": \"independent\", \"type\": \"museum\", \"topic\": \"transport\", \"precision\": \"estimate\", \"artefact_count\": 500000, \"record_count\": 271610}, {\"institution\": \"Manchester Jewish Museum\", \"sector\": \"independent\", \"type\": \"museum\", \"topic\": \"social\", \"precision\": \"estimate\", \"artefact_count\": 31000, \"record_count\": 0}, {\"institution\": \"Mary Rose Trust\", \"sector\": \"independent\", \"type\": \"museum\", \"topic\": \"maritime\", \"precision\": \"estimate\", \"artefact_count\": 19000, \"record_count\": 0}, {\"institution\": \"Media Archive for Central England (MACE)\", \"sector\": \"independent\", \"type\": \"archive\", \"topic\": \"media\", \"precision\": \"estimate\", \"artefact_count\": 65000, \"record_count\": 0}, {\"institution\": \"Food Museum\", \"sector\": \"independent\", \"type\": \"museum\", \"topic\": \"social\", \"precision\": \"estimate\", \"artefact_count\": 40000, \"record_count\": 32040}, {\"institution\": \"Museum of Freemasonry\", \"sector\": \"independent\", \"type\": \"museum\", \"topic\": \"social\", \"precision\": \"estimate\", \"artefact_count\": 90000, \"record_count\": 0}, {\"institution\": \"Museum of Lead Mining\", \"sector\": \"independent\", \"type\": \"museum\", \"topic\": \"industry\", \"precision\": \"estimate\", \"artefact_count\": 2572, \"record_count\": 0}, {\"institution\": \"Museum of Scottish Railways\", \"sector\": \"independent\", \"type\": \"museum\", \"topic\": \"industry\", \"precision\": \"estimate\", \"artefact_count\": 50000, \"record_count\": 0}, {\"institution\": \"Paxton Trust\", \"sector\": \"independent\", \"type\": \"building\", \"topic\": \"art\", \"precision\": \"estimate\", \"artefact_count\": 3754, \"record_count\": 0}, {\"institution\": \"Pier Arts Centre\", \"sector\": \"independent\", \"type\": \"gallery\", \"topic\": \"art\", \"precision\": \"estimate\", \"artefact_count\": 180, \"record_count\": 0}, {\"institution\": \"Postal Museum\", \"sector\": \"independent\", \"type\": \"museum\", \"topic\": \"social\", \"precision\": \"estimate\", \"artefact_count\": 60000, \"record_count\": 0}, {\"institution\": \"Royal Artillery Museum\", \"sector\": \"independent\", \"type\": \"museum\", \"topic\": \"military\", \"precision\": \"estimate\", \"artefact_count\": 30000, \"record_count\": 0}, {\"institution\": \"Royal Engineers Museum\", \"sector\": \"independent\", \"type\": \"museum\", \"topic\": \"military\", \"precision\": \"estimate\", \"artefact_count\": 1000000, \"record_count\": 0}, {\"institution\": \"Royal Scottish Academy of Art & Architecture\", \"sector\": \"independent\", \"type\": \"museum\", \"topic\": \"art\", \"precision\": \"estimate\", \"artefact_count\": 9000, \"record_count\": 0}, {\"institution\": \"Scottish Fisheries Museum\", \"sector\": \"independent\", \"type\": \"museum\", \"topic\": \"maritime\", \"precision\": \"estimate\", \"artefact_count\": 66000, \"record_count\": 0}, {\"institution\": \"Thackray Museum of Medicine\", \"sector\": \"regional\", \"type\": \"museum\", \"topic\": \"medicine\", \"precision\": \"estimate\", \"artefact_count\": 75000, \"record_count\": 0}, {\"institution\": \"Tuillie House Museum and Art Gallery\", \"sector\": \"regional\", \"type\": \"museum\", \"topic\": \"mixed\", \"precision\": \"estimate\", \"artefact_count\": 1000000, \"record_count\": 0}, {\"institution\": \"Wellcome Collection\", \"sector\": \"independent\", \"type\": \"museum\", \"topic\": \"medicine\", \"precision\": \"estimate\", \"artefact_count\": 2250000, \"record_count\": 0}, {\"institution\": \"Wordsworth Museum Collection\", \"sector\": \"regional\", \"type\": \"museum\", \"topic\": \"literature\", \"precision\": \"estimate\", \"artefact_count\": 68000, \"record_count\": 0}, {\"institution\": \"Aberdeenshire Council Museums\", \"sector\": \"regional\", \"type\": \"museum\", \"topic\": \"mixed\", \"precision\": \"estimate\", \"artefact_count\": 250000, \"record_count\": 0}, {\"institution\": \"Barnsley Museums\", \"sector\": \"regional\", \"type\": \"museum\", \"topic\": \"mixed\", \"precision\": \"estimate\", \"artefact_count\": 711400, \"record_count\": 0}, {\"institution\": \"Birmingham Museums Trust\", \"sector\": \"regional\", \"type\": \"museum\", \"topic\": \"art\", \"precision\": \"estimate\", \"artefact_count\": 800000, \"record_count\": 0}, {\"institution\": \"Black Country Living Museum\", \"sector\": \"regional\", \"type\": \"museum\", \"topic\": \"history\", \"precision\": \"estimate\", \"artefact_count\": 80000, \"record_count\": 4903}, {\"institution\": \"Bradford District Museums & Galleries\", \"sector\": \"regional\", \"type\": \"museum\", \"topic\": \"mixed\", \"precision\": \"estimate\", \"artefact_count\": 837837, \"record_count\": 21878}, {\"institution\": \"Bristol Museums\", \"sector\": \"regional\", \"type\": \"museum\", \"topic\": \"mixed\", \"precision\": \"estimate\", \"artefact_count\": 2000000, \"record_count\": 0}, {\"institution\": \"Culture Coventry\", \"sector\": \"regional\", \"type\": \"museum\", \"topic\": \"mixed\", \"precision\": \"estimate\", \"artefact_count\": 1000000, \"record_count\": 446050}, {\"institution\": \"Culture Perth and Kinross\", \"sector\": \"regional\", \"type\": \"museum\", \"topic\": \"mixed\", \"precision\": \"estimate\", \"artefact_count\": 500000, \"record_count\": 0}, {\"institution\": \"Culture Trust Luton\", \"sector\": \"regional\", \"type\": \"museum\", \"topic\": \"mixed\", \"precision\": \"estimate\", \"artefact_count\": 1105051, \"record_count\": 0}, {\"institution\": \"Dundee Heritage Trust\", \"sector\": \"regional\", \"type\": \"museum\", \"topic\": \"mixed\", \"precision\": \"estimate\", \"artefact_count\": 0, \"record_count\": 8592}, {\"institution\": \"Elgin Museum\", \"sector\": \"regional\", \"type\": \"museum\", \"topic\": \"mixed\", \"precision\": \"estimate\", \"artefact_count\": 36000, \"record_count\": 0}, {\"institution\": \"Glasgow Museums\", \"sector\": \"regional\", \"type\": \"museum\", \"topic\": \"mixed\", \"precision\": \"estimate\", \"artefact_count\": 1000000, \"record_count\": 0}, {\"institution\": \"Heritage Doncaster\", \"sector\": \"regional\", \"type\": \"museum\", \"topic\": \"mixed\", \"precision\": \"estimate\", \"artefact_count\": 406750, \"record_count\": 0}, {\"institution\": \"Highland Folk Museum\", \"sector\": \"regional\", \"type\": \"museum\", \"topic\": \"social\", \"precision\": \"estimate\", \"artefact_count\": 10000, \"record_count\": 0}, {\"institution\": \"Leeds Museums & Galleries\", \"sector\": \"regional\", \"type\": \"museum\", \"topic\": \"mixed\", \"precision\": \"estimate\", \"artefact_count\": 1300000, \"record_count\": 0}, {\"institution\": \"Leicester Museums\", \"sector\": \"regional\", \"type\": \"museum\", \"topic\": \"mixed\", \"precision\": \"estimate\", \"artefact_count\": 1500000, \"record_count\": 0}, {\"institution\": \"Edinburgh Museums\", \"sector\": \"regional\", \"type\": \"museum\", \"topic\": \"mixed\", \"precision\": \"estimate\", \"artefact_count\": 220000, \"record_count\": 0}, {\"institution\": \"Museums Northhumberland\", \"sector\": \"regional\", \"type\": \"museum\", \"topic\": \"mixed\", \"precision\": \"estimate\", \"artefact_count\": 25000, \"record_count\": 0}, {\"institution\": \"Northhampton Museums\", \"sector\": \"regional\", \"type\": \"museum\", \"topic\": \"mixed\", \"precision\": \"estimate\", \"artefact_count\": 44024, \"record_count\": 0}, {\"institution\": \"Orkney Museums\", \"sector\": \"regional\", \"type\": \"museum\", \"topic\": \"mixed\", \"precision\": \"estimate\", \"artefact_count\": 100000, \"record_count\": 0}, {\"institution\": \"Poole Museums\", \"sector\": \"regional\", \"type\": \"museum\", \"topic\": \"mixed\", \"precision\": \"estimate\", \"artefact_count\": 50000, \"record_count\": 1489}, {\"institution\": \"Potteries Museum and Art Gallery\", \"sector\": \"regional\", \"type\": \"museum\", \"topic\": \"art\", \"precision\": \"estimate\", \"artefact_count\": 1000000, \"record_count\": 1489}, {\"institution\": \"Preston Park Museum & Grounds\", \"sector\": \"regional\", \"type\": \"museum\", \"topic\": \"social\", \"precision\": \"estimate\", \"artefact_count\": 100000, \"record_count\": 0}, {\"institution\": \"Ripon Museums\", \"sector\": \"regional\", \"type\": \"museum\", \"topic\": \"social\", \"precision\": \"estimate\", \"artefact_count\": 9000, \"record_count\": 20}, {\"institution\": \"Royal Albert Memorial Museum\", \"sector\": \"regional\", \"type\": \"museum\", \"topic\": \"mixed\", \"precision\": \"estimate\", \"artefact_count\": 1000000, \"record_count\": 16000}, {\"institution\": \"Salisbury Museum\", \"sector\": \"regional\", \"type\": \"museum\", \"topic\": \"mixed\", \"precision\": \"estimate\", \"artefact_count\": 100000, \"record_count\": 0}, {\"institution\": \"St Helens Borough Council\", \"sector\": \"regional\", \"type\": \"archive\", \"topic\": \"mixed\", \"precision\": \"estimate\", \"artefact_count\": 0, \"record_count\": 93344}, {\"institution\": \"Sunderland Museum & Winter Gardens' Collection\", \"sector\": \"regional\", \"type\": \"museum\", \"topic\": \"mixed\", \"precision\": \"estimate\", \"artefact_count\": 108000, \"record_count\": 0}, {\"institution\": \"Wakefield Museums and Castles Collections\", \"sector\": \"regional\", \"type\": \"museum\", \"topic\": \"mixed\", \"precision\": \"estimate\", \"artefact_count\": 111000, \"record_count\": 0}, {\"institution\": \"Weald and Downland Living Museum\", \"sector\": \"regional\", \"type\": \"museum\", \"topic\": \"mixed\", \"precision\": \"estimate\", \"artefact_count\": 15000, \"record_count\": 0}, {\"institution\": \"York Museums Trust\", \"sector\": \"regional\", \"type\": \"museum\", \"topic\": \"mixed\", \"precision\": \"estimate\", \"artefact_count\": 0, \"record_count\": 154354}, {\"institution\": \"Victoria & Albert Museum\", \"sector\": \"dcms\", \"type\": \"museum\", \"topic\": \"art\", \"precision\": \"estimate\", \"artefact_count\": 2800000, \"record_count\": 2289233}, {\"institution\": \"Science Museum Group\", \"sector\": \"dcms\", \"type\": \"museum\", \"topic\": \"science\", \"precision\": \"estimate\", \"artefact_count\": 7360793, \"record_count\": 0}, {\"institution\": \"Museum of the Home\", \"sector\": \"dcms\", \"type\": \"museum\", \"topic\": \"history\", \"precision\": \"estimate\", \"artefact_count\": 40000, \"record_count\": 18490}, {\"institution\": \"Horniman Museum\", \"sector\": \"dcms\", \"type\": \"museum\", \"topic\": \"history\", \"precision\": \"estimate\", \"artefact_count\": 350000, \"record_count\": 132612}, {\"institution\": \"Imperial War Museums\", \"sector\": \"dcms\", \"type\": \"museum\", \"topic\": \"history\", \"precision\": \"estimate\", \"artefact_count\": 1000000, \"record_count\": 1737698}, {\"institution\": \"National Gallery\", \"sector\": \"dcms\", \"type\": \"gallery\", \"topic\": \"art\", \"precision\": \"estimate\", \"artefact_count\": 2626, \"record_count\": 2626}, {\"institution\": \"National Museums Liverpool\", \"sector\": \"dcms\", \"type\": \"museum\", \"topic\": \"history\", \"precision\": \"estimate\", \"artefact_count\": 4000000, \"record_count\": 73682}, {\"institution\": \"National Portrait Gallery\", \"sector\": \"dcms\", \"type\": \"gallery\", \"topic\": \"art\", \"precision\": \"estimate\", \"artefact_count\": 350000, \"record_count\": 220000}, {\"institution\": \"Royal Armouries\", \"sector\": \"dcms\", \"type\": \"museum\", \"topic\": \"history\", \"precision\": \"estimate\", \"artefact_count\": 70000, \"record_count\": 265376}, {\"institution\": \"Royal Museums Greenwich\", \"sector\": \"dcms\", \"type\": \"museum\", \"topic\": \"history\", \"precision\": \"estimate\", \"artefact_count\": 3000000, \"record_count\": 0}, {\"institution\": \"Sir John Soane's Museum\", \"sector\": \"dcms\", \"type\": \"museum\", \"topic\": \"history\", \"precision\": \"estimate\", \"artefact_count\": 52000, \"record_count\": 63557}, {\"institution\": \"Tate Gallery Group\", \"sector\": \"dcms\", \"type\": \"gallery\", \"topic\": \"art\", \"precision\": \"estimate\", \"artefact_count\": 70000, \"record_count\": 886296}, {\"institution\": \"The Wallace Collection\", \"sector\": \"dcms\", \"type\": \"museum\", \"topic\": \"art\", \"precision\": \"estimate\", \"artefact_count\": 5637, \"record_count\": 0}, {\"institution\": \"British Museum\", \"sector\": \"dcms\", \"type\": \"museum\", \"topic\": \"history\", \"precision\": \"estimate\", \"artefact_count\": 8000000, \"record_count\": 2000000}]}}, {\"mode\": \"vega-lite\"});\n",
       "</script>"
      ],
      "text/plain": [
       "alt.Chart(...)"
      ]
     },
     "execution_count": 13,
     "metadata": {},
     "output_type": "execute_result"
    }
   ],
   "source": [
    "import altair as alt\n",
    "\n",
    "title = alt.TitleParams('Catalogued Artefacts (overall percentage)', anchor='middle')\n",
    "alt.Chart(art_records, title=title).mark_bar().encode(\n",
    "    alt.X('percent_catalogued:Q').axis(format='.0%'),\n",
    "    tooltip=\"percent_catalogued:Q\",\n",
    "    y='institution:N'\n",
    ").transform_calculate(\n",
    "    percent_catalogued=\"datum.record_count / datum.artefact_count\"\n",
    ")"
   ]
  },
  {
   "cell_type": "code",
   "execution_count": 65,
   "id": "d03dd707-7354-4c53-adec-2f55db4d327d",
   "metadata": {
    "editable": true,
    "slideshow": {
     "slide_type": ""
    },
    "tags": [
     "hide-input"
    ]
   },
   "outputs": [],
   "source": [
    "import pandas as pd\n",
    "artefacts_type_df = pd.read_csv(\"artefacts-type-overview-stats.csv\")\n",
    "records_type_df = pd.read_csv(\"records-institution-stats-type-total.csv\")\n",
    "combined_art_record_type = pd.merge(artefacts_type_df, records_type_df, on=['institution', 'type'])\n"
   ]
  },
  {
   "cell_type": "markdown",
   "id": "c2d90c06-60a3-4821-897c-5444d5184019",
   "metadata": {
    "editable": true,
    "slideshow": {
     "slide_type": ""
    },
    "tags": []
   },
   "source": [
    "## Catalogued Artefacts by institution and cataloguing type"
   ]
  },
  {
   "cell_type": "code",
   "execution_count": 66,
   "id": "80f56627-6b31-4de3-b46c-ca704c2eb9c1",
   "metadata": {
    "editable": true,
    "slideshow": {
     "slide_type": ""
    },
    "tags": [
     "hide-input"
    ]
   },
   "outputs": [
    {
     "data": {
      "text/html": [
       "\n",
       "<style>\n",
       "  #altair-viz-c5a6fa7216334be8bb55b1699593f4c0.vega-embed {\n",
       "    width: 100%;\n",
       "    display: flex;\n",
       "  }\n",
       "\n",
       "  #altair-viz-c5a6fa7216334be8bb55b1699593f4c0.vega-embed details,\n",
       "  #altair-viz-c5a6fa7216334be8bb55b1699593f4c0.vega-embed details summary {\n",
       "    position: relative;\n",
       "  }\n",
       "</style>\n",
       "<div id=\"altair-viz-c5a6fa7216334be8bb55b1699593f4c0\"></div>\n",
       "<script type=\"text/javascript\">\n",
       "  var VEGA_DEBUG = (typeof VEGA_DEBUG == \"undefined\") ? {} : VEGA_DEBUG;\n",
       "  (function(spec, embedOpt){\n",
       "    let outputDiv = document.currentScript.previousElementSibling;\n",
       "    if (outputDiv.id !== \"altair-viz-c5a6fa7216334be8bb55b1699593f4c0\") {\n",
       "      outputDiv = document.getElementById(\"altair-viz-c5a6fa7216334be8bb55b1699593f4c0\");\n",
       "    }\n",
       "    const paths = {\n",
       "      \"vega\": \"https://cdn.jsdelivr.net/npm/vega@5?noext\",\n",
       "      \"vega-lib\": \"https://cdn.jsdelivr.net/npm/vega-lib?noext\",\n",
       "      \"vega-lite\": \"https://cdn.jsdelivr.net/npm/vega-lite@5.17.0?noext\",\n",
       "      \"vega-embed\": \"https://cdn.jsdelivr.net/npm/vega-embed@6?noext\",\n",
       "    };\n",
       "\n",
       "    function maybeLoadScript(lib, version) {\n",
       "      var key = `${lib.replace(\"-\", \"\")}_version`;\n",
       "      return (VEGA_DEBUG[key] == version) ?\n",
       "        Promise.resolve(paths[lib]) :\n",
       "        new Promise(function(resolve, reject) {\n",
       "          var s = document.createElement('script');\n",
       "          document.getElementsByTagName(\"head\")[0].appendChild(s);\n",
       "          s.async = true;\n",
       "          s.onload = () => {\n",
       "            VEGA_DEBUG[key] = version;\n",
       "            return resolve(paths[lib]);\n",
       "          };\n",
       "          s.onerror = () => reject(`Error loading script: ${paths[lib]}`);\n",
       "          s.src = paths[lib];\n",
       "        });\n",
       "    }\n",
       "\n",
       "    function showError(err) {\n",
       "      outputDiv.innerHTML = `<div class=\"error\" style=\"color:red;\">${err}</div>`;\n",
       "      throw err;\n",
       "    }\n",
       "\n",
       "    function displayChart(vegaEmbed) {\n",
       "      vegaEmbed(outputDiv, spec, embedOpt)\n",
       "        .catch(err => showError(`Javascript Error: ${err.message}<br>This usually means there's a typo in your chart specification. See the javascript console for the full traceback.`));\n",
       "    }\n",
       "\n",
       "    if(typeof define === \"function\" && define.amd) {\n",
       "      requirejs.config({paths});\n",
       "      require([\"vega-embed\"], displayChart, err => showError(`Error loading script: ${err.message}`));\n",
       "    } else {\n",
       "      maybeLoadScript(\"vega\", \"5\")\n",
       "        .then(() => maybeLoadScript(\"vega-lite\", \"5.17.0\"))\n",
       "        .then(() => maybeLoadScript(\"vega-embed\", \"6\"))\n",
       "        .catch(showError)\n",
       "        .then(() => displayChart(vegaEmbed));\n",
       "    }\n",
       "  })({\"config\": {\"view\": {\"continuousWidth\": 300, \"continuousHeight\": 300}}, \"data\": {\"name\": \"data-3bb1c638a445ad30fb03315fdb6babb5\"}, \"mark\": {\"type\": \"bar\"}, \"encoding\": {\"color\": {\"field\": \"topic\", \"legend\": {\"orient\": \"bottom\", \"titleOrient\": \"left\"}, \"title\": \"settings\", \"type\": \"nominal\"}, \"row\": {\"field\": \"institution\", \"header\": {\"labelAngle\": 0, \"labelAlign\": \"left\"}, \"title\": \"Institution\", \"type\": \"nominal\"}, \"tooltip\": {\"field\": \"percent_catalogued\", \"type\": \"quantitative\"}, \"x\": {\"axis\": {\"format\": \".0%\"}, \"field\": \"percent_catalogued\", \"title\": null, \"type\": \"quantitative\"}, \"y\": {\"field\": \"type\", \"title\": null, \"type\": \"nominal\"}}, \"height\": {\"step\": 8}, \"resolve\": {\"scale\": {\"x\": \"independent\"}}, \"title\": {\"text\": \"Catalogued Artefacts by institution and type) - Uncertainty: 500%\", \"anchor\": \"middle\"}, \"transform\": [{\"calculate\": \"datum.record_count / datum.artefact_count\", \"as\": \"percent_catalogued\"}], \"width\": 400, \"$schema\": \"https://vega.github.io/schema/vega-lite/v5.17.0.json\", \"datasets\": {\"data-3bb1c638a445ad30fb03315fdb6babb5\": [{\"institution\": \"Oxford University\", \"sector\": \"museum\", \"institution_type\": \"university\", \"topic\": \"mixed\", \"type\": \"object\", \"level\": \"item\", \"precision\": \"estimate\", \"artefact_count\": 0, \"record_count\": 1052444}, {\"institution\": \"Oxford University\", \"sector\": \"library\", \"institution_type\": \"university\", \"topic\": \"mixed\", \"type\": \"library\", \"level\": \"item\", \"precision\": \"estimate\", \"artefact_count\": 20000, \"record_count\": 8021011}, {\"institution\": \"Oxford University\", \"sector\": \"archive\", \"institution_type\": \"university\", \"topic\": \"mixed\", \"type\": \"archive\", \"level\": \"item\", \"precision\": \"estimate\", \"artefact_count\": 5000000, \"record_count\": 0}, {\"institution\": \"University of Cambridge\", \"sector\": \"museum\", \"institution_type\": \"university\", \"topic\": \"mixed\", \"type\": \"object\", \"level\": \"item\", \"precision\": \"estimate\", \"artefact_count\": 0, \"record_count\": 0}, {\"institution\": \"University of Cambridge\", \"sector\": \"library\", \"institution_type\": \"university\", \"topic\": \"mixed\", \"type\": \"library\", \"level\": \"item\", \"precision\": \"estimate\", \"artefact_count\": 10000000, \"record_count\": 0}, {\"institution\": \"University of Cambridge\", \"sector\": \"archive\", \"institution_type\": \"university\", \"topic\": \"mixed\", \"type\": \"archive\", \"level\": \"item\", \"precision\": \"estimate\", \"artefact_count\": 0, \"record_count\": 0}, {\"institution\": \"Durham University\", \"sector\": \"museum\", \"institution_type\": \"university\", \"topic\": \"mixed\", \"type\": \"object\", \"level\": \"item\", \"precision\": \"estimate\", \"artefact_count\": 36000, \"record_count\": 33234}, {\"institution\": \"Durham University\", \"sector\": \"library\", \"institution_type\": \"university\", \"topic\": \"mixed\", \"type\": \"library\", \"level\": \"item\", \"precision\": \"estimate\", \"artefact_count\": 70000, \"record_count\": 0}, {\"institution\": \"Durham University\", \"sector\": \"archive\", \"institution_type\": \"university\", \"topic\": \"mixed\", \"type\": \"archive\", \"level\": \"item\", \"precision\": \"estimate\", \"artefact_count\": 0, \"record_count\": 0}, {\"institution\": \"University College London\", \"sector\": \"museum\", \"institution_type\": \"university\", \"topic\": \"mixed\", \"type\": \"object\", \"level\": \"item\", \"precision\": \"estimate\", \"artefact_count\": 164000, \"record_count\": 104446}, {\"institution\": \"University College London\", \"sector\": \"library\", \"institution_type\": \"university\", \"topic\": \"mixed\", \"type\": \"library\", \"level\": \"item\", \"precision\": \"estimate\", \"artefact_count\": 0, \"record_count\": 0}, {\"institution\": \"University College London\", \"sector\": \"archive\", \"institution_type\": \"university\", \"topic\": \"mixed\", \"type\": \"archive\", \"level\": \"item\", \"precision\": \"estimate\", \"artefact_count\": 0, \"record_count\": 0}, {\"institution\": \"University of Manchester\", \"sector\": \"museum\", \"institution_type\": \"university\", \"topic\": \"mixed\", \"type\": \"object\", \"level\": \"item\", \"precision\": \"estimate\", \"artefact_count\": 60000, \"record_count\": 0}, {\"institution\": \"University of Manchester\", \"sector\": \"library\", \"institution_type\": \"university\", \"topic\": \"mixed\", \"type\": \"library\", \"level\": \"item\", \"precision\": \"estimate\", \"artefact_count\": 4000000, \"record_count\": 0}, {\"institution\": \"University of Manchester\", \"sector\": \"archive\", \"institution_type\": \"university\", \"topic\": \"mixed\", \"type\": \"archive\", \"level\": \"item\", \"precision\": \"estimate\", \"artefact_count\": 0, \"record_count\": 0}, {\"institution\": \"King's College London\", \"sector\": \"museum\", \"institution_type\": \"university\", \"topic\": \"mixed\", \"type\": \"object\", \"level\": \"item\", \"precision\": \"estimate\", \"artefact_count\": 0, \"record_count\": 0}, {\"institution\": \"King's College London\", \"sector\": \"library\", \"institution_type\": \"university\", \"topic\": \"mixed\", \"type\": \"library\", \"level\": \"item\", \"precision\": \"estimate\", \"artefact_count\": 200000, \"record_count\": 0}, {\"institution\": \"King's College London\", \"sector\": \"archive\", \"institution_type\": \"university\", \"topic\": \"mixed\", \"type\": \"archive\", \"level\": \"item\", \"precision\": \"estimate\", \"artefact_count\": 0, \"record_count\": 0}, {\"institution\": \"University of Birmingham\", \"sector\": \"museum\", \"institution_type\": \"university\", \"topic\": \"mixed\", \"type\": \"object\", \"level\": \"item\", \"precision\": \"estimate\", \"artefact_count\": 250000, \"record_count\": 0}, {\"institution\": \"University of Birmingham\", \"sector\": \"library\", \"institution_type\": \"university\", \"topic\": \"mixed\", \"type\": \"library\", \"level\": \"item\", \"precision\": \"estimate\", \"artefact_count\": 250000, \"record_count\": 0}, {\"institution\": \"University of Birmingham\", \"sector\": \"archive\", \"institution_type\": \"university\", \"topic\": \"mixed\", \"type\": \"archive\", \"level\": \"item\", \"precision\": \"estimate\", \"artefact_count\": 4000000, \"record_count\": 0}, {\"institution\": \"Unversity of Warwick\", \"sector\": \"museum\", \"institution_type\": \"university\", \"topic\": \"mixed\", \"type\": \"object\", \"level\": \"item\", \"precision\": \"estimate\", \"artefact_count\": 0, \"record_count\": 0}, {\"institution\": \"Unversity of Warwick\", \"sector\": \"library\", \"institution_type\": \"university\", \"topic\": \"mixed\", \"type\": \"library\", \"level\": \"item\", \"precision\": \"estimate\", \"artefact_count\": 16000, \"record_count\": 0}, {\"institution\": \"Unversity of Warwick\", \"sector\": \"archive\", \"institution_type\": \"university\", \"topic\": \"mixed\", \"type\": \"archive\", \"level\": \"item\", \"precision\": \"estimate\", \"artefact_count\": 0, \"record_count\": 367655}, {\"institution\": \"Manchester Metropolitan Unversity\", \"sector\": \"museum\", \"institution_type\": \"university\", \"topic\": \"mixed\", \"type\": \"object\", \"level\": \"item\", \"precision\": \"estimate\", \"artefact_count\": 0, \"record_count\": 0}, {\"institution\": \"Manchester Metropolitan Unversity\", \"sector\": \"library\", \"institution_type\": \"university\", \"topic\": \"mixed\", \"type\": \"library\", \"level\": \"item\", \"precision\": \"estimate\", \"artefact_count\": 0, \"record_count\": 28600}, {\"institution\": \"Manchester Metropolitan Unversity\", \"sector\": \"archive\", \"institution_type\": \"university\", \"topic\": \"mixed\", \"type\": \"archive\", \"level\": \"item\", \"precision\": \"estimate\", \"artefact_count\": 0, \"record_count\": 0}, {\"institution\": \"Swansea University\", \"sector\": \"museum\", \"institution_type\": \"university\", \"topic\": \"mixed\", \"type\": \"object\", \"level\": \"item\", \"precision\": \"estimate\", \"artefact_count\": 0, \"record_count\": 0}, {\"institution\": \"Swansea University\", \"sector\": \"library\", \"institution_type\": \"university\", \"topic\": \"mixed\", \"type\": \"library\", \"level\": \"item\", \"precision\": \"estimate\", \"artefact_count\": 1700, \"record_count\": 0}, {\"institution\": \"Swansea University\", \"sector\": \"archive\", \"institution_type\": \"university\", \"topic\": \"mixed\", \"type\": \"archive\", \"level\": \"item\", \"precision\": \"estimate\", \"artefact_count\": 0, \"record_count\": 0}, {\"institution\": \"University of Brighton\", \"sector\": \"museum\", \"institution_type\": \"university\", \"topic\": \"mixed\", \"type\": \"object\", \"level\": \"item\", \"precision\": \"estimate\", \"artefact_count\": 0, \"record_count\": 0}, {\"institution\": \"University of Brighton\", \"sector\": \"library\", \"institution_type\": \"university\", \"topic\": \"mixed\", \"type\": \"library\", \"level\": \"item\", \"precision\": \"estimate\", \"artefact_count\": 50000, \"record_count\": 0}, {\"institution\": \"University of Brighton\", \"sector\": \"archive\", \"institution_type\": \"university\", \"topic\": \"mixed\", \"type\": \"archive\", \"level\": \"item\", \"precision\": \"estimate\", \"artefact_count\": 0, \"record_count\": 0}, {\"institution\": \"SOAS, University of London\", \"sector\": \"museum\", \"institution_type\": \"university\", \"topic\": \"mixed\", \"type\": \"object\", \"level\": \"item\", \"precision\": \"estimate\", \"artefact_count\": 0, \"record_count\": 0}, {\"institution\": \"SOAS, University of London\", \"sector\": \"library\", \"institution_type\": \"university\", \"topic\": \"mixed\", \"type\": \"library\", \"level\": \"item\", \"precision\": \"estimate\", \"artefact_count\": 60000, \"record_count\": 40337}, {\"institution\": \"SOAS, University of London\", \"sector\": \"archive\", \"institution_type\": \"university\", \"topic\": \"mixed\", \"type\": \"archive\", \"level\": \"item\", \"precision\": \"estimate\", \"artefact_count\": 0, \"record_count\": 0}, {\"institution\": \"University of Aberdeen\", \"sector\": \"museum\", \"institution_type\": \"university\", \"topic\": \"mixed\", \"type\": \"object\", \"level\": \"item\", \"precision\": \"estimate\", \"artefact_count\": 0, \"record_count\": 0}, {\"institution\": \"University of Aberdeen\", \"sector\": \"library\", \"institution_type\": \"university\", \"topic\": \"mixed\", \"type\": \"library\", \"level\": \"item\", \"precision\": \"estimate\", \"artefact_count\": 530000, \"record_count\": 0}, {\"institution\": \"University of Aberdeen\", \"sector\": \"archive\", \"institution_type\": \"university\", \"topic\": \"mixed\", \"type\": \"archive\", \"level\": \"item\", \"precision\": \"estimate\", \"artefact_count\": 0, \"record_count\": 0}, {\"institution\": \"University of Bristol\", \"sector\": \"museum\", \"institution_type\": \"university\", \"topic\": \"mixed\", \"type\": \"object\", \"level\": \"item\", \"precision\": \"estimate\", \"artefact_count\": 100000, \"record_count\": 0}, {\"institution\": \"University of Bristol\", \"sector\": \"library\", \"institution_type\": \"university\", \"topic\": \"mixed\", \"type\": \"library\", \"level\": \"item\", \"precision\": \"estimate\", \"artefact_count\": 0, \"record_count\": 0}, {\"institution\": \"University of Bristol\", \"sector\": \"archive\", \"institution_type\": \"university\", \"topic\": \"mixed\", \"type\": \"archive\", \"level\": \"item\", \"precision\": \"estimate\", \"artefact_count\": 0, \"record_count\": 0}, {\"institution\": \"University of Leeds\", \"sector\": \"museum\", \"institution_type\": \"university\", \"topic\": \"mixed\", \"type\": \"object\", \"level\": \"item\", \"precision\": \"estimate\", \"artefact_count\": 0, \"record_count\": 0}, {\"institution\": \"University of Leeds\", \"sector\": \"library\", \"institution_type\": \"university\", \"topic\": \"mixed\", \"type\": \"library\", \"level\": \"item\", \"precision\": \"estimate\", \"artefact_count\": 350000, \"record_count\": 0}, {\"institution\": \"University of Leeds\", \"sector\": \"archive\", \"institution_type\": \"university\", \"topic\": \"mixed\", \"type\": \"archive\", \"level\": \"item\", \"precision\": \"estimate\", \"artefact_count\": 0, \"record_count\": 0}, {\"institution\": \"University of Leicester\", \"sector\": \"museum\", \"institution_type\": \"university\", \"topic\": \"mixed\", \"type\": \"object\", \"level\": \"item\", \"precision\": \"estimate\", \"artefact_count\": 25000, \"record_count\": 0}, {\"institution\": \"University of Leicester\", \"sector\": \"library\", \"institution_type\": \"university\", \"topic\": \"mixed\", \"type\": \"library\", \"level\": \"item\", \"precision\": \"estimate\", \"artefact_count\": 0, \"record_count\": 0}, {\"institution\": \"University of Leicester\", \"sector\": \"archive\", \"institution_type\": \"university\", \"topic\": \"mixed\", \"type\": \"archive\", \"level\": \"item\", \"precision\": \"estimate\", \"artefact_count\": 0, \"record_count\": 0}, {\"institution\": \"University of Reading\", \"sector\": \"library\", \"institution_type\": \"university\", \"topic\": \"mixed\", \"type\": \"library\", \"level\": \"item\", \"precision\": \"estimate\", \"artefact_count\": 0, \"record_count\": 69841}, {\"institution\": \"University of Reading\", \"sector\": \"archive\", \"institution_type\": \"university\", \"topic\": \"mixed\", \"type\": \"archive\", \"level\": \"item\", \"precision\": \"estimate\", \"artefact_count\": 0, \"record_count\": 186216}, {\"institution\": \"University of Sheffield\", \"sector\": \"museum\", \"institution_type\": \"university\", \"topic\": \"mixed\", \"type\": \"object\", \"level\": \"item\", \"precision\": \"estimate\", \"artefact_count\": 0, \"record_count\": 0}, {\"institution\": \"University of Sheffield\", \"sector\": \"library\", \"institution_type\": \"university\", \"topic\": \"mixed\", \"type\": \"library\", \"level\": \"item\", \"precision\": \"estimate\", \"artefact_count\": 30000, \"record_count\": 0}, {\"institution\": \"University of Sheffield\", \"sector\": \"archive\", \"institution_type\": \"university\", \"topic\": \"mixed\", \"type\": \"archive\", \"level\": \"item\", \"precision\": \"estimate\", \"artefact_count\": 0, \"record_count\": 0}, {\"institution\": \"University of St Andrews\", \"sector\": \"museum\", \"institution_type\": \"university\", \"topic\": \"mixed\", \"type\": \"object\", \"level\": \"item\", \"precision\": \"estimate\", \"artefact_count\": 0, \"record_count\": 0}, {\"institution\": \"University of St Andrews\", \"sector\": \"library\", \"institution_type\": \"university\", \"topic\": \"mixed\", \"type\": \"library\", \"level\": \"item\", \"precision\": \"estimate\", \"artefact_count\": 200000, \"record_count\": 0}, {\"institution\": \"University of St Andrews\", \"sector\": \"archive\", \"institution_type\": \"university\", \"topic\": \"mixed\", \"type\": \"archive\", \"level\": \"item\", \"precision\": \"estimate\", \"artefact_count\": 0, \"record_count\": 0}, {\"institution\": \"British Library\", \"sector\": \"museum\", \"institution_type\": \"library\", \"topic\": \"mixed\", \"type\": \"object\", \"level\": \"item\", \"precision\": \"estimate\", \"artefact_count\": 0, \"record_count\": 0}, {\"institution\": \"British Library\", \"sector\": \"library\", \"institution_type\": \"library\", \"topic\": \"mixed\", \"type\": \"library\", \"level\": \"item\", \"precision\": \"estimate\", \"artefact_count\": 33810000, \"record_count\": 0}, {\"institution\": \"British Library\", \"sector\": \"archive\", \"institution_type\": \"library\", \"topic\": \"mixed\", \"type\": \"archive\", \"level\": \"item\", \"precision\": \"estimate\", \"artefact_count\": 0, \"record_count\": 0}, {\"institution\": \"Chetham's Library\", \"sector\": \"museum\", \"institution_type\": \"library\", \"topic\": \"mixed\", \"type\": \"object\", \"level\": \"item\", \"precision\": \"estimate\", \"artefact_count\": 0, \"record_count\": 0}, {\"institution\": \"Chetham's Library\", \"sector\": \"library\", \"institution_type\": \"library\", \"topic\": \"mixed\", \"type\": \"library\", \"level\": \"item\", \"precision\": \"estimate\", \"artefact_count\": 121041, \"record_count\": 0}, {\"institution\": \"Chetham's Library\", \"sector\": \"archive\", \"institution_type\": \"library\", \"topic\": \"mixed\", \"type\": \"archive\", \"level\": \"item\", \"precision\": \"estimate\", \"artefact_count\": 0, \"record_count\": 0}, {\"institution\": \"Glasgow Woman's Library\", \"sector\": \"museum\", \"institution_type\": \"library\", \"topic\": \"mixed\", \"type\": \"object\", \"level\": \"item\", \"precision\": \"estimate\", \"artefact_count\": 0, \"record_count\": 3567}, {\"institution\": \"Glasgow Woman's Library\", \"sector\": \"library\", \"institution_type\": \"library\", \"topic\": \"mixed\", \"type\": \"library\", \"level\": \"item\", \"precision\": \"estimate\", \"artefact_count\": 0, \"record_count\": 0}, {\"institution\": \"Glasgow Woman's Library\", \"sector\": \"archive\", \"institution_type\": \"library\", \"topic\": \"mixed\", \"type\": \"archive\", \"level\": \"item\", \"precision\": \"estimate\", \"artefact_count\": 0, \"record_count\": 0}, {\"institution\": \"Lambeth Palace Library\", \"sector\": \"museum\", \"institution_type\": \"library\", \"topic\": \"theology\", \"type\": \"object\", \"level\": \"item\", \"precision\": \"estimate\", \"artefact_count\": 0, \"record_count\": 0}, {\"institution\": \"Lambeth Palace Library\", \"sector\": \"library\", \"institution_type\": \"library\", \"topic\": \"theology\", \"type\": \"library\", \"level\": \"item\", \"precision\": \"estimate\", \"artefact_count\": 186200, \"record_count\": 15000}, {\"institution\": \"Lambeth Palace Library\", \"sector\": \"archive\", \"institution_type\": \"library\", \"topic\": \"theology\", \"type\": \"archive\", \"level\": \"item\", \"precision\": \"estimate\", \"artefact_count\": 0, \"record_count\": 0}, {\"institution\": \"Victoria & Albert Museum\", \"sector\": \"museum\", \"institution_type\": \"museum\", \"topic\": \"art\", \"type\": \"object\", \"level\": \"item\", \"precision\": \"estimate\", \"artefact_count\": 1691513, \"record_count\": 1281326}, {\"institution\": \"Victoria & Albert Museum\", \"sector\": \"library\", \"institution_type\": \"museum\", \"topic\": \"art\", \"type\": \"library\", \"level\": \"item\", \"precision\": \"estimate\", \"artefact_count\": 1130157, \"record_count\": 849000}, {\"institution\": \"Victoria & Albert Museum\", \"sector\": \"archive\", \"institution_type\": \"museum\", \"topic\": \"art\", \"type\": \"archive\", \"level\": \"item\", \"precision\": \"estimate\", \"artefact_count\": 0, \"record_count\": 157054}, {\"institution\": \"Museum of the Home\", \"sector\": \"museum\", \"institution_type\": \"museum\", \"topic\": \"history\", \"type\": \"object\", \"level\": \"item\", \"precision\": \"estimate\", \"artefact_count\": 0, \"record_count\": 12200}, {\"institution\": \"Museum of the Home\", \"sector\": \"library\", \"institution_type\": \"museum\", \"topic\": \"history\", \"type\": \"library\", \"level\": \"item\", \"precision\": \"estimate\", \"artefact_count\": 0, \"record_count\": 6290}, {\"institution\": \"Horniman Museum\", \"sector\": \"museum\", \"institution_type\": \"museum\", \"topic\": \"history\", \"type\": \"object\", \"level\": \"item\", \"precision\": \"estimate\", \"artefact_count\": 0, \"record_count\": 132612}, {\"institution\": \"Imperial War Museums\", \"sector\": \"museum\", \"institution_type\": \"museum\", \"topic\": \"history\", \"type\": \"object\", \"level\": \"item\", \"precision\": \"estimate\", \"artefact_count\": 0, \"record_count\": 1737698}, {\"institution\": \"National Gallery\", \"sector\": \"museum\", \"institution_type\": \"gallery\", \"topic\": \"art\", \"type\": \"object\", \"level\": \"item\", \"precision\": \"exact\", \"artefact_count\": 2626, \"record_count\": 2626}, {\"institution\": \"National Museums Liverpool\", \"sector\": \"museum\", \"institution_type\": \"museum\", \"topic\": \"history\", \"type\": \"object\", \"level\": \"item\", \"precision\": \"estimate\", \"artefact_count\": 0, \"record_count\": 73682}, {\"institution\": \"National Portrait Gallery\", \"sector\": \"museum\", \"institution_type\": \"gallery\", \"topic\": \"art\", \"type\": \"object\", \"level\": \"item\", \"precision\": \"estimate\", \"artefact_count\": 0, \"record_count\": 220000}, {\"institution\": \"Natural History Museum\", \"sector\": \"museum\", \"institution_type\": \"museum\", \"topic\": \"nature\", \"type\": \"object\", \"level\": \"item\", \"precision\": \"estimate\", \"artefact_count\": 0, \"record_count\": 78000000}, {\"institution\": \"Royal Armouries\", \"sector\": \"museum\", \"institution_type\": \"museum\", \"topic\": \"history\", \"type\": \"object\", \"level\": \"item\", \"precision\": \"estimate\", \"artefact_count\": 0, \"record_count\": 65627}, {\"institution\": \"Royal Armouries\", \"sector\": \"library\", \"institution_type\": \"museum\", \"topic\": \"history\", \"type\": \"library\", \"level\": \"item\", \"precision\": \"estimate\", \"artefact_count\": 0, \"record_count\": 69619}, {\"institution\": \"Royal Armouries\", \"sector\": \"archive\", \"institution_type\": \"museum\", \"topic\": \"history\", \"type\": \"archive\", \"level\": \"item\", \"precision\": \"estimate\", \"artefact_count\": 0, \"record_count\": 130130}, {\"institution\": \"Sir John Soane's Museum\", \"sector\": \"museum\", \"institution_type\": \"museum\", \"topic\": \"history\", \"type\": \"object\", \"level\": \"item\", \"precision\": \"estimate\", \"artefact_count\": 0, \"record_count\": 57164}, {\"institution\": \"Sir John Soane's Museum\", \"sector\": \"library\", \"institution_type\": \"museum\", \"topic\": \"history\", \"type\": \"library\", \"level\": \"item\", \"precision\": \"estimate\", \"artefact_count\": 0, \"record_count\": 6393}, {\"institution\": \"Sir John Soane's Museum\", \"sector\": \"archive\", \"institution_type\": \"museum\", \"topic\": \"history\", \"type\": \"archive\", \"level\": \"item\", \"precision\": \"estimate\", \"artefact_count\": 0, \"record_count\": 0}, {\"institution\": \"Tate Gallery Group\", \"sector\": \"museum\", \"institution_type\": \"gallery\", \"topic\": \"art\", \"type\": \"object\", \"level\": \"item\", \"precision\": \"estimate\", \"artefact_count\": 0, \"record_count\": 79236}, {\"institution\": \"Tate Gallery Group\", \"sector\": \"archive\", \"institution_type\": \"gallery\", \"topic\": \"art\", \"type\": \"archive\", \"level\": \"item\", \"precision\": \"estimate\", \"artefact_count\": 0, \"record_count\": 807060}, {\"institution\": \"British Museum\", \"sector\": \"museum\", \"institution_type\": \"museum\", \"topic\": \"history\", \"type\": \"object\", \"level\": \"item\", \"precision\": \"estimate\", \"artefact_count\": 8000000, \"record_count\": 2000000}]}}, {\"mode\": \"vega-lite\"});\n",
       "</script>"
      ],
      "text/plain": [
       "alt.Chart(...)"
      ]
     },
     "execution_count": 66,
     "metadata": {},
     "output_type": "execute_result"
    }
   ],
   "source": [
    "title = alt.TitleParams('Catalogued Artefacts by institution and type)', anchor='middle')\n",
    "alt.Chart(combined_art_record_type, width=400, title=title, height=alt.Step(8)).mark_bar().encode(\n",
    "    alt.Y(\"type:N\").title(None),\n",
    "    alt.Tooltip('percent_catalogued:Q'),\n",
    "    alt.X(\"percent_catalogued:Q\").title(None).axis(format='.0%'),\n",
    "    alt.Color(\"topic:N\").title(\"settings\").legend(orient=\"bottom\", titleOrient=\"left\"),\n",
    "    alt.Row(\"institution:N\").title(\"Institution\").header(labelAngle=0, labelAlign='left'),\n",
    ").resolve_scale(x='independent').transform_calculate(\n",
    "    percent_catalogued=\"datum.record_count / datum.artefact_count\"\n",
    ")"
   ]
  },
  {
   "cell_type": "markdown",
   "id": "d1c1d571-59c3-4ab3-944f-8ef9a508e23e",
   "metadata": {
    "editable": true,
    "slideshow": {
     "slide_type": ""
    },
    "tags": []
   },
   "source": [
    "## Published Collection Records"
   ]
  },
  {
   "cell_type": "code",
   "execution_count": 67,
   "id": "a5e6ae88-c544-40df-b431-f094e0d79202",
   "metadata": {
    "editable": true,
    "slideshow": {
     "slide_type": ""
    },
    "tags": [
     "remove-cell"
    ]
   },
   "outputs": [],
   "source": [
    "records_data = pd.read_csv(\"records-institution-stats-type.csv\")"
   ]
  },
  {
   "cell_type": "code",
   "execution_count": 14,
   "id": "82789f57-0593-4994-8603-e4c23b5e7d88",
   "metadata": {
    "editable": true,
    "slideshow": {
     "slide_type": ""
    },
    "tags": [
     "remove-input"
    ]
   },
   "outputs": [
    {
     "data": {
      "text/html": [
       "\n",
       "<style>\n",
       "  #altair-viz-8d5c758a5de64b01a289802a0e10c513.vega-embed {\n",
       "    width: 100%;\n",
       "    display: flex;\n",
       "  }\n",
       "\n",
       "  #altair-viz-8d5c758a5de64b01a289802a0e10c513.vega-embed details,\n",
       "  #altair-viz-8d5c758a5de64b01a289802a0e10c513.vega-embed details summary {\n",
       "    position: relative;\n",
       "  }\n",
       "</style>\n",
       "<div id=\"altair-viz-8d5c758a5de64b01a289802a0e10c513\"></div>\n",
       "<script type=\"text/javascript\">\n",
       "  var VEGA_DEBUG = (typeof VEGA_DEBUG == \"undefined\") ? {} : VEGA_DEBUG;\n",
       "  (function(spec, embedOpt){\n",
       "    let outputDiv = document.currentScript.previousElementSibling;\n",
       "    if (outputDiv.id !== \"altair-viz-8d5c758a5de64b01a289802a0e10c513\") {\n",
       "      outputDiv = document.getElementById(\"altair-viz-8d5c758a5de64b01a289802a0e10c513\");\n",
       "    }\n",
       "    const paths = {\n",
       "      \"vega\": \"https://cdn.jsdelivr.net/npm/vega@5?noext\",\n",
       "      \"vega-lib\": \"https://cdn.jsdelivr.net/npm/vega-lib?noext\",\n",
       "      \"vega-lite\": \"https://cdn.jsdelivr.net/npm/vega-lite@5.17.0?noext\",\n",
       "      \"vega-embed\": \"https://cdn.jsdelivr.net/npm/vega-embed@6?noext\",\n",
       "    };\n",
       "\n",
       "    function maybeLoadScript(lib, version) {\n",
       "      var key = `${lib.replace(\"-\", \"\")}_version`;\n",
       "      return (VEGA_DEBUG[key] == version) ?\n",
       "        Promise.resolve(paths[lib]) :\n",
       "        new Promise(function(resolve, reject) {\n",
       "          var s = document.createElement('script');\n",
       "          document.getElementsByTagName(\"head\")[0].appendChild(s);\n",
       "          s.async = true;\n",
       "          s.onload = () => {\n",
       "            VEGA_DEBUG[key] = version;\n",
       "            return resolve(paths[lib]);\n",
       "          };\n",
       "          s.onerror = () => reject(`Error loading script: ${paths[lib]}`);\n",
       "          s.src = paths[lib];\n",
       "        });\n",
       "    }\n",
       "\n",
       "    function showError(err) {\n",
       "      outputDiv.innerHTML = `<div class=\"error\" style=\"color:red;\">${err}</div>`;\n",
       "      throw err;\n",
       "    }\n",
       "\n",
       "    function displayChart(vegaEmbed) {\n",
       "      vegaEmbed(outputDiv, spec, embedOpt)\n",
       "        .catch(err => showError(`Javascript Error: ${err.message}<br>This usually means there's a typo in your chart specification. See the javascript console for the full traceback.`));\n",
       "    }\n",
       "\n",
       "    if(typeof define === \"function\" && define.amd) {\n",
       "      requirejs.config({paths});\n",
       "      require([\"vega-embed\"], displayChart, err => showError(`Error loading script: ${err.message}`));\n",
       "    } else {\n",
       "      maybeLoadScript(\"vega\", \"5\")\n",
       "        .then(() => maybeLoadScript(\"vega-lite\", \"5.17.0\"))\n",
       "        .then(() => maybeLoadScript(\"vega-embed\", \"6\"))\n",
       "        .catch(showError)\n",
       "        .then(() => displayChart(vegaEmbed));\n",
       "    }\n",
       "  })({\"config\": {\"view\": {\"continuousWidth\": 300, \"continuousHeight\": 300}, \"numberFormat\": \".2s\"}, \"data\": {\"name\": \"data-3b4c29cf2bdf5a203c7dcca0de78ad1a\"}, \"mark\": {\"type\": \"bar\"}, \"encoding\": {\"color\": {\"field\": \"type\", \"legend\": {\"orient\": \"top\", \"titleOrient\": \"left\"}, \"sort\": \"descending\", \"type\": \"nominal\"}, \"column\": {\"field\": \"precision\", \"type\": \"ordinal\"}, \"tooltip\": {\"field\": \"record_count\", \"type\": \"quantitative\"}, \"x\": {\"field\": \"record_count\", \"type\": \"quantitative\"}, \"y\": {\"field\": \"institution\", \"type\": \"nominal\"}}, \"resolve\": {\"scale\": {\"x\": \"independent\"}}, \"title\": {\"text\": \"Overall Published Collection Records\", \"anchor\": \"middle\"}, \"width\": 400, \"$schema\": \"https://vega.github.io/schema/vega-lite/v5.17.0.json\", \"datasets\": {\"data-3b4c29cf2bdf5a203c7dcca0de78ad1a\": [{\"institution\": \"Oxford University\", \"record_count\": 9073455}, {\"institution\": \"Bangor University\", \"record_count\": 0}, {\"institution\": \"University of York\", \"record_count\": 0}, {\"institution\": \"University of Cambridge\", \"record_count\": 14127}, {\"institution\": \"Cardiff University\", \"record_count\": 0}, {\"institution\": \"Durham University\", \"record_count\": 33234}, {\"institution\": \"University College London\", \"record_count\": 104446}, {\"institution\": \"University of Manchester\", \"record_count\": 0}, {\"institution\": \"King's College London\", \"record_count\": 0}, {\"institution\": \"University of Birmingham\", \"record_count\": 0}, {\"institution\": \"London School of Economics\", \"record_count\": 0}, {\"institution\": \"Unversity of Warwick\", \"record_count\": 367655}, {\"institution\": \"Middlesex University\", \"record_count\": 0}, {\"institution\": \"Manchester Metropolitan Unversity\", \"record_count\": 28600}, {\"institution\": \"Queen Mary University of London\", \"record_count\": 0}, {\"institution\": \"Queen's University Belfast\", \"record_count\": 0}, {\"institution\": \"Swansea University\", \"record_count\": 0}, {\"institution\": \"Royal Holloway, Unversity of London\", \"record_count\": 0}, {\"institution\": \"University of Brighton\", \"record_count\": 0}, {\"institution\": \"SOAS, University of London\", \"record_count\": 40337}, {\"institution\": \"University of Aberdeen\", \"record_count\": 0}, {\"institution\": \"University of Bristol\", \"record_count\": 0}, {\"institution\": \"University of Edinburgh\", \"record_count\": 0}, {\"institution\": \"University of Exeter\", \"record_count\": 0}, {\"institution\": \"University of Glasgow\", \"record_count\": 0}, {\"institution\": \"University of Leeds\", \"record_count\": 0}, {\"institution\": \"University of Leicester\", \"record_count\": 0}, {\"institution\": \"University of Nottingham\", \"record_count\": 0}, {\"institution\": \"University of Reading\", \"record_count\": 256057}, {\"institution\": \"University of Sheffield\", \"record_count\": 0}, {\"institution\": \"University of Southampton\", \"record_count\": 0}, {\"institution\": \"University of St Andrews\", \"record_count\": 0}, {\"institution\": \"Glasgow School of Art\", \"record_count\": 0}, {\"institution\": \"LSE Library\", \"record_count\": 0}, {\"institution\": \"Royal College of Music London\", \"record_count\": 0}, {\"institution\": \"Royal College of Surgeons\", \"record_count\": 0}, {\"institution\": \"British Library\", \"record_count\": 0}, {\"institution\": \"Chetham's Library\", \"record_count\": 0}, {\"institution\": \"Glasgow Woman's Library\", \"record_count\": 3567}, {\"institution\": \"Lambeth Palace Library\", \"record_count\": 15000}, {\"institution\": \"National Library of Wales\", \"record_count\": 0}, {\"institution\": \"National Library of Scotland\", \"record_count\": 0}, {\"institution\": \"Amgueddfa Cymru (National Museum Wales)\", \"record_count\": 0}, {\"institution\": \"Historic Royal Palaces\", \"record_count\": 0}, {\"institution\": \"National Football Museum\", \"record_count\": 0}, {\"institution\": \"National Holocaust Centre and Museum\", \"record_count\": 0}, {\"institution\": \"National Justice Museum\", \"record_count\": 0}, {\"institution\": \"National Mining Museum Scotland\", \"record_count\": 0}, {\"institution\": \"National Museum of the Royal Navy\", \"record_count\": 208518}, {\"institution\": \"National Museums NI\", \"record_count\": 0}, {\"institution\": \"National Museums Scotland\", \"record_count\": 820000}, {\"institution\": \"National Tramway Museum\", \"record_count\": 0}, {\"institution\": \"National Trust\", \"record_count\": 0}, {\"institution\": \"National Trust for Scotland\", \"record_count\": 0}, {\"institution\": \"National Waterways Museum\", \"record_count\": 57769}, {\"institution\": \"Government Art Collection\", \"record_count\": 15247}, {\"institution\": \"Historic England Archive\", \"record_count\": 1000000}, {\"institution\": \"Historic Environment\", \"record_count\": 1000000}, {\"institution\": \"Historic Environment NI\", \"record_count\": 0}, {\"institution\": \"Historic Environment Scotland\", \"record_count\": 0}, {\"institution\": \"People's History Museum\", \"record_count\": 5680}, {\"institution\": \"Portable Antiquities Scheme\", \"record_count\": 1133397}, {\"institution\": \"Royal Air Force Museum\", \"record_count\": 1458}, {\"institution\": \"Royal Botanic Gardens Kew\", \"record_count\": 5700000}, {\"institution\": \"Royal Collection\", \"record_count\": 289595}, {\"institution\": \"Royal Horticultural Society\", \"record_count\": 0}, {\"institution\": \"National Archives\", \"record_count\": 0}, {\"institution\": \"Glasgow City Archives\", \"record_count\": 0}, {\"institution\": \"Gwynedd Archive Services\", \"record_count\": 12000}, {\"institution\": \"Hampshire Archives and Local Studies\", \"record_count\": 1000000}, {\"institution\": \"Kresen Kernow\", \"record_count\": 614909}, {\"institution\": \"The London Archives\", \"record_count\": 0}, {\"institution\": \"Norfolk Record Office\", \"record_count\": 0}, {\"institution\": \"North East Wales Archives\", \"record_count\": 338969}, {\"institution\": \"Public Record Office Northern Ireland\", \"record_count\": 1000000}, {\"institution\": \"Royal Commision on Ancient and Historic Monuments of Wales\", \"record_count\": 0}, {\"institution\": \"Staffordshire Archive and Heritage\", \"record_count\": 700029}, {\"institution\": \"Tyne & Wear Archives Catalogue\", \"record_count\": 4602160}, {\"institution\": \"West Glamorgan Archive Service\", \"record_count\": 230000}, {\"institution\": \"Yorkshire Film Archive\", \"record_count\": 8483}, {\"institution\": \"Courtauld Gallery\", \"record_count\": 33501}, {\"institution\": \"Dulwich Picture Gallery\", \"record_count\": 33501}, {\"institution\": \"Manchester Art Gallery\", \"record_count\": 0}, {\"institution\": \"National Galleries Scotland\", \"record_count\": 0}, {\"institution\": \"William Morris Gallery\", \"record_count\": 0}, {\"institution\": \"Royal Academy of Arts\", \"record_count\": 43189}, {\"institution\": \"Bowes Museum\", \"record_count\": 0}, {\"institution\": \"Britten Pears\", \"record_count\": 0}, {\"institution\": \"Chatham Historic Dockyard\", \"record_count\": 5154}, {\"institution\": \"Colchester and Ipswich Museums\", \"record_count\": 220000}, {\"institution\": \"Compton Verney\", \"record_count\": 0}, {\"institution\": \"English Heritage Trust\", \"record_count\": 0}, {\"institution\": \"Gordon Highlanders Museum\", \"record_count\": 0}, {\"institution\": \"Harewood House\", \"record_count\": 0}, {\"institution\": \"Ironbridge Gorge Museum Trust\", \"record_count\": 0}, {\"institution\": \"Jewish Museum London\", \"record_count\": 0}, {\"institution\": \"London Transport Museum\", \"record_count\": 271610}, {\"institution\": \"Manchester Jewish Museum\", \"record_count\": 0}, {\"institution\": \"Mary Rose Trust\", \"record_count\": 0}, {\"institution\": \"Media Archive for Central England (MACE)\", \"record_count\": 0}, {\"institution\": \"Museum of Cornish Life\", \"record_count\": 0}, {\"institution\": \"Food Museum\", \"record_count\": 32040}, {\"institution\": \"Museum of Freemasonry\", \"record_count\": 0}, {\"institution\": \"Museum of Lead Mining\", \"record_count\": 0}, {\"institution\": \"Museum of Scottish Railways\", \"record_count\": 0}, {\"institution\": \"Paxton Trust\", \"record_count\": 0}, {\"institution\": \"Pier Arts Centre\", \"record_count\": 0}, {\"institution\": \"Postal Museum\", \"record_count\": 0}, {\"institution\": \"R&A World Golf Museum\", \"record_count\": 0}, {\"institution\": \"Royal Academy of Music\", \"record_count\": 0}, {\"institution\": \"Royal Artillery Museum\", \"record_count\": 0}, {\"institution\": \"Royal Engineers Museum\", \"record_count\": 0}, {\"institution\": \"Royal Scottish Academy of Art & Architecture\", \"record_count\": 0}, {\"institution\": \"Scottish Fisheries Museum\", \"record_count\": 0}, {\"institution\": \"Tank Museum\", \"record_count\": 0}, {\"institution\": \"Thackray Museum of Medicine\", \"record_count\": 0}, {\"institution\": \"Tuillie House Museum and Art Gallery\", \"record_count\": 0}, {\"institution\": \"Vindolanda Trust\", \"record_count\": 0}, {\"institution\": \"Watts Gallery\", \"record_count\": 12541}, {\"institution\": \"Wellcome Collection\", \"record_count\": 0}, {\"institution\": \"Wordsworth Museum Collection\", \"record_count\": 0}, {\"institution\": \"Aberdeen Archives, Gallery and Museums\", \"record_count\": 247327}, {\"institution\": \"Aberdeenshire Council Museums\", \"record_count\": 0}, {\"institution\": \"Barnsley Museums\", \"record_count\": 0}, {\"institution\": \"Auchindrain Historic Township\", \"record_count\": 0}, {\"institution\": \"Beamish Museum\", \"record_count\": 0}, {\"institution\": \"Birmingham Museums Trust\", \"record_count\": 0}, {\"institution\": \"Black Country Living Museum\", \"record_count\": 4903}, {\"institution\": \"The Box Plymouth\", \"record_count\": 21691}, {\"institution\": \"Bradford District Museums & Galleries\", \"record_count\": 21878}, {\"institution\": \"Bristol Museums\", \"record_count\": 0}, {\"institution\": \"Culture Coventry\", \"record_count\": 446050}, {\"institution\": \"Culture Perth and Kinross\", \"record_count\": 0}, {\"institution\": \"Culture Trust Luton\", \"record_count\": 0}, {\"institution\": \"Derby Museums\", \"record_count\": 0}, {\"institution\": \"Dumfries and Galloway Council Arts and Museums Service\", \"record_count\": 0}, {\"institution\": \"Dundee Heritage Trust\", \"record_count\": 8592}, {\"institution\": \"East Ayrshire Leisure Trust\", \"record_count\": 0}, {\"institution\": \"Elgin Museum\", \"record_count\": 0}, {\"institution\": \"Glasgow Museums\", \"record_count\": 0}, {\"institution\": \"Groam House Museum\", \"record_count\": 0}, {\"institution\": \"Heritage Doncaster\", \"record_count\": 0}, {\"institution\": \"Highland Folk Museum\", \"record_count\": 0}, {\"institution\": \"Hull Museums Collections\", \"record_count\": 0}, {\"institution\": \"Leeds Museums & Galleries\", \"record_count\": 0}, {\"institution\": \"Leicester Museums\", \"record_count\": 0}, {\"institution\": \"Leicestershire County Council Museum Servive\", \"record_count\": 0}, {\"institution\": \"Liverpool Record Office\", \"record_count\": 0}, {\"institution\": \"Edinburgh Museums\", \"record_count\": 0}, {\"institution\": \"Museums Northhumberland\", \"record_count\": 0}, {\"institution\": \"Norfolk Museums Collections\", \"record_count\": 0}, {\"institution\": \"Northhampton Museums\", \"record_count\": 0}, {\"institution\": \"Northern Ireland Screen\", \"record_count\": 0}, {\"institution\": \"Orkney Museums\", \"record_count\": 0}, {\"institution\": \"Poole Museums\", \"record_count\": 1489}, {\"institution\": \"Potteries Museum and Art Gallery\", \"record_count\": 1489}, {\"institution\": \"Preston Park Museum & Grounds\", \"record_count\": 0}, {\"institution\": \"Ripon Museums\", \"record_count\": 20}, {\"institution\": \"Royal Albert Memorial Museum\", \"record_count\": 16000}, {\"institution\": \"Salisbury Museum\", \"record_count\": 0}, {\"institution\": \"Sheffield Museums\", \"record_count\": 1000}, {\"institution\": \"Southampton Cultural Services\", \"record_count\": 0}, {\"institution\": \"St Helens Borough Council\", \"record_count\": 93344}, {\"institution\": \"Sunderland Museum & Winter Gardens' Collection\", \"record_count\": 0}, {\"institution\": \"Tyne & Wear Museums\", \"record_count\": 490107}, {\"institution\": \"Wakefield Museums and Castles Collections\", \"record_count\": 0}, {\"institution\": \"Weald and Downland Living Museum\", \"record_count\": 0}, {\"institution\": \"Wiltshire Museum\", \"record_count\": 126410}, {\"institution\": \"York Museums Trust\", \"record_count\": 154354}, {\"institution\": \"Victoria & Albert Museum\", \"record_count\": 2289233}, {\"institution\": \"Science Museum Group\", \"record_count\": 0}, {\"institution\": \"Museum of the Home\", \"record_count\": 18490}, {\"institution\": \"Horniman Museum\", \"record_count\": 132612}, {\"institution\": \"Imperial War Museums\", \"record_count\": 1737698}, {\"institution\": \"National Gallery\", \"record_count\": 2626}, {\"institution\": \"National Museums Liverpool\", \"record_count\": 73682}, {\"institution\": \"National Portrait Gallery\", \"record_count\": 220000}, {\"institution\": \"Natural History Museum\", \"record_count\": 78000000}, {\"institution\": \"Royal Armouries\", \"record_count\": 265376}, {\"institution\": \"Royal Museums Greenwich\", \"record_count\": 0}, {\"institution\": \"Sir John Soane's Museum\", \"record_count\": 63557}, {\"institution\": \"Tate Gallery Group\", \"record_count\": 886296}, {\"institution\": \"The Wallace Collection\", \"record_count\": 0}, {\"institution\": \"British Museum\", \"record_count\": 2000000}]}}, {\"mode\": \"vega-lite\"});\n",
       "</script>"
      ],
      "text/plain": [
       "alt.Chart(...)"
      ]
     },
     "execution_count": 14,
     "metadata": {},
     "output_type": "execute_result"
    }
   ],
   "source": [
    "\n",
    "title = alt.TitleParams('Overall Published Collection Records', anchor='middle')\n",
    "alt.Chart(records_data, width=100, title=title).mark_bar().encode(\n",
    "    column='precision:O',\n",
    "    x='record_count:Q',\n",
    "    y='institution:N',\n",
    "    tooltip='record_count:Q',\n",
    "    color=alt.Color('type:N', sort='descending').legend(orient=\"top\", titleOrient=\"left\")\n",
    ").properties(width=400).resolve_scale(x='independent').configure(numberFormat='.2s')"
   ]
  },
  {
   "cell_type": "code",
   "execution_count": 69,
   "id": "d0a8e819-f779-4c60-bc98-741c4088fa1f",
   "metadata": {
    "editable": true,
    "slideshow": {
     "slide_type": ""
    },
    "tags": [
     "remove-cell"
    ]
   },
   "outputs": [],
   "source": [
    "# Show progress bar for artefacts vs records\n",
    "\n",
    "progress_df = pd.merge(artefacts_data,records_data[['institution','type', 'record_count']],on=['institution', 'type'], how='left')"
   ]
  },
  {
   "cell_type": "markdown",
   "id": "5f6505c0-8226-444b-afbb-f3c43d257124",
   "metadata": {
    "editable": true,
    "slideshow": {
     "slide_type": ""
    },
    "tags": []
   },
   "source": [
    "## Cataloguing Progress"
   ]
  },
  {
   "cell_type": "code",
   "execution_count": 72,
   "id": "f9e0a3d5-fdda-4aa5-8533-7376ee146d95",
   "metadata": {
    "editable": true,
    "slideshow": {
     "slide_type": ""
    },
    "tags": [
     "remove-input"
    ]
   },
   "outputs": [
    {
     "data": {
      "text/html": [
       "\n",
       "<style>\n",
       "  #altair-viz-05651efb3660430e9918572d81e391d2.vega-embed {\n",
       "    width: 100%;\n",
       "    display: flex;\n",
       "  }\n",
       "\n",
       "  #altair-viz-05651efb3660430e9918572d81e391d2.vega-embed details,\n",
       "  #altair-viz-05651efb3660430e9918572d81e391d2.vega-embed details summary {\n",
       "    position: relative;\n",
       "  }\n",
       "</style>\n",
       "<div id=\"altair-viz-05651efb3660430e9918572d81e391d2\"></div>\n",
       "<script type=\"text/javascript\">\n",
       "  var VEGA_DEBUG = (typeof VEGA_DEBUG == \"undefined\") ? {} : VEGA_DEBUG;\n",
       "  (function(spec, embedOpt){\n",
       "    let outputDiv = document.currentScript.previousElementSibling;\n",
       "    if (outputDiv.id !== \"altair-viz-05651efb3660430e9918572d81e391d2\") {\n",
       "      outputDiv = document.getElementById(\"altair-viz-05651efb3660430e9918572d81e391d2\");\n",
       "    }\n",
       "    const paths = {\n",
       "      \"vega\": \"https://cdn.jsdelivr.net/npm/vega@5?noext\",\n",
       "      \"vega-lib\": \"https://cdn.jsdelivr.net/npm/vega-lib?noext\",\n",
       "      \"vega-lite\": \"https://cdn.jsdelivr.net/npm/vega-lite@5.17.0?noext\",\n",
       "      \"vega-embed\": \"https://cdn.jsdelivr.net/npm/vega-embed@6?noext\",\n",
       "    };\n",
       "\n",
       "    function maybeLoadScript(lib, version) {\n",
       "      var key = `${lib.replace(\"-\", \"\")}_version`;\n",
       "      return (VEGA_DEBUG[key] == version) ?\n",
       "        Promise.resolve(paths[lib]) :\n",
       "        new Promise(function(resolve, reject) {\n",
       "          var s = document.createElement('script');\n",
       "          document.getElementsByTagName(\"head\")[0].appendChild(s);\n",
       "          s.async = true;\n",
       "          s.onload = () => {\n",
       "            VEGA_DEBUG[key] = version;\n",
       "            return resolve(paths[lib]);\n",
       "          };\n",
       "          s.onerror = () => reject(`Error loading script: ${paths[lib]}`);\n",
       "          s.src = paths[lib];\n",
       "        });\n",
       "    }\n",
       "\n",
       "    function showError(err) {\n",
       "      outputDiv.innerHTML = `<div class=\"error\" style=\"color:red;\">${err}</div>`;\n",
       "      throw err;\n",
       "    }\n",
       "\n",
       "    function displayChart(vegaEmbed) {\n",
       "      vegaEmbed(outputDiv, spec, embedOpt)\n",
       "        .catch(err => showError(`Javascript Error: ${err.message}<br>This usually means there's a typo in your chart specification. See the javascript console for the full traceback.`));\n",
       "    }\n",
       "\n",
       "    if(typeof define === \"function\" && define.amd) {\n",
       "      requirejs.config({paths});\n",
       "      require([\"vega-embed\"], displayChart, err => showError(`Error loading script: ${err.message}`));\n",
       "    } else {\n",
       "      maybeLoadScript(\"vega\", \"5\")\n",
       "        .then(() => maybeLoadScript(\"vega-lite\", \"5.17.0\"))\n",
       "        .then(() => maybeLoadScript(\"vega-embed\", \"6\"))\n",
       "        .catch(showError)\n",
       "        .then(() => displayChart(vegaEmbed));\n",
       "    }\n",
       "  })({\"config\": {\"view\": {\"continuousWidth\": 300, \"continuousHeight\": 300}, \"numberFormat\": \".2%\"}, \"data\": {\"name\": \"data-7bfa20bda12886232d9d57c246a03def\"}, \"mark\": {\"type\": \"bar\"}, \"encoding\": {\"tooltip\": {\"field\": \"progress\", \"type\": \"quantitative\"}, \"x\": {\"field\": \"progress\", \"type\": \"quantitative\"}, \"y\": {\"field\": \"institution\", \"type\": \"nominal\"}}, \"resolve\": {\"scale\": {\"x\": \"independent\"}}, \"title\": {\"text\": \"Cataloguing Progress\", \"anchor\": \"middle\"}, \"transform\": [{\"calculate\": \"datum.record_count / datum.artefact_count\", \"as\": \"progress\"}], \"width\": 400, \"$schema\": \"https://vega.github.io/schema/vega-lite/v5.17.0.json\", \"datasets\": {\"data-7bfa20bda12886232d9d57c246a03def\": [{\"institution\": \"Oxford University\", \"sector\": \"university\", \"type\": \"university\", \"topic\": \"mixed\", \"precision\": \"estimate\", \"artefact_count\": 22530000, \"record_count\": null}, {\"institution\": \"University of Cambridge\", \"sector\": \"university\", \"type\": \"university\", \"topic\": \"mixed\", \"precision\": \"estimate\", \"artefact_count\": 10000000, \"record_count\": null}, {\"institution\": \"Durham University\", \"sector\": \"university\", \"type\": \"university\", \"topic\": \"mixed\", \"precision\": \"estimate\", \"artefact_count\": 106000, \"record_count\": null}, {\"institution\": \"University College London\", \"sector\": \"university\", \"type\": \"university\", \"topic\": \"mixed\", \"precision\": \"estimate\", \"artefact_count\": 164000, \"record_count\": null}, {\"institution\": \"University of Manchester\", \"sector\": \"university\", \"type\": \"university\", \"topic\": \"mixed\", \"precision\": \"estimate\", \"artefact_count\": 4060000, \"record_count\": null}, {\"institution\": \"King's College London\", \"sector\": \"university\", \"type\": \"university\", \"topic\": \"mixed\", \"precision\": \"estimate\", \"artefact_count\": 200000, \"record_count\": null}, {\"institution\": \"University of Birmingham\", \"sector\": \"university\", \"type\": \"university\", \"topic\": \"mixed\", \"precision\": \"estimate\", \"artefact_count\": 4500000, \"record_count\": null}, {\"institution\": \"Unversity of Warwick\", \"sector\": \"university\", \"type\": \"university\", \"topic\": \"mixed\", \"precision\": \"estimate\", \"artefact_count\": 16000, \"record_count\": null}, {\"institution\": \"Manchester Metropolitan Unversity\", \"sector\": \"university\", \"type\": \"university\", \"topic\": \"mixed\", \"precision\": \"estimate\", \"artefact_count\": 0, \"record_count\": null}, {\"institution\": \"Swansea University\", \"sector\": \"university\", \"type\": \"university\", \"topic\": \"mixed\", \"precision\": \"estimate\", \"artefact_count\": 1700, \"record_count\": null}, {\"institution\": \"University of Brighton\", \"sector\": \"university\", \"type\": \"university\", \"topic\": \"mixed\", \"precision\": \"estimate\", \"artefact_count\": 50000, \"record_count\": null}, {\"institution\": \"SOAS, University of London\", \"sector\": \"university\", \"type\": \"university\", \"topic\": \"mixed\", \"precision\": \"estimate\", \"artefact_count\": 60000, \"record_count\": null}, {\"institution\": \"University of Aberdeen\", \"sector\": \"university\", \"type\": \"university\", \"topic\": \"mixed\", \"precision\": \"estimate\", \"artefact_count\": 530000, \"record_count\": null}, {\"institution\": \"University of Bristol\", \"sector\": \"university\", \"type\": \"university\", \"topic\": \"mixed\", \"precision\": \"estimate\", \"artefact_count\": 100000, \"record_count\": null}, {\"institution\": \"University of Leeds\", \"sector\": \"university\", \"type\": \"university\", \"topic\": \"mixed\", \"precision\": \"estimate\", \"artefact_count\": 350000, \"record_count\": null}, {\"institution\": \"University of Leicester\", \"sector\": \"university\", \"type\": \"university\", \"topic\": \"mixed\", \"precision\": \"estimate\", \"artefact_count\": 25000, \"record_count\": null}, {\"institution\": \"University of Sheffield\", \"sector\": \"university\", \"type\": \"university\", \"topic\": \"mixed\", \"precision\": \"estimate\", \"artefact_count\": 30000, \"record_count\": null}, {\"institution\": \"University of St Andrews\", \"sector\": \"university\", \"type\": \"university\", \"topic\": \"mixed\", \"precision\": \"estimate\", \"artefact_count\": 200000, \"record_count\": null}, {\"institution\": \"British Library\", \"sector\": \"library\", \"type\": \"library\", \"topic\": \"mixed\", \"precision\": \"estimate\", \"artefact_count\": 33810000, \"record_count\": 0.0}, {\"institution\": \"Chetham's Library\", \"sector\": \"library\", \"type\": \"library\", \"topic\": \"mixed\", \"precision\": \"estimate\", \"artefact_count\": 121041, \"record_count\": 0.0}, {\"institution\": \"Glasgow Woman's Library\", \"sector\": \"library\", \"type\": \"library\", \"topic\": \"mixed\", \"precision\": \"estimate\", \"artefact_count\": 0, \"record_count\": 0.0}, {\"institution\": \"Lambeth Palace Library\", \"sector\": \"library\", \"type\": \"library\", \"topic\": \"theology\", \"precision\": \"estimate\", \"artefact_count\": 186200, \"record_count\": 15000.0}, {\"institution\": \"National Library of Wales\", \"sector\": \"library\", \"type\": \"library\", \"topic\": \"mixed\", \"precision\": \"estimate\", \"artefact_count\": 7540000, \"record_count\": 0.0}, {\"institution\": \"National Library of Wales\", \"sector\": \"library\", \"type\": \"library\", \"topic\": \"mixed\", \"precision\": \"estimate\", \"artefact_count\": 7540000, \"record_count\": 0.0}, {\"institution\": \"National Library of Wales\", \"sector\": \"library\", \"type\": \"library\", \"topic\": \"mixed\", \"precision\": \"estimate\", \"artefact_count\": 7540000, \"record_count\": 0.0}, {\"institution\": \"National Library of Scotland\", \"sector\": \"library\", \"type\": \"library\", \"topic\": \"mixed\", \"precision\": \"estimate\", \"artefact_count\": 37000000, \"record_count\": 0.0}, {\"institution\": \"National Library of Scotland\", \"sector\": \"library\", \"type\": \"library\", \"topic\": \"mixed\", \"precision\": \"estimate\", \"artefact_count\": 37000000, \"record_count\": 0.0}, {\"institution\": \"National Library of Scotland\", \"sector\": \"library\", \"type\": \"library\", \"topic\": \"mixed\", \"precision\": \"estimate\", \"artefact_count\": 37000000, \"record_count\": 0.0}, {\"institution\": \"Victoria & Albert Museum\", \"sector\": \"dcms\", \"type\": \"museum\", \"topic\": \"art\", \"precision\": \"estimate\", \"artefact_count\": 2800000, \"record_count\": 1281326.0}, {\"institution\": \"Science Museum Group\", \"sector\": \"dcms\", \"type\": \"museum\", \"topic\": \"science\", \"precision\": \"estimate\", \"artefact_count\": 7360793, \"record_count\": 0.0}, {\"institution\": \"Science Museum Group\", \"sector\": \"dcms\", \"type\": \"museum\", \"topic\": \"science\", \"precision\": \"estimate\", \"artefact_count\": 7360793, \"record_count\": 0.0}, {\"institution\": \"Science Museum Group\", \"sector\": \"dcms\", \"type\": \"museum\", \"topic\": \"science\", \"precision\": \"estimate\", \"artefact_count\": 7360793, \"record_count\": 0.0}, {\"institution\": \"Museum of the Home\", \"sector\": \"dcms\", \"type\": \"museum\", \"topic\": \"history\", \"precision\": \"estimate\", \"artefact_count\": 40000, \"record_count\": 12200.0}, {\"institution\": \"Museum of the Home\", \"sector\": \"dcms\", \"type\": \"museum\", \"topic\": \"history\", \"precision\": \"estimate\", \"artefact_count\": 40000, \"record_count\": 0.0}, {\"institution\": \"Horniman Museum\", \"sector\": \"dcms\", \"type\": \"museum\", \"topic\": \"history\", \"precision\": \"estimate\", \"artefact_count\": 350000, \"record_count\": 132612.0}, {\"institution\": \"Horniman Museum\", \"sector\": \"dcms\", \"type\": \"museum\", \"topic\": \"history\", \"precision\": \"estimate\", \"artefact_count\": 350000, \"record_count\": 0.0}, {\"institution\": \"Horniman Museum\", \"sector\": \"dcms\", \"type\": \"museum\", \"topic\": \"history\", \"precision\": \"estimate\", \"artefact_count\": 350000, \"record_count\": 0.0}, {\"institution\": \"Imperial War Museums\", \"sector\": \"dcms\", \"type\": \"museum\", \"topic\": \"history\", \"precision\": \"estimate\", \"artefact_count\": 1000000, \"record_count\": 1737698.0}, {\"institution\": \"Imperial War Museums\", \"sector\": \"dcms\", \"type\": \"museum\", \"topic\": \"history\", \"precision\": \"estimate\", \"artefact_count\": 1000000, \"record_count\": 0.0}, {\"institution\": \"Imperial War Museums\", \"sector\": \"dcms\", \"type\": \"museum\", \"topic\": \"history\", \"precision\": \"estimate\", \"artefact_count\": 1000000, \"record_count\": 0.0}, {\"institution\": \"National Gallery\", \"sector\": \"dcms\", \"type\": \"gallery\", \"topic\": \"art\", \"precision\": \"estimate\", \"artefact_count\": 2626, \"record_count\": 0.0}, {\"institution\": \"National Gallery\", \"sector\": \"dcms\", \"type\": \"gallery\", \"topic\": \"art\", \"precision\": \"estimate\", \"artefact_count\": 2626, \"record_count\": 0.0}, {\"institution\": \"National Museums Liverpool\", \"sector\": \"dcms\", \"type\": \"museum\", \"topic\": \"history\", \"precision\": \"estimate\", \"artefact_count\": 4000000, \"record_count\": 73682.0}, {\"institution\": \"National Museums Liverpool\", \"sector\": \"dcms\", \"type\": \"museum\", \"topic\": \"history\", \"precision\": \"estimate\", \"artefact_count\": 4000000, \"record_count\": 0.0}, {\"institution\": \"National Museums Liverpool\", \"sector\": \"dcms\", \"type\": \"museum\", \"topic\": \"history\", \"precision\": \"estimate\", \"artefact_count\": 4000000, \"record_count\": 0.0}, {\"institution\": \"National Portrait Gallery\", \"sector\": \"dcms\", \"type\": \"gallery\", \"topic\": \"art\", \"precision\": \"estimate\", \"artefact_count\": 350000, \"record_count\": 0.0}, {\"institution\": \"National Portrait Gallery\", \"sector\": \"dcms\", \"type\": \"gallery\", \"topic\": \"art\", \"precision\": \"estimate\", \"artefact_count\": 350000, \"record_count\": 0.0}, {\"institution\": \"Natural History Museum\", \"sector\": \"dcms\", \"type\": \"museum\", \"topic\": \"nature\", \"precision\": \"estimate\", \"artefact_count\": 80000000, \"record_count\": 78000000.0}, {\"institution\": \"Natural History Museum\", \"sector\": \"dcms\", \"type\": \"museum\", \"topic\": \"nature\", \"precision\": \"estimate\", \"artefact_count\": 80000000, \"record_count\": 0.0}, {\"institution\": \"Natural History Museum\", \"sector\": \"dcms\", \"type\": \"museum\", \"topic\": \"nature\", \"precision\": \"estimate\", \"artefact_count\": 80000000, \"record_count\": 0.0}, {\"institution\": \"Royal Armouries\", \"sector\": \"dcms\", \"type\": \"museum\", \"topic\": \"history\", \"precision\": \"estimate\", \"artefact_count\": 70000, \"record_count\": 65627.0}, {\"institution\": \"Royal Museums Greenwich\", \"sector\": \"dcms\", \"type\": \"museum\", \"topic\": \"history\", \"precision\": \"estimate\", \"artefact_count\": 3000000, \"record_count\": 0.0}, {\"institution\": \"Royal Museums Greenwich\", \"sector\": \"dcms\", \"type\": \"museum\", \"topic\": \"history\", \"precision\": \"estimate\", \"artefact_count\": 3000000, \"record_count\": 0.0}, {\"institution\": \"Royal Museums Greenwich\", \"sector\": \"dcms\", \"type\": \"museum\", \"topic\": \"history\", \"precision\": \"estimate\", \"artefact_count\": 3000000, \"record_count\": 0.0}, {\"institution\": \"Sir John Soane's Museum\", \"sector\": \"dcms\", \"type\": \"museum\", \"topic\": \"history\", \"precision\": \"estimate\", \"artefact_count\": 52000, \"record_count\": 57164.0}, {\"institution\": \"Tate Gallery Group\", \"sector\": \"dcms\", \"type\": \"gallery\", \"topic\": \"art\", \"precision\": \"estimate\", \"artefact_count\": 70000, \"record_count\": 0.0}, {\"institution\": \"The Wallace Collection\", \"sector\": \"dcms\", \"type\": \"museum\", \"topic\": \"art\", \"precision\": \"estimate\", \"artefact_count\": 5637, \"record_count\": 0.0}, {\"institution\": \"The Wallace Collection\", \"sector\": \"dcms\", \"type\": \"museum\", \"topic\": \"art\", \"precision\": \"estimate\", \"artefact_count\": 5637, \"record_count\": 0.0}, {\"institution\": \"The Wallace Collection\", \"sector\": \"dcms\", \"type\": \"museum\", \"topic\": \"art\", \"precision\": \"estimate\", \"artefact_count\": 5637, \"record_count\": 0.0}, {\"institution\": \"British Museum\", \"sector\": \"dcms\", \"type\": \"museum\", \"topic\": \"history\", \"precision\": \"estimate\", \"artefact_count\": 8000000, \"record_count\": 2000000.0}, {\"institution\": \"British Museum\", \"sector\": \"dcms\", \"type\": \"museum\", \"topic\": \"history\", \"precision\": \"estimate\", \"artefact_count\": 8000000, \"record_count\": 0.0}, {\"institution\": \"British Museum\", \"sector\": \"dcms\", \"type\": \"museum\", \"topic\": \"history\", \"precision\": \"estimate\", \"artefact_count\": 8000000, \"record_count\": 0.0}]}}, {\"mode\": \"vega-lite\"});\n",
       "</script>"
      ],
      "text/plain": [
       "alt.Chart(...)"
      ]
     },
     "execution_count": 72,
     "metadata": {},
     "output_type": "execute_result"
    }
   ],
   "source": [
    "title = alt.TitleParams('Cataloguing Progress', anchor='middle')\n",
    "alt.Chart(progress_df, title=title).mark_bar().encode(\n",
    "    x='progress:Q',\n",
    "    tooltip='progress:Q',\n",
    "    y='institution:N',\n",
    ").properties(width=400).resolve_scale(x='independent').transform_calculate(\n",
    "    progress='datum.record_count / datum.artefact_count'\n",
    ").configure(numberFormat='.2%')"
   ]
  }
 ],
 "metadata": {
  "kernelspec": {
   "display_name": "Python 3 (ipykernel)",
   "language": "python",
   "name": "python3"
  },
  "language_info": {
   "codemirror_mode": {
    "name": "ipython",
    "version": 3
   },
   "file_extension": ".py",
   "mimetype": "text/x-python",
   "name": "python",
   "nbconvert_exporter": "python",
   "pygments_lexer": "ipython3",
   "version": "3.9.18"
  }
 },
 "nbformat": 4,
 "nbformat_minor": 5
}
