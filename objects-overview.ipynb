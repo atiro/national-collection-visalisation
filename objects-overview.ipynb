{
 "cells": [
  {
   "cell_type": "code",
   "execution_count": 2,
   "id": "bc077a0d-3cac-4f63-8b00-fa6d878fe2a7",
   "metadata": {
    "editable": true,
    "slideshow": {
     "slide_type": ""
    },
    "tags": [
     "remove-cell"
    ]
   },
   "outputs": [],
   "source": [
    "import pandas as pd\n",
    "import altair as alt\n",
    "artefacts_data = pd.read_csv(\"artefacts-overview-stats.csv\")\n"
   ]
  },
  {
   "cell_type": "markdown",
   "id": "e69b7740-50d5-483c-bf12-37b833d9ca4d",
   "metadata": {
    "editable": true,
    "slideshow": {
     "slide_type": ""
    },
    "tags": []
   },
   "source": [
    "# Museum Objects Overview"
   ]
  },
  {
   "cell_type": "code",
   "execution_count": 3,
   "id": "b4f7dc17-0b26-4596-8c9b-f5cd5c5f1dab",
   "metadata": {
    "editable": true,
    "slideshow": {
     "slide_type": ""
    },
    "tags": [
     "remove-input"
    ]
   },
   "outputs": [
    {
     "data": {
      "text/html": [
       "\n",
       "<style>\n",
       "  #altair-viz-6784b23e824347ee8373eb14d902f2da.vega-embed {\n",
       "    width: 100%;\n",
       "    display: flex;\n",
       "  }\n",
       "\n",
       "  #altair-viz-6784b23e824347ee8373eb14d902f2da.vega-embed details,\n",
       "  #altair-viz-6784b23e824347ee8373eb14d902f2da.vega-embed details summary {\n",
       "    position: relative;\n",
       "  }\n",
       "</style>\n",
       "<div id=\"altair-viz-6784b23e824347ee8373eb14d902f2da\"></div>\n",
       "<script type=\"text/javascript\">\n",
       "  var VEGA_DEBUG = (typeof VEGA_DEBUG == \"undefined\") ? {} : VEGA_DEBUG;\n",
       "  (function(spec, embedOpt){\n",
       "    let outputDiv = document.currentScript.previousElementSibling;\n",
       "    if (outputDiv.id !== \"altair-viz-6784b23e824347ee8373eb14d902f2da\") {\n",
       "      outputDiv = document.getElementById(\"altair-viz-6784b23e824347ee8373eb14d902f2da\");\n",
       "    }\n",
       "    const paths = {\n",
       "      \"vega\": \"https://cdn.jsdelivr.net/npm/vega@5?noext\",\n",
       "      \"vega-lib\": \"https://cdn.jsdelivr.net/npm/vega-lib?noext\",\n",
       "      \"vega-lite\": \"https://cdn.jsdelivr.net/npm/vega-lite@5.17.0?noext\",\n",
       "      \"vega-embed\": \"https://cdn.jsdelivr.net/npm/vega-embed@6?noext\",\n",
       "    };\n",
       "\n",
       "    function maybeLoadScript(lib, version) {\n",
       "      var key = `${lib.replace(\"-\", \"\")}_version`;\n",
       "      return (VEGA_DEBUG[key] == version) ?\n",
       "        Promise.resolve(paths[lib]) :\n",
       "        new Promise(function(resolve, reject) {\n",
       "          var s = document.createElement('script');\n",
       "          document.getElementsByTagName(\"head\")[0].appendChild(s);\n",
       "          s.async = true;\n",
       "          s.onload = () => {\n",
       "            VEGA_DEBUG[key] = version;\n",
       "            return resolve(paths[lib]);\n",
       "          };\n",
       "          s.onerror = () => reject(`Error loading script: ${paths[lib]}`);\n",
       "          s.src = paths[lib];\n",
       "        });\n",
       "    }\n",
       "\n",
       "    function showError(err) {\n",
       "      outputDiv.innerHTML = `<div class=\"error\" style=\"color:red;\">${err}</div>`;\n",
       "      throw err;\n",
       "    }\n",
       "\n",
       "    function displayChart(vegaEmbed) {\n",
       "      vegaEmbed(outputDiv, spec, embedOpt)\n",
       "        .catch(err => showError(`Javascript Error: ${err.message}<br>This usually means there's a typo in your chart specification. See the javascript console for the full traceback.`));\n",
       "    }\n",
       "\n",
       "    if(typeof define === \"function\" && define.amd) {\n",
       "      requirejs.config({paths});\n",
       "      require([\"vega-embed\"], displayChart, err => showError(`Error loading script: ${err.message}`));\n",
       "    } else {\n",
       "      maybeLoadScript(\"vega\", \"5\")\n",
       "        .then(() => maybeLoadScript(\"vega-lite\", \"5.17.0\"))\n",
       "        .then(() => maybeLoadScript(\"vega-embed\", \"6\"))\n",
       "        .catch(showError)\n",
       "        .then(() => displayChart(vegaEmbed));\n",
       "    }\n",
       "  })({\"config\": {\"view\": {\"continuousWidth\": 300, \"continuousHeight\": 300}}, \"data\": {\"name\": \"data-056d5202e31c174cc415b3db96a30bc7\"}, \"mark\": {\"type\": \"bar\"}, \"encoding\": {\"column\": {\"field\": \"type\", \"type\": \"nominal\"}, \"x\": {\"field\": \"artefact_count\", \"type\": \"quantitative\"}, \"y\": {\"field\": \"institution\", \"type\": \"nominal\"}}, \"resolve\": {\"scale\": {\"x\": \"independent\"}}, \"width\": 200, \"$schema\": \"https://vega.github.io/schema/vega-lite/v5.17.0.json\", \"datasets\": {\"data-056d5202e31c174cc415b3db96a30bc7\": [{\"institution\": \"Oxford University\", \"sector\": \"university\", \"type\": \"university\", \"topic\": \"mixed\", \"precision\": \"estimate\", \"artefact_count\": 22530000}, {\"institution\": \"University of Cambridge\", \"sector\": \"university\", \"type\": \"university\", \"topic\": \"mixed\", \"precision\": \"estimate\", \"artefact_count\": 10000000}, {\"institution\": \"Durham University\", \"sector\": \"university\", \"type\": \"university\", \"topic\": \"mixed\", \"precision\": \"estimate\", \"artefact_count\": 106000}, {\"institution\": \"University College London\", \"sector\": \"university\", \"type\": \"university\", \"topic\": \"mixed\", \"precision\": \"estimate\", \"artefact_count\": 164000}, {\"institution\": \"University of Manchester\", \"sector\": \"university\", \"type\": \"university\", \"topic\": \"mixed\", \"precision\": \"estimate\", \"artefact_count\": 4060000}, {\"institution\": \"King's College London\", \"sector\": \"university\", \"type\": \"university\", \"topic\": \"mixed\", \"precision\": \"estimate\", \"artefact_count\": 200000}, {\"institution\": \"University of Birmingham\", \"sector\": \"university\", \"type\": \"university\", \"topic\": \"mixed\", \"precision\": \"estimate\", \"artefact_count\": 4500000}, {\"institution\": \"Unversity of Warwick\", \"sector\": \"university\", \"type\": \"university\", \"topic\": \"mixed\", \"precision\": \"estimate\", \"artefact_count\": 16000}, {\"institution\": \"Manchester Metropolitan Unversity\", \"sector\": \"university\", \"type\": \"university\", \"topic\": \"mixed\", \"precision\": \"estimate\", \"artefact_count\": 0}, {\"institution\": \"Swansea University\", \"sector\": \"university\", \"type\": \"university\", \"topic\": \"mixed\", \"precision\": \"estimate\", \"artefact_count\": 1700}, {\"institution\": \"University of Brighton\", \"sector\": \"university\", \"type\": \"university\", \"topic\": \"mixed\", \"precision\": \"estimate\", \"artefact_count\": 50000}, {\"institution\": \"SOAS, University of London\", \"sector\": \"university\", \"type\": \"university\", \"topic\": \"mixed\", \"precision\": \"estimate\", \"artefact_count\": 60000}, {\"institution\": \"University of Aberdeen\", \"sector\": \"university\", \"type\": \"university\", \"topic\": \"mixed\", \"precision\": \"estimate\", \"artefact_count\": 530000}, {\"institution\": \"University of Bristol\", \"sector\": \"university\", \"type\": \"university\", \"topic\": \"mixed\", \"precision\": \"estimate\", \"artefact_count\": 100000}, {\"institution\": \"University of Leeds\", \"sector\": \"university\", \"type\": \"university\", \"topic\": \"mixed\", \"precision\": \"estimate\", \"artefact_count\": 350000}, {\"institution\": \"University of Leicester\", \"sector\": \"university\", \"type\": \"university\", \"topic\": \"mixed\", \"precision\": \"estimate\", \"artefact_count\": 25000}, {\"institution\": \"University of Sheffield\", \"sector\": \"university\", \"type\": \"university\", \"topic\": \"mixed\", \"precision\": \"estimate\", \"artefact_count\": 30000}, {\"institution\": \"University of St Andrews\", \"sector\": \"university\", \"type\": \"university\", \"topic\": \"mixed\", \"precision\": \"estimate\", \"artefact_count\": 200000}, {\"institution\": \"British Library\", \"sector\": \"library\", \"type\": \"library\", \"topic\": \"mixed\", \"precision\": \"estimate\", \"artefact_count\": 33810000}, {\"institution\": \"Chetham's Library\", \"sector\": \"library\", \"type\": \"library\", \"topic\": \"mixed\", \"precision\": \"estimate\", \"artefact_count\": 121041}, {\"institution\": \"Glasgow Woman's Library\", \"sector\": \"library\", \"type\": \"library\", \"topic\": \"mixed\", \"precision\": \"estimate\", \"artefact_count\": 0}, {\"institution\": \"Lambeth Palace Library\", \"sector\": \"library\", \"type\": \"library\", \"topic\": \"theology\", \"precision\": \"estimate\", \"artefact_count\": 186200}, {\"institution\": \"National Library of Wales\", \"sector\": \"library\", \"type\": \"library\", \"topic\": \"mixed\", \"precision\": \"estimate\", \"artefact_count\": 7540000}, {\"institution\": \"National Library of Scotland\", \"sector\": \"library\", \"type\": \"library\", \"topic\": \"mixed\", \"precision\": \"estimate\", \"artefact_count\": 37000000}, {\"institution\": \"Victoria & Albert Museum\", \"sector\": \"dcms\", \"type\": \"museum\", \"topic\": \"art\", \"precision\": \"estimate\", \"artefact_count\": 2800000}, {\"institution\": \"Science Museum Group\", \"sector\": \"dcms\", \"type\": \"museum\", \"topic\": \"science\", \"precision\": \"estimate\", \"artefact_count\": 7360793}, {\"institution\": \"Museum of the Home\", \"sector\": \"dcms\", \"type\": \"museum\", \"topic\": \"history\", \"precision\": \"estimate\", \"artefact_count\": 40000}, {\"institution\": \"Horniman Museum\", \"sector\": \"dcms\", \"type\": \"museum\", \"topic\": \"history\", \"precision\": \"estimate\", \"artefact_count\": 350000}, {\"institution\": \"Imperial War Museums\", \"sector\": \"dcms\", \"type\": \"museum\", \"topic\": \"history\", \"precision\": \"estimate\", \"artefact_count\": 1000000}, {\"institution\": \"National Gallery\", \"sector\": \"dcms\", \"type\": \"gallery\", \"topic\": \"art\", \"precision\": \"estimate\", \"artefact_count\": 2626}, {\"institution\": \"National Museums Liverpool\", \"sector\": \"dcms\", \"type\": \"museum\", \"topic\": \"history\", \"precision\": \"estimate\", \"artefact_count\": 4000000}, {\"institution\": \"National Portrait Gallery\", \"sector\": \"dcms\", \"type\": \"gallery\", \"topic\": \"art\", \"precision\": \"estimate\", \"artefact_count\": 350000}, {\"institution\": \"Natural History Museum\", \"sector\": \"dcms\", \"type\": \"museum\", \"topic\": \"nature\", \"precision\": \"estimate\", \"artefact_count\": 80000000}, {\"institution\": \"Royal Armouries\", \"sector\": \"dcms\", \"type\": \"museum\", \"topic\": \"history\", \"precision\": \"estimate\", \"artefact_count\": 70000}, {\"institution\": \"Royal Museums Greenwich\", \"sector\": \"dcms\", \"type\": \"museum\", \"topic\": \"history\", \"precision\": \"estimate\", \"artefact_count\": 3000000}, {\"institution\": \"Sir John Soane's Museum\", \"sector\": \"dcms\", \"type\": \"museum\", \"topic\": \"history\", \"precision\": \"estimate\", \"artefact_count\": 52000}, {\"institution\": \"Tate Gallery Group\", \"sector\": \"dcms\", \"type\": \"gallery\", \"topic\": \"art\", \"precision\": \"estimate\", \"artefact_count\": 70000}, {\"institution\": \"The Wallace Collection\", \"sector\": \"dcms\", \"type\": \"museum\", \"topic\": \"art\", \"precision\": \"estimate\", \"artefact_count\": 5637}, {\"institution\": \"British Museum\", \"sector\": \"dcms\", \"type\": \"museum\", \"topic\": \"history\", \"precision\": \"estimate\", \"artefact_count\": 8000000}]}}, {\"mode\": \"vega-lite\"});\n",
       "</script>"
      ],
      "text/plain": [
       "alt.Chart(...)"
      ]
     },
     "execution_count": 3,
     "metadata": {},
     "output_type": "execute_result"
    }
   ],
   "source": [
    "\n",
    "alt.Chart(artefacts_data).mark_bar().encode(\n",
    "    x='artefact_count',\n",
    "    y='institution',\n",
    "    column='type'\n",
    ").resolve_scale(x='independent').properties(width=200)\n"
   ]
  },
  {
   "cell_type": "code",
   "execution_count": 4,
   "id": "74710a35-7539-4088-aea8-66e28bbbb7a8",
   "metadata": {
    "editable": true,
    "slideshow": {
     "slide_type": ""
    },
    "tags": [
     "remove-input"
    ]
   },
   "outputs": [
    {
     "data": {
      "text/html": [
       "\n",
       "<style>\n",
       "  #altair-viz-19a02fab9bee4110bf0f543fbcab29e8.vega-embed {\n",
       "    width: 100%;\n",
       "    display: flex;\n",
       "  }\n",
       "\n",
       "  #altair-viz-19a02fab9bee4110bf0f543fbcab29e8.vega-embed details,\n",
       "  #altair-viz-19a02fab9bee4110bf0f543fbcab29e8.vega-embed details summary {\n",
       "    position: relative;\n",
       "  }\n",
       "</style>\n",
       "<div id=\"altair-viz-19a02fab9bee4110bf0f543fbcab29e8\"></div>\n",
       "<script type=\"text/javascript\">\n",
       "  var VEGA_DEBUG = (typeof VEGA_DEBUG == \"undefined\") ? {} : VEGA_DEBUG;\n",
       "  (function(spec, embedOpt){\n",
       "    let outputDiv = document.currentScript.previousElementSibling;\n",
       "    if (outputDiv.id !== \"altair-viz-19a02fab9bee4110bf0f543fbcab29e8\") {\n",
       "      outputDiv = document.getElementById(\"altair-viz-19a02fab9bee4110bf0f543fbcab29e8\");\n",
       "    }\n",
       "    const paths = {\n",
       "      \"vega\": \"https://cdn.jsdelivr.net/npm/vega@5?noext\",\n",
       "      \"vega-lib\": \"https://cdn.jsdelivr.net/npm/vega-lib?noext\",\n",
       "      \"vega-lite\": \"https://cdn.jsdelivr.net/npm/vega-lite@5.17.0?noext\",\n",
       "      \"vega-embed\": \"https://cdn.jsdelivr.net/npm/vega-embed@6?noext\",\n",
       "    };\n",
       "\n",
       "    function maybeLoadScript(lib, version) {\n",
       "      var key = `${lib.replace(\"-\", \"\")}_version`;\n",
       "      return (VEGA_DEBUG[key] == version) ?\n",
       "        Promise.resolve(paths[lib]) :\n",
       "        new Promise(function(resolve, reject) {\n",
       "          var s = document.createElement('script');\n",
       "          document.getElementsByTagName(\"head\")[0].appendChild(s);\n",
       "          s.async = true;\n",
       "          s.onload = () => {\n",
       "            VEGA_DEBUG[key] = version;\n",
       "            return resolve(paths[lib]);\n",
       "          };\n",
       "          s.onerror = () => reject(`Error loading script: ${paths[lib]}`);\n",
       "          s.src = paths[lib];\n",
       "        });\n",
       "    }\n",
       "\n",
       "    function showError(err) {\n",
       "      outputDiv.innerHTML = `<div class=\"error\" style=\"color:red;\">${err}</div>`;\n",
       "      throw err;\n",
       "    }\n",
       "\n",
       "    function displayChart(vegaEmbed) {\n",
       "      vegaEmbed(outputDiv, spec, embedOpt)\n",
       "        .catch(err => showError(`Javascript Error: ${err.message}<br>This usually means there's a typo in your chart specification. See the javascript console for the full traceback.`));\n",
       "    }\n",
       "\n",
       "    if(typeof define === \"function\" && define.amd) {\n",
       "      requirejs.config({paths});\n",
       "      require([\"vega-embed\"], displayChart, err => showError(`Error loading script: ${err.message}`));\n",
       "    } else {\n",
       "      maybeLoadScript(\"vega\", \"5\")\n",
       "        .then(() => maybeLoadScript(\"vega-lite\", \"5.17.0\"))\n",
       "        .then(() => maybeLoadScript(\"vega-embed\", \"6\"))\n",
       "        .catch(showError)\n",
       "        .then(() => displayChart(vegaEmbed));\n",
       "    }\n",
       "  })({\"config\": {\"view\": {\"continuousWidth\": 300, \"continuousHeight\": 300}, \"numberFormat\": \".2s\"}, \"data\": {\"name\": \"data-056d5202e31c174cc415b3db96a30bc7\"}, \"mark\": {\"type\": \"bar\"}, \"encoding\": {\"column\": {\"field\": \"sector\", \"type\": \"nominal\"}, \"x\": {\"field\": \"artefact_count\", \"type\": \"quantitative\"}, \"y\": {\"field\": \"institution\", \"type\": \"nominal\"}}, \"resolve\": {\"scale\": {\"x\": \"independent\"}}, \"width\": 200, \"$schema\": \"https://vega.github.io/schema/vega-lite/v5.17.0.json\", \"datasets\": {\"data-056d5202e31c174cc415b3db96a30bc7\": [{\"institution\": \"Oxford University\", \"sector\": \"university\", \"type\": \"university\", \"topic\": \"mixed\", \"precision\": \"estimate\", \"artefact_count\": 22530000}, {\"institution\": \"University of Cambridge\", \"sector\": \"university\", \"type\": \"university\", \"topic\": \"mixed\", \"precision\": \"estimate\", \"artefact_count\": 10000000}, {\"institution\": \"Durham University\", \"sector\": \"university\", \"type\": \"university\", \"topic\": \"mixed\", \"precision\": \"estimate\", \"artefact_count\": 106000}, {\"institution\": \"University College London\", \"sector\": \"university\", \"type\": \"university\", \"topic\": \"mixed\", \"precision\": \"estimate\", \"artefact_count\": 164000}, {\"institution\": \"University of Manchester\", \"sector\": \"university\", \"type\": \"university\", \"topic\": \"mixed\", \"precision\": \"estimate\", \"artefact_count\": 4060000}, {\"institution\": \"King's College London\", \"sector\": \"university\", \"type\": \"university\", \"topic\": \"mixed\", \"precision\": \"estimate\", \"artefact_count\": 200000}, {\"institution\": \"University of Birmingham\", \"sector\": \"university\", \"type\": \"university\", \"topic\": \"mixed\", \"precision\": \"estimate\", \"artefact_count\": 4500000}, {\"institution\": \"Unversity of Warwick\", \"sector\": \"university\", \"type\": \"university\", \"topic\": \"mixed\", \"precision\": \"estimate\", \"artefact_count\": 16000}, {\"institution\": \"Manchester Metropolitan Unversity\", \"sector\": \"university\", \"type\": \"university\", \"topic\": \"mixed\", \"precision\": \"estimate\", \"artefact_count\": 0}, {\"institution\": \"Swansea University\", \"sector\": \"university\", \"type\": \"university\", \"topic\": \"mixed\", \"precision\": \"estimate\", \"artefact_count\": 1700}, {\"institution\": \"University of Brighton\", \"sector\": \"university\", \"type\": \"university\", \"topic\": \"mixed\", \"precision\": \"estimate\", \"artefact_count\": 50000}, {\"institution\": \"SOAS, University of London\", \"sector\": \"university\", \"type\": \"university\", \"topic\": \"mixed\", \"precision\": \"estimate\", \"artefact_count\": 60000}, {\"institution\": \"University of Aberdeen\", \"sector\": \"university\", \"type\": \"university\", \"topic\": \"mixed\", \"precision\": \"estimate\", \"artefact_count\": 530000}, {\"institution\": \"University of Bristol\", \"sector\": \"university\", \"type\": \"university\", \"topic\": \"mixed\", \"precision\": \"estimate\", \"artefact_count\": 100000}, {\"institution\": \"University of Leeds\", \"sector\": \"university\", \"type\": \"university\", \"topic\": \"mixed\", \"precision\": \"estimate\", \"artefact_count\": 350000}, {\"institution\": \"University of Leicester\", \"sector\": \"university\", \"type\": \"university\", \"topic\": \"mixed\", \"precision\": \"estimate\", \"artefact_count\": 25000}, {\"institution\": \"University of Sheffield\", \"sector\": \"university\", \"type\": \"university\", \"topic\": \"mixed\", \"precision\": \"estimate\", \"artefact_count\": 30000}, {\"institution\": \"University of St Andrews\", \"sector\": \"university\", \"type\": \"university\", \"topic\": \"mixed\", \"precision\": \"estimate\", \"artefact_count\": 200000}, {\"institution\": \"British Library\", \"sector\": \"library\", \"type\": \"library\", \"topic\": \"mixed\", \"precision\": \"estimate\", \"artefact_count\": 33810000}, {\"institution\": \"Chetham's Library\", \"sector\": \"library\", \"type\": \"library\", \"topic\": \"mixed\", \"precision\": \"estimate\", \"artefact_count\": 121041}, {\"institution\": \"Glasgow Woman's Library\", \"sector\": \"library\", \"type\": \"library\", \"topic\": \"mixed\", \"precision\": \"estimate\", \"artefact_count\": 0}, {\"institution\": \"Lambeth Palace Library\", \"sector\": \"library\", \"type\": \"library\", \"topic\": \"theology\", \"precision\": \"estimate\", \"artefact_count\": 186200}, {\"institution\": \"National Library of Wales\", \"sector\": \"library\", \"type\": \"library\", \"topic\": \"mixed\", \"precision\": \"estimate\", \"artefact_count\": 7540000}, {\"institution\": \"National Library of Scotland\", \"sector\": \"library\", \"type\": \"library\", \"topic\": \"mixed\", \"precision\": \"estimate\", \"artefact_count\": 37000000}, {\"institution\": \"Victoria & Albert Museum\", \"sector\": \"dcms\", \"type\": \"museum\", \"topic\": \"art\", \"precision\": \"estimate\", \"artefact_count\": 2800000}, {\"institution\": \"Science Museum Group\", \"sector\": \"dcms\", \"type\": \"museum\", \"topic\": \"science\", \"precision\": \"estimate\", \"artefact_count\": 7360793}, {\"institution\": \"Museum of the Home\", \"sector\": \"dcms\", \"type\": \"museum\", \"topic\": \"history\", \"precision\": \"estimate\", \"artefact_count\": 40000}, {\"institution\": \"Horniman Museum\", \"sector\": \"dcms\", \"type\": \"museum\", \"topic\": \"history\", \"precision\": \"estimate\", \"artefact_count\": 350000}, {\"institution\": \"Imperial War Museums\", \"sector\": \"dcms\", \"type\": \"museum\", \"topic\": \"history\", \"precision\": \"estimate\", \"artefact_count\": 1000000}, {\"institution\": \"National Gallery\", \"sector\": \"dcms\", \"type\": \"gallery\", \"topic\": \"art\", \"precision\": \"estimate\", \"artefact_count\": 2626}, {\"institution\": \"National Museums Liverpool\", \"sector\": \"dcms\", \"type\": \"museum\", \"topic\": \"history\", \"precision\": \"estimate\", \"artefact_count\": 4000000}, {\"institution\": \"National Portrait Gallery\", \"sector\": \"dcms\", \"type\": \"gallery\", \"topic\": \"art\", \"precision\": \"estimate\", \"artefact_count\": 350000}, {\"institution\": \"Natural History Museum\", \"sector\": \"dcms\", \"type\": \"museum\", \"topic\": \"nature\", \"precision\": \"estimate\", \"artefact_count\": 80000000}, {\"institution\": \"Royal Armouries\", \"sector\": \"dcms\", \"type\": \"museum\", \"topic\": \"history\", \"precision\": \"estimate\", \"artefact_count\": 70000}, {\"institution\": \"Royal Museums Greenwich\", \"sector\": \"dcms\", \"type\": \"museum\", \"topic\": \"history\", \"precision\": \"estimate\", \"artefact_count\": 3000000}, {\"institution\": \"Sir John Soane's Museum\", \"sector\": \"dcms\", \"type\": \"museum\", \"topic\": \"history\", \"precision\": \"estimate\", \"artefact_count\": 52000}, {\"institution\": \"Tate Gallery Group\", \"sector\": \"dcms\", \"type\": \"gallery\", \"topic\": \"art\", \"precision\": \"estimate\", \"artefact_count\": 70000}, {\"institution\": \"The Wallace Collection\", \"sector\": \"dcms\", \"type\": \"museum\", \"topic\": \"art\", \"precision\": \"estimate\", \"artefact_count\": 5637}, {\"institution\": \"British Museum\", \"sector\": \"dcms\", \"type\": \"museum\", \"topic\": \"history\", \"precision\": \"estimate\", \"artefact_count\": 8000000}]}}, {\"mode\": \"vega-lite\"});\n",
       "</script>"
      ],
      "text/plain": [
       "alt.Chart(...)"
      ]
     },
     "execution_count": 4,
     "metadata": {},
     "output_type": "execute_result"
    }
   ],
   "source": [
    "alt.Chart(artefacts_data).mark_bar().encode(\n",
    "    x='artefact_count',\n",
    "    y='institution',\n",
    "    column='sector'\n",
    ").resolve_scale(x='independent').properties(width=200).configure(numberFormat='.2s')"
   ]
  },
  {
   "cell_type": "code",
   "execution_count": 13,
   "id": "89073ee0-2028-414e-a96f-51f19b3396b8",
   "metadata": {
    "editable": true,
    "slideshow": {
     "slide_type": ""
    },
    "tags": [
     "remove-input"
    ]
   },
   "outputs": [
    {
     "data": {
      "text/html": [
       "\n",
       "<style>\n",
       "  #altair-viz-678166a1c8e149c3aa9fd4dfd8c060f4.vega-embed {\n",
       "    width: 100%;\n",
       "    display: flex;\n",
       "  }\n",
       "\n",
       "  #altair-viz-678166a1c8e149c3aa9fd4dfd8c060f4.vega-embed details,\n",
       "  #altair-viz-678166a1c8e149c3aa9fd4dfd8c060f4.vega-embed details summary {\n",
       "    position: relative;\n",
       "  }\n",
       "</style>\n",
       "<div id=\"altair-viz-678166a1c8e149c3aa9fd4dfd8c060f4\"></div>\n",
       "<script type=\"text/javascript\">\n",
       "  var VEGA_DEBUG = (typeof VEGA_DEBUG == \"undefined\") ? {} : VEGA_DEBUG;\n",
       "  (function(spec, embedOpt){\n",
       "    let outputDiv = document.currentScript.previousElementSibling;\n",
       "    if (outputDiv.id !== \"altair-viz-678166a1c8e149c3aa9fd4dfd8c060f4\") {\n",
       "      outputDiv = document.getElementById(\"altair-viz-678166a1c8e149c3aa9fd4dfd8c060f4\");\n",
       "    }\n",
       "    const paths = {\n",
       "      \"vega\": \"https://cdn.jsdelivr.net/npm/vega@5?noext\",\n",
       "      \"vega-lib\": \"https://cdn.jsdelivr.net/npm/vega-lib?noext\",\n",
       "      \"vega-lite\": \"https://cdn.jsdelivr.net/npm/vega-lite@5.17.0?noext\",\n",
       "      \"vega-embed\": \"https://cdn.jsdelivr.net/npm/vega-embed@6?noext\",\n",
       "    };\n",
       "\n",
       "    function maybeLoadScript(lib, version) {\n",
       "      var key = `${lib.replace(\"-\", \"\")}_version`;\n",
       "      return (VEGA_DEBUG[key] == version) ?\n",
       "        Promise.resolve(paths[lib]) :\n",
       "        new Promise(function(resolve, reject) {\n",
       "          var s = document.createElement('script');\n",
       "          document.getElementsByTagName(\"head\")[0].appendChild(s);\n",
       "          s.async = true;\n",
       "          s.onload = () => {\n",
       "            VEGA_DEBUG[key] = version;\n",
       "            return resolve(paths[lib]);\n",
       "          };\n",
       "          s.onerror = () => reject(`Error loading script: ${paths[lib]}`);\n",
       "          s.src = paths[lib];\n",
       "        });\n",
       "    }\n",
       "\n",
       "    function showError(err) {\n",
       "      outputDiv.innerHTML = `<div class=\"error\" style=\"color:red;\">${err}</div>`;\n",
       "      throw err;\n",
       "    }\n",
       "\n",
       "    function displayChart(vegaEmbed) {\n",
       "      vegaEmbed(outputDiv, spec, embedOpt)\n",
       "        .catch(err => showError(`Javascript Error: ${err.message}<br>This usually means there's a typo in your chart specification. See the javascript console for the full traceback.`));\n",
       "    }\n",
       "\n",
       "    if(typeof define === \"function\" && define.amd) {\n",
       "      requirejs.config({paths});\n",
       "      require([\"vega-embed\"], displayChart, err => showError(`Error loading script: ${err.message}`));\n",
       "    } else {\n",
       "      maybeLoadScript(\"vega\", \"5\")\n",
       "        .then(() => maybeLoadScript(\"vega-lite\", \"5.17.0\"))\n",
       "        .then(() => maybeLoadScript(\"vega-embed\", \"6\"))\n",
       "        .catch(showError)\n",
       "        .then(() => displayChart(vegaEmbed));\n",
       "    }\n",
       "  })({\"config\": {\"view\": {\"continuousWidth\": 300, \"continuousHeight\": 300}, \"numberFormat\": \".2s\"}, \"data\": {\"name\": \"data-056d5202e31c174cc415b3db96a30bc7\"}, \"mark\": {\"type\": \"bar\"}, \"encoding\": {\"color\": {\"field\": \"institution\", \"legend\": {\"orient\": \"bottom\", \"columns\": 4, \"titleOrient\": \"left\"}, \"type\": \"nominal\"}, \"column\": {\"field\": \"sector\", \"type\": \"nominal\"}, \"tooltip\": {\"field\": \"institution\", \"type\": \"nominal\"}, \"x\": {\"field\": \"artefact_count\", \"type\": \"quantitative\"}, \"y\": {\"field\": \"topic\", \"type\": \"nominal\"}}, \"title\": {\"text\": \"Collection Size (Objects) by topic\", \"anchor\": \"middle\"}, \"width\": 220, \"$schema\": \"https://vega.github.io/schema/vega-lite/v5.17.0.json\", \"datasets\": {\"data-056d5202e31c174cc415b3db96a30bc7\": [{\"institution\": \"Oxford University\", \"sector\": \"university\", \"type\": \"university\", \"topic\": \"mixed\", \"precision\": \"estimate\", \"artefact_count\": 22530000}, {\"institution\": \"University of Cambridge\", \"sector\": \"university\", \"type\": \"university\", \"topic\": \"mixed\", \"precision\": \"estimate\", \"artefact_count\": 10000000}, {\"institution\": \"Durham University\", \"sector\": \"university\", \"type\": \"university\", \"topic\": \"mixed\", \"precision\": \"estimate\", \"artefact_count\": 106000}, {\"institution\": \"University College London\", \"sector\": \"university\", \"type\": \"university\", \"topic\": \"mixed\", \"precision\": \"estimate\", \"artefact_count\": 164000}, {\"institution\": \"University of Manchester\", \"sector\": \"university\", \"type\": \"university\", \"topic\": \"mixed\", \"precision\": \"estimate\", \"artefact_count\": 4060000}, {\"institution\": \"King's College London\", \"sector\": \"university\", \"type\": \"university\", \"topic\": \"mixed\", \"precision\": \"estimate\", \"artefact_count\": 200000}, {\"institution\": \"University of Birmingham\", \"sector\": \"university\", \"type\": \"university\", \"topic\": \"mixed\", \"precision\": \"estimate\", \"artefact_count\": 4500000}, {\"institution\": \"Unversity of Warwick\", \"sector\": \"university\", \"type\": \"university\", \"topic\": \"mixed\", \"precision\": \"estimate\", \"artefact_count\": 16000}, {\"institution\": \"Manchester Metropolitan Unversity\", \"sector\": \"university\", \"type\": \"university\", \"topic\": \"mixed\", \"precision\": \"estimate\", \"artefact_count\": 0}, {\"institution\": \"Swansea University\", \"sector\": \"university\", \"type\": \"university\", \"topic\": \"mixed\", \"precision\": \"estimate\", \"artefact_count\": 1700}, {\"institution\": \"University of Brighton\", \"sector\": \"university\", \"type\": \"university\", \"topic\": \"mixed\", \"precision\": \"estimate\", \"artefact_count\": 50000}, {\"institution\": \"SOAS, University of London\", \"sector\": \"university\", \"type\": \"university\", \"topic\": \"mixed\", \"precision\": \"estimate\", \"artefact_count\": 60000}, {\"institution\": \"University of Aberdeen\", \"sector\": \"university\", \"type\": \"university\", \"topic\": \"mixed\", \"precision\": \"estimate\", \"artefact_count\": 530000}, {\"institution\": \"University of Bristol\", \"sector\": \"university\", \"type\": \"university\", \"topic\": \"mixed\", \"precision\": \"estimate\", \"artefact_count\": 100000}, {\"institution\": \"University of Leeds\", \"sector\": \"university\", \"type\": \"university\", \"topic\": \"mixed\", \"precision\": \"estimate\", \"artefact_count\": 350000}, {\"institution\": \"University of Leicester\", \"sector\": \"university\", \"type\": \"university\", \"topic\": \"mixed\", \"precision\": \"estimate\", \"artefact_count\": 25000}, {\"institution\": \"University of Sheffield\", \"sector\": \"university\", \"type\": \"university\", \"topic\": \"mixed\", \"precision\": \"estimate\", \"artefact_count\": 30000}, {\"institution\": \"University of St Andrews\", \"sector\": \"university\", \"type\": \"university\", \"topic\": \"mixed\", \"precision\": \"estimate\", \"artefact_count\": 200000}, {\"institution\": \"British Library\", \"sector\": \"library\", \"type\": \"library\", \"topic\": \"mixed\", \"precision\": \"estimate\", \"artefact_count\": 33810000}, {\"institution\": \"Chetham's Library\", \"sector\": \"library\", \"type\": \"library\", \"topic\": \"mixed\", \"precision\": \"estimate\", \"artefact_count\": 121041}, {\"institution\": \"Glasgow Woman's Library\", \"sector\": \"library\", \"type\": \"library\", \"topic\": \"mixed\", \"precision\": \"estimate\", \"artefact_count\": 0}, {\"institution\": \"Lambeth Palace Library\", \"sector\": \"library\", \"type\": \"library\", \"topic\": \"theology\", \"precision\": \"estimate\", \"artefact_count\": 186200}, {\"institution\": \"National Library of Wales\", \"sector\": \"library\", \"type\": \"library\", \"topic\": \"mixed\", \"precision\": \"estimate\", \"artefact_count\": 7540000}, {\"institution\": \"National Library of Scotland\", \"sector\": \"library\", \"type\": \"library\", \"topic\": \"mixed\", \"precision\": \"estimate\", \"artefact_count\": 37000000}, {\"institution\": \"Victoria & Albert Museum\", \"sector\": \"dcms\", \"type\": \"museum\", \"topic\": \"art\", \"precision\": \"estimate\", \"artefact_count\": 2800000}, {\"institution\": \"Science Museum Group\", \"sector\": \"dcms\", \"type\": \"museum\", \"topic\": \"science\", \"precision\": \"estimate\", \"artefact_count\": 7360793}, {\"institution\": \"Museum of the Home\", \"sector\": \"dcms\", \"type\": \"museum\", \"topic\": \"history\", \"precision\": \"estimate\", \"artefact_count\": 40000}, {\"institution\": \"Horniman Museum\", \"sector\": \"dcms\", \"type\": \"museum\", \"topic\": \"history\", \"precision\": \"estimate\", \"artefact_count\": 350000}, {\"institution\": \"Imperial War Museums\", \"sector\": \"dcms\", \"type\": \"museum\", \"topic\": \"history\", \"precision\": \"estimate\", \"artefact_count\": 1000000}, {\"institution\": \"National Gallery\", \"sector\": \"dcms\", \"type\": \"gallery\", \"topic\": \"art\", \"precision\": \"estimate\", \"artefact_count\": 2626}, {\"institution\": \"National Museums Liverpool\", \"sector\": \"dcms\", \"type\": \"museum\", \"topic\": \"history\", \"precision\": \"estimate\", \"artefact_count\": 4000000}, {\"institution\": \"National Portrait Gallery\", \"sector\": \"dcms\", \"type\": \"gallery\", \"topic\": \"art\", \"precision\": \"estimate\", \"artefact_count\": 350000}, {\"institution\": \"Natural History Museum\", \"sector\": \"dcms\", \"type\": \"museum\", \"topic\": \"nature\", \"precision\": \"estimate\", \"artefact_count\": 80000000}, {\"institution\": \"Royal Armouries\", \"sector\": \"dcms\", \"type\": \"museum\", \"topic\": \"history\", \"precision\": \"estimate\", \"artefact_count\": 70000}, {\"institution\": \"Royal Museums Greenwich\", \"sector\": \"dcms\", \"type\": \"museum\", \"topic\": \"history\", \"precision\": \"estimate\", \"artefact_count\": 3000000}, {\"institution\": \"Sir John Soane's Museum\", \"sector\": \"dcms\", \"type\": \"museum\", \"topic\": \"history\", \"precision\": \"estimate\", \"artefact_count\": 52000}, {\"institution\": \"Tate Gallery Group\", \"sector\": \"dcms\", \"type\": \"gallery\", \"topic\": \"art\", \"precision\": \"estimate\", \"artefact_count\": 70000}, {\"institution\": \"The Wallace Collection\", \"sector\": \"dcms\", \"type\": \"museum\", \"topic\": \"art\", \"precision\": \"estimate\", \"artefact_count\": 5637}, {\"institution\": \"British Museum\", \"sector\": \"dcms\", \"type\": \"museum\", \"topic\": \"history\", \"precision\": \"estimate\", \"artefact_count\": 8000000}]}}, {\"mode\": \"vega-lite\"});\n",
       "</script>"
      ],
      "text/plain": [
       "alt.Chart(...)"
      ]
     },
     "execution_count": 13,
     "metadata": {},
     "output_type": "execute_result"
    }
   ],
   "source": [
    "title = alt.TitleParams('Collection Size (Objects) by topic', anchor='middle')\n",
    "alt.Chart(artefacts_data,title=title).mark_bar().encode(\n",
    "        alt.Color('institution:N').legend(orient=\"bottom\", columns=4, titleOrient=\"left\"),\n",
    "    x='artefact_count:Q',\n",
    "    tooltip='institution',\n",
    "    y='topic:N',\n",
    "    column='sector'\n",
    ").properties(width=220).configure(numberFormat='.2s')"
   ]
  },
  {
   "cell_type": "code",
   "execution_count": 14,
   "id": "f3d67ee1-989d-4883-8137-715e6c40f660",
   "metadata": {
    "editable": true,
    "slideshow": {
     "slide_type": ""
    },
    "tags": [
     "hide-input"
    ]
   },
   "outputs": [
    {
     "data": {
      "text/html": [
       "\n",
       "<style>\n",
       "  #altair-viz-a210f8f4c828412f8eb189f9f6858225.vega-embed {\n",
       "    width: 100%;\n",
       "    display: flex;\n",
       "  }\n",
       "\n",
       "  #altair-viz-a210f8f4c828412f8eb189f9f6858225.vega-embed details,\n",
       "  #altair-viz-a210f8f4c828412f8eb189f9f6858225.vega-embed details summary {\n",
       "    position: relative;\n",
       "  }\n",
       "</style>\n",
       "<div id=\"altair-viz-a210f8f4c828412f8eb189f9f6858225\"></div>\n",
       "<script type=\"text/javascript\">\n",
       "  var VEGA_DEBUG = (typeof VEGA_DEBUG == \"undefined\") ? {} : VEGA_DEBUG;\n",
       "  (function(spec, embedOpt){\n",
       "    let outputDiv = document.currentScript.previousElementSibling;\n",
       "    if (outputDiv.id !== \"altair-viz-a210f8f4c828412f8eb189f9f6858225\") {\n",
       "      outputDiv = document.getElementById(\"altair-viz-a210f8f4c828412f8eb189f9f6858225\");\n",
       "    }\n",
       "    const paths = {\n",
       "      \"vega\": \"https://cdn.jsdelivr.net/npm/vega@5?noext\",\n",
       "      \"vega-lib\": \"https://cdn.jsdelivr.net/npm/vega-lib?noext\",\n",
       "      \"vega-lite\": \"https://cdn.jsdelivr.net/npm/vega-lite@5.17.0?noext\",\n",
       "      \"vega-embed\": \"https://cdn.jsdelivr.net/npm/vega-embed@6?noext\",\n",
       "    };\n",
       "\n",
       "    function maybeLoadScript(lib, version) {\n",
       "      var key = `${lib.replace(\"-\", \"\")}_version`;\n",
       "      return (VEGA_DEBUG[key] == version) ?\n",
       "        Promise.resolve(paths[lib]) :\n",
       "        new Promise(function(resolve, reject) {\n",
       "          var s = document.createElement('script');\n",
       "          document.getElementsByTagName(\"head\")[0].appendChild(s);\n",
       "          s.async = true;\n",
       "          s.onload = () => {\n",
       "            VEGA_DEBUG[key] = version;\n",
       "            return resolve(paths[lib]);\n",
       "          };\n",
       "          s.onerror = () => reject(`Error loading script: ${paths[lib]}`);\n",
       "          s.src = paths[lib];\n",
       "        });\n",
       "    }\n",
       "\n",
       "    function showError(err) {\n",
       "      outputDiv.innerHTML = `<div class=\"error\" style=\"color:red;\">${err}</div>`;\n",
       "      throw err;\n",
       "    }\n",
       "\n",
       "    function displayChart(vegaEmbed) {\n",
       "      vegaEmbed(outputDiv, spec, embedOpt)\n",
       "        .catch(err => showError(`Javascript Error: ${err.message}<br>This usually means there's a typo in your chart specification. See the javascript console for the full traceback.`));\n",
       "    }\n",
       "\n",
       "    if(typeof define === \"function\" && define.amd) {\n",
       "      requirejs.config({paths});\n",
       "      require([\"vega-embed\"], displayChart, err => showError(`Error loading script: ${err.message}`));\n",
       "    } else {\n",
       "      maybeLoadScript(\"vega\", \"5\")\n",
       "        .then(() => maybeLoadScript(\"vega-lite\", \"5.17.0\"))\n",
       "        .then(() => maybeLoadScript(\"vega-embed\", \"6\"))\n",
       "        .catch(showError)\n",
       "        .then(() => displayChart(vegaEmbed));\n",
       "    }\n",
       "  })({\"config\": {\"view\": {\"continuousWidth\": 300, \"continuousHeight\": 300}, \"numberFormat\": \".2s\"}, \"data\": {\"name\": \"data-056d5202e31c174cc415b3db96a30bc7\"}, \"mark\": {\"type\": \"bar\"}, \"encoding\": {\"color\": {\"field\": \"institution\", \"legend\": {\"orient\": \"bottom\", \"columns\": 4, \"titleOrient\": \"left\"}, \"type\": \"nominal\"}, \"column\": {\"field\": \"precision\", \"type\": \"ordinal\"}, \"tooltip\": {\"field\": \"institution\", \"type\": \"nominal\"}, \"x\": {\"field\": \"artefact_count\", \"type\": \"quantitative\"}, \"y\": {\"field\": \"topic\", \"type\": \"nominal\"}}, \"resolve\": {\"scale\": {\"x\": \"independent\"}}, \"width\": 500, \"$schema\": \"https://vega.github.io/schema/vega-lite/v5.17.0.json\", \"datasets\": {\"data-056d5202e31c174cc415b3db96a30bc7\": [{\"institution\": \"Oxford University\", \"sector\": \"university\", \"type\": \"university\", \"topic\": \"mixed\", \"precision\": \"estimate\", \"artefact_count\": 22530000}, {\"institution\": \"University of Cambridge\", \"sector\": \"university\", \"type\": \"university\", \"topic\": \"mixed\", \"precision\": \"estimate\", \"artefact_count\": 10000000}, {\"institution\": \"Durham University\", \"sector\": \"university\", \"type\": \"university\", \"topic\": \"mixed\", \"precision\": \"estimate\", \"artefact_count\": 106000}, {\"institution\": \"University College London\", \"sector\": \"university\", \"type\": \"university\", \"topic\": \"mixed\", \"precision\": \"estimate\", \"artefact_count\": 164000}, {\"institution\": \"University of Manchester\", \"sector\": \"university\", \"type\": \"university\", \"topic\": \"mixed\", \"precision\": \"estimate\", \"artefact_count\": 4060000}, {\"institution\": \"King's College London\", \"sector\": \"university\", \"type\": \"university\", \"topic\": \"mixed\", \"precision\": \"estimate\", \"artefact_count\": 200000}, {\"institution\": \"University of Birmingham\", \"sector\": \"university\", \"type\": \"university\", \"topic\": \"mixed\", \"precision\": \"estimate\", \"artefact_count\": 4500000}, {\"institution\": \"Unversity of Warwick\", \"sector\": \"university\", \"type\": \"university\", \"topic\": \"mixed\", \"precision\": \"estimate\", \"artefact_count\": 16000}, {\"institution\": \"Manchester Metropolitan Unversity\", \"sector\": \"university\", \"type\": \"university\", \"topic\": \"mixed\", \"precision\": \"estimate\", \"artefact_count\": 0}, {\"institution\": \"Swansea University\", \"sector\": \"university\", \"type\": \"university\", \"topic\": \"mixed\", \"precision\": \"estimate\", \"artefact_count\": 1700}, {\"institution\": \"University of Brighton\", \"sector\": \"university\", \"type\": \"university\", \"topic\": \"mixed\", \"precision\": \"estimate\", \"artefact_count\": 50000}, {\"institution\": \"SOAS, University of London\", \"sector\": \"university\", \"type\": \"university\", \"topic\": \"mixed\", \"precision\": \"estimate\", \"artefact_count\": 60000}, {\"institution\": \"University of Aberdeen\", \"sector\": \"university\", \"type\": \"university\", \"topic\": \"mixed\", \"precision\": \"estimate\", \"artefact_count\": 530000}, {\"institution\": \"University of Bristol\", \"sector\": \"university\", \"type\": \"university\", \"topic\": \"mixed\", \"precision\": \"estimate\", \"artefact_count\": 100000}, {\"institution\": \"University of Leeds\", \"sector\": \"university\", \"type\": \"university\", \"topic\": \"mixed\", \"precision\": \"estimate\", \"artefact_count\": 350000}, {\"institution\": \"University of Leicester\", \"sector\": \"university\", \"type\": \"university\", \"topic\": \"mixed\", \"precision\": \"estimate\", \"artefact_count\": 25000}, {\"institution\": \"University of Sheffield\", \"sector\": \"university\", \"type\": \"university\", \"topic\": \"mixed\", \"precision\": \"estimate\", \"artefact_count\": 30000}, {\"institution\": \"University of St Andrews\", \"sector\": \"university\", \"type\": \"university\", \"topic\": \"mixed\", \"precision\": \"estimate\", \"artefact_count\": 200000}, {\"institution\": \"British Library\", \"sector\": \"library\", \"type\": \"library\", \"topic\": \"mixed\", \"precision\": \"estimate\", \"artefact_count\": 33810000}, {\"institution\": \"Chetham's Library\", \"sector\": \"library\", \"type\": \"library\", \"topic\": \"mixed\", \"precision\": \"estimate\", \"artefact_count\": 121041}, {\"institution\": \"Glasgow Woman's Library\", \"sector\": \"library\", \"type\": \"library\", \"topic\": \"mixed\", \"precision\": \"estimate\", \"artefact_count\": 0}, {\"institution\": \"Lambeth Palace Library\", \"sector\": \"library\", \"type\": \"library\", \"topic\": \"theology\", \"precision\": \"estimate\", \"artefact_count\": 186200}, {\"institution\": \"National Library of Wales\", \"sector\": \"library\", \"type\": \"library\", \"topic\": \"mixed\", \"precision\": \"estimate\", \"artefact_count\": 7540000}, {\"institution\": \"National Library of Scotland\", \"sector\": \"library\", \"type\": \"library\", \"topic\": \"mixed\", \"precision\": \"estimate\", \"artefact_count\": 37000000}, {\"institution\": \"Victoria & Albert Museum\", \"sector\": \"dcms\", \"type\": \"museum\", \"topic\": \"art\", \"precision\": \"estimate\", \"artefact_count\": 2800000}, {\"institution\": \"Science Museum Group\", \"sector\": \"dcms\", \"type\": \"museum\", \"topic\": \"science\", \"precision\": \"estimate\", \"artefact_count\": 7360793}, {\"institution\": \"Museum of the Home\", \"sector\": \"dcms\", \"type\": \"museum\", \"topic\": \"history\", \"precision\": \"estimate\", \"artefact_count\": 40000}, {\"institution\": \"Horniman Museum\", \"sector\": \"dcms\", \"type\": \"museum\", \"topic\": \"history\", \"precision\": \"estimate\", \"artefact_count\": 350000}, {\"institution\": \"Imperial War Museums\", \"sector\": \"dcms\", \"type\": \"museum\", \"topic\": \"history\", \"precision\": \"estimate\", \"artefact_count\": 1000000}, {\"institution\": \"National Gallery\", \"sector\": \"dcms\", \"type\": \"gallery\", \"topic\": \"art\", \"precision\": \"estimate\", \"artefact_count\": 2626}, {\"institution\": \"National Museums Liverpool\", \"sector\": \"dcms\", \"type\": \"museum\", \"topic\": \"history\", \"precision\": \"estimate\", \"artefact_count\": 4000000}, {\"institution\": \"National Portrait Gallery\", \"sector\": \"dcms\", \"type\": \"gallery\", \"topic\": \"art\", \"precision\": \"estimate\", \"artefact_count\": 350000}, {\"institution\": \"Natural History Museum\", \"sector\": \"dcms\", \"type\": \"museum\", \"topic\": \"nature\", \"precision\": \"estimate\", \"artefact_count\": 80000000}, {\"institution\": \"Royal Armouries\", \"sector\": \"dcms\", \"type\": \"museum\", \"topic\": \"history\", \"precision\": \"estimate\", \"artefact_count\": 70000}, {\"institution\": \"Royal Museums Greenwich\", \"sector\": \"dcms\", \"type\": \"museum\", \"topic\": \"history\", \"precision\": \"estimate\", \"artefact_count\": 3000000}, {\"institution\": \"Sir John Soane's Museum\", \"sector\": \"dcms\", \"type\": \"museum\", \"topic\": \"history\", \"precision\": \"estimate\", \"artefact_count\": 52000}, {\"institution\": \"Tate Gallery Group\", \"sector\": \"dcms\", \"type\": \"gallery\", \"topic\": \"art\", \"precision\": \"estimate\", \"artefact_count\": 70000}, {\"institution\": \"The Wallace Collection\", \"sector\": \"dcms\", \"type\": \"museum\", \"topic\": \"art\", \"precision\": \"estimate\", \"artefact_count\": 5637}, {\"institution\": \"British Museum\", \"sector\": \"dcms\", \"type\": \"museum\", \"topic\": \"history\", \"precision\": \"estimate\", \"artefact_count\": 8000000}]}}, {\"mode\": \"vega-lite\"});\n",
       "</script>"
      ],
      "text/plain": [
       "alt.Chart(...)"
      ]
     },
     "execution_count": 14,
     "metadata": {},
     "output_type": "execute_result"
    }
   ],
   "source": [
    "\n",
    "alt.Chart(artefacts_data).mark_bar().encode(\n",
    "        alt.Color('institution:N').legend(orient=\"bottom\", columns=4, titleOrient=\"left\"),\n",
    "    column='precision:O',\n",
    "    x='artefact_count:Q',\n",
    "    tooltip='institution',\n",
    "    y='topic:N'\n",
    ").properties(width=500).resolve_scale(x='independent').configure(numberFormat='.2s')"
   ]
  },
  {
   "cell_type": "code",
   "execution_count": 19,
   "id": "4f2a7ca6-7a3a-4176-bf8b-b22250451b61",
   "metadata": {
    "editable": true,
    "slideshow": {
     "slide_type": ""
    },
    "tags": [
     "hide-input"
    ]
   },
   "outputs": [
    {
     "data": {
      "text/html": [
       "\n",
       "<style>\n",
       "  #altair-viz-fda7369a22a649408027244785d68717.vega-embed {\n",
       "    width: 100%;\n",
       "    display: flex;\n",
       "  }\n",
       "\n",
       "  #altair-viz-fda7369a22a649408027244785d68717.vega-embed details,\n",
       "  #altair-viz-fda7369a22a649408027244785d68717.vega-embed details summary {\n",
       "    position: relative;\n",
       "  }\n",
       "</style>\n",
       "<div id=\"altair-viz-fda7369a22a649408027244785d68717\"></div>\n",
       "<script type=\"text/javascript\">\n",
       "  var VEGA_DEBUG = (typeof VEGA_DEBUG == \"undefined\") ? {} : VEGA_DEBUG;\n",
       "  (function(spec, embedOpt){\n",
       "    let outputDiv = document.currentScript.previousElementSibling;\n",
       "    if (outputDiv.id !== \"altair-viz-fda7369a22a649408027244785d68717\") {\n",
       "      outputDiv = document.getElementById(\"altair-viz-fda7369a22a649408027244785d68717\");\n",
       "    }\n",
       "    const paths = {\n",
       "      \"vega\": \"https://cdn.jsdelivr.net/npm/vega@5?noext\",\n",
       "      \"vega-lib\": \"https://cdn.jsdelivr.net/npm/vega-lib?noext\",\n",
       "      \"vega-lite\": \"https://cdn.jsdelivr.net/npm/vega-lite@5.17.0?noext\",\n",
       "      \"vega-embed\": \"https://cdn.jsdelivr.net/npm/vega-embed@6?noext\",\n",
       "    };\n",
       "\n",
       "    function maybeLoadScript(lib, version) {\n",
       "      var key = `${lib.replace(\"-\", \"\")}_version`;\n",
       "      return (VEGA_DEBUG[key] == version) ?\n",
       "        Promise.resolve(paths[lib]) :\n",
       "        new Promise(function(resolve, reject) {\n",
       "          var s = document.createElement('script');\n",
       "          document.getElementsByTagName(\"head\")[0].appendChild(s);\n",
       "          s.async = true;\n",
       "          s.onload = () => {\n",
       "            VEGA_DEBUG[key] = version;\n",
       "            return resolve(paths[lib]);\n",
       "          };\n",
       "          s.onerror = () => reject(`Error loading script: ${paths[lib]}`);\n",
       "          s.src = paths[lib];\n",
       "        });\n",
       "    }\n",
       "\n",
       "    function showError(err) {\n",
       "      outputDiv.innerHTML = `<div class=\"error\" style=\"color:red;\">${err}</div>`;\n",
       "      throw err;\n",
       "    }\n",
       "\n",
       "    function displayChart(vegaEmbed) {\n",
       "      vegaEmbed(outputDiv, spec, embedOpt)\n",
       "        .catch(err => showError(`Javascript Error: ${err.message}<br>This usually means there's a typo in your chart specification. See the javascript console for the full traceback.`));\n",
       "    }\n",
       "\n",
       "    if(typeof define === \"function\" && define.amd) {\n",
       "      requirejs.config({paths});\n",
       "      require([\"vega-embed\"], displayChart, err => showError(`Error loading script: ${err.message}`));\n",
       "    } else {\n",
       "      maybeLoadScript(\"vega\", \"5\")\n",
       "        .then(() => maybeLoadScript(\"vega-lite\", \"5.17.0\"))\n",
       "        .then(() => maybeLoadScript(\"vega-embed\", \"6\"))\n",
       "        .catch(showError)\n",
       "        .then(() => displayChart(vegaEmbed));\n",
       "    }\n",
       "  })({\"config\": {\"view\": {\"continuousWidth\": 300, \"continuousHeight\": 300}, \"numberFormat\": \".2s\"}, \"data\": {\"name\": \"data-056d5202e31c174cc415b3db96a30bc7\"}, \"mark\": {\"type\": \"bar\"}, \"encoding\": {\"color\": {\"field\": \"institution\", \"legend\": {\"orient\": \"bottom\", \"columns\": 4, \"titleOrient\": \"left\"}, \"type\": \"nominal\"}, \"column\": {\"field\": \"precision\", \"type\": \"ordinal\"}, \"tooltip\": {\"field\": \"institution\", \"type\": \"nominal\"}, \"x\": {\"field\": \"artefact_count\", \"type\": \"quantitative\"}, \"y\": {\"field\": \"type\", \"type\": \"nominal\"}}, \"resolve\": {\"scale\": {\"x\": \"independent\"}}, \"width\": 600, \"$schema\": \"https://vega.github.io/schema/vega-lite/v5.17.0.json\", \"datasets\": {\"data-056d5202e31c174cc415b3db96a30bc7\": [{\"institution\": \"Oxford University\", \"sector\": \"university\", \"type\": \"university\", \"topic\": \"mixed\", \"precision\": \"estimate\", \"artefact_count\": 22530000}, {\"institution\": \"University of Cambridge\", \"sector\": \"university\", \"type\": \"university\", \"topic\": \"mixed\", \"precision\": \"estimate\", \"artefact_count\": 10000000}, {\"institution\": \"Durham University\", \"sector\": \"university\", \"type\": \"university\", \"topic\": \"mixed\", \"precision\": \"estimate\", \"artefact_count\": 106000}, {\"institution\": \"University College London\", \"sector\": \"university\", \"type\": \"university\", \"topic\": \"mixed\", \"precision\": \"estimate\", \"artefact_count\": 164000}, {\"institution\": \"University of Manchester\", \"sector\": \"university\", \"type\": \"university\", \"topic\": \"mixed\", \"precision\": \"estimate\", \"artefact_count\": 4060000}, {\"institution\": \"King's College London\", \"sector\": \"university\", \"type\": \"university\", \"topic\": \"mixed\", \"precision\": \"estimate\", \"artefact_count\": 200000}, {\"institution\": \"University of Birmingham\", \"sector\": \"university\", \"type\": \"university\", \"topic\": \"mixed\", \"precision\": \"estimate\", \"artefact_count\": 4500000}, {\"institution\": \"Unversity of Warwick\", \"sector\": \"university\", \"type\": \"university\", \"topic\": \"mixed\", \"precision\": \"estimate\", \"artefact_count\": 16000}, {\"institution\": \"Manchester Metropolitan Unversity\", \"sector\": \"university\", \"type\": \"university\", \"topic\": \"mixed\", \"precision\": \"estimate\", \"artefact_count\": 0}, {\"institution\": \"Swansea University\", \"sector\": \"university\", \"type\": \"university\", \"topic\": \"mixed\", \"precision\": \"estimate\", \"artefact_count\": 1700}, {\"institution\": \"University of Brighton\", \"sector\": \"university\", \"type\": \"university\", \"topic\": \"mixed\", \"precision\": \"estimate\", \"artefact_count\": 50000}, {\"institution\": \"SOAS, University of London\", \"sector\": \"university\", \"type\": \"university\", \"topic\": \"mixed\", \"precision\": \"estimate\", \"artefact_count\": 60000}, {\"institution\": \"University of Aberdeen\", \"sector\": \"university\", \"type\": \"university\", \"topic\": \"mixed\", \"precision\": \"estimate\", \"artefact_count\": 530000}, {\"institution\": \"University of Bristol\", \"sector\": \"university\", \"type\": \"university\", \"topic\": \"mixed\", \"precision\": \"estimate\", \"artefact_count\": 100000}, {\"institution\": \"University of Leeds\", \"sector\": \"university\", \"type\": \"university\", \"topic\": \"mixed\", \"precision\": \"estimate\", \"artefact_count\": 350000}, {\"institution\": \"University of Leicester\", \"sector\": \"university\", \"type\": \"university\", \"topic\": \"mixed\", \"precision\": \"estimate\", \"artefact_count\": 25000}, {\"institution\": \"University of Sheffield\", \"sector\": \"university\", \"type\": \"university\", \"topic\": \"mixed\", \"precision\": \"estimate\", \"artefact_count\": 30000}, {\"institution\": \"University of St Andrews\", \"sector\": \"university\", \"type\": \"university\", \"topic\": \"mixed\", \"precision\": \"estimate\", \"artefact_count\": 200000}, {\"institution\": \"British Library\", \"sector\": \"library\", \"type\": \"library\", \"topic\": \"mixed\", \"precision\": \"estimate\", \"artefact_count\": 33810000}, {\"institution\": \"Chetham's Library\", \"sector\": \"library\", \"type\": \"library\", \"topic\": \"mixed\", \"precision\": \"estimate\", \"artefact_count\": 121041}, {\"institution\": \"Glasgow Woman's Library\", \"sector\": \"library\", \"type\": \"library\", \"topic\": \"mixed\", \"precision\": \"estimate\", \"artefact_count\": 0}, {\"institution\": \"Lambeth Palace Library\", \"sector\": \"library\", \"type\": \"library\", \"topic\": \"theology\", \"precision\": \"estimate\", \"artefact_count\": 186200}, {\"institution\": \"National Library of Wales\", \"sector\": \"library\", \"type\": \"library\", \"topic\": \"mixed\", \"precision\": \"estimate\", \"artefact_count\": 7540000}, {\"institution\": \"National Library of Scotland\", \"sector\": \"library\", \"type\": \"library\", \"topic\": \"mixed\", \"precision\": \"estimate\", \"artefact_count\": 37000000}, {\"institution\": \"Victoria & Albert Museum\", \"sector\": \"dcms\", \"type\": \"museum\", \"topic\": \"art\", \"precision\": \"estimate\", \"artefact_count\": 2800000}, {\"institution\": \"Science Museum Group\", \"sector\": \"dcms\", \"type\": \"museum\", \"topic\": \"science\", \"precision\": \"estimate\", \"artefact_count\": 7360793}, {\"institution\": \"Museum of the Home\", \"sector\": \"dcms\", \"type\": \"museum\", \"topic\": \"history\", \"precision\": \"estimate\", \"artefact_count\": 40000}, {\"institution\": \"Horniman Museum\", \"sector\": \"dcms\", \"type\": \"museum\", \"topic\": \"history\", \"precision\": \"estimate\", \"artefact_count\": 350000}, {\"institution\": \"Imperial War Museums\", \"sector\": \"dcms\", \"type\": \"museum\", \"topic\": \"history\", \"precision\": \"estimate\", \"artefact_count\": 1000000}, {\"institution\": \"National Gallery\", \"sector\": \"dcms\", \"type\": \"gallery\", \"topic\": \"art\", \"precision\": \"estimate\", \"artefact_count\": 2626}, {\"institution\": \"National Museums Liverpool\", \"sector\": \"dcms\", \"type\": \"museum\", \"topic\": \"history\", \"precision\": \"estimate\", \"artefact_count\": 4000000}, {\"institution\": \"National Portrait Gallery\", \"sector\": \"dcms\", \"type\": \"gallery\", \"topic\": \"art\", \"precision\": \"estimate\", \"artefact_count\": 350000}, {\"institution\": \"Natural History Museum\", \"sector\": \"dcms\", \"type\": \"museum\", \"topic\": \"nature\", \"precision\": \"estimate\", \"artefact_count\": 80000000}, {\"institution\": \"Royal Armouries\", \"sector\": \"dcms\", \"type\": \"museum\", \"topic\": \"history\", \"precision\": \"estimate\", \"artefact_count\": 70000}, {\"institution\": \"Royal Museums Greenwich\", \"sector\": \"dcms\", \"type\": \"museum\", \"topic\": \"history\", \"precision\": \"estimate\", \"artefact_count\": 3000000}, {\"institution\": \"Sir John Soane's Museum\", \"sector\": \"dcms\", \"type\": \"museum\", \"topic\": \"history\", \"precision\": \"estimate\", \"artefact_count\": 52000}, {\"institution\": \"Tate Gallery Group\", \"sector\": \"dcms\", \"type\": \"gallery\", \"topic\": \"art\", \"precision\": \"estimate\", \"artefact_count\": 70000}, {\"institution\": \"The Wallace Collection\", \"sector\": \"dcms\", \"type\": \"museum\", \"topic\": \"art\", \"precision\": \"estimate\", \"artefact_count\": 5637}, {\"institution\": \"British Museum\", \"sector\": \"dcms\", \"type\": \"museum\", \"topic\": \"history\", \"precision\": \"estimate\", \"artefact_count\": 8000000}]}}, {\"mode\": \"vega-lite\"});\n",
       "</script>"
      ],
      "text/plain": [
       "alt.Chart(...)"
      ]
     },
     "execution_count": 19,
     "metadata": {},
     "output_type": "execute_result"
    }
   ],
   "source": [
    "title = alt.TitleParams('Oveview Collection Size (Artefacts) by catalogue', anchor='middle')\n",
    "alt.Chart(artefacts_data).mark_bar().encode(\n",
    "        alt.Color('institution:N').legend(orient=\"bottom\", columns=4, titleOrient=\"left\"),\n",
    "    column='precision:O',\n",
    "    tooltip='institution',\n",
    "    x='artefact_count:Q',\n",
    "    y='type:N'\n",
    ").properties(width=600).resolve_scale(x='independent').configure(numberFormat='.2s')"
   ]
  },
  {
   "cell_type": "markdown",
   "id": "d1fe11b8-c2ad-4ac8-977b-41c62bca38f7",
   "metadata": {
    "editable": true,
    "slideshow": {
     "slide_type": ""
    },
    "tags": [
     "hide-cell"
    ]
   },
   "source": [
    "# Issues \n",
    "- should collection total if it's museum/library/archive be broken out programatically ?\n",
    "Graphs - Digitised (images)\n",
    "graph - tiny squares grid with colours for - propotion catalogued, proptoition with images, online/api, \n",
    "graph - scatter plot "
   ]
  }
 ],
 "metadata": {
  "kernelspec": {
   "display_name": "Python 3 (ipykernel)",
   "language": "python",
   "name": "python3"
  },
  "language_info": {
   "codemirror_mode": {
    "name": "ipython",
    "version": 3
   },
   "file_extension": ".py",
   "mimetype": "text/x-python",
   "name": "python",
   "nbconvert_exporter": "python",
   "pygments_lexer": "ipython3",
   "version": "3.9.18"
  }
 },
 "nbformat": 4,
 "nbformat_minor": 5
}
