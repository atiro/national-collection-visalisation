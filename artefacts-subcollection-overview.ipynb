{
 "cells": [
  {
   "cell_type": "code",
   "execution_count": 18,
   "id": "bc077a0d-3cac-4f63-8b00-fa6d878fe2a7",
   "metadata": {
    "editable": true,
    "slideshow": {
     "slide_type": ""
    },
    "tags": [
     "remove-cell"
    ]
   },
   "outputs": [],
   "source": [
    "import pandas as pd\n",
    "artefacts_sub_df = pd.read_csv(\"artefacts-sub-stats.csv\")"
   ]
  },
  {
   "cell_type": "markdown",
   "id": "33e18670-eddb-40e5-9139-1192b55414b7",
   "metadata": {
    "editable": true,
    "slideshow": {
     "slide_type": ""
    },
    "tags": []
   },
   "source": [
    "# Artefacts (with sub-collections)\n",
    "\n",
    "This is an attempt to provide artefact groupings within an institution to  show the overall composition of a collection that might be formed from several collections."
   ]
  },
  {
   "cell_type": "code",
   "execution_count": 5,
   "id": "d99d62a0-d170-4cbf-b0a5-3d5264409f76",
   "metadata": {
    "editable": true,
    "slideshow": {
     "slide_type": ""
    },
    "tags": [
     "remove-cell"
    ]
   },
   "outputs": [],
   "source": [
    "\n",
    "#alt.Chart(artefacts_sub_df, width=60, height=alt.Step(8)).mark_bar().encode(\n",
    " #   alt.Y(\"type:N\"),\n",
    "#    alt.X(\"record_count:Q\"),\n",
    "#    alt.Color(\"type:N\").title(\"settings\").legend(orient=\"bottom\", titleOrient=\"left\"),\n",
    "#    alt.Row(\"institution:N\").title(\"Institution\").header(labelAngle=0, labelAlign='left' ),\n",
    "#    alt.Column(\"subcollection:N\").title(\"Sub Collection\"),\n",
    "#).configure(numberFormat='.2s')"
   ]
  },
  {
   "cell_type": "markdown",
   "id": "11903d8d-f152-49fb-8278-918f6690b9c8",
   "metadata": {},
   "source": [
    "## Artefacts by topic"
   ]
  },
  {
   "cell_type": "code",
   "execution_count": 22,
   "id": "89073ee0-2028-414e-a96f-51f19b3396b8",
   "metadata": {
    "editable": true,
    "slideshow": {
     "slide_type": ""
    },
    "tags": [
     "remove-input",
     "full-width"
    ]
   },
   "outputs": [
    {
     "data": {
      "text/html": [
       "\n",
       "<style>\n",
       "  #altair-viz-914b6787f390478d930204e803f929aa.vega-embed {\n",
       "    width: 100%;\n",
       "    display: flex;\n",
       "  }\n",
       "\n",
       "  #altair-viz-914b6787f390478d930204e803f929aa.vega-embed details,\n",
       "  #altair-viz-914b6787f390478d930204e803f929aa.vega-embed details summary {\n",
       "    position: relative;\n",
       "  }\n",
       "</style>\n",
       "<div id=\"altair-viz-914b6787f390478d930204e803f929aa\"></div>\n",
       "<script type=\"text/javascript\">\n",
       "  var VEGA_DEBUG = (typeof VEGA_DEBUG == \"undefined\") ? {} : VEGA_DEBUG;\n",
       "  (function(spec, embedOpt){\n",
       "    let outputDiv = document.currentScript.previousElementSibling;\n",
       "    if (outputDiv.id !== \"altair-viz-914b6787f390478d930204e803f929aa\") {\n",
       "      outputDiv = document.getElementById(\"altair-viz-914b6787f390478d930204e803f929aa\");\n",
       "    }\n",
       "    const paths = {\n",
       "      \"vega\": \"https://cdn.jsdelivr.net/npm/vega@5?noext\",\n",
       "      \"vega-lib\": \"https://cdn.jsdelivr.net/npm/vega-lib?noext\",\n",
       "      \"vega-lite\": \"https://cdn.jsdelivr.net/npm/vega-lite@5.17.0?noext\",\n",
       "      \"vega-embed\": \"https://cdn.jsdelivr.net/npm/vega-embed@6?noext\",\n",
       "    };\n",
       "\n",
       "    function maybeLoadScript(lib, version) {\n",
       "      var key = `${lib.replace(\"-\", \"\")}_version`;\n",
       "      return (VEGA_DEBUG[key] == version) ?\n",
       "        Promise.resolve(paths[lib]) :\n",
       "        new Promise(function(resolve, reject) {\n",
       "          var s = document.createElement('script');\n",
       "          document.getElementsByTagName(\"head\")[0].appendChild(s);\n",
       "          s.async = true;\n",
       "          s.onload = () => {\n",
       "            VEGA_DEBUG[key] = version;\n",
       "            return resolve(paths[lib]);\n",
       "          };\n",
       "          s.onerror = () => reject(`Error loading script: ${paths[lib]}`);\n",
       "          s.src = paths[lib];\n",
       "        });\n",
       "    }\n",
       "\n",
       "    function showError(err) {\n",
       "      outputDiv.innerHTML = `<div class=\"error\" style=\"color:red;\">${err}</div>`;\n",
       "      throw err;\n",
       "    }\n",
       "\n",
       "    function displayChart(vegaEmbed) {\n",
       "      vegaEmbed(outputDiv, spec, embedOpt)\n",
       "        .catch(err => showError(`Javascript Error: ${err.message}<br>This usually means there's a typo in your chart specification. See the javascript console for the full traceback.`));\n",
       "    }\n",
       "\n",
       "    if(typeof define === \"function\" && define.amd) {\n",
       "      requirejs.config({paths});\n",
       "      require([\"vega-embed\"], displayChart, err => showError(`Error loading script: ${err.message}`));\n",
       "    } else {\n",
       "      maybeLoadScript(\"vega\", \"5\")\n",
       "        .then(() => maybeLoadScript(\"vega-lite\", \"5.17.0\"))\n",
       "        .then(() => maybeLoadScript(\"vega-embed\", \"6\"))\n",
       "        .catch(showError)\n",
       "        .then(() => displayChart(vegaEmbed));\n",
       "    }\n",
       "  })({\"config\": {\"view\": {\"continuousWidth\": 300, \"continuousHeight\": 300}, \"numberFormat\": \".2s\"}, \"data\": {\"name\": \"data-3d8075c84e0361c60a1345eaa0c7b23a\"}, \"mark\": {\"type\": \"bar\"}, \"encoding\": {\"color\": {\"field\": \"institution\", \"legend\": {\"orient\": \"bottom\", \"titleOrient\": \"left\", \"columns\": 4}, \"type\": \"nominal\"}, \"column\": {\"field\": \"sector\", \"type\": \"nominal\"}, \"tooltip\": [{\"field\": \"institution\", \"type\": \"nominal\"}, {\"field\": \"subcollection\", \"type\": \"nominal\"}], \"x\": {\"field\": \"artefact_count\", \"type\": \"quantitative\"}, \"y\": {\"field\": \"topic\", \"type\": \"nominal\"}}, \"resolve\": {\"scale\": {\"x\": \"independent\"}}, \"title\": {\"text\": \"Collection Size (Artefacts) by topic\", \"anchor\": \"middle\"}, \"width\": 220, \"$schema\": \"https://vega.github.io/schema/vega-lite/v5.17.0.json\", \"datasets\": {\"data-3d8075c84e0361c60a1345eaa0c7b23a\": [{\"institution\": \"Oxford University\", \"subcollection\": \"Ashmolean Museum\", \"sector\": \"university\", \"type\": \"museum\", \"topic\": \"art\", \"precision\": \"estimate\", \"artefact_count\": 1000000}, {\"institution\": \"Oxford University\", \"subcollection\": \"History of Science Museum\", \"sector\": \"university\", \"type\": \"museum\", \"topic\": \"science\", \"precision\": \"estimate\", \"artefact_count\": 30000}, {\"institution\": \"Oxford University\", \"subcollection\": \"Museum of Natural History\", \"sector\": \"university\", \"type\": \"museum\", \"topic\": \"nature\", \"precision\": \"estimate\", \"artefact_count\": 7000000}, {\"institution\": \"Oxford University\", \"subcollection\": \"Pitt Rivers Museum\", \"sector\": \"university\", \"type\": \"museum\", \"topic\": \"anthopology\", \"precision\": \"estimate\", \"artefact_count\": 500000}, {\"institution\": \"Oxford University\", \"subcollection\": \"Bodleian Library\", \"sector\": \"university\", \"type\": \"library\", \"topic\": \"national\", \"precision\": \"estimate\", \"artefact_count\": 13000000}, {\"institution\": \"Oxford University\", \"subcollection\": \"History of Science Museum\", \"sector\": \"university\", \"type\": \"museum\", \"topic\": \"science\", \"precision\": \"estimate\", \"artefact_count\": 1000000}, {\"institution\": \"University of Cambridge\", \"subcollection\": \"Museum of Zoology\", \"sector\": \"university\", \"type\": \"museum\", \"topic\": \"mixed\", \"precision\": \"estimate\", \"artefact_count\": 2000000}, {\"institution\": \"University of Cambridge\", \"subcollection\": \"Sedgewick Museum of Earth Sciences\", \"sector\": \"university\", \"type\": \"museum\", \"topic\": \"mixed\", \"precision\": \"estimate\", \"artefact_count\": 2000000}, {\"institution\": \"University of Cambridge\", \"subcollection\": \"Whipple Museum of the History of Science\", \"sector\": \"university\", \"type\": \"museum\", \"topic\": \"science\", \"precision\": \"estimate\", \"artefact_count\": 7000}, {\"institution\": \"Royal College of Surgeons\", \"subcollection\": \"Hunterian Museum\", \"sector\": \"university\", \"type\": \"museum\", \"topic\": \"medicine\", \"precision\": \"estimate\", \"artefact_count\": 3500}, {\"institution\": \"Amgueddfa Cymru (National Museum Wales)\", \"subcollection\": \"Archaeology & Numismatics\", \"sector\": \"national\", \"type\": \"museum\", \"topic\": \"history\", \"precision\": \"estimate\", \"artefact_count\": 1306174}, {\"institution\": \"Amgueddfa Cymru (National Museum Wales)\", \"subcollection\": \"Art\", \"sector\": \"national\", \"type\": \"museum\", \"topic\": \"art\", \"precision\": \"estimate\", \"artefact_count\": 46785}, {\"institution\": \"Amgueddfa Cymru (National Museum Wales)\", \"subcollection\": \"Natural Sciences\", \"sector\": \"national\", \"type\": \"museum\", \"topic\": \"natural-history\", \"precision\": \"estimate\", \"artefact_count\": 3018657}, {\"institution\": \"Amgueddfa Cymru (National Museum Wales)\", \"subcollection\": \"National Wool Museum\", \"sector\": \"national\", \"type\": \"museum\", \"topic\": \"industry\", \"precision\": \"estimate\", \"artefact_count\": 12000}, {\"institution\": \"Amgueddfa Cymru (National Museum Wales)\", \"subcollection\": \"Industry\", \"sector\": \"national\", \"type\": \"museum\", \"topic\": \"industry\", \"precision\": \"estimate\", \"artefact_count\": 268977}, {\"institution\": \"Amgueddfa Cymru (National Museum Wales)\", \"subcollection\": \"Library\", \"sector\": \"national\", \"type\": \"library\", \"topic\": \"mixed\", \"precision\": \"estimate\", \"artefact_count\": 265159}, {\"institution\": \"Amgueddfa Cymru (National Museum Wales)\", \"subcollection\": \"Social & Cultural History\", \"sector\": \"national\", \"type\": \"museum\", \"topic\": \"social\", \"precision\": \"estimate\", \"artefact_count\": 401833}, {\"institution\": \"Historic Royal Palaces\", \"subcollection\": \"Royal Ceremonial Dress Collection\", \"sector\": \"national\", \"type\": \"museum\", \"topic\": \"fashion\", \"precision\": \"estimate\", \"artefact_count\": 11000}, {\"institution\": \"Historic Royal Palaces\", \"subcollection\": \"General Collection\", \"sector\": \"national\", \"type\": \"museum\", \"topic\": \"art\", \"precision\": \"estimate\", \"artefact_count\": 10000}, {\"institution\": \"Historic Royal Palaces\", \"subcollection\": \"Architectural drawings archive\", \"sector\": \"national\", \"type\": \"archive\", \"topic\": \"architecture\", \"precision\": \"estimate\", \"artefact_count\": 22000}, {\"institution\": \"Historic Royal Palaces\", \"subcollection\": \"Architectural/Archaeological Materials\", \"sector\": \"national\", \"type\": \"archive\", \"topic\": \"architecture\", \"precision\": \"estimate\", \"artefact_count\": 10000}, {\"institution\": \"National Tramway Museum\", \"subcollection\": \"Tramcar and tramway vehicle collection\", \"sector\": \"national\", \"type\": \"museum\", \"topic\": \"transport\", \"precision\": \"estimate\", \"artefact_count\": 90}, {\"institution\": \"National Tramway Museum\", \"subcollection\": \"Technical Drawings\", \"sector\": \"national\", \"type\": \"museum\", \"topic\": \"transport\", \"precision\": \"estimate\", \"artefact_count\": 6000}, {\"institution\": \"National Tramway Museum\", \"subcollection\": \"Ephemera\", \"sector\": \"national\", \"type\": \"museum\", \"topic\": \"transport\", \"precision\": \"estimate\", \"artefact_count\": 40000}, {\"institution\": \"National Tramway Museum\", \"subcollection\": \"Cine Film\", \"sector\": \"national\", \"type\": \"museum\", \"topic\": \"transport\", \"precision\": \"estimate\", \"artefact_count\": 600}, {\"institution\": \"Museum of Lead Mining\", \"subcollection\": \"Miners' Library Collection\", \"sector\": \"independent\", \"type\": \"library\", \"topic\": \"industry\", \"precision\": \"estimate\", \"artefact_count\": 2572}, {\"institution\": \"Museum of Scottish Railways\", \"subcollection\": \"Small Objects\", \"sector\": \"independent\", \"type\": \"museum\", \"topic\": \"industry\", \"precision\": \"estimate\", \"artefact_count\": 50000}, {\"institution\": \"Birmingham Museums Trust\", \"subcollection\": \"Art & Design Collection\", \"sector\": \"regional\", \"type\": \"museum\", \"topic\": \"art\", \"precision\": \"estimate\", \"artefact_count\": 58805}, {\"institution\": \"Birmingham Museums Trust\", \"subcollection\": \"Art & Design Collection\", \"sector\": \"regional\", \"type\": \"museum\", \"topic\": \"history\", \"precision\": \"estimate\", \"artefact_count\": 230000}, {\"institution\": \"Birmingham Museums Trust\", \"subcollection\": \"Natural Science Collection\", \"sector\": \"regional\", \"type\": \"museum\", \"topic\": \"natural-history\", \"precision\": \"estimate\", \"artefact_count\": 250000}, {\"institution\": \"Birmingham Museums Trust\", \"subcollection\": \"Science and Industry Collection\", \"sector\": \"regional\", \"type\": \"museum\", \"topic\": \"industry\", \"precision\": \"estimate\", \"artefact_count\": 40000}, {\"institution\": \"Culture Coventry\", \"subcollection\": \"Herbert Art Gallery & Museum\", \"sector\": \"regional\", \"type\": \"museum\", \"topic\": \"mixed\", \"precision\": \"estimate\", \"artefact_count\": 320000}, {\"institution\": \"Heritage Doncaster\", \"subcollection\": \"Fine Art Collection\", \"sector\": \"regional\", \"type\": \"museum\", \"topic\": \"art\", \"precision\": \"estimate\", \"artefact_count\": 1750}, {\"institution\": \"Heritage Doncaster\", \"subcollection\": \"Social History Collection\", \"sector\": \"regional\", \"type\": \"museum\", \"topic\": \"social\", \"precision\": \"estimate\", \"artefact_count\": 20000}, {\"institution\": \"Heritage Doncaster\", \"subcollection\": \"Decorative Art Collection\", \"sector\": \"regional\", \"type\": \"museum\", \"topic\": \"art\", \"precision\": \"estimate\", \"artefact_count\": 5000}, {\"institution\": \"Heritage Doncaster\", \"subcollection\": \"Natural Sciences Collection\", \"sector\": \"regional\", \"type\": \"museum\", \"topic\": \"art\", \"precision\": \"estimate\", \"artefact_count\": 380000}, {\"institution\": \"Leeds Museums & Galleries\", \"subcollection\": \"Natural Science Collection\", \"sector\": \"regional\", \"type\": \"museum\", \"topic\": \"nature\", \"precision\": \"estimate\", \"artefact_count\": 800000}, {\"institution\": \"Leeds Museums & Galleries\", \"subcollection\": \"Social History Collection\", \"sector\": \"regional\", \"type\": \"museum\", \"topic\": \"social\", \"precision\": \"estimate\", \"artefact_count\": 100000}, {\"institution\": \"Leeds Museums & Galleries\", \"subcollection\": \"World Cultures\", \"sector\": \"regional\", \"type\": \"museum\", \"topic\": \"history\", \"precision\": \"estimate\", \"artefact_count\": 12000}, {\"institution\": \"Northhampton Museums\", \"subcollection\": \"Ethnography\", \"sector\": \"regional\", \"type\": \"museum\", \"topic\": \"social\", \"precision\": \"estimate\", \"artefact_count\": 524}, {\"institution\": \"Northhampton Museums\", \"subcollection\": \"Geology\", \"sector\": \"regional\", \"type\": \"museum\", \"topic\": \"geology\", \"precision\": \"estimate\", \"artefact_count\": 40000}, {\"institution\": \"Northhampton Museums\", \"subcollection\": \"Fine Art\", \"sector\": \"regional\", \"type\": \"museum\", \"topic\": \"art\", \"precision\": \"estimate\", \"artefact_count\": 3500}]}}, {\"mode\": \"vega-lite\"});\n",
       "</script>"
      ],
      "text/plain": [
       "alt.Chart(...)"
      ]
     },
     "execution_count": 22,
     "metadata": {},
     "output_type": "execute_result"
    }
   ],
   "source": [
    "title = alt.TitleParams('Collection Size (Artefacts) by topic', anchor='middle')\n",
    "alt.Chart(artefacts_sub_df,title=title).mark_bar().encode(\n",
    "    alt.Color('institution:N').legend(orient=\"bottom\", titleOrient=\"left\", columns=4),\n",
    "    x='artefact_count:Q',\n",
    "    tooltip=['institution','subcollection'],\n",
    "    y='topic:N',\n",
    "    column='sector:N'\n",
    ").properties(width=220).resolve_scale(x='independent').configure(numberFormat='.2s')"
   ]
  },
  {
   "cell_type": "markdown",
   "id": "888966f6-fa13-4280-ab38-cd5b374a2bee",
   "metadata": {},
   "source": [
    "## Artefacts  by precision"
   ]
  },
  {
   "cell_type": "code",
   "execution_count": 23,
   "id": "f3d67ee1-989d-4883-8137-715e6c40f660",
   "metadata": {
    "editable": true,
    "slideshow": {
     "slide_type": ""
    },
    "tags": [
     "remove-input"
    ]
   },
   "outputs": [
    {
     "data": {
      "text/html": [
       "\n",
       "<style>\n",
       "  #altair-viz-6172b3171cfe4ef295129f22627d47d9.vega-embed {\n",
       "    width: 100%;\n",
       "    display: flex;\n",
       "  }\n",
       "\n",
       "  #altair-viz-6172b3171cfe4ef295129f22627d47d9.vega-embed details,\n",
       "  #altair-viz-6172b3171cfe4ef295129f22627d47d9.vega-embed details summary {\n",
       "    position: relative;\n",
       "  }\n",
       "</style>\n",
       "<div id=\"altair-viz-6172b3171cfe4ef295129f22627d47d9\"></div>\n",
       "<script type=\"text/javascript\">\n",
       "  var VEGA_DEBUG = (typeof VEGA_DEBUG == \"undefined\") ? {} : VEGA_DEBUG;\n",
       "  (function(spec, embedOpt){\n",
       "    let outputDiv = document.currentScript.previousElementSibling;\n",
       "    if (outputDiv.id !== \"altair-viz-6172b3171cfe4ef295129f22627d47d9\") {\n",
       "      outputDiv = document.getElementById(\"altair-viz-6172b3171cfe4ef295129f22627d47d9\");\n",
       "    }\n",
       "    const paths = {\n",
       "      \"vega\": \"https://cdn.jsdelivr.net/npm/vega@5?noext\",\n",
       "      \"vega-lib\": \"https://cdn.jsdelivr.net/npm/vega-lib?noext\",\n",
       "      \"vega-lite\": \"https://cdn.jsdelivr.net/npm/vega-lite@5.17.0?noext\",\n",
       "      \"vega-embed\": \"https://cdn.jsdelivr.net/npm/vega-embed@6?noext\",\n",
       "    };\n",
       "\n",
       "    function maybeLoadScript(lib, version) {\n",
       "      var key = `${lib.replace(\"-\", \"\")}_version`;\n",
       "      return (VEGA_DEBUG[key] == version) ?\n",
       "        Promise.resolve(paths[lib]) :\n",
       "        new Promise(function(resolve, reject) {\n",
       "          var s = document.createElement('script');\n",
       "          document.getElementsByTagName(\"head\")[0].appendChild(s);\n",
       "          s.async = true;\n",
       "          s.onload = () => {\n",
       "            VEGA_DEBUG[key] = version;\n",
       "            return resolve(paths[lib]);\n",
       "          };\n",
       "          s.onerror = () => reject(`Error loading script: ${paths[lib]}`);\n",
       "          s.src = paths[lib];\n",
       "        });\n",
       "    }\n",
       "\n",
       "    function showError(err) {\n",
       "      outputDiv.innerHTML = `<div class=\"error\" style=\"color:red;\">${err}</div>`;\n",
       "      throw err;\n",
       "    }\n",
       "\n",
       "    function displayChart(vegaEmbed) {\n",
       "      vegaEmbed(outputDiv, spec, embedOpt)\n",
       "        .catch(err => showError(`Javascript Error: ${err.message}<br>This usually means there's a typo in your chart specification. See the javascript console for the full traceback.`));\n",
       "    }\n",
       "\n",
       "    if(typeof define === \"function\" && define.amd) {\n",
       "      requirejs.config({paths});\n",
       "      require([\"vega-embed\"], displayChart, err => showError(`Error loading script: ${err.message}`));\n",
       "    } else {\n",
       "      maybeLoadScript(\"vega\", \"5\")\n",
       "        .then(() => maybeLoadScript(\"vega-lite\", \"5.17.0\"))\n",
       "        .then(() => maybeLoadScript(\"vega-embed\", \"6\"))\n",
       "        .catch(showError)\n",
       "        .then(() => displayChart(vegaEmbed));\n",
       "    }\n",
       "  })({\"config\": {\"view\": {\"continuousWidth\": 300, \"continuousHeight\": 300}}, \"data\": {\"name\": \"data-3d8075c84e0361c60a1345eaa0c7b23a\"}, \"mark\": {\"type\": \"bar\"}, \"encoding\": {\"color\": {\"field\": \"institution\", \"legend\": {\"orient\": \"bottom\", \"titleOrient\": \"left\", \"columns\": 4}, \"sort\": \"descending\", \"type\": \"nominal\"}, \"column\": {\"field\": \"precision\", \"type\": \"ordinal\"}, \"tooltip\": [{\"field\": \"institution\", \"type\": \"nominal\"}, {\"field\": \"subcollection\", \"type\": \"nominal\"}], \"x\": {\"field\": \"artefact_count\", \"type\": \"quantitative\"}, \"y\": {\"field\": \"topic\", \"type\": \"nominal\"}}, \"resolve\": {\"scale\": {\"x\": \"independent\"}}, \"title\": {\"text\": \"Collection Size (Artefact Records) by precision\", \"anchor\": \"middle\"}, \"width\": 220, \"$schema\": \"https://vega.github.io/schema/vega-lite/v5.17.0.json\", \"datasets\": {\"data-3d8075c84e0361c60a1345eaa0c7b23a\": [{\"institution\": \"Oxford University\", \"subcollection\": \"Ashmolean Museum\", \"sector\": \"university\", \"type\": \"museum\", \"topic\": \"art\", \"precision\": \"estimate\", \"artefact_count\": 1000000}, {\"institution\": \"Oxford University\", \"subcollection\": \"History of Science Museum\", \"sector\": \"university\", \"type\": \"museum\", \"topic\": \"science\", \"precision\": \"estimate\", \"artefact_count\": 30000}, {\"institution\": \"Oxford University\", \"subcollection\": \"Museum of Natural History\", \"sector\": \"university\", \"type\": \"museum\", \"topic\": \"nature\", \"precision\": \"estimate\", \"artefact_count\": 7000000}, {\"institution\": \"Oxford University\", \"subcollection\": \"Pitt Rivers Museum\", \"sector\": \"university\", \"type\": \"museum\", \"topic\": \"anthopology\", \"precision\": \"estimate\", \"artefact_count\": 500000}, {\"institution\": \"Oxford University\", \"subcollection\": \"Bodleian Library\", \"sector\": \"university\", \"type\": \"library\", \"topic\": \"national\", \"precision\": \"estimate\", \"artefact_count\": 13000000}, {\"institution\": \"Oxford University\", \"subcollection\": \"History of Science Museum\", \"sector\": \"university\", \"type\": \"museum\", \"topic\": \"science\", \"precision\": \"estimate\", \"artefact_count\": 1000000}, {\"institution\": \"University of Cambridge\", \"subcollection\": \"Museum of Zoology\", \"sector\": \"university\", \"type\": \"museum\", \"topic\": \"mixed\", \"precision\": \"estimate\", \"artefact_count\": 2000000}, {\"institution\": \"University of Cambridge\", \"subcollection\": \"Sedgewick Museum of Earth Sciences\", \"sector\": \"university\", \"type\": \"museum\", \"topic\": \"mixed\", \"precision\": \"estimate\", \"artefact_count\": 2000000}, {\"institution\": \"University of Cambridge\", \"subcollection\": \"Whipple Museum of the History of Science\", \"sector\": \"university\", \"type\": \"museum\", \"topic\": \"science\", \"precision\": \"estimate\", \"artefact_count\": 7000}, {\"institution\": \"Royal College of Surgeons\", \"subcollection\": \"Hunterian Museum\", \"sector\": \"university\", \"type\": \"museum\", \"topic\": \"medicine\", \"precision\": \"estimate\", \"artefact_count\": 3500}, {\"institution\": \"Amgueddfa Cymru (National Museum Wales)\", \"subcollection\": \"Archaeology & Numismatics\", \"sector\": \"national\", \"type\": \"museum\", \"topic\": \"history\", \"precision\": \"estimate\", \"artefact_count\": 1306174}, {\"institution\": \"Amgueddfa Cymru (National Museum Wales)\", \"subcollection\": \"Art\", \"sector\": \"national\", \"type\": \"museum\", \"topic\": \"art\", \"precision\": \"estimate\", \"artefact_count\": 46785}, {\"institution\": \"Amgueddfa Cymru (National Museum Wales)\", \"subcollection\": \"Natural Sciences\", \"sector\": \"national\", \"type\": \"museum\", \"topic\": \"natural-history\", \"precision\": \"estimate\", \"artefact_count\": 3018657}, {\"institution\": \"Amgueddfa Cymru (National Museum Wales)\", \"subcollection\": \"National Wool Museum\", \"sector\": \"national\", \"type\": \"museum\", \"topic\": \"industry\", \"precision\": \"estimate\", \"artefact_count\": 12000}, {\"institution\": \"Amgueddfa Cymru (National Museum Wales)\", \"subcollection\": \"Industry\", \"sector\": \"national\", \"type\": \"museum\", \"topic\": \"industry\", \"precision\": \"estimate\", \"artefact_count\": 268977}, {\"institution\": \"Amgueddfa Cymru (National Museum Wales)\", \"subcollection\": \"Library\", \"sector\": \"national\", \"type\": \"library\", \"topic\": \"mixed\", \"precision\": \"estimate\", \"artefact_count\": 265159}, {\"institution\": \"Amgueddfa Cymru (National Museum Wales)\", \"subcollection\": \"Social & Cultural History\", \"sector\": \"national\", \"type\": \"museum\", \"topic\": \"social\", \"precision\": \"estimate\", \"artefact_count\": 401833}, {\"institution\": \"Historic Royal Palaces\", \"subcollection\": \"Royal Ceremonial Dress Collection\", \"sector\": \"national\", \"type\": \"museum\", \"topic\": \"fashion\", \"precision\": \"estimate\", \"artefact_count\": 11000}, {\"institution\": \"Historic Royal Palaces\", \"subcollection\": \"General Collection\", \"sector\": \"national\", \"type\": \"museum\", \"topic\": \"art\", \"precision\": \"estimate\", \"artefact_count\": 10000}, {\"institution\": \"Historic Royal Palaces\", \"subcollection\": \"Architectural drawings archive\", \"sector\": \"national\", \"type\": \"archive\", \"topic\": \"architecture\", \"precision\": \"estimate\", \"artefact_count\": 22000}, {\"institution\": \"Historic Royal Palaces\", \"subcollection\": \"Architectural/Archaeological Materials\", \"sector\": \"national\", \"type\": \"archive\", \"topic\": \"architecture\", \"precision\": \"estimate\", \"artefact_count\": 10000}, {\"institution\": \"National Tramway Museum\", \"subcollection\": \"Tramcar and tramway vehicle collection\", \"sector\": \"national\", \"type\": \"museum\", \"topic\": \"transport\", \"precision\": \"estimate\", \"artefact_count\": 90}, {\"institution\": \"National Tramway Museum\", \"subcollection\": \"Technical Drawings\", \"sector\": \"national\", \"type\": \"museum\", \"topic\": \"transport\", \"precision\": \"estimate\", \"artefact_count\": 6000}, {\"institution\": \"National Tramway Museum\", \"subcollection\": \"Ephemera\", \"sector\": \"national\", \"type\": \"museum\", \"topic\": \"transport\", \"precision\": \"estimate\", \"artefact_count\": 40000}, {\"institution\": \"National Tramway Museum\", \"subcollection\": \"Cine Film\", \"sector\": \"national\", \"type\": \"museum\", \"topic\": \"transport\", \"precision\": \"estimate\", \"artefact_count\": 600}, {\"institution\": \"Museum of Lead Mining\", \"subcollection\": \"Miners' Library Collection\", \"sector\": \"independent\", \"type\": \"library\", \"topic\": \"industry\", \"precision\": \"estimate\", \"artefact_count\": 2572}, {\"institution\": \"Museum of Scottish Railways\", \"subcollection\": \"Small Objects\", \"sector\": \"independent\", \"type\": \"museum\", \"topic\": \"industry\", \"precision\": \"estimate\", \"artefact_count\": 50000}, {\"institution\": \"Birmingham Museums Trust\", \"subcollection\": \"Art & Design Collection\", \"sector\": \"regional\", \"type\": \"museum\", \"topic\": \"art\", \"precision\": \"estimate\", \"artefact_count\": 58805}, {\"institution\": \"Birmingham Museums Trust\", \"subcollection\": \"Art & Design Collection\", \"sector\": \"regional\", \"type\": \"museum\", \"topic\": \"history\", \"precision\": \"estimate\", \"artefact_count\": 230000}, {\"institution\": \"Birmingham Museums Trust\", \"subcollection\": \"Natural Science Collection\", \"sector\": \"regional\", \"type\": \"museum\", \"topic\": \"natural-history\", \"precision\": \"estimate\", \"artefact_count\": 250000}, {\"institution\": \"Birmingham Museums Trust\", \"subcollection\": \"Science and Industry Collection\", \"sector\": \"regional\", \"type\": \"museum\", \"topic\": \"industry\", \"precision\": \"estimate\", \"artefact_count\": 40000}, {\"institution\": \"Culture Coventry\", \"subcollection\": \"Herbert Art Gallery & Museum\", \"sector\": \"regional\", \"type\": \"museum\", \"topic\": \"mixed\", \"precision\": \"estimate\", \"artefact_count\": 320000}, {\"institution\": \"Heritage Doncaster\", \"subcollection\": \"Fine Art Collection\", \"sector\": \"regional\", \"type\": \"museum\", \"topic\": \"art\", \"precision\": \"estimate\", \"artefact_count\": 1750}, {\"institution\": \"Heritage Doncaster\", \"subcollection\": \"Social History Collection\", \"sector\": \"regional\", \"type\": \"museum\", \"topic\": \"social\", \"precision\": \"estimate\", \"artefact_count\": 20000}, {\"institution\": \"Heritage Doncaster\", \"subcollection\": \"Decorative Art Collection\", \"sector\": \"regional\", \"type\": \"museum\", \"topic\": \"art\", \"precision\": \"estimate\", \"artefact_count\": 5000}, {\"institution\": \"Heritage Doncaster\", \"subcollection\": \"Natural Sciences Collection\", \"sector\": \"regional\", \"type\": \"museum\", \"topic\": \"art\", \"precision\": \"estimate\", \"artefact_count\": 380000}, {\"institution\": \"Leeds Museums & Galleries\", \"subcollection\": \"Natural Science Collection\", \"sector\": \"regional\", \"type\": \"museum\", \"topic\": \"nature\", \"precision\": \"estimate\", \"artefact_count\": 800000}, {\"institution\": \"Leeds Museums & Galleries\", \"subcollection\": \"Social History Collection\", \"sector\": \"regional\", \"type\": \"museum\", \"topic\": \"social\", \"precision\": \"estimate\", \"artefact_count\": 100000}, {\"institution\": \"Leeds Museums & Galleries\", \"subcollection\": \"World Cultures\", \"sector\": \"regional\", \"type\": \"museum\", \"topic\": \"history\", \"precision\": \"estimate\", \"artefact_count\": 12000}, {\"institution\": \"Northhampton Museums\", \"subcollection\": \"Ethnography\", \"sector\": \"regional\", \"type\": \"museum\", \"topic\": \"social\", \"precision\": \"estimate\", \"artefact_count\": 524}, {\"institution\": \"Northhampton Museums\", \"subcollection\": \"Geology\", \"sector\": \"regional\", \"type\": \"museum\", \"topic\": \"geology\", \"precision\": \"estimate\", \"artefact_count\": 40000}, {\"institution\": \"Northhampton Museums\", \"subcollection\": \"Fine Art\", \"sector\": \"regional\", \"type\": \"museum\", \"topic\": \"art\", \"precision\": \"estimate\", \"artefact_count\": 3500}]}}, {\"mode\": \"vega-lite\"});\n",
       "</script>"
      ],
      "text/plain": [
       "alt.Chart(...)"
      ]
     },
     "execution_count": 23,
     "metadata": {},
     "output_type": "execute_result"
    }
   ],
   "source": [
    "title = alt.TitleParams('Collection Size (Artefact) by precision', anchor='middle')\n",
    "alt.Chart(artefacts_sub_df, title=title).mark_bar().encode(\n",
    "    column='precision:O',\n",
    "    x='artefact_count:Q',\n",
    "    y='topic:N',\n",
    "    tooltip=['institution','subcollection'],\n",
    "    color=alt.Color('institution:N', sort='descending').legend(orient=\"bottom\", titleOrient=\"left\", columns=4)\n",
    ").properties(width=220).resolve_scale(x='independent')"
   ]
  },
  {
   "cell_type": "markdown",
   "id": "159df40c-d06b-45c6-84c6-4c13dcec45a8",
   "metadata": {
    "editable": true,
    "slideshow": {
     "slide_type": ""
    },
    "tags": []
   },
   "source": [
    "## Artefacts per institution by named sub-collections"
   ]
  },
  {
   "cell_type": "code",
   "execution_count": 25,
   "id": "c49e1b03-7f64-442d-829e-cdcaca2f0fed",
   "metadata": {
    "editable": true,
    "slideshow": {
     "slide_type": ""
    },
    "tags": [
     "remove-input"
    ]
   },
   "outputs": [
    {
     "data": {
      "text/html": [
       "\n",
       "<style>\n",
       "  #altair-viz-a3d6d5252a90497bb67ffde941c6ac4d.vega-embed {\n",
       "    width: 100%;\n",
       "    display: flex;\n",
       "  }\n",
       "\n",
       "  #altair-viz-a3d6d5252a90497bb67ffde941c6ac4d.vega-embed details,\n",
       "  #altair-viz-a3d6d5252a90497bb67ffde941c6ac4d.vega-embed details summary {\n",
       "    position: relative;\n",
       "  }\n",
       "</style>\n",
       "<div id=\"altair-viz-a3d6d5252a90497bb67ffde941c6ac4d\"></div>\n",
       "<script type=\"text/javascript\">\n",
       "  var VEGA_DEBUG = (typeof VEGA_DEBUG == \"undefined\") ? {} : VEGA_DEBUG;\n",
       "  (function(spec, embedOpt){\n",
       "    let outputDiv = document.currentScript.previousElementSibling;\n",
       "    if (outputDiv.id !== \"altair-viz-a3d6d5252a90497bb67ffde941c6ac4d\") {\n",
       "      outputDiv = document.getElementById(\"altair-viz-a3d6d5252a90497bb67ffde941c6ac4d\");\n",
       "    }\n",
       "    const paths = {\n",
       "      \"vega\": \"https://cdn.jsdelivr.net/npm/vega@5?noext\",\n",
       "      \"vega-lib\": \"https://cdn.jsdelivr.net/npm/vega-lib?noext\",\n",
       "      \"vega-lite\": \"https://cdn.jsdelivr.net/npm/vega-lite@5.17.0?noext\",\n",
       "      \"vega-embed\": \"https://cdn.jsdelivr.net/npm/vega-embed@6?noext\",\n",
       "    };\n",
       "\n",
       "    function maybeLoadScript(lib, version) {\n",
       "      var key = `${lib.replace(\"-\", \"\")}_version`;\n",
       "      return (VEGA_DEBUG[key] == version) ?\n",
       "        Promise.resolve(paths[lib]) :\n",
       "        new Promise(function(resolve, reject) {\n",
       "          var s = document.createElement('script');\n",
       "          document.getElementsByTagName(\"head\")[0].appendChild(s);\n",
       "          s.async = true;\n",
       "          s.onload = () => {\n",
       "            VEGA_DEBUG[key] = version;\n",
       "            return resolve(paths[lib]);\n",
       "          };\n",
       "          s.onerror = () => reject(`Error loading script: ${paths[lib]}`);\n",
       "          s.src = paths[lib];\n",
       "        });\n",
       "    }\n",
       "\n",
       "    function showError(err) {\n",
       "      outputDiv.innerHTML = `<div class=\"error\" style=\"color:red;\">${err}</div>`;\n",
       "      throw err;\n",
       "    }\n",
       "\n",
       "    function displayChart(vegaEmbed) {\n",
       "      vegaEmbed(outputDiv, spec, embedOpt)\n",
       "        .catch(err => showError(`Javascript Error: ${err.message}<br>This usually means there's a typo in your chart specification. See the javascript console for the full traceback.`));\n",
       "    }\n",
       "\n",
       "    if(typeof define === \"function\" && define.amd) {\n",
       "      requirejs.config({paths});\n",
       "      require([\"vega-embed\"], displayChart, err => showError(`Error loading script: ${err.message}`));\n",
       "    } else {\n",
       "      maybeLoadScript(\"vega\", \"5\")\n",
       "        .then(() => maybeLoadScript(\"vega-lite\", \"5.17.0\"))\n",
       "        .then(() => maybeLoadScript(\"vega-embed\", \"6\"))\n",
       "        .catch(showError)\n",
       "        .then(() => displayChart(vegaEmbed));\n",
       "    }\n",
       "  })({\"config\": {\"view\": {\"continuousWidth\": 300, \"continuousHeight\": 300}, \"numberFormat\": \".2s\"}, \"data\": {\"name\": \"data-3d8075c84e0361c60a1345eaa0c7b23a\"}, \"mark\": {\"type\": \"bar\"}, \"encoding\": {\"color\": {\"field\": \"subcollection\", \"legend\": {\"orient\": \"bottom\", \"columns\": 4, \"titleOrient\": \"left\"}, \"type\": \"nominal\"}, \"column\": {\"field\": \"precision\", \"type\": \"ordinal\"}, \"tooltip\": [{\"field\": \"institution\", \"type\": \"nominal\"}, {\"field\": \"subcollection\", \"type\": \"nominal\"}, {\"field\": \"artefact_count\", \"type\": \"quantitative\"}], \"x\": {\"field\": \"artefact_count\", \"type\": \"quantitative\"}, \"y\": {\"field\": \"institution\", \"type\": \"nominal\"}}, \"resolve\": {\"scale\": {\"x\": \"independent\"}}, \"title\": {\"text\": \"Artefacts per institution by named sub-collections\", \"anchor\": \"middle\"}, \"width\": 250, \"$schema\": \"https://vega.github.io/schema/vega-lite/v5.17.0.json\", \"datasets\": {\"data-3d8075c84e0361c60a1345eaa0c7b23a\": [{\"institution\": \"Oxford University\", \"subcollection\": \"Ashmolean Museum\", \"sector\": \"university\", \"type\": \"museum\", \"topic\": \"art\", \"precision\": \"estimate\", \"artefact_count\": 1000000}, {\"institution\": \"Oxford University\", \"subcollection\": \"History of Science Museum\", \"sector\": \"university\", \"type\": \"museum\", \"topic\": \"science\", \"precision\": \"estimate\", \"artefact_count\": 30000}, {\"institution\": \"Oxford University\", \"subcollection\": \"Museum of Natural History\", \"sector\": \"university\", \"type\": \"museum\", \"topic\": \"nature\", \"precision\": \"estimate\", \"artefact_count\": 7000000}, {\"institution\": \"Oxford University\", \"subcollection\": \"Pitt Rivers Museum\", \"sector\": \"university\", \"type\": \"museum\", \"topic\": \"anthopology\", \"precision\": \"estimate\", \"artefact_count\": 500000}, {\"institution\": \"Oxford University\", \"subcollection\": \"Bodleian Library\", \"sector\": \"university\", \"type\": \"library\", \"topic\": \"national\", \"precision\": \"estimate\", \"artefact_count\": 13000000}, {\"institution\": \"Oxford University\", \"subcollection\": \"History of Science Museum\", \"sector\": \"university\", \"type\": \"museum\", \"topic\": \"science\", \"precision\": \"estimate\", \"artefact_count\": 1000000}, {\"institution\": \"University of Cambridge\", \"subcollection\": \"Museum of Zoology\", \"sector\": \"university\", \"type\": \"museum\", \"topic\": \"mixed\", \"precision\": \"estimate\", \"artefact_count\": 2000000}, {\"institution\": \"University of Cambridge\", \"subcollection\": \"Sedgewick Museum of Earth Sciences\", \"sector\": \"university\", \"type\": \"museum\", \"topic\": \"mixed\", \"precision\": \"estimate\", \"artefact_count\": 2000000}, {\"institution\": \"University of Cambridge\", \"subcollection\": \"Whipple Museum of the History of Science\", \"sector\": \"university\", \"type\": \"museum\", \"topic\": \"science\", \"precision\": \"estimate\", \"artefact_count\": 7000}, {\"institution\": \"Royal College of Surgeons\", \"subcollection\": \"Hunterian Museum\", \"sector\": \"university\", \"type\": \"museum\", \"topic\": \"medicine\", \"precision\": \"estimate\", \"artefact_count\": 3500}, {\"institution\": \"Amgueddfa Cymru (National Museum Wales)\", \"subcollection\": \"Archaeology & Numismatics\", \"sector\": \"national\", \"type\": \"museum\", \"topic\": \"history\", \"precision\": \"estimate\", \"artefact_count\": 1306174}, {\"institution\": \"Amgueddfa Cymru (National Museum Wales)\", \"subcollection\": \"Art\", \"sector\": \"national\", \"type\": \"museum\", \"topic\": \"art\", \"precision\": \"estimate\", \"artefact_count\": 46785}, {\"institution\": \"Amgueddfa Cymru (National Museum Wales)\", \"subcollection\": \"Natural Sciences\", \"sector\": \"national\", \"type\": \"museum\", \"topic\": \"natural-history\", \"precision\": \"estimate\", \"artefact_count\": 3018657}, {\"institution\": \"Amgueddfa Cymru (National Museum Wales)\", \"subcollection\": \"National Wool Museum\", \"sector\": \"national\", \"type\": \"museum\", \"topic\": \"industry\", \"precision\": \"estimate\", \"artefact_count\": 12000}, {\"institution\": \"Amgueddfa Cymru (National Museum Wales)\", \"subcollection\": \"Industry\", \"sector\": \"national\", \"type\": \"museum\", \"topic\": \"industry\", \"precision\": \"estimate\", \"artefact_count\": 268977}, {\"institution\": \"Amgueddfa Cymru (National Museum Wales)\", \"subcollection\": \"Library\", \"sector\": \"national\", \"type\": \"library\", \"topic\": \"mixed\", \"precision\": \"estimate\", \"artefact_count\": 265159}, {\"institution\": \"Amgueddfa Cymru (National Museum Wales)\", \"subcollection\": \"Social & Cultural History\", \"sector\": \"national\", \"type\": \"museum\", \"topic\": \"social\", \"precision\": \"estimate\", \"artefact_count\": 401833}, {\"institution\": \"Historic Royal Palaces\", \"subcollection\": \"Royal Ceremonial Dress Collection\", \"sector\": \"national\", \"type\": \"museum\", \"topic\": \"fashion\", \"precision\": \"estimate\", \"artefact_count\": 11000}, {\"institution\": \"Historic Royal Palaces\", \"subcollection\": \"General Collection\", \"sector\": \"national\", \"type\": \"museum\", \"topic\": \"art\", \"precision\": \"estimate\", \"artefact_count\": 10000}, {\"institution\": \"Historic Royal Palaces\", \"subcollection\": \"Architectural drawings archive\", \"sector\": \"national\", \"type\": \"archive\", \"topic\": \"architecture\", \"precision\": \"estimate\", \"artefact_count\": 22000}, {\"institution\": \"Historic Royal Palaces\", \"subcollection\": \"Architectural/Archaeological Materials\", \"sector\": \"national\", \"type\": \"archive\", \"topic\": \"architecture\", \"precision\": \"estimate\", \"artefact_count\": 10000}, {\"institution\": \"National Tramway Museum\", \"subcollection\": \"Tramcar and tramway vehicle collection\", \"sector\": \"national\", \"type\": \"museum\", \"topic\": \"transport\", \"precision\": \"estimate\", \"artefact_count\": 90}, {\"institution\": \"National Tramway Museum\", \"subcollection\": \"Technical Drawings\", \"sector\": \"national\", \"type\": \"museum\", \"topic\": \"transport\", \"precision\": \"estimate\", \"artefact_count\": 6000}, {\"institution\": \"National Tramway Museum\", \"subcollection\": \"Ephemera\", \"sector\": \"national\", \"type\": \"museum\", \"topic\": \"transport\", \"precision\": \"estimate\", \"artefact_count\": 40000}, {\"institution\": \"National Tramway Museum\", \"subcollection\": \"Cine Film\", \"sector\": \"national\", \"type\": \"museum\", \"topic\": \"transport\", \"precision\": \"estimate\", \"artefact_count\": 600}, {\"institution\": \"Museum of Lead Mining\", \"subcollection\": \"Miners' Library Collection\", \"sector\": \"independent\", \"type\": \"library\", \"topic\": \"industry\", \"precision\": \"estimate\", \"artefact_count\": 2572}, {\"institution\": \"Museum of Scottish Railways\", \"subcollection\": \"Small Objects\", \"sector\": \"independent\", \"type\": \"museum\", \"topic\": \"industry\", \"precision\": \"estimate\", \"artefact_count\": 50000}, {\"institution\": \"Birmingham Museums Trust\", \"subcollection\": \"Art & Design Collection\", \"sector\": \"regional\", \"type\": \"museum\", \"topic\": \"art\", \"precision\": \"estimate\", \"artefact_count\": 58805}, {\"institution\": \"Birmingham Museums Trust\", \"subcollection\": \"Art & Design Collection\", \"sector\": \"regional\", \"type\": \"museum\", \"topic\": \"history\", \"precision\": \"estimate\", \"artefact_count\": 230000}, {\"institution\": \"Birmingham Museums Trust\", \"subcollection\": \"Natural Science Collection\", \"sector\": \"regional\", \"type\": \"museum\", \"topic\": \"natural-history\", \"precision\": \"estimate\", \"artefact_count\": 250000}, {\"institution\": \"Birmingham Museums Trust\", \"subcollection\": \"Science and Industry Collection\", \"sector\": \"regional\", \"type\": \"museum\", \"topic\": \"industry\", \"precision\": \"estimate\", \"artefact_count\": 40000}, {\"institution\": \"Culture Coventry\", \"subcollection\": \"Herbert Art Gallery & Museum\", \"sector\": \"regional\", \"type\": \"museum\", \"topic\": \"mixed\", \"precision\": \"estimate\", \"artefact_count\": 320000}, {\"institution\": \"Heritage Doncaster\", \"subcollection\": \"Fine Art Collection\", \"sector\": \"regional\", \"type\": \"museum\", \"topic\": \"art\", \"precision\": \"estimate\", \"artefact_count\": 1750}, {\"institution\": \"Heritage Doncaster\", \"subcollection\": \"Social History Collection\", \"sector\": \"regional\", \"type\": \"museum\", \"topic\": \"social\", \"precision\": \"estimate\", \"artefact_count\": 20000}, {\"institution\": \"Heritage Doncaster\", \"subcollection\": \"Decorative Art Collection\", \"sector\": \"regional\", \"type\": \"museum\", \"topic\": \"art\", \"precision\": \"estimate\", \"artefact_count\": 5000}, {\"institution\": \"Heritage Doncaster\", \"subcollection\": \"Natural Sciences Collection\", \"sector\": \"regional\", \"type\": \"museum\", \"topic\": \"art\", \"precision\": \"estimate\", \"artefact_count\": 380000}, {\"institution\": \"Leeds Museums & Galleries\", \"subcollection\": \"Natural Science Collection\", \"sector\": \"regional\", \"type\": \"museum\", \"topic\": \"nature\", \"precision\": \"estimate\", \"artefact_count\": 800000}, {\"institution\": \"Leeds Museums & Galleries\", \"subcollection\": \"Social History Collection\", \"sector\": \"regional\", \"type\": \"museum\", \"topic\": \"social\", \"precision\": \"estimate\", \"artefact_count\": 100000}, {\"institution\": \"Leeds Museums & Galleries\", \"subcollection\": \"World Cultures\", \"sector\": \"regional\", \"type\": \"museum\", \"topic\": \"history\", \"precision\": \"estimate\", \"artefact_count\": 12000}, {\"institution\": \"Northhampton Museums\", \"subcollection\": \"Ethnography\", \"sector\": \"regional\", \"type\": \"museum\", \"topic\": \"social\", \"precision\": \"estimate\", \"artefact_count\": 524}, {\"institution\": \"Northhampton Museums\", \"subcollection\": \"Geology\", \"sector\": \"regional\", \"type\": \"museum\", \"topic\": \"geology\", \"precision\": \"estimate\", \"artefact_count\": 40000}, {\"institution\": \"Northhampton Museums\", \"subcollection\": \"Fine Art\", \"sector\": \"regional\", \"type\": \"museum\", \"topic\": \"art\", \"precision\": \"estimate\", \"artefact_count\": 3500}]}}, {\"mode\": \"vega-lite\"});\n",
       "</script>"
      ],
      "text/plain": [
       "alt.Chart(...)"
      ]
     },
     "execution_count": 25,
     "metadata": {},
     "output_type": "execute_result"
    }
   ],
   "source": [
    "import altair as alt\n",
    "\n",
    "title = alt.TitleParams('Artefacts per institution by named sub-collections', anchor='middle')\n",
    "alt.Chart(artefacts_sub_df, title=title).mark_bar().encode(\n",
    "        alt.Color('subcollection:N').legend(orient=\"bottom\", columns=4, titleOrient=\"left\"),\n",
    "    column='precision:O',\n",
    "    tooltip=['institution','subcollection','artefact_count'],\n",
    "    x='artefact_count:Q',\n",
    "    y='institution:N'\n",
    ").properties(width=250).resolve_scale(x='independent').configure(numberFormat='.2s')"
   ]
  }
 ],
 "metadata": {
  "kernelspec": {
   "display_name": "Python 3 (ipykernel)",
   "language": "python",
   "name": "python3"
  },
  "language_info": {
   "codemirror_mode": {
    "name": "ipython",
    "version": 3
   },
   "file_extension": ".py",
   "mimetype": "text/x-python",
   "name": "python",
   "nbconvert_exporter": "python",
   "pygments_lexer": "ipython3",
   "version": "3.9.18"
  }
 },
 "nbformat": 4,
 "nbformat_minor": 5
}
