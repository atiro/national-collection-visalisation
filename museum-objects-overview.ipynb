{
 "cells": [
  {
   "cell_type": "code",
   "execution_count": 16,
   "id": "bc077a0d-3cac-4f63-8b00-fa6d878fe2a7",
   "metadata": {
    "editable": true,
    "slideshow": {
     "slide_type": ""
    },
    "tags": [
     "remove-cell"
    ]
   },
   "outputs": [],
   "source": [
    "import pandas as pd\n",
    "import altair as alt\n",
    "artefacts_type_df = pd.read_csv(\"artefacts-type-overview-stats.csv\")\n",
    "\n",
    "museum_artefacts_df = artefacts_type_df.query('type == \"object\"')\n",
    "\n",
    "museum_unknown_artefacts_df = museum_artefacts_df[museum_artefacts_df['artefact_count'] == 0]\n",
    "\n",
    "# Filter out zero ones as no point showing them (and also indicates we don't have stats)\n",
    "\n",
    "museum_artefacts_df = museum_artefacts_df[museum_artefacts_df['artefact_count'] > 0]\n"
   ]
  },
  {
   "cell_type": "markdown",
   "id": "e69b7740-50d5-483c-bf12-37b833d9ca4d",
   "metadata": {
    "editable": true,
    "slideshow": {
     "slide_type": ""
    },
    "tags": []
   },
   "source": [
    "# Museum Objects Overview\n",
    "\n",
    "An overview of artefacts held in museums"
   ]
  },
  {
   "cell_type": "code",
   "execution_count": 9,
   "id": "8289009d-d8cb-4bdf-9cef-5cb6538904dc",
   "metadata": {
    "editable": true,
    "slideshow": {
     "slide_type": ""
    },
    "tags": [
     "remove-cell"
    ]
   },
   "outputs": [],
   "source": [
    "#    x='artefact_count',\n",
    "#alt.Chart(museum_unknown_artefacts_df).mark_bar().encode(\n",
    "#    y='institution',\n",
    "#).resolve_scale(x='independent').properties(width=200).configure(numberFormat='.2s')\n",
    "#    tooltip='institution'"
   ]
  },
  {
   "cell_type": "code",
   "execution_count": 14,
   "id": "89073ee0-2028-414e-a96f-51f19b3396b8",
   "metadata": {
    "editable": true,
    "slideshow": {
     "slide_type": ""
    },
    "tags": [
     "remove-input",
     "full-width"
    ]
   },
   "outputs": [
    {
     "data": {
      "text/html": [
       "\n",
       "<style>\n",
       "  #altair-viz-c207d0a0a68f4a57afdbdd818c4dc0cd.vega-embed {\n",
       "    width: 100%;\n",
       "    display: flex;\n",
       "  }\n",
       "\n",
       "  #altair-viz-c207d0a0a68f4a57afdbdd818c4dc0cd.vega-embed details,\n",
       "  #altair-viz-c207d0a0a68f4a57afdbdd818c4dc0cd.vega-embed details summary {\n",
       "    position: relative;\n",
       "  }\n",
       "</style>\n",
       "<div id=\"altair-viz-c207d0a0a68f4a57afdbdd818c4dc0cd\"></div>\n",
       "<script type=\"text/javascript\">\n",
       "  var VEGA_DEBUG = (typeof VEGA_DEBUG == \"undefined\") ? {} : VEGA_DEBUG;\n",
       "  (function(spec, embedOpt){\n",
       "    let outputDiv = document.currentScript.previousElementSibling;\n",
       "    if (outputDiv.id !== \"altair-viz-c207d0a0a68f4a57afdbdd818c4dc0cd\") {\n",
       "      outputDiv = document.getElementById(\"altair-viz-c207d0a0a68f4a57afdbdd818c4dc0cd\");\n",
       "    }\n",
       "    const paths = {\n",
       "      \"vega\": \"https://cdn.jsdelivr.net/npm/vega@5?noext\",\n",
       "      \"vega-lib\": \"https://cdn.jsdelivr.net/npm/vega-lib?noext\",\n",
       "      \"vega-lite\": \"https://cdn.jsdelivr.net/npm/vega-lite@5.17.0?noext\",\n",
       "      \"vega-embed\": \"https://cdn.jsdelivr.net/npm/vega-embed@6?noext\",\n",
       "    };\n",
       "\n",
       "    function maybeLoadScript(lib, version) {\n",
       "      var key = `${lib.replace(\"-\", \"\")}_version`;\n",
       "      return (VEGA_DEBUG[key] == version) ?\n",
       "        Promise.resolve(paths[lib]) :\n",
       "        new Promise(function(resolve, reject) {\n",
       "          var s = document.createElement('script');\n",
       "          document.getElementsByTagName(\"head\")[0].appendChild(s);\n",
       "          s.async = true;\n",
       "          s.onload = () => {\n",
       "            VEGA_DEBUG[key] = version;\n",
       "            return resolve(paths[lib]);\n",
       "          };\n",
       "          s.onerror = () => reject(`Error loading script: ${paths[lib]}`);\n",
       "          s.src = paths[lib];\n",
       "        });\n",
       "    }\n",
       "\n",
       "    function showError(err) {\n",
       "      outputDiv.innerHTML = `<div class=\"error\" style=\"color:red;\">${err}</div>`;\n",
       "      throw err;\n",
       "    }\n",
       "\n",
       "    function displayChart(vegaEmbed) {\n",
       "      vegaEmbed(outputDiv, spec, embedOpt)\n",
       "        .catch(err => showError(`Javascript Error: ${err.message}<br>This usually means there's a typo in your chart specification. See the javascript console for the full traceback.`));\n",
       "    }\n",
       "\n",
       "    if(typeof define === \"function\" && define.amd) {\n",
       "      requirejs.config({paths});\n",
       "      require([\"vega-embed\"], displayChart, err => showError(`Error loading script: ${err.message}`));\n",
       "    } else {\n",
       "      maybeLoadScript(\"vega\", \"5\")\n",
       "        .then(() => maybeLoadScript(\"vega-lite\", \"5.17.0\"))\n",
       "        .then(() => maybeLoadScript(\"vega-embed\", \"6\"))\n",
       "        .catch(showError)\n",
       "        .then(() => displayChart(vegaEmbed));\n",
       "    }\n",
       "  })({\"config\": {\"view\": {\"continuousWidth\": 300, \"continuousHeight\": 300}, \"numberFormat\": \".2s\"}, \"data\": {\"name\": \"data-ec2a6fa974b0f5ef9f431dcf19b9851c\"}, \"mark\": {\"type\": \"bar\"}, \"encoding\": {\"color\": {\"field\": \"institution\", \"legend\": {\"orient\": \"bottom\", \"columns\": 4, \"titleOrient\": \"left\"}, \"type\": \"nominal\"}, \"column\": {\"field\": \"institution_type\", \"type\": \"nominal\"}, \"tooltip\": [{\"field\": \"institution\", \"type\": \"nominal\"}, {\"field\": \"artefact_count\", \"type\": \"quantitative\"}], \"x\": {\"field\": \"artefact_count\", \"type\": \"quantitative\"}, \"y\": {\"field\": \"topic\", \"type\": \"nominal\"}}, \"resolve\": {\"scale\": {\"x\": \"independent\"}}, \"title\": {\"text\": \"Museum Object Collections by topic\", \"anchor\": \"middle\"}, \"width\": 220, \"$schema\": \"https://vega.github.io/schema/vega-lite/v5.17.0.json\", \"datasets\": {\"data-ec2a6fa974b0f5ef9f431dcf19b9851c\": [{\"institution\": \"University of Cambridge\", \"sector\": \"museum\", \"institution_type\": \"university\", \"topic\": \"mixed\", \"type\": \"object\", \"level\": \"item\", \"precision\": \"estimate\", \"artefact_count\": 7000}, {\"institution\": \"Durham University\", \"sector\": \"museum\", \"institution_type\": \"university\", \"topic\": \"mixed\", \"type\": \"object\", \"level\": \"item\", \"precision\": \"estimate\", \"artefact_count\": 36000}, {\"institution\": \"University College London\", \"sector\": \"museum\", \"institution_type\": \"university\", \"topic\": \"mixed\", \"type\": \"object\", \"level\": \"item\", \"precision\": \"estimate\", \"artefact_count\": 164000}, {\"institution\": \"University of Manchester\", \"sector\": \"museum\", \"institution_type\": \"university\", \"topic\": \"mixed\", \"type\": \"object\", \"level\": \"item\", \"precision\": \"estimate\", \"artefact_count\": 4560000}, {\"institution\": \"University of Birmingham\", \"sector\": \"museum\", \"institution_type\": \"university\", \"topic\": \"mixed\", \"type\": \"object\", \"level\": \"item\", \"precision\": \"estimate\", \"artefact_count\": 250000}, {\"institution\": \"University of Bristol\", \"sector\": \"museum\", \"institution_type\": \"university\", \"topic\": \"mixed\", \"type\": \"object\", \"level\": \"item\", \"precision\": \"estimate\", \"artefact_count\": 100000}, {\"institution\": \"University of Leicester\", \"sector\": \"museum\", \"institution_type\": \"university\", \"topic\": \"mixed\", \"type\": \"object\", \"level\": \"item\", \"precision\": \"estimate\", \"artefact_count\": 25000}, {\"institution\": \"Royal College of Surgeons\", \"sector\": \"museum\", \"institution_type\": \"university\", \"topic\": \"medicine\", \"type\": \"object\", \"level\": \"item\", \"precision\": \"estimate\", \"artefact_count\": 3500}, {\"institution\": \"Amgueddfa Cymru (National Museum Wales)\", \"sector\": \"museum\", \"institution_type\": \"museum\", \"topic\": \"mixed\", \"type\": \"object\", \"level\": \"item\", \"precision\": \"estimate\", \"artefact_count\": 5054426}, {\"institution\": \"Historic Royal Palaces\", \"sector\": \"museum\", \"institution_type\": \"building\", \"topic\": \"mixed\", \"type\": \"object\", \"level\": \"item\", \"precision\": \"estimate\", \"artefact_count\": 60000}, {\"institution\": \"National Museums Scotland\", \"sector\": \"museum\", \"institution_type\": \"museum\", \"topic\": \"mixed\", \"type\": \"object\", \"level\": \"item\", \"precision\": \"estimate\", \"artefact_count\": 12000000}, {\"institution\": \"National Tramway Museum\", \"sector\": \"museum\", \"institution_type\": \"museum\", \"topic\": \"mixed\", \"type\": \"object\", \"level\": \"item\", \"precision\": \"estimate\", \"artefact_count\": 46690}, {\"institution\": \"Historic Environment Scotland\", \"sector\": \"museum\", \"institution_type\": \"museum\", \"topic\": \"heritage\", \"type\": \"object\", \"level\": \"item\", \"precision\": \"estimate\", \"artefact_count\": 41000}, {\"institution\": \"People's History Museum\", \"sector\": \"museum\", \"institution_type\": \"museum\", \"topic\": \"social\", \"type\": \"object\", \"level\": \"item\", \"precision\": \"estimate\", \"artefact_count\": 5680}, {\"institution\": \"Portable Antiquities Scheme\", \"sector\": \"museum\", \"institution_type\": \"museum\", \"topic\": \"archaeology\", \"type\": \"object\", \"level\": \"item\", \"precision\": \"estimate\", \"artefact_count\": 1751232}, {\"institution\": \"Royal Botanic Gardens Kew\", \"sector\": \"museum\", \"institution_type\": \"museum\", \"topic\": \"nature\", \"type\": \"object\", \"level\": \"item\", \"precision\": \"estimate\", \"artefact_count\": 7000000}, {\"institution\": \"Royal Collection\", \"sector\": \"museum\", \"institution_type\": \"museum\", \"topic\": \"art\", \"type\": \"object\", \"level\": \"item\", \"precision\": \"estimate\", \"artefact_count\": 1000000}, {\"institution\": \"Royal Academy of Arts\", \"sector\": \"museum\", \"institution_type\": \"gallery\", \"topic\": \"art\", \"type\": \"object\", \"level\": \"item\", \"precision\": \"estimate\", \"artefact_count\": 31985}, {\"institution\": \"William Morris Gallery\", \"sector\": \"museum\", \"institution_type\": \"gallery\", \"topic\": \"art\", \"type\": \"object\", \"level\": \"item\", \"precision\": \"estimate\", \"artefact_count\": 10000}, {\"institution\": \"Manchester Jewish Museum\", \"sector\": \"museum\", \"institution_type\": \"museum\", \"topic\": \"social\", \"type\": \"object\", \"level\": \"item\", \"precision\": \"estimate\", \"artefact_count\": 31000}, {\"institution\": \"Mary Rose Trust\", \"sector\": \"museum\", \"institution_type\": \"museum\", \"topic\": \"maritime\", \"type\": \"object\", \"level\": \"item\", \"precision\": \"estimate\", \"artefact_count\": 19000}, {\"institution\": \"Food Museum\", \"sector\": \"museum\", \"institution_type\": \"museum\", \"topic\": \"social\", \"type\": \"object\", \"level\": \"item\", \"precision\": \"estimate\", \"artefact_count\": 40000}, {\"institution\": \"Pier Arts Centre\", \"sector\": \"museum\", \"institution_type\": \"gallery\", \"topic\": \"art\", \"type\": \"object\", \"level\": \"item\", \"precision\": \"estimate\", \"artefact_count\": 180}, {\"institution\": \"Postal Museum\", \"sector\": \"museum\", \"institution_type\": \"museum\", \"topic\": \"social\", \"type\": \"object\", \"level\": \"item\", \"precision\": \"estimate\", \"artefact_count\": 60000}, {\"institution\": \"Royal Scottish Academy of Art & Architecture\", \"sector\": \"museum\", \"institution_type\": \"museum\", \"topic\": \"art\", \"type\": \"object\", \"level\": \"item\", \"precision\": \"estimate\", \"artefact_count\": 9000}, {\"institution\": \"Wellcome Collection\", \"sector\": \"museum\", \"institution_type\": \"museum\", \"topic\": \"medicine\", \"type\": \"object\", \"level\": \"item\", \"precision\": \"estimate\", \"artefact_count\": 250000}, {\"institution\": \"Birmingham Museums Trust\", \"sector\": \"museum\", \"institution_type\": \"museum\", \"topic\": \"art\", \"type\": \"object\", \"level\": \"item\", \"precision\": \"estimate\", \"artefact_count\": 800000}, {\"institution\": \"Black Country Living Museum\", \"sector\": \"museum\", \"institution_type\": \"museum\", \"topic\": \"history\", \"type\": \"object\", \"level\": \"item\", \"precision\": \"estimate\", \"artefact_count\": 80000}, {\"institution\": \"Bradford District Museums & Galleries\", \"sector\": \"museum\", \"institution_type\": \"museum\", \"topic\": \"mixed\", \"type\": \"object\", \"level\": \"item\", \"precision\": \"estimate\", \"artefact_count\": 387837}, {\"institution\": \"Culture Coventry\", \"sector\": \"museum\", \"institution_type\": \"museum\", \"topic\": \"mixed\", \"type\": \"object\", \"level\": \"item\", \"precision\": \"estimate\", \"artefact_count\": 670}, {\"institution\": \"Culture Trust Luton\", \"sector\": \"museum\", \"institution_type\": \"museum\", \"topic\": \"mixed\", \"type\": \"object\", \"level\": \"item\", \"precision\": \"estimate\", \"artefact_count\": 5051}, {\"institution\": \"Elgin Museum\", \"sector\": \"museum\", \"institution_type\": \"museum\", \"topic\": \"mixed\", \"type\": \"object\", \"level\": \"item\", \"precision\": \"estimate\", \"artefact_count\": 36000}, {\"institution\": \"Glasgow Museums\", \"sector\": \"museum\", \"institution_type\": \"museum\", \"topic\": \"mixed\", \"type\": \"object\", \"level\": \"item\", \"precision\": \"estimate\", \"artefact_count\": 1000000}, {\"institution\": \"Heritage Doncaster\", \"sector\": \"museum\", \"institution_type\": \"museum\", \"topic\": \"mixed\", \"type\": \"object\", \"level\": \"item\", \"precision\": \"estimate\", \"artefact_count\": 405000}, {\"institution\": \"Highland Folk Museum\", \"sector\": \"museum\", \"institution_type\": \"museum\", \"topic\": \"social\", \"type\": \"object\", \"level\": \"item\", \"precision\": \"estimate\", \"artefact_count\": 10000}, {\"institution\": \"Leeds Museums & Galleries\", \"sector\": \"museum\", \"institution_type\": \"museum\", \"topic\": \"mixed\", \"type\": \"object\", \"level\": \"item\", \"precision\": \"estimate\", \"artefact_count\": 1300000}, {\"institution\": \"Leicester Museums\", \"sector\": \"museum\", \"institution_type\": \"museum\", \"topic\": \"mixed\", \"type\": \"object\", \"level\": \"item\", \"precision\": \"estimate\", \"artefact_count\": 1500000}, {\"institution\": \"Manchester Art Gallery\", \"sector\": \"museum\", \"institution_type\": \"gallery\", \"topic\": \"art\", \"type\": \"object\", \"level\": \"item\", \"precision\": \"estimate\", \"artefact_count\": 50000}, {\"institution\": \"Edinburgh Museums\", \"sector\": \"museum\", \"institution_type\": \"museum\", \"topic\": \"mixed\", \"type\": \"object\", \"level\": \"item\", \"precision\": \"estimate\", \"artefact_count\": 220000}, {\"institution\": \"Museums Northhumberland\", \"sector\": \"museum\", \"institution_type\": \"museum\", \"topic\": \"mixed\", \"type\": \"object\", \"level\": \"item\", \"precision\": \"estimate\", \"artefact_count\": 25000}, {\"institution\": \"Northhampton Museums\", \"sector\": \"museum\", \"institution_type\": \"museum\", \"topic\": \"mixed\", \"type\": \"object\", \"level\": \"item\", \"precision\": \"estimate\", \"artefact_count\": 44024}, {\"institution\": \"Poole Museums\", \"sector\": \"museum\", \"institution_type\": \"museum\", \"topic\": \"mixed\", \"type\": \"object\", \"level\": \"item\", \"precision\": \"estimate\", \"artefact_count\": 50000}, {\"institution\": \"Potteries Museum and Art Gallery\", \"sector\": \"museum\", \"institution_type\": \"museum\", \"topic\": \"art\", \"type\": \"object\", \"level\": \"item\", \"precision\": \"estimate\", \"artefact_count\": 1000000}, {\"institution\": \"Preston Park Museum & Grounds\", \"sector\": \"museum\", \"institution_type\": \"museum\", \"topic\": \"social\", \"type\": \"object\", \"level\": \"item\", \"precision\": \"estimate\", \"artefact_count\": 100000}, {\"institution\": \"Ripon Museums\", \"sector\": \"museum\", \"institution_type\": \"museum\", \"topic\": \"social\", \"type\": \"object\", \"level\": \"item\", \"precision\": \"estimate\", \"artefact_count\": 9000}, {\"institution\": \"Salisbury Museum\", \"sector\": \"museum\", \"institution_type\": \"museum\", \"topic\": \"mixed\", \"type\": \"object\", \"level\": \"item\", \"precision\": \"estimate\", \"artefact_count\": 100000}, {\"institution\": \"Wakefield Museums and Castles Collections\", \"sector\": \"museum\", \"institution_type\": \"museum\", \"topic\": \"mixed\", \"type\": \"object\", \"level\": \"item\", \"precision\": \"estimate\", \"artefact_count\": 111000}, {\"institution\": \"Weald and Downland Living Museum\", \"sector\": \"museum\", \"institution_type\": \"museum\", \"topic\": \"mixed\", \"type\": \"object\", \"level\": \"item\", \"precision\": \"estimate\", \"artefact_count\": 15000}, {\"institution\": \"Victoria & Albert Museum\", \"sector\": \"museum\", \"institution_type\": \"museum\", \"topic\": \"art\", \"type\": \"object\", \"level\": \"item\", \"precision\": \"estimate\", \"artefact_count\": 1691513}, {\"institution\": \"National Gallery\", \"sector\": \"museum\", \"institution_type\": \"gallery\", \"topic\": \"art\", \"type\": \"object\", \"level\": \"item\", \"precision\": \"exact\", \"artefact_count\": 2626}, {\"institution\": \"Natural History Museum\", \"sector\": \"museum\", \"institution_type\": \"museum\", \"topic\": \"nature\", \"type\": \"object\", \"level\": \"item\", \"precision\": \"estimate\", \"artefact_count\": 80000000}, {\"institution\": \"The Wallace Collection\", \"sector\": \"museum\", \"institution_type\": \"museum\", \"topic\": \"art\", \"type\": \"object\", \"level\": \"item\", \"precision\": \"exact\", \"artefact_count\": 5637}, {\"institution\": \"British Museum\", \"sector\": \"museum\", \"institution_type\": \"museum\", \"topic\": \"history\", \"type\": \"object\", \"level\": \"item\", \"precision\": \"estimate\", \"artefact_count\": 8000000}]}}, {\"mode\": \"vega-lite\"});\n",
       "</script>"
      ],
      "text/plain": [
       "alt.Chart(...)"
      ]
     },
     "execution_count": 14,
     "metadata": {},
     "output_type": "execute_result"
    }
   ],
   "source": [
    "title = alt.TitleParams('Museum Object Collections by topic', anchor='middle')\n",
    "alt.Chart(museum_artefacts_df,title=title).mark_bar().encode(\n",
    "        alt.Color('institution:N').legend(orient=\"bottom\", columns=4, titleOrient=\"left\"),\n",
    "    x='artefact_count:Q',\n",
    "    tooltip=['institution', 'artefact_count'],\n",
    "    y='topic:N',\n",
    "    column='institution_type'\n",
    ").properties(width=220).resolve_scale(x='independent').configure(numberFormat='.2s')"
   ]
  },
  {
   "cell_type": "markdown",
   "id": "22713c87-8bc9-4003-ae2c-5d6d856b9e08",
   "metadata": {
    "editable": true,
    "slideshow": {
     "slide_type": ""
    },
    "tags": []
   },
   "source": [
    "## Museum Object Collections by topic and precision"
   ]
  },
  {
   "cell_type": "code",
   "execution_count": 17,
   "id": "f3d67ee1-989d-4883-8137-715e6c40f660",
   "metadata": {
    "editable": true,
    "slideshow": {
     "slide_type": ""
    },
    "tags": [
     "hide-input",
     "full-width"
    ]
   },
   "outputs": [
    {
     "data": {
      "text/html": [
       "\n",
       "<style>\n",
       "  #altair-viz-ff77963a9da644259e846b7e16cf6156.vega-embed {\n",
       "    width: 100%;\n",
       "    display: flex;\n",
       "  }\n",
       "\n",
       "  #altair-viz-ff77963a9da644259e846b7e16cf6156.vega-embed details,\n",
       "  #altair-viz-ff77963a9da644259e846b7e16cf6156.vega-embed details summary {\n",
       "    position: relative;\n",
       "  }\n",
       "</style>\n",
       "<div id=\"altair-viz-ff77963a9da644259e846b7e16cf6156\"></div>\n",
       "<script type=\"text/javascript\">\n",
       "  var VEGA_DEBUG = (typeof VEGA_DEBUG == \"undefined\") ? {} : VEGA_DEBUG;\n",
       "  (function(spec, embedOpt){\n",
       "    let outputDiv = document.currentScript.previousElementSibling;\n",
       "    if (outputDiv.id !== \"altair-viz-ff77963a9da644259e846b7e16cf6156\") {\n",
       "      outputDiv = document.getElementById(\"altair-viz-ff77963a9da644259e846b7e16cf6156\");\n",
       "    }\n",
       "    const paths = {\n",
       "      \"vega\": \"https://cdn.jsdelivr.net/npm/vega@5?noext\",\n",
       "      \"vega-lib\": \"https://cdn.jsdelivr.net/npm/vega-lib?noext\",\n",
       "      \"vega-lite\": \"https://cdn.jsdelivr.net/npm/vega-lite@5.17.0?noext\",\n",
       "      \"vega-embed\": \"https://cdn.jsdelivr.net/npm/vega-embed@6?noext\",\n",
       "    };\n",
       "\n",
       "    function maybeLoadScript(lib, version) {\n",
       "      var key = `${lib.replace(\"-\", \"\")}_version`;\n",
       "      return (VEGA_DEBUG[key] == version) ?\n",
       "        Promise.resolve(paths[lib]) :\n",
       "        new Promise(function(resolve, reject) {\n",
       "          var s = document.createElement('script');\n",
       "          document.getElementsByTagName(\"head\")[0].appendChild(s);\n",
       "          s.async = true;\n",
       "          s.onload = () => {\n",
       "            VEGA_DEBUG[key] = version;\n",
       "            return resolve(paths[lib]);\n",
       "          };\n",
       "          s.onerror = () => reject(`Error loading script: ${paths[lib]}`);\n",
       "          s.src = paths[lib];\n",
       "        });\n",
       "    }\n",
       "\n",
       "    function showError(err) {\n",
       "      outputDiv.innerHTML = `<div class=\"error\" style=\"color:red;\">${err}</div>`;\n",
       "      throw err;\n",
       "    }\n",
       "\n",
       "    function displayChart(vegaEmbed) {\n",
       "      vegaEmbed(outputDiv, spec, embedOpt)\n",
       "        .catch(err => showError(`Javascript Error: ${err.message}<br>This usually means there's a typo in your chart specification. See the javascript console for the full traceback.`));\n",
       "    }\n",
       "\n",
       "    if(typeof define === \"function\" && define.amd) {\n",
       "      requirejs.config({paths});\n",
       "      require([\"vega-embed\"], displayChart, err => showError(`Error loading script: ${err.message}`));\n",
       "    } else {\n",
       "      maybeLoadScript(\"vega\", \"5\")\n",
       "        .then(() => maybeLoadScript(\"vega-lite\", \"5.17.0\"))\n",
       "        .then(() => maybeLoadScript(\"vega-embed\", \"6\"))\n",
       "        .catch(showError)\n",
       "        .then(() => displayChart(vegaEmbed));\n",
       "    }\n",
       "  })({\"config\": {\"view\": {\"continuousWidth\": 300, \"continuousHeight\": 300}, \"numberFormat\": \".2s\"}, \"data\": {\"name\": \"data-232d901026643d8a0cee4131928ee18d\"}, \"mark\": {\"type\": \"bar\"}, \"encoding\": {\"color\": {\"field\": \"institution\", \"legend\": {\"orient\": \"bottom\", \"columns\": 4, \"titleOrient\": \"left\"}, \"type\": \"nominal\"}, \"column\": {\"field\": \"precision\", \"type\": \"ordinal\"}, \"tooltip\": [{\"field\": \"institution\", \"type\": \"nominal\"}, {\"field\": \"artefact_count\", \"type\": \"quantitative\"}], \"x\": {\"field\": \"artefact_count\", \"type\": \"quantitative\"}, \"y\": {\"field\": \"topic\", \"type\": \"nominal\"}}, \"resolve\": {\"scale\": {\"x\": \"independent\"}}, \"width\": 500, \"$schema\": \"https://vega.github.io/schema/vega-lite/v5.17.0.json\", \"datasets\": {\"data-232d901026643d8a0cee4131928ee18d\": [{\"institution\": \"University of Cambridge\", \"sector\": \"museum\", \"institution_type\": \"university\", \"topic\": \"mixed\", \"type\": \"object\", \"level\": \"item\", \"precision\": \"estimate\", \"artefact_count\": 7000}, {\"institution\": \"Durham University\", \"sector\": \"museum\", \"institution_type\": \"university\", \"topic\": \"mixed\", \"type\": \"object\", \"level\": \"item\", \"precision\": \"estimate\", \"artefact_count\": 36000}, {\"institution\": \"University College London\", \"sector\": \"museum\", \"institution_type\": \"university\", \"topic\": \"mixed\", \"type\": \"object\", \"level\": \"item\", \"precision\": \"estimate\", \"artefact_count\": 164000}, {\"institution\": \"University of Manchester\", \"sector\": \"museum\", \"institution_type\": \"university\", \"topic\": \"mixed\", \"type\": \"object\", \"level\": \"item\", \"precision\": \"estimate\", \"artefact_count\": 4560000}, {\"institution\": \"University of Birmingham\", \"sector\": \"museum\", \"institution_type\": \"university\", \"topic\": \"mixed\", \"type\": \"object\", \"level\": \"item\", \"precision\": \"estimate\", \"artefact_count\": 250000}, {\"institution\": \"University of Bristol\", \"sector\": \"museum\", \"institution_type\": \"university\", \"topic\": \"mixed\", \"type\": \"object\", \"level\": \"item\", \"precision\": \"estimate\", \"artefact_count\": 100000}, {\"institution\": \"University of Leicester\", \"sector\": \"museum\", \"institution_type\": \"university\", \"topic\": \"mixed\", \"type\": \"object\", \"level\": \"item\", \"precision\": \"estimate\", \"artefact_count\": 25000}, {\"institution\": \"Royal College of Surgeons\", \"sector\": \"museum\", \"institution_type\": \"university\", \"topic\": \"medicine\", \"type\": \"object\", \"level\": \"item\", \"precision\": \"estimate\", \"artefact_count\": 3500}, {\"institution\": \"Amgueddfa Cymru (National Museum Wales)\", \"sector\": \"museum\", \"institution_type\": \"museum\", \"topic\": \"mixed\", \"type\": \"object\", \"level\": \"item\", \"precision\": \"estimate\", \"artefact_count\": 5054426}, {\"institution\": \"Historic Royal Palaces\", \"sector\": \"museum\", \"institution_type\": \"building\", \"topic\": \"mixed\", \"type\": \"object\", \"level\": \"item\", \"precision\": \"estimate\", \"artefact_count\": 60000}, {\"institution\": \"National Museums Scotland\", \"sector\": \"museum\", \"institution_type\": \"museum\", \"topic\": \"mixed\", \"type\": \"object\", \"level\": \"item\", \"precision\": \"estimate\", \"artefact_count\": 12000000}, {\"institution\": \"National Tramway Museum\", \"sector\": \"museum\", \"institution_type\": \"museum\", \"topic\": \"mixed\", \"type\": \"object\", \"level\": \"item\", \"precision\": \"estimate\", \"artefact_count\": 46690}, {\"institution\": \"Historic Environment Scotland\", \"sector\": \"museum\", \"institution_type\": \"museum\", \"topic\": \"heritage\", \"type\": \"object\", \"level\": \"item\", \"precision\": \"estimate\", \"artefact_count\": 41000}, {\"institution\": \"People's History Museum\", \"sector\": \"museum\", \"institution_type\": \"museum\", \"topic\": \"social\", \"type\": \"object\", \"level\": \"item\", \"precision\": \"estimate\", \"artefact_count\": 5680}, {\"institution\": \"Portable Antiquities Scheme\", \"sector\": \"museum\", \"institution_type\": \"museum\", \"topic\": \"archaeology\", \"type\": \"object\", \"level\": \"item\", \"precision\": \"estimate\", \"artefact_count\": 1751232}, {\"institution\": \"Royal Botanic Gardens Kew\", \"sector\": \"museum\", \"institution_type\": \"museum\", \"topic\": \"nature\", \"type\": \"object\", \"level\": \"item\", \"precision\": \"estimate\", \"artefact_count\": 7000000}, {\"institution\": \"Royal Collection\", \"sector\": \"museum\", \"institution_type\": \"museum\", \"topic\": \"art\", \"type\": \"object\", \"level\": \"item\", \"precision\": \"estimate\", \"artefact_count\": 1000000}, {\"institution\": \"Royal Academy of Arts\", \"sector\": \"museum\", \"institution_type\": \"gallery\", \"topic\": \"art\", \"type\": \"object\", \"level\": \"item\", \"precision\": \"estimate\", \"artefact_count\": 31985}, {\"institution\": \"William Morris Gallery\", \"sector\": \"museum\", \"institution_type\": \"gallery\", \"topic\": \"art\", \"type\": \"object\", \"level\": \"item\", \"precision\": \"estimate\", \"artefact_count\": 10000}, {\"institution\": \"Linnaean Society\", \"sector\": \"museum\", \"institution_type\": \"society\", \"topic\": \"nature\", \"type\": \"object\", \"level\": \"item\", \"precision\": \"estimate\", \"artefact_count\": 14668}, {\"institution\": \"Manchester Jewish Museum\", \"sector\": \"museum\", \"institution_type\": \"museum\", \"topic\": \"social\", \"type\": \"object\", \"level\": \"item\", \"precision\": \"estimate\", \"artefact_count\": 31000}, {\"institution\": \"Mary Rose Trust\", \"sector\": \"museum\", \"institution_type\": \"museum\", \"topic\": \"maritime\", \"type\": \"object\", \"level\": \"item\", \"precision\": \"estimate\", \"artefact_count\": 19000}, {\"institution\": \"Food Museum\", \"sector\": \"museum\", \"institution_type\": \"museum\", \"topic\": \"social\", \"type\": \"object\", \"level\": \"item\", \"precision\": \"estimate\", \"artefact_count\": 40000}, {\"institution\": \"Pier Arts Centre\", \"sector\": \"museum\", \"institution_type\": \"gallery\", \"topic\": \"art\", \"type\": \"object\", \"level\": \"item\", \"precision\": \"estimate\", \"artefact_count\": 180}, {\"institution\": \"Postal Museum\", \"sector\": \"museum\", \"institution_type\": \"museum\", \"topic\": \"social\", \"type\": \"object\", \"level\": \"item\", \"precision\": \"estimate\", \"artefact_count\": 60000}, {\"institution\": \"Royal Scottish Academy of Art & Architecture\", \"sector\": \"museum\", \"institution_type\": \"museum\", \"topic\": \"art\", \"type\": \"object\", \"level\": \"item\", \"precision\": \"estimate\", \"artefact_count\": 9000}, {\"institution\": \"Wellcome Collection\", \"sector\": \"museum\", \"institution_type\": \"museum\", \"topic\": \"medicine\", \"type\": \"object\", \"level\": \"item\", \"precision\": \"estimate\", \"artefact_count\": 250000}, {\"institution\": \"Birmingham Museums Trust\", \"sector\": \"museum\", \"institution_type\": \"museum\", \"topic\": \"art\", \"type\": \"object\", \"level\": \"item\", \"precision\": \"estimate\", \"artefact_count\": 800000}, {\"institution\": \"Black Country Living Museum\", \"sector\": \"museum\", \"institution_type\": \"museum\", \"topic\": \"history\", \"type\": \"object\", \"level\": \"item\", \"precision\": \"estimate\", \"artefact_count\": 80000}, {\"institution\": \"Bradford District Museums & Galleries\", \"sector\": \"museum\", \"institution_type\": \"museum\", \"topic\": \"mixed\", \"type\": \"object\", \"level\": \"item\", \"precision\": \"estimate\", \"artefact_count\": 387837}, {\"institution\": \"Culture Coventry\", \"sector\": \"museum\", \"institution_type\": \"museum\", \"topic\": \"mixed\", \"type\": \"object\", \"level\": \"item\", \"precision\": \"estimate\", \"artefact_count\": 670}, {\"institution\": \"Culture Trust Luton\", \"sector\": \"museum\", \"institution_type\": \"museum\", \"topic\": \"mixed\", \"type\": \"object\", \"level\": \"item\", \"precision\": \"estimate\", \"artefact_count\": 5051}, {\"institution\": \"Elgin Museum\", \"sector\": \"museum\", \"institution_type\": \"museum\", \"topic\": \"mixed\", \"type\": \"object\", \"level\": \"item\", \"precision\": \"estimate\", \"artefact_count\": 36000}, {\"institution\": \"Glasgow Museums\", \"sector\": \"museum\", \"institution_type\": \"museum\", \"topic\": \"mixed\", \"type\": \"object\", \"level\": \"item\", \"precision\": \"estimate\", \"artefact_count\": 1000000}, {\"institution\": \"Heritage Doncaster\", \"sector\": \"museum\", \"institution_type\": \"museum\", \"topic\": \"mixed\", \"type\": \"object\", \"level\": \"item\", \"precision\": \"estimate\", \"artefact_count\": 405000}, {\"institution\": \"Highland Folk Museum\", \"sector\": \"museum\", \"institution_type\": \"museum\", \"topic\": \"social\", \"type\": \"object\", \"level\": \"item\", \"precision\": \"estimate\", \"artefact_count\": 10000}, {\"institution\": \"Leeds Museums & Galleries\", \"sector\": \"museum\", \"institution_type\": \"museum\", \"topic\": \"mixed\", \"type\": \"object\", \"level\": \"item\", \"precision\": \"estimate\", \"artefact_count\": 1300000}, {\"institution\": \"Leicester Museums\", \"sector\": \"museum\", \"institution_type\": \"museum\", \"topic\": \"mixed\", \"type\": \"object\", \"level\": \"item\", \"precision\": \"estimate\", \"artefact_count\": 1500000}, {\"institution\": \"Manchester Art Gallery\", \"sector\": \"museum\", \"institution_type\": \"gallery\", \"topic\": \"art\", \"type\": \"object\", \"level\": \"item\", \"precision\": \"estimate\", \"artefact_count\": 50000}, {\"institution\": \"Edinburgh Museums\", \"sector\": \"museum\", \"institution_type\": \"museum\", \"topic\": \"mixed\", \"type\": \"object\", \"level\": \"item\", \"precision\": \"estimate\", \"artefact_count\": 220000}, {\"institution\": \"Museums Northumberland\", \"sector\": \"museum\", \"institution_type\": \"museum\", \"topic\": \"mixed\", \"type\": \"object\", \"level\": \"item\", \"precision\": \"estimate\", \"artefact_count\": 25000}, {\"institution\": \"Northampton Museums\", \"sector\": \"museum\", \"institution_type\": \"museum\", \"topic\": \"mixed\", \"type\": \"object\", \"level\": \"item\", \"precision\": \"estimate\", \"artefact_count\": 44024}, {\"institution\": \"Poole Museums\", \"sector\": \"museum\", \"institution_type\": \"museum\", \"topic\": \"mixed\", \"type\": \"object\", \"level\": \"item\", \"precision\": \"estimate\", \"artefact_count\": 50000}, {\"institution\": \"Potteries Museum and Art Gallery\", \"sector\": \"museum\", \"institution_type\": \"museum\", \"topic\": \"art\", \"type\": \"object\", \"level\": \"item\", \"precision\": \"estimate\", \"artefact_count\": 1000000}, {\"institution\": \"Preston Park Museum & Grounds\", \"sector\": \"museum\", \"institution_type\": \"museum\", \"topic\": \"social\", \"type\": \"object\", \"level\": \"item\", \"precision\": \"estimate\", \"artefact_count\": 100000}, {\"institution\": \"Ripon Museums\", \"sector\": \"museum\", \"institution_type\": \"museum\", \"topic\": \"social\", \"type\": \"object\", \"level\": \"item\", \"precision\": \"estimate\", \"artefact_count\": 9000}, {\"institution\": \"Salisbury Museum\", \"sector\": \"museum\", \"institution_type\": \"museum\", \"topic\": \"mixed\", \"type\": \"object\", \"level\": \"item\", \"precision\": \"estimate\", \"artefact_count\": 100000}, {\"institution\": \"Wakefield Museums and Castles Collections\", \"sector\": \"museum\", \"institution_type\": \"museum\", \"topic\": \"mixed\", \"type\": \"object\", \"level\": \"item\", \"precision\": \"estimate\", \"artefact_count\": 111000}, {\"institution\": \"Weald and Downland Living Museum\", \"sector\": \"museum\", \"institution_type\": \"museum\", \"topic\": \"mixed\", \"type\": \"object\", \"level\": \"item\", \"precision\": \"estimate\", \"artefact_count\": 15000}, {\"institution\": \"Victoria & Albert Museum\", \"sector\": \"museum\", \"institution_type\": \"museum\", \"topic\": \"art\", \"type\": \"object\", \"level\": \"item\", \"precision\": \"estimate\", \"artefact_count\": 1691513}, {\"institution\": \"National Gallery\", \"sector\": \"museum\", \"institution_type\": \"gallery\", \"topic\": \"art\", \"type\": \"object\", \"level\": \"item\", \"precision\": \"exact\", \"artefact_count\": 2626}, {\"institution\": \"Natural History Museum\", \"sector\": \"museum\", \"institution_type\": \"museum\", \"topic\": \"nature\", \"type\": \"object\", \"level\": \"item\", \"precision\": \"estimate\", \"artefact_count\": 80000000}, {\"institution\": \"The Wallace Collection\", \"sector\": \"museum\", \"institution_type\": \"museum\", \"topic\": \"art\", \"type\": \"object\", \"level\": \"item\", \"precision\": \"exact\", \"artefact_count\": 5637}, {\"institution\": \"British Museum\", \"sector\": \"museum\", \"institution_type\": \"museum\", \"topic\": \"history\", \"type\": \"object\", \"level\": \"item\", \"precision\": \"estimate\", \"artefact_count\": 8000000}]}}, {\"mode\": \"vega-lite\"});\n",
       "</script>"
      ],
      "text/plain": [
       "alt.Chart(...)"
      ]
     },
     "execution_count": 17,
     "metadata": {},
     "output_type": "execute_result"
    }
   ],
   "source": [
    "title = alt.TitleParams('Museum Object Collections by topic and precision', anchor='middle')\n",
    "alt.Chart(museum_artefacts_df).mark_bar().encode(\n",
    "        alt.Color('institution:N').legend(orient=\"bottom\", columns=4, titleOrient=\"left\"),\n",
    "    column='precision:O',\n",
    "    x='artefact_count:Q',\n",
    "    tooltip=['institution', 'artefact_count'],\n",
    "    y='topic:N'\n",
    ").properties(width=500).resolve_scale(x='independent').configure(numberFormat='.2s')"
   ]
  },
  {
   "cell_type": "markdown",
   "id": "6e76c551-f8e0-4fcb-be0b-eab89b515ec1",
   "metadata": {
    "editable": true,
    "slideshow": {
     "slide_type": ""
    },
    "tags": []
   },
   "source": [
    "## Museum object by cataloguing type"
   ]
  },
  {
   "cell_type": "code",
   "execution_count": 18,
   "id": "4f2a7ca6-7a3a-4176-bf8b-b22250451b61",
   "metadata": {
    "editable": true,
    "slideshow": {
     "slide_type": ""
    },
    "tags": [
     "remove-input",
     "full-width"
    ]
   },
   "outputs": [
    {
     "data": {
      "text/html": [
       "\n",
       "<style>\n",
       "  #altair-viz-f0a3c4065345436d8f087778bb04ca63.vega-embed {\n",
       "    width: 100%;\n",
       "    display: flex;\n",
       "  }\n",
       "\n",
       "  #altair-viz-f0a3c4065345436d8f087778bb04ca63.vega-embed details,\n",
       "  #altair-viz-f0a3c4065345436d8f087778bb04ca63.vega-embed details summary {\n",
       "    position: relative;\n",
       "  }\n",
       "</style>\n",
       "<div id=\"altair-viz-f0a3c4065345436d8f087778bb04ca63\"></div>\n",
       "<script type=\"text/javascript\">\n",
       "  var VEGA_DEBUG = (typeof VEGA_DEBUG == \"undefined\") ? {} : VEGA_DEBUG;\n",
       "  (function(spec, embedOpt){\n",
       "    let outputDiv = document.currentScript.previousElementSibling;\n",
       "    if (outputDiv.id !== \"altair-viz-f0a3c4065345436d8f087778bb04ca63\") {\n",
       "      outputDiv = document.getElementById(\"altair-viz-f0a3c4065345436d8f087778bb04ca63\");\n",
       "    }\n",
       "    const paths = {\n",
       "      \"vega\": \"https://cdn.jsdelivr.net/npm/vega@5?noext\",\n",
       "      \"vega-lib\": \"https://cdn.jsdelivr.net/npm/vega-lib?noext\",\n",
       "      \"vega-lite\": \"https://cdn.jsdelivr.net/npm/vega-lite@5.17.0?noext\",\n",
       "      \"vega-embed\": \"https://cdn.jsdelivr.net/npm/vega-embed@6?noext\",\n",
       "    };\n",
       "\n",
       "    function maybeLoadScript(lib, version) {\n",
       "      var key = `${lib.replace(\"-\", \"\")}_version`;\n",
       "      return (VEGA_DEBUG[key] == version) ?\n",
       "        Promise.resolve(paths[lib]) :\n",
       "        new Promise(function(resolve, reject) {\n",
       "          var s = document.createElement('script');\n",
       "          document.getElementsByTagName(\"head\")[0].appendChild(s);\n",
       "          s.async = true;\n",
       "          s.onload = () => {\n",
       "            VEGA_DEBUG[key] = version;\n",
       "            return resolve(paths[lib]);\n",
       "          };\n",
       "          s.onerror = () => reject(`Error loading script: ${paths[lib]}`);\n",
       "          s.src = paths[lib];\n",
       "        });\n",
       "    }\n",
       "\n",
       "    function showError(err) {\n",
       "      outputDiv.innerHTML = `<div class=\"error\" style=\"color:red;\">${err}</div>`;\n",
       "      throw err;\n",
       "    }\n",
       "\n",
       "    function displayChart(vegaEmbed) {\n",
       "      vegaEmbed(outputDiv, spec, embedOpt)\n",
       "        .catch(err => showError(`Javascript Error: ${err.message}<br>This usually means there's a typo in your chart specification. See the javascript console for the full traceback.`));\n",
       "    }\n",
       "\n",
       "    if(typeof define === \"function\" && define.amd) {\n",
       "      requirejs.config({paths});\n",
       "      require([\"vega-embed\"], displayChart, err => showError(`Error loading script: ${err.message}`));\n",
       "    } else {\n",
       "      maybeLoadScript(\"vega\", \"5\")\n",
       "        .then(() => maybeLoadScript(\"vega-lite\", \"5.17.0\"))\n",
       "        .then(() => maybeLoadScript(\"vega-embed\", \"6\"))\n",
       "        .catch(showError)\n",
       "        .then(() => displayChart(vegaEmbed));\n",
       "    }\n",
       "  })({\"config\": {\"view\": {\"continuousWidth\": 300, \"continuousHeight\": 300}, \"numberFormat\": \".2s\"}, \"data\": {\"name\": \"data-232d901026643d8a0cee4131928ee18d\"}, \"mark\": {\"type\": \"bar\"}, \"encoding\": {\"color\": {\"field\": \"institution\", \"legend\": {\"orient\": \"bottom\", \"columns\": 4, \"titleOrient\": \"left\"}, \"type\": \"nominal\"}, \"column\": {\"field\": \"precision\", \"type\": \"ordinal\"}, \"tooltip\": [{\"field\": \"institution\", \"type\": \"nominal\"}, {\"field\": \"artefact_count\", \"type\": \"quantitative\"}], \"x\": {\"field\": \"artefact_count\", \"type\": \"quantitative\"}, \"y\": {\"field\": \"type\", \"type\": \"nominal\"}}, \"resolve\": {\"scale\": {\"x\": \"independent\"}}, \"width\": 600, \"$schema\": \"https://vega.github.io/schema/vega-lite/v5.17.0.json\", \"datasets\": {\"data-232d901026643d8a0cee4131928ee18d\": [{\"institution\": \"University of Cambridge\", \"sector\": \"museum\", \"institution_type\": \"university\", \"topic\": \"mixed\", \"type\": \"object\", \"level\": \"item\", \"precision\": \"estimate\", \"artefact_count\": 7000}, {\"institution\": \"Durham University\", \"sector\": \"museum\", \"institution_type\": \"university\", \"topic\": \"mixed\", \"type\": \"object\", \"level\": \"item\", \"precision\": \"estimate\", \"artefact_count\": 36000}, {\"institution\": \"University College London\", \"sector\": \"museum\", \"institution_type\": \"university\", \"topic\": \"mixed\", \"type\": \"object\", \"level\": \"item\", \"precision\": \"estimate\", \"artefact_count\": 164000}, {\"institution\": \"University of Manchester\", \"sector\": \"museum\", \"institution_type\": \"university\", \"topic\": \"mixed\", \"type\": \"object\", \"level\": \"item\", \"precision\": \"estimate\", \"artefact_count\": 4560000}, {\"institution\": \"University of Birmingham\", \"sector\": \"museum\", \"institution_type\": \"university\", \"topic\": \"mixed\", \"type\": \"object\", \"level\": \"item\", \"precision\": \"estimate\", \"artefact_count\": 250000}, {\"institution\": \"University of Bristol\", \"sector\": \"museum\", \"institution_type\": \"university\", \"topic\": \"mixed\", \"type\": \"object\", \"level\": \"item\", \"precision\": \"estimate\", \"artefact_count\": 100000}, {\"institution\": \"University of Leicester\", \"sector\": \"museum\", \"institution_type\": \"university\", \"topic\": \"mixed\", \"type\": \"object\", \"level\": \"item\", \"precision\": \"estimate\", \"artefact_count\": 25000}, {\"institution\": \"Royal College of Surgeons\", \"sector\": \"museum\", \"institution_type\": \"university\", \"topic\": \"medicine\", \"type\": \"object\", \"level\": \"item\", \"precision\": \"estimate\", \"artefact_count\": 3500}, {\"institution\": \"Amgueddfa Cymru (National Museum Wales)\", \"sector\": \"museum\", \"institution_type\": \"museum\", \"topic\": \"mixed\", \"type\": \"object\", \"level\": \"item\", \"precision\": \"estimate\", \"artefact_count\": 5054426}, {\"institution\": \"Historic Royal Palaces\", \"sector\": \"museum\", \"institution_type\": \"building\", \"topic\": \"mixed\", \"type\": \"object\", \"level\": \"item\", \"precision\": \"estimate\", \"artefact_count\": 60000}, {\"institution\": \"National Museums Scotland\", \"sector\": \"museum\", \"institution_type\": \"museum\", \"topic\": \"mixed\", \"type\": \"object\", \"level\": \"item\", \"precision\": \"estimate\", \"artefact_count\": 12000000}, {\"institution\": \"National Tramway Museum\", \"sector\": \"museum\", \"institution_type\": \"museum\", \"topic\": \"mixed\", \"type\": \"object\", \"level\": \"item\", \"precision\": \"estimate\", \"artefact_count\": 46690}, {\"institution\": \"Historic Environment Scotland\", \"sector\": \"museum\", \"institution_type\": \"museum\", \"topic\": \"heritage\", \"type\": \"object\", \"level\": \"item\", \"precision\": \"estimate\", \"artefact_count\": 41000}, {\"institution\": \"People's History Museum\", \"sector\": \"museum\", \"institution_type\": \"museum\", \"topic\": \"social\", \"type\": \"object\", \"level\": \"item\", \"precision\": \"estimate\", \"artefact_count\": 5680}, {\"institution\": \"Portable Antiquities Scheme\", \"sector\": \"museum\", \"institution_type\": \"museum\", \"topic\": \"archaeology\", \"type\": \"object\", \"level\": \"item\", \"precision\": \"estimate\", \"artefact_count\": 1751232}, {\"institution\": \"Royal Botanic Gardens Kew\", \"sector\": \"museum\", \"institution_type\": \"museum\", \"topic\": \"nature\", \"type\": \"object\", \"level\": \"item\", \"precision\": \"estimate\", \"artefact_count\": 7000000}, {\"institution\": \"Royal Collection\", \"sector\": \"museum\", \"institution_type\": \"museum\", \"topic\": \"art\", \"type\": \"object\", \"level\": \"item\", \"precision\": \"estimate\", \"artefact_count\": 1000000}, {\"institution\": \"Royal Academy of Arts\", \"sector\": \"museum\", \"institution_type\": \"gallery\", \"topic\": \"art\", \"type\": \"object\", \"level\": \"item\", \"precision\": \"estimate\", \"artefact_count\": 31985}, {\"institution\": \"William Morris Gallery\", \"sector\": \"museum\", \"institution_type\": \"gallery\", \"topic\": \"art\", \"type\": \"object\", \"level\": \"item\", \"precision\": \"estimate\", \"artefact_count\": 10000}, {\"institution\": \"Linnaean Society\", \"sector\": \"museum\", \"institution_type\": \"society\", \"topic\": \"nature\", \"type\": \"object\", \"level\": \"item\", \"precision\": \"estimate\", \"artefact_count\": 14668}, {\"institution\": \"Manchester Jewish Museum\", \"sector\": \"museum\", \"institution_type\": \"museum\", \"topic\": \"social\", \"type\": \"object\", \"level\": \"item\", \"precision\": \"estimate\", \"artefact_count\": 31000}, {\"institution\": \"Mary Rose Trust\", \"sector\": \"museum\", \"institution_type\": \"museum\", \"topic\": \"maritime\", \"type\": \"object\", \"level\": \"item\", \"precision\": \"estimate\", \"artefact_count\": 19000}, {\"institution\": \"Food Museum\", \"sector\": \"museum\", \"institution_type\": \"museum\", \"topic\": \"social\", \"type\": \"object\", \"level\": \"item\", \"precision\": \"estimate\", \"artefact_count\": 40000}, {\"institution\": \"Pier Arts Centre\", \"sector\": \"museum\", \"institution_type\": \"gallery\", \"topic\": \"art\", \"type\": \"object\", \"level\": \"item\", \"precision\": \"estimate\", \"artefact_count\": 180}, {\"institution\": \"Postal Museum\", \"sector\": \"museum\", \"institution_type\": \"museum\", \"topic\": \"social\", \"type\": \"object\", \"level\": \"item\", \"precision\": \"estimate\", \"artefact_count\": 60000}, {\"institution\": \"Royal Scottish Academy of Art & Architecture\", \"sector\": \"museum\", \"institution_type\": \"museum\", \"topic\": \"art\", \"type\": \"object\", \"level\": \"item\", \"precision\": \"estimate\", \"artefact_count\": 9000}, {\"institution\": \"Wellcome Collection\", \"sector\": \"museum\", \"institution_type\": \"museum\", \"topic\": \"medicine\", \"type\": \"object\", \"level\": \"item\", \"precision\": \"estimate\", \"artefact_count\": 250000}, {\"institution\": \"Birmingham Museums Trust\", \"sector\": \"museum\", \"institution_type\": \"museum\", \"topic\": \"art\", \"type\": \"object\", \"level\": \"item\", \"precision\": \"estimate\", \"artefact_count\": 800000}, {\"institution\": \"Black Country Living Museum\", \"sector\": \"museum\", \"institution_type\": \"museum\", \"topic\": \"history\", \"type\": \"object\", \"level\": \"item\", \"precision\": \"estimate\", \"artefact_count\": 80000}, {\"institution\": \"Bradford District Museums & Galleries\", \"sector\": \"museum\", \"institution_type\": \"museum\", \"topic\": \"mixed\", \"type\": \"object\", \"level\": \"item\", \"precision\": \"estimate\", \"artefact_count\": 387837}, {\"institution\": \"Culture Coventry\", \"sector\": \"museum\", \"institution_type\": \"museum\", \"topic\": \"mixed\", \"type\": \"object\", \"level\": \"item\", \"precision\": \"estimate\", \"artefact_count\": 670}, {\"institution\": \"Culture Trust Luton\", \"sector\": \"museum\", \"institution_type\": \"museum\", \"topic\": \"mixed\", \"type\": \"object\", \"level\": \"item\", \"precision\": \"estimate\", \"artefact_count\": 5051}, {\"institution\": \"Elgin Museum\", \"sector\": \"museum\", \"institution_type\": \"museum\", \"topic\": \"mixed\", \"type\": \"object\", \"level\": \"item\", \"precision\": \"estimate\", \"artefact_count\": 36000}, {\"institution\": \"Glasgow Museums\", \"sector\": \"museum\", \"institution_type\": \"museum\", \"topic\": \"mixed\", \"type\": \"object\", \"level\": \"item\", \"precision\": \"estimate\", \"artefact_count\": 1000000}, {\"institution\": \"Heritage Doncaster\", \"sector\": \"museum\", \"institution_type\": \"museum\", \"topic\": \"mixed\", \"type\": \"object\", \"level\": \"item\", \"precision\": \"estimate\", \"artefact_count\": 405000}, {\"institution\": \"Highland Folk Museum\", \"sector\": \"museum\", \"institution_type\": \"museum\", \"topic\": \"social\", \"type\": \"object\", \"level\": \"item\", \"precision\": \"estimate\", \"artefact_count\": 10000}, {\"institution\": \"Leeds Museums & Galleries\", \"sector\": \"museum\", \"institution_type\": \"museum\", \"topic\": \"mixed\", \"type\": \"object\", \"level\": \"item\", \"precision\": \"estimate\", \"artefact_count\": 1300000}, {\"institution\": \"Leicester Museums\", \"sector\": \"museum\", \"institution_type\": \"museum\", \"topic\": \"mixed\", \"type\": \"object\", \"level\": \"item\", \"precision\": \"estimate\", \"artefact_count\": 1500000}, {\"institution\": \"Manchester Art Gallery\", \"sector\": \"museum\", \"institution_type\": \"gallery\", \"topic\": \"art\", \"type\": \"object\", \"level\": \"item\", \"precision\": \"estimate\", \"artefact_count\": 50000}, {\"institution\": \"Edinburgh Museums\", \"sector\": \"museum\", \"institution_type\": \"museum\", \"topic\": \"mixed\", \"type\": \"object\", \"level\": \"item\", \"precision\": \"estimate\", \"artefact_count\": 220000}, {\"institution\": \"Museums Northumberland\", \"sector\": \"museum\", \"institution_type\": \"museum\", \"topic\": \"mixed\", \"type\": \"object\", \"level\": \"item\", \"precision\": \"estimate\", \"artefact_count\": 25000}, {\"institution\": \"Northampton Museums\", \"sector\": \"museum\", \"institution_type\": \"museum\", \"topic\": \"mixed\", \"type\": \"object\", \"level\": \"item\", \"precision\": \"estimate\", \"artefact_count\": 44024}, {\"institution\": \"Poole Museums\", \"sector\": \"museum\", \"institution_type\": \"museum\", \"topic\": \"mixed\", \"type\": \"object\", \"level\": \"item\", \"precision\": \"estimate\", \"artefact_count\": 50000}, {\"institution\": \"Potteries Museum and Art Gallery\", \"sector\": \"museum\", \"institution_type\": \"museum\", \"topic\": \"art\", \"type\": \"object\", \"level\": \"item\", \"precision\": \"estimate\", \"artefact_count\": 1000000}, {\"institution\": \"Preston Park Museum & Grounds\", \"sector\": \"museum\", \"institution_type\": \"museum\", \"topic\": \"social\", \"type\": \"object\", \"level\": \"item\", \"precision\": \"estimate\", \"artefact_count\": 100000}, {\"institution\": \"Ripon Museums\", \"sector\": \"museum\", \"institution_type\": \"museum\", \"topic\": \"social\", \"type\": \"object\", \"level\": \"item\", \"precision\": \"estimate\", \"artefact_count\": 9000}, {\"institution\": \"Salisbury Museum\", \"sector\": \"museum\", \"institution_type\": \"museum\", \"topic\": \"mixed\", \"type\": \"object\", \"level\": \"item\", \"precision\": \"estimate\", \"artefact_count\": 100000}, {\"institution\": \"Wakefield Museums and Castles Collections\", \"sector\": \"museum\", \"institution_type\": \"museum\", \"topic\": \"mixed\", \"type\": \"object\", \"level\": \"item\", \"precision\": \"estimate\", \"artefact_count\": 111000}, {\"institution\": \"Weald and Downland Living Museum\", \"sector\": \"museum\", \"institution_type\": \"museum\", \"topic\": \"mixed\", \"type\": \"object\", \"level\": \"item\", \"precision\": \"estimate\", \"artefact_count\": 15000}, {\"institution\": \"Victoria & Albert Museum\", \"sector\": \"museum\", \"institution_type\": \"museum\", \"topic\": \"art\", \"type\": \"object\", \"level\": \"item\", \"precision\": \"estimate\", \"artefact_count\": 1691513}, {\"institution\": \"National Gallery\", \"sector\": \"museum\", \"institution_type\": \"gallery\", \"topic\": \"art\", \"type\": \"object\", \"level\": \"item\", \"precision\": \"exact\", \"artefact_count\": 2626}, {\"institution\": \"Natural History Museum\", \"sector\": \"museum\", \"institution_type\": \"museum\", \"topic\": \"nature\", \"type\": \"object\", \"level\": \"item\", \"precision\": \"estimate\", \"artefact_count\": 80000000}, {\"institution\": \"The Wallace Collection\", \"sector\": \"museum\", \"institution_type\": \"museum\", \"topic\": \"art\", \"type\": \"object\", \"level\": \"item\", \"precision\": \"exact\", \"artefact_count\": 5637}, {\"institution\": \"British Museum\", \"sector\": \"museum\", \"institution_type\": \"museum\", \"topic\": \"history\", \"type\": \"object\", \"level\": \"item\", \"precision\": \"estimate\", \"artefact_count\": 8000000}]}}, {\"mode\": \"vega-lite\"});\n",
       "</script>"
      ],
      "text/plain": [
       "alt.Chart(...)"
      ]
     },
     "execution_count": 18,
     "metadata": {},
     "output_type": "execute_result"
    }
   ],
   "source": [
    "title = alt.TitleParams('Museum Objects by cataloguing type', anchor='middle')\n",
    "alt.Chart(museum_artefacts_df).mark_bar().encode(\n",
    "        alt.Color('institution:N').legend(orient=\"bottom\", columns=4, titleOrient=\"left\"),\n",
    "    column='precision:O',\n",
    "    tooltip=['institution', 'artefact_count'],\n",
    "    x='artefact_count:Q',\n",
    "    y='type:N'\n",
    ").properties(width=600).resolve_scale(x='independent').configure(numberFormat='.2s')"
   ]
  },
  {
   "cell_type": "code",
   "execution_count": 2,
   "id": "04d15974-bb97-4926-bbe3-08e1088c0231",
   "metadata": {
    "editable": true,
    "slideshow": {
     "slide_type": ""
    },
    "tags": [
     "remove-input",
     "full-width"
    ]
   },
   "outputs": [
    {
     "data": {
      "text/html": [
       "\n",
       "<style>\n",
       "  #altair-viz-1ed6a210261741e991da47dee47272d3.vega-embed {\n",
       "    width: 100%;\n",
       "    display: flex;\n",
       "  }\n",
       "\n",
       "  #altair-viz-1ed6a210261741e991da47dee47272d3.vega-embed details,\n",
       "  #altair-viz-1ed6a210261741e991da47dee47272d3.vega-embed details summary {\n",
       "    position: relative;\n",
       "  }\n",
       "</style>\n",
       "<div id=\"altair-viz-1ed6a210261741e991da47dee47272d3\"></div>\n",
       "<script type=\"text/javascript\">\n",
       "  var VEGA_DEBUG = (typeof VEGA_DEBUG == \"undefined\") ? {} : VEGA_DEBUG;\n",
       "  (function(spec, embedOpt){\n",
       "    let outputDiv = document.currentScript.previousElementSibling;\n",
       "    if (outputDiv.id !== \"altair-viz-1ed6a210261741e991da47dee47272d3\") {\n",
       "      outputDiv = document.getElementById(\"altair-viz-1ed6a210261741e991da47dee47272d3\");\n",
       "    }\n",
       "    const paths = {\n",
       "      \"vega\": \"https://cdn.jsdelivr.net/npm/vega@5?noext\",\n",
       "      \"vega-lib\": \"https://cdn.jsdelivr.net/npm/vega-lib?noext\",\n",
       "      \"vega-lite\": \"https://cdn.jsdelivr.net/npm/vega-lite@5.17.0?noext\",\n",
       "      \"vega-embed\": \"https://cdn.jsdelivr.net/npm/vega-embed@6?noext\",\n",
       "    };\n",
       "\n",
       "    function maybeLoadScript(lib, version) {\n",
       "      var key = `${lib.replace(\"-\", \"\")}_version`;\n",
       "      return (VEGA_DEBUG[key] == version) ?\n",
       "        Promise.resolve(paths[lib]) :\n",
       "        new Promise(function(resolve, reject) {\n",
       "          var s = document.createElement('script');\n",
       "          document.getElementsByTagName(\"head\")[0].appendChild(s);\n",
       "          s.async = true;\n",
       "          s.onload = () => {\n",
       "            VEGA_DEBUG[key] = version;\n",
       "            return resolve(paths[lib]);\n",
       "          };\n",
       "          s.onerror = () => reject(`Error loading script: ${paths[lib]}`);\n",
       "          s.src = paths[lib];\n",
       "        });\n",
       "    }\n",
       "\n",
       "    function showError(err) {\n",
       "      outputDiv.innerHTML = `<div class=\"error\" style=\"color:red;\">${err}</div>`;\n",
       "      throw err;\n",
       "    }\n",
       "\n",
       "    function displayChart(vegaEmbed) {\n",
       "      vegaEmbed(outputDiv, spec, embedOpt)\n",
       "        .catch(err => showError(`Javascript Error: ${err.message}<br>This usually means there's a typo in your chart specification. See the javascript console for the full traceback.`));\n",
       "    }\n",
       "\n",
       "    if(typeof define === \"function\" && define.amd) {\n",
       "      requirejs.config({paths});\n",
       "      require([\"vega-embed\"], displayChart, err => showError(`Error loading script: ${err.message}`));\n",
       "    } else {\n",
       "      maybeLoadScript(\"vega\", \"5\")\n",
       "        .then(() => maybeLoadScript(\"vega-lite\", \"5.17.0\"))\n",
       "        .then(() => maybeLoadScript(\"vega-embed\", \"6\"))\n",
       "        .catch(showError)\n",
       "        .then(() => displayChart(vegaEmbed));\n",
       "    }\n",
       "  })({\"config\": {\"view\": {\"continuousWidth\": 300, \"continuousHeight\": 300}, \"numberFormat\": \".2s\"}, \"data\": {\"name\": \"data-10690d85aa8478b48dfce222002c4ea9\"}, \"mark\": {\"type\": \"bar\"}, \"encoding\": {\"column\": {\"field\": \"institution_type\", \"type\": \"nominal\"}, \"tooltip\": {\"field\": \"institution\", \"type\": \"nominal\"}, \"x\": {\"field\": \"artefact_count\", \"type\": \"quantitative\"}, \"y\": {\"field\": \"institution\", \"type\": \"nominal\"}}, \"resolve\": {\"scale\": {\"x\": \"independent\"}}, \"width\": 200, \"$schema\": \"https://vega.github.io/schema/vega-lite/v5.17.0.json\", \"datasets\": {\"data-10690d85aa8478b48dfce222002c4ea9\": [{\"institution\": \"University of Cambridge\", \"sector\": \"museum\", \"institution_type\": \"university\", \"topic\": \"mixed\", \"type\": \"object\", \"level\": \"item\", \"precision\": \"estimate\", \"artefact_count\": 7000}, {\"institution\": \"Durham University\", \"sector\": \"museum\", \"institution_type\": \"university\", \"topic\": \"mixed\", \"type\": \"object\", \"level\": \"item\", \"precision\": \"estimate\", \"artefact_count\": 36000}, {\"institution\": \"University College London\", \"sector\": \"museum\", \"institution_type\": \"university\", \"topic\": \"mixed\", \"type\": \"object\", \"level\": \"item\", \"precision\": \"estimate\", \"artefact_count\": 164000}, {\"institution\": \"University of Manchester\", \"sector\": \"museum\", \"institution_type\": \"university\", \"topic\": \"mixed\", \"type\": \"object\", \"level\": \"item\", \"precision\": \"estimate\", \"artefact_count\": 4560000}, {\"institution\": \"University of Birmingham\", \"sector\": \"museum\", \"institution_type\": \"university\", \"topic\": \"mixed\", \"type\": \"object\", \"level\": \"item\", \"precision\": \"estimate\", \"artefact_count\": 250000}, {\"institution\": \"University of Bristol\", \"sector\": \"museum\", \"institution_type\": \"university\", \"topic\": \"mixed\", \"type\": \"object\", \"level\": \"item\", \"precision\": \"estimate\", \"artefact_count\": 100000}, {\"institution\": \"University of Leicester\", \"sector\": \"museum\", \"institution_type\": \"university\", \"topic\": \"mixed\", \"type\": \"object\", \"level\": \"item\", \"precision\": \"estimate\", \"artefact_count\": 25000}, {\"institution\": \"Royal College of Surgeons\", \"sector\": \"museum\", \"institution_type\": \"university\", \"topic\": \"medicine\", \"type\": \"object\", \"level\": \"item\", \"precision\": \"estimate\", \"artefact_count\": 3500}, {\"institution\": \"Amgueddfa Cymru (National Museum Wales)\", \"sector\": \"museum\", \"institution_type\": \"museum\", \"topic\": \"mixed\", \"type\": \"object\", \"level\": \"item\", \"precision\": \"estimate\", \"artefact_count\": 5054426}, {\"institution\": \"Historic Royal Palaces\", \"sector\": \"museum\", \"institution_type\": \"building\", \"topic\": \"mixed\", \"type\": \"object\", \"level\": \"item\", \"precision\": \"estimate\", \"artefact_count\": 60000}, {\"institution\": \"National Museums Scotland\", \"sector\": \"museum\", \"institution_type\": \"museum\", \"topic\": \"mixed\", \"type\": \"object\", \"level\": \"item\", \"precision\": \"estimate\", \"artefact_count\": 12000000}, {\"institution\": \"National Tramway Museum\", \"sector\": \"museum\", \"institution_type\": \"museum\", \"topic\": \"mixed\", \"type\": \"object\", \"level\": \"item\", \"precision\": \"estimate\", \"artefact_count\": 46690}, {\"institution\": \"Historic Environment Scotland\", \"sector\": \"museum\", \"institution_type\": \"museum\", \"topic\": \"heritage\", \"type\": \"object\", \"level\": \"item\", \"precision\": \"estimate\", \"artefact_count\": 41000}, {\"institution\": \"People's History Museum\", \"sector\": \"museum\", \"institution_type\": \"museum\", \"topic\": \"social\", \"type\": \"object\", \"level\": \"item\", \"precision\": \"estimate\", \"artefact_count\": 5680}, {\"institution\": \"Portable Antiquities Scheme\", \"sector\": \"museum\", \"institution_type\": \"museum\", \"topic\": \"archaeology\", \"type\": \"object\", \"level\": \"item\", \"precision\": \"estimate\", \"artefact_count\": 1751232}, {\"institution\": \"Royal Botanic Gardens Kew\", \"sector\": \"museum\", \"institution_type\": \"museum\", \"topic\": \"nature\", \"type\": \"object\", \"level\": \"item\", \"precision\": \"estimate\", \"artefact_count\": 7000000}, {\"institution\": \"Royal Collection\", \"sector\": \"museum\", \"institution_type\": \"museum\", \"topic\": \"nature\", \"type\": \"object\", \"level\": \"item\", \"precision\": \"estimate\", \"artefact_count\": 1000000}, {\"institution\": \"Royal Academy of Arts\", \"sector\": \"museum\", \"institution_type\": \"gallery\", \"topic\": \"art\", \"type\": \"object\", \"level\": \"item\", \"precision\": \"estimate\", \"artefact_count\": 31985}, {\"institution\": \"William Morris Gallery\", \"sector\": \"museum\", \"institution_type\": \"gallery\", \"topic\": \"art\", \"type\": \"object\", \"level\": \"item\", \"precision\": \"estimate\", \"artefact_count\": 10000}, {\"institution\": \"Manchester Jewish Museum\", \"sector\": \"museum\", \"institution_type\": \"museum\", \"topic\": \"social\", \"type\": \"object\", \"level\": \"item\", \"precision\": \"estimate\", \"artefact_count\": 31000}, {\"institution\": \"Mary Rose Trust\", \"sector\": \"museum\", \"institution_type\": \"museum\", \"topic\": \"maritime\", \"type\": \"object\", \"level\": \"item\", \"precision\": \"estimate\", \"artefact_count\": 19000}, {\"institution\": \"Food Museum\", \"sector\": \"museum\", \"institution_type\": \"museum\", \"topic\": \"social\", \"type\": \"object\", \"level\": \"item\", \"precision\": \"estimate\", \"artefact_count\": 40000}, {\"institution\": \"Pier Arts Centre\", \"sector\": \"museum\", \"institution_type\": \"gallery\", \"topic\": \"art\", \"type\": \"object\", \"level\": \"item\", \"precision\": \"estimate\", \"artefact_count\": 180}, {\"institution\": \"Postal Museum\", \"sector\": \"museum\", \"institution_type\": \"museum\", \"topic\": \"social\", \"type\": \"object\", \"level\": \"item\", \"precision\": \"estimate\", \"artefact_count\": 60000}, {\"institution\": \"Royal Scottish Academy of Art & Architecture\", \"sector\": \"museum\", \"institution_type\": \"museum\", \"topic\": \"art\", \"type\": \"object\", \"level\": \"item\", \"precision\": \"estimate\", \"artefact_count\": 9000}, {\"institution\": \"Wellcome Collection\", \"sector\": \"museum\", \"institution_type\": \"museum\", \"topic\": \"medicine\", \"type\": \"object\", \"level\": \"item\", \"precision\": \"estimate\", \"artefact_count\": 250000}, {\"institution\": \"Birmingham Museums Trust\", \"sector\": \"museum\", \"institution_type\": \"museum\", \"topic\": \"art\", \"type\": \"object\", \"level\": \"item\", \"precision\": \"estimate\", \"artefact_count\": 800000}, {\"institution\": \"Black Country Living Museum\", \"sector\": \"museum\", \"institution_type\": \"museum\", \"topic\": \"history\", \"type\": \"object\", \"level\": \"item\", \"precision\": \"estimate\", \"artefact_count\": 80000}, {\"institution\": \"Bradford District Museums & Galleries\", \"sector\": \"museum\", \"institution_type\": \"museum\", \"topic\": \"mixed\", \"type\": \"object\", \"level\": \"item\", \"precision\": \"estimate\", \"artefact_count\": 387837}, {\"institution\": \"Culture Coventry\", \"sector\": \"museum\", \"institution_type\": \"museum\", \"topic\": \"mixed\", \"type\": \"object\", \"level\": \"item\", \"precision\": \"estimate\", \"artefact_count\": 670}, {\"institution\": \"Culture Trust Luton\", \"sector\": \"museum\", \"institution_type\": \"museum\", \"topic\": \"mixed\", \"type\": \"object\", \"level\": \"item\", \"precision\": \"estimate\", \"artefact_count\": 5051}, {\"institution\": \"Elgin Museum\", \"sector\": \"museum\", \"institution_type\": \"museum\", \"topic\": \"mixed\", \"type\": \"object\", \"level\": \"item\", \"precision\": \"estimate\", \"artefact_count\": 36000}, {\"institution\": \"Glasgow Museums\", \"sector\": \"museum\", \"institution_type\": \"museum\", \"topic\": \"mixed\", \"type\": \"object\", \"level\": \"item\", \"precision\": \"estimate\", \"artefact_count\": 1000000}, {\"institution\": \"Heritage Doncaster\", \"sector\": \"museum\", \"institution_type\": \"museum\", \"topic\": \"mixed\", \"type\": \"object\", \"level\": \"item\", \"precision\": \"estimate\", \"artefact_count\": 405000}, {\"institution\": \"Highland Folk Museum\", \"sector\": \"museum\", \"institution_type\": \"museum\", \"topic\": \"social\", \"type\": \"object\", \"level\": \"item\", \"precision\": \"estimate\", \"artefact_count\": 10000}, {\"institution\": \"Leeds Museums & Galleries\", \"sector\": \"museum\", \"institution_type\": \"museum\", \"topic\": \"mixed\", \"type\": \"object\", \"level\": \"item\", \"precision\": \"estimate\", \"artefact_count\": 1300000}, {\"institution\": \"Leicester Museums\", \"sector\": \"museum\", \"institution_type\": \"museum\", \"topic\": \"mixed\", \"type\": \"object\", \"level\": \"item\", \"precision\": \"estimate\", \"artefact_count\": 1500000}, {\"institution\": \"Manchester Art Gallery\", \"sector\": \"museum\", \"institution_type\": \"gallery\", \"topic\": \"art\", \"type\": \"object\", \"level\": \"item\", \"precision\": \"estimate\", \"artefact_count\": 50000}, {\"institution\": \"Edinburgh Museums\", \"sector\": \"museum\", \"institution_type\": \"museum\", \"topic\": \"mixed\", \"type\": \"object\", \"level\": \"item\", \"precision\": \"estimate\", \"artefact_count\": 220000}, {\"institution\": \"Museums Northhumberland\", \"sector\": \"museum\", \"institution_type\": \"museum\", \"topic\": \"mixed\", \"type\": \"object\", \"level\": \"item\", \"precision\": \"estimate\", \"artefact_count\": 25000}, {\"institution\": \"Northhampton Museums\", \"sector\": \"museum\", \"institution_type\": \"museum\", \"topic\": \"mixed\", \"type\": \"object\", \"level\": \"item\", \"precision\": \"estimate\", \"artefact_count\": 44024}, {\"institution\": \"Poole Museums\", \"sector\": \"museum\", \"institution_type\": \"museum\", \"topic\": \"mixed\", \"type\": \"object\", \"level\": \"item\", \"precision\": \"estimate\", \"artefact_count\": 50000}, {\"institution\": \"Potteries Museum and Art Gallery\", \"sector\": \"museum\", \"institution_type\": \"museum\", \"topic\": \"art\", \"type\": \"object\", \"level\": \"item\", \"precision\": \"estimate\", \"artefact_count\": 1000000}, {\"institution\": \"Preston Park Museum & Grounds\", \"sector\": \"museum\", \"institution_type\": \"museum\", \"topic\": \"social\", \"type\": \"object\", \"level\": \"item\", \"precision\": \"estimate\", \"artefact_count\": 100000}, {\"institution\": \"Ripon Museums\", \"sector\": \"museum\", \"institution_type\": \"museum\", \"topic\": \"social\", \"type\": \"object\", \"level\": \"item\", \"precision\": \"estimate\", \"artefact_count\": 9000}, {\"institution\": \"Salisbury Museum\", \"sector\": \"museum\", \"institution_type\": \"museum\", \"topic\": \"mixed\", \"type\": \"object\", \"level\": \"item\", \"precision\": \"estimate\", \"artefact_count\": 100000}, {\"institution\": \"Wakefield Museums and Castles Collections\", \"sector\": \"museum\", \"institution_type\": \"museum\", \"topic\": \"mixed\", \"type\": \"object\", \"level\": \"item\", \"precision\": \"estimate\", \"artefact_count\": 111000}, {\"institution\": \"Weald and Downland Living Museum\", \"sector\": \"museum\", \"institution_type\": \"museum\", \"topic\": \"mixed\", \"type\": \"object\", \"level\": \"item\", \"precision\": \"estimate\", \"artefact_count\": 15000}, {\"institution\": \"Victoria & Albert Museum\", \"sector\": \"museum\", \"institution_type\": \"museum\", \"topic\": \"art\", \"type\": \"object\", \"level\": \"item\", \"precision\": \"estimate\", \"artefact_count\": 1691513}, {\"institution\": \"National Gallery\", \"sector\": \"museum\", \"institution_type\": \"gallery\", \"topic\": \"art\", \"type\": \"object\", \"level\": \"item\", \"precision\": \"exact\", \"artefact_count\": 2626}, {\"institution\": \"The Wallace Collection\", \"sector\": \"museum\", \"institution_type\": \"museum\", \"topic\": \"art\", \"type\": \"object\", \"level\": \"item\", \"precision\": \"exact\", \"artefact_count\": 5637}, {\"institution\": \"British Museum\", \"sector\": \"museum\", \"institution_type\": \"museum\", \"topic\": \"history\", \"type\": \"object\", \"level\": \"item\", \"precision\": \"estimate\", \"artefact_count\": 8000000}]}}, {\"mode\": \"vega-lite\"});\n",
       "</script>"
      ],
      "text/plain": [
       "alt.Chart(...)"
      ]
     },
     "execution_count": 2,
     "metadata": {},
     "output_type": "execute_result"
    }
   ],
   "source": [
    "\n",
    "alt.Chart(museum_artefacts_df).mark_bar().encode(\n",
    "    x='artefact_count',\n",
    "    y='institution',\n",
    "    column='institution_type',\n",
    "    tooltip='institution'\n",
    ").resolve_scale(x='independent').properties(width=200).configure(numberFormat='.2s')\n"
   ]
  }
 ],
 "metadata": {
  "kernelspec": {
   "display_name": "Python 3 (ipykernel)",
   "language": "python",
   "name": "python3"
  },
  "language_info": {
   "codemirror_mode": {
    "name": "ipython",
    "version": 3
   },
   "file_extension": ".py",
   "mimetype": "text/x-python",
   "name": "python",
   "nbconvert_exporter": "python",
   "pygments_lexer": "ipython3",
   "version": "3.9.18"
  }
 },
 "nbformat": 4,
 "nbformat_minor": 5
}
